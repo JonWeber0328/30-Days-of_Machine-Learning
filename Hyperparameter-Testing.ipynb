{
 "cells": [
  {
   "cell_type": "code",
   "execution_count": 1,
   "metadata": {},
   "outputs": [],
   "source": [
    "# Imports\n",
    "import pandas as pd\n",
    "import numpy as np\n",
    "from sklearn import preprocessing\n",
    "from sklearn.model_selection import train_test_split\n",
    "from sklearn.ensemble import RandomForestRegressor, GradientBoostingRegressor\n",
    "from sklearn.metrics import mean_squared_error\n",
    "from xgboost import XGBRegressor\n",
    "import optuna"
   ]
  },
  {
   "cell_type": "code",
   "execution_count": 2,
   "metadata": {},
   "outputs": [],
   "source": [
    "# Model 1\n",
    "df = pd.read_csv(\"data/train_folds.csv\")\n",
    "df_test = pd.read_csv(\"data/test.csv\")\n",
    "sample_submission = pd.read_csv(\"data/sample_submission.csv\")\n",
    "\n",
    "useful_features = [c for c in df.columns if c not in (\"id\", \"target\", \"kfold\")]\n",
    "object_cols = [col for col in useful_features if 'cat' in col]\n",
    "numerical_cols = [col for col in useful_features if col.startswith(\"cont\")]\n",
    "df_test = df_test[useful_features]\n",
    "\n",
    "for col in numerical_cols:\n",
    "    df[col] = np.log1p(df[col])\n",
    "    df_test[col] = np.log1p(df_test[col])\n",
    "\n",
    "useful_features = [c for c in df.columns if c not in (\"id\", \"target\", \"kfold\")]\n",
    "object_cols = [col for col in useful_features if 'cat' in col]\n",
    "df_test = df_test[useful_features]\n"
   ]
  },
  {
   "cell_type": "code",
   "execution_count": 2,
   "metadata": {},
   "outputs": [],
   "source": [
    "def run(trial):\n",
    "    fold = 0\n",
    "    learning_rate = trial.suggest_float(\"learning_rate\", 1e-2, 0.25, log=True)\n",
    "    reg_lambda = trial.suggest_loguniform(\"reg_lambda\", 1e-8, 100.0)\n",
    "    reg_alpha = trial.suggest_loguniform(\"reg_alpha\", 1e-8, 100.0)\n",
    "    subsample = trial.suggest_float(\"subsample\", 0.1, 1.0)\n",
    "    colsample_bytree = trial.suggest_float(\"colsample_bytree\", 0.1, 1.0)\n",
    "    max_depth = trial.suggest_int(\"max_depth\", 1, 7)\n",
    "\n",
    "    xtrain = df[df.kfold != fold].reset_index(drop=True)\n",
    "    xvalid = df[df.kfold == fold].reset_index(drop=True)\n",
    "\n",
    "    ytrain = xtrain.target\n",
    "    yvalid = xvalid.target\n",
    "\n",
    "    xtrain = xtrain[useful_features]\n",
    "    xvalid = xvalid[useful_features]\n",
    "\n",
    "    ordinal_encoder = preprocessing.OrdinalEncoder()\n",
    "    xtrain[object_cols] = ordinal_encoder.fit_transform(xtrain[object_cols])\n",
    "    xvalid[object_cols] = ordinal_encoder.transform(xvalid[object_cols])\n",
    "\n",
    "    model = XGBRegressor(\n",
    "        random_state=42,\n",
    "        tree_method='gpu_hist',\n",
    "        gpu_id=1,\n",
    "        predictor=\"gpu_predictor\",\n",
    "        n_estimators=7000,\n",
    "        learning_rate=learning_rate,\n",
    "        reg_lambda=reg_lambda,\n",
    "        reg_alpha=reg_alpha,\n",
    "        subsample=subsample,\n",
    "        colsample_bytree=colsample_bytree,\n",
    "        max_depth=max_depth,\n",
    "    )\n",
    "    model.fit(xtrain, ytrain, early_stopping_rounds=300, eval_set=[(xvalid, yvalid)], verbose=1000)\n",
    "    preds_valid = model.predict(xvalid)\n",
    "    rmse = mean_squared_error(yvalid, preds_valid, squared=False)\n",
    "    return rmse"
   ]
  },
  {
   "cell_type": "code",
   "execution_count": 4,
   "metadata": {},
   "outputs": [
    {
     "name": "stderr",
     "output_type": "stream",
     "text": [
      "\u001b[32m[I 2021-08-29 17:16:26,798]\u001b[0m A new study created in memory with name: no-name-7dd346c2-e927-4a92-9cdf-0b59ce19e471\u001b[0m\n"
     ]
    },
    {
     "name": "stdout",
     "output_type": "stream",
     "text": [
      "[17:16:29] WARNING: C:/Users/Administrator/workspace/xgboost-win64_release_1.4.0/src/learner.cc:231: Only 1 GPUs are visible, setting `gpu_id` to 0\n",
      "[0]\tvalidation_0-rmse:7.64445\n",
      "[1000]\tvalidation_0-rmse:0.72663\n",
      "[2000]\tvalidation_0-rmse:0.72255\n",
      "[3000]\tvalidation_0-rmse:0.72050\n",
      "[4000]\tvalidation_0-rmse:0.71928\n",
      "[5000]\tvalidation_0-rmse:0.71856\n",
      "[6000]\tvalidation_0-rmse:0.71809\n",
      "[6999]\tvalidation_0-rmse:0.71783\n"
     ]
    },
    {
     "name": "stderr",
     "output_type": "stream",
     "text": [
      "\u001b[32m[I 2021-08-29 17:17:28,191]\u001b[0m Trial 0 finished with value: 0.7178241183314773 and parameters: {'learning_rate': 0.01756937523162302, 'reg_lambda': 1.0853151506759414e-07, 'reg_alpha': 2.5160929834612467, 'subsample': 0.6362270243609827, 'colsample_bytree': 0.3333421958988413, 'max_depth': 3}. Best is trial 0 with value: 0.7178241183314773.\u001b[0m\n"
     ]
    },
    {
     "name": "stdout",
     "output_type": "stream",
     "text": [
      "[17:17:29] WARNING: C:/Users/Administrator/workspace/xgboost-win64_release_1.4.0/src/learner.cc:231: Only 1 GPUs are visible, setting `gpu_id` to 0\n",
      "[0]\tvalidation_0-rmse:7.68761\n",
      "[1000]\tvalidation_0-rmse:0.72182\n",
      "[2000]\tvalidation_0-rmse:0.71971\n",
      "[3000]\tvalidation_0-rmse:0.71926\n",
      "[3539]\tvalidation_0-rmse:0.71927\n"
     ]
    },
    {
     "name": "stderr",
     "output_type": "stream",
     "text": [
      "\u001b[32m[I 2021-08-29 17:18:54,935]\u001b[0m Trial 1 finished with value: 0.719203740606503 and parameters: {'learning_rate': 0.011969126061443562, 'reg_lambda': 0.00908222386310185, 'reg_alpha': 0.25781199761018764, 'subsample': 0.9290904339770187, 'colsample_bytree': 0.4779906301858352, 'max_depth': 7}. Best is trial 0 with value: 0.7178241183314773.\u001b[0m\n"
     ]
    },
    {
     "name": "stdout",
     "output_type": "stream",
     "text": [
      "[17:18:56] WARNING: C:/Users/Administrator/workspace/xgboost-win64_release_1.4.0/src/learner.cc:231: Only 1 GPUs are visible, setting `gpu_id` to 0\n",
      "[0]\tvalidation_0-rmse:5.90964\n",
      "[449]\tvalidation_0-rmse:0.73166\n"
     ]
    },
    {
     "name": "stderr",
     "output_type": "stream",
     "text": [
      "\u001b[32m[I 2021-08-29 17:19:00,996]\u001b[0m Trial 2 finished with value: 0.7252514550503697 and parameters: {'learning_rate': 0.2430860222951181, 'reg_lambda': 0.005149003982227697, 'reg_alpha': 0.03633750623473025, 'subsample': 0.41089797377123616, 'colsample_bytree': 0.4443219258803436, 'max_depth': 5}. Best is trial 0 with value: 0.7178241183314773.\u001b[0m\n"
     ]
    },
    {
     "name": "stdout",
     "output_type": "stream",
     "text": [
      "[17:19:02] WARNING: C:/Users/Administrator/workspace/xgboost-win64_release_1.4.0/src/learner.cc:231: Only 1 GPUs are visible, setting `gpu_id` to 0\n",
      "[0]\tvalidation_0-rmse:7.04908\n",
      "[1000]\tvalidation_0-rmse:0.72853\n",
      "[2000]\tvalidation_0-rmse:0.72601\n",
      "[3000]\tvalidation_0-rmse:0.72451\n",
      "[4000]\tvalidation_0-rmse:0.72354\n",
      "[5000]\tvalidation_0-rmse:0.72274\n",
      "[6000]\tvalidation_0-rmse:0.72211\n",
      "[6999]\tvalidation_0-rmse:0.72168\n"
     ]
    },
    {
     "name": "stderr",
     "output_type": "stream",
     "text": [
      "\u001b[32m[I 2021-08-29 17:19:36,143]\u001b[0m Trial 3 finished with value: 0.7216479750126913 and parameters: {'learning_rate': 0.0948788722677446, 'reg_lambda': 0.07954322133193975, 'reg_alpha': 2.442472646499161e-08, 'subsample': 0.2274790139344514, 'colsample_bytree': 0.12661249264737548, 'max_depth': 1}. Best is trial 0 with value: 0.7178241183314773.\u001b[0m\n"
     ]
    },
    {
     "name": "stdout",
     "output_type": "stream",
     "text": [
      "[17:19:37] WARNING: C:/Users/Administrator/workspace/xgboost-win64_release_1.4.0/src/learner.cc:231: Only 1 GPUs are visible, setting `gpu_id` to 0\n",
      "[0]\tvalidation_0-rmse:7.60843\n",
      "[1000]\tvalidation_0-rmse:0.72064\n",
      "[2000]\tvalidation_0-rmse:0.71954\n",
      "[2429]\tvalidation_0-rmse:0.71959\n"
     ]
    },
    {
     "name": "stderr",
     "output_type": "stream",
     "text": [
      "\u001b[32m[I 2021-08-29 17:20:19,845]\u001b[0m Trial 4 finished with value: 0.7195199435144252 and parameters: {'learning_rate': 0.022243664582963098, 'reg_lambda': 0.005452109223287616, 'reg_alpha': 0.027641775017236813, 'subsample': 0.7941502760975434, 'colsample_bytree': 0.7471544002827858, 'max_depth': 6}. Best is trial 0 with value: 0.7178241183314773.\u001b[0m\n"
     ]
    },
    {
     "name": "stdout",
     "output_type": "stream",
     "text": [
      "[17:20:21] WARNING: C:/Users/Administrator/workspace/xgboost-win64_release_1.4.0/src/learner.cc:231: Only 1 GPUs are visible, setting `gpu_id` to 0\n",
      "[0]\tvalidation_0-rmse:7.64328\n",
      "[1000]\tvalidation_0-rmse:0.73034\n",
      "[2000]\tvalidation_0-rmse:0.72663\n",
      "[3000]\tvalidation_0-rmse:0.72443\n",
      "[4000]\tvalidation_0-rmse:0.72286\n",
      "[5000]\tvalidation_0-rmse:0.72164\n",
      "[6000]\tvalidation_0-rmse:0.72071\n",
      "[6999]\tvalidation_0-rmse:0.72005\n"
     ]
    },
    {
     "name": "stderr",
     "output_type": "stream",
     "text": [
      "\u001b[32m[I 2021-08-29 17:21:11,030]\u001b[0m Trial 5 finished with value: 0.7200451599149538 and parameters: {'learning_rate': 0.017720442963719107, 'reg_lambda': 5.613087761250532e-08, 'reg_alpha': 0.00016759913738667028, 'subsample': 0.5610466919191528, 'colsample_bytree': 0.18332085474960907, 'max_depth': 2}. Best is trial 0 with value: 0.7178241183314773.\u001b[0m\n"
     ]
    },
    {
     "name": "stdout",
     "output_type": "stream",
     "text": [
      "[17:21:12] WARNING: C:/Users/Administrator/workspace/xgboost-win64_release_1.4.0/src/learner.cc:231: Only 1 GPUs are visible, setting `gpu_id` to 0\n",
      "[0]\tvalidation_0-rmse:7.68869\n",
      "[1000]\tvalidation_0-rmse:0.72706\n",
      "[2000]\tvalidation_0-rmse:0.72226\n",
      "[3000]\tvalidation_0-rmse:0.72013\n",
      "[4000]\tvalidation_0-rmse:0.71902\n",
      "[5000]\tvalidation_0-rmse:0.71832\n",
      "[6000]\tvalidation_0-rmse:0.71796\n",
      "[6999]\tvalidation_0-rmse:0.71773\n"
     ]
    },
    {
     "name": "stderr",
     "output_type": "stream",
     "text": [
      "\u001b[32m[I 2021-08-29 17:22:12,116]\u001b[0m Trial 6 finished with value: 0.7177233746564055 and parameters: {'learning_rate': 0.011833150634361574, 'reg_lambda': 0.22399374634160613, 'reg_alpha': 1.2449138805650547e-06, 'subsample': 0.3794688370810433, 'colsample_bytree': 0.1340799740906524, 'max_depth': 4}. Best is trial 6 with value: 0.7177233746564055.\u001b[0m\n"
     ]
    },
    {
     "name": "stdout",
     "output_type": "stream",
     "text": [
      "[17:22:13] WARNING: C:/Users/Administrator/workspace/xgboost-win64_release_1.4.0/src/learner.cc:231: Only 1 GPUs are visible, setting `gpu_id` to 0\n",
      "[0]\tvalidation_0-rmse:7.58335\n",
      "[1000]\tvalidation_0-rmse:0.72272\n",
      "[2000]\tvalidation_0-rmse:0.71943\n",
      "[3000]\tvalidation_0-rmse:0.71837\n",
      "[4000]\tvalidation_0-rmse:0.71802\n",
      "[4908]\tvalidation_0-rmse:0.71800\n"
     ]
    },
    {
     "name": "stderr",
     "output_type": "stream",
     "text": [
      "\u001b[32m[I 2021-08-29 17:23:06,418]\u001b[0m Trial 7 finished with value: 0.7179661089408936 and parameters: {'learning_rate': 0.025501007115389603, 'reg_lambda': 0.00010710090710889698, 'reg_alpha': 21.9162940248522, 'subsample': 0.7103373555312138, 'colsample_bytree': 0.6109712469459182, 'max_depth': 4}. Best is trial 6 with value: 0.7177233746564055.\u001b[0m\n"
     ]
    },
    {
     "name": "stdout",
     "output_type": "stream",
     "text": [
      "[17:23:07] WARNING: C:/Users/Administrator/workspace/xgboost-win64_release_1.4.0/src/learner.cc:231: Only 1 GPUs are visible, setting `gpu_id` to 0\n",
      "[0]\tvalidation_0-rmse:7.01511\n",
      "[752]\tvalidation_0-rmse:0.72143\n"
     ]
    },
    {
     "name": "stderr",
     "output_type": "stream",
     "text": [
      "\u001b[32m[I 2021-08-29 17:23:20,144]\u001b[0m Trial 8 finished with value: 0.7202750109385286 and parameters: {'learning_rate': 0.0992810422158607, 'reg_lambda': 0.6706933937383727, 'reg_alpha': 1.3386829642678956e-06, 'subsample': 0.8066747736851384, 'colsample_bytree': 0.37514616506481113, 'max_depth': 6}. Best is trial 6 with value: 0.7177233746564055.\u001b[0m\n"
     ]
    },
    {
     "name": "stdout",
     "output_type": "stream",
     "text": [
      "[17:23:21] WARNING: C:/Users/Administrator/workspace/xgboost-win64_release_1.4.0/src/learner.cc:231: Only 1 GPUs are visible, setting `gpu_id` to 0\n",
      "[0]\tvalidation_0-rmse:6.04897\n",
      "[819]\tvalidation_0-rmse:0.71906\n"
     ]
    },
    {
     "name": "stderr",
     "output_type": "stream",
     "text": [
      "\u001b[32m[I 2021-08-29 17:23:28,477]\u001b[0m Trial 9 finished with value: 0.7188013657656568 and parameters: {'learning_rate': 0.22489192921071172, 'reg_lambda': 0.05872702455406204, 'reg_alpha': 2.502004343609739e-07, 'subsample': 0.6529449826109807, 'colsample_bytree': 0.2242813040138942, 'max_depth': 3}. Best is trial 6 with value: 0.7177233746564055.\u001b[0m\n"
     ]
    },
    {
     "name": "stdout",
     "output_type": "stream",
     "text": [
      "[17:23:29] WARNING: C:/Users/Administrator/workspace/xgboost-win64_release_1.4.0/src/learner.cc:231: Only 1 GPUs are visible, setting `gpu_id` to 0\n",
      "[0]\tvalidation_0-rmse:7.44114\n",
      "[1000]\tvalidation_0-rmse:0.72215\n",
      "[2000]\tvalidation_0-rmse:0.72150\n",
      "[2152]\tvalidation_0-rmse:0.72156\n"
     ]
    },
    {
     "name": "stderr",
     "output_type": "stream",
     "text": [
      "\u001b[32m[I 2021-08-29 17:23:46,658]\u001b[0m Trial 10 finished with value: 0.7213763124814945 and parameters: {'learning_rate': 0.04408546979120303, 'reg_lambda': 60.543841496989465, 'reg_alpha': 3.518460233777744e-05, 'subsample': 0.10818829547475894, 'colsample_bytree': 0.9178413996884163, 'max_depth': 4}. Best is trial 6 with value: 0.7177233746564055.\u001b[0m\n"
     ]
    },
    {
     "name": "stdout",
     "output_type": "stream",
     "text": [
      "[17:23:47] WARNING: C:/Users/Administrator/workspace/xgboost-win64_release_1.4.0/src/learner.cc:231: Only 1 GPUs are visible, setting `gpu_id` to 0\n",
      "[0]\tvalidation_0-rmse:7.69564\n",
      "[1000]\tvalidation_0-rmse:0.72918\n",
      "[2000]\tvalidation_0-rmse:0.72508\n",
      "[3000]\tvalidation_0-rmse:0.72263\n",
      "[4000]\tvalidation_0-rmse:0.72111\n",
      "[5000]\tvalidation_0-rmse:0.72009\n",
      "[6000]\tvalidation_0-rmse:0.71942\n",
      "[6999]\tvalidation_0-rmse:0.71888\n"
     ]
    },
    {
     "name": "stderr",
     "output_type": "stream",
     "text": [
      "\u001b[32m[I 2021-08-29 17:24:39,692]\u001b[0m Trial 11 finished with value: 0.7188849214821897 and parameters: {'learning_rate': 0.010930484963319309, 'reg_lambda': 1.3668568568649663e-08, 'reg_alpha': 2.096063926177794, 'subsample': 0.39253964437053857, 'colsample_bytree': 0.30347841237059087, 'max_depth': 3}. Best is trial 6 with value: 0.7177233746564055.\u001b[0m\n"
     ]
    },
    {
     "name": "stdout",
     "output_type": "stream",
     "text": [
      "[17:24:40] WARNING: C:/Users/Administrator/workspace/xgboost-win64_release_1.4.0/src/learner.cc:231: Only 1 GPUs are visible, setting `gpu_id` to 0\n",
      "[0]\tvalidation_0-rmse:7.49756\n",
      "[1000]\tvalidation_0-rmse:0.72319\n",
      "[2000]\tvalidation_0-rmse:0.71958\n",
      "[3000]\tvalidation_0-rmse:0.71822\n",
      "[4000]\tvalidation_0-rmse:0.71766\n",
      "[5000]\tvalidation_0-rmse:0.71750\n",
      "[6000]\tvalidation_0-rmse:0.71737\n",
      "[6169]\tvalidation_0-rmse:0.71739\n"
     ]
    },
    {
     "name": "stderr",
     "output_type": "stream",
     "text": [
      "\u001b[32m[I 2021-08-29 17:25:27,219]\u001b[0m Trial 12 finished with value: 0.717342746308976 and parameters: {'learning_rate': 0.036644358647231284, 'reg_lambda': 8.063350040512181e-06, 'reg_alpha': 0.0012668618514611496, 'subsample': 0.42780744630801093, 'colsample_bytree': 0.11567326601789263, 'max_depth': 3}. Best is trial 12 with value: 0.717342746308976.\u001b[0m\n"
     ]
    },
    {
     "name": "stdout",
     "output_type": "stream",
     "text": [
      "[17:25:28] WARNING: C:/Users/Administrator/workspace/xgboost-win64_release_1.4.0/src/learner.cc:231: Only 1 GPUs are visible, setting `gpu_id` to 0\n",
      "[0]\tvalidation_0-rmse:7.47949\n",
      "[1000]\tvalidation_0-rmse:0.72651\n",
      "[2000]\tvalidation_0-rmse:0.72274\n",
      "[3000]\tvalidation_0-rmse:0.72056\n",
      "[4000]\tvalidation_0-rmse:0.71943\n",
      "[5000]\tvalidation_0-rmse:0.71878\n",
      "[6000]\tvalidation_0-rmse:0.71836\n",
      "[6999]\tvalidation_0-rmse:0.71809\n"
     ]
    },
    {
     "name": "stderr",
     "output_type": "stream",
     "text": [
      "\u001b[32m[I 2021-08-29 17:26:15,508]\u001b[0m Trial 13 finished with value: 0.7180765067661756 and parameters: {'learning_rate': 0.038986791448844205, 'reg_lambda': 1.747039643405568e-05, 'reg_alpha': 0.0020736573578118357, 'subsample': 0.42582585007777674, 'colsample_bytree': 0.1352597331274153, 'max_depth': 2}. Best is trial 12 with value: 0.717342746308976.\u001b[0m\n"
     ]
    },
    {
     "name": "stdout",
     "output_type": "stream",
     "text": [
      "[17:26:16] WARNING: C:/Users/Administrator/workspace/xgboost-win64_release_1.4.0/src/learner.cc:231: Only 1 GPUs are visible, setting `gpu_id` to 0\n",
      "[0]\tvalidation_0-rmse:7.25589\n",
      "[883]\tvalidation_0-rmse:0.72225\n"
     ]
    },
    {
     "name": "stderr",
     "output_type": "stream",
     "text": [
      "\u001b[32m[I 2021-08-29 17:26:26,283]\u001b[0m Trial 14 finished with value: 0.7217381434484182 and parameters: {'learning_rate': 0.06800193042552526, 'reg_lambda': 5.939428784554394e-06, 'reg_alpha': 6.484702578599184e-06, 'subsample': 0.28167375966713737, 'colsample_bytree': 0.6145286145424999, 'max_depth': 5}. Best is trial 12 with value: 0.717342746308976.\u001b[0m\n"
     ]
    },
    {
     "name": "stdout",
     "output_type": "stream",
     "text": [
      "[17:26:27] WARNING: C:/Users/Administrator/workspace/xgboost-win64_release_1.4.0/src/learner.cc:231: Only 1 GPUs are visible, setting `gpu_id` to 0\n",
      "[0]\tvalidation_0-rmse:7.51733\n",
      "[1000]\tvalidation_0-rmse:0.73235\n",
      "[2000]\tvalidation_0-rmse:0.72961\n",
      "[3000]\tvalidation_0-rmse:0.72819\n",
      "[4000]\tvalidation_0-rmse:0.72715\n",
      "[5000]\tvalidation_0-rmse:0.72631\n",
      "[6000]\tvalidation_0-rmse:0.72562\n",
      "[6999]\tvalidation_0-rmse:0.72508\n"
     ]
    },
    {
     "name": "stderr",
     "output_type": "stream",
     "text": [
      "\u001b[32m[I 2021-08-29 17:27:08,339]\u001b[0m Trial 15 finished with value: 0.7250790797272241 and parameters: {'learning_rate': 0.034082263282131625, 'reg_lambda': 18.77469892997157, 'reg_alpha': 0.0017485138111718317, 'subsample': 0.4890713501893656, 'colsample_bytree': 0.2614699549897297, 'max_depth': 1}. Best is trial 12 with value: 0.717342746308976.\u001b[0m\n"
     ]
    },
    {
     "name": "stdout",
     "output_type": "stream",
     "text": [
      "[17:27:09] WARNING: C:/Users/Administrator/workspace/xgboost-win64_release_1.4.0/src/learner.cc:231: Only 1 GPUs are visible, setting `gpu_id` to 0\n",
      "[0]\tvalidation_0-rmse:7.30675\n",
      "[1000]\tvalidation_0-rmse:0.71862\n",
      "[1537]\tvalidation_0-rmse:0.71844\n"
     ]
    },
    {
     "name": "stderr",
     "output_type": "stream",
     "text": [
      "\u001b[32m[I 2021-08-29 17:27:25,244]\u001b[0m Trial 16 finished with value: 0.7183441604051882 and parameters: {'learning_rate': 0.06141239668652146, 'reg_lambda': 1.391974735464809e-06, 'reg_alpha': 1.507301877746746e-08, 'subsample': 0.2983216856967943, 'colsample_bytree': 0.11089667304801286, 'max_depth': 5}. Best is trial 12 with value: 0.717342746308976.\u001b[0m\n"
     ]
    },
    {
     "name": "stdout",
     "output_type": "stream",
     "text": [
      "[17:27:26] WARNING: C:/Users/Administrator/workspace/xgboost-win64_release_1.4.0/src/learner.cc:231: Only 1 GPUs are visible, setting `gpu_id` to 0\n",
      "[0]\tvalidation_0-rmse:6.65592\n",
      "[1000]\tvalidation_0-rmse:0.72208\n",
      "[1856]\tvalidation_0-rmse:0.72197\n"
     ]
    },
    {
     "name": "stderr",
     "output_type": "stream",
     "text": [
      "\u001b[32m[I 2021-08-29 17:27:37,479]\u001b[0m Trial 17 finished with value: 0.7218325824001236 and parameters: {'learning_rate': 0.14596239115808174, 'reg_lambda': 0.00028618613153522874, 'reg_alpha': 0.0001503127718756276, 'subsample': 0.14788414625788338, 'colsample_bytree': 0.8124542241879772, 'max_depth': 2}. Best is trial 12 with value: 0.717342746308976.\u001b[0m\n"
     ]
    },
    {
     "name": "stdout",
     "output_type": "stream",
     "text": [
      "[17:27:38] WARNING: C:/Users/Administrator/workspace/xgboost-win64_release_1.4.0/src/learner.cc:231: Only 1 GPUs are visible, setting `gpu_id` to 0\n",
      "[0]\tvalidation_0-rmse:7.66820\n",
      "[1000]\tvalidation_0-rmse:0.72526\n",
      "[2000]\tvalidation_0-rmse:0.72137\n",
      "[3000]\tvalidation_0-rmse:0.71961\n",
      "[4000]\tvalidation_0-rmse:0.71869\n",
      "[5000]\tvalidation_0-rmse:0.71830\n",
      "[6000]\tvalidation_0-rmse:0.71812\n",
      "[6999]\tvalidation_0-rmse:0.71800\n"
     ]
    },
    {
     "name": "stderr",
     "output_type": "stream",
     "text": [
      "\u001b[32m[I 2021-08-29 17:28:45,809]\u001b[0m Trial 18 finished with value: 0.7179888486148608 and parameters: {'learning_rate': 0.014491685669699715, 'reg_lambda': 2.2198095249990137, 'reg_alpha': 8.466583590992398e-07, 'subsample': 0.505679428455873, 'colsample_bytree': 0.4050433118792647, 'max_depth': 4}. Best is trial 12 with value: 0.717342746308976.\u001b[0m\n"
     ]
    },
    {
     "name": "stdout",
     "output_type": "stream",
     "text": [
      "[17:28:47] WARNING: C:/Users/Administrator/workspace/xgboost-win64_release_1.4.0/src/learner.cc:231: Only 1 GPUs are visible, setting `gpu_id` to 0\n",
      "[0]\tvalidation_0-rmse:7.58465\n",
      "[1000]\tvalidation_0-rmse:0.72399\n",
      "[2000]\tvalidation_0-rmse:0.72047\n",
      "[3000]\tvalidation_0-rmse:0.71904\n",
      "[4000]\tvalidation_0-rmse:0.71837\n",
      "[5000]\tvalidation_0-rmse:0.71805\n",
      "[6000]\tvalidation_0-rmse:0.71786\n",
      "[6626]\tvalidation_0-rmse:0.71785\n"
     ]
    },
    {
     "name": "stderr",
     "output_type": "stream",
     "text": [
      "\u001b[32m[I 2021-08-29 17:29:35,866]\u001b[0m Trial 19 finished with value: 0.717836719739494 and parameters: {'learning_rate': 0.025334828954698196, 'reg_lambda': 1.05447674325293e-06, 'reg_alpha': 1.5534458672306307e-05, 'subsample': 0.3527140110399369, 'colsample_bytree': 0.23252579293957115, 'max_depth': 3}. Best is trial 12 with value: 0.717342746308976.\u001b[0m\n"
     ]
    },
    {
     "name": "stdout",
     "output_type": "stream",
     "text": [
      "[17:29:37] WARNING: C:/Users/Administrator/workspace/xgboost-win64_release_1.4.0/src/learner.cc:231: Only 1 GPUs are visible, setting `gpu_id` to 0\n",
      "[0]\tvalidation_0-rmse:7.53729\n",
      "[1000]\tvalidation_0-rmse:0.72063\n",
      "[1512]\tvalidation_0-rmse:0.72067\n"
     ]
    },
    {
     "name": "stderr",
     "output_type": "stream",
     "text": [
      "\u001b[32m[I 2021-08-29 17:30:03,536]\u001b[0m Trial 20 finished with value: 0.7205021417738618 and parameters: {'learning_rate': 0.031469439185365274, 'reg_lambda': 7.818235529848127e-05, 'reg_alpha': 0.00752391197638051, 'subsample': 0.5674643453482292, 'colsample_bytree': 0.9956806585670828, 'max_depth': 6}. Best is trial 12 with value: 0.717342746308976.\u001b[0m\n"
     ]
    },
    {
     "name": "stdout",
     "output_type": "stream",
     "text": [
      "[17:30:04] WARNING: C:/Users/Administrator/workspace/xgboost-win64_release_1.4.0/src/learner.cc:231: Only 1 GPUs are visible, setting `gpu_id` to 0\n",
      "[0]\tvalidation_0-rmse:7.64351\n",
      "[1000]\tvalidation_0-rmse:0.72772\n",
      "[2000]\tvalidation_0-rmse:0.72337\n",
      "[3000]\tvalidation_0-rmse:0.72115\n",
      "[4000]\tvalidation_0-rmse:0.71985\n",
      "[5000]\tvalidation_0-rmse:0.71906\n",
      "[6000]\tvalidation_0-rmse:0.71851\n",
      "[6999]\tvalidation_0-rmse:0.71817\n"
     ]
    },
    {
     "name": "stderr",
     "output_type": "stream",
     "text": [
      "\u001b[32m[I 2021-08-29 17:31:08,149]\u001b[0m Trial 21 finished with value: 0.7181672297553267 and parameters: {'learning_rate': 0.017694561958431453, 'reg_lambda': 1.858782765622169e-07, 'reg_alpha': 39.295145596488915, 'subsample': 0.6540294287133149, 'colsample_bytree': 0.32310395130017433, 'max_depth': 3}. Best is trial 12 with value: 0.717342746308976.\u001b[0m\n"
     ]
    },
    {
     "name": "stdout",
     "output_type": "stream",
     "text": [
      "[17:31:09] WARNING: C:/Users/Administrator/workspace/xgboost-win64_release_1.4.0/src/learner.cc:231: Only 1 GPUs are visible, setting `gpu_id` to 0\n",
      "[0]\tvalidation_0-rmse:7.66973\n",
      "[1000]\tvalidation_0-rmse:0.72508\n",
      "[2000]\tvalidation_0-rmse:0.72130\n",
      "[3000]\tvalidation_0-rmse:0.71953\n",
      "[4000]\tvalidation_0-rmse:0.71863\n",
      "[5000]\tvalidation_0-rmse:0.71813\n",
      "[6000]\tvalidation_0-rmse:0.71787\n",
      "[6999]\tvalidation_0-rmse:0.71776\n"
     ]
    },
    {
     "name": "stderr",
     "output_type": "stream",
     "text": [
      "\u001b[32m[I 2021-08-29 17:32:19,650]\u001b[0m Trial 22 finished with value: 0.7177463778433788 and parameters: {'learning_rate': 0.014287630455236474, 'reg_lambda': 1.1504054923844724e-07, 'reg_alpha': 1.0365659281737423, 'subsample': 0.6110898463815898, 'colsample_bytree': 0.3306124043712671, 'max_depth': 4}. Best is trial 12 with value: 0.717342746308976.\u001b[0m\n"
     ]
    },
    {
     "name": "stdout",
     "output_type": "stream",
     "text": [
      "[17:32:20] WARNING: C:/Users/Administrator/workspace/xgboost-win64_release_1.4.0/src/learner.cc:231: Only 1 GPUs are visible, setting `gpu_id` to 0\n",
      "[0]\tvalidation_0-rmse:7.69708\n",
      "[1000]\tvalidation_0-rmse:0.72693\n",
      "[2000]\tvalidation_0-rmse:0.72252\n",
      "[3000]\tvalidation_0-rmse:0.72050\n",
      "[4000]\tvalidation_0-rmse:0.71934\n",
      "[5000]\tvalidation_0-rmse:0.71863\n",
      "[6000]\tvalidation_0-rmse:0.71821\n",
      "[6999]\tvalidation_0-rmse:0.71795\n"
     ]
    },
    {
     "name": "stderr",
     "output_type": "stream",
     "text": [
      "\u001b[32m[I 2021-08-29 17:33:26,025]\u001b[0m Trial 23 finished with value: 0.7179460251979717 and parameters: {'learning_rate': 0.010739842103212409, 'reg_lambda': 1.3908319413829119e-06, 'reg_alpha': 0.13904478848651378, 'subsample': 0.46585823295002293, 'colsample_bytree': 0.19988502089669288, 'max_depth': 4}. Best is trial 12 with value: 0.717342746308976.\u001b[0m\n"
     ]
    },
    {
     "name": "stdout",
     "output_type": "stream",
     "text": [
      "[17:33:27] WARNING: C:/Users/Administrator/workspace/xgboost-win64_release_1.4.0/src/learner.cc:231: Only 1 GPUs are visible, setting `gpu_id` to 0\n",
      "[0]\tvalidation_0-rmse:7.66959\n",
      "[1000]\tvalidation_0-rmse:0.72345\n",
      "[2000]\tvalidation_0-rmse:0.72039\n",
      "[3000]\tvalidation_0-rmse:0.71949\n",
      "[4000]\tvalidation_0-rmse:0.71922\n",
      "[4330]\tvalidation_0-rmse:0.71921\n"
     ]
    },
    {
     "name": "stderr",
     "output_type": "stream",
     "text": [
      "\u001b[32m[I 2021-08-29 17:34:14,621]\u001b[0m Trial 24 finished with value: 0.7192047824930106 and parameters: {'learning_rate': 0.014306822150160636, 'reg_lambda': 0.0005146904348704625, 'reg_alpha': 0.00015555862042451274, 'subsample': 0.331465284697688, 'colsample_bytree': 0.5146928193266265, 'max_depth': 5}. Best is trial 12 with value: 0.717342746308976.\u001b[0m\n"
     ]
    },
    {
     "name": "stdout",
     "output_type": "stream",
     "text": [
      "[17:34:15] WARNING: C:/Users/Administrator/workspace/xgboost-win64_release_1.4.0/src/learner.cc:231: Only 1 GPUs are visible, setting `gpu_id` to 0\n",
      "[0]\tvalidation_0-rmse:7.60215\n",
      "[1000]\tvalidation_0-rmse:0.72387\n",
      "[2000]\tvalidation_0-rmse:0.71962\n",
      "[3000]\tvalidation_0-rmse:0.71812\n",
      "[4000]\tvalidation_0-rmse:0.71754\n",
      "[5000]\tvalidation_0-rmse:0.71733\n",
      "[6000]\tvalidation_0-rmse:0.71718\n",
      "[6320]\tvalidation_0-rmse:0.71718\n"
     ]
    },
    {
     "name": "stderr",
     "output_type": "stream",
     "text": [
      "\u001b[32m[I 2021-08-29 17:35:16,910]\u001b[0m Trial 25 finished with value: 0.7171706843190623 and parameters: {'learning_rate': 0.023062355795599884, 'reg_lambda': 3.076951810180953e-05, 'reg_alpha': 2.689951740914825, 'subsample': 0.5620850815288073, 'colsample_bytree': 0.10203012886114737, 'max_depth': 4}. Best is trial 25 with value: 0.7171706843190623.\u001b[0m\n"
     ]
    },
    {
     "name": "stdout",
     "output_type": "stream",
     "text": [
      "[17:35:18] WARNING: C:/Users/Administrator/workspace/xgboost-win64_release_1.4.0/src/learner.cc:231: Only 1 GPUs are visible, setting `gpu_id` to 0\n",
      "[0]\tvalidation_0-rmse:7.35477\n",
      "[1000]\tvalidation_0-rmse:0.72375\n",
      "[2000]\tvalidation_0-rmse:0.72058\n",
      "[3000]\tvalidation_0-rmse:0.71935\n",
      "[4000]\tvalidation_0-rmse:0.71880\n",
      "[5000]\tvalidation_0-rmse:0.71858\n",
      "[5704]\tvalidation_0-rmse:0.71851\n"
     ]
    },
    {
     "name": "stderr",
     "output_type": "stream",
     "text": [
      "\u001b[32m[I 2021-08-29 17:35:51,508]\u001b[0m Trial 26 finished with value: 0.7184876032013129 and parameters: {'learning_rate': 0.055161359142497715, 'reg_lambda': 2.1238684211063463e-05, 'reg_alpha': 2.585643082095199e-07, 'subsample': 0.2193691799500196, 'colsample_bytree': 0.16731072683712508, 'max_depth': 2}. Best is trial 25 with value: 0.7171706843190623.\u001b[0m\n"
     ]
    },
    {
     "name": "stdout",
     "output_type": "stream",
     "text": [
      "[17:35:52] WARNING: C:/Users/Administrator/workspace/xgboost-win64_release_1.4.0/src/learner.cc:231: Only 1 GPUs are visible, setting `gpu_id` to 0\n",
      "[0]\tvalidation_0-rmse:7.60687\n",
      "[1000]\tvalidation_0-rmse:0.72467\n",
      "[2000]\tvalidation_0-rmse:0.71997\n",
      "[3000]\tvalidation_0-rmse:0.71831\n",
      "[4000]\tvalidation_0-rmse:0.71755\n",
      "[5000]\tvalidation_0-rmse:0.71722\n",
      "[6000]\tvalidation_0-rmse:0.71700\n",
      "[6999]\tvalidation_0-rmse:0.71696\n"
     ]
    },
    {
     "name": "stderr",
     "output_type": "stream",
     "text": [
      "\u001b[32m[I 2021-08-29 17:37:00,534]\u001b[0m Trial 27 finished with value: 0.7169465235510132 and parameters: {'learning_rate': 0.022451969467245494, 'reg_lambda': 0.10796516055509386, 'reg_alpha': 10.748373060350762, 'subsample': 0.5427297895434502, 'colsample_bytree': 0.10916520022417267, 'max_depth': 4}. Best is trial 27 with value: 0.7169465235510132.\u001b[0m\n"
     ]
    },
    {
     "name": "stdout",
     "output_type": "stream",
     "text": [
      "[17:37:01] WARNING: C:/Users/Administrator/workspace/xgboost-win64_release_1.4.0/src/learner.cc:231: Only 1 GPUs are visible, setting `gpu_id` to 0\n",
      "[0]\tvalidation_0-rmse:7.55264\n",
      "[1000]\tvalidation_0-rmse:0.72548\n",
      "[2000]\tvalidation_0-rmse:0.72197\n",
      "[3000]\tvalidation_0-rmse:0.72051\n",
      "[4000]\tvalidation_0-rmse:0.71971\n",
      "[5000]\tvalidation_0-rmse:0.71922\n",
      "[6000]\tvalidation_0-rmse:0.71889\n",
      "[6999]\tvalidation_0-rmse:0.71867\n"
     ]
    },
    {
     "name": "stderr",
     "output_type": "stream",
     "text": [
      "\u001b[32m[I 2021-08-29 17:38:03,599]\u001b[0m Trial 28 finished with value: 0.7186735766041162 and parameters: {'learning_rate': 0.029495154883457244, 'reg_lambda': 0.0016652232959815541, 'reg_alpha': 84.3088688822145, 'subsample': 0.5395162535774537, 'colsample_bytree': 0.2578390556436648, 'max_depth': 3}. Best is trial 27 with value: 0.7169465235510132.\u001b[0m\n"
     ]
    },
    {
     "name": "stdout",
     "output_type": "stream",
     "text": [
      "[17:38:04] WARNING: C:/Users/Administrator/workspace/xgboost-win64_release_1.4.0/src/learner.cc:231: Only 1 GPUs are visible, setting `gpu_id` to 0\n",
      "[0]\tvalidation_0-rmse:7.61152\n",
      "[1000]\tvalidation_0-rmse:0.72235\n",
      "[2000]\tvalidation_0-rmse:0.71846\n",
      "[3000]\tvalidation_0-rmse:0.71749\n",
      "[4000]\tvalidation_0-rmse:0.71718\n",
      "[4947]\tvalidation_0-rmse:0.71713\n"
     ]
    },
    {
     "name": "stderr",
     "output_type": "stream",
     "text": [
      "\u001b[32m[I 2021-08-29 17:39:06,557]\u001b[0m Trial 29 finished with value: 0.7170909561685476 and parameters: {'learning_rate': 0.021846675749164716, 'reg_lambda': 8.130514218071908e-06, 'reg_alpha': 5.526670119023218, 'subsample': 0.7360678863219193, 'colsample_bytree': 0.10278449484416753, 'max_depth': 5}. Best is trial 27 with value: 0.7169465235510132.\u001b[0m\n"
     ]
    },
    {
     "name": "stdout",
     "output_type": "stream",
     "text": [
      "[17:39:07] WARNING: C:/Users/Administrator/workspace/xgboost-win64_release_1.4.0/src/learner.cc:231: Only 1 GPUs are visible, setting `gpu_id` to 0\n",
      "[0]\tvalidation_0-rmse:7.62801\n",
      "[1000]\tvalidation_0-rmse:0.71971\n",
      "[2000]\tvalidation_0-rmse:0.71814\n",
      "[2669]\tvalidation_0-rmse:0.71802\n"
     ]
    },
    {
     "name": "stderr",
     "output_type": "stream",
     "text": [
      "\u001b[32m[I 2021-08-29 17:40:04,639]\u001b[0m Trial 30 finished with value: 0.7179935158285866 and parameters: {'learning_rate': 0.019702908691947664, 'reg_lambda': 0.032250352974290644, 'reg_alpha': 7.1820117750843115, 'subsample': 0.7571085620780829, 'colsample_bytree': 0.27324730736051894, 'max_depth': 7}. Best is trial 27 with value: 0.7169465235510132.\u001b[0m\n"
     ]
    },
    {
     "name": "stdout",
     "output_type": "stream",
     "text": [
      "[17:40:05] WARNING: C:/Users/Administrator/workspace/xgboost-win64_release_1.4.0/src/learner.cc:231: Only 1 GPUs are visible, setting `gpu_id` to 0\n",
      "[0]\tvalidation_0-rmse:7.57659\n",
      "[1000]\tvalidation_0-rmse:0.72087\n",
      "[2000]\tvalidation_0-rmse:0.71800\n",
      "[3000]\tvalidation_0-rmse:0.71745\n",
      "[4000]\tvalidation_0-rmse:0.71740\n",
      "[4059]\tvalidation_0-rmse:0.71741\n"
     ]
    },
    {
     "name": "stderr",
     "output_type": "stream",
     "text": [
      "\u001b[32m[I 2021-08-29 17:41:00,941]\u001b[0m Trial 31 finished with value: 0.7173762897690729 and parameters: {'learning_rate': 0.026380187772574032, 'reg_lambda': 7.680370307558144e-06, 'reg_alpha': 0.7127157672989243, 'subsample': 0.9017423935150755, 'colsample_bytree': 0.1116985326251396, 'max_depth': 5}. Best is trial 27 with value: 0.7169465235510132.\u001b[0m\n"
     ]
    },
    {
     "name": "stdout",
     "output_type": "stream",
     "text": [
      "[17:41:02] WARNING: C:/Users/Administrator/workspace/xgboost-win64_release_1.4.0/src/learner.cc:231: Only 1 GPUs are visible, setting `gpu_id` to 0\n",
      "[0]\tvalidation_0-rmse:7.47349\n",
      "[1000]\tvalidation_0-rmse:0.71985\n",
      "[2000]\tvalidation_0-rmse:0.71780\n",
      "[3000]\tvalidation_0-rmse:0.71737\n",
      "[3631]\tvalidation_0-rmse:0.71737\n"
     ]
    },
    {
     "name": "stderr",
     "output_type": "stream",
     "text": [
      "\u001b[32m[I 2021-08-29 17:41:40,394]\u001b[0m Trial 32 finished with value: 0.7173378709312426 and parameters: {'learning_rate': 0.03975794852080302, 'reg_lambda': 5.57665818182354e-05, 'reg_alpha': 4.811571298038526, 'subsample': 0.704222486468815, 'colsample_bytree': 0.1702557696977156, 'max_depth': 4}. Best is trial 27 with value: 0.7169465235510132.\u001b[0m\n"
     ]
    },
    {
     "name": "stdout",
     "output_type": "stream",
     "text": [
      "[17:41:41] WARNING: C:/Users/Administrator/workspace/xgboost-win64_release_1.4.0/src/learner.cc:231: Only 1 GPUs are visible, setting `gpu_id` to 0\n",
      "[0]\tvalidation_0-rmse:7.61935\n",
      "[1000]\tvalidation_0-rmse:0.72131\n",
      "[2000]\tvalidation_0-rmse:0.71854\n",
      "[3000]\tvalidation_0-rmse:0.71764\n",
      "[4000]\tvalidation_0-rmse:0.71738\n",
      "[4783]\tvalidation_0-rmse:0.71737\n"
     ]
    },
    {
     "name": "stderr",
     "output_type": "stream",
     "text": [
      "\u001b[32m[I 2021-08-29 17:42:47,437]\u001b[0m Trial 33 finished with value: 0.7173334472483539 and parameters: {'learning_rate': 0.020827391790181417, 'reg_lambda': 7.470170204063254e-05, 'reg_alpha': 7.824601616677549, 'subsample': 0.8810178873139695, 'colsample_bytree': 0.1985307545053118, 'max_depth': 5}. Best is trial 27 with value: 0.7169465235510132.\u001b[0m\n"
     ]
    },
    {
     "name": "stdout",
     "output_type": "stream",
     "text": [
      "[17:42:48] WARNING: C:/Users/Administrator/workspace/xgboost-win64_release_1.4.0/src/learner.cc:231: Only 1 GPUs are visible, setting `gpu_id` to 0\n",
      "[0]\tvalidation_0-rmse:7.61651\n",
      "[1000]\tvalidation_0-rmse:0.71982\n",
      "[2000]\tvalidation_0-rmse:0.71834\n",
      "[3000]\tvalidation_0-rmse:0.71821\n",
      "[3072]\tvalidation_0-rmse:0.71819\n"
     ]
    },
    {
     "name": "stderr",
     "output_type": "stream",
     "text": [
      "\u001b[32m[I 2021-08-29 17:43:42,874]\u001b[0m Trial 34 finished with value: 0.7181494700567026 and parameters: {'learning_rate': 0.021196032158061946, 'reg_lambda': 0.0011711449797167507, 'reg_alpha': 0.18510300548017813, 'subsample': 0.9874738774768889, 'colsample_bytree': 0.20028588123001845, 'max_depth': 6}. Best is trial 27 with value: 0.7169465235510132.\u001b[0m\n"
     ]
    },
    {
     "name": "stdout",
     "output_type": "stream",
     "text": [
      "[17:43:44] WARNING: C:/Users/Administrator/workspace/xgboost-win64_release_1.4.0/src/learner.cc:231: Only 1 GPUs are visible, setting `gpu_id` to 0\n",
      "[0]\tvalidation_0-rmse:7.66217\n",
      "[1000]\tvalidation_0-rmse:0.72379\n",
      "[2000]\tvalidation_0-rmse:0.72015\n",
      "[3000]\tvalidation_0-rmse:0.71874\n",
      "[4000]\tvalidation_0-rmse:0.71815\n",
      "[5000]\tvalidation_0-rmse:0.71788\n",
      "[5299]\tvalidation_0-rmse:0.71788\n"
     ]
    },
    {
     "name": "stderr",
     "output_type": "stream",
     "text": [
      "\u001b[32m[I 2021-08-29 17:44:58,331]\u001b[0m Trial 35 finished with value: 0.717877048232456 and parameters: {'learning_rate': 0.015271603702997986, 'reg_lambda': 0.012910581102599255, 'reg_alpha': 13.556879763611924, 'subsample': 0.8554682308216156, 'colsample_bytree': 0.39515190142374634, 'max_depth': 5}. Best is trial 27 with value: 0.7169465235510132.\u001b[0m\n"
     ]
    },
    {
     "name": "stdout",
     "output_type": "stream",
     "text": [
      "[17:44:59] WARNING: C:/Users/Administrator/workspace/xgboost-win64_release_1.4.0/src/learner.cc:231: Only 1 GPUs are visible, setting `gpu_id` to 0\n",
      "[0]\tvalidation_0-rmse:7.60865\n",
      "[1000]\tvalidation_0-rmse:0.72076\n",
      "[2000]\tvalidation_0-rmse:0.71810\n",
      "[3000]\tvalidation_0-rmse:0.71751\n",
      "[4000]\tvalidation_0-rmse:0.71737\n",
      "[4063]\tvalidation_0-rmse:0.71736\n"
     ]
    },
    {
     "name": "stderr",
     "output_type": "stream",
     "text": [
      "\u001b[32m[I 2021-08-29 17:45:56,328]\u001b[0m Trial 36 finished with value: 0.7173120301629958 and parameters: {'learning_rate': 0.022217244224520764, 'reg_lambda': 0.0028973523661799897, 'reg_alpha': 0.4262696229975947, 'subsample': 0.9373876666029518, 'colsample_bytree': 0.16181162515626887, 'max_depth': 5}. Best is trial 27 with value: 0.7169465235510132.\u001b[0m\n"
     ]
    },
    {
     "name": "stdout",
     "output_type": "stream",
     "text": [
      "[17:45:57] WARNING: C:/Users/Administrator/workspace/xgboost-win64_release_1.4.0/src/learner.cc:231: Only 1 GPUs are visible, setting `gpu_id` to 0\n",
      "[0]\tvalidation_0-rmse:7.59383\n",
      "[1000]\tvalidation_0-rmse:0.71938\n",
      "[2000]\tvalidation_0-rmse:0.71798\n",
      "[2402]\tvalidation_0-rmse:0.71797\n"
     ]
    },
    {
     "name": "stderr",
     "output_type": "stream",
     "text": [
      "\u001b[32m[I 2021-08-29 17:46:40,738]\u001b[0m Trial 37 finished with value: 0.7179303926537515 and parameters: {'learning_rate': 0.02414069756683145, 'reg_lambda': 0.0024454526019663725, 'reg_alpha': 0.035871254093625744, 'subsample': 0.9883090961111698, 'colsample_bytree': 0.16552561129938811, 'max_depth': 6}. Best is trial 27 with value: 0.7169465235510132.\u001b[0m\n"
     ]
    },
    {
     "name": "stdout",
     "output_type": "stream",
     "text": [
      "[17:46:41] WARNING: C:/Users/Administrator/workspace/xgboost-win64_release_1.4.0/src/learner.cc:231: Only 1 GPUs are visible, setting `gpu_id` to 0\n",
      "[0]\tvalidation_0-rmse:7.42583\n",
      "[1000]\tvalidation_0-rmse:0.71858\n",
      "[2000]\tvalidation_0-rmse:0.71764\n",
      "[2316]\tvalidation_0-rmse:0.71776\n"
     ]
    },
    {
     "name": "stderr",
     "output_type": "stream",
     "text": [
      "\u001b[32m[I 2021-08-29 17:47:09,204]\u001b[0m Trial 38 finished with value: 0.7176299802816297 and parameters: {'learning_rate': 0.045948829103588884, 'reg_lambda': 0.2333416762638003, 'reg_alpha': 0.7001777203138072, 'subsample': 0.6097317567716831, 'colsample_bytree': 0.10163882604402871, 'max_depth': 5}. Best is trial 27 with value: 0.7169465235510132.\u001b[0m\n"
     ]
    },
    {
     "name": "stdout",
     "output_type": "stream",
     "text": [
      "[17:47:10] WARNING: C:/Users/Administrator/workspace/xgboost-win64_release_1.4.0/src/learner.cc:231: Only 1 GPUs are visible, setting `gpu_id` to 0\n",
      "[0]\tvalidation_0-rmse:7.65079\n",
      "[1000]\tvalidation_0-rmse:0.72130\n",
      "[2000]\tvalidation_0-rmse:0.71917\n",
      "[2956]\tvalidation_0-rmse:0.71886\n"
     ]
    },
    {
     "name": "stderr",
     "output_type": "stream",
     "text": [
      "\u001b[32m[I 2021-08-29 17:48:02,287]\u001b[0m Trial 39 finished with value: 0.718851224304993 and parameters: {'learning_rate': 0.016746836417271805, 'reg_lambda': 0.010596510317752538, 'reg_alpha': 0.09805146377575324, 'subsample': 0.8244897548928409, 'colsample_bytree': 0.4563598566137026, 'max_depth': 6}. Best is trial 27 with value: 0.7169465235510132.\u001b[0m\n"
     ]
    },
    {
     "name": "stdout",
     "output_type": "stream",
     "text": [
      "[17:48:03] WARNING: C:/Users/Administrator/workspace/xgboost-win64_release_1.4.0/src/learner.cc:231: Only 1 GPUs are visible, setting `gpu_id` to 0\n",
      "[0]\tvalidation_0-rmse:7.56598\n",
      "[1000]\tvalidation_0-rmse:0.72040\n",
      "[2000]\tvalidation_0-rmse:0.71907\n",
      "[2256]\tvalidation_0-rmse:0.71908\n"
     ]
    },
    {
     "name": "stderr",
     "output_type": "stream",
     "text": [
      "\u001b[32m[I 2021-08-29 17:48:55,333]\u001b[0m Trial 40 finished with value: 0.7190623997214489 and parameters: {'learning_rate': 0.027758595873052596, 'reg_lambda': 0.0002607448001233158, 'reg_alpha': 70.08880050120536, 'subsample': 0.9380224338581418, 'colsample_bytree': 0.7068699928226645, 'max_depth': 7}. Best is trial 27 with value: 0.7169465235510132.\u001b[0m\n"
     ]
    },
    {
     "name": "stdout",
     "output_type": "stream",
     "text": [
      "[17:48:56] WARNING: C:/Users/Administrator/workspace/xgboost-win64_release_1.4.0/src/learner.cc:231: Only 1 GPUs are visible, setting `gpu_id` to 0\n",
      "[0]\tvalidation_0-rmse:7.61813\n",
      "[1000]\tvalidation_0-rmse:0.72126\n",
      "[2000]\tvalidation_0-rmse:0.71827\n",
      "[3000]\tvalidation_0-rmse:0.71752\n",
      "[4000]\tvalidation_0-rmse:0.71730\n",
      "[4083]\tvalidation_0-rmse:0.71729\n"
     ]
    },
    {
     "name": "stderr",
     "output_type": "stream",
     "text": [
      "\u001b[32m[I 2021-08-29 17:49:53,009]\u001b[0m Trial 41 finished with value: 0.7172852308185155 and parameters: {'learning_rate': 0.020986856374331904, 'reg_lambda': 0.00013528631545534363, 'reg_alpha': 2.6711407788630206, 'subsample': 0.8992454772425582, 'colsample_bytree': 0.16168152133632746, 'max_depth': 5}. Best is trial 27 with value: 0.7169465235510132.\u001b[0m\n"
     ]
    },
    {
     "name": "stdout",
     "output_type": "stream",
     "text": [
      "[17:49:54] WARNING: C:/Users/Administrator/workspace/xgboost-win64_release_1.4.0/src/learner.cc:231: Only 1 GPUs are visible, setting `gpu_id` to 0\n",
      "[0]\tvalidation_0-rmse:7.62915\n",
      "[1000]\tvalidation_0-rmse:0.72369\n",
      "[2000]\tvalidation_0-rmse:0.71981\n",
      "[3000]\tvalidation_0-rmse:0.71837\n",
      "[4000]\tvalidation_0-rmse:0.71767\n",
      "[5000]\tvalidation_0-rmse:0.71737\n",
      "[6000]\tvalidation_0-rmse:0.71722\n",
      "[6999]\tvalidation_0-rmse:0.71715\n"
     ]
    },
    {
     "name": "stderr",
     "output_type": "stream",
     "text": [
      "\u001b[32m[I 2021-08-29 17:51:09,660]\u001b[0m Trial 42 finished with value: 0.7171504714230479 and parameters: {'learning_rate': 0.019556396412930662, 'reg_lambda': 2.6074659944947934e-05, 'reg_alpha': 1.9974808603864163, 'subsample': 0.7541846748571625, 'colsample_bytree': 0.15515364939935056, 'max_depth': 4}. Best is trial 27 with value: 0.7169465235510132.\u001b[0m\n"
     ]
    },
    {
     "name": "stdout",
     "output_type": "stream",
     "text": [
      "[17:51:10] WARNING: C:/Users/Administrator/workspace/xgboost-win64_release_1.4.0/src/learner.cc:231: Only 1 GPUs are visible, setting `gpu_id` to 0\n",
      "[0]\tvalidation_0-rmse:7.68285\n",
      "[1000]\tvalidation_0-rmse:0.72599\n",
      "[2000]\tvalidation_0-rmse:0.72203\n",
      "[3000]\tvalidation_0-rmse:0.72007\n",
      "[4000]\tvalidation_0-rmse:0.71898\n",
      "[5000]\tvalidation_0-rmse:0.71833\n",
      "[6000]\tvalidation_0-rmse:0.71791\n",
      "[6999]\tvalidation_0-rmse:0.71762\n"
     ]
    },
    {
     "name": "stderr",
     "output_type": "stream",
     "text": [
      "\u001b[32m[I 2021-08-29 17:52:26,811]\u001b[0m Trial 43 finished with value: 0.7176184250090515 and parameters: {'learning_rate': 0.012585895076682107, 'reg_lambda': 2.9621298541545353e-06, 'reg_alpha': 2.5208642833888195, 'subsample': 0.750261771971135, 'colsample_bytree': 0.23155270480798812, 'max_depth': 4}. Best is trial 27 with value: 0.7169465235510132.\u001b[0m\n"
     ]
    },
    {
     "name": "stdout",
     "output_type": "stream",
     "text": [
      "[17:52:28] WARNING: C:/Users/Administrator/workspace/xgboost-win64_release_1.4.0/src/learner.cc:231: Only 1 GPUs are visible, setting `gpu_id` to 0\n",
      "[0]\tvalidation_0-rmse:7.63293\n",
      "[1000]\tvalidation_0-rmse:0.72452\n",
      "[2000]\tvalidation_0-rmse:0.72055\n",
      "[3000]\tvalidation_0-rmse:0.71880\n",
      "[4000]\tvalidation_0-rmse:0.71801\n",
      "[5000]\tvalidation_0-rmse:0.71759\n",
      "[6000]\tvalidation_0-rmse:0.71736\n",
      "[6999]\tvalidation_0-rmse:0.71729\n"
     ]
    },
    {
     "name": "stderr",
     "output_type": "stream",
     "text": [
      "\u001b[32m[I 2021-08-29 17:53:43,638]\u001b[0m Trial 44 finished with value: 0.7172883503466053 and parameters: {'learning_rate': 0.019066722180712696, 'reg_lambda': 3.0088268509017616e-05, 'reg_alpha': 24.45127753976268, 'subsample': 0.6880981920997017, 'colsample_bytree': 0.2810477842628215, 'max_depth': 4}. Best is trial 27 with value: 0.7169465235510132.\u001b[0m\n"
     ]
    },
    {
     "name": "stdout",
     "output_type": "stream",
     "text": [
      "[17:53:44] WARNING: C:/Users/Administrator/workspace/xgboost-win64_release_1.4.0/src/learner.cc:231: Only 1 GPUs are visible, setting `gpu_id` to 0\n",
      "[0]\tvalidation_0-rmse:7.53402\n",
      "[1000]\tvalidation_0-rmse:0.72103\n",
      "[2000]\tvalidation_0-rmse:0.71851\n",
      "[3000]\tvalidation_0-rmse:0.71797\n",
      "[3786]\tvalidation_0-rmse:0.71796\n"
     ]
    },
    {
     "name": "stderr",
     "output_type": "stream",
     "text": [
      "\u001b[32m[I 2021-08-29 17:54:25,958]\u001b[0m Trial 45 finished with value: 0.7179098364827263 and parameters: {'learning_rate': 0.03190104013773059, 'reg_lambda': 4.974076156836809e-07, 'reg_alpha': 2.4208767513358476, 'subsample': 0.7699397577350585, 'colsample_bytree': 0.3547065197470361, 'max_depth': 4}. Best is trial 27 with value: 0.7169465235510132.\u001b[0m\n"
     ]
    },
    {
     "name": "stdout",
     "output_type": "stream",
     "text": [
      "[17:54:27] WARNING: C:/Users/Administrator/workspace/xgboost-win64_release_1.4.0/src/learner.cc:231: Only 1 GPUs are visible, setting `gpu_id` to 0\n",
      "[0]\tvalidation_0-rmse:7.64954\n",
      "[1000]\tvalidation_0-rmse:0.72450\n",
      "[2000]\tvalidation_0-rmse:0.72040\n",
      "[3000]\tvalidation_0-rmse:0.71878\n",
      "[4000]\tvalidation_0-rmse:0.71798\n",
      "[5000]\tvalidation_0-rmse:0.71757\n",
      "[6000]\tvalidation_0-rmse:0.71740\n",
      "[6999]\tvalidation_0-rmse:0.71730\n"
     ]
    },
    {
     "name": "stderr",
     "output_type": "stream",
     "text": [
      "\u001b[32m[I 2021-08-29 17:55:45,069]\u001b[0m Trial 46 finished with value: 0.7172873856534767 and parameters: {'learning_rate': 0.016910486285252404, 'reg_lambda': 0.00019097700972685465, 'reg_alpha': 0.0644491768786958, 'subsample': 0.822981906716743, 'colsample_bytree': 0.144492397510978, 'max_depth': 4}. Best is trial 27 with value: 0.7169465235510132.\u001b[0m\n"
     ]
    },
    {
     "name": "stdout",
     "output_type": "stream",
     "text": [
      "[17:55:46] WARNING: C:/Users/Administrator/workspace/xgboost-win64_release_1.4.0/src/learner.cc:231: Only 1 GPUs are visible, setting `gpu_id` to 0\n",
      "[0]\tvalidation_0-rmse:7.68322\n",
      "[1000]\tvalidation_0-rmse:0.72386\n",
      "[2000]\tvalidation_0-rmse:0.72011\n",
      "[3000]\tvalidation_0-rmse:0.71874\n",
      "[4000]\tvalidation_0-rmse:0.71816\n",
      "[5000]\tvalidation_0-rmse:0.71785\n",
      "[6000]\tvalidation_0-rmse:0.71776\n",
      "[6117]\tvalidation_0-rmse:0.71777\n"
     ]
    },
    {
     "name": "stderr",
     "output_type": "stream",
     "text": [
      "\u001b[32m[I 2021-08-29 17:56:59,333]\u001b[0m Trial 47 finished with value: 0.7177507346452664 and parameters: {'learning_rate': 0.012536589606590666, 'reg_lambda': 0.0006150260113767585, 'reg_alpha': 0.013814807190334797, 'subsample': 0.5914466376469564, 'colsample_bytree': 0.2015542094439625, 'max_depth': 5}. Best is trial 27 with value: 0.7169465235510132.\u001b[0m\n"
     ]
    },
    {
     "name": "stdout",
     "output_type": "stream",
     "text": [
      "[17:57:00] WARNING: C:/Users/Administrator/workspace/xgboost-win64_release_1.4.0/src/learner.cc:231: Only 1 GPUs are visible, setting `gpu_id` to 0\n",
      "[0]\tvalidation_0-rmse:7.59827\n",
      "[1000]\tvalidation_0-rmse:0.72177\n",
      "[2000]\tvalidation_0-rmse:0.71825\n",
      "[3000]\tvalidation_0-rmse:0.71749\n",
      "[4000]\tvalidation_0-rmse:0.71733\n",
      "[4089]\tvalidation_0-rmse:0.71731\n"
     ]
    },
    {
     "name": "stderr",
     "output_type": "stream",
     "text": [
      "\u001b[32m[I 2021-08-29 17:57:50,016]\u001b[0m Trial 48 finished with value: 0.7172852066215707 and parameters: {'learning_rate': 0.02356800142665845, 'reg_lambda': 3.532111857993277, 'reg_alpha': 1.3630768086484288, 'subsample': 0.677954503462587, 'colsample_bytree': 0.1031455154964184, 'max_depth': 5}. Best is trial 27 with value: 0.7169465235510132.\u001b[0m\n"
     ]
    },
    {
     "name": "stdout",
     "output_type": "stream",
     "text": [
      "[17:57:51] WARNING: C:/Users/Administrator/workspace/xgboost-win64_release_1.4.0/src/learner.cc:231: Only 1 GPUs are visible, setting `gpu_id` to 0\n",
      "[0]\tvalidation_0-rmse:7.58772\n",
      "[1000]\tvalidation_0-rmse:0.72533\n",
      "[2000]\tvalidation_0-rmse:0.72109\n",
      "[3000]\tvalidation_0-rmse:0.71921\n",
      "[4000]\tvalidation_0-rmse:0.71822\n",
      "[5000]\tvalidation_0-rmse:0.71763\n",
      "[6000]\tvalidation_0-rmse:0.71726\n",
      "[6999]\tvalidation_0-rmse:0.71706\n"
     ]
    },
    {
     "name": "stderr",
     "output_type": "stream",
     "text": [
      "\u001b[32m[I 2021-08-29 17:58:54,637]\u001b[0m Trial 49 finished with value: 0.7170583601032742 and parameters: {'learning_rate': 0.024937549450851755, 'reg_lambda': 3.6180636520054845, 'reg_alpha': 14.831697100306078, 'subsample': 0.6770009778242899, 'colsample_bytree': 0.13163755946077163, 'max_depth': 3}. Best is trial 27 with value: 0.7169465235510132.\u001b[0m\n"
     ]
    },
    {
     "name": "stdout",
     "output_type": "stream",
     "text": [
      "[17:58:55] WARNING: C:/Users/Administrator/workspace/xgboost-win64_release_1.4.0/src/learner.cc:231: Only 1 GPUs are visible, setting `gpu_id` to 0\n",
      "[0]\tvalidation_0-rmse:7.50739\n",
      "[1000]\tvalidation_0-rmse:0.72296\n",
      "[2000]\tvalidation_0-rmse:0.71944\n",
      "[3000]\tvalidation_0-rmse:0.71807\n",
      "[4000]\tvalidation_0-rmse:0.71748\n",
      "[5000]\tvalidation_0-rmse:0.71725\n",
      "[5717]\tvalidation_0-rmse:0.71720\n"
     ]
    },
    {
     "name": "stderr",
     "output_type": "stream",
     "text": [
      "\u001b[32m[I 2021-08-29 17:59:48,956]\u001b[0m Trial 50 finished with value: 0.7171883583856288 and parameters: {'learning_rate': 0.035366696382901665, 'reg_lambda': 11.999982475108006, 'reg_alpha': 11.856541659558571, 'subsample': 0.7364272212356074, 'colsample_bytree': 0.23635394882205876, 'max_depth': 3}. Best is trial 27 with value: 0.7169465235510132.\u001b[0m\n"
     ]
    },
    {
     "name": "stdout",
     "output_type": "stream",
     "text": [
      "[17:59:50] WARNING: C:/Users/Administrator/workspace/xgboost-win64_release_1.4.0/src/learner.cc:231: Only 1 GPUs are visible, setting `gpu_id` to 0\n",
      "[0]\tvalidation_0-rmse:7.51635\n",
      "[1000]\tvalidation_0-rmse:0.72337\n",
      "[2000]\tvalidation_0-rmse:0.71963\n",
      "[3000]\tvalidation_0-rmse:0.71814\n",
      "[4000]\tvalidation_0-rmse:0.71753\n",
      "[5000]\tvalidation_0-rmse:0.71718\n",
      "[6000]\tvalidation_0-rmse:0.71697\n",
      "[6999]\tvalidation_0-rmse:0.71692\n"
     ]
    },
    {
     "name": "stderr",
     "output_type": "stream",
     "text": [
      "\u001b[32m[I 2021-08-29 18:00:55,318]\u001b[0m Trial 51 finished with value: 0.7169064837392827 and parameters: {'learning_rate': 0.0342032910688893, 'reg_lambda': 16.984336234349644, 'reg_alpha': 13.2209270507238, 'subsample': 0.7396101488182523, 'colsample_bytree': 0.13653907086890005, 'max_depth': 3}. Best is trial 51 with value: 0.7169064837392827.\u001b[0m\n"
     ]
    },
    {
     "name": "stdout",
     "output_type": "stream",
     "text": [
      "[18:00:56] WARNING: C:/Users/Administrator/workspace/xgboost-win64_release_1.4.0/src/learner.cc:231: Only 1 GPUs are visible, setting `gpu_id` to 0\n",
      "[0]\tvalidation_0-rmse:7.57883\n",
      "[1000]\tvalidation_0-rmse:0.72955\n",
      "[2000]\tvalidation_0-rmse:0.72548\n",
      "[3000]\tvalidation_0-rmse:0.72322\n",
      "[4000]\tvalidation_0-rmse:0.72161\n",
      "[5000]\tvalidation_0-rmse:0.72052\n",
      "[6000]\tvalidation_0-rmse:0.71967\n",
      "[6999]\tvalidation_0-rmse:0.71906\n"
     ]
    },
    {
     "name": "stderr",
     "output_type": "stream",
     "text": [
      "\u001b[32m[I 2021-08-29 18:01:50,863]\u001b[0m Trial 52 finished with value: 0.7190606703262876 and parameters: {'learning_rate': 0.026106813670218967, 'reg_lambda': 87.00896649174065, 'reg_alpha': 22.947557942630144, 'subsample': 0.6501360433776262, 'colsample_bytree': 0.14209748516424048, 'max_depth': 2}. Best is trial 51 with value: 0.7169064837392827.\u001b[0m\n"
     ]
    },
    {
     "name": "stdout",
     "output_type": "stream",
     "text": [
      "[18:01:52] WARNING: C:/Users/Administrator/workspace/xgboost-win64_release_1.4.0/src/learner.cc:231: Only 1 GPUs are visible, setting `gpu_id` to 0\n",
      "[0]\tvalidation_0-rmse:7.54702\n",
      "[1000]\tvalidation_0-rmse:0.72504\n",
      "[2000]\tvalidation_0-rmse:0.72108\n",
      "[3000]\tvalidation_0-rmse:0.71949\n",
      "[4000]\tvalidation_0-rmse:0.71867\n",
      "[5000]\tvalidation_0-rmse:0.71814\n",
      "[6000]\tvalidation_0-rmse:0.71784\n",
      "[6999]\tvalidation_0-rmse:0.71765\n"
     ]
    },
    {
     "name": "stderr",
     "output_type": "stream",
     "text": [
      "\u001b[32m[I 2021-08-29 18:02:52,133]\u001b[0m Trial 53 finished with value: 0.7176532421582588 and parameters: {'learning_rate': 0.030224884111753943, 'reg_lambda': 0.9886011933922175, 'reg_alpha': 47.47076371456652, 'subsample': 0.5352797316166602, 'colsample_bytree': 0.13333843641154192, 'max_depth': 3}. Best is trial 51 with value: 0.7169064837392827.\u001b[0m\n"
     ]
    },
    {
     "name": "stdout",
     "output_type": "stream",
     "text": [
      "[18:02:53] WARNING: C:/Users/Administrator/workspace/xgboost-win64_release_1.4.0/src/learner.cc:231: Only 1 GPUs are visible, setting `gpu_id` to 0\n",
      "[0]\tvalidation_0-rmse:7.45236\n",
      "[1000]\tvalidation_0-rmse:0.71989\n",
      "[2000]\tvalidation_0-rmse:0.71803\n",
      "[2860]\tvalidation_0-rmse:0.71792\n"
     ]
    },
    {
     "name": "stderr",
     "output_type": "stream",
     "text": [
      "\u001b[32m[I 2021-08-29 18:03:24,315]\u001b[0m Trial 54 finished with value: 0.7178923651476208 and parameters: {'learning_rate': 0.04251123332183451, 'reg_lambda': 11.931379238501485, 'reg_alpha': 0.31690008320202057, 'subsample': 0.7866008681207287, 'colsample_bytree': 0.296041510880818, 'max_depth': 4}. Best is trial 51 with value: 0.7169064837392827.\u001b[0m\n"
     ]
    },
    {
     "name": "stdout",
     "output_type": "stream",
     "text": [
      "[18:03:25] WARNING: C:/Users/Administrator/workspace/xgboost-win64_release_1.4.0/src/learner.cc:231: Only 1 GPUs are visible, setting `gpu_id` to 0\n",
      "[0]\tvalidation_0-rmse:7.63568\n",
      "[1000]\tvalidation_0-rmse:0.72701\n",
      "[2000]\tvalidation_0-rmse:0.72262\n",
      "[3000]\tvalidation_0-rmse:0.72046\n",
      "[4000]\tvalidation_0-rmse:0.71926\n",
      "[5000]\tvalidation_0-rmse:0.71858\n",
      "[6000]\tvalidation_0-rmse:0.71815\n",
      "[6999]\tvalidation_0-rmse:0.71784\n"
     ]
    },
    {
     "name": "stderr",
     "output_type": "stream",
     "text": [
      "\u001b[32m[I 2021-08-29 18:04:31,213]\u001b[0m Trial 55 finished with value: 0.7178448731884977 and parameters: {'learning_rate': 0.01871365837887914, 'reg_lambda': 27.850302566169415, 'reg_alpha': 4.471278057232687, 'subsample': 0.7363085305323837, 'colsample_bytree': 0.6044068629572572, 'max_depth': 3}. Best is trial 51 with value: 0.7169064837392827.\u001b[0m\n"
     ]
    },
    {
     "name": "stdout",
     "output_type": "stream",
     "text": [
      "[18:04:32] WARNING: C:/Users/Administrator/workspace/xgboost-win64_release_1.4.0/src/learner.cc:231: Only 1 GPUs are visible, setting `gpu_id` to 0\n",
      "[0]\tvalidation_0-rmse:7.19498\n",
      "[1000]\tvalidation_0-rmse:0.71927\n",
      "[2000]\tvalidation_0-rmse:0.71773\n",
      "[3000]\tvalidation_0-rmse:0.71755\n",
      "[3007]\tvalidation_0-rmse:0.71755\n"
     ]
    },
    {
     "name": "stderr",
     "output_type": "stream",
     "text": [
      "\u001b[32m[I 2021-08-29 18:04:56,629]\u001b[0m Trial 56 finished with value: 0.7175310692309262 and parameters: {'learning_rate': 0.07592768294892686, 'reg_lambda': 0.234279103502281, 'reg_alpha': 16.509456495672875, 'subsample': 0.45668742025612197, 'colsample_bytree': 0.2127437166986318, 'max_depth': 3}. Best is trial 51 with value: 0.7169064837392827.\u001b[0m\n"
     ]
    },
    {
     "name": "stdout",
     "output_type": "stream",
     "text": [
      "[18:04:57] WARNING: C:/Users/Administrator/workspace/xgboost-win64_release_1.4.0/src/learner.cc:231: Only 1 GPUs are visible, setting `gpu_id` to 0\n",
      "[0]\tvalidation_0-rmse:7.38007\n",
      "[1000]\tvalidation_0-rmse:0.72632\n",
      "[2000]\tvalidation_0-rmse:0.72283\n",
      "[3000]\tvalidation_0-rmse:0.72111\n",
      "[4000]\tvalidation_0-rmse:0.72015\n",
      "[5000]\tvalidation_0-rmse:0.71958\n",
      "[6000]\tvalidation_0-rmse:0.71916\n",
      "[6999]\tvalidation_0-rmse:0.71890\n"
     ]
    },
    {
     "name": "stderr",
     "output_type": "stream",
     "text": [
      "\u001b[32m[I 2021-08-29 18:05:53,021]\u001b[0m Trial 57 finished with value: 0.7189001302725929 and parameters: {'learning_rate': 0.051898714536703874, 'reg_lambda': 4.205520829978453, 'reg_alpha': 89.50006604239134, 'subsample': 0.6313512551873931, 'colsample_bytree': 0.13482633057266527, 'max_depth': 2}. Best is trial 51 with value: 0.7169064837392827.\u001b[0m\n"
     ]
    },
    {
     "name": "stdout",
     "output_type": "stream",
     "text": [
      "[18:05:54] WARNING: C:/Users/Administrator/workspace/xgboost-win64_release_1.4.0/src/learner.cc:231: Only 1 GPUs are visible, setting `gpu_id` to 0\n",
      "[0]\tvalidation_0-rmse:7.50028\n",
      "[1000]\tvalidation_0-rmse:0.73233\n",
      "[2000]\tvalidation_0-rmse:0.72972\n",
      "[3000]\tvalidation_0-rmse:0.72831\n",
      "[4000]\tvalidation_0-rmse:0.72733\n",
      "[5000]\tvalidation_0-rmse:0.72653\n",
      "[6000]\tvalidation_0-rmse:0.72587\n",
      "[6999]\tvalidation_0-rmse:0.72531\n"
     ]
    },
    {
     "name": "stderr",
     "output_type": "stream",
     "text": [
      "\u001b[32m[I 2021-08-29 18:06:36,727]\u001b[0m Trial 58 finished with value: 0.7253059488485423 and parameters: {'learning_rate': 0.03628078427968684, 'reg_lambda': 0.9083059745802948, 'reg_alpha': 5.047457152684856, 'subsample': 0.5698036575888632, 'colsample_bytree': 0.179262742038668, 'max_depth': 1}. Best is trial 51 with value: 0.7169064837392827.\u001b[0m\n"
     ]
    },
    {
     "name": "stdout",
     "output_type": "stream",
     "text": [
      "[18:06:37] WARNING: C:/Users/Administrator/workspace/xgboost-win64_release_1.4.0/src/learner.cc:231: Only 1 GPUs are visible, setting `gpu_id` to 0\n",
      "[0]\tvalidation_0-rmse:7.59438\n",
      "[1000]\tvalidation_0-rmse:0.72203\n",
      "[2000]\tvalidation_0-rmse:0.71905\n",
      "[3000]\tvalidation_0-rmse:0.71820\n",
      "[4000]\tvalidation_0-rmse:0.71781\n",
      "[4241]\tvalidation_0-rmse:0.71784\n"
     ]
    },
    {
     "name": "stderr",
     "output_type": "stream",
     "text": [
      "\u001b[32m[I 2021-08-29 18:07:18,371]\u001b[0m Trial 59 finished with value: 0.7177929174232719 and parameters: {'learning_rate': 0.02406955379595528, 'reg_lambda': 3.05668959852105e-06, 'reg_alpha': 1.093125136977042, 'subsample': 0.5204073820188172, 'colsample_bytree': 0.24562773080642814, 'max_depth': 4}. Best is trial 51 with value: 0.7169064837392827.\u001b[0m\n"
     ]
    },
    {
     "name": "stdout",
     "output_type": "stream",
     "text": [
      "[18:07:19] WARNING: C:/Users/Administrator/workspace/xgboost-win64_release_1.4.0/src/learner.cc:231: Only 1 GPUs are visible, setting `gpu_id` to 0\n",
      "[0]\tvalidation_0-rmse:7.65662\n",
      "[1000]\tvalidation_0-rmse:0.72928\n",
      "[2000]\tvalidation_0-rmse:0.72425\n",
      "[3000]\tvalidation_0-rmse:0.72181\n",
      "[4000]\tvalidation_0-rmse:0.72036\n",
      "[5000]\tvalidation_0-rmse:0.71942\n",
      "[6000]\tvalidation_0-rmse:0.71877\n",
      "[6999]\tvalidation_0-rmse:0.71830\n"
     ]
    },
    {
     "name": "stderr",
     "output_type": "stream",
     "text": [
      "\u001b[32m[I 2021-08-29 18:08:24,715]\u001b[0m Trial 60 finished with value: 0.7183000875549204 and parameters: {'learning_rate': 0.015996128931935027, 'reg_lambda': 39.394494798548536, 'reg_alpha': 33.24030261162947, 'subsample': 0.7149463572140011, 'colsample_bytree': 0.12968175814413035, 'max_depth': 3}. Best is trial 51 with value: 0.7169064837392827.\u001b[0m\n"
     ]
    },
    {
     "name": "stdout",
     "output_type": "stream",
     "text": [
      "[18:08:26] WARNING: C:/Users/Administrator/workspace/xgboost-win64_release_1.4.0/src/learner.cc:231: Only 1 GPUs are visible, setting `gpu_id` to 0\n",
      "[0]\tvalidation_0-rmse:7.51773\n",
      "[1000]\tvalidation_0-rmse:0.72432\n",
      "[2000]\tvalidation_0-rmse:0.72020\n",
      "[3000]\tvalidation_0-rmse:0.71857\n",
      "[4000]\tvalidation_0-rmse:0.71778\n",
      "[5000]\tvalidation_0-rmse:0.71737\n",
      "[6000]\tvalidation_0-rmse:0.71715\n",
      "[6999]\tvalidation_0-rmse:0.71706\n"
     ]
    },
    {
     "name": "stderr",
     "output_type": "stream",
     "text": [
      "\u001b[32m[I 2021-08-29 18:09:30,427]\u001b[0m Trial 61 finished with value: 0.717047634283161 and parameters: {'learning_rate': 0.03402272118938197, 'reg_lambda': 10.867082284069367, 'reg_alpha': 9.709157453689935, 'subsample': 0.7222637700307358, 'colsample_bytree': 0.10126287501841698, 'max_depth': 3}. Best is trial 51 with value: 0.7169064837392827.\u001b[0m\n"
     ]
    },
    {
     "name": "stdout",
     "output_type": "stream",
     "text": [
      "[18:09:31] WARNING: C:/Users/Administrator/workspace/xgboost-win64_release_1.4.0/src/learner.cc:231: Only 1 GPUs are visible, setting `gpu_id` to 0\n",
      "[0]\tvalidation_0-rmse:7.56842\n",
      "[1000]\tvalidation_0-rmse:0.72585\n",
      "[2000]\tvalidation_0-rmse:0.72129\n",
      "[3000]\tvalidation_0-rmse:0.71929\n",
      "[4000]\tvalidation_0-rmse:0.71829\n",
      "[5000]\tvalidation_0-rmse:0.71770\n",
      "[6000]\tvalidation_0-rmse:0.71735\n",
      "[6999]\tvalidation_0-rmse:0.71714\n"
     ]
    },
    {
     "name": "stderr",
     "output_type": "stream",
     "text": [
      "\u001b[32m[I 2021-08-29 18:10:34,138]\u001b[0m Trial 62 finished with value: 0.7171348329363908 and parameters: {'learning_rate': 0.027441927330352996, 'reg_lambda': 4.287919694415656, 'reg_alpha': 11.96287547931982, 'subsample': 0.6681603612971316, 'colsample_bytree': 0.11826533430841153, 'max_depth': 3}. Best is trial 51 with value: 0.7169064837392827.\u001b[0m\n"
     ]
    },
    {
     "name": "stdout",
     "output_type": "stream",
     "text": [
      "[18:10:35] WARNING: C:/Users/Administrator/workspace/xgboost-win64_release_1.4.0/src/learner.cc:231: Only 1 GPUs are visible, setting `gpu_id` to 0\n",
      "[0]\tvalidation_0-rmse:7.56113\n",
      "[1000]\tvalidation_0-rmse:0.72403\n",
      "[2000]\tvalidation_0-rmse:0.72017\n",
      "[3000]\tvalidation_0-rmse:0.71860\n",
      "[4000]\tvalidation_0-rmse:0.71781\n",
      "[5000]\tvalidation_0-rmse:0.71736\n",
      "[6000]\tvalidation_0-rmse:0.71710\n",
      "[6999]\tvalidation_0-rmse:0.71703\n"
     ]
    },
    {
     "name": "stderr",
     "output_type": "stream",
     "text": [
      "\u001b[32m[I 2021-08-29 18:11:37,880]\u001b[0m Trial 63 finished with value: 0.7170123623672999 and parameters: {'learning_rate': 0.028388989604161113, 'reg_lambda': 6.844627278429386, 'reg_alpha': 10.415174985830276, 'subsample': 0.6717844324233733, 'colsample_bytree': 0.18650258342928225, 'max_depth': 3}. Best is trial 51 with value: 0.7169064837392827.\u001b[0m\n"
     ]
    },
    {
     "name": "stdout",
     "output_type": "stream",
     "text": [
      "[18:11:39] WARNING: C:/Users/Administrator/workspace/xgboost-win64_release_1.4.0/src/learner.cc:231: Only 1 GPUs are visible, setting `gpu_id` to 0\n",
      "[0]\tvalidation_0-rmse:7.55877\n",
      "[1000]\tvalidation_0-rmse:0.72993\n",
      "[2000]\tvalidation_0-rmse:0.72577\n",
      "[3000]\tvalidation_0-rmse:0.72342\n",
      "[4000]\tvalidation_0-rmse:0.72190\n",
      "[5000]\tvalidation_0-rmse:0.72073\n",
      "[6000]\tvalidation_0-rmse:0.71988\n",
      "[6999]\tvalidation_0-rmse:0.71928\n"
     ]
    },
    {
     "name": "stderr",
     "output_type": "stream",
     "text": [
      "\u001b[32m[I 2021-08-29 18:12:34,043]\u001b[0m Trial 64 finished with value: 0.7192836419014843 and parameters: {'learning_rate': 0.028695496542595032, 'reg_lambda': 4.358813022838906, 'reg_alpha': 12.290678479888197, 'subsample': 0.6763791377463851, 'colsample_bytree': 0.10269704242656798, 'max_depth': 2}. Best is trial 51 with value: 0.7169064837392827.\u001b[0m\n"
     ]
    },
    {
     "name": "stdout",
     "output_type": "stream",
     "text": [
      "[18:12:35] WARNING: C:/Users/Administrator/workspace/xgboost-win64_release_1.4.0/src/learner.cc:231: Only 1 GPUs are visible, setting `gpu_id` to 0\n",
      "[0]\tvalidation_0-rmse:7.52650\n",
      "[1000]\tvalidation_0-rmse:0.72391\n",
      "[2000]\tvalidation_0-rmse:0.72024\n",
      "[3000]\tvalidation_0-rmse:0.71878\n",
      "[4000]\tvalidation_0-rmse:0.71804\n",
      "[5000]\tvalidation_0-rmse:0.71760\n",
      "[6000]\tvalidation_0-rmse:0.71738\n",
      "[6999]\tvalidation_0-rmse:0.71726\n"
     ]
    },
    {
     "name": "stderr",
     "output_type": "stream",
     "text": [
      "\u001b[32m[I 2021-08-29 18:13:41,409]\u001b[0m Trial 65 finished with value: 0.7172542757818807 and parameters: {'learning_rate': 0.0328844298638275, 'reg_lambda': 7.77760321772356, 'reg_alpha': 40.941094940574594, 'subsample': 0.7161961566032021, 'colsample_bytree': 0.1778214420856007, 'max_depth': 3}. Best is trial 51 with value: 0.7169064837392827.\u001b[0m\n"
     ]
    },
    {
     "name": "stdout",
     "output_type": "stream",
     "text": [
      "[18:13:42] WARNING: C:/Users/Administrator/workspace/xgboost-win64_release_1.4.0/src/learner.cc:231: Only 1 GPUs are visible, setting `gpu_id` to 0\n",
      "[0]\tvalidation_0-rmse:7.47580\n",
      "[1000]\tvalidation_0-rmse:0.72611\n",
      "[2000]\tvalidation_0-rmse:0.72231\n",
      "[3000]\tvalidation_0-rmse:0.72026\n",
      "[4000]\tvalidation_0-rmse:0.71917\n",
      "[5000]\tvalidation_0-rmse:0.71848\n",
      "[6000]\tvalidation_0-rmse:0.71807\n",
      "[6999]\tvalidation_0-rmse:0.71783\n"
     ]
    },
    {
     "name": "stderr",
     "output_type": "stream",
     "text": [
      "\u001b[32m[I 2021-08-29 18:14:34,981]\u001b[0m Trial 66 finished with value: 0.7178208741474293 and parameters: {'learning_rate': 0.03945846655474684, 'reg_lambda': 1.4386972471070407, 'reg_alpha': 0.0006309589962044912, 'subsample': 0.6187435478768212, 'colsample_bytree': 0.20892236882135065, 'max_depth': 2}. Best is trial 51 with value: 0.7169064837392827.\u001b[0m\n"
     ]
    },
    {
     "name": "stdout",
     "output_type": "stream",
     "text": [
      "[18:14:36] WARNING: C:/Users/Administrator/workspace/xgboost-win64_release_1.4.0/src/learner.cc:231: Only 1 GPUs are visible, setting `gpu_id` to 0\n",
      "[0]\tvalidation_0-rmse:7.56780\n",
      "[1000]\tvalidation_0-rmse:0.72443\n",
      "[2000]\tvalidation_0-rmse:0.72049\n",
      "[3000]\tvalidation_0-rmse:0.71881\n",
      "[4000]\tvalidation_0-rmse:0.71797\n",
      "[5000]\tvalidation_0-rmse:0.71747\n",
      "[6000]\tvalidation_0-rmse:0.71715\n",
      "[6999]\tvalidation_0-rmse:0.71703\n"
     ]
    },
    {
     "name": "stderr",
     "output_type": "stream",
     "text": [
      "\u001b[32m[I 2021-08-29 18:15:38,693]\u001b[0m Trial 67 finished with value: 0.7170219226583509 and parameters: {'learning_rate': 0.02751950815515217, 'reg_lambda': 0.3922053435428138, 'reg_alpha': 9.096812516922105, 'subsample': 0.663478018839652, 'colsample_bytree': 0.13298600434593233, 'max_depth': 3}. Best is trial 51 with value: 0.7169064837392827.\u001b[0m\n"
     ]
    },
    {
     "name": "stdout",
     "output_type": "stream",
     "text": [
      "[18:15:40] WARNING: C:/Users/Administrator/workspace/xgboost-win64_release_1.4.0/src/learner.cc:231: Only 1 GPUs are visible, setting `gpu_id` to 0\n",
      "[0]\tvalidation_0-rmse:7.51881\n",
      "[1000]\tvalidation_0-rmse:0.72290\n",
      "[2000]\tvalidation_0-rmse:0.71951\n",
      "[3000]\tvalidation_0-rmse:0.71811\n",
      "[4000]\tvalidation_0-rmse:0.71750\n",
      "[5000]\tvalidation_0-rmse:0.71723\n",
      "[5978]\tvalidation_0-rmse:0.71713\n"
     ]
    },
    {
     "name": "stderr",
     "output_type": "stream",
     "text": [
      "\u001b[32m[I 2021-08-29 18:16:36,903]\u001b[0m Trial 68 finished with value: 0.7171191931155854 and parameters: {'learning_rate': 0.03387836046543186, 'reg_lambda': 0.1465571285734156, 'reg_alpha': 6.654111326830244, 'subsample': 0.7997405321653939, 'colsample_bytree': 0.1886508291926055, 'max_depth': 3}. Best is trial 51 with value: 0.7169064837392827.\u001b[0m\n"
     ]
    },
    {
     "name": "stdout",
     "output_type": "stream",
     "text": [
      "[18:16:38] WARNING: C:/Users/Administrator/workspace/xgboost-win64_release_1.4.0/src/learner.cc:231: Only 1 GPUs are visible, setting `gpu_id` to 0\n",
      "[0]\tvalidation_0-rmse:7.42890\n",
      "[1000]\tvalidation_0-rmse:0.72137\n",
      "[2000]\tvalidation_0-rmse:0.71902\n",
      "[3000]\tvalidation_0-rmse:0.71844\n",
      "[3300]\tvalidation_0-rmse:0.71846\n"
     ]
    },
    {
     "name": "stderr",
     "output_type": "stream",
     "text": [
      "\u001b[32m[I 2021-08-29 18:17:06,758]\u001b[0m Trial 69 finished with value: 0.7184346648310296 and parameters: {'learning_rate': 0.04554182036385577, 'reg_lambda': 0.3805211691456664, 'reg_alpha': 0.507006343501545, 'subsample': 0.588630285127672, 'colsample_bytree': 0.856122318923411, 'max_depth': 3}. Best is trial 51 with value: 0.7169064837392827.\u001b[0m\n"
     ]
    },
    {
     "name": "stdout",
     "output_type": "stream",
     "text": [
      "[18:17:07] WARNING: C:/Users/Administrator/workspace/xgboost-win64_release_1.4.0/src/learner.cc:231: Only 1 GPUs are visible, setting `gpu_id` to 0\n",
      "[0]\tvalidation_0-rmse:6.58074\n",
      "[1000]\tvalidation_0-rmse:0.72024\n",
      "[2000]\tvalidation_0-rmse:0.71802\n",
      "[3000]\tvalidation_0-rmse:0.71743\n",
      "[4000]\tvalidation_0-rmse:0.71724\n",
      "[4523]\tvalidation_0-rmse:0.71721\n"
     ]
    },
    {
     "name": "stderr",
     "output_type": "stream",
     "text": [
      "\u001b[32m[I 2021-08-29 18:17:44,898]\u001b[0m Trial 70 finished with value: 0.7171959157457842 and parameters: {'learning_rate': 0.1557452332939431, 'reg_lambda': 0.06992697136547929, 'reg_alpha': 39.77916501159155, 'subsample': 0.7023736582149511, 'colsample_bytree': 0.1421444450297187, 'max_depth': 2}. Best is trial 51 with value: 0.7169064837392827.\u001b[0m\n"
     ]
    },
    {
     "name": "stdout",
     "output_type": "stream",
     "text": [
      "[18:17:46] WARNING: C:/Users/Administrator/workspace/xgboost-win64_release_1.4.0/src/learner.cc:231: Only 1 GPUs are visible, setting `gpu_id` to 0\n",
      "[0]\tvalidation_0-rmse:7.52183\n",
      "[1000]\tvalidation_0-rmse:0.72293\n",
      "[2000]\tvalidation_0-rmse:0.71955\n",
      "[3000]\tvalidation_0-rmse:0.71813\n",
      "[4000]\tvalidation_0-rmse:0.71752\n",
      "[5000]\tvalidation_0-rmse:0.71723\n",
      "[6000]\tvalidation_0-rmse:0.71712\n",
      "[6710]\tvalidation_0-rmse:0.71713\n"
     ]
    },
    {
     "name": "stderr",
     "output_type": "stream",
     "text": [
      "\u001b[32m[I 2021-08-29 18:18:50,030]\u001b[0m Trial 71 finished with value: 0.7170869828204085 and parameters: {'learning_rate': 0.03348691328826232, 'reg_lambda': 0.02531660006433406, 'reg_alpha': 6.239447493619506, 'subsample': 0.7970446351015607, 'colsample_bytree': 0.18680675050003, 'max_depth': 3}. Best is trial 51 with value: 0.7169064837392827.\u001b[0m\n"
     ]
    },
    {
     "name": "stdout",
     "output_type": "stream",
     "text": [
      "[18:18:51] WARNING: C:/Users/Administrator/workspace/xgboost-win64_release_1.4.0/src/learner.cc:231: Only 1 GPUs are visible, setting `gpu_id` to 0\n",
      "[0]\tvalidation_0-rmse:7.54565\n",
      "[1000]\tvalidation_0-rmse:0.72364\n",
      "[2000]\tvalidation_0-rmse:0.71998\n",
      "[3000]\tvalidation_0-rmse:0.71847\n",
      "[4000]\tvalidation_0-rmse:0.71779\n",
      "[5000]\tvalidation_0-rmse:0.71742\n",
      "[6000]\tvalidation_0-rmse:0.71730\n",
      "[6619]\tvalidation_0-rmse:0.71729\n"
     ]
    },
    {
     "name": "stderr",
     "output_type": "stream",
     "text": [
      "\u001b[32m[I 2021-08-29 18:19:55,140]\u001b[0m Trial 72 finished with value: 0.7172742283453603 and parameters: {'learning_rate': 0.03039371265903722, 'reg_lambda': 0.6090914570215756, 'reg_alpha': 5.759951556455678, 'subsample': 0.8305735305612857, 'colsample_bytree': 0.25280473687425614, 'max_depth': 3}. Best is trial 51 with value: 0.7169064837392827.\u001b[0m\n"
     ]
    },
    {
     "name": "stdout",
     "output_type": "stream",
     "text": [
      "[18:19:56] WARNING: C:/Users/Administrator/workspace/xgboost-win64_release_1.4.0/src/learner.cc:231: Only 1 GPUs are visible, setting `gpu_id` to 0\n",
      "[0]\tvalidation_0-rmse:7.57946\n",
      "[1000]\tvalidation_0-rmse:0.72515\n",
      "[2000]\tvalidation_0-rmse:0.72108\n",
      "[3000]\tvalidation_0-rmse:0.71922\n",
      "[4000]\tvalidation_0-rmse:0.71827\n",
      "[5000]\tvalidation_0-rmse:0.71769\n",
      "[6000]\tvalidation_0-rmse:0.71734\n",
      "[6999]\tvalidation_0-rmse:0.71714\n"
     ]
    },
    {
     "name": "stderr",
     "output_type": "stream",
     "text": [
      "\u001b[32m[I 2021-08-29 18:21:03,431]\u001b[0m Trial 73 finished with value: 0.7171367789444849 and parameters: {'learning_rate': 0.0260081847765345, 'reg_lambda': 0.0335256978839786, 'reg_alpha': 20.494659283497658, 'subsample': 0.7743344387566505, 'colsample_bytree': 0.1535308126930793, 'max_depth': 3}. Best is trial 51 with value: 0.7169064837392827.\u001b[0m\n"
     ]
    },
    {
     "name": "stdout",
     "output_type": "stream",
     "text": [
      "[18:21:04] WARNING: C:/Users/Administrator/workspace/xgboost-win64_release_1.4.0/src/learner.cc:231: Only 1 GPUs are visible, setting `gpu_id` to 0\n",
      "[0]\tvalidation_0-rmse:7.48547\n",
      "[1000]\tvalidation_0-rmse:0.72211\n",
      "[2000]\tvalidation_0-rmse:0.71894\n",
      "[3000]\tvalidation_0-rmse:0.71796\n",
      "[4000]\tvalidation_0-rmse:0.71747\n",
      "[5000]\tvalidation_0-rmse:0.71731\n",
      "[5522]\tvalidation_0-rmse:0.71732\n"
     ]
    },
    {
     "name": "stderr",
     "output_type": "stream",
     "text": [
      "\u001b[32m[I 2021-08-29 18:21:52,931]\u001b[0m Trial 74 finished with value: 0.7172851811878517 and parameters: {'learning_rate': 0.038207425717222465, 'reg_lambda': 1.5385714167425841, 'reg_alpha': 1.3034687161329432, 'subsample': 0.6485372686916718, 'colsample_bytree': 0.18276279915960647, 'max_depth': 3}. Best is trial 51 with value: 0.7169064837392827.\u001b[0m\n"
     ]
    },
    {
     "name": "stdout",
     "output_type": "stream",
     "text": [
      "[18:21:54] WARNING: C:/Users/Administrator/workspace/xgboost-win64_release_1.4.0/src/learner.cc:231: Only 1 GPUs are visible, setting `gpu_id` to 0\n",
      "[0]\tvalidation_0-rmse:7.45483\n",
      "[1000]\tvalidation_0-rmse:0.72197\n",
      "[2000]\tvalidation_0-rmse:0.71887\n",
      "[3000]\tvalidation_0-rmse:0.71776\n",
      "[4000]\tvalidation_0-rmse:0.71738\n",
      "[5000]\tvalidation_0-rmse:0.71721\n",
      "[5452]\tvalidation_0-rmse:0.71725\n"
     ]
    },
    {
     "name": "stderr",
     "output_type": "stream",
     "text": [
      "\u001b[32m[I 2021-08-29 18:22:47,867]\u001b[0m Trial 75 finished with value: 0.7172059084751712 and parameters: {'learning_rate': 0.0421918668938786, 'reg_lambda': 20.779681166219504, 'reg_alpha': 8.55278548080054, 'subsample': 0.86464846391614, 'colsample_bytree': 0.22407998127641499, 'max_depth': 3}. Best is trial 51 with value: 0.7169064837392827.\u001b[0m\n"
     ]
    },
    {
     "name": "stdout",
     "output_type": "stream",
     "text": [
      "[18:22:49] WARNING: C:/Users/Administrator/workspace/xgboost-win64_release_1.4.0/src/learner.cc:231: Only 1 GPUs are visible, setting `gpu_id` to 0\n",
      "[0]\tvalidation_0-rmse:7.60428\n",
      "[1000]\tvalidation_0-rmse:0.73232\n",
      "[2000]\tvalidation_0-rmse:0.72824\n",
      "[3000]\tvalidation_0-rmse:0.72593\n",
      "[4000]\tvalidation_0-rmse:0.72445\n",
      "[5000]\tvalidation_0-rmse:0.72335\n",
      "[6000]\tvalidation_0-rmse:0.72250\n",
      "[6999]\tvalidation_0-rmse:0.72188\n"
     ]
    },
    {
     "name": "stderr",
     "output_type": "stream",
     "text": [
      "\u001b[32m[I 2021-08-29 18:23:46,120]\u001b[0m Trial 76 finished with value: 0.7218834405552914 and parameters: {'learning_rate': 0.022786810078878506, 'reg_lambda': 1.120271260158078e-08, 'reg_alpha': 96.70012274588605, 'subsample': 0.7235075927423273, 'colsample_bytree': 0.11997548953843407, 'max_depth': 2}. Best is trial 51 with value: 0.7169064837392827.\u001b[0m\n"
     ]
    },
    {
     "name": "stdout",
     "output_type": "stream",
     "text": [
      "[18:23:47] WARNING: C:/Users/Administrator/workspace/xgboost-win64_release_1.4.0/src/learner.cc:231: Only 1 GPUs are visible, setting `gpu_id` to 0\n",
      "[0]\tvalidation_0-rmse:7.55401\n",
      "[1000]\tvalidation_0-rmse:0.72390\n",
      "[2000]\tvalidation_0-rmse:0.72009\n",
      "[3000]\tvalidation_0-rmse:0.71849\n",
      "[4000]\tvalidation_0-rmse:0.71771\n",
      "[5000]\tvalidation_0-rmse:0.71725\n",
      "[6000]\tvalidation_0-rmse:0.71707\n",
      "[6999]\tvalidation_0-rmse:0.71699\n"
     ]
    },
    {
     "name": "stderr",
     "output_type": "stream",
     "text": [
      "\u001b[32m[I 2021-08-29 18:24:50,120]\u001b[0m Trial 77 finished with value: 0.7169695881101994 and parameters: {'learning_rate': 0.029309992813513944, 'reg_lambda': 0.4467558556634387, 'reg_alpha': 4.087426043777211, 'subsample': 0.6927171039752108, 'colsample_bytree': 0.1293188380066099, 'max_depth': 3}. Best is trial 51 with value: 0.7169064837392827.\u001b[0m\n"
     ]
    },
    {
     "name": "stdout",
     "output_type": "stream",
     "text": [
      "[18:24:51] WARNING: C:/Users/Administrator/workspace/xgboost-win64_release_1.4.0/src/learner.cc:231: Only 1 GPUs are visible, setting `gpu_id` to 0\n",
      "[0]\tvalidation_0-rmse:7.52582\n",
      "[1000]\tvalidation_0-rmse:0.72286\n",
      "[2000]\tvalidation_0-rmse:0.71942\n",
      "[3000]\tvalidation_0-rmse:0.71814\n",
      "[4000]\tvalidation_0-rmse:0.71761\n",
      "[5000]\tvalidation_0-rmse:0.71735\n",
      "[5790]\tvalidation_0-rmse:0.71730\n"
     ]
    },
    {
     "name": "stderr",
     "output_type": "stream",
     "text": [
      "\u001b[32m[I 2021-08-29 18:25:41,480]\u001b[0m Trial 78 finished with value: 0.7172845926080503 and parameters: {'learning_rate': 0.03296538518747987, 'reg_lambda': 0.03610675558382049, 'reg_alpha': 3.8934569781217894, 'subsample': 0.6291920465727536, 'colsample_bytree': 0.21893370493637263, 'max_depth': 3}. Best is trial 51 with value: 0.7169064837392827.\u001b[0m\n"
     ]
    },
    {
     "name": "stdout",
     "output_type": "stream",
     "text": [
      "[18:25:42] WARNING: C:/Users/Administrator/workspace/xgboost-win64_release_1.4.0/src/learner.cc:231: Only 1 GPUs are visible, setting `gpu_id` to 0\n",
      "[0]\tvalidation_0-rmse:7.32360\n",
      "[1000]\tvalidation_0-rmse:0.72015\n",
      "[2000]\tvalidation_0-rmse:0.71791\n",
      "[3000]\tvalidation_0-rmse:0.71742\n",
      "[3465]\tvalidation_0-rmse:0.71740\n"
     ]
    },
    {
     "name": "stderr",
     "output_type": "stream",
     "text": [
      "\u001b[32m[I 2021-08-29 18:26:12,842]\u001b[0m Trial 79 finished with value: 0.7173820202632307 and parameters: {'learning_rate': 0.0592162460811561, 'reg_lambda': 0.12179584873554616, 'reg_alpha': 18.298577172153763, 'subsample': 0.5886708970914054, 'colsample_bytree': 0.31558936850570596, 'max_depth': 3}. Best is trial 51 with value: 0.7169064837392827.\u001b[0m\n"
     ]
    },
    {
     "name": "stdout",
     "output_type": "stream",
     "text": [
      "[18:26:14] WARNING: C:/Users/Administrator/workspace/xgboost-win64_release_1.4.0/src/learner.cc:231: Only 1 GPUs are visible, setting `gpu_id` to 0\n",
      "[0]\tvalidation_0-rmse:7.41216\n",
      "[1000]\tvalidation_0-rmse:0.72579\n",
      "[2000]\tvalidation_0-rmse:0.72214\n",
      "[3000]\tvalidation_0-rmse:0.72015\n",
      "[4000]\tvalidation_0-rmse:0.71924\n",
      "[5000]\tvalidation_0-rmse:0.71864\n",
      "[6000]\tvalidation_0-rmse:0.71832\n",
      "[6999]\tvalidation_0-rmse:0.71805\n"
     ]
    },
    {
     "name": "stderr",
     "output_type": "stream",
     "text": [
      "\u001b[32m[I 2021-08-29 18:27:10,722]\u001b[0m Trial 80 finished with value: 0.7180493775413609 and parameters: {'learning_rate': 0.0477275860280552, 'reg_lambda': 0.4088475176898852, 'reg_alpha': 55.24428045754622, 'subsample': 0.7000578380845552, 'colsample_bytree': 0.27932942894466317, 'max_depth': 2}. Best is trial 51 with value: 0.7169064837392827.\u001b[0m\n"
     ]
    },
    {
     "name": "stdout",
     "output_type": "stream",
     "text": [
      "[18:27:12] WARNING: C:/Users/Administrator/workspace/xgboost-win64_release_1.4.0/src/learner.cc:231: Only 1 GPUs are visible, setting `gpu_id` to 0\n",
      "[0]\tvalidation_0-rmse:7.56081\n",
      "[1000]\tvalidation_0-rmse:0.72450\n",
      "[2000]\tvalidation_0-rmse:0.72047\n",
      "[3000]\tvalidation_0-rmse:0.71878\n",
      "[4000]\tvalidation_0-rmse:0.71796\n",
      "[5000]\tvalidation_0-rmse:0.71751\n",
      "[6000]\tvalidation_0-rmse:0.71726\n",
      "[6999]\tvalidation_0-rmse:0.71713\n"
     ]
    },
    {
     "name": "stderr",
     "output_type": "stream",
     "text": [
      "\u001b[32m[I 2021-08-29 18:28:18,414]\u001b[0m Trial 81 finished with value: 0.717128473515862 and parameters: {'learning_rate': 0.0284376289353293, 'reg_lambda': 50.52754313458211, 'reg_alpha': 3.7748001642241076, 'subsample': 0.7991536886467249, 'colsample_bytree': 0.15530856237332474, 'max_depth': 3}. Best is trial 51 with value: 0.7169064837392827.\u001b[0m\n"
     ]
    },
    {
     "name": "stdout",
     "output_type": "stream",
     "text": [
      "[18:28:19] WARNING: C:/Users/Administrator/workspace/xgboost-win64_release_1.4.0/src/learner.cc:231: Only 1 GPUs are visible, setting `gpu_id` to 0\n",
      "[0]\tvalidation_0-rmse:7.58292\n",
      "[1000]\tvalidation_0-rmse:0.72321\n",
      "[2000]\tvalidation_0-rmse:0.71929\n",
      "[3000]\tvalidation_0-rmse:0.71799\n",
      "[4000]\tvalidation_0-rmse:0.71745\n",
      "[5000]\tvalidation_0-rmse:0.71727\n",
      "[5824]\tvalidation_0-rmse:0.71723\n"
     ]
    },
    {
     "name": "stderr",
     "output_type": "stream",
     "text": [
      "\u001b[32m[I 2021-08-29 18:29:18,571]\u001b[0m Trial 82 finished with value: 0.7171891361895116 and parameters: {'learning_rate': 0.025559868599238526, 'reg_lambda': 2.2449894436665554, 'reg_alpha': 1.6376511882435811, 'subsample': 0.6600931484889282, 'colsample_bytree': 0.12465624756675343, 'max_depth': 4}. Best is trial 51 with value: 0.7169064837392827.\u001b[0m\n"
     ]
    },
    {
     "name": "stdout",
     "output_type": "stream",
     "text": [
      "[18:29:19] WARNING: C:/Users/Administrator/workspace/xgboost-win64_release_1.4.0/src/learner.cc:231: Only 1 GPUs are visible, setting `gpu_id` to 0\n",
      "[0]\tvalidation_0-rmse:7.61184\n",
      "[1000]\tvalidation_0-rmse:0.72730\n",
      "[2000]\tvalidation_0-rmse:0.72249\n",
      "[3000]\tvalidation_0-rmse:0.72016\n",
      "[4000]\tvalidation_0-rmse:0.71898\n",
      "[5000]\tvalidation_0-rmse:0.71825\n",
      "[6000]\tvalidation_0-rmse:0.71781\n",
      "[6999]\tvalidation_0-rmse:0.71753\n"
     ]
    },
    {
     "name": "stderr",
     "output_type": "stream",
     "text": [
      "\u001b[32m[I 2021-08-29 18:30:24,415]\u001b[0m Trial 83 finished with value: 0.7175274311929684 and parameters: {'learning_rate': 0.02180453165886057, 'reg_lambda': 8.849179109002622, 'reg_alpha': 0.8403585138479445, 'subsample': 0.7427657171312202, 'colsample_bytree': 0.10020254508838544, 'max_depth': 3}. Best is trial 51 with value: 0.7169064837392827.\u001b[0m\n"
     ]
    },
    {
     "name": "stdout",
     "output_type": "stream",
     "text": [
      "[18:30:25] WARNING: C:/Users/Administrator/workspace/xgboost-win64_release_1.4.0/src/learner.cc:231: Only 1 GPUs are visible, setting `gpu_id` to 0\n",
      "[0]\tvalidation_0-rmse:7.54472\n",
      "[1000]\tvalidation_0-rmse:0.72112\n",
      "[2000]\tvalidation_0-rmse:0.71829\n",
      "[3000]\tvalidation_0-rmse:0.71737\n",
      "[4000]\tvalidation_0-rmse:0.71708\n",
      "[4153]\tvalidation_0-rmse:0.71707\n"
     ]
    },
    {
     "name": "stderr",
     "output_type": "stream",
     "text": [
      "\u001b[32m[I 2021-08-29 18:31:11,518]\u001b[0m Trial 84 finished with value: 0.7170536019643605 and parameters: {'learning_rate': 0.030514876634884405, 'reg_lambda': 0.0166095743195411, 'reg_alpha': 9.770645348015458, 'subsample': 0.774512252902028, 'colsample_bytree': 0.17979641650935269, 'max_depth': 4}. Best is trial 51 with value: 0.7169064837392827.\u001b[0m\n"
     ]
    },
    {
     "name": "stdout",
     "output_type": "stream",
     "text": [
      "[18:31:12] WARNING: C:/Users/Administrator/workspace/xgboost-win64_release_1.4.0/src/learner.cc:231: Only 1 GPUs are visible, setting `gpu_id` to 0\n",
      "[0]\tvalidation_0-rmse:7.55266\n",
      "[1000]\tvalidation_0-rmse:0.72200\n",
      "[2000]\tvalidation_0-rmse:0.71885\n",
      "[3000]\tvalidation_0-rmse:0.71770\n",
      "[4000]\tvalidation_0-rmse:0.71724\n",
      "[5000]\tvalidation_0-rmse:0.71713\n",
      "[5846]\tvalidation_0-rmse:0.71710\n"
     ]
    },
    {
     "name": "stderr",
     "output_type": "stream",
     "text": [
      "\u001b[32m[I 2021-08-29 18:32:20,674]\u001b[0m Trial 85 finished with value: 0.7170672544142594 and parameters: {'learning_rate': 0.02948572130084391, 'reg_lambda': 0.016195819004587608, 'reg_alpha': 30.588257856249083, 'subsample': 0.8276637728203956, 'colsample_bytree': 0.18147432752393527, 'max_depth': 4}. Best is trial 51 with value: 0.7169064837392827.\u001b[0m\n"
     ]
    },
    {
     "name": "stdout",
     "output_type": "stream",
     "text": [
      "[18:32:21] WARNING: C:/Users/Administrator/workspace/xgboost-win64_release_1.4.0/src/learner.cc:231: Only 1 GPUs are visible, setting `gpu_id` to 0\n",
      "[0]\tvalidation_0-rmse:7.54378\n",
      "[1000]\tvalidation_0-rmse:0.72163\n",
      "[2000]\tvalidation_0-rmse:0.71867\n",
      "[3000]\tvalidation_0-rmse:0.71762\n",
      "[4000]\tvalidation_0-rmse:0.71721\n",
      "[5000]\tvalidation_0-rmse:0.71705\n",
      "[5267]\tvalidation_0-rmse:0.71708\n"
     ]
    },
    {
     "name": "stderr",
     "output_type": "stream",
     "text": [
      "\u001b[32m[I 2021-08-29 18:33:22,959]\u001b[0m Trial 86 finished with value: 0.7170490177561818 and parameters: {'learning_rate': 0.030637751924427862, 'reg_lambda': 0.5328612139383049, 'reg_alpha': 25.370425279647936, 'subsample': 0.848683738861381, 'colsample_bytree': 0.17024603435571095, 'max_depth': 4}. Best is trial 51 with value: 0.7169064837392827.\u001b[0m\n"
     ]
    },
    {
     "name": "stdout",
     "output_type": "stream",
     "text": [
      "[18:33:24] WARNING: C:/Users/Administrator/workspace/xgboost-win64_release_1.4.0/src/learner.cc:231: Only 1 GPUs are visible, setting `gpu_id` to 0\n",
      "[0]\tvalidation_0-rmse:7.49713\n",
      "[1000]\tvalidation_0-rmse:0.72042\n",
      "[2000]\tvalidation_0-rmse:0.71793\n",
      "[3000]\tvalidation_0-rmse:0.71726\n",
      "[4000]\tvalidation_0-rmse:0.71710\n",
      "[4039]\tvalidation_0-rmse:0.71710\n"
     ]
    },
    {
     "name": "stderr",
     "output_type": "stream",
     "text": [
      "\u001b[32m[I 2021-08-29 18:34:08,225]\u001b[0m Trial 87 finished with value: 0.7170871631971943 and parameters: {'learning_rate': 0.03669317923080983, 'reg_lambda': 0.0069844202918954235, 'reg_alpha': 9.936319890457337, 'subsample': 0.7639602688213052, 'colsample_bytree': 0.15465565037296353, 'max_depth': 4}. Best is trial 51 with value: 0.7169064837392827.\u001b[0m\n"
     ]
    },
    {
     "name": "stdout",
     "output_type": "stream",
     "text": [
      "[18:34:09] WARNING: C:/Users/Administrator/workspace/xgboost-win64_release_1.4.0/src/learner.cc:231: Only 1 GPUs are visible, setting `gpu_id` to 0\n",
      "[0]\tvalidation_0-rmse:7.58798\n",
      "[1000]\tvalidation_0-rmse:0.72296\n",
      "[2000]\tvalidation_0-rmse:0.71931\n",
      "[3000]\tvalidation_0-rmse:0.71799\n",
      "[4000]\tvalidation_0-rmse:0.71738\n",
      "[5000]\tvalidation_0-rmse:0.71709\n",
      "[5950]\tvalidation_0-rmse:0.71701\n"
     ]
    },
    {
     "name": "stderr",
     "output_type": "stream",
     "text": [
      "\u001b[32m[I 2021-08-29 18:35:12,870]\u001b[0m Trial 88 finished with value: 0.7170054292438243 and parameters: {'learning_rate': 0.02490240177444537, 'reg_lambda': 0.5479054077832283, 'reg_alpha': 21.43995603644497, 'subsample': 0.6857173255071045, 'colsample_bytree': 0.13149095660804144, 'max_depth': 4}. Best is trial 51 with value: 0.7169064837392827.\u001b[0m\n"
     ]
    },
    {
     "name": "stdout",
     "output_type": "stream",
     "text": [
      "[18:35:14] WARNING: C:/Users/Administrator/workspace/xgboost-win64_release_1.4.0/src/learner.cc:231: Only 1 GPUs are visible, setting `gpu_id` to 0\n",
      "[0]\tvalidation_0-rmse:7.53920\n",
      "[1000]\tvalidation_0-rmse:0.72230\n",
      "[2000]\tvalidation_0-rmse:0.71934\n",
      "[3000]\tvalidation_0-rmse:0.71843\n",
      "[4000]\tvalidation_0-rmse:0.71812\n",
      "[4820]\tvalidation_0-rmse:0.71810\n"
     ]
    },
    {
     "name": "stderr",
     "output_type": "stream",
     "text": [
      "\u001b[32m[I 2021-08-29 18:36:13,498]\u001b[0m Trial 89 finished with value: 0.7180763325075096 and parameters: {'learning_rate': 0.031235378786467635, 'reg_lambda': 0.14041312247317161, 'reg_alpha': 52.65178988937858, 'subsample': 0.8537718424503303, 'colsample_bytree': 0.5659641255811216, 'max_depth': 4}. Best is trial 51 with value: 0.7169064837392827.\u001b[0m\n"
     ]
    },
    {
     "name": "stdout",
     "output_type": "stream",
     "text": [
      "[18:36:14] WARNING: C:/Users/Administrator/workspace/xgboost-win64_release_1.4.0/src/learner.cc:231: Only 1 GPUs are visible, setting `gpu_id` to 0\n",
      "[0]\tvalidation_0-rmse:7.64152\n",
      "[1000]\tvalidation_0-rmse:0.72498\n",
      "[2000]\tvalidation_0-rmse:0.72087\n",
      "[3000]\tvalidation_0-rmse:0.71923\n",
      "[4000]\tvalidation_0-rmse:0.71840\n",
      "[5000]\tvalidation_0-rmse:0.71805\n",
      "[6000]\tvalidation_0-rmse:0.71785\n",
      "[6999]\tvalidation_0-rmse:0.71774\n"
     ]
    },
    {
     "name": "stderr",
     "output_type": "stream",
     "text": [
      "\u001b[32m[I 2021-08-29 18:37:24,283]\u001b[0m Trial 90 finished with value: 0.7177353023211966 and parameters: {'learning_rate': 0.017954517573252782, 'reg_lambda': 0.43352529828646974, 'reg_alpha': 26.83055648340816, 'subsample': 0.48654886423123833, 'colsample_bytree': 0.355874062299819, 'max_depth': 4}. Best is trial 51 with value: 0.7169064837392827.\u001b[0m\n"
     ]
    },
    {
     "name": "stdout",
     "output_type": "stream",
     "text": [
      "[18:37:25] WARNING: C:/Users/Administrator/workspace/xgboost-win64_release_1.4.0/src/learner.cc:231: Only 1 GPUs are visible, setting `gpu_id` to 0\n",
      "[0]\tvalidation_0-rmse:7.58734\n",
      "[1000]\tvalidation_0-rmse:0.72280\n",
      "[2000]\tvalidation_0-rmse:0.71918\n",
      "[3000]\tvalidation_0-rmse:0.71788\n",
      "[4000]\tvalidation_0-rmse:0.71730\n",
      "[5000]\tvalidation_0-rmse:0.71704\n",
      "[6000]\tvalidation_0-rmse:0.71694\n",
      "[6420]\tvalidation_0-rmse:0.71693\n"
     ]
    },
    {
     "name": "stderr",
     "output_type": "stream",
     "text": [
      "\u001b[32m[I 2021-08-29 18:38:33,753]\u001b[0m Trial 91 finished with value: 0.7169244584539325 and parameters: {'learning_rate': 0.02498601844156824, 'reg_lambda': 2.735316390863742, 'reg_alpha': 16.428856668976618, 'subsample': 0.6825304822356163, 'colsample_bytree': 0.12927406016668583, 'max_depth': 4}. Best is trial 51 with value: 0.7169064837392827.\u001b[0m\n"
     ]
    },
    {
     "name": "stdout",
     "output_type": "stream",
     "text": [
      "[18:38:34] WARNING: C:/Users/Administrator/workspace/xgboost-win64_release_1.4.0/src/learner.cc:231: Only 1 GPUs are visible, setting `gpu_id` to 0\n",
      "[0]\tvalidation_0-rmse:7.57138\n",
      "[1000]\tvalidation_0-rmse:0.72194\n",
      "[2000]\tvalidation_0-rmse:0.71925\n",
      "[3000]\tvalidation_0-rmse:0.71843\n",
      "[4000]\tvalidation_0-rmse:0.71820\n",
      "[4418]\tvalidation_0-rmse:0.71822\n"
     ]
    },
    {
     "name": "stderr",
     "output_type": "stream",
     "text": [
      "\u001b[32m[I 2021-08-29 18:39:22,429]\u001b[0m Trial 92 finished with value: 0.7181821870754245 and parameters: {'learning_rate': 0.02705453194402329, 'reg_lambda': 2.155551834999695, 'reg_alpha': 3.664287589782645, 'subsample': 0.6863910406685567, 'colsample_bytree': 0.6986194164663402, 'max_depth': 4}. Best is trial 51 with value: 0.7169064837392827.\u001b[0m\n"
     ]
    },
    {
     "name": "stdout",
     "output_type": "stream",
     "text": [
      "[18:39:23] WARNING: C:/Users/Administrator/workspace/xgboost-win64_release_1.4.0/src/learner.cc:231: Only 1 GPUs are visible, setting `gpu_id` to 0\n",
      "[0]\tvalidation_0-rmse:7.62337\n",
      "[1000]\tvalidation_0-rmse:0.72331\n",
      "[2000]\tvalidation_0-rmse:0.71969\n",
      "[3000]\tvalidation_0-rmse:0.71832\n",
      "[4000]\tvalidation_0-rmse:0.71773\n",
      "[5000]\tvalidation_0-rmse:0.71751\n",
      "[6000]\tvalidation_0-rmse:0.71739\n",
      "[6532]\tvalidation_0-rmse:0.71739\n"
     ]
    },
    {
     "name": "stderr",
     "output_type": "stream",
     "text": [
      "\u001b[32m[I 2021-08-29 18:40:27,691]\u001b[0m Trial 93 finished with value: 0.7173723461976417 and parameters: {'learning_rate': 0.020305447326090822, 'reg_lambda': 0.6969488137469835, 'reg_alpha': 6.154496825398945e-08, 'subsample': 0.6045409396260492, 'colsample_bytree': 0.1640302393749018, 'max_depth': 4}. Best is trial 51 with value: 0.7169064837392827.\u001b[0m\n"
     ]
    },
    {
     "name": "stdout",
     "output_type": "stream",
     "text": [
      "[18:40:28] WARNING: C:/Users/Administrator/workspace/xgboost-win64_release_1.4.0/src/learner.cc:231: Only 1 GPUs are visible, setting `gpu_id` to 0\n",
      "[0]\tvalidation_0-rmse:7.59940\n",
      "[1000]\tvalidation_0-rmse:0.72412\n",
      "[2000]\tvalidation_0-rmse:0.71981\n",
      "[3000]\tvalidation_0-rmse:0.71816\n",
      "[4000]\tvalidation_0-rmse:0.71750\n",
      "[5000]\tvalidation_0-rmse:0.71715\n",
      "[6000]\tvalidation_0-rmse:0.71699\n",
      "[6999]\tvalidation_0-rmse:0.71692\n"
     ]
    },
    {
     "name": "stderr",
     "output_type": "stream",
     "text": [
      "\u001b[32m[I 2021-08-29 18:41:45,209]\u001b[0m Trial 94 finished with value: 0.7169143033687672 and parameters: {'learning_rate': 0.023419055635854072, 'reg_lambda': 0.2678323240266702, 'reg_alpha': 10.31247536498587, 'subsample': 0.7748219853543002, 'colsample_bytree': 0.12359225913592659, 'max_depth': 4}. Best is trial 51 with value: 0.7169064837392827.\u001b[0m\n"
     ]
    },
    {
     "name": "stdout",
     "output_type": "stream",
     "text": [
      "[18:41:46] WARNING: C:/Users/Administrator/workspace/xgboost-win64_release_1.4.0/src/learner.cc:231: Only 1 GPUs are visible, setting `gpu_id` to 0\n",
      "[0]\tvalidation_0-rmse:7.59316\n",
      "[1000]\tvalidation_0-rmse:0.72428\n",
      "[2000]\tvalidation_0-rmse:0.71989\n",
      "[3000]\tvalidation_0-rmse:0.71826\n",
      "[4000]\tvalidation_0-rmse:0.71756\n",
      "[5000]\tvalidation_0-rmse:0.71723\n",
      "[6000]\tvalidation_0-rmse:0.71704\n",
      "[6999]\tvalidation_0-rmse:0.71698\n"
     ]
    },
    {
     "name": "stderr",
     "output_type": "stream",
     "text": [
      "\u001b[32m[I 2021-08-29 18:42:58,031]\u001b[0m Trial 95 finished with value: 0.716960155702372 and parameters: {'learning_rate': 0.0242324230291812, 'reg_lambda': 7.413672461066216, 'reg_alpha': 17.419593601428815, 'subsample': 0.6455777425924987, 'colsample_bytree': 0.1223126801151038, 'max_depth': 4}. Best is trial 51 with value: 0.7169064837392827.\u001b[0m\n"
     ]
    },
    {
     "name": "stdout",
     "output_type": "stream",
     "text": [
      "[18:42:59] WARNING: C:/Users/Administrator/workspace/xgboost-win64_release_1.4.0/src/learner.cc:231: Only 1 GPUs are visible, setting `gpu_id` to 0\n",
      "[0]\tvalidation_0-rmse:7.60468\n",
      "[1000]\tvalidation_0-rmse:0.72418\n",
      "[2000]\tvalidation_0-rmse:0.71986\n",
      "[3000]\tvalidation_0-rmse:0.71832\n",
      "[4000]\tvalidation_0-rmse:0.71767\n",
      "[5000]\tvalidation_0-rmse:0.71743\n",
      "[5950]\tvalidation_0-rmse:0.71735\n"
     ]
    },
    {
     "name": "stderr",
     "output_type": "stream",
     "text": [
      "\u001b[32m[I 2021-08-29 18:43:59,097]\u001b[0m Trial 96 finished with value: 0.717351254240623 and parameters: {'learning_rate': 0.022737242249668204, 'reg_lambda': 10.35584317828484, 'reg_alpha': 3.724106073076588e-06, 'subsample': 0.6440903497194586, 'colsample_bytree': 0.12326188539491346, 'max_depth': 4}. Best is trial 51 with value: 0.7169064837392827.\u001b[0m\n"
     ]
    },
    {
     "name": "stdout",
     "output_type": "stream",
     "text": [
      "[18:44:00] WARNING: C:/Users/Administrator/workspace/xgboost-win64_release_1.4.0/src/learner.cc:231: Only 1 GPUs are visible, setting `gpu_id` to 0\n",
      "[0]\tvalidation_0-rmse:7.59156\n",
      "[1000]\tvalidation_0-rmse:0.72266\n",
      "[2000]\tvalidation_0-rmse:0.71908\n",
      "[3000]\tvalidation_0-rmse:0.71784\n",
      "[4000]\tvalidation_0-rmse:0.71737\n",
      "[5000]\tvalidation_0-rmse:0.71715\n",
      "[6000]\tvalidation_0-rmse:0.71714\n",
      "[6004]\tvalidation_0-rmse:0.71713\n"
     ]
    },
    {
     "name": "stderr",
     "output_type": "stream",
     "text": [
      "\u001b[32m[I 2021-08-29 18:45:02,975]\u001b[0m Trial 97 finished with value: 0.71708954303124 and parameters: {'learning_rate': 0.024439210487440542, 'reg_lambda': 18.77100771245707, 'reg_alpha': 2.670030252295931, 'subsample': 0.6977154819880925, 'colsample_bytree': 0.1380321161124814, 'max_depth': 4}. Best is trial 51 with value: 0.7169064837392827.\u001b[0m\n"
     ]
    },
    {
     "name": "stdout",
     "output_type": "stream",
     "text": [
      "[18:45:04] WARNING: C:/Users/Administrator/workspace/xgboost-win64_release_1.4.0/src/learner.cc:231: Only 1 GPUs are visible, setting `gpu_id` to 0\n",
      "[0]\tvalidation_0-rmse:7.62123\n",
      "[1000]\tvalidation_0-rmse:0.72310\n",
      "[2000]\tvalidation_0-rmse:0.71955\n",
      "[3000]\tvalidation_0-rmse:0.71824\n",
      "[4000]\tvalidation_0-rmse:0.71763\n",
      "[5000]\tvalidation_0-rmse:0.71738\n",
      "[5261]\tvalidation_0-rmse:0.71740\n"
     ]
    },
    {
     "name": "stderr",
     "output_type": "stream",
     "text": [
      "\u001b[32m[I 2021-08-29 18:45:54,847]\u001b[0m Trial 98 finished with value: 0.7173808135080316 and parameters: {'learning_rate': 0.020587555581724565, 'reg_lambda': 6.623262643487766, 'reg_alpha': 4.2072925946675664e-05, 'subsample': 0.5481507083493457, 'colsample_bytree': 0.2029470107251543, 'max_depth': 4}. Best is trial 51 with value: 0.7169064837392827.\u001b[0m\n"
     ]
    },
    {
     "name": "stdout",
     "output_type": "stream",
     "text": [
      "[18:45:56] WARNING: C:/Users/Administrator/workspace/xgboost-win64_release_1.4.0/src/learner.cc:231: Only 1 GPUs are visible, setting `gpu_id` to 0\n",
      "[0]\tvalidation_0-rmse:7.56913\n",
      "[1000]\tvalidation_0-rmse:0.72333\n",
      "[2000]\tvalidation_0-rmse:0.72008\n",
      "[3000]\tvalidation_0-rmse:0.71898\n",
      "[4000]\tvalidation_0-rmse:0.71856\n",
      "[5000]\tvalidation_0-rmse:0.71839\n",
      "[5822]\tvalidation_0-rmse:0.71836\n"
     ]
    },
    {
     "name": "stderr",
     "output_type": "stream",
     "text": [
      "\u001b[32m[I 2021-08-29 18:47:04,368]\u001b[0m Trial 99 finished with value: 0.7183400930175847 and parameters: {'learning_rate': 0.027361891720247507, 'reg_lambda': 80.24704110944548, 'reg_alpha': 63.679263739724455, 'subsample': 0.7188690417044336, 'colsample_bytree': 0.5024822510206274, 'max_depth': 4}. Best is trial 51 with value: 0.7169064837392827.\u001b[0m\n"
     ]
    }
   ],
   "source": [
    "study = optuna.create_study(direction=\"minimize\")\n",
    "study.optimize(run, n_trials=100) #100"
   ]
  },
  {
   "cell_type": "code",
   "execution_count": 5,
   "metadata": {},
   "outputs": [
    {
     "data": {
      "text/plain": [
       "{'learning_rate': 0.0342032910688893,\n",
       " 'reg_lambda': 16.984336234349644,\n",
       " 'reg_alpha': 13.2209270507238,\n",
       " 'subsample': 0.7396101488182523,\n",
       " 'colsample_bytree': 0.13653907086890005,\n",
       " 'max_depth': 3}"
      ]
     },
     "execution_count": 5,
     "metadata": {},
     "output_type": "execute_result"
    }
   ],
   "source": [
    "study.best_params"
   ]
  },
  {
   "cell_type": "code",
   "execution_count": 7,
   "metadata": {},
   "outputs": [
    {
     "name": "stderr",
     "output_type": "stream",
     "text": [
      "\u001b[32m[I 2021-08-29 18:47:44,719]\u001b[0m A new study created in memory with name: no-name-7acf527b-9e92-426f-8318-4ce3028973d7\u001b[0m\n"
     ]
    },
    {
     "name": "stdout",
     "output_type": "stream",
     "text": [
      "[18:47:45] WARNING: C:/Users/Administrator/workspace/xgboost-win64_release_1.4.0/src/learner.cc:231: Only 1 GPUs are visible, setting `gpu_id` to 0\n",
      "[0]\tvalidation_0-rmse:7.63239\n",
      "[1000]\tvalidation_0-rmse:0.72154\n",
      "[2000]\tvalidation_0-rmse:0.72028\n",
      "[2305]\tvalidation_0-rmse:0.72037\n"
     ]
    },
    {
     "name": "stderr",
     "output_type": "stream",
     "text": [
      "\u001b[32m[I 2021-08-29 18:48:21,683]\u001b[0m Trial 0 finished with value: 0.7202673872752845 and parameters: {'learning_rate': 0.0191379813907593, 'reg_lambda': 1.4363127879918497e-08, 'reg_alpha': 0.00041415689595605197, 'subsample': 0.4170488901687981, 'colsample_bytree': 0.8690280656001025, 'max_depth': 6}. Best is trial 0 with value: 0.7202673872752845.\u001b[0m\n"
     ]
    },
    {
     "name": "stdout",
     "output_type": "stream",
     "text": [
      "[18:48:22] WARNING: C:/Users/Administrator/workspace/xgboost-win64_release_1.4.0/src/learner.cc:231: Only 1 GPUs are visible, setting `gpu_id` to 0\n",
      "[0]\tvalidation_0-rmse:7.36516\n",
      "[1000]\tvalidation_0-rmse:0.71982\n",
      "[1951]\tvalidation_0-rmse:0.71943\n"
     ]
    },
    {
     "name": "stderr",
     "output_type": "stream",
     "text": [
      "\u001b[32m[I 2021-08-29 18:48:48,109]\u001b[0m Trial 1 finished with value: 0.7193494439165233 and parameters: {'learning_rate': 0.05384256063858188, 'reg_lambda': 8.776323950846218e-07, 'reg_alpha': 48.421734302412716, 'subsample': 0.5053790749130518, 'colsample_bytree': 0.8462785533989301, 'max_depth': 5}. Best is trial 1 with value: 0.7193494439165233.\u001b[0m\n"
     ]
    },
    {
     "name": "stdout",
     "output_type": "stream",
     "text": [
      "[18:48:49] WARNING: C:/Users/Administrator/workspace/xgboost-win64_release_1.4.0/src/learner.cc:231: Only 1 GPUs are visible, setting `gpu_id` to 0\n",
      "[0]\tvalidation_0-rmse:7.58488\n",
      "[1000]\tvalidation_0-rmse:0.72421\n",
      "[2000]\tvalidation_0-rmse:0.72064\n",
      "[3000]\tvalidation_0-rmse:0.71933\n",
      "[4000]\tvalidation_0-rmse:0.71859\n",
      "[5000]\tvalidation_0-rmse:0.71836\n",
      "[6000]\tvalidation_0-rmse:0.71822\n",
      "[6364]\tvalidation_0-rmse:0.71823\n"
     ]
    },
    {
     "name": "stderr",
     "output_type": "stream",
     "text": [
      "\u001b[32m[I 2021-08-29 18:49:38,814]\u001b[0m Trial 2 finished with value: 0.7182068506786939 and parameters: {'learning_rate': 0.025303477519825625, 'reg_lambda': 0.0006553891426863627, 'reg_alpha': 1.3717427286854278, 'subsample': 0.42299323314882564, 'colsample_bytree': 0.9249035364274456, 'max_depth': 3}. Best is trial 2 with value: 0.7182068506786939.\u001b[0m\n"
     ]
    },
    {
     "name": "stdout",
     "output_type": "stream",
     "text": [
      "[18:49:40] WARNING: C:/Users/Administrator/workspace/xgboost-win64_release_1.4.0/src/learner.cc:231: Only 1 GPUs are visible, setting `gpu_id` to 0\n",
      "[0]\tvalidation_0-rmse:7.14551\n",
      "[674]\tvalidation_0-rmse:0.72335\n"
     ]
    },
    {
     "name": "stderr",
     "output_type": "stream",
     "text": [
      "\u001b[32m[I 2021-08-29 18:49:47,608]\u001b[0m Trial 3 finished with value: 0.7228195110040371 and parameters: {'learning_rate': 0.08233041118780839, 'reg_lambda': 0.00010695165216449065, 'reg_alpha': 0.01145630292933676, 'subsample': 0.31328626184703695, 'colsample_bytree': 0.7929144047066841, 'max_depth': 5}. Best is trial 2 with value: 0.7182068506786939.\u001b[0m\n"
     ]
    },
    {
     "name": "stdout",
     "output_type": "stream",
     "text": [
      "[18:49:48] WARNING: C:/Users/Administrator/workspace/xgboost-win64_release_1.4.0/src/learner.cc:231: Only 1 GPUs are visible, setting `gpu_id` to 0\n",
      "[0]\tvalidation_0-rmse:7.31391\n",
      "[1000]\tvalidation_0-rmse:0.72057\n",
      "[1353]\tvalidation_0-rmse:0.72070\n"
     ]
    },
    {
     "name": "stderr",
     "output_type": "stream",
     "text": [
      "\u001b[32m[I 2021-08-29 18:49:59,465]\u001b[0m Trial 4 finished with value: 0.7204893983959773 and parameters: {'learning_rate': 0.06048230024586439, 'reg_lambda': 3.409779546570915, 'reg_alpha': 0.00013896335079757437, 'subsample': 0.20448628431864707, 'colsample_bytree': 0.5197267761715082, 'max_depth': 4}. Best is trial 2 with value: 0.7182068506786939.\u001b[0m\n"
     ]
    },
    {
     "name": "stdout",
     "output_type": "stream",
     "text": [
      "[18:50:00] WARNING: C:/Users/Administrator/workspace/xgboost-win64_release_1.4.0/src/learner.cc:231: Only 1 GPUs are visible, setting `gpu_id` to 0\n",
      "[0]\tvalidation_0-rmse:7.22750\n",
      "[1000]\tvalidation_0-rmse:0.72936\n",
      "[2000]\tvalidation_0-rmse:0.72700\n",
      "[3000]\tvalidation_0-rmse:0.72552\n",
      "[4000]\tvalidation_0-rmse:0.72447\n",
      "[5000]\tvalidation_0-rmse:0.72365\n",
      "[6000]\tvalidation_0-rmse:0.72301\n",
      "[6999]\tvalidation_0-rmse:0.72249\n"
     ]
    },
    {
     "name": "stderr",
     "output_type": "stream",
     "text": [
      "\u001b[32m[I 2021-08-29 18:50:44,314]\u001b[0m Trial 5 finished with value: 0.7224796401484933 and parameters: {'learning_rate': 0.0717001484682573, 'reg_lambda': 0.002389287785288628, 'reg_alpha': 0.19067653994606448, 'subsample': 0.639064401329934, 'colsample_bytree': 0.43684471921028456, 'max_depth': 1}. Best is trial 2 with value: 0.7182068506786939.\u001b[0m\n"
     ]
    },
    {
     "name": "stdout",
     "output_type": "stream",
     "text": [
      "[18:50:45] WARNING: C:/Users/Administrator/workspace/xgboost-win64_release_1.4.0/src/learner.cc:231: Only 1 GPUs are visible, setting `gpu_id` to 0\n",
      "[0]\tvalidation_0-rmse:7.57376\n",
      "[1000]\tvalidation_0-rmse:0.72494\n",
      "[2000]\tvalidation_0-rmse:0.72097\n",
      "[3000]\tvalidation_0-rmse:0.71930\n",
      "[4000]\tvalidation_0-rmse:0.71841\n",
      "[5000]\tvalidation_0-rmse:0.71789\n",
      "[6000]\tvalidation_0-rmse:0.71769\n",
      "[6636]\tvalidation_0-rmse:0.71767\n"
     ]
    },
    {
     "name": "stderr",
     "output_type": "stream",
     "text": [
      "\u001b[32m[I 2021-08-29 18:51:51,792]\u001b[0m Trial 6 finished with value: 0.717662998874105 and parameters: {'learning_rate': 0.02675274649381665, 'reg_lambda': 36.929053022208755, 'reg_alpha': 0.11518285144684161, 'subsample': 0.9066114153780978, 'colsample_bytree': 0.5870260463291976, 'max_depth': 3}. Best is trial 6 with value: 0.717662998874105.\u001b[0m\n"
     ]
    },
    {
     "name": "stdout",
     "output_type": "stream",
     "text": [
      "[18:51:52] WARNING: C:/Users/Administrator/workspace/xgboost-win64_release_1.4.0/src/learner.cc:231: Only 1 GPUs are visible, setting `gpu_id` to 0\n",
      "[0]\tvalidation_0-rmse:7.23425\n",
      "[1000]\tvalidation_0-rmse:0.72257\n",
      "[2000]\tvalidation_0-rmse:0.72052\n",
      "[3000]\tvalidation_0-rmse:0.71979\n",
      "[3634]\tvalidation_0-rmse:0.71979\n"
     ]
    },
    {
     "name": "stderr",
     "output_type": "stream",
     "text": [
      "\u001b[32m[I 2021-08-29 18:52:14,407]\u001b[0m Trial 7 finished with value: 0.7196431052329116 and parameters: {'learning_rate': 0.0708021853081388, 'reg_lambda': 0.00011097105715664467, 'reg_alpha': 0.3098434058934523, 'subsample': 0.1690801308045342, 'colsample_bytree': 0.9946063174240869, 'max_depth': 2}. Best is trial 6 with value: 0.717662998874105.\u001b[0m\n"
     ]
    },
    {
     "name": "stdout",
     "output_type": "stream",
     "text": [
      "[18:52:15] WARNING: C:/Users/Administrator/workspace/xgboost-win64_release_1.4.0/src/learner.cc:231: Only 1 GPUs are visible, setting `gpu_id` to 0\n",
      "[0]\tvalidation_0-rmse:7.43464\n",
      "[1000]\tvalidation_0-rmse:0.73179\n",
      "[2000]\tvalidation_0-rmse:0.72935\n",
      "[3000]\tvalidation_0-rmse:0.72809\n",
      "[4000]\tvalidation_0-rmse:0.72718\n",
      "[5000]\tvalidation_0-rmse:0.72647\n",
      "[6000]\tvalidation_0-rmse:0.72591\n",
      "[6999]\tvalidation_0-rmse:0.72544\n"
     ]
    },
    {
     "name": "stderr",
     "output_type": "stream",
     "text": [
      "\u001b[32m[I 2021-08-29 18:53:09,504]\u001b[0m Trial 8 finished with value: 0.7254342627802134 and parameters: {'learning_rate': 0.04481940079265528, 'reg_lambda': 61.07630554104866, 'reg_alpha': 0.008669661997227582, 'subsample': 0.9776842446213705, 'colsample_bytree': 0.2527450844879784, 'max_depth': 1}. Best is trial 6 with value: 0.717662998874105.\u001b[0m\n"
     ]
    },
    {
     "name": "stdout",
     "output_type": "stream",
     "text": [
      "[18:53:10] WARNING: C:/Users/Administrator/workspace/xgboost-win64_release_1.4.0/src/learner.cc:231: Only 1 GPUs are visible, setting `gpu_id` to 0\n",
      "[0]\tvalidation_0-rmse:6.99183\n",
      "[1000]\tvalidation_0-rmse:0.71971\n",
      "[2000]\tvalidation_0-rmse:0.71903\n",
      "[2183]\tvalidation_0-rmse:0.71903\n"
     ]
    },
    {
     "name": "stderr",
     "output_type": "stream",
     "text": [
      "\u001b[32m[I 2021-08-29 18:53:25,158]\u001b[0m Trial 9 finished with value: 0.7189713757628581 and parameters: {'learning_rate': 0.10230908219016285, 'reg_lambda': 4.346942608777738, 'reg_alpha': 2.2743959255030646e-07, 'subsample': 0.17268417587224302, 'colsample_bytree': 0.12436562059234377, 'max_depth': 3}. Best is trial 6 with value: 0.717662998874105.\u001b[0m\n"
     ]
    },
    {
     "name": "stdout",
     "output_type": "stream",
     "text": [
      "[18:53:26] WARNING: C:/Users/Administrator/workspace/xgboost-win64_release_1.4.0/src/learner.cc:231: Only 1 GPUs are visible, setting `gpu_id` to 0\n",
      "[0]\tvalidation_0-rmse:6.15386\n",
      "[379]\tvalidation_0-rmse:0.73260\n"
     ]
    },
    {
     "name": "stderr",
     "output_type": "stream",
     "text": [
      "\u001b[32m[I 2021-08-29 18:53:36,086]\u001b[0m Trial 10 finished with value: 0.7242897681578979 and parameters: {'learning_rate': 0.21121110081826847, 'reg_lambda': 0.06167768256860482, 'reg_alpha': 2.446610069265017e-06, 'subsample': 0.9855321219909359, 'colsample_bytree': 0.6305086049786105, 'max_depth': 7}. Best is trial 6 with value: 0.717662998874105.\u001b[0m\n"
     ]
    },
    {
     "name": "stdout",
     "output_type": "stream",
     "text": [
      "[18:53:37] WARNING: C:/Users/Administrator/workspace/xgboost-win64_release_1.4.0/src/learner.cc:231: Only 1 GPUs are visible, setting `gpu_id` to 0\n",
      "[0]\tvalidation_0-rmse:7.65115\n",
      "[1000]\tvalidation_0-rmse:0.72837\n",
      "[2000]\tvalidation_0-rmse:0.72411\n",
      "[3000]\tvalidation_0-rmse:0.72189\n",
      "[4000]\tvalidation_0-rmse:0.72062\n",
      "[5000]\tvalidation_0-rmse:0.71982\n",
      "[6000]\tvalidation_0-rmse:0.71929\n",
      "[6999]\tvalidation_0-rmse:0.71893\n"
     ]
    },
    {
     "name": "stderr",
     "output_type": "stream",
     "text": [
      "\u001b[32m[I 2021-08-29 18:54:45,459]\u001b[0m Trial 11 finished with value: 0.7189314862817654 and parameters: {'learning_rate': 0.016702509859740533, 'reg_lambda': 0.01819490768672054, 'reg_alpha': 59.65355879158894, 'subsample': 0.7303251250851535, 'colsample_bytree': 0.6783074255931744, 'max_depth': 3}. Best is trial 6 with value: 0.717662998874105.\u001b[0m\n"
     ]
    },
    {
     "name": "stdout",
     "output_type": "stream",
     "text": [
      "[18:54:46] WARNING: C:/Users/Administrator/workspace/xgboost-win64_release_1.4.0/src/learner.cc:231: Only 1 GPUs are visible, setting `gpu_id` to 0\n",
      "[0]\tvalidation_0-rmse:7.56562\n",
      "[1000]\tvalidation_0-rmse:0.72407\n",
      "[2000]\tvalidation_0-rmse:0.72031\n",
      "[3000]\tvalidation_0-rmse:0.71873\n",
      "[4000]\tvalidation_0-rmse:0.71800\n",
      "[5000]\tvalidation_0-rmse:0.71765\n",
      "[6000]\tvalidation_0-rmse:0.71753\n",
      "[6471]\tvalidation_0-rmse:0.71755\n"
     ]
    },
    {
     "name": "stderr",
     "output_type": "stream",
     "text": [
      "\u001b[32m[I 2021-08-29 18:55:47,903]\u001b[0m Trial 12 finished with value: 0.7175100758237273 and parameters: {'learning_rate': 0.02780132916708819, 'reg_lambda': 7.239972834190473e-06, 'reg_alpha': 1.6519744842885642, 'subsample': 0.7944081790554888, 'colsample_bytree': 0.3622285611341407, 'max_depth': 3}. Best is trial 12 with value: 0.7175100758237273.\u001b[0m\n"
     ]
    },
    {
     "name": "stdout",
     "output_type": "stream",
     "text": [
      "[18:55:49] WARNING: C:/Users/Administrator/workspace/xgboost-win64_release_1.4.0/src/learner.cc:231: Only 1 GPUs are visible, setting `gpu_id` to 0\n",
      "[0]\tvalidation_0-rmse:7.54196\n",
      "[1000]\tvalidation_0-rmse:0.72132\n",
      "[2000]\tvalidation_0-rmse:0.71865\n",
      "[3000]\tvalidation_0-rmse:0.71791\n",
      "[3746]\tvalidation_0-rmse:0.71790\n"
     ]
    },
    {
     "name": "stderr",
     "output_type": "stream",
     "text": [
      "\u001b[32m[I 2021-08-29 18:56:31,134]\u001b[0m Trial 13 finished with value: 0.7178506244155586 and parameters: {'learning_rate': 0.03087133969124566, 'reg_lambda': 2.7174368497938136e-06, 'reg_alpha': 3.61919397449646, 'subsample': 0.8093847748882261, 'colsample_bytree': 0.37992927044574165, 'max_depth': 4}. Best is trial 12 with value: 0.7175100758237273.\u001b[0m\n"
     ]
    },
    {
     "name": "stdout",
     "output_type": "stream",
     "text": [
      "[18:56:32] WARNING: C:/Users/Administrator/workspace/xgboost-win64_release_1.4.0/src/learner.cc:231: Only 1 GPUs are visible, setting `gpu_id` to 0\n",
      "[0]\tvalidation_0-rmse:7.53336\n",
      "[1000]\tvalidation_0-rmse:0.72718\n",
      "[2000]\tvalidation_0-rmse:0.72376\n",
      "[3000]\tvalidation_0-rmse:0.72157\n",
      "[4000]\tvalidation_0-rmse:0.72020\n",
      "[5000]\tvalidation_0-rmse:0.71929\n",
      "[6000]\tvalidation_0-rmse:0.71867\n",
      "[6999]\tvalidation_0-rmse:0.71821\n"
     ]
    },
    {
     "name": "stderr",
     "output_type": "stream",
     "text": [
      "\u001b[32m[I 2021-08-29 18:57:32,533]\u001b[0m Trial 14 finished with value: 0.7182099696543848 and parameters: {'learning_rate': 0.03198804019901557, 'reg_lambda': 1.9906516065009576e-06, 'reg_alpha': 0.014255020625277563, 'subsample': 0.8521905812046859, 'colsample_bytree': 0.3388126484038798, 'max_depth': 2}. Best is trial 12 with value: 0.7175100758237273.\u001b[0m\n"
     ]
    },
    {
     "name": "stdout",
     "output_type": "stream",
     "text": [
      "[18:57:33] WARNING: C:/Users/Administrator/workspace/xgboost-win64_release_1.4.0/src/learner.cc:231: Only 1 GPUs are visible, setting `gpu_id` to 0\n",
      "[0]\tvalidation_0-rmse:7.69031\n",
      "[1000]\tvalidation_0-rmse:0.73240\n",
      "[2000]\tvalidation_0-rmse:0.72883\n",
      "[3000]\tvalidation_0-rmse:0.72658\n",
      "[4000]\tvalidation_0-rmse:0.72501\n",
      "[5000]\tvalidation_0-rmse:0.72371\n",
      "[6000]\tvalidation_0-rmse:0.72267\n",
      "[6999]\tvalidation_0-rmse:0.72185\n"
     ]
    },
    {
     "name": "stderr",
     "output_type": "stream",
     "text": [
      "\u001b[32m[I 2021-08-29 18:58:28,325]\u001b[0m Trial 15 finished with value: 0.7218486308291697 and parameters: {'learning_rate': 0.011618048604356586, 'reg_lambda': 6.025516116240066e-08, 'reg_alpha': 2.5757733578483322e-05, 'subsample': 0.6622558989243839, 'colsample_bytree': 0.5219460003662756, 'max_depth': 2}. Best is trial 12 with value: 0.7175100758237273.\u001b[0m\n"
     ]
    },
    {
     "name": "stdout",
     "output_type": "stream",
     "text": [
      "[18:58:29] WARNING: C:/Users/Administrator/workspace/xgboost-win64_release_1.4.0/src/learner.cc:231: Only 1 GPUs are visible, setting `gpu_id` to 0\n",
      "[0]\tvalidation_0-rmse:7.68437\n",
      "[1000]\tvalidation_0-rmse:0.72492\n",
      "[2000]\tvalidation_0-rmse:0.72109\n",
      "[3000]\tvalidation_0-rmse:0.71953\n",
      "[4000]\tvalidation_0-rmse:0.71886\n",
      "[5000]\tvalidation_0-rmse:0.71857\n",
      "[6000]\tvalidation_0-rmse:0.71848\n",
      "[6623]\tvalidation_0-rmse:0.71847\n"
     ]
    },
    {
     "name": "stderr",
     "output_type": "stream",
     "text": [
      "\u001b[32m[I 2021-08-29 19:00:04,387]\u001b[0m Trial 16 finished with value: 0.718447829296161 and parameters: {'learning_rate': 0.012389874423638023, 'reg_lambda': 0.6381922429351252, 'reg_alpha': 4.648353855272329, 'subsample': 0.8637339584479057, 'colsample_bytree': 0.6794087732062813, 'max_depth': 5}. Best is trial 12 with value: 0.7175100758237273.\u001b[0m\n"
     ]
    },
    {
     "name": "stdout",
     "output_type": "stream",
     "text": [
      "[19:00:05] WARNING: C:/Users/Administrator/workspace/xgboost-win64_release_1.4.0/src/learner.cc:231: Only 1 GPUs are visible, setting `gpu_id` to 0\n",
      "[0]\tvalidation_0-rmse:7.48520\n",
      "[1000]\tvalidation_0-rmse:0.72205\n",
      "[2000]\tvalidation_0-rmse:0.71901\n",
      "[3000]\tvalidation_0-rmse:0.71789\n",
      "[4000]\tvalidation_0-rmse:0.71755\n",
      "[4971]\tvalidation_0-rmse:0.71747\n"
     ]
    },
    {
     "name": "stderr",
     "output_type": "stream",
     "text": [
      "\u001b[32m[I 2021-08-29 19:00:51,556]\u001b[0m Trial 17 finished with value: 0.7174446571043576 and parameters: {'learning_rate': 0.03823702027344831, 'reg_lambda': 1.4734038378896562e-05, 'reg_alpha': 1.500341648819519e-08, 'subsample': 0.7612457444010754, 'colsample_bytree': 0.24394666296649484, 'max_depth': 3}. Best is trial 17 with value: 0.7174446571043576.\u001b[0m\n"
     ]
    },
    {
     "name": "stdout",
     "output_type": "stream",
     "text": [
      "[19:00:52] WARNING: C:/Users/Administrator/workspace/xgboost-win64_release_1.4.0/src/learner.cc:231: Only 1 GPUs are visible, setting `gpu_id` to 0\n",
      "[0]\tvalidation_0-rmse:6.83382\n",
      "[1000]\tvalidation_0-rmse:0.71903\n",
      "[1028]\tvalidation_0-rmse:0.71906\n"
     ]
    },
    {
     "name": "stderr",
     "output_type": "stream",
     "text": [
      "\u001b[32m[I 2021-08-29 19:01:03,754]\u001b[0m Trial 18 finished with value: 0.7186678417305639 and parameters: {'learning_rate': 0.12282427891402244, 'reg_lambda': 2.798260602253677e-05, 'reg_alpha': 1.8621299884038852e-08, 'subsample': 0.740367396257789, 'colsample_bytree': 0.17725406509205655, 'max_depth': 4}. Best is trial 17 with value: 0.7174446571043576.\u001b[0m\n"
     ]
    },
    {
     "name": "stdout",
     "output_type": "stream",
     "text": [
      "[19:01:04] WARNING: C:/Users/Administrator/workspace/xgboost-win64_release_1.4.0/src/learner.cc:231: Only 1 GPUs are visible, setting `gpu_id` to 0\n",
      "[0]\tvalidation_0-rmse:7.48433\n",
      "[1000]\tvalidation_0-rmse:0.72619\n",
      "[2000]\tvalidation_0-rmse:0.72224\n",
      "[3000]\tvalidation_0-rmse:0.72027\n",
      "[4000]\tvalidation_0-rmse:0.71914\n",
      "[5000]\tvalidation_0-rmse:0.71848\n",
      "[6000]\tvalidation_0-rmse:0.71806\n",
      "[6999]\tvalidation_0-rmse:0.71787\n"
     ]
    },
    {
     "name": "stderr",
     "output_type": "stream",
     "text": [
      "\u001b[32m[I 2021-08-29 19:01:57,158]\u001b[0m Trial 19 finished with value: 0.7178591270267979 and parameters: {'learning_rate': 0.038346881413460515, 'reg_lambda': 2.122287462740749e-07, 'reg_alpha': 1.2130381931987405e-08, 'subsample': 0.6038618721710948, 'colsample_bytree': 0.28284320812985136, 'max_depth': 2}. Best is trial 17 with value: 0.7174446571043576.\u001b[0m\n"
     ]
    },
    {
     "name": "stdout",
     "output_type": "stream",
     "text": [
      "[19:01:58] WARNING: C:/Users/Administrator/workspace/xgboost-win64_release_1.4.0/src/learner.cc:231: Only 1 GPUs are visible, setting `gpu_id` to 0\n",
      "[0]\tvalidation_0-rmse:7.62716\n",
      "[1000]\tvalidation_0-rmse:0.72341\n",
      "[2000]\tvalidation_0-rmse:0.72005\n",
      "[3000]\tvalidation_0-rmse:0.71868\n",
      "[4000]\tvalidation_0-rmse:0.71815\n",
      "[5000]\tvalidation_0-rmse:0.71801\n",
      "[5887]\tvalidation_0-rmse:0.71800\n"
     ]
    },
    {
     "name": "stderr",
     "output_type": "stream",
     "text": [
      "\u001b[32m[I 2021-08-29 19:03:01,909]\u001b[0m Trial 20 finished with value: 0.7179703725235327 and parameters: {'learning_rate': 0.0198130420420654, 'reg_lambda': 2.2820532839616734e-05, 'reg_alpha': 1.835236169972679e-05, 'subsample': 0.7402908666848019, 'colsample_bytree': 0.42124462600126367, 'max_depth': 4}. Best is trial 17 with value: 0.7174446571043576.\u001b[0m\n"
     ]
    },
    {
     "name": "stdout",
     "output_type": "stream",
     "text": [
      "[19:03:03] WARNING: C:/Users/Administrator/workspace/xgboost-win64_release_1.4.0/src/learner.cc:231: Only 1 GPUs are visible, setting `gpu_id` to 0\n",
      "[0]\tvalidation_0-rmse:7.59344\n",
      "[1000]\tvalidation_0-rmse:0.72458\n",
      "[2000]\tvalidation_0-rmse:0.72099\n",
      "[3000]\tvalidation_0-rmse:0.71927\n",
      "[4000]\tvalidation_0-rmse:0.71838\n",
      "[5000]\tvalidation_0-rmse:0.71787\n",
      "[6000]\tvalidation_0-rmse:0.71762\n",
      "[6999]\tvalidation_0-rmse:0.71745\n"
     ]
    },
    {
     "name": "stderr",
     "output_type": "stream",
     "text": [
      "\u001b[32m[I 2021-08-29 19:04:13,624]\u001b[0m Trial 21 finished with value: 0.7174538776386649 and parameters: {'learning_rate': 0.024189620779444865, 'reg_lambda': 0.002628100106792616, 'reg_alpha': 0.07043070521956678, 'subsample': 0.9130452271312263, 'colsample_bytree': 0.22458775871735942, 'max_depth': 3}. Best is trial 17 with value: 0.7174446571043576.\u001b[0m\n"
     ]
    },
    {
     "name": "stdout",
     "output_type": "stream",
     "text": [
      "[19:04:14] WARNING: C:/Users/Administrator/workspace/xgboost-win64_release_1.4.0/src/learner.cc:231: Only 1 GPUs are visible, setting `gpu_id` to 0\n",
      "[0]\tvalidation_0-rmse:7.46352\n",
      "[1000]\tvalidation_0-rmse:0.72178\n",
      "[2000]\tvalidation_0-rmse:0.71890\n",
      "[3000]\tvalidation_0-rmse:0.71789\n",
      "[4000]\tvalidation_0-rmse:0.71752\n",
      "[4979]\tvalidation_0-rmse:0.71741\n"
     ]
    },
    {
     "name": "stderr",
     "output_type": "stream",
     "text": [
      "\u001b[32m[I 2021-08-29 19:05:04,546]\u001b[0m Trial 22 finished with value: 0.7173900701871593 and parameters: {'learning_rate': 0.04105298770096135, 'reg_lambda': 0.0016007754672894472, 'reg_alpha': 0.002020864496935464, 'subsample': 0.9182400247223899, 'colsample_bytree': 0.219752681794984, 'max_depth': 3}. Best is trial 22 with value: 0.7173900701871593.\u001b[0m\n"
     ]
    },
    {
     "name": "stdout",
     "output_type": "stream",
     "text": [
      "[19:05:05] WARNING: C:/Users/Administrator/workspace/xgboost-win64_release_1.4.0/src/learner.cc:231: Only 1 GPUs are visible, setting `gpu_id` to 0\n",
      "[0]\tvalidation_0-rmse:7.45914\n",
      "[1000]\tvalidation_0-rmse:0.72598\n",
      "[2000]\tvalidation_0-rmse:0.72257\n",
      "[3000]\tvalidation_0-rmse:0.72063\n",
      "[4000]\tvalidation_0-rmse:0.71944\n",
      "[5000]\tvalidation_0-rmse:0.71857\n",
      "[6000]\tvalidation_0-rmse:0.71807\n",
      "[6999]\tvalidation_0-rmse:0.71776\n"
     ]
    },
    {
     "name": "stderr",
     "output_type": "stream",
     "text": [
      "\u001b[32m[I 2021-08-29 19:06:09,052]\u001b[0m Trial 23 finished with value: 0.7177530930049469 and parameters: {'learning_rate': 0.04162284266406894, 'reg_lambda': 0.004859172159248152, 'reg_alpha': 0.0021174532675911524, 'subsample': 0.9420404791693947, 'colsample_bytree': 0.2144950077272038, 'max_depth': 2}. Best is trial 22 with value: 0.7173900701871593.\u001b[0m\n"
     ]
    },
    {
     "name": "stdout",
     "output_type": "stream",
     "text": [
      "[19:06:10] WARNING: C:/Users/Administrator/workspace/xgboost-win64_release_1.4.0/src/learner.cc:231: Only 1 GPUs are visible, setting `gpu_id` to 0\n",
      "[0]\tvalidation_0-rmse:7.65950\n",
      "[1000]\tvalidation_0-rmse:0.72674\n",
      "[2000]\tvalidation_0-rmse:0.72166\n",
      "[3000]\tvalidation_0-rmse:0.71947\n",
      "[4000]\tvalidation_0-rmse:0.71846\n",
      "[5000]\tvalidation_0-rmse:0.71788\n",
      "[6000]\tvalidation_0-rmse:0.71754\n",
      "[6999]\tvalidation_0-rmse:0.71735\n"
     ]
    },
    {
     "name": "stderr",
     "output_type": "stream",
     "text": [
      "\u001b[32m[I 2021-08-29 19:07:31,589]\u001b[0m Trial 24 finished with value: 0.717350105155766 and parameters: {'learning_rate': 0.015618090878815612, 'reg_lambda': 0.00041160179324441155, 'reg_alpha': 8.633015818126868e-07, 'subsample': 0.893686795243357, 'colsample_bytree': 0.11888178994136284, 'max_depth': 4}. Best is trial 24 with value: 0.717350105155766.\u001b[0m\n"
     ]
    },
    {
     "name": "stdout",
     "output_type": "stream",
     "text": [
      "[19:07:32] WARNING: C:/Users/Administrator/workspace/xgboost-win64_release_1.4.0/src/learner.cc:231: Only 1 GPUs are visible, setting `gpu_id` to 0\n",
      "[0]\tvalidation_0-rmse:7.66954\n",
      "[1000]\tvalidation_0-rmse:0.72742\n",
      "[2000]\tvalidation_0-rmse:0.72220\n",
      "[3000]\tvalidation_0-rmse:0.71984\n",
      "[4000]\tvalidation_0-rmse:0.71869\n",
      "[5000]\tvalidation_0-rmse:0.71805\n",
      "[6000]\tvalidation_0-rmse:0.71765\n",
      "[6999]\tvalidation_0-rmse:0.71742\n"
     ]
    },
    {
     "name": "stderr",
     "output_type": "stream",
     "text": [
      "\u001b[32m[I 2021-08-29 19:08:52,636]\u001b[0m Trial 25 finished with value: 0.7174223221407746 and parameters: {'learning_rate': 0.01431575292742106, 'reg_lambda': 0.0002974713227349008, 'reg_alpha': 2.1686883505053173e-07, 'subsample': 0.847284141303682, 'colsample_bytree': 0.12281163304471757, 'max_depth': 4}. Best is trial 24 with value: 0.717350105155766.\u001b[0m\n"
     ]
    },
    {
     "name": "stdout",
     "output_type": "stream",
     "text": [
      "[19:08:53] WARNING: C:/Users/Administrator/workspace/xgboost-win64_release_1.4.0/src/learner.cc:231: Only 1 GPUs are visible, setting `gpu_id` to 0\n",
      "[0]\tvalidation_0-rmse:7.69917\n",
      "[1000]\tvalidation_0-rmse:0.72425\n",
      "[2000]\tvalidation_0-rmse:0.71969\n",
      "[3000]\tvalidation_0-rmse:0.71833\n",
      "[4000]\tvalidation_0-rmse:0.71780\n",
      "[4938]\tvalidation_0-rmse:0.71761\n"
     ]
    },
    {
     "name": "stderr",
     "output_type": "stream",
     "text": [
      "\u001b[32m[I 2021-08-29 19:10:19,652]\u001b[0m Trial 26 finished with value: 0.7175939914710224 and parameters: {'learning_rate': 0.01047001738698348, 'reg_lambda': 0.0005408580107206222, 'reg_alpha': 7.240368303583476e-07, 'subsample': 0.868556676564715, 'colsample_bytree': 0.15050782368856425, 'max_depth': 6}. Best is trial 24 with value: 0.717350105155766.\u001b[0m\n"
     ]
    },
    {
     "name": "stdout",
     "output_type": "stream",
     "text": [
      "[19:10:20] WARNING: C:/Users/Administrator/workspace/xgboost-win64_release_1.4.0/src/learner.cc:231: Only 1 GPUs are visible, setting `gpu_id` to 0\n",
      "[0]\tvalidation_0-rmse:7.66886\n",
      "[1000]\tvalidation_0-rmse:0.72732\n",
      "[2000]\tvalidation_0-rmse:0.72205\n",
      "[3000]\tvalidation_0-rmse:0.71977\n",
      "[4000]\tvalidation_0-rmse:0.71861\n",
      "[5000]\tvalidation_0-rmse:0.71796\n",
      "[6000]\tvalidation_0-rmse:0.71755\n",
      "[6999]\tvalidation_0-rmse:0.71735\n"
     ]
    },
    {
     "name": "stderr",
     "output_type": "stream",
     "text": [
      "\u001b[32m[I 2021-08-29 19:11:28,102]\u001b[0m Trial 27 finished with value: 0.7173442971721872 and parameters: {'learning_rate': 0.014404286663850019, 'reg_lambda': 0.00022701135180705964, 'reg_alpha': 1.3724561895968087e-07, 'subsample': 0.5472927137729267, 'colsample_bytree': 0.11029940208399172, 'max_depth': 4}. Best is trial 27 with value: 0.7173442971721872.\u001b[0m\n"
     ]
    },
    {
     "name": "stdout",
     "output_type": "stream",
     "text": [
      "[19:11:29] WARNING: C:/Users/Administrator/workspace/xgboost-win64_release_1.4.0/src/learner.cc:231: Only 1 GPUs are visible, setting `gpu_id` to 0\n",
      "[0]\tvalidation_0-rmse:7.66188\n",
      "[1000]\tvalidation_0-rmse:0.72469\n",
      "[2000]\tvalidation_0-rmse:0.71986\n",
      "[3000]\tvalidation_0-rmse:0.71826\n",
      "[4000]\tvalidation_0-rmse:0.71769\n",
      "[5000]\tvalidation_0-rmse:0.71747\n",
      "[6000]\tvalidation_0-rmse:0.71740\n",
      "[6709]\tvalidation_0-rmse:0.71742\n"
     ]
    },
    {
     "name": "stderr",
     "output_type": "stream",
     "text": [
      "\u001b[32m[I 2021-08-29 19:12:45,918]\u001b[0m Trial 28 finished with value: 0.7173884489013802 and parameters: {'learning_rate': 0.015310796214426527, 'reg_lambda': 0.049220833407014254, 'reg_alpha': 7.316802692549455e-06, 'subsample': 0.5499346668127129, 'colsample_bytree': 0.1011211540346814, 'max_depth': 5}. Best is trial 27 with value: 0.7173442971721872.\u001b[0m\n"
     ]
    },
    {
     "name": "stdout",
     "output_type": "stream",
     "text": [
      "[19:12:47] WARNING: C:/Users/Administrator/workspace/xgboost-win64_release_1.4.0/src/learner.cc:231: Only 1 GPUs are visible, setting `gpu_id` to 0\n",
      "[0]\tvalidation_0-rmse:7.62800\n",
      "[1000]\tvalidation_0-rmse:0.72271\n",
      "[2000]\tvalidation_0-rmse:0.71876\n",
      "[3000]\tvalidation_0-rmse:0.71776\n",
      "[4000]\tvalidation_0-rmse:0.71750\n",
      "[4535]\tvalidation_0-rmse:0.71752\n"
     ]
    },
    {
     "name": "stderr",
     "output_type": "stream",
     "text": [
      "\u001b[32m[I 2021-08-29 19:13:37,818]\u001b[0m Trial 29 finished with value: 0.7174845960324966 and parameters: {'learning_rate': 0.019711576457839747, 'reg_lambda': 0.03629078108923616, 'reg_alpha': 6.994985968418691e-06, 'subsample': 0.5029998380838018, 'colsample_bytree': 0.10006813441278686, 'max_depth': 5}. Best is trial 27 with value: 0.7173442971721872.\u001b[0m\n"
     ]
    },
    {
     "name": "stdout",
     "output_type": "stream",
     "text": [
      "[19:13:39] WARNING: C:/Users/Administrator/workspace/xgboost-win64_release_1.4.0/src/learner.cc:231: Only 1 GPUs are visible, setting `gpu_id` to 0\n",
      "[0]\tvalidation_0-rmse:7.65574\n",
      "[1000]\tvalidation_0-rmse:0.72130\n",
      "[2000]\tvalidation_0-rmse:0.71919\n",
      "[3000]\tvalidation_0-rmse:0.71898\n",
      "[3120]\tvalidation_0-rmse:0.71896\n"
     ]
    },
    {
     "name": "stderr",
     "output_type": "stream",
     "text": [
      "\u001b[32m[I 2021-08-29 19:14:21,908]\u001b[0m Trial 30 finished with value: 0.71893436547545 and parameters: {'learning_rate': 0.016107008512012477, 'reg_lambda': 0.24085901692204612, 'reg_alpha': 0.00021354716543059516, 'subsample': 0.3621995769898501, 'colsample_bytree': 0.30052642113442685, 'max_depth': 6}. Best is trial 27 with value: 0.7173442971721872.\u001b[0m\n"
     ]
    },
    {
     "name": "stdout",
     "output_type": "stream",
     "text": [
      "[19:14:23] WARNING: C:/Users/Administrator/workspace/xgboost-win64_release_1.4.0/src/learner.cc:231: Only 1 GPUs are visible, setting `gpu_id` to 0\n",
      "[0]\tvalidation_0-rmse:7.67305\n",
      "[1000]\tvalidation_0-rmse:0.72312\n",
      "[2000]\tvalidation_0-rmse:0.71968\n",
      "[3000]\tvalidation_0-rmse:0.71847\n",
      "[4000]\tvalidation_0-rmse:0.71793\n",
      "[5000]\tvalidation_0-rmse:0.71771\n",
      "[5945]\tvalidation_0-rmse:0.71771\n"
     ]
    },
    {
     "name": "stderr",
     "output_type": "stream",
     "text": [
      "\u001b[32m[I 2021-08-29 19:15:32,221]\u001b[0m Trial 31 finished with value: 0.7176731930210588 and parameters: {'learning_rate': 0.013858449469766627, 'reg_lambda': 0.005648712200658894, 'reg_alpha': 1.1207548043389466e-07, 'subsample': 0.5476559544853024, 'colsample_bytree': 0.19579130118672233, 'max_depth': 5}. Best is trial 27 with value: 0.7173442971721872.\u001b[0m\n"
     ]
    },
    {
     "name": "stdout",
     "output_type": "stream",
     "text": [
      "[19:15:33] WARNING: C:/Users/Administrator/workspace/xgboost-win64_release_1.4.0/src/learner.cc:231: Only 1 GPUs are visible, setting `gpu_id` to 0\n",
      "[0]\tvalidation_0-rmse:7.61505\n",
      "[1000]\tvalidation_0-rmse:0.72292\n",
      "[2000]\tvalidation_0-rmse:0.71938\n",
      "[3000]\tvalidation_0-rmse:0.71809\n",
      "[4000]\tvalidation_0-rmse:0.71761\n",
      "[5000]\tvalidation_0-rmse:0.71744\n",
      "[5057]\tvalidation_0-rmse:0.71744\n"
     ]
    },
    {
     "name": "stderr",
     "output_type": "stream",
     "text": [
      "\u001b[32m[I 2021-08-29 19:16:19,802]\u001b[0m Trial 32 finished with value: 0.717418230388427 and parameters: {'learning_rate': 0.021386293159582234, 'reg_lambda': 0.0001304948362655923, 'reg_alpha': 2.1318095638712714e-06, 'subsample': 0.45220014727485225, 'colsample_bytree': 0.1583899593170076, 'max_depth': 4}. Best is trial 27 with value: 0.7173442971721872.\u001b[0m\n"
     ]
    },
    {
     "name": "stdout",
     "output_type": "stream",
     "text": [
      "[19:16:21] WARNING: C:/Users/Administrator/workspace/xgboost-win64_release_1.4.0/src/learner.cc:231: Only 1 GPUs are visible, setting `gpu_id` to 0\n",
      "[0]\tvalidation_0-rmse:7.70163\n",
      "[1000]\tvalidation_0-rmse:0.72825\n",
      "[2000]\tvalidation_0-rmse:0.72220\n",
      "[3000]\tvalidation_0-rmse:0.71969\n",
      "[4000]\tvalidation_0-rmse:0.71850\n",
      "[5000]\tvalidation_0-rmse:0.71785\n",
      "[6000]\tvalidation_0-rmse:0.71752\n",
      "[6999]\tvalidation_0-rmse:0.71735\n"
     ]
    },
    {
     "name": "stderr",
     "output_type": "stream",
     "text": [
      "\u001b[32m[I 2021-08-29 19:17:42,834]\u001b[0m Trial 33 finished with value: 0.7173415067165633 and parameters: {'learning_rate': 0.010149768314880193, 'reg_lambda': 0.013036768351252937, 'reg_alpha': 4.807078036178356e-05, 'subsample': 0.5729185115342078, 'colsample_bytree': 0.10958090292092819, 'max_depth': 5}. Best is trial 33 with value: 0.7173415067165633.\u001b[0m\n"
     ]
    },
    {
     "name": "stdout",
     "output_type": "stream",
     "text": [
      "[19:17:44] WARNING: C:/Users/Administrator/workspace/xgboost-win64_release_1.4.0/src/learner.cc:231: Only 1 GPUs are visible, setting `gpu_id` to 0\n",
      "[0]\tvalidation_0-rmse:7.70202\n",
      "[1000]\tvalidation_0-rmse:0.72340\n",
      "[2000]\tvalidation_0-rmse:0.72012\n",
      "[3000]\tvalidation_0-rmse:0.71884\n",
      "[4000]\tvalidation_0-rmse:0.71835\n",
      "[5000]\tvalidation_0-rmse:0.71814\n",
      "[5794]\tvalidation_0-rmse:0.71813\n"
     ]
    },
    {
     "name": "stderr",
     "output_type": "stream",
     "text": [
      "\u001b[32m[I 2021-08-29 19:19:12,093]\u001b[0m Trial 34 finished with value: 0.7180761407746237 and parameters: {'learning_rate': 0.010097098142361757, 'reg_lambda': 0.2249447476540296, 'reg_alpha': 3.8683907776081954e-05, 'subsample': 0.5955617690538848, 'colsample_bytree': 0.29682049905441016, 'max_depth': 6}. Best is trial 33 with value: 0.7173415067165633.\u001b[0m\n"
     ]
    },
    {
     "name": "stdout",
     "output_type": "stream",
     "text": [
      "[19:19:13] WARNING: C:/Users/Administrator/workspace/xgboost-win64_release_1.4.0/src/learner.cc:231: Only 1 GPUs are visible, setting `gpu_id` to 0\n",
      "[0]\tvalidation_0-rmse:7.65958\n",
      "[1000]\tvalidation_0-rmse:0.72237\n",
      "[2000]\tvalidation_0-rmse:0.71891\n",
      "[2912]\tvalidation_0-rmse:0.71846\n"
     ]
    },
    {
     "name": "stderr",
     "output_type": "stream",
     "text": [
      "\u001b[32m[I 2021-08-29 19:19:57,916]\u001b[0m Trial 35 finished with value: 0.7184458877474988 and parameters: {'learning_rate': 0.015607630630362895, 'reg_lambda': 0.010984827004361113, 'reg_alpha': 1.2722577759394505e-06, 'subsample': 0.28187811890469594, 'colsample_bytree': 0.10539430094252226, 'max_depth': 7}. Best is trial 33 with value: 0.7173415067165633.\u001b[0m\n"
     ]
    },
    {
     "name": "stdout",
     "output_type": "stream",
     "text": [
      "[19:19:59] WARNING: C:/Users/Administrator/workspace/xgboost-win64_release_1.4.0/src/learner.cc:231: Only 1 GPUs are visible, setting `gpu_id` to 0\n",
      "[0]\tvalidation_0-rmse:7.67709\n",
      "[1000]\tvalidation_0-rmse:0.72338\n",
      "[2000]\tvalidation_0-rmse:0.71980\n",
      "[3000]\tvalidation_0-rmse:0.71853\n",
      "[4000]\tvalidation_0-rmse:0.71797\n",
      "[5000]\tvalidation_0-rmse:0.71778\n",
      "[5954]\tvalidation_0-rmse:0.71774\n"
     ]
    },
    {
     "name": "stderr",
     "output_type": "stream",
     "text": [
      "\u001b[32m[I 2021-08-29 19:21:05,596]\u001b[0m Trial 36 finished with value: 0.7176921262413763 and parameters: {'learning_rate': 0.013334929133211493, 'reg_lambda': 0.06370922888093332, 'reg_alpha': 9.33693303332244e-05, 'subsample': 0.47538340146905694, 'colsample_bytree': 0.1736550155866801, 'max_depth': 5}. Best is trial 33 with value: 0.7173415067165633.\u001b[0m\n"
     ]
    },
    {
     "name": "stdout",
     "output_type": "stream",
     "text": [
      "[19:21:06] WARNING: C:/Users/Administrator/workspace/xgboost-win64_release_1.4.0/src/learner.cc:231: Only 1 GPUs are visible, setting `gpu_id` to 0\n",
      "[0]\tvalidation_0-rmse:7.64335\n",
      "[1000]\tvalidation_0-rmse:0.72225\n",
      "[2000]\tvalidation_0-rmse:0.71970\n",
      "[3000]\tvalidation_0-rmse:0.71898\n",
      "[3765]\tvalidation_0-rmse:0.71888\n"
     ]
    },
    {
     "name": "stderr",
     "output_type": "stream",
     "text": [
      "\u001b[32m[I 2021-08-29 19:21:48,975]\u001b[0m Trial 37 finished with value: 0.7188003100707612 and parameters: {'learning_rate': 0.017716742322988976, 'reg_lambda': 0.0006245328098270673, 'reg_alpha': 1.2141185510927866e-07, 'subsample': 0.38491253145044724, 'colsample_bytree': 0.46345551301086113, 'max_depth': 5}. Best is trial 33 with value: 0.7173415067165633.\u001b[0m\n"
     ]
    },
    {
     "name": "stdout",
     "output_type": "stream",
     "text": [
      "[19:21:50] WARNING: C:/Users/Administrator/workspace/xgboost-win64_release_1.4.0/src/learner.cc:231: Only 1 GPUs are visible, setting `gpu_id` to 0\n",
      "[0]\tvalidation_0-rmse:7.68852\n",
      "[1000]\tvalidation_0-rmse:0.72685\n",
      "[2000]\tvalidation_0-rmse:0.72124\n",
      "[3000]\tvalidation_0-rmse:0.71906\n",
      "[4000]\tvalidation_0-rmse:0.71813\n",
      "[5000]\tvalidation_0-rmse:0.71768\n",
      "[6000]\tvalidation_0-rmse:0.71747\n",
      "[6999]\tvalidation_0-rmse:0.71735\n"
     ]
    },
    {
     "name": "stderr",
     "output_type": "stream",
     "text": [
      "\u001b[32m[I 2021-08-29 19:23:15,810]\u001b[0m Trial 38 finished with value: 0.7173371371788525 and parameters: {'learning_rate': 0.011852042928122095, 'reg_lambda': 7.217981720168013e-05, 'reg_alpha': 5.330029363892333e-06, 'subsample': 0.6587664488683416, 'colsample_bytree': 0.10135305623891813, 'max_depth': 5}. Best is trial 38 with value: 0.7173371371788525.\u001b[0m\n"
     ]
    },
    {
     "name": "stdout",
     "output_type": "stream",
     "text": [
      "[19:23:17] WARNING: C:/Users/Administrator/workspace/xgboost-win64_release_1.4.0/src/learner.cc:231: Only 1 GPUs are visible, setting `gpu_id` to 0\n",
      "[0]\tvalidation_0-rmse:7.69152\n",
      "[1000]\tvalidation_0-rmse:0.72736\n",
      "[2000]\tvalidation_0-rmse:0.72244\n",
      "[3000]\tvalidation_0-rmse:0.72028\n",
      "[4000]\tvalidation_0-rmse:0.71910\n",
      "[5000]\tvalidation_0-rmse:0.71837\n",
      "[6000]\tvalidation_0-rmse:0.71796\n",
      "[6999]\tvalidation_0-rmse:0.71767\n"
     ]
    },
    {
     "name": "stderr",
     "output_type": "stream",
     "text": [
      "\u001b[32m[I 2021-08-29 19:24:30,157]\u001b[0m Trial 39 finished with value: 0.7176712341278473 and parameters: {'learning_rate': 0.011462775075882052, 'reg_lambda': 5.079241264253268e-05, 'reg_alpha': 0.0006772755504688034, 'subsample': 0.6706072801057946, 'colsample_bytree': 0.16217708437216846, 'max_depth': 4}. Best is trial 38 with value: 0.7173371371788525.\u001b[0m\n"
     ]
    },
    {
     "name": "stdout",
     "output_type": "stream",
     "text": [
      "[19:24:31] WARNING: C:/Users/Administrator/workspace/xgboost-win64_release_1.4.0/src/learner.cc:231: Only 1 GPUs are visible, setting `gpu_id` to 0\n",
      "[0]\tvalidation_0-rmse:7.68575\n",
      "[1000]\tvalidation_0-rmse:0.72219\n",
      "[2000]\tvalidation_0-rmse:0.71937\n",
      "[3000]\tvalidation_0-rmse:0.71835\n",
      "[4000]\tvalidation_0-rmse:0.71812\n",
      "[4937]\tvalidation_0-rmse:0.71805\n"
     ]
    },
    {
     "name": "stderr",
     "output_type": "stream",
     "text": [
      "\u001b[32m[I 2021-08-29 19:25:49,901]\u001b[0m Trial 40 finished with value: 0.7180062152550637 and parameters: {'learning_rate': 0.012209305548901487, 'reg_lambda': 0.00023447071901929983, 'reg_alpha': 5.19730162880077e-07, 'subsample': 0.6936479306628923, 'colsample_bytree': 0.2681334641260565, 'max_depth': 6}. Best is trial 38 with value: 0.7173371371788525.\u001b[0m\n"
     ]
    },
    {
     "name": "stdout",
     "output_type": "stream",
     "text": [
      "[19:25:51] WARNING: C:/Users/Administrator/workspace/xgboost-win64_release_1.4.0/src/learner.cc:231: Only 1 GPUs are visible, setting `gpu_id` to 0\n",
      "[0]\tvalidation_0-rmse:7.66622\n",
      "[1000]\tvalidation_0-rmse:0.72493\n",
      "[2000]\tvalidation_0-rmse:0.72000\n",
      "[3000]\tvalidation_0-rmse:0.71834\n",
      "[4000]\tvalidation_0-rmse:0.71768\n",
      "[5000]\tvalidation_0-rmse:0.71747\n",
      "[6000]\tvalidation_0-rmse:0.71737\n",
      "[6605]\tvalidation_0-rmse:0.71738\n"
     ]
    },
    {
     "name": "stderr",
     "output_type": "stream",
     "text": [
      "\u001b[32m[I 2021-08-29 19:27:06,870]\u001b[0m Trial 41 finished with value: 0.717361282543458 and parameters: {'learning_rate': 0.014745880355119161, 'reg_lambda': 0.001071388967794776, 'reg_alpha': 6.929258927675988e-06, 'subsample': 0.5625737936345856, 'colsample_bytree': 0.10742817967131921, 'max_depth': 5}. Best is trial 38 with value: 0.7173371371788525.\u001b[0m\n"
     ]
    },
    {
     "name": "stdout",
     "output_type": "stream",
     "text": [
      "[19:27:08] WARNING: C:/Users/Administrator/workspace/xgboost-win64_release_1.4.0/src/learner.cc:231: Only 1 GPUs are visible, setting `gpu_id` to 0\n",
      "[0]\tvalidation_0-rmse:7.60859\n",
      "[1000]\tvalidation_0-rmse:0.72079\n",
      "[2000]\tvalidation_0-rmse:0.71824\n",
      "[3000]\tvalidation_0-rmse:0.71758\n",
      "[3747]\tvalidation_0-rmse:0.71757\n"
     ]
    },
    {
     "name": "stderr",
     "output_type": "stream",
     "text": [
      "\u001b[32m[I 2021-08-29 19:27:53,109]\u001b[0m Trial 42 finished with value: 0.7175303656595539 and parameters: {'learning_rate': 0.0222229016928959, 'reg_lambda': 0.0026239210114272593, 'reg_alpha': 7.45415676598417e-06, 'subsample': 0.6057083325408754, 'colsample_bytree': 0.15407180757896982, 'max_depth': 5}. Best is trial 38 with value: 0.7173371371788525.\u001b[0m\n"
     ]
    },
    {
     "name": "stdout",
     "output_type": "stream",
     "text": [
      "[19:27:54] WARNING: C:/Users/Administrator/workspace/xgboost-win64_release_1.4.0/src/learner.cc:231: Only 1 GPUs are visible, setting `gpu_id` to 0\n",
      "[0]\tvalidation_0-rmse:7.70252\n",
      "[1000]\tvalidation_0-rmse:0.72738\n",
      "[2000]\tvalidation_0-rmse:0.72287\n",
      "[3000]\tvalidation_0-rmse:0.72079\n",
      "[4000]\tvalidation_0-rmse:0.71955\n",
      "[5000]\tvalidation_0-rmse:0.71880\n",
      "[6000]\tvalidation_0-rmse:0.71830\n",
      "[6999]\tvalidation_0-rmse:0.71799\n"
     ]
    },
    {
     "name": "stderr",
     "output_type": "stream",
     "text": [
      "\u001b[32m[I 2021-08-29 19:29:01,369]\u001b[0m Trial 43 finished with value: 0.7179933170171515 and parameters: {'learning_rate': 0.010035090959551168, 'reg_lambda': 0.0009116325891449032, 'reg_alpha': 5.747823692680234e-08, 'subsample': 0.5193098827181652, 'colsample_bytree': 0.20060671011245457, 'max_depth': 4}. Best is trial 38 with value: 0.7173371371788525.\u001b[0m\n"
     ]
    },
    {
     "name": "stdout",
     "output_type": "stream",
     "text": [
      "[19:29:02] WARNING: C:/Users/Administrator/workspace/xgboost-win64_release_1.4.0/src/learner.cc:231: Only 1 GPUs are visible, setting `gpu_id` to 0\n",
      "[0]\tvalidation_0-rmse:7.64421\n",
      "[1000]\tvalidation_0-rmse:0.72235\n",
      "[2000]\tvalidation_0-rmse:0.71983\n",
      "[3000]\tvalidation_0-rmse:0.71941\n",
      "[3594]\tvalidation_0-rmse:0.71938\n"
     ]
    },
    {
     "name": "stderr",
     "output_type": "stream",
     "text": [
      "\u001b[32m[I 2021-08-29 19:29:45,025]\u001b[0m Trial 44 finished with value: 0.719342405118345 and parameters: {'learning_rate': 0.017601172692462027, 'reg_lambda': 5.640409026171707e-05, 'reg_alpha': 7.643658274507359e-05, 'subsample': 0.42685791783906013, 'colsample_bytree': 0.7909269864868234, 'max_depth': 5}. Best is trial 38 with value: 0.7173371371788525.\u001b[0m\n"
     ]
    },
    {
     "name": "stdout",
     "output_type": "stream",
     "text": [
      "[19:29:46] WARNING: C:/Users/Administrator/workspace/xgboost-win64_release_1.4.0/src/learner.cc:231: Only 1 GPUs are visible, setting `gpu_id` to 0\n",
      "[0]\tvalidation_0-rmse:7.68603\n",
      "[1000]\tvalidation_0-rmse:0.72298\n",
      "[2000]\tvalidation_0-rmse:0.71899\n",
      "[3000]\tvalidation_0-rmse:0.71789\n",
      "[4000]\tvalidation_0-rmse:0.71756\n",
      "[4935]\tvalidation_0-rmse:0.71750\n"
     ]
    },
    {
     "name": "stderr",
     "output_type": "stream",
     "text": [
      "\u001b[32m[I 2021-08-29 19:30:59,984]\u001b[0m Trial 45 finished with value: 0.7174757163770978 and parameters: {'learning_rate': 0.012172894773811704, 'reg_lambda': 4.64773824776686e-06, 'reg_alpha': 4.5865994482378316e-06, 'subsample': 0.5813875956323334, 'colsample_bytree': 0.12827500873068215, 'max_depth': 6}. Best is trial 38 with value: 0.7173371371788525.\u001b[0m\n"
     ]
    },
    {
     "name": "stdout",
     "output_type": "stream",
     "text": [
      "[19:31:01] WARNING: C:/Users/Administrator/workspace/xgboost-win64_release_1.4.0/src/learner.cc:231: Only 1 GPUs are visible, setting `gpu_id` to 0\n",
      "[0]\tvalidation_0-rmse:7.67194\n",
      "[1000]\tvalidation_0-rmse:0.72296\n",
      "[2000]\tvalidation_0-rmse:0.71978\n",
      "[3000]\tvalidation_0-rmse:0.71860\n",
      "[4000]\tvalidation_0-rmse:0.71805\n",
      "[5000]\tvalidation_0-rmse:0.71787\n",
      "[5492]\tvalidation_0-rmse:0.71785\n"
     ]
    },
    {
     "name": "stderr",
     "output_type": "stream",
     "text": [
      "\u001b[32m[I 2021-08-29 19:32:07,814]\u001b[0m Trial 46 finished with value: 0.7178359345326383 and parameters: {'learning_rate': 0.014000914349320907, 'reg_lambda': 0.00019637370772780088, 'reg_alpha': 3.648265047971036e-07, 'subsample': 0.6308967485029272, 'colsample_bytree': 0.24643311567526913, 'max_depth': 5}. Best is trial 38 with value: 0.7173371371788525.\u001b[0m\n"
     ]
    },
    {
     "name": "stdout",
     "output_type": "stream",
     "text": [
      "[19:32:09] WARNING: C:/Users/Administrator/workspace/xgboost-win64_release_1.4.0/src/learner.cc:231: Only 1 GPUs are visible, setting `gpu_id` to 0\n",
      "[0]\tvalidation_0-rmse:7.39108\n",
      "[1000]\tvalidation_0-rmse:0.71942\n",
      "[2000]\tvalidation_0-rmse:0.71829\n",
      "[2281]\tvalidation_0-rmse:0.71832\n"
     ]
    },
    {
     "name": "stderr",
     "output_type": "stream",
     "text": [
      "\u001b[32m[I 2021-08-29 19:32:32,990]\u001b[0m Trial 47 finished with value: 0.7182501026105742 and parameters: {'learning_rate': 0.050454408285542, 'reg_lambda': 9.283285861052441e-07, 'reg_alpha': 1.222623141620013e-06, 'subsample': 0.693146298916751, 'colsample_bytree': 0.3338941552886395, 'max_depth': 4}. Best is trial 38 with value: 0.7173371371788525.\u001b[0m\n"
     ]
    },
    {
     "name": "stdout",
     "output_type": "stream",
     "text": [
      "[19:32:34] WARNING: C:/Users/Administrator/workspace/xgboost-win64_release_1.4.0/src/learner.cc:231: Only 1 GPUs are visible, setting `gpu_id` to 0\n",
      "[0]\tvalidation_0-rmse:7.59074\n",
      "[1000]\tvalidation_0-rmse:0.71948\n",
      "[2000]\tvalidation_0-rmse:0.71802\n",
      "[2408]\tvalidation_0-rmse:0.71800\n"
     ]
    },
    {
     "name": "stderr",
     "output_type": "stream",
     "text": [
      "\u001b[32m[I 2021-08-29 19:33:08,714]\u001b[0m Trial 48 finished with value: 0.7179516838067416 and parameters: {'learning_rate': 0.024543732429008643, 'reg_lambda': 0.012023854520618021, 'reg_alpha': 4.2732528078026694e-08, 'subsample': 0.48806007497333986, 'colsample_bytree': 0.14264653040127975, 'max_depth': 6}. Best is trial 38 with value: 0.7173371371788525.\u001b[0m\n"
     ]
    },
    {
     "name": "stdout",
     "output_type": "stream",
     "text": [
      "[19:33:09] WARNING: C:/Users/Administrator/workspace/xgboost-win64_release_1.4.0/src/learner.cc:231: Only 1 GPUs are visible, setting `gpu_id` to 0\n",
      "[0]\tvalidation_0-rmse:7.64531\n",
      "[1000]\tvalidation_0-rmse:0.72408\n",
      "[2000]\tvalidation_0-rmse:0.72120\n",
      "[3000]\tvalidation_0-rmse:0.72009\n",
      "[4000]\tvalidation_0-rmse:0.71949\n",
      "[5000]\tvalidation_0-rmse:0.71926\n",
      "[5650]\tvalidation_0-rmse:0.71926\n"
     ]
    },
    {
     "name": "stderr",
     "output_type": "stream",
     "text": [
      "\u001b[32m[I 2021-08-29 19:33:52,066]\u001b[0m Trial 49 finished with value: 0.7191842158017521 and parameters: {'learning_rate': 0.017465954395108296, 'reg_lambda': 1.0285918313039464e-05, 'reg_alpha': 2.747896672223668e-06, 'subsample': 0.10359875960887421, 'colsample_bytree': 0.1941895450453782, 'max_depth': 4}. Best is trial 38 with value: 0.7173371371788525.\u001b[0m\n"
     ]
    },
    {
     "name": "stdout",
     "output_type": "stream",
     "text": [
      "[19:33:53] WARNING: C:/Users/Administrator/workspace/xgboost-win64_release_1.4.0/src/learner.cc:231: Only 1 GPUs are visible, setting `gpu_id` to 0\n",
      "[0]\tvalidation_0-rmse:7.54216\n",
      "[1000]\tvalidation_0-rmse:0.72134\n",
      "[2000]\tvalidation_0-rmse:0.71921\n",
      "[2948]\tvalidation_0-rmse:0.71894\n"
     ]
    },
    {
     "name": "stderr",
     "output_type": "stream",
     "text": [
      "\u001b[32m[I 2021-08-29 19:34:23,415]\u001b[0m Trial 50 finished with value: 0.71890222745143 and parameters: {'learning_rate': 0.030843799461479082, 'reg_lambda': 6.979039862767298e-05, 'reg_alpha': 2.785442870542776e-05, 'subsample': 0.5415856369770855, 'colsample_bytree': 0.8499617231944966, 'max_depth': 4}. Best is trial 38 with value: 0.7173371371788525.\u001b[0m\n"
     ]
    },
    {
     "name": "stdout",
     "output_type": "stream",
     "text": [
      "[19:34:24] WARNING: C:/Users/Administrator/workspace/xgboost-win64_release_1.4.0/src/learner.cc:231: Only 1 GPUs are visible, setting `gpu_id` to 0\n",
      "[0]\tvalidation_0-rmse:7.67212\n",
      "[1000]\tvalidation_0-rmse:0.72539\n",
      "[2000]\tvalidation_0-rmse:0.72023\n",
      "[3000]\tvalidation_0-rmse:0.71849\n",
      "[4000]\tvalidation_0-rmse:0.71778\n",
      "[5000]\tvalidation_0-rmse:0.71748\n",
      "[6000]\tvalidation_0-rmse:0.71731\n",
      "[6967]\tvalidation_0-rmse:0.71726\n"
     ]
    },
    {
     "name": "stderr",
     "output_type": "stream",
     "text": [
      "\u001b[32m[I 2021-08-29 19:35:45,150]\u001b[0m Trial 51 finished with value: 0.7172534560472633 and parameters: {'learning_rate': 0.013978423443446696, 'reg_lambda': 0.03132584908916518, 'reg_alpha': 1.1927222676722425e-05, 'subsample': 0.5773695293544596, 'colsample_bytree': 0.1023747711666645, 'max_depth': 5}. Best is trial 51 with value: 0.7172534560472633.\u001b[0m\n"
     ]
    },
    {
     "name": "stdout",
     "output_type": "stream",
     "text": [
      "[19:35:46] WARNING: C:/Users/Administrator/workspace/xgboost-win64_release_1.4.0/src/learner.cc:231: Only 1 GPUs are visible, setting `gpu_id` to 0\n",
      "[0]\tvalidation_0-rmse:7.67738\n",
      "[1000]\tvalidation_0-rmse:0.72429\n",
      "[2000]\tvalidation_0-rmse:0.71987\n",
      "[3000]\tvalidation_0-rmse:0.71838\n",
      "[4000]\tvalidation_0-rmse:0.71776\n",
      "[5000]\tvalidation_0-rmse:0.71746\n",
      "[5941]\tvalidation_0-rmse:0.71737\n"
     ]
    },
    {
     "name": "stderr",
     "output_type": "stream",
     "text": [
      "\u001b[32m[I 2021-08-29 19:36:58,492]\u001b[0m Trial 52 finished with value: 0.717351590610144 and parameters: {'learning_rate': 0.013298424681949143, 'reg_lambda': 1.3087783332248017, 'reg_alpha': 0.00022093143352057098, 'subsample': 0.6422136446526189, 'colsample_bytree': 0.1332506267892935, 'max_depth': 5}. Best is trial 51 with value: 0.7172534560472633.\u001b[0m\n"
     ]
    },
    {
     "name": "stdout",
     "output_type": "stream",
     "text": [
      "[19:36:59] WARNING: C:/Users/Administrator/workspace/xgboost-win64_release_1.4.0/src/learner.cc:231: Only 1 GPUs are visible, setting `gpu_id` to 0\n",
      "[0]\tvalidation_0-rmse:7.69473\n",
      "[1000]\tvalidation_0-rmse:0.72497\n",
      "[2000]\tvalidation_0-rmse:0.72069\n",
      "[3000]\tvalidation_0-rmse:0.71910\n",
      "[4000]\tvalidation_0-rmse:0.71828\n",
      "[5000]\tvalidation_0-rmse:0.71780\n",
      "[6000]\tvalidation_0-rmse:0.71762\n",
      "[6999]\tvalidation_0-rmse:0.71754\n"
     ]
    },
    {
     "name": "stderr",
     "output_type": "stream",
     "text": [
      "\u001b[32m[I 2021-08-29 19:38:24,924]\u001b[0m Trial 53 finished with value: 0.7175250333395379 and parameters: {'learning_rate': 0.011045374536349377, 'reg_lambda': 1.412008208088198, 'reg_alpha': 0.00018898881426497791, 'subsample': 0.6425789105459546, 'colsample_bytree': 0.18045135673303175, 'max_depth': 5}. Best is trial 51 with value: 0.7172534560472633.\u001b[0m\n"
     ]
    },
    {
     "name": "stdout",
     "output_type": "stream",
     "text": [
      "[19:38:26] WARNING: C:/Users/Administrator/workspace/xgboost-win64_release_1.4.0/src/learner.cc:231: Only 1 GPUs are visible, setting `gpu_id` to 0\n",
      "[0]\tvalidation_0-rmse:6.44642\n",
      "[693]\tvalidation_0-rmse:0.71913\n"
     ]
    },
    {
     "name": "stderr",
     "output_type": "stream",
     "text": [
      "\u001b[32m[I 2021-08-29 19:38:35,217]\u001b[0m Trial 54 finished with value: 0.7185197464230987 and parameters: {'learning_rate': 0.1732242761597202, 'reg_lambda': 8.766711491729097, 'reg_alpha': 0.00037678354240472953, 'subsample': 0.7922824084228136, 'colsample_bytree': 0.13787154299949694, 'max_depth': 5}. Best is trial 51 with value: 0.7172534560472633.\u001b[0m\n"
     ]
    },
    {
     "name": "stdout",
     "output_type": "stream",
     "text": [
      "[19:38:36] WARNING: C:/Users/Administrator/workspace/xgboost-win64_release_1.4.0/src/learner.cc:231: Only 1 GPUs are visible, setting `gpu_id` to 0\n",
      "[0]\tvalidation_0-rmse:7.67895\n",
      "[1000]\tvalidation_0-rmse:0.72596\n",
      "[2000]\tvalidation_0-rmse:0.72204\n",
      "[3000]\tvalidation_0-rmse:0.72028\n",
      "[4000]\tvalidation_0-rmse:0.71942\n",
      "[5000]\tvalidation_0-rmse:0.71893\n",
      "[6000]\tvalidation_0-rmse:0.71867\n",
      "[6999]\tvalidation_0-rmse:0.71855\n"
     ]
    },
    {
     "name": "stderr",
     "output_type": "stream",
     "text": [
      "\u001b[32m[I 2021-08-29 19:39:50,902]\u001b[0m Trial 55 finished with value: 0.7185341742607421 and parameters: {'learning_rate': 0.013089807805798916, 'reg_lambda': 0.13608579106876156, 'reg_alpha': 1.613190793312069e-05, 'subsample': 0.6301973239772884, 'colsample_bytree': 0.9274784954849813, 'max_depth': 4}. Best is trial 51 with value: 0.7172534560472633.\u001b[0m\n"
     ]
    },
    {
     "name": "stdout",
     "output_type": "stream",
     "text": [
      "[19:39:52] WARNING: C:/Users/Administrator/workspace/xgboost-win64_release_1.4.0/src/learner.cc:231: Only 1 GPUs are visible, setting `gpu_id` to 0\n",
      "[0]\tvalidation_0-rmse:7.69071\n",
      "[1000]\tvalidation_0-rmse:0.72268\n",
      "[2000]\tvalidation_0-rmse:0.71952\n",
      "[3000]\tvalidation_0-rmse:0.71846\n",
      "[4000]\tvalidation_0-rmse:0.71810\n",
      "[4941]\tvalidation_0-rmse:0.71804\n"
     ]
    },
    {
     "name": "stderr",
     "output_type": "stream",
     "text": [
      "\u001b[32m[I 2021-08-29 19:41:10,331]\u001b[0m Trial 56 finished with value: 0.7180225906632883 and parameters: {'learning_rate': 0.011566089428904918, 'reg_lambda': 0.5677334306166184, 'reg_alpha': 6.494689272534281e-05, 'subsample': 0.694372659152049, 'colsample_bytree': 0.2316933815800925, 'max_depth': 6}. Best is trial 51 with value: 0.7172534560472633.\u001b[0m\n"
     ]
    },
    {
     "name": "stdout",
     "output_type": "stream",
     "text": [
      "[19:41:11] WARNING: C:/Users/Administrator/workspace/xgboost-win64_release_1.4.0/src/learner.cc:231: Only 1 GPUs are visible, setting `gpu_id` to 0\n",
      "[0]\tvalidation_0-rmse:7.25965\n",
      "[1000]\tvalidation_0-rmse:0.71826\n",
      "[1652]\tvalidation_0-rmse:0.71836\n"
     ]
    },
    {
     "name": "stderr",
     "output_type": "stream",
     "text": [
      "\u001b[32m[I 2021-08-29 19:41:29,523]\u001b[0m Trial 57 finished with value: 0.7180963204000106 and parameters: {'learning_rate': 0.06754612612067121, 'reg_lambda': 21.478424875706697, 'reg_alpha': 1.5239803644273222e-05, 'subsample': 0.45751809938781796, 'colsample_bytree': 0.14617539974456004, 'max_depth': 5}. Best is trial 51 with value: 0.7172534560472633.\u001b[0m\n"
     ]
    },
    {
     "name": "stdout",
     "output_type": "stream",
     "text": [
      "[19:41:30] WARNING: C:/Users/Administrator/workspace/xgboost-win64_release_1.4.0/src/learner.cc:231: Only 1 GPUs are visible, setting `gpu_id` to 0\n",
      "[0]\tvalidation_0-rmse:7.63772\n",
      "[1000]\tvalidation_0-rmse:0.72627\n",
      "[2000]\tvalidation_0-rmse:0.72219\n",
      "[3000]\tvalidation_0-rmse:0.72032\n",
      "[4000]\tvalidation_0-rmse:0.71926\n",
      "[5000]\tvalidation_0-rmse:0.71867\n",
      "[6000]\tvalidation_0-rmse:0.71825\n",
      "[6999]\tvalidation_0-rmse:0.71807\n"
     ]
    },
    {
     "name": "stderr",
     "output_type": "stream",
     "text": [
      "\u001b[32m[I 2021-08-29 19:42:30,193]\u001b[0m Trial 58 finished with value: 0.7180683595519358 and parameters: {'learning_rate': 0.018439823772830006, 'reg_lambda': 0.02220450552437067, 'reg_alpha': 0.0016084105874942917, 'subsample': 0.574922538301467, 'colsample_bytree': 0.5698636357729685, 'max_depth': 3}. Best is trial 51 with value: 0.7172534560472633.\u001b[0m\n"
     ]
    },
    {
     "name": "stdout",
     "output_type": "stream",
     "text": [
      "[19:42:31] WARNING: C:/Users/Administrator/workspace/xgboost-win64_release_1.4.0/src/learner.cc:231: Only 1 GPUs are visible, setting `gpu_id` to 0\n",
      "[0]\tvalidation_0-rmse:7.61828\n",
      "[1000]\tvalidation_0-rmse:0.72370\n",
      "[2000]\tvalidation_0-rmse:0.71983\n",
      "[3000]\tvalidation_0-rmse:0.71845\n",
      "[4000]\tvalidation_0-rmse:0.71784\n",
      "[5000]\tvalidation_0-rmse:0.71763\n",
      "[5904]\tvalidation_0-rmse:0.71756\n"
     ]
    },
    {
     "name": "stderr",
     "output_type": "stream",
     "text": [
      "\u001b[32m[I 2021-08-29 19:43:27,834]\u001b[0m Trial 59 finished with value: 0.7175429260173846 and parameters: {'learning_rate': 0.020987646293070362, 'reg_lambda': 96.27168289017077, 'reg_alpha': 0.0051857158749708246, 'subsample': 0.5215869565241595, 'colsample_bytree': 0.26004132995403584, 'max_depth': 4}. Best is trial 51 with value: 0.7172534560472633.\u001b[0m\n"
     ]
    },
    {
     "name": "stdout",
     "output_type": "stream",
     "text": [
      "[19:43:29] WARNING: C:/Users/Administrator/workspace/xgboost-win64_release_1.4.0/src/learner.cc:231: Only 1 GPUs are visible, setting `gpu_id` to 0\n",
      "[0]\tvalidation_0-rmse:7.68111\n",
      "[1000]\tvalidation_0-rmse:0.72119\n",
      "[2000]\tvalidation_0-rmse:0.71905\n",
      "[3000]\tvalidation_0-rmse:0.71858\n",
      "[3202]\tvalidation_0-rmse:0.71862\n"
     ]
    },
    {
     "name": "stderr",
     "output_type": "stream",
     "text": [
      "\u001b[32m[I 2021-08-29 19:44:40,521]\u001b[0m Trial 60 finished with value: 0.7185643055200137 and parameters: {'learning_rate': 0.012811546677680929, 'reg_lambda': 0.006241815607459047, 'reg_alpha': 0.0003171005118902488, 'subsample': 0.7800159268243415, 'colsample_bytree': 0.32236171856431295, 'max_depth': 7}. Best is trial 51 with value: 0.7172534560472633.\u001b[0m\n"
     ]
    },
    {
     "name": "stdout",
     "output_type": "stream",
     "text": [
      "[19:44:41] WARNING: C:/Users/Administrator/workspace/xgboost-win64_release_1.4.0/src/learner.cc:231: Only 1 GPUs are visible, setting `gpu_id` to 0\n",
      "[0]\tvalidation_0-rmse:7.66840\n",
      "[1000]\tvalidation_0-rmse:0.72510\n",
      "[2000]\tvalidation_0-rmse:0.72009\n",
      "[3000]\tvalidation_0-rmse:0.71837\n",
      "[4000]\tvalidation_0-rmse:0.71768\n",
      "[5000]\tvalidation_0-rmse:0.71740\n",
      "[6000]\tvalidation_0-rmse:0.71731\n",
      "[6839]\tvalidation_0-rmse:0.71732\n"
     ]
    },
    {
     "name": "stderr",
     "output_type": "stream",
     "text": [
      "\u001b[32m[I 2021-08-29 19:46:00,622]\u001b[0m Trial 61 finished with value: 0.7173019298972577 and parameters: {'learning_rate': 0.01446135784334547, 'reg_lambda': 0.0014519264938422708, 'reg_alpha': 9.71525175267873e-07, 'subsample': 0.569243018233414, 'colsample_bytree': 0.10002997268508408, 'max_depth': 5}. Best is trial 51 with value: 0.7172534560472633.\u001b[0m\n"
     ]
    },
    {
     "name": "stdout",
     "output_type": "stream",
     "text": [
      "[19:46:01] WARNING: C:/Users/Administrator/workspace/xgboost-win64_release_1.4.0/src/learner.cc:231: Only 1 GPUs are visible, setting `gpu_id` to 0\n",
      "[0]\tvalidation_0-rmse:7.66593\n",
      "[1000]\tvalidation_0-rmse:0.72323\n",
      "[2000]\tvalidation_0-rmse:0.71940\n",
      "[3000]\tvalidation_0-rmse:0.71817\n",
      "[4000]\tvalidation_0-rmse:0.71770\n",
      "[5000]\tvalidation_0-rmse:0.71754\n",
      "[5218]\tvalidation_0-rmse:0.71753\n"
     ]
    },
    {
     "name": "stderr",
     "output_type": "stream",
     "text": [
      "\u001b[32m[I 2021-08-29 19:47:04,803]\u001b[0m Trial 62 finished with value: 0.71752449111222 and parameters: {'learning_rate': 0.0147819188578991, 'reg_lambda': 0.000389569969392287, 'reg_alpha': 1.0933779820020136e-06, 'subsample': 0.6084652044739777, 'colsample_bytree': 0.13320618062314424, 'max_depth': 5}. Best is trial 51 with value: 0.7172534560472633.\u001b[0m\n"
     ]
    },
    {
     "name": "stdout",
     "output_type": "stream",
     "text": [
      "[19:47:06] WARNING: C:/Users/Administrator/workspace/xgboost-win64_release_1.4.0/src/learner.cc:231: Only 1 GPUs are visible, setting `gpu_id` to 0\n",
      "[0]\tvalidation_0-rmse:7.65516\n",
      "[1000]\tvalidation_0-rmse:0.72217\n",
      "[2000]\tvalidation_0-rmse:0.71917\n",
      "[3000]\tvalidation_0-rmse:0.71812\n",
      "[4000]\tvalidation_0-rmse:0.71773\n",
      "[4969]\tvalidation_0-rmse:0.71767\n"
     ]
    },
    {
     "name": "stderr",
     "output_type": "stream",
     "text": [
      "\u001b[32m[I 2021-08-29 19:48:09,298]\u001b[0m Trial 63 finished with value: 0.7176333698058276 and parameters: {'learning_rate': 0.016179195533957285, 'reg_lambda': 0.0018961365070606828, 'reg_alpha': 2.417186545308997e-07, 'subsample': 0.7223854393327982, 'colsample_bytree': 0.179706615743832, 'max_depth': 5}. Best is trial 51 with value: 0.7172534560472633.\u001b[0m\n"
     ]
    },
    {
     "name": "stdout",
     "output_type": "stream",
     "text": [
      "[19:48:10] WARNING: C:/Users/Administrator/workspace/xgboost-win64_release_1.4.0/src/learner.cc:231: Only 1 GPUs are visible, setting `gpu_id` to 0\n",
      "[0]\tvalidation_0-rmse:7.07367\n",
      "[1000]\tvalidation_0-rmse:0.71818\n",
      "[1661]\tvalidation_0-rmse:0.71796\n"
     ]
    },
    {
     "name": "stderr",
     "output_type": "stream",
     "text": [
      "\u001b[32m[I 2021-08-29 19:48:26,171]\u001b[0m Trial 64 finished with value: 0.7179188553623874 and parameters: {'learning_rate': 0.09170003416280113, 'reg_lambda': 2.251976579897918, 'reg_alpha': 3.44962057209383e-08, 'subsample': 0.5270881716729464, 'colsample_bytree': 0.10112442150855179, 'max_depth': 4}. Best is trial 51 with value: 0.7172534560472633.\u001b[0m\n"
     ]
    },
    {
     "name": "stdout",
     "output_type": "stream",
     "text": [
      "[19:48:27] WARNING: C:/Users/Administrator/workspace/xgboost-win64_release_1.4.0/src/learner.cc:231: Only 1 GPUs are visible, setting `gpu_id` to 0\n",
      "[0]\tvalidation_0-rmse:7.69406\n",
      "[1000]\tvalidation_0-rmse:0.72434\n",
      "[2000]\tvalidation_0-rmse:0.72067\n",
      "[3000]\tvalidation_0-rmse:0.71914\n",
      "[4000]\tvalidation_0-rmse:0.71840\n",
      "[5000]\tvalidation_0-rmse:0.71801\n",
      "[6000]\tvalidation_0-rmse:0.71782\n",
      "[6912]\tvalidation_0-rmse:0.71781\n"
     ]
    },
    {
     "name": "stderr",
     "output_type": "stream",
     "text": [
      "\u001b[32m[I 2021-08-29 19:49:52,831]\u001b[0m Trial 65 finished with value: 0.7177823397339077 and parameters: {'learning_rate': 0.011130790263035826, 'reg_lambda': 0.00013133179984957751, 'reg_alpha': 3.0343660375049198e-06, 'subsample': 0.6600112147367583, 'colsample_bytree': 0.2094714652691649, 'max_depth': 5}. Best is trial 51 with value: 0.7172534560472633.\u001b[0m\n"
     ]
    },
    {
     "name": "stdout",
     "output_type": "stream",
     "text": [
      "[19:49:54] WARNING: C:/Users/Administrator/workspace/xgboost-win64_release_1.4.0/src/learner.cc:231: Only 1 GPUs are visible, setting `gpu_id` to 0\n",
      "[0]\tvalidation_0-rmse:7.67877\n",
      "[1000]\tvalidation_0-rmse:0.72829\n",
      "[2000]\tvalidation_0-rmse:0.72281\n",
      "[3000]\tvalidation_0-rmse:0.72038\n",
      "[4000]\tvalidation_0-rmse:0.71921\n",
      "[5000]\tvalidation_0-rmse:0.71849\n",
      "[6000]\tvalidation_0-rmse:0.71805\n",
      "[6999]\tvalidation_0-rmse:0.71775\n"
     ]
    },
    {
     "name": "stderr",
     "output_type": "stream",
     "text": [
      "\u001b[32m[I 2021-08-29 19:51:20,023]\u001b[0m Trial 66 finished with value: 0.7177482244254729 and parameters: {'learning_rate': 0.013117863139563587, 'reg_lambda': 3.3512920140698614e-05, 'reg_alpha': 4.347698577521725e-05, 'subsample': 0.9965885859515652, 'colsample_bytree': 0.12463698680461312, 'max_depth': 4}. Best is trial 51 with value: 0.7172534560472633.\u001b[0m\n"
     ]
    },
    {
     "name": "stdout",
     "output_type": "stream",
     "text": [
      "[19:51:21] WARNING: C:/Users/Administrator/workspace/xgboost-win64_release_1.4.0/src/learner.cc:231: Only 1 GPUs are visible, setting `gpu_id` to 0\n",
      "[0]\tvalidation_0-rmse:7.62965\n",
      "[1000]\tvalidation_0-rmse:0.72136\n",
      "[2000]\tvalidation_0-rmse:0.71871\n",
      "[3000]\tvalidation_0-rmse:0.71796\n",
      "[3996]\tvalidation_0-rmse:0.71787\n"
     ]
    },
    {
     "name": "stderr",
     "output_type": "stream",
     "text": [
      "\u001b[32m[I 2021-08-29 19:52:08,709]\u001b[0m Trial 67 finished with value: 0.7177993428192082 and parameters: {'learning_rate': 0.01948864715684202, 'reg_lambda': 0.02878927125094201, 'reg_alpha': 1.1118090072340648e-07, 'subsample': 0.57195826952076, 'colsample_bytree': 0.1686464289278744, 'max_depth': 5}. Best is trial 51 with value: 0.7172534560472633.\u001b[0m\n"
     ]
    },
    {
     "name": "stdout",
     "output_type": "stream",
     "text": [
      "[19:52:09] WARNING: C:/Users/Administrator/workspace/xgboost-win64_release_1.4.0/src/learner.cc:231: Only 1 GPUs are visible, setting `gpu_id` to 0\n",
      "[0]\tvalidation_0-rmse:7.56719\n",
      "[1000]\tvalidation_0-rmse:0.72019\n",
      "[1541]\tvalidation_0-rmse:0.72001\n"
     ]
    },
    {
     "name": "stderr",
     "output_type": "stream",
     "text": [
      "\u001b[32m[I 2021-08-29 19:52:36,226]\u001b[0m Trial 68 finished with value: 0.7199660816970298 and parameters: {'learning_rate': 0.027594034729279425, 'reg_lambda': 0.004237854140514842, 'reg_alpha': 7.18791317094352e-07, 'subsample': 0.6191119704377218, 'colsample_bytree': 0.7375754295660657, 'max_depth': 6}. Best is trial 51 with value: 0.7172534560472633.\u001b[0m\n"
     ]
    },
    {
     "name": "stdout",
     "output_type": "stream",
     "text": [
      "[19:52:37] WARNING: C:/Users/Administrator/workspace/xgboost-win64_release_1.4.0/src/learner.cc:231: Only 1 GPUs are visible, setting `gpu_id` to 0\n",
      "[0]\tvalidation_0-rmse:7.65268\n",
      "[1000]\tvalidation_0-rmse:0.72414\n",
      "[2000]\tvalidation_0-rmse:0.72061\n",
      "[3000]\tvalidation_0-rmse:0.71899\n",
      "[4000]\tvalidation_0-rmse:0.71818\n",
      "[5000]\tvalidation_0-rmse:0.71779\n",
      "[6000]\tvalidation_0-rmse:0.71761\n",
      "[6999]\tvalidation_0-rmse:0.71747\n"
     ]
    },
    {
     "name": "stderr",
     "output_type": "stream",
     "text": [
      "\u001b[32m[I 2021-08-29 19:53:55,349]\u001b[0m Trial 69 finished with value: 0.7174617234748257 and parameters: {'learning_rate': 0.016501745546932782, 'reg_lambda': 0.09985131170150044, 'reg_alpha': 1.4479097803868213e-05, 'subsample': 0.8178034860591851, 'colsample_bytree': 0.22188422827246954, 'max_depth': 4}. Best is trial 51 with value: 0.7172534560472633.\u001b[0m\n"
     ]
    },
    {
     "name": "stdout",
     "output_type": "stream",
     "text": [
      "[19:53:56] WARNING: C:/Users/Administrator/workspace/xgboost-win64_release_1.4.0/src/learner.cc:231: Only 1 GPUs are visible, setting `gpu_id` to 0\n",
      "[0]\tvalidation_0-rmse:7.69590\n",
      "[1000]\tvalidation_0-rmse:0.72608\n",
      "[2000]\tvalidation_0-rmse:0.72040\n",
      "[3000]\tvalidation_0-rmse:0.71854\n",
      "[4000]\tvalidation_0-rmse:0.71787\n",
      "[5000]\tvalidation_0-rmse:0.71761\n",
      "[5937]\tvalidation_0-rmse:0.71758\n"
     ]
    },
    {
     "name": "stderr",
     "output_type": "stream",
     "text": [
      "\u001b[32m[I 2021-08-29 19:55:14,153]\u001b[0m Trial 70 finished with value: 0.7175523044689319 and parameters: {'learning_rate': 0.010898990846852464, 'reg_lambda': 0.0010221210215553412, 'reg_alpha': 0.00010659703254970735, 'subsample': 0.4062252493668521, 'colsample_bytree': 0.12400087745583316, 'max_depth': 6}. Best is trial 51 with value: 0.7172534560472633.\u001b[0m\n"
     ]
    },
    {
     "name": "stdout",
     "output_type": "stream",
     "text": [
      "[19:55:15] WARNING: C:/Users/Administrator/workspace/xgboost-win64_release_1.4.0/src/learner.cc:231: Only 1 GPUs are visible, setting `gpu_id` to 0\n",
      "[0]\tvalidation_0-rmse:7.66730\n",
      "[1000]\tvalidation_0-rmse:0.72506\n",
      "[2000]\tvalidation_0-rmse:0.72006\n",
      "[3000]\tvalidation_0-rmse:0.71840\n",
      "[4000]\tvalidation_0-rmse:0.71776\n",
      "[5000]\tvalidation_0-rmse:0.71754\n",
      "[6000]\tvalidation_0-rmse:0.71742\n",
      "[6355]\tvalidation_0-rmse:0.71742\n"
     ]
    },
    {
     "name": "stderr",
     "output_type": "stream",
     "text": [
      "\u001b[32m[I 2021-08-29 19:56:28,183]\u001b[0m Trial 71 finished with value: 0.7174203844579067 and parameters: {'learning_rate': 0.014606626183308264, 'reg_lambda': 0.00043141464432209814, 'reg_alpha': 7.729238871936013e-06, 'subsample': 0.5592956801961397, 'colsample_bytree': 0.10080273579439517, 'max_depth': 5}. Best is trial 51 with value: 0.7172534560472633.\u001b[0m\n"
     ]
    },
    {
     "name": "stdout",
     "output_type": "stream",
     "text": [
      "[19:56:29] WARNING: C:/Users/Administrator/workspace/xgboost-win64_release_1.4.0/src/learner.cc:231: Only 1 GPUs are visible, setting `gpu_id` to 0\n",
      "[0]\tvalidation_0-rmse:7.67228\n",
      "[1000]\tvalidation_0-rmse:0.72363\n",
      "[2000]\tvalidation_0-rmse:0.71956\n",
      "[3000]\tvalidation_0-rmse:0.71817\n",
      "[4000]\tvalidation_0-rmse:0.71767\n",
      "[5000]\tvalidation_0-rmse:0.71748\n",
      "[6000]\tvalidation_0-rmse:0.71742\n",
      "[6112]\tvalidation_0-rmse:0.71743\n"
     ]
    },
    {
     "name": "stderr",
     "output_type": "stream",
     "text": [
      "\u001b[32m[I 2021-08-29 19:57:38,659]\u001b[0m Trial 72 finished with value: 0.7174004044589165 and parameters: {'learning_rate': 0.013960871020524705, 'reg_lambda': 0.0019450550816837127, 'reg_alpha': 1.923391039440864e-06, 'subsample': 0.502290060721936, 'colsample_bytree': 0.16015802716300023, 'max_depth': 5}. Best is trial 51 with value: 0.7172534560472633.\u001b[0m\n"
     ]
    },
    {
     "name": "stdout",
     "output_type": "stream",
     "text": [
      "[19:57:39] WARNING: C:/Users/Administrator/workspace/xgboost-win64_release_1.4.0/src/learner.cc:231: Only 1 GPUs are visible, setting `gpu_id` to 0\n",
      "[0]\tvalidation_0-rmse:7.65961\n",
      "[1000]\tvalidation_0-rmse:0.72605\n",
      "[2000]\tvalidation_0-rmse:0.72045\n",
      "[3000]\tvalidation_0-rmse:0.71850\n",
      "[4000]\tvalidation_0-rmse:0.71766\n",
      "[5000]\tvalidation_0-rmse:0.71724\n",
      "[6000]\tvalidation_0-rmse:0.71699\n",
      "[6999]\tvalidation_0-rmse:0.71692\n"
     ]
    },
    {
     "name": "stderr",
     "output_type": "stream",
     "text": [
      "\u001b[32m[I 2021-08-29 19:59:01,153]\u001b[0m Trial 73 finished with value: 0.7169119261340184 and parameters: {'learning_rate': 0.015603699193600313, 'reg_lambda': 0.001158068570366239, 'reg_alpha': 16.448429406371936, 'subsample': 0.5948693703077814, 'colsample_bytree': 0.12425047105688761, 'max_depth': 5}. Best is trial 73 with value: 0.7169119261340184.\u001b[0m\n"
     ]
    },
    {
     "name": "stdout",
     "output_type": "stream",
     "text": [
      "[19:59:02] WARNING: C:/Users/Administrator/workspace/xgboost-win64_release_1.4.0/src/learner.cc:231: Only 1 GPUs are visible, setting `gpu_id` to 0\n",
      "[0]\tvalidation_0-rmse:7.68856\n",
      "[1000]\tvalidation_0-rmse:0.72420\n",
      "[2000]\tvalidation_0-rmse:0.72029\n",
      "[3000]\tvalidation_0-rmse:0.71886\n",
      "[4000]\tvalidation_0-rmse:0.71818\n",
      "[5000]\tvalidation_0-rmse:0.71789\n",
      "[6000]\tvalidation_0-rmse:0.71777\n",
      "[6183]\tvalidation_0-rmse:0.71777\n"
     ]
    },
    {
     "name": "stderr",
     "output_type": "stream",
     "text": [
      "\u001b[32m[I 2021-08-29 20:00:16,195]\u001b[0m Trial 74 finished with value: 0.7177588818135547 and parameters: {'learning_rate': 0.011843475848344831, 'reg_lambda': 0.012768757209247474, 'reg_alpha': 0.017946491044811462, 'subsample': 0.5856134258453009, 'colsample_bytree': 0.18943374014671804, 'max_depth': 5}. Best is trial 73 with value: 0.7169119261340184.\u001b[0m\n"
     ]
    },
    {
     "name": "stdout",
     "output_type": "stream",
     "text": [
      "[20:00:17] WARNING: C:/Users/Administrator/workspace/xgboost-win64_release_1.4.0/src/learner.cc:231: Only 1 GPUs are visible, setting `gpu_id` to 0\n",
      "[0]\tvalidation_0-rmse:7.65552\n",
      "[1000]\tvalidation_0-rmse:0.72968\n",
      "[2000]\tvalidation_0-rmse:0.72489\n",
      "[3000]\tvalidation_0-rmse:0.72260\n",
      "[4000]\tvalidation_0-rmse:0.72125\n",
      "[5000]\tvalidation_0-rmse:0.72038\n",
      "[6000]\tvalidation_0-rmse:0.71977\n",
      "[6999]\tvalidation_0-rmse:0.71932\n"
     ]
    },
    {
     "name": "stderr",
     "output_type": "stream",
     "text": [
      "\u001b[32m[I 2021-08-29 20:01:32,467]\u001b[0m Trial 75 finished with value: 0.7193199838800919 and parameters: {'learning_rate': 0.016135735131695, 'reg_lambda': 1.8614546524942457e-05, 'reg_alpha': 82.72308277316914, 'subsample': 0.9622383242120103, 'colsample_bytree': 0.1301141725013394, 'max_depth': 3}. Best is trial 73 with value: 0.7169119261340184.\u001b[0m\n"
     ]
    },
    {
     "name": "stdout",
     "output_type": "stream",
     "text": [
      "[20:01:33] WARNING: C:/Users/Administrator/workspace/xgboost-win64_release_1.4.0/src/learner.cc:231: Only 1 GPUs are visible, setting `gpu_id` to 0\n",
      "[0]\tvalidation_0-rmse:7.68125\n",
      "[1000]\tvalidation_0-rmse:0.72819\n",
      "[2000]\tvalidation_0-rmse:0.72284\n",
      "[3000]\tvalidation_0-rmse:0.72047\n",
      "[4000]\tvalidation_0-rmse:0.71920\n",
      "[5000]\tvalidation_0-rmse:0.71838\n",
      "[6000]\tvalidation_0-rmse:0.71786\n",
      "[6999]\tvalidation_0-rmse:0.71749\n"
     ]
    },
    {
     "name": "stderr",
     "output_type": "stream",
     "text": [
      "\u001b[32m[I 2021-08-29 20:02:49,201]\u001b[0m Trial 76 finished with value: 0.7174925247424722 and parameters: {'learning_rate': 0.012795169822003372, 'reg_lambda': 0.006885884187542302, 'reg_alpha': 24.42026514039201, 'subsample': 0.7139745867162396, 'colsample_bytree': 0.15319399785444993, 'max_depth': 4}. Best is trial 73 with value: 0.7169119261340184.\u001b[0m\n"
     ]
    },
    {
     "name": "stdout",
     "output_type": "stream",
     "text": [
      "[20:02:50] WARNING: C:/Users/Administrator/workspace/xgboost-win64_release_1.4.0/src/learner.cc:231: Only 1 GPUs are visible, setting `gpu_id` to 0\n",
      "[0]\tvalidation_0-rmse:7.60421\n",
      "[1000]\tvalidation_0-rmse:0.72098\n",
      "[2000]\tvalidation_0-rmse:0.71886\n",
      "[3000]\tvalidation_0-rmse:0.71845\n",
      "[3327]\tvalidation_0-rmse:0.71848\n"
     ]
    },
    {
     "name": "stderr",
     "output_type": "stream",
     "text": [
      "\u001b[32m[I 2021-08-29 20:03:32,188]\u001b[0m Trial 77 finished with value: 0.7184449562833319 and parameters: {'learning_rate': 0.022790978190440233, 'reg_lambda': 0.00021419146524115061, 'reg_alpha': 0.031687820032179716, 'subsample': 0.6575809910239704, 'colsample_bytree': 0.3835764799014686, 'max_depth': 5}. Best is trial 73 with value: 0.7169119261340184.\u001b[0m\n"
     ]
    },
    {
     "name": "stdout",
     "output_type": "stream",
     "text": [
      "[20:03:33] WARNING: C:/Users/Administrator/workspace/xgboost-win64_release_1.4.0/src/learner.cc:231: Only 1 GPUs are visible, setting `gpu_id` to 0\n",
      "[0]\tvalidation_0-rmse:7.70027\n",
      "[1000]\tvalidation_0-rmse:0.72838\n",
      "[2000]\tvalidation_0-rmse:0.72227\n",
      "[3000]\tvalidation_0-rmse:0.71966\n",
      "[4000]\tvalidation_0-rmse:0.71847\n",
      "[5000]\tvalidation_0-rmse:0.71783\n",
      "[6000]\tvalidation_0-rmse:0.71752\n",
      "[6999]\tvalidation_0-rmse:0.71733\n"
     ]
    },
    {
     "name": "stderr",
     "output_type": "stream",
     "text": [
      "\u001b[32m[I 2021-08-29 20:05:03,334]\u001b[0m Trial 78 finished with value: 0.71732693010107 and parameters: {'learning_rate': 0.010326234958406675, 'reg_lambda': 0.6897309413157149, 'reg_alpha': 0.4184482089854433, 'subsample': 0.751298862280853, 'colsample_bytree': 0.12187111292169985, 'max_depth': 5}. Best is trial 73 with value: 0.7169119261340184.\u001b[0m\n"
     ]
    },
    {
     "name": "stdout",
     "output_type": "stream",
     "text": [
      "[20:05:04] WARNING: C:/Users/Administrator/workspace/xgboost-win64_release_1.4.0/src/learner.cc:231: Only 1 GPUs are visible, setting `gpu_id` to 0\n",
      "[0]\tvalidation_0-rmse:7.70245\n",
      "[1000]\tvalidation_0-rmse:0.72774\n",
      "[2000]\tvalidation_0-rmse:0.72315\n",
      "[3000]\tvalidation_0-rmse:0.72091\n",
      "[4000]\tvalidation_0-rmse:0.71966\n",
      "[5000]\tvalidation_0-rmse:0.71884\n",
      "[6000]\tvalidation_0-rmse:0.71829\n",
      "[6999]\tvalidation_0-rmse:0.71790\n"
     ]
    },
    {
     "name": "stderr",
     "output_type": "stream",
     "text": [
      "\u001b[32m[I 2021-08-29 20:06:21,373]\u001b[0m Trial 79 finished with value: 0.7179017869721849 and parameters: {'learning_rate': 0.010043404798000217, 'reg_lambda': 0.5225735727758174, 'reg_alpha': 1.961075520040691, 'subsample': 0.7642512479809356, 'colsample_bytree': 0.19161500621571137, 'max_depth': 4}. Best is trial 73 with value: 0.7169119261340184.\u001b[0m\n"
     ]
    },
    {
     "name": "stdout",
     "output_type": "stream",
     "text": [
      "[20:06:22] WARNING: C:/Users/Administrator/workspace/xgboost-win64_release_1.4.0/src/learner.cc:231: Only 1 GPUs are visible, setting `gpu_id` to 0\n",
      "[0]\tvalidation_0-rmse:7.69590\n",
      "[1000]\tvalidation_0-rmse:0.73734\n",
      "[2000]\tvalidation_0-rmse:0.73456\n",
      "[3000]\tvalidation_0-rmse:0.73286\n",
      "[4000]\tvalidation_0-rmse:0.73166\n",
      "[5000]\tvalidation_0-rmse:0.73081\n",
      "[6000]\tvalidation_0-rmse:0.73016\n",
      "[6999]\tvalidation_0-rmse:0.72965\n"
     ]
    },
    {
     "name": "stderr",
     "output_type": "stream",
     "text": [
      "\u001b[32m[I 2021-08-29 20:07:14,524]\u001b[0m Trial 80 finished with value: 0.7296473549150656 and parameters: {'learning_rate': 0.010892706091466987, 'reg_lambda': 9.002878058670671e-05, 'reg_alpha': 13.483624981431879, 'subsample': 0.8934387557362117, 'colsample_bytree': 0.6142793120347932, 'max_depth': 1}. Best is trial 73 with value: 0.7169119261340184.\u001b[0m\n"
     ]
    },
    {
     "name": "stdout",
     "output_type": "stream",
     "text": [
      "[20:07:15] WARNING: C:/Users/Administrator/workspace/xgboost-win64_release_1.4.0/src/learner.cc:231: Only 1 GPUs are visible, setting `gpu_id` to 0\n",
      "[0]\tvalidation_0-rmse:7.68496\n",
      "[1000]\tvalidation_0-rmse:0.72729\n",
      "[2000]\tvalidation_0-rmse:0.72138\n",
      "[3000]\tvalidation_0-rmse:0.71911\n",
      "[4000]\tvalidation_0-rmse:0.71812\n",
      "[5000]\tvalidation_0-rmse:0.71765\n",
      "[6000]\tvalidation_0-rmse:0.71744\n",
      "[6999]\tvalidation_0-rmse:0.71729\n"
     ]
    },
    {
     "name": "stderr",
     "output_type": "stream",
     "text": [
      "\u001b[32m[I 2021-08-29 20:08:40,610]\u001b[0m Trial 81 finished with value: 0.7172838339464458 and parameters: {'learning_rate': 0.01231495027572191, 'reg_lambda': 4.701909323609139, 'reg_alpha': 0.5307636448954972, 'subsample': 0.6690207574028807, 'colsample_bytree': 0.12059486805314573, 'max_depth': 5}. Best is trial 73 with value: 0.7169119261340184.\u001b[0m\n"
     ]
    },
    {
     "name": "stdout",
     "output_type": "stream",
     "text": [
      "[20:08:41] WARNING: C:/Users/Administrator/workspace/xgboost-win64_release_1.4.0/src/learner.cc:231: Only 1 GPUs are visible, setting `gpu_id` to 0\n",
      "[0]\tvalidation_0-rmse:7.68724\n",
      "[1000]\tvalidation_0-rmse:0.72764\n",
      "[2000]\tvalidation_0-rmse:0.72154\n",
      "[3000]\tvalidation_0-rmse:0.71917\n",
      "[4000]\tvalidation_0-rmse:0.71812\n",
      "[5000]\tvalidation_0-rmse:0.71763\n",
      "[6000]\tvalidation_0-rmse:0.71740\n",
      "[6999]\tvalidation_0-rmse:0.71727\n"
     ]
    },
    {
     "name": "stderr",
     "output_type": "stream",
     "text": [
      "\u001b[32m[I 2021-08-29 20:10:07,432]\u001b[0m Trial 82 finished with value: 0.7172657109378665 and parameters: {'learning_rate': 0.012019590993925208, 'reg_lambda': 6.028064572950907, 'reg_alpha': 1.017749863019283, 'subsample': 0.6792454191147709, 'colsample_bytree': 0.11040106642902853, 'max_depth': 5}. Best is trial 73 with value: 0.7169119261340184.\u001b[0m\n"
     ]
    },
    {
     "name": "stdout",
     "output_type": "stream",
     "text": [
      "[20:10:08] WARNING: C:/Users/Administrator/workspace/xgboost-win64_release_1.4.0/src/learner.cc:231: Only 1 GPUs are visible, setting `gpu_id` to 0\n",
      "[0]\tvalidation_0-rmse:7.68782\n",
      "[1000]\tvalidation_0-rmse:0.72815\n",
      "[2000]\tvalidation_0-rmse:0.72180\n",
      "[3000]\tvalidation_0-rmse:0.71926\n",
      "[4000]\tvalidation_0-rmse:0.71814\n",
      "[5000]\tvalidation_0-rmse:0.71759\n",
      "[6000]\tvalidation_0-rmse:0.71729\n",
      "[6999]\tvalidation_0-rmse:0.71713\n"
     ]
    },
    {
     "name": "stderr",
     "output_type": "stream",
     "text": [
      "\u001b[32m[I 2021-08-29 20:11:34,478]\u001b[0m Trial 83 finished with value: 0.7171297825806958 and parameters: {'learning_rate': 0.011944273162398024, 'reg_lambda': 9.025425125105881, 'reg_alpha': 4.72164337798884, 'subsample': 0.6870918560508749, 'colsample_bytree': 0.10177242259328176, 'max_depth': 5}. Best is trial 73 with value: 0.7169119261340184.\u001b[0m\n"
     ]
    },
    {
     "name": "stdout",
     "output_type": "stream",
     "text": [
      "[20:11:35] WARNING: C:/Users/Administrator/workspace/xgboost-win64_release_1.4.0/src/learner.cc:231: Only 1 GPUs are visible, setting `gpu_id` to 0\n",
      "[0]\tvalidation_0-rmse:7.68689\n",
      "[1000]\tvalidation_0-rmse:0.72572\n",
      "[2000]\tvalidation_0-rmse:0.72058\n",
      "[3000]\tvalidation_0-rmse:0.71877\n",
      "[4000]\tvalidation_0-rmse:0.71796\n",
      "[5000]\tvalidation_0-rmse:0.71753\n",
      "[6000]\tvalidation_0-rmse:0.71733\n",
      "[6999]\tvalidation_0-rmse:0.71726\n"
     ]
    },
    {
     "name": "stderr",
     "output_type": "stream",
     "text": [
      "\u001b[32m[I 2021-08-29 20:13:01,721]\u001b[0m Trial 84 finished with value: 0.7172474333045327 and parameters: {'learning_rate': 0.012065056819637363, 'reg_lambda': 10.677707405576154, 'reg_alpha': 0.4362234970063634, 'subsample': 0.6756479736087438, 'colsample_bytree': 0.16464657272017627, 'max_depth': 5}. Best is trial 73 with value: 0.7169119261340184.\u001b[0m\n"
     ]
    },
    {
     "name": "stdout",
     "output_type": "stream",
     "text": [
      "[20:13:02] WARNING: C:/Users/Administrator/workspace/xgboost-win64_release_1.4.0/src/learner.cc:231: Only 1 GPUs are visible, setting `gpu_id` to 0\n",
      "[0]\tvalidation_0-rmse:7.68441\n",
      "[1000]\tvalidation_0-rmse:0.72465\n",
      "[2000]\tvalidation_0-rmse:0.72031\n",
      "[3000]\tvalidation_0-rmse:0.71873\n",
      "[4000]\tvalidation_0-rmse:0.71797\n",
      "[5000]\tvalidation_0-rmse:0.71760\n",
      "[6000]\tvalidation_0-rmse:0.71744\n",
      "[6999]\tvalidation_0-rmse:0.71737\n"
     ]
    },
    {
     "name": "stderr",
     "output_type": "stream",
     "text": [
      "\u001b[32m[I 2021-08-29 20:14:29,282]\u001b[0m Trial 85 finished with value: 0.7173572706832093 and parameters: {'learning_rate': 0.012385108116403304, 'reg_lambda': 9.08733672114924, 'reg_alpha': 0.3460579602262549, 'subsample': 0.6897193719089343, 'colsample_bytree': 0.17379124108533778, 'max_depth': 5}. Best is trial 73 with value: 0.7169119261340184.\u001b[0m\n"
     ]
    },
    {
     "name": "stdout",
     "output_type": "stream",
     "text": [
      "[20:14:30] WARNING: C:/Users/Administrator/workspace/xgboost-win64_release_1.4.0/src/learner.cc:231: Only 1 GPUs are visible, setting `gpu_id` to 0\n",
      "[0]\tvalidation_0-rmse:7.68724\n",
      "[1000]\tvalidation_0-rmse:0.72374\n",
      "[2000]\tvalidation_0-rmse:0.72011\n",
      "[3000]\tvalidation_0-rmse:0.71888\n",
      "[4000]\tvalidation_0-rmse:0.71840\n",
      "[4581]\tvalidation_0-rmse:0.71840\n"
     ]
    },
    {
     "name": "stderr",
     "output_type": "stream",
     "text": [
      "\u001b[32m[I 2021-08-29 20:15:48,185]\u001b[0m Trial 86 finished with value: 0.718367483747476 and parameters: {'learning_rate': 0.012018577979824587, 'reg_lambda': 18.60866214374476, 'reg_alpha': 0.5651102516351315, 'subsample': 0.7451388851262475, 'colsample_bytree': 0.47681245003905026, 'max_depth': 6}. Best is trial 73 with value: 0.7169119261340184.\u001b[0m\n"
     ]
    },
    {
     "name": "stdout",
     "output_type": "stream",
     "text": [
      "[20:15:49] WARNING: C:/Users/Administrator/workspace/xgboost-win64_release_1.4.0/src/learner.cc:231: Only 1 GPUs are visible, setting `gpu_id` to 0\n",
      "[0]\tvalidation_0-rmse:7.69434\n",
      "[1000]\tvalidation_0-rmse:0.72530\n",
      "[2000]\tvalidation_0-rmse:0.71991\n",
      "[3000]\tvalidation_0-rmse:0.71824\n",
      "[4000]\tvalidation_0-rmse:0.71752\n",
      "[5000]\tvalidation_0-rmse:0.71721\n",
      "[6000]\tvalidation_0-rmse:0.71713\n",
      "[6112]\tvalidation_0-rmse:0.71712\n"
     ]
    },
    {
     "name": "stderr",
     "output_type": "stream",
     "text": [
      "\u001b[32m[I 2021-08-29 20:17:23,199]\u001b[0m Trial 87 finished with value: 0.7171213715266329 and parameters: {'learning_rate': 0.011097847237500461, 'reg_lambda': 3.6209912031848246, 'reg_alpha': 8.090105684834962, 'subsample': 0.67154712106621, 'colsample_bytree': 0.15530766584006014, 'max_depth': 6}. Best is trial 73 with value: 0.7169119261340184.\u001b[0m\n"
     ]
    },
    {
     "name": "stdout",
     "output_type": "stream",
     "text": [
      "[20:17:24] WARNING: C:/Users/Administrator/workspace/xgboost-win64_release_1.4.0/src/learner.cc:231: Only 1 GPUs are visible, setting `gpu_id` to 0\n",
      "[0]\tvalidation_0-rmse:7.69768\n",
      "[1000]\tvalidation_0-rmse:0.72312\n",
      "[2000]\tvalidation_0-rmse:0.71933\n",
      "[3000]\tvalidation_0-rmse:0.71818\n",
      "[4000]\tvalidation_0-rmse:0.71779\n",
      "[4404]\tvalidation_0-rmse:0.71777\n"
     ]
    },
    {
     "name": "stderr",
     "output_type": "stream",
     "text": [
      "\u001b[32m[I 2021-08-29 20:18:55,730]\u001b[0m Trial 88 finished with value: 0.7177640731948702 and parameters: {'learning_rate': 0.010663493837042579, 'reg_lambda': 6.117992406025591, 'reg_alpha': 6.542613145026202, 'subsample': 0.7094287583303602, 'colsample_bytree': 0.24071189623498546, 'max_depth': 7}. Best is trial 73 with value: 0.7169119261340184.\u001b[0m\n"
     ]
    },
    {
     "name": "stdout",
     "output_type": "stream",
     "text": [
      "[20:18:56] WARNING: C:/Users/Administrator/workspace/xgboost-win64_release_1.4.0/src/learner.cc:231: Only 1 GPUs are visible, setting `gpu_id` to 0\n",
      "[0]\tvalidation_0-rmse:7.66241\n",
      "[1000]\tvalidation_0-rmse:0.72150\n",
      "[2000]\tvalidation_0-rmse:0.71861\n",
      "[3000]\tvalidation_0-rmse:0.71787\n",
      "[4000]\tvalidation_0-rmse:0.71782\n",
      "[4073]\tvalidation_0-rmse:0.71781\n"
     ]
    },
    {
     "name": "stderr",
     "output_type": "stream",
     "text": [
      "\u001b[32m[I 2021-08-29 20:20:00,863]\u001b[0m Trial 89 finished with value: 0.7177674608213843 and parameters: {'learning_rate': 0.015240558045472452, 'reg_lambda': 3.2218493022015884, 'reg_alpha': 0.7030570653751274, 'subsample': 0.6816808936651573, 'colsample_bytree': 0.20775310704605576, 'max_depth': 6}. Best is trial 73 with value: 0.7169119261340184.\u001b[0m\n"
     ]
    },
    {
     "name": "stdout",
     "output_type": "stream",
     "text": [
      "[20:20:02] WARNING: C:/Users/Administrator/workspace/xgboost-win64_release_1.4.0/src/learner.cc:231: Only 1 GPUs are visible, setting `gpu_id` to 0\n",
      "[0]\tvalidation_0-rmse:7.67490\n",
      "[1000]\tvalidation_0-rmse:0.72348\n",
      "[2000]\tvalidation_0-rmse:0.71891\n",
      "[3000]\tvalidation_0-rmse:0.71769\n",
      "[4000]\tvalidation_0-rmse:0.71730\n",
      "[5000]\tvalidation_0-rmse:0.71722\n",
      "[5070]\tvalidation_0-rmse:0.71721\n"
     ]
    },
    {
     "name": "stderr",
     "output_type": "stream",
     "text": [
      "\u001b[32m[I 2021-08-29 20:21:22,952]\u001b[0m Trial 90 finished with value: 0.7172009521743992 and parameters: {'learning_rate': 0.013622307708593302, 'reg_lambda': 30.544865822597117, 'reg_alpha': 2.933479031179102, 'subsample': 0.7540790447907044, 'colsample_bytree': 0.14963134855210028, 'max_depth': 6}. Best is trial 73 with value: 0.7169119261340184.\u001b[0m\n"
     ]
    },
    {
     "name": "stdout",
     "output_type": "stream",
     "text": [
      "[20:21:24] WARNING: C:/Users/Administrator/workspace/xgboost-win64_release_1.4.0/src/learner.cc:231: Only 1 GPUs are visible, setting `gpu_id` to 0\n",
      "[0]\tvalidation_0-rmse:7.67391\n",
      "[1000]\tvalidation_0-rmse:0.72335\n",
      "[2000]\tvalidation_0-rmse:0.71889\n",
      "[3000]\tvalidation_0-rmse:0.71768\n",
      "[4000]\tvalidation_0-rmse:0.71731\n",
      "[4804]\tvalidation_0-rmse:0.71724\n"
     ]
    },
    {
     "name": "stderr",
     "output_type": "stream",
     "text": [
      "\u001b[32m[I 2021-08-29 20:22:43,128]\u001b[0m Trial 91 finished with value: 0.7172203757892235 and parameters: {'learning_rate': 0.013750916356538155, 'reg_lambda': 26.726401586008343, 'reg_alpha': 2.2199272905493883, 'subsample': 0.8287711039534882, 'colsample_bytree': 0.15107391243252727, 'max_depth': 6}. Best is trial 73 with value: 0.7169119261340184.\u001b[0m\n"
     ]
    },
    {
     "name": "stdout",
     "output_type": "stream",
     "text": [
      "[20:22:44] WARNING: C:/Users/Administrator/workspace/xgboost-win64_release_1.4.0/src/learner.cc:231: Only 1 GPUs are visible, setting `gpu_id` to 0\n",
      "[0]\tvalidation_0-rmse:7.67351\n",
      "[1000]\tvalidation_0-rmse:0.72336\n",
      "[2000]\tvalidation_0-rmse:0.71890\n",
      "[3000]\tvalidation_0-rmse:0.71772\n",
      "[4000]\tvalidation_0-rmse:0.71740\n",
      "[4915]\tvalidation_0-rmse:0.71733\n"
     ]
    },
    {
     "name": "stderr",
     "output_type": "stream",
     "text": [
      "\u001b[32m[I 2021-08-29 20:24:04,674]\u001b[0m Trial 92 finished with value: 0.717321278217554 and parameters: {'learning_rate': 0.013803005714168527, 'reg_lambda': 33.66165565562012, 'reg_alpha': 0.19547809348067785, 'subsample': 0.8266732637143269, 'colsample_bytree': 0.15609574175103735, 'max_depth': 6}. Best is trial 73 with value: 0.7169119261340184.\u001b[0m\n"
     ]
    },
    {
     "name": "stdout",
     "output_type": "stream",
     "text": [
      "[20:24:05] WARNING: C:/Users/Administrator/workspace/xgboost-win64_release_1.4.0/src/learner.cc:231: Only 1 GPUs are visible, setting `gpu_id` to 0\n",
      "[0]\tvalidation_0-rmse:7.64473\n",
      "[1000]\tvalidation_0-rmse:0.72024\n",
      "[2000]\tvalidation_0-rmse:0.71764\n",
      "[3000]\tvalidation_0-rmse:0.71744\n",
      "[3074]\tvalidation_0-rmse:0.71746\n"
     ]
    },
    {
     "name": "stderr",
     "output_type": "stream",
     "text": [
      "\u001b[32m[I 2021-08-29 20:25:07,674]\u001b[0m Trial 93 finished with value: 0.7174161751834476 and parameters: {'learning_rate': 0.017537572174286236, 'reg_lambda': 14.307369260943307, 'reg_alpha': 1.9505371595514653, 'subsample': 0.7293454332560936, 'colsample_bytree': 0.1468372501476414, 'max_depth': 7}. Best is trial 73 with value: 0.7169119261340184.\u001b[0m\n"
     ]
    },
    {
     "name": "stdout",
     "output_type": "stream",
     "text": [
      "[20:25:08] WARNING: C:/Users/Administrator/workspace/xgboost-win64_release_1.4.0/src/learner.cc:231: Only 1 GPUs are visible, setting `gpu_id` to 0\n",
      "[0]\tvalidation_0-rmse:7.66364\n",
      "[1000]\tvalidation_0-rmse:0.72230\n",
      "[2000]\tvalidation_0-rmse:0.71903\n",
      "[3000]\tvalidation_0-rmse:0.71791\n",
      "[4000]\tvalidation_0-rmse:0.71762\n",
      "[4490]\tvalidation_0-rmse:0.71761\n"
     ]
    },
    {
     "name": "stderr",
     "output_type": "stream",
     "text": [
      "\u001b[32m[I 2021-08-29 20:26:22,729]\u001b[0m Trial 94 finished with value: 0.7175993353733289 and parameters: {'learning_rate': 0.015084349679212981, 'reg_lambda': 46.694093010873374, 'reg_alpha': 6.694554230731417, 'subsample': 0.7761258458037585, 'colsample_bytree': 0.27684526457275943, 'max_depth': 6}. Best is trial 73 with value: 0.7169119261340184.\u001b[0m\n"
     ]
    },
    {
     "name": "stdout",
     "output_type": "stream",
     "text": [
      "[20:26:24] WARNING: C:/Users/Administrator/workspace/xgboost-win64_release_1.4.0/src/learner.cc:231: Only 1 GPUs are visible, setting `gpu_id` to 0\n",
      "[0]\tvalidation_0-rmse:7.67799\n",
      "[1000]\tvalidation_0-rmse:0.72299\n",
      "[2000]\tvalidation_0-rmse:0.71914\n",
      "[3000]\tvalidation_0-rmse:0.71800\n",
      "[4000]\tvalidation_0-rmse:0.71760\n",
      "[4968]\tvalidation_0-rmse:0.71749\n"
     ]
    },
    {
     "name": "stderr",
     "output_type": "stream",
     "text": [
      "\u001b[32m[I 2021-08-29 20:27:39,240]\u001b[0m Trial 95 finished with value: 0.7174765769967973 and parameters: {'learning_rate': 0.013220376725518986, 'reg_lambda': 24.88048343039494, 'reg_alpha': 1.188074614778993, 'subsample': 0.6240297373144361, 'colsample_bytree': 0.17508512895100664, 'max_depth': 6}. Best is trial 73 with value: 0.7169119261340184.\u001b[0m\n"
     ]
    },
    {
     "name": "stdout",
     "output_type": "stream",
     "text": [
      "[20:27:40] WARNING: C:/Users/Administrator/workspace/xgboost-win64_release_1.4.0/src/learner.cc:231: Only 1 GPUs are visible, setting `gpu_id` to 0\n",
      "[0]\tvalidation_0-rmse:7.68930\n",
      "[1000]\tvalidation_0-rmse:0.72541\n",
      "[2000]\tvalidation_0-rmse:0.72072\n",
      "[3000]\tvalidation_0-rmse:0.71901\n",
      "[4000]\tvalidation_0-rmse:0.71820\n",
      "[5000]\tvalidation_0-rmse:0.71778\n",
      "[6000]\tvalidation_0-rmse:0.71761\n",
      "[6999]\tvalidation_0-rmse:0.71756\n"
     ]
    },
    {
     "name": "stderr",
     "output_type": "stream",
     "text": [
      "\u001b[32m[I 2021-08-29 20:29:37,921]\u001b[0m Trial 96 finished with value: 0.7175550911835378 and parameters: {'learning_rate': 0.011756224996412792, 'reg_lambda': 85.32752450480415, 'reg_alpha': 35.40105428115664, 'subsample': 0.8354913668665455, 'colsample_bytree': 0.22238696802867736, 'max_depth': 6}. Best is trial 73 with value: 0.7169119261340184.\u001b[0m\n"
     ]
    },
    {
     "name": "stdout",
     "output_type": "stream",
     "text": [
      "[20:29:39] WARNING: C:/Users/Administrator/workspace/xgboost-win64_release_1.4.0/src/learner.cc:231: Only 1 GPUs are visible, setting `gpu_id` to 0\n",
      "[0]\tvalidation_0-rmse:7.63598\n",
      "[1000]\tvalidation_0-rmse:0.72086\n",
      "[2000]\tvalidation_0-rmse:0.71802\n",
      "[3000]\tvalidation_0-rmse:0.71744\n",
      "[4000]\tvalidation_0-rmse:0.71742\n",
      "[4040]\tvalidation_0-rmse:0.71742\n"
     ]
    },
    {
     "name": "stderr",
     "output_type": "stream",
     "text": [
      "\u001b[32m[I 2021-08-29 20:30:40,155]\u001b[0m Trial 97 finished with value: 0.7173690207110963 and parameters: {'learning_rate': 0.018673727237094442, 'reg_lambda': 5.33214670254417, 'reg_alpha': 3.692281276550072, 'subsample': 0.646854725143019, 'colsample_bytree': 0.14328177227517755, 'max_depth': 6}. Best is trial 73 with value: 0.7169119261340184.\u001b[0m\n"
     ]
    },
    {
     "name": "stdout",
     "output_type": "stream",
     "text": [
      "[20:30:41] WARNING: C:/Users/Administrator/workspace/xgboost-win64_release_1.4.0/src/learner.cc:231: Only 1 GPUs are visible, setting `gpu_id` to 0\n",
      "[0]\tvalidation_0-rmse:7.69334\n",
      "[1000]\tvalidation_0-rmse:0.72787\n",
      "[2000]\tvalidation_0-rmse:0.72107\n",
      "[3000]\tvalidation_0-rmse:0.71868\n",
      "[4000]\tvalidation_0-rmse:0.71778\n",
      "[5000]\tvalidation_0-rmse:0.71737\n",
      "[6000]\tvalidation_0-rmse:0.71719\n",
      "[6999]\tvalidation_0-rmse:0.71712\n"
     ]
    },
    {
     "name": "stderr",
     "output_type": "stream",
     "text": [
      "\u001b[32m[I 2021-08-29 20:32:28,964]\u001b[0m Trial 98 finished with value: 0.7171147064675906 and parameters: {'learning_rate': 0.011228487579705387, 'reg_lambda': 12.360183215832858, 'reg_alpha': 10.554912050577249, 'subsample': 0.7964916478773698, 'colsample_bytree': 0.11772466556467015, 'max_depth': 6}. Best is trial 73 with value: 0.7169119261340184.\u001b[0m\n"
     ]
    },
    {
     "name": "stdout",
     "output_type": "stream",
     "text": [
      "[20:32:30] WARNING: C:/Users/Administrator/workspace/xgboost-win64_release_1.4.0/src/learner.cc:231: Only 1 GPUs are visible, setting `gpu_id` to 0\n",
      "[0]\tvalidation_0-rmse:7.69265\n",
      "[1000]\tvalidation_0-rmse:0.72453\n",
      "[2000]\tvalidation_0-rmse:0.71982\n",
      "[3000]\tvalidation_0-rmse:0.71831\n",
      "[4000]\tvalidation_0-rmse:0.71762\n",
      "[5000]\tvalidation_0-rmse:0.71730\n",
      "[6000]\tvalidation_0-rmse:0.71721\n",
      "[6141]\tvalidation_0-rmse:0.71723\n"
     ]
    },
    {
     "name": "stderr",
     "output_type": "stream",
     "text": [
      "\u001b[32m[I 2021-08-29 20:34:11,483]\u001b[0m Trial 99 finished with value: 0.7172095737207993 and parameters: {'learning_rate': 0.011317078535432935, 'reg_lambda': 10.046690254077859, 'reg_alpha': 11.950519329184143, 'subsample': 0.8080841261613334, 'colsample_bytree': 0.19953454892298766, 'max_depth': 6}. Best is trial 73 with value: 0.7169119261340184.\u001b[0m\n"
     ]
    }
   ],
   "source": [
    "# Model 2\n",
    "df = pd.read_csv(\"data/train_folds.csv\")\n",
    "df_test = pd.read_csv(\"data/test.csv\")\n",
    "sample_submission = pd.read_csv(\"data/sample_submission.csv\")\n",
    "\n",
    "useful_features = [c for c in df.columns if c not in (\"id\", \"target\", \"kfold\")]\n",
    "object_cols = [col for col in useful_features if 'cat' in col]\n",
    "df_test = df_test[useful_features]\n",
    "\n",
    "study = optuna.create_study(direction=\"minimize\")\n",
    "study.optimize(run, n_trials=100) #100"
   ]
  },
  {
   "cell_type": "code",
   "execution_count": 8,
   "metadata": {},
   "outputs": [
    {
     "data": {
      "text/plain": [
       "{'learning_rate': 0.015603699193600313,\n",
       " 'reg_lambda': 0.001158068570366239,\n",
       " 'reg_alpha': 16.448429406371936,\n",
       " 'subsample': 0.5948693703077814,\n",
       " 'colsample_bytree': 0.12425047105688761,\n",
       " 'max_depth': 5}"
      ]
     },
     "execution_count": 8,
     "metadata": {},
     "output_type": "execute_result"
    }
   ],
   "source": [
    "study.best_params"
   ]
  },
  {
   "cell_type": "markdown",
   "metadata": {},
   "source": [
    "# Model 3 Test"
   ]
  },
  {
   "cell_type": "code",
   "execution_count": 8,
   "metadata": {},
   "outputs": [],
   "source": [
    "df = pd.read_csv(\"data/train_folds.csv\")\n",
    "df_test = pd.read_csv(\"data/test.csv\")\n",
    "sample_submission = pd.read_csv(\"data/sample_submission.csv\")\n",
    "\n",
    "df1 = pd.read_csv(\"train_pred_1.csv\")\n",
    "df1.columns = [\"id\", \"pred_1\"]\n",
    "df2 = pd.read_csv(\"train_pred_2.csv\")\n",
    "df2.columns = [\"id\", \"pred_2\"]\n",
    "df3 = pd.read_csv(\"train_pred_3.csv\")\n",
    "\n",
    "\n",
    "df_test1 = pd.read_csv(\"test_pred_1.csv\")\n",
    "df_test1.columns = [\"id\", \"pred_1\"]\n",
    "df_test2 = pd.read_csv(\"test_pred_2.csv\")\n",
    "df_test2.columns = [\"id\", \"pred_2\"]\n",
    "df_test3 = pd.read_csv(\"test_pred_3.csv\")\n",
    "\n",
    "\n",
    "df = df.merge(df1, on=\"id\", how=\"left\")\n",
    "df = df.merge(df2, on=\"id\", how=\"left\")\n",
    "\n",
    "\n",
    "df_test = df_test.merge(df_test1, on=\"id\", how=\"left\")\n",
    "df_test = df_test.merge(df_test2, on=\"id\", how=\"left\")\n"
   ]
  },
  {
   "cell_type": "code",
   "execution_count": 9,
   "metadata": {},
   "outputs": [],
   "source": [
    "def run(trial):\n",
    "    fold = 0\n",
    "    learning_rate = trial.suggest_float(\"learning_rate\", 1e-2, 0.25, log=True)\n",
    "    reg_lambda = trial.suggest_loguniform(\"reg_lambda\", 1e-8, 100.0)\n",
    "    reg_alpha = trial.suggest_loguniform(\"reg_alpha\", 1e-8, 100.0)\n",
    "    subsample = trial.suggest_float(\"subsample\", 0.1, 1.0)\n",
    "    colsample_bytree = trial.suggest_float(\"colsample_bytree\", 0.1, 1.0)\n",
    "    max_depth = trial.suggest_int(\"max_depth\", 1, 7)\n",
    "\n",
    "    xtrain = df[df.kfold != fold].reset_index(drop=True)\n",
    "    xvalid = df[df.kfold == fold].reset_index(drop=True)\n",
    "\n",
    "    ytrain = xtrain.target\n",
    "    yvalid = xvalid.target\n",
    "\n",
    "    xtrain = xtrain[useful_features]\n",
    "    xvalid = xvalid[useful_features]\n",
    "\n",
    "    model = XGBRegressor(\n",
    "        random_state=42,\n",
    "        tree_method='gpu_hist',\n",
    "        gpu_id=1,\n",
    "        predictor=\"gpu_predictor\",\n",
    "        n_estimators=7000,\n",
    "        learning_rate=learning_rate,\n",
    "        reg_lambda=reg_lambda,\n",
    "        reg_alpha=reg_alpha,\n",
    "        subsample=subsample,\n",
    "        colsample_bytree=colsample_bytree,\n",
    "        max_depth=max_depth,\n",
    "    )\n",
    "    model.fit(xtrain, ytrain, early_stopping_rounds=300, eval_set=[(xvalid, yvalid)], verbose=1000)\n",
    "    preds_valid = model.predict(xvalid)\n",
    "    rmse = mean_squared_error(yvalid, preds_valid, squared=False)\n",
    "    return rmse"
   ]
  },
  {
   "cell_type": "code",
   "execution_count": null,
   "metadata": {},
   "outputs": [
    {
     "name": "stderr",
     "output_type": "stream",
     "text": [
      "\u001b[32m[I 2021-08-30 17:48:11,161]\u001b[0m A new study created in memory with name: no-name-b1b60ac7-14c1-4d81-bd2d-ba36c4d25517\u001b[0m\n"
     ]
    },
    {
     "name": "stdout",
     "output_type": "stream",
     "text": [
      "[17:48:11] WARNING: C:/Users/Administrator/workspace/xgboost-win64_release_1.4.0/src/learner.cc:231: Only 1 GPUs are visible, setting `gpu_id` to 0\n",
      "[0]\tvalidation_0-rmse:7.25550\n",
      "[426]\tvalidation_0-rmse:0.71720\n"
     ]
    },
    {
     "name": "stderr",
     "output_type": "stream",
     "text": [
      "\u001b[32m[I 2021-08-30 17:48:12,770]\u001b[0m Trial 0 finished with value: 0.7171320126150608 and parameters: {'learning_rate': 0.06814068146333314, 'reg_lambda': 57.05917533101725, 'reg_alpha': 1.6945206004814216e-07, 'subsample': 0.40290355172397874, 'colsample_bytree': 0.552718577129548, 'max_depth': 3}. Best is trial 0 with value: 0.7171320126150608.\u001b[0m\n"
     ]
    },
    {
     "name": "stdout",
     "output_type": "stream",
     "text": [
      "[17:48:12] WARNING: C:/Users/Administrator/workspace/xgboost-win64_release_1.4.0/src/learner.cc:231: Only 1 GPUs are visible, setting `gpu_id` to 0\n",
      "[0]\tvalidation_0-rmse:7.53873\n",
      "[718]\tvalidation_0-rmse:0.71716\n"
     ]
    },
    {
     "name": "stderr",
     "output_type": "stream",
     "text": [
      "\u001b[32m[I 2021-08-30 17:48:14,971]\u001b[0m Trial 1 finished with value: 0.7171374210694197 and parameters: {'learning_rate': 0.031274082647908076, 'reg_lambda': 3.099278734687273e-08, 'reg_alpha': 1.4729489977175496, 'subsample': 0.6361136543980302, 'colsample_bytree': 0.45979571179862166, 'max_depth': 2}. Best is trial 0 with value: 0.7171320126150608.\u001b[0m\n"
     ]
    },
    {
     "name": "stdout",
     "output_type": "stream",
     "text": [
      "[17:48:15] WARNING: C:/Users/Administrator/workspace/xgboost-win64_release_1.4.0/src/learner.cc:231: Only 1 GPUs are visible, setting `gpu_id` to 0\n",
      "[0]\tvalidation_0-rmse:7.69235\n",
      "[1000]\tvalidation_0-rmse:0.71720\n",
      "[1104]\tvalidation_0-rmse:0.71722\n"
     ]
    },
    {
     "name": "stderr",
     "output_type": "stream",
     "text": [
      "\u001b[32m[I 2021-08-30 17:48:19,480]\u001b[0m Trial 2 finished with value: 0.7171620001819085 and parameters: {'learning_rate': 0.011348621543651969, 'reg_lambda': 1.2529092650663694e-06, 'reg_alpha': 1.8620032043173543e-05, 'subsample': 0.19555994797683934, 'colsample_bytree': 0.137312836989336, 'max_depth': 4}. Best is trial 0 with value: 0.7171320126150608.\u001b[0m\n"
     ]
    },
    {
     "name": "stdout",
     "output_type": "stream",
     "text": [
      "[17:48:19] WARNING: C:/Users/Administrator/workspace/xgboost-win64_release_1.4.0/src/learner.cc:231: Only 1 GPUs are visible, setting `gpu_id` to 0\n",
      "[0]\tvalidation_0-rmse:7.43507\n",
      "[516]\tvalidation_0-rmse:0.71724\n"
     ]
    },
    {
     "name": "stderr",
     "output_type": "stream",
     "text": [
      "\u001b[32m[I 2021-08-30 17:48:21,616]\u001b[0m Trial 3 finished with value: 0.7171402506488083 and parameters: {'learning_rate': 0.044771870981374876, 'reg_lambda': 73.95350503526369, 'reg_alpha': 0.002641207941017521, 'subsample': 0.5803987751415426, 'colsample_bytree': 0.5983637909666246, 'max_depth': 4}. Best is trial 0 with value: 0.7171320126150608.\u001b[0m\n"
     ]
    },
    {
     "name": "stdout",
     "output_type": "stream",
     "text": [
      "[17:48:21] WARNING: C:/Users/Administrator/workspace/xgboost-win64_release_1.4.0/src/learner.cc:231: Only 1 GPUs are visible, setting `gpu_id` to 0\n",
      "[0]\tvalidation_0-rmse:7.64108\n",
      "[1000]\tvalidation_0-rmse:0.71715\n",
      "[1894]\tvalidation_0-rmse:0.71715\n"
     ]
    },
    {
     "name": "stderr",
     "output_type": "stream",
     "text": [
      "\u001b[32m[I 2021-08-30 17:48:26,492]\u001b[0m Trial 4 finished with value: 0.7171443786864564 and parameters: {'learning_rate': 0.018007554158219464, 'reg_lambda': 2.4373195490868717e-06, 'reg_alpha': 35.77317788126556, 'subsample': 0.4191422853473963, 'colsample_bytree': 0.9195718394013906, 'max_depth': 1}. Best is trial 0 with value: 0.7171320126150608.\u001b[0m\n"
     ]
    },
    {
     "name": "stdout",
     "output_type": "stream",
     "text": [
      "[17:48:26] WARNING: C:/Users/Administrator/workspace/xgboost-win64_release_1.4.0/src/learner.cc:231: Only 1 GPUs are visible, setting `gpu_id` to 0\n",
      "[0]\tvalidation_0-rmse:7.68089\n",
      "[983]\tvalidation_0-rmse:0.71717\n"
     ]
    },
    {
     "name": "stderr",
     "output_type": "stream",
     "text": [
      "\u001b[32m[I 2021-08-30 17:48:30,599]\u001b[0m Trial 5 finished with value: 0.7171510367543728 and parameters: {'learning_rate': 0.012837026824463426, 'reg_lambda': 4.1621138976893874e-07, 'reg_alpha': 0.07416760414995394, 'subsample': 0.41358914055816987, 'colsample_bytree': 0.4984157217605498, 'max_depth': 4}. Best is trial 0 with value: 0.7171320126150608.\u001b[0m\n"
     ]
    },
    {
     "name": "stdout",
     "output_type": "stream",
     "text": [
      "[17:48:30] WARNING: C:/Users/Administrator/workspace/xgboost-win64_release_1.4.0/src/learner.cc:231: Only 1 GPUs are visible, setting `gpu_id` to 0\n",
      "[0]\tvalidation_0-rmse:7.68354\n",
      "[1000]\tvalidation_0-rmse:0.71714\n",
      "[1071]\tvalidation_0-rmse:0.71714\n"
     ]
    },
    {
     "name": "stderr",
     "output_type": "stream",
     "text": [
      "\u001b[32m[I 2021-08-30 17:48:34,244]\u001b[0m Trial 6 finished with value: 0.717125405308572 and parameters: {'learning_rate': 0.01249067275856552, 'reg_lambda': 4.5849381569829824e-06, 'reg_alpha': 0.12167317725116732, 'subsample': 0.42630636739404826, 'colsample_bytree': 0.38778230079993103, 'max_depth': 3}. Best is trial 6 with value: 0.717125405308572.\u001b[0m\n"
     ]
    },
    {
     "name": "stdout",
     "output_type": "stream",
     "text": [
      "[17:48:34] WARNING: C:/Users/Administrator/workspace/xgboost-win64_release_1.4.0/src/learner.cc:231: Only 1 GPUs are visible, setting `gpu_id` to 0\n",
      "[0]\tvalidation_0-rmse:6.01770\n",
      "[361]\tvalidation_0-rmse:0.71728\n"
     ]
    },
    {
     "name": "stderr",
     "output_type": "stream",
     "text": [
      "\u001b[32m[I 2021-08-30 17:48:35,456]\u001b[0m Trial 7 finished with value: 0.717174112772331 and parameters: {'learning_rate': 0.22881179750099992, 'reg_lambda': 0.4977903424612445, 'reg_alpha': 1.6891115557704134e-08, 'subsample': 0.7530019932183415, 'colsample_bytree': 0.7236888815925371, 'max_depth': 2}. Best is trial 6 with value: 0.717125405308572.\u001b[0m\n"
     ]
    },
    {
     "name": "stdout",
     "output_type": "stream",
     "text": [
      "[17:48:35] WARNING: C:/Users/Administrator/workspace/xgboost-win64_release_1.4.0/src/learner.cc:231: Only 1 GPUs are visible, setting `gpu_id` to 0\n",
      "[0]\tvalidation_0-rmse:7.68700\n",
      "[1000]\tvalidation_0-rmse:0.71713\n",
      "[1873]\tvalidation_0-rmse:0.71714\n"
     ]
    },
    {
     "name": "stderr",
     "output_type": "stream",
     "text": [
      "\u001b[32m[I 2021-08-30 17:48:41,081]\u001b[0m Trial 8 finished with value: 0.7171284880750667 and parameters: {'learning_rate': 0.012046643750579969, 'reg_lambda': 6.334548498692227e-07, 'reg_alpha': 20.71921570297304, 'subsample': 0.1815061537274099, 'colsample_bytree': 0.5896779041650562, 'max_depth': 2}. Best is trial 6 with value: 0.717125405308572.\u001b[0m\n"
     ]
    },
    {
     "name": "stdout",
     "output_type": "stream",
     "text": [
      "[17:48:41] WARNING: C:/Users/Administrator/workspace/xgboost-win64_release_1.4.0/src/learner.cc:231: Only 1 GPUs are visible, setting `gpu_id` to 0\n",
      "[0]\tvalidation_0-rmse:7.63918\n",
      "[957]\tvalidation_0-rmse:0.71717\n"
     ]
    },
    {
     "name": "stderr",
     "output_type": "stream",
     "text": [
      "\u001b[32m[I 2021-08-30 17:48:44,052]\u001b[0m Trial 9 finished with value: 0.7171675168353708 and parameters: {'learning_rate': 0.018242757042604935, 'reg_lambda': 1.757127101020931e-05, 'reg_alpha': 1.3328863078600717e-06, 'subsample': 0.980805212825368, 'colsample_bytree': 0.8523977870440373, 'max_depth': 2}. Best is trial 6 with value: 0.717125405308572.\u001b[0m\n"
     ]
    },
    {
     "name": "stdout",
     "output_type": "stream",
     "text": [
      "[17:48:44] WARNING: C:/Users/Administrator/workspace/xgboost-win64_release_1.4.0/src/learner.cc:231: Only 1 GPUs are visible, setting `gpu_id` to 0\n",
      "[0]\tvalidation_0-rmse:6.93590\n",
      "[362]\tvalidation_0-rmse:0.71760\n"
     ]
    },
    {
     "name": "stderr",
     "output_type": "stream",
     "text": [
      "\u001b[32m[I 2021-08-30 17:48:47,854]\u001b[0m Trial 10 finished with value: 0.7173790641896943 and parameters: {'learning_rate': 0.10950504257885747, 'reg_lambda': 0.0012918946993040554, 'reg_alpha': 0.0008095295616121778, 'subsample': 0.8259201949147539, 'colsample_bytree': 0.24095449000626235, 'max_depth': 7}. Best is trial 6 with value: 0.717125405308572.\u001b[0m\n"
     ]
    },
    {
     "name": "stdout",
     "output_type": "stream",
     "text": [
      "[17:48:48] WARNING: C:/Users/Administrator/workspace/xgboost-win64_release_1.4.0/src/learner.cc:231: Only 1 GPUs are visible, setting `gpu_id` to 0\n",
      "[0]\tvalidation_0-rmse:7.58690\n",
      "[1000]\tvalidation_0-rmse:0.71721\n",
      "[2000]\tvalidation_0-rmse:0.71720\n",
      "[2940]\tvalidation_0-rmse:0.71719\n"
     ]
    },
    {
     "name": "stderr",
     "output_type": "stream",
     "text": [
      "\u001b[32m[I 2021-08-30 17:48:58,117]\u001b[0m Trial 11 finished with value: 0.7171764946211672 and parameters: {'learning_rate': 0.025044990302813836, 'reg_lambda': 0.0002989796296830295, 'reg_alpha': 77.21799704710944, 'subsample': 0.16684177533077216, 'colsample_bytree': 0.33162220079682364, 'max_depth': 6}. Best is trial 6 with value: 0.717125405308572.\u001b[0m\n"
     ]
    },
    {
     "name": "stdout",
     "output_type": "stream",
     "text": [
      "[17:48:58] WARNING: C:/Users/Administrator/workspace/xgboost-win64_release_1.4.0/src/learner.cc:231: Only 1 GPUs are visible, setting `gpu_id` to 0\n",
      "[0]\tvalidation_0-rmse:7.68504\n",
      "[1000]\tvalidation_0-rmse:0.71712\n",
      "[1582]\tvalidation_0-rmse:0.71712\n"
     ]
    },
    {
     "name": "stderr",
     "output_type": "stream",
     "text": [
      "\u001b[32m[I 2021-08-30 17:49:02,502]\u001b[0m Trial 12 finished with value: 0.7171134430566873 and parameters: {'learning_rate': 0.01230003724189574, 'reg_lambda': 2.1684345277661154e-08, 'reg_alpha': 0.766730431957057, 'subsample': 0.2800002069692702, 'colsample_bytree': 0.36685394421955836, 'max_depth': 1}. Best is trial 12 with value: 0.7171134430566873.\u001b[0m\n"
     ]
    },
    {
     "name": "stdout",
     "output_type": "stream",
     "text": [
      "[17:49:02] WARNING: C:/Users/Administrator/workspace/xgboost-win64_release_1.4.0/src/learner.cc:231: Only 1 GPUs are visible, setting `gpu_id` to 0\n",
      "[0]\tvalidation_0-rmse:7.56971\n",
      "[993]\tvalidation_0-rmse:0.71711\n"
     ]
    },
    {
     "name": "stderr",
     "output_type": "stream",
     "text": [
      "\u001b[32m[I 2021-08-30 17:49:05,369]\u001b[0m Trial 13 finished with value: 0.7171030157405726 and parameters: {'learning_rate': 0.02726514742137966, 'reg_lambda': 1.626641759496825e-08, 'reg_alpha': 0.08678197140190368, 'subsample': 0.3217096666133359, 'colsample_bytree': 0.351064815667764, 'max_depth': 1}. Best is trial 13 with value: 0.7171030157405726.\u001b[0m\n"
     ]
    },
    {
     "name": "stdout",
     "output_type": "stream",
     "text": [
      "[17:49:05] WARNING: C:/Users/Administrator/workspace/xgboost-win64_release_1.4.0/src/learner.cc:231: Only 1 GPUs are visible, setting `gpu_id` to 0\n",
      "[0]\tvalidation_0-rmse:7.52050\n",
      "[833]\tvalidation_0-rmse:0.71711\n"
     ]
    },
    {
     "name": "stderr",
     "output_type": "stream",
     "text": [
      "\u001b[32m[I 2021-08-30 17:49:07,756]\u001b[0m Trial 14 finished with value: 0.7171034241733324 and parameters: {'learning_rate': 0.03364817254848004, 'reg_lambda': 1.3979073044033543e-08, 'reg_alpha': 0.016749343670116143, 'subsample': 0.29410455346839753, 'colsample_bytree': 0.2505127603713537, 'max_depth': 1}. Best is trial 13 with value: 0.7171030157405726.\u001b[0m\n"
     ]
    },
    {
     "name": "stdout",
     "output_type": "stream",
     "text": [
      "[17:49:07] WARNING: C:/Users/Administrator/workspace/xgboost-win64_release_1.4.0/src/learner.cc:231: Only 1 GPUs are visible, setting `gpu_id` to 0\n",
      "[0]\tvalidation_0-rmse:7.38907\n",
      "[834]\tvalidation_0-rmse:0.71711\n"
     ]
    },
    {
     "name": "stderr",
     "output_type": "stream",
     "text": [
      "\u001b[32m[I 2021-08-30 17:49:10,158]\u001b[0m Trial 15 finished with value: 0.7170953492641894 and parameters: {'learning_rate': 0.050704701607109354, 'reg_lambda': 1.592353504428782e-08, 'reg_alpha': 0.0019284043038579775, 'subsample': 0.30668563419454536, 'colsample_bytree': 0.10635583080583064, 'max_depth': 1}. Best is trial 15 with value: 0.7170953492641894.\u001b[0m\n"
     ]
    },
    {
     "name": "stdout",
     "output_type": "stream",
     "text": [
      "[17:49:10] WARNING: C:/Users/Administrator/workspace/xgboost-win64_release_1.4.0/src/learner.cc:231: Only 1 GPUs are visible, setting `gpu_id` to 0\n",
      "[0]\tvalidation_0-rmse:7.23515\n",
      "[426]\tvalidation_0-rmse:0.71767\n"
     ]
    },
    {
     "name": "stderr",
     "output_type": "stream",
     "text": [
      "\u001b[32m[I 2021-08-30 17:49:13,122]\u001b[0m Trial 16 finished with value: 0.7173337886354288 and parameters: {'learning_rate': 0.07066299850037633, 'reg_lambda': 0.00020451275615641958, 'reg_alpha': 0.00012665329497583012, 'subsample': 0.298014912711193, 'colsample_bytree': 0.15227865635324742, 'max_depth': 6}. Best is trial 15 with value: 0.7170953492641894.\u001b[0m\n"
     ]
    },
    {
     "name": "stdout",
     "output_type": "stream",
     "text": [
      "[17:49:13] WARNING: C:/Users/Administrator/workspace/xgboost-win64_release_1.4.0/src/learner.cc:231: Only 1 GPUs are visible, setting `gpu_id` to 0\n",
      "[0]\tvalidation_0-rmse:6.97409\n",
      "[483]\tvalidation_0-rmse:0.71751\n"
     ]
    },
    {
     "name": "stderr",
     "output_type": "stream",
     "text": [
      "\u001b[32m[I 2021-08-30 17:49:14,895]\u001b[0m Trial 17 finished with value: 0.717179873611234 and parameters: {'learning_rate': 0.10457531542681797, 'reg_lambda': 0.0586326595918521, 'reg_alpha': 3.380317101485674e-05, 'subsample': 0.11028100060438034, 'colsample_bytree': 0.22302534855666045, 'max_depth': 3}. Best is trial 15 with value: 0.7170953492641894.\u001b[0m\n"
     ]
    },
    {
     "name": "stdout",
     "output_type": "stream",
     "text": [
      "[17:49:15] WARNING: C:/Users/Administrator/workspace/xgboost-win64_release_1.4.0/src/learner.cc:231: Only 1 GPUs are visible, setting `gpu_id` to 0\n",
      "[0]\tvalidation_0-rmse:7.37435\n",
      "[839]\tvalidation_0-rmse:0.71716\n"
     ]
    },
    {
     "name": "stderr",
     "output_type": "stream",
     "text": [
      "\u001b[32m[I 2021-08-30 17:49:17,235]\u001b[0m Trial 18 finished with value: 0.7171512860231658 and parameters: {'learning_rate': 0.052617564781769946, 'reg_lambda': 1.939825652116567e-07, 'reg_alpha': 0.0030801231029273612, 'subsample': 0.5184833618978396, 'colsample_bytree': 0.13005911391540115, 'max_depth': 1}. Best is trial 15 with value: 0.7170953492641894.\u001b[0m\n"
     ]
    },
    {
     "name": "stdout",
     "output_type": "stream",
     "text": [
      "[17:49:17] WARNING: C:/Users/Administrator/workspace/xgboost-win64_release_1.4.0/src/learner.cc:231: Only 1 GPUs are visible, setting `gpu_id` to 0\n",
      "[0]\tvalidation_0-rmse:6.82487\n",
      "[357]\tvalidation_0-rmse:0.71754\n"
     ]
    },
    {
     "name": "stderr",
     "output_type": "stream",
     "text": [
      "\u001b[32m[I 2021-08-30 17:49:19,224]\u001b[0m Trial 19 finished with value: 0.717206971903434 and parameters: {'learning_rate': 0.12393327745549992, 'reg_lambda': 5.057870695107663e-05, 'reg_alpha': 0.9253946620692709, 'subsample': 0.5119915926062524, 'colsample_bytree': 0.2980917802840448, 'max_depth': 5}. Best is trial 15 with value: 0.7170953492641894.\u001b[0m\n"
     ]
    },
    {
     "name": "stdout",
     "output_type": "stream",
     "text": [
      "[17:49:19] WARNING: C:/Users/Administrator/workspace/xgboost-win64_release_1.4.0/src/learner.cc:231: Only 1 GPUs are visible, setting `gpu_id` to 0\n",
      "[0]\tvalidation_0-rmse:7.59961\n",
      "[633]\tvalidation_0-rmse:0.71716\n"
     ]
    },
    {
     "name": "stderr",
     "output_type": "stream",
     "text": [
      "\u001b[32m[I 2021-08-30 17:49:21,458]\u001b[0m Trial 20 finished with value: 0.7171479449058824 and parameters: {'learning_rate': 0.02337546610787135, 'reg_lambda': 0.014516403327127479, 'reg_alpha': 0.029162382512322976, 'subsample': 0.31084132901105893, 'colsample_bytree': 0.4411306539417815, 'max_depth': 3}. Best is trial 15 with value: 0.7170953492641894.\u001b[0m\n"
     ]
    },
    {
     "name": "stdout",
     "output_type": "stream",
     "text": [
      "[17:49:21] WARNING: C:/Users/Administrator/workspace/xgboost-win64_release_1.4.0/src/learner.cc:231: Only 1 GPUs are visible, setting `gpu_id` to 0\n",
      "[0]\tvalidation_0-rmse:7.49210\n",
      "[842]\tvalidation_0-rmse:0.71712\n"
     ]
    },
    {
     "name": "stderr",
     "output_type": "stream",
     "text": [
      "\u001b[32m[I 2021-08-30 17:49:23,700]\u001b[0m Trial 21 finished with value: 0.7171125205336207 and parameters: {'learning_rate': 0.037333137022795476, 'reg_lambda': 1.323728216575732e-08, 'reg_alpha': 0.00371804207784611, 'subsample': 0.2914558411707377, 'colsample_bytree': 0.23623347198313316, 'max_depth': 1}. Best is trial 15 with value: 0.7170953492641894.\u001b[0m\n"
     ]
    },
    {
     "name": "stdout",
     "output_type": "stream",
     "text": [
      "[17:49:23] WARNING: C:/Users/Administrator/workspace/xgboost-win64_release_1.4.0/src/learner.cc:231: Only 1 GPUs are visible, setting `gpu_id` to 0\n",
      "[0]\tvalidation_0-rmse:7.53241\n",
      "[1000]\tvalidation_0-rmse:0.71712\n",
      "[1276]\tvalidation_0-rmse:0.71713\n"
     ]
    },
    {
     "name": "stderr",
     "output_type": "stream",
     "text": [
      "\u001b[32m[I 2021-08-30 17:49:27,163]\u001b[0m Trial 22 finished with value: 0.7171212856691481 and parameters: {'learning_rate': 0.03211085868106135, 'reg_lambda': 7.464233702962848e-08, 'reg_alpha': 0.029732110088598114, 'subsample': 0.36817847824998173, 'colsample_bytree': 0.10239979864892686, 'max_depth': 1}. Best is trial 15 with value: 0.7170953492641894.\u001b[0m\n"
     ]
    },
    {
     "name": "stdout",
     "output_type": "stream",
     "text": [
      "[17:49:27] WARNING: C:/Users/Administrator/workspace/xgboost-win64_release_1.4.0/src/learner.cc:231: Only 1 GPUs are visible, setting `gpu_id` to 0\n",
      "[0]\tvalidation_0-rmse:7.34699\n",
      "[484]\tvalidation_0-rmse:0.71723\n"
     ]
    },
    {
     "name": "stderr",
     "output_type": "stream",
     "text": [
      "\u001b[32m[I 2021-08-30 17:49:28,857]\u001b[0m Trial 23 finished with value: 0.7171471739427745 and parameters: {'learning_rate': 0.05615230335973461, 'reg_lambda': 1.1625223603025276e-08, 'reg_alpha': 0.0002669153459532154, 'subsample': 0.24429091732683336, 'colsample_bytree': 0.22580563010209215, 'max_depth': 2}. Best is trial 15 with value: 0.7170953492641894.\u001b[0m\n"
     ]
    },
    {
     "name": "stdout",
     "output_type": "stream",
     "text": [
      "[17:49:29] WARNING: C:/Users/Administrator/workspace/xgboost-win64_release_1.4.0/src/learner.cc:231: Only 1 GPUs are visible, setting `gpu_id` to 0\n",
      "[0]\tvalidation_0-rmse:7.46742\n",
      "[994]\tvalidation_0-rmse:0.71712\n"
     ]
    },
    {
     "name": "stderr",
     "output_type": "stream",
     "text": [
      "\u001b[32m[I 2021-08-30 17:49:31,620]\u001b[0m Trial 24 finished with value: 0.7170915701164744 and parameters: {'learning_rate': 0.04055922062731401, 'reg_lambda': 1.4830639656924498e-07, 'reg_alpha': 0.014144590243358549, 'subsample': 0.10380006710374862, 'colsample_bytree': 0.29466650946777756, 'max_depth': 1}. Best is trial 24 with value: 0.7170915701164744.\u001b[0m\n"
     ]
    },
    {
     "name": "stdout",
     "output_type": "stream",
     "text": [
      "[17:49:31] WARNING: C:/Users/Administrator/workspace/xgboost-win64_release_1.4.0/src/learner.cc:231: Only 1 GPUs are visible, setting `gpu_id` to 0\n",
      "[0]\tvalidation_0-rmse:7.12880\n",
      "[481]\tvalidation_0-rmse:0.71727\n"
     ]
    },
    {
     "name": "stderr",
     "output_type": "stream",
     "text": [
      "\u001b[32m[I 2021-08-30 17:49:33,268]\u001b[0m Trial 25 finished with value: 0.7171107046903871 and parameters: {'learning_rate': 0.08450356443791686, 'reg_lambda': 1.4724415108875215e-07, 'reg_alpha': 4.734853495695014, 'subsample': 0.11431099827572856, 'colsample_bytree': 0.4010664898401136, 'max_depth': 2}. Best is trial 24 with value: 0.7170915701164744.\u001b[0m\n"
     ]
    },
    {
     "name": "stdout",
     "output_type": "stream",
     "text": [
      "[17:49:33] WARNING: C:/Users/Administrator/workspace/xgboost-win64_release_1.4.0/src/learner.cc:231: Only 1 GPUs are visible, setting `gpu_id` to 0\n",
      "[0]\tvalidation_0-rmse:7.44611\n",
      "[706]\tvalidation_0-rmse:0.71714\n"
     ]
    },
    {
     "name": "stderr",
     "output_type": "stream",
     "text": [
      "\u001b[32m[I 2021-08-30 17:49:35,395]\u001b[0m Trial 26 finished with value: 0.717114964207055 and parameters: {'learning_rate': 0.0433098413727534, 'reg_lambda': 6.120599248364262e-06, 'reg_alpha': 0.32145037456568815, 'subsample': 0.19345764517515351, 'colsample_bytree': 0.29498588112387975, 'max_depth': 1}. Best is trial 24 with value: 0.7170915701164744.\u001b[0m\n"
     ]
    },
    {
     "name": "stdout",
     "output_type": "stream",
     "text": [
      "[17:49:35] WARNING: C:/Users/Administrator/workspace/xgboost-win64_release_1.4.0/src/learner.cc:231: Only 1 GPUs are visible, setting `gpu_id` to 0\n",
      "[0]\tvalidation_0-rmse:7.59282\n",
      "[822]\tvalidation_0-rmse:0.71714\n"
     ]
    },
    {
     "name": "stderr",
     "output_type": "stream",
     "text": [
      "\u001b[32m[I 2021-08-30 17:49:38,078]\u001b[0m Trial 27 finished with value: 0.7171322150472345 and parameters: {'learning_rate': 0.024258793534448604, 'reg_lambda': 1.1718611023520533e-07, 'reg_alpha': 2.3084840639360234e-05, 'subsample': 0.4862048462367608, 'colsample_bytree': 0.17376812502844258, 'max_depth': 2}. Best is trial 24 with value: 0.7170915701164744.\u001b[0m\n"
     ]
    },
    {
     "name": "stdout",
     "output_type": "stream",
     "text": [
      "[17:49:38] WARNING: C:/Users/Administrator/workspace/xgboost-win64_release_1.4.0/src/learner.cc:231: Only 1 GPUs are visible, setting `gpu_id` to 0\n",
      "[0]\tvalidation_0-rmse:6.58556\n",
      "[417]\tvalidation_0-rmse:0.71722\n"
     ]
    },
    {
     "name": "stderr",
     "output_type": "stream",
     "text": [
      "\u001b[32m[I 2021-08-30 17:49:39,440]\u001b[0m Trial 28 finished with value: 0.71719707293469 and parameters: {'learning_rate': 0.15507339395285216, 'reg_lambda': 8.833638396314585e-07, 'reg_alpha': 0.011112605192897293, 'subsample': 0.3546132660085144, 'colsample_bytree': 0.7084693055292213, 'max_depth': 1}. Best is trial 24 with value: 0.7170915701164744.\u001b[0m\n"
     ]
    },
    {
     "name": "stdout",
     "output_type": "stream",
     "text": [
      "[17:49:39] WARNING: C:/Users/Administrator/workspace/xgboost-win64_release_1.4.0/src/learner.cc:231: Only 1 GPUs are visible, setting `gpu_id` to 0\n",
      "[0]\tvalidation_0-rmse:7.28508\n",
      "[546]\tvalidation_0-rmse:0.71735\n"
     ]
    },
    {
     "name": "stderr",
     "output_type": "stream",
     "text": [
      "\u001b[32m[I 2021-08-30 17:49:41,670]\u001b[0m Trial 29 finished with value: 0.7171757862550852 and parameters: {'learning_rate': 0.06420186485695381, 'reg_lambda': 2.6084002278738114, 'reg_alpha': 2.96626456705963e-06, 'subsample': 0.2299927824533269, 'colsample_bytree': 0.5242712439388528, 'max_depth': 3}. Best is trial 24 with value: 0.7170915701164744.\u001b[0m\n"
     ]
    },
    {
     "name": "stdout",
     "output_type": "stream",
     "text": [
      "[17:49:41] WARNING: C:/Users/Administrator/workspace/xgboost-win64_release_1.4.0/src/learner.cc:231: Only 1 GPUs are visible, setting `gpu_id` to 0\n",
      "[0]\tvalidation_0-rmse:7.64412\n",
      "[839]\tvalidation_0-rmse:0.71716\n"
     ]
    },
    {
     "name": "stderr",
     "output_type": "stream",
     "text": [
      "\u001b[32m[I 2021-08-30 17:49:44,779]\u001b[0m Trial 30 finished with value: 0.7171362072376175 and parameters: {'learning_rate': 0.01760217518615955, 'reg_lambda': 6.016643528930283e-08, 'reg_alpha': 0.0005536605415720077, 'subsample': 0.660926547284084, 'colsample_bytree': 0.3225334423329793, 'max_depth': 3}. Best is trial 24 with value: 0.7170915701164744.\u001b[0m\n"
     ]
    },
    {
     "name": "stdout",
     "output_type": "stream",
     "text": [
      "[17:49:44] WARNING: C:/Users/Administrator/workspace/xgboost-win64_release_1.4.0/src/learner.cc:231: Only 1 GPUs are visible, setting `gpu_id` to 0\n",
      "[0]\tvalidation_0-rmse:7.50573\n",
      "[998]\tvalidation_0-rmse:0.71712\n"
     ]
    },
    {
     "name": "stderr",
     "output_type": "stream",
     "text": [
      "\u001b[32m[I 2021-08-30 17:49:47,447]\u001b[0m Trial 31 finished with value: 0.717113559640091 and parameters: {'learning_rate': 0.03557157381639649, 'reg_lambda': 1.1845190849484609e-08, 'reg_alpha': 0.015482429798460769, 'subsample': 0.35130160606018884, 'colsample_bytree': 0.19220750375154128, 'max_depth': 1}. Best is trial 24 with value: 0.7170915701164744.\u001b[0m\n"
     ]
    },
    {
     "name": "stdout",
     "output_type": "stream",
     "text": [
      "[17:49:47] WARNING: C:/Users/Administrator/workspace/xgboost-win64_release_1.4.0/src/learner.cc:231: Only 1 GPUs are visible, setting `gpu_id` to 0\n",
      "[0]\tvalidation_0-rmse:7.56089\n",
      "[1000]\tvalidation_0-rmse:0.71711\n",
      "[1044]\tvalidation_0-rmse:0.71711\n"
     ]
    },
    {
     "name": "stderr",
     "output_type": "stream",
     "text": [
      "\u001b[32m[I 2021-08-30 17:49:50,467]\u001b[0m Trial 32 finished with value: 0.7171034280552282 and parameters: {'learning_rate': 0.028407650605768144, 'reg_lambda': 5.608485074309326e-08, 'reg_alpha': 0.1493222396966167, 'subsample': 0.4656704267854903, 'colsample_bytree': 0.27380229961129576, 'max_depth': 1}. Best is trial 24 with value: 0.7170915701164744.\u001b[0m\n"
     ]
    },
    {
     "name": "stdout",
     "output_type": "stream",
     "text": [
      "[17:49:50] WARNING: C:/Users/Administrator/workspace/xgboost-win64_release_1.4.0/src/learner.cc:231: Only 1 GPUs are visible, setting `gpu_id` to 0\n",
      "[0]\tvalidation_0-rmse:7.46938\n",
      "[551]\tvalidation_0-rmse:0.71718\n"
     ]
    },
    {
     "name": "stderr",
     "output_type": "stream",
     "text": [
      "\u001b[32m[I 2021-08-30 17:49:52,439]\u001b[0m Trial 33 finished with value: 0.7171382564542228 and parameters: {'learning_rate': 0.040274083044814626, 'reg_lambda': 2.3296380472695425e-07, 'reg_alpha': 5.787409394376575, 'subsample': 0.2325622008648613, 'colsample_bytree': 0.3525439866542447, 'max_depth': 2}. Best is trial 24 with value: 0.7170915701164744.\u001b[0m\n"
     ]
    },
    {
     "name": "stdout",
     "output_type": "stream",
     "text": [
      "[17:49:52] WARNING: C:/Users/Administrator/workspace/xgboost-win64_release_1.4.0/src/learner.cc:231: Only 1 GPUs are visible, setting `gpu_id` to 0\n",
      "[0]\tvalidation_0-rmse:7.40925\n",
      "[602]\tvalidation_0-rmse:0.71716\n"
     ]
    },
    {
     "name": "stderr",
     "output_type": "stream",
     "text": [
      "\u001b[32m[I 2021-08-30 17:49:54,297]\u001b[0m Trial 34 finished with value: 0.7171358585370499 and parameters: {'learning_rate': 0.048098860071975794, 'reg_lambda': 4.626767000999489e-08, 'reg_alpha': 0.006774980942450039, 'subsample': 0.1348005434353291, 'colsample_bytree': 0.4448600223421506, 'max_depth': 1}. Best is trial 24 with value: 0.7170915701164744.\u001b[0m\n"
     ]
    },
    {
     "name": "stdout",
     "output_type": "stream",
     "text": [
      "[17:49:54] WARNING: C:/Users/Administrator/workspace/xgboost-win64_release_1.4.0/src/learner.cc:231: Only 1 GPUs are visible, setting `gpu_id` to 0\n",
      "[0]\tvalidation_0-rmse:7.61670\n",
      "[998]\tvalidation_0-rmse:0.71713\n"
     ]
    },
    {
     "name": "stderr",
     "output_type": "stream",
     "text": [
      "\u001b[32m[I 2021-08-30 17:49:57,514]\u001b[0m Trial 35 finished with value: 0.7171194236872044 and parameters: {'learning_rate': 0.02116096115469679, 'reg_lambda': 1.1759479342519233e-06, 'reg_alpha': 0.0001100652777936141, 'subsample': 0.3282542461019434, 'colsample_bytree': 0.11114398154745808, 'max_depth': 2}. Best is trial 24 with value: 0.7170915701164744.\u001b[0m\n"
     ]
    },
    {
     "name": "stdout",
     "output_type": "stream",
     "text": [
      "[17:49:57] WARNING: C:/Users/Administrator/workspace/xgboost-win64_release_1.4.0/src/learner.cc:231: Only 1 GPUs are visible, setting `gpu_id` to 0\n",
      "[0]\tvalidation_0-rmse:7.55448\n",
      "[595]\tvalidation_0-rmse:0.71732\n"
     ]
    },
    {
     "name": "stderr",
     "output_type": "stream",
     "text": [
      "\u001b[32m[I 2021-08-30 17:50:00,978]\u001b[0m Trial 36 finished with value: 0.717217192987944 and parameters: {'learning_rate': 0.029227053034639572, 'reg_lambda': 1.456395128703692e-05, 'reg_alpha': 0.001492892117052386, 'subsample': 0.581365222340719, 'colsample_bytree': 0.18548773131726454, 'max_depth': 5}. Best is trial 24 with value: 0.7170915701164744.\u001b[0m\n"
     ]
    },
    {
     "name": "stdout",
     "output_type": "stream",
     "text": [
      "[17:50:01] WARNING: C:/Users/Administrator/workspace/xgboost-win64_release_1.4.0/src/learner.cc:231: Only 1 GPUs are visible, setting `gpu_id` to 0\n",
      "[0]\tvalidation_0-rmse:7.29120\n",
      "[690]\tvalidation_0-rmse:0.71712\n"
     ]
    },
    {
     "name": "stderr",
     "output_type": "stream",
     "text": [
      "\u001b[32m[I 2021-08-30 17:50:02,892]\u001b[0m Trial 37 finished with value: 0.7171075083145158 and parameters: {'learning_rate': 0.06343393167353159, 'reg_lambda': 3.322646689398293e-07, 'reg_alpha': 0.04377350426619008, 'subsample': 0.4017168305553423, 'colsample_bytree': 0.26413291379677, 'max_depth': 1}. Best is trial 24 with value: 0.7170915701164744.\u001b[0m\n"
     ]
    },
    {
     "name": "stdout",
     "output_type": "stream",
     "text": [
      "[17:50:03] WARNING: C:/Users/Administrator/workspace/xgboost-win64_release_1.4.0/src/learner.cc:231: Only 1 GPUs are visible, setting `gpu_id` to 0\n",
      "[0]\tvalidation_0-rmse:7.17158\n",
      "[420]\tvalidation_0-rmse:0.71722\n"
     ]
    },
    {
     "name": "stderr",
     "output_type": "stream",
     "text": [
      "\u001b[32m[I 2021-08-30 17:50:04,340]\u001b[0m Trial 38 finished with value: 0.7171037304269107 and parameters: {'learning_rate': 0.07892469294335985, 'reg_lambda': 2.2005356831627035e-06, 'reg_alpha': 0.1587268889376986, 'subsample': 0.2552916947691033, 'colsample_bytree': 0.48815086558090814, 'max_depth': 2}. Best is trial 24 with value: 0.7170915701164744.\u001b[0m\n"
     ]
    },
    {
     "name": "stdout",
     "output_type": "stream",
     "text": [
      "[17:50:04] WARNING: C:/Users/Administrator/workspace/xgboost-win64_release_1.4.0/src/learner.cc:231: Only 1 GPUs are visible, setting `gpu_id` to 0\n",
      "[0]\tvalidation_0-rmse:7.66462\n",
      "[1000]\tvalidation_0-rmse:0.71711\n",
      "[1723]\tvalidation_0-rmse:0.71711\n"
     ]
    },
    {
     "name": "stderr",
     "output_type": "stream",
     "text": [
      "\u001b[32m[I 2021-08-30 17:50:09,137]\u001b[0m Trial 39 finished with value: 0.7171045034948064 and parameters: {'learning_rate': 0.014961040655491913, 'reg_lambda': 15.984411287409229, 'reg_alpha': 2.2181772453851103, 'subsample': 0.1643233945695856, 'colsample_bytree': 0.15846621954887394, 'max_depth': 1}. Best is trial 24 with value: 0.7170915701164744.\u001b[0m\n"
     ]
    },
    {
     "name": "stdout",
     "output_type": "stream",
     "text": [
      "[17:50:09] WARNING: C:/Users/Administrator/workspace/xgboost-win64_release_1.4.0/src/learner.cc:231: Only 1 GPUs are visible, setting `gpu_id` to 0\n",
      "[0]\tvalidation_0-rmse:7.53035\n",
      "[636]\tvalidation_0-rmse:0.71713\n"
     ]
    },
    {
     "name": "stderr",
     "output_type": "stream",
     "text": [
      "\u001b[32m[I 2021-08-30 17:50:11,226]\u001b[0m Trial 40 finished with value: 0.717105372112259 and parameters: {'learning_rate': 0.03237092945582737, 'reg_lambda': 3.3286508942683555e-08, 'reg_alpha': 0.008794990955635589, 'subsample': 0.39295088699772085, 'colsample_bytree': 0.3938254349655088, 'max_depth': 2}. Best is trial 24 with value: 0.7170915701164744.\u001b[0m\n"
     ]
    },
    {
     "name": "stdout",
     "output_type": "stream",
     "text": [
      "[17:50:11] WARNING: C:/Users/Administrator/workspace/xgboost-win64_release_1.4.0/src/learner.cc:231: Only 1 GPUs are visible, setting `gpu_id` to 0\n",
      "[0]\tvalidation_0-rmse:7.56659\n",
      "[841]\tvalidation_0-rmse:0.71712\n"
     ]
    },
    {
     "name": "stderr",
     "output_type": "stream",
     "text": [
      "\u001b[32m[I 2021-08-30 17:50:13,585]\u001b[0m Trial 41 finished with value: 0.7171173119217247 and parameters: {'learning_rate': 0.02766840919075548, 'reg_lambda': 3.8237215143837384e-08, 'reg_alpha': 0.2089171792463979, 'subsample': 0.4660855177596462, 'colsample_bytree': 0.27325409323933003, 'max_depth': 1}. Best is trial 24 with value: 0.7170915701164744.\u001b[0m\n"
     ]
    },
    {
     "name": "stdout",
     "output_type": "stream",
     "text": [
      "[17:50:13] WARNING: C:/Users/Administrator/workspace/xgboost-win64_release_1.4.0/src/learner.cc:231: Only 1 GPUs are visible, setting `gpu_id` to 0\n",
      "[0]\tvalidation_0-rmse:7.47523\n",
      "[1000]\tvalidation_0-rmse:0.71713\n",
      "[1107]\tvalidation_0-rmse:0.71714\n"
     ]
    },
    {
     "name": "stderr",
     "output_type": "stream",
     "text": [
      "\u001b[32m[I 2021-08-30 17:50:16,670]\u001b[0m Trial 42 finished with value: 0.7171254567997836 and parameters: {'learning_rate': 0.03952331744530024, 'reg_lambda': 1.0468887858644159e-08, 'reg_alpha': 0.08726416598122864, 'subsample': 0.4553426828252527, 'colsample_bytree': 0.20411214062449473, 'max_depth': 1}. Best is trial 24 with value: 0.7170915701164744.\u001b[0m\n"
     ]
    },
    {
     "name": "stdout",
     "output_type": "stream",
     "text": [
      "[17:50:16] WARNING: C:/Users/Administrator/workspace/xgboost-win64_release_1.4.0/src/learner.cc:231: Only 1 GPUs are visible, setting `gpu_id` to 0\n",
      "[0]\tvalidation_0-rmse:7.56742\n",
      "[832]\tvalidation_0-rmse:0.71714\n"
     ]
    },
    {
     "name": "stderr",
     "output_type": "stream",
     "text": [
      "\u001b[32m[I 2021-08-30 17:50:19,036]\u001b[0m Trial 43 finished with value: 0.7171334988569863 and parameters: {'learning_rate': 0.027556130793791427, 'reg_lambda': 3.659179548054128e-07, 'reg_alpha': 0.0010729540967189765, 'subsample': 0.6036133553587039, 'colsample_bytree': 0.3102390036204774, 'max_depth': 1}. Best is trial 24 with value: 0.7170915701164744.\u001b[0m\n"
     ]
    },
    {
     "name": "stdout",
     "output_type": "stream",
     "text": [
      "[17:50:19] WARNING: C:/Users/Administrator/workspace/xgboost-win64_release_1.4.0/src/learner.cc:231: Only 1 GPUs are visible, setting `gpu_id` to 0\n",
      "[0]\tvalidation_0-rmse:7.70167\n",
      "[1000]\tvalidation_0-rmse:0.71713\n",
      "[1238]\tvalidation_0-rmse:0.71713\n"
     ]
    },
    {
     "name": "stderr",
     "output_type": "stream",
     "text": [
      "\u001b[32m[I 2021-08-30 17:50:22,995]\u001b[0m Trial 44 finished with value: 0.7171253533305963 and parameters: {'learning_rate': 0.010138537140018654, 'reg_lambda': 7.195742497163016e-08, 'reg_alpha': 0.29826956634756496, 'subsample': 0.4444270911326237, 'colsample_bytree': 0.6314035723222027, 'max_depth': 2}. Best is trial 24 with value: 0.7170915701164744.\u001b[0m\n"
     ]
    },
    {
     "name": "stdout",
     "output_type": "stream",
     "text": [
      "[17:50:23] WARNING: C:/Users/Administrator/workspace/xgboost-win64_release_1.4.0/src/learner.cc:231: Only 1 GPUs are visible, setting `gpu_id` to 0\n",
      "[0]\tvalidation_0-rmse:7.62127\n",
      "[723]\tvalidation_0-rmse:0.71724\n"
     ]
    },
    {
     "name": "stderr",
     "output_type": "stream",
     "text": [
      "\u001b[32m[I 2021-08-30 17:50:26,148]\u001b[0m Trial 45 finished with value: 0.7171823585932596 and parameters: {'learning_rate': 0.02056697084641957, 'reg_lambda': 3.1424706829261684e-08, 'reg_alpha': 0.057741564686043925, 'subsample': 0.20245079945612404, 'colsample_bytree': 0.26069198025739715, 'max_depth': 4}. Best is trial 24 with value: 0.7170915701164744.\u001b[0m\n"
     ]
    },
    {
     "name": "stdout",
     "output_type": "stream",
     "text": [
      "[17:50:26] WARNING: C:/Users/Administrator/workspace/xgboost-win64_release_1.4.0/src/learner.cc:231: Only 1 GPUs are visible, setting `gpu_id` to 0\n",
      "[0]\tvalidation_0-rmse:7.41153\n",
      "[838]\tvalidation_0-rmse:0.71716\n"
     ]
    },
    {
     "name": "stderr",
     "output_type": "stream",
     "text": [
      "\u001b[32m[I 2021-08-30 17:50:28,472]\u001b[0m Trial 46 finished with value: 0.7171479305287382 and parameters: {'learning_rate': 0.04778937893013538, 'reg_lambda': 6.317617758403332e-07, 'reg_alpha': 0.6469431609605614, 'subsample': 0.6588132764480319, 'colsample_bytree': 0.9709779481412251, 'max_depth': 1}. Best is trial 24 with value: 0.7170915701164744.\u001b[0m\n"
     ]
    },
    {
     "name": "stdout",
     "output_type": "stream",
     "text": [
      "[17:50:28] WARNING: C:/Users/Administrator/workspace/xgboost-win64_release_1.4.0/src/learner.cc:231: Only 1 GPUs are visible, setting `gpu_id` to 0\n",
      "[0]\tvalidation_0-rmse:7.52386\n",
      "[664]\tvalidation_0-rmse:0.71717\n"
     ]
    },
    {
     "name": "stderr",
     "output_type": "stream",
     "text": [
      "\u001b[32m[I 2021-08-30 17:50:30,642]\u001b[0m Trial 47 finished with value: 0.7171592744199935 and parameters: {'learning_rate': 0.03320319497862925, 'reg_lambda': 4.6646096194258344e-06, 'reg_alpha': 0.0033084388492367954, 'subsample': 0.9573779587845115, 'colsample_bytree': 0.3512619717676469, 'max_depth': 2}. Best is trial 24 with value: 0.7170915701164744.\u001b[0m\n"
     ]
    },
    {
     "name": "stdout",
     "output_type": "stream",
     "text": [
      "[17:50:30] WARNING: C:/Users/Administrator/workspace/xgboost-win64_release_1.4.0/src/learner.cc:231: Only 1 GPUs are visible, setting `gpu_id` to 0\n",
      "[0]\tvalidation_0-rmse:7.44297\n",
      "[832]\tvalidation_0-rmse:0.71715\n"
     ]
    },
    {
     "name": "stderr",
     "output_type": "stream",
     "text": [
      "\u001b[32m[I 2021-08-30 17:50:32,930]\u001b[0m Trial 48 finished with value: 0.717144084348353 and parameters: {'learning_rate': 0.0437079236479001, 'reg_lambda': 0.005730153886635234, 'reg_alpha': 0.013143432037086872, 'subsample': 0.7330142677316018, 'colsample_bytree': 0.41390269127395546, 'max_depth': 1}. Best is trial 24 with value: 0.7170915701164744.\u001b[0m\n"
     ]
    },
    {
     "name": "stdout",
     "output_type": "stream",
     "text": [
      "[17:50:33] WARNING: C:/Users/Administrator/workspace/xgboost-win64_release_1.4.0/src/learner.cc:231: Only 1 GPUs are visible, setting `gpu_id` to 0\n",
      "[0]\tvalidation_0-rmse:7.35439\n",
      "[444]\tvalidation_0-rmse:0.71763\n"
     ]
    },
    {
     "name": "stderr",
     "output_type": "stream",
     "text": [
      "\u001b[32m[I 2021-08-30 17:50:36,106]\u001b[0m Trial 49 finished with value: 0.7172335033508713 and parameters: {'learning_rate': 0.05519442735773202, 'reg_lambda': 1.3924593837217192e-07, 'reg_alpha': 2.938505359512571, 'subsample': 0.26706122060051385, 'colsample_bytree': 0.1483896906831047, 'max_depth': 7}. Best is trial 24 with value: 0.7170915701164744.\u001b[0m\n"
     ]
    },
    {
     "name": "stdout",
     "output_type": "stream",
     "text": [
      "[17:50:36] WARNING: C:/Users/Administrator/workspace/xgboost-win64_release_1.4.0/src/learner.cc:231: Only 1 GPUs are visible, setting `gpu_id` to 0\n",
      "[0]\tvalidation_0-rmse:7.64462\n",
      "[829]\tvalidation_0-rmse:0.71713\n"
     ]
    },
    {
     "name": "stderr",
     "output_type": "stream",
     "text": [
      "\u001b[32m[I 2021-08-30 17:50:38,658]\u001b[0m Trial 50 finished with value: 0.7171222737789777 and parameters: {'learning_rate': 0.0175402797625121, 'reg_lambda': 1.8341211871467697e-06, 'reg_alpha': 0.0003275409829866342, 'subsample': 0.5339787382873016, 'colsample_bytree': 0.5541207407294088, 'max_depth': 2}. Best is trial 24 with value: 0.7170915701164744.\u001b[0m\n"
     ]
    },
    {
     "name": "stdout",
     "output_type": "stream",
     "text": [
      "[17:50:38] WARNING: C:/Users/Administrator/workspace/xgboost-win64_release_1.4.0/src/learner.cc:231: Only 1 GPUs are visible, setting `gpu_id` to 0\n",
      "[0]\tvalidation_0-rmse:7.13235\n",
      "[994]\tvalidation_0-rmse:0.71719\n"
     ]
    },
    {
     "name": "stderr",
     "output_type": "stream",
     "text": [
      "\u001b[32m[I 2021-08-30 17:50:41,414]\u001b[0m Trial 51 finished with value: 0.7171754269327536 and parameters: {'learning_rate': 0.08403571408479317, 'reg_lambda': 2.667879601718729e-08, 'reg_alpha': 0.12805165907629865, 'subsample': 0.3221874383627592, 'colsample_bytree': 0.3678121014649203, 'max_depth': 1}. Best is trial 24 with value: 0.7170915701164744.\u001b[0m\n"
     ]
    },
    {
     "name": "stdout",
     "output_type": "stream",
     "text": [
      "[17:50:41] WARNING: C:/Users/Administrator/workspace/xgboost-win64_release_1.4.0/src/learner.cc:231: Only 1 GPUs are visible, setting `gpu_id` to 0\n",
      "[0]\tvalidation_0-rmse:7.57593\n",
      "[1000]\tvalidation_0-rmse:0.71715\n",
      "[1573]\tvalidation_0-rmse:0.71715\n"
     ]
    },
    {
     "name": "stderr",
     "output_type": "stream",
     "text": [
      "\u001b[32m[I 2021-08-30 17:50:45,703]\u001b[0m Trial 52 finished with value: 0.7171441577648644 and parameters: {'learning_rate': 0.026458184449337716, 'reg_lambda': 2.268075158164041e-06, 'reg_alpha': 18.078687688054817, 'subsample': 0.2669656955194672, 'colsample_bytree': 0.5099196323838772, 'max_depth': 1}. Best is trial 24 with value: 0.7170915701164744.\u001b[0m\n"
     ]
    },
    {
     "name": "stdout",
     "output_type": "stream",
     "text": [
      "[17:50:45] WARNING: C:/Users/Administrator/workspace/xgboost-win64_release_1.4.0/src/learner.cc:231: Only 1 GPUs are visible, setting `gpu_id` to 0\n",
      "[0]\tvalidation_0-rmse:7.16358\n",
      "[526]\tvalidation_0-rmse:0.71725\n"
     ]
    },
    {
     "name": "stderr",
     "output_type": "stream",
     "text": [
      "\u001b[32m[I 2021-08-30 17:50:47,511]\u001b[0m Trial 53 finished with value: 0.7171334877622308 and parameters: {'learning_rate': 0.07996567906298188, 'reg_lambda': 3.764844513991839e-07, 'reg_alpha': 0.03120450626626733, 'subsample': 0.15949256531249223, 'colsample_bytree': 0.4587087198497293, 'max_depth': 2}. Best is trial 24 with value: 0.7170915701164744.\u001b[0m\n"
     ]
    },
    {
     "name": "stdout",
     "output_type": "stream",
     "text": [
      "[17:50:47] WARNING: C:/Users/Administrator/workspace/xgboost-win64_release_1.4.0/src/learner.cc:231: Only 1 GPUs are visible, setting `gpu_id` to 0\n",
      "[0]\tvalidation_0-rmse:7.21316\n",
      "[663]\tvalidation_0-rmse:0.71717\n"
     ]
    },
    {
     "name": "stderr",
     "output_type": "stream",
     "text": [
      "\u001b[32m[I 2021-08-30 17:50:49,403]\u001b[0m Trial 54 finished with value: 0.7171679102350379 and parameters: {'learning_rate': 0.07356119938834024, 'reg_lambda': 9.246743394505889e-08, 'reg_alpha': 2.3450247220504425e-08, 'subsample': 0.3821432715789833, 'colsample_bytree': 0.4782957703290288, 'max_depth': 1}. Best is trial 24 with value: 0.7170915701164744.\u001b[0m\n"
     ]
    },
    {
     "name": "stdout",
     "output_type": "stream",
     "text": [
      "[17:50:49] WARNING: C:/Users/Administrator/workspace/xgboost-win64_release_1.4.0/src/learner.cc:231: Only 1 GPUs are visible, setting `gpu_id` to 0\n",
      "[0]\tvalidation_0-rmse:7.31769\n",
      "[551]\tvalidation_0-rmse:0.71716\n"
     ]
    },
    {
     "name": "stderr",
     "output_type": "stream",
     "text": [
      "\u001b[32m[I 2021-08-30 17:50:51,062]\u001b[0m Trial 55 finished with value: 0.7171496775265046 and parameters: {'learning_rate': 0.059973631684129565, 'reg_lambda': 0.00010385855848814826, 'reg_alpha': 0.4809055150285806, 'subsample': 0.22185683708334492, 'colsample_bytree': 0.29110736248187596, 'max_depth': 1}. Best is trial 24 with value: 0.7170915701164744.\u001b[0m\n"
     ]
    },
    {
     "name": "stdout",
     "output_type": "stream",
     "text": [
      "[17:50:51] WARNING: C:/Users/Administrator/workspace/xgboost-win64_release_1.4.0/src/learner.cc:231: Only 1 GPUs are visible, setting `gpu_id` to 0\n",
      "[0]\tvalidation_0-rmse:7.49804\n",
      "[612]\tvalidation_0-rmse:0.71717\n"
     ]
    },
    {
     "name": "stderr",
     "output_type": "stream",
     "text": [
      "\u001b[32m[I 2021-08-30 17:50:53,071]\u001b[0m Trial 56 finished with value: 0.7171363272614402 and parameters: {'learning_rate': 0.03655875914883044, 'reg_lambda': 1.9752356104219958e-08, 'reg_alpha': 0.10486038790032343, 'subsample': 0.3372246778074763, 'colsample_bytree': 0.6204911822937085, 'max_depth': 2}. Best is trial 24 with value: 0.7170915701164744.\u001b[0m\n"
     ]
    },
    {
     "name": "stdout",
     "output_type": "stream",
     "text": [
      "[17:50:53] WARNING: C:/Users/Administrator/workspace/xgboost-win64_release_1.4.0/src/learner.cc:231: Only 1 GPUs are visible, setting `gpu_id` to 0\n",
      "[0]\tvalidation_0-rmse:7.06745\n",
      "[389]\tvalidation_0-rmse:0.71719\n"
     ]
    },
    {
     "name": "stderr",
     "output_type": "stream",
     "text": [
      "\u001b[32m[I 2021-08-30 17:50:54,550]\u001b[0m Trial 57 finished with value: 0.7171433474840104 and parameters: {'learning_rate': 0.09244285928183119, 'reg_lambda': 1.7094560935763919e-07, 'reg_alpha': 0.006732549056503727, 'subsample': 0.42399980815128124, 'colsample_bytree': 0.22710724047691017, 'max_depth': 2}. Best is trial 24 with value: 0.7170915701164744.\u001b[0m\n"
     ]
    },
    {
     "name": "stdout",
     "output_type": "stream",
     "text": [
      "[17:50:54] WARNING: C:/Users/Administrator/workspace/xgboost-win64_release_1.4.0/src/learner.cc:231: Only 1 GPUs are visible, setting `gpu_id` to 0\n",
      "[0]\tvalidation_0-rmse:5.85923\n",
      "[335]\tvalidation_0-rmse:0.71768\n"
     ]
    },
    {
     "name": "stderr",
     "output_type": "stream",
     "text": [
      "\u001b[32m[I 2021-08-30 17:50:56,133]\u001b[0m Trial 58 finished with value: 0.717074165299893 and parameters: {'learning_rate': 0.24942594624495154, 'reg_lambda': 7.584411202704784e-07, 'reg_alpha': 1.0391136007532846, 'subsample': 0.2991436451073978, 'colsample_bytree': 0.3260896350564755, 'max_depth': 4}. Best is trial 58 with value: 0.717074165299893.\u001b[0m\n"
     ]
    },
    {
     "name": "stdout",
     "output_type": "stream",
     "text": [
      "[17:50:56] WARNING: C:/Users/Administrator/workspace/xgboost-win64_release_1.4.0/src/learner.cc:231: Only 1 GPUs are visible, setting `gpu_id` to 0\n",
      "[0]\tvalidation_0-rmse:5.87431\n",
      "[332]\tvalidation_0-rmse:0.71790\n"
     ]
    },
    {
     "name": "stderr",
     "output_type": "stream",
     "text": [
      "\u001b[32m[I 2021-08-30 17:50:57,978]\u001b[0m Trial 59 finished with value: 0.7171731830991194 and parameters: {'learning_rate': 0.2474726947499337, 'reg_lambda': 2.5341842170668435e-05, 'reg_alpha': 0.9817518377594414, 'subsample': 0.2995768463206925, 'colsample_bytree': 0.33149459864023645, 'max_depth': 5}. Best is trial 58 with value: 0.717074165299893.\u001b[0m\n"
     ]
    },
    {
     "name": "stdout",
     "output_type": "stream",
     "text": [
      "[17:50:58] WARNING: C:/Users/Administrator/workspace/xgboost-win64_release_1.4.0/src/learner.cc:231: Only 1 GPUs are visible, setting `gpu_id` to 0\n",
      "[0]\tvalidation_0-rmse:6.69614\n",
      "[351]\tvalidation_0-rmse:0.71768\n"
     ]
    },
    {
     "name": "stderr",
     "output_type": "stream",
     "text": [
      "\u001b[32m[I 2021-08-30 17:51:00,334]\u001b[0m Trial 60 finished with value: 0.7172124734457922 and parameters: {'learning_rate': 0.14072005193268475, 'reg_lambda': 0.0011042839685721695, 'reg_alpha': 10.980764876266031, 'subsample': 0.12985107613429347, 'colsample_bytree': 0.2523568294573987, 'max_depth': 7}. Best is trial 58 with value: 0.717074165299893.\u001b[0m\n"
     ]
    },
    {
     "name": "stdout",
     "output_type": "stream",
     "text": [
      "[17:51:00] WARNING: C:/Users/Administrator/workspace/xgboost-win64_release_1.4.0/src/learner.cc:231: Only 1 GPUs are visible, setting `gpu_id` to 0\n",
      "[0]\tvalidation_0-rmse:6.32009\n",
      "[336]\tvalidation_0-rmse:0.71755\n"
     ]
    },
    {
     "name": "stderr",
     "output_type": "stream",
     "text": [
      "\u001b[32m[I 2021-08-30 17:51:01,909]\u001b[0m Trial 61 finished with value: 0.7171723178011081 and parameters: {'learning_rate': 0.1895068284087317, 'reg_lambda': 7.00605749378069e-07, 'reg_alpha': 0.15647561282826117, 'subsample': 0.281188423345303, 'colsample_bytree': 0.4201020991205389, 'max_depth': 4}. Best is trial 58 with value: 0.717074165299893.\u001b[0m\n"
     ]
    },
    {
     "name": "stdout",
     "output_type": "stream",
     "text": [
      "[17:51:02] WARNING: C:/Users/Administrator/workspace/xgboost-win64_release_1.4.0/src/learner.cc:231: Only 1 GPUs are visible, setting `gpu_id` to 0\n",
      "[0]\tvalidation_0-rmse:7.60211\n",
      "[638]\tvalidation_0-rmse:0.71725\n"
     ]
    },
    {
     "name": "stderr",
     "output_type": "stream",
     "text": [
      "\u001b[32m[I 2021-08-30 17:51:04,669]\u001b[0m Trial 62 finished with value: 0.7172009183547323 and parameters: {'learning_rate': 0.023054184415036875, 'reg_lambda': 6.587766598783119e-08, 'reg_alpha': 0.024077465710315413, 'subsample': 0.25625831547398165, 'colsample_bytree': 0.37436687361189236, 'max_depth': 4}. Best is trial 58 with value: 0.717074165299893.\u001b[0m\n"
     ]
    },
    {
     "name": "stdout",
     "output_type": "stream",
     "text": [
      "[17:51:04] WARNING: C:/Users/Administrator/workspace/xgboost-win64_release_1.4.0/src/learner.cc:231: Only 1 GPUs are visible, setting `gpu_id` to 0\n",
      "[0]\tvalidation_0-rmse:6.38612\n",
      "[342]\tvalidation_0-rmse:0.71796\n"
     ]
    },
    {
     "name": "stderr",
     "output_type": "stream",
     "text": [
      "\u001b[32m[I 2021-08-30 17:51:07,049]\u001b[0m Trial 63 finished with value: 0.7173647575797947 and parameters: {'learning_rate': 0.18093003823480416, 'reg_lambda': 1.979787717685166e-08, 'reg_alpha': 0.0019413334982231404, 'subsample': 0.1970297296815018, 'colsample_bytree': 0.28941817358648547, 'max_depth': 6}. Best is trial 58 with value: 0.717074165299893.\u001b[0m\n"
     ]
    },
    {
     "name": "stdout",
     "output_type": "stream",
     "text": [
      "[17:51:07] WARNING: C:/Users/Administrator/workspace/xgboost-win64_release_1.4.0/src/learner.cc:231: Only 1 GPUs are visible, setting `gpu_id` to 0\n",
      "[0]\tvalidation_0-rmse:7.54630\n",
      "[606]\tvalidation_0-rmse:0.71721\n"
     ]
    },
    {
     "name": "stderr",
     "output_type": "stream",
     "text": [
      "\u001b[32m[I 2021-08-30 17:51:09,253]\u001b[0m Trial 64 finished with value: 0.7171550241917612 and parameters: {'learning_rate': 0.030290392549794338, 'reg_lambda': 5.725741551108033e-06, 'reg_alpha': 1.6998359932476614, 'subsample': 0.30895261695131715, 'colsample_bytree': 0.8210111883747979, 'max_depth': 3}. Best is trial 58 with value: 0.717074165299893.\u001b[0m\n"
     ]
    },
    {
     "name": "stdout",
     "output_type": "stream",
     "text": [
      "[17:51:09] WARNING: C:/Users/Administrator/workspace/xgboost-win64_release_1.4.0/src/learner.cc:231: Only 1 GPUs are visible, setting `gpu_id` to 0\n",
      "[0]\tvalidation_0-rmse:7.46434\n",
      "[998]\tvalidation_0-rmse:0.71714\n"
     ]
    },
    {
     "name": "stderr",
     "output_type": "stream",
     "text": [
      "\u001b[32m[I 2021-08-30 17:51:11,961]\u001b[0m Trial 65 finished with value: 0.7171363692486531 and parameters: {'learning_rate': 0.04094256206373504, 'reg_lambda': 1.4796722704477071e-07, 'reg_alpha': 0.05795573529571219, 'subsample': 0.3528673155388329, 'colsample_bytree': 0.20924545084506618, 'max_depth': 1}. Best is trial 58 with value: 0.717074165299893.\u001b[0m\n"
     ]
    },
    {
     "name": "stdout",
     "output_type": "stream",
     "text": [
      "[17:51:12] WARNING: C:/Users/Administrator/workspace/xgboost-win64_release_1.4.0/src/learner.cc:231: Only 1 GPUs are visible, setting `gpu_id` to 0\n",
      "[0]\tvalidation_0-rmse:7.39688\n",
      "[514]\tvalidation_0-rmse:0.71722\n"
     ]
    },
    {
     "name": "stderr",
     "output_type": "stream",
     "text": [
      "\u001b[32m[I 2021-08-30 17:51:13,950]\u001b[0m Trial 66 finished with value: 0.7171392281220805 and parameters: {'learning_rate': 0.04967945353879709, 'reg_lambda': 1.456921315816107e-06, 'reg_alpha': 0.3387356757262372, 'subsample': 0.4892574526941083, 'colsample_bytree': 0.33191530478641096, 'max_depth': 3}. Best is trial 58 with value: 0.717074165299893.\u001b[0m\n"
     ]
    },
    {
     "name": "stdout",
     "output_type": "stream",
     "text": [
      "[17:51:14] WARNING: C:/Users/Administrator/workspace/xgboost-win64_release_1.4.0/src/learner.cc:231: Only 1 GPUs are visible, setting `gpu_id` to 0\n",
      "[0]\tvalidation_0-rmse:7.01076\n",
      "[1000]\tvalidation_0-rmse:0.71728\n",
      "[1894]\tvalidation_0-rmse:0.71727\n"
     ]
    },
    {
     "name": "stderr",
     "output_type": "stream",
     "text": [
      "\u001b[32m[I 2021-08-30 17:51:18,902]\u001b[0m Trial 67 finished with value: 0.7172664534906118 and parameters: {'learning_rate': 0.09986640360666936, 'reg_lambda': 1.2017951669181585e-05, 'reg_alpha': 99.57113242350113, 'subsample': 0.21887155295889982, 'colsample_bytree': 0.13375231807131605, 'max_depth': 1}. Best is trial 58 with value: 0.717074165299893.\u001b[0m\n"
     ]
    },
    {
     "name": "stdout",
     "output_type": "stream",
     "text": [
      "[17:51:19] WARNING: C:/Users/Administrator/workspace/xgboost-win64_release_1.4.0/src/learner.cc:231: Only 1 GPUs are visible, setting `gpu_id` to 0\n",
      "[0]\tvalidation_0-rmse:7.51743\n",
      "[525]\tvalidation_0-rmse:0.71736\n"
     ]
    },
    {
     "name": "stderr",
     "output_type": "stream",
     "text": [
      "\u001b[32m[I 2021-08-30 17:51:21,927]\u001b[0m Trial 68 finished with value: 0.7172359353271901 and parameters: {'learning_rate': 0.034046048682191875, 'reg_lambda': 1.1270174523074693e-08, 'reg_alpha': 0.020227990183020524, 'subsample': 0.37839234594606647, 'colsample_bytree': 0.481448411746736, 'max_depth': 5}. Best is trial 58 with value: 0.717074165299893.\u001b[0m\n"
     ]
    },
    {
     "name": "stdout",
     "output_type": "stream",
     "text": [
      "[17:51:22] WARNING: C:/Users/Administrator/workspace/xgboost-win64_release_1.4.0/src/learner.cc:231: Only 1 GPUs are visible, setting `gpu_id` to 0\n",
      "[0]\tvalidation_0-rmse:6.88066\n",
      "[517]\tvalidation_0-rmse:0.71714\n"
     ]
    },
    {
     "name": "stderr",
     "output_type": "stream",
     "text": [
      "\u001b[32m[I 2021-08-30 17:51:23,459]\u001b[0m Trial 69 finished with value: 0.7170901998573032 and parameters: {'learning_rate': 0.11677300819879964, 'reg_lambda': 6.40017733058006e-08, 'reg_alpha': 1.2566126505648676, 'subsample': 0.10709373779438264, 'colsample_bytree': 0.4227506863149285, 'max_depth': 1}. Best is trial 58 with value: 0.717074165299893.\u001b[0m\n"
     ]
    },
    {
     "name": "stdout",
     "output_type": "stream",
     "text": [
      "[17:51:23] WARNING: C:/Users/Administrator/workspace/xgboost-win64_release_1.4.0/src/learner.cc:231: Only 1 GPUs are visible, setting `gpu_id` to 0\n",
      "[0]\tvalidation_0-rmse:6.74498\n",
      "[434]\tvalidation_0-rmse:0.71710\n"
     ]
    },
    {
     "name": "stderr",
     "output_type": "stream",
     "text": [
      "\u001b[32m[I 2021-08-30 17:51:24,842]\u001b[0m Trial 70 finished with value: 0.7170474651532209 and parameters: {'learning_rate': 0.13436581110215096, 'reg_lambda': 4.588358133600196e-08, 'reg_alpha': 7.799895898401937, 'subsample': 0.1409220377920261, 'colsample_bytree': 0.4291595839258797, 'max_depth': 1}. Best is trial 70 with value: 0.7170474651532209.\u001b[0m\n"
     ]
    },
    {
     "name": "stdout",
     "output_type": "stream",
     "text": [
      "[17:51:25] WARNING: C:/Users/Administrator/workspace/xgboost-win64_release_1.4.0/src/learner.cc:231: Only 1 GPUs are visible, setting `gpu_id` to 0\n",
      "[0]\tvalidation_0-rmse:6.90420\n",
      "[719]\tvalidation_0-rmse:0.71714\n"
     ]
    },
    {
     "name": "stderr",
     "output_type": "stream",
     "text": [
      "\u001b[32m[I 2021-08-30 17:51:26,983]\u001b[0m Trial 71 finished with value: 0.7171166689980955 and parameters: {'learning_rate': 0.11373071108334762, 'reg_lambda': 4.858418575243926e-08, 'reg_alpha': 6.235853527882624, 'subsample': 0.10355699672204806, 'colsample_bytree': 0.42682562798401374, 'max_depth': 1}. Best is trial 70 with value: 0.7170474651532209.\u001b[0m\n"
     ]
    },
    {
     "name": "stdout",
     "output_type": "stream",
     "text": [
      "[17:51:27] WARNING: C:/Users/Administrator/workspace/xgboost-win64_release_1.4.0/src/learner.cc:231: Only 1 GPUs are visible, setting `gpu_id` to 0\n",
      "[0]\tvalidation_0-rmse:6.66825\n",
      "[415]\tvalidation_0-rmse:0.71712\n"
     ]
    },
    {
     "name": "stderr",
     "output_type": "stream",
     "text": [
      "\u001b[32m[I 2021-08-30 17:51:28,397]\u001b[0m Trial 72 finished with value: 0.7170816724537691 and parameters: {'learning_rate': 0.14429352378308122, 'reg_lambda': 2.1691228518550724e-08, 'reg_alpha': 1.0006357299793476, 'subsample': 0.17022207345306214, 'colsample_bytree': 0.3475273854685222, 'max_depth': 1}. Best is trial 70 with value: 0.7170474651532209.\u001b[0m\n"
     ]
    },
    {
     "name": "stdout",
     "output_type": "stream",
     "text": [
      "[17:51:28] WARNING: C:/Users/Administrator/workspace/xgboost-win64_release_1.4.0/src/learner.cc:231: Only 1 GPUs are visible, setting `gpu_id` to 0\n",
      "[0]\tvalidation_0-rmse:6.71659\n",
      "[1000]\tvalidation_0-rmse:0.71717\n",
      "[1299]\tvalidation_0-rmse:0.71720\n"
     ]
    },
    {
     "name": "stderr",
     "output_type": "stream",
     "text": [
      "\u001b[32m[I 2021-08-30 17:51:32,111]\u001b[0m Trial 73 finished with value: 0.7171687298472361 and parameters: {'learning_rate': 0.1380902259751589, 'reg_lambda': 1.8414847981328136e-08, 'reg_alpha': 42.64654673457664, 'subsample': 0.1433502737038199, 'colsample_bytree': 0.3483122334320638, 'max_depth': 1}. Best is trial 70 with value: 0.7170474651532209.\u001b[0m\n"
     ]
    },
    {
     "name": "stdout",
     "output_type": "stream",
     "text": [
      "[17:51:32] WARNING: C:/Users/Administrator/workspace/xgboost-win64_release_1.4.0/src/learner.cc:231: Only 1 GPUs are visible, setting `gpu_id` to 0\n",
      "[0]\tvalidation_0-rmse:6.13668\n",
      "[629]\tvalidation_0-rmse:0.71723\n"
     ]
    },
    {
     "name": "stderr",
     "output_type": "stream",
     "text": [
      "\u001b[32m[I 2021-08-30 17:51:34,024]\u001b[0m Trial 74 finished with value: 0.7171931595743 and parameters: {'learning_rate': 0.2133965682516293, 'reg_lambda': 2.513276841862078e-07, 'reg_alpha': 1.2798685853011604, 'subsample': 0.1695982426622113, 'colsample_bytree': 0.38611794705041813, 'max_depth': 1}. Best is trial 70 with value: 0.7170474651532209.\u001b[0m\n"
     ]
    },
    {
     "name": "stdout",
     "output_type": "stream",
     "text": [
      "[17:51:34] WARNING: C:/Users/Administrator/workspace/xgboost-win64_release_1.4.0/src/learner.cc:231: Only 1 GPUs are visible, setting `gpu_id` to 0\n",
      "[0]\tvalidation_0-rmse:6.82966\n",
      "[542]\tvalidation_0-rmse:0.71709\n"
     ]
    },
    {
     "name": "stderr",
     "output_type": "stream",
     "text": [
      "\u001b[32m[I 2021-08-30 17:51:35,831]\u001b[0m Trial 75 finished with value: 0.717064060387903 and parameters: {'learning_rate': 0.12342421839850617, 'reg_lambda': 0.2668614442044953, 'reg_alpha': 3.1830057015747766, 'subsample': 0.10018602121964085, 'colsample_bytree': 0.31238701651105355, 'max_depth': 1}. Best is trial 70 with value: 0.7170474651532209.\u001b[0m\n"
     ]
    },
    {
     "name": "stdout",
     "output_type": "stream",
     "text": [
      "[17:51:35] WARNING: C:/Users/Administrator/workspace/xgboost-win64_release_1.4.0/src/learner.cc:231: Only 1 GPUs are visible, setting `gpu_id` to 0\n",
      "[0]\tvalidation_0-rmse:6.84919\n",
      "[696]\tvalidation_0-rmse:0.71719\n"
     ]
    },
    {
     "name": "stderr",
     "output_type": "stream",
     "text": [
      "\u001b[32m[I 2021-08-30 17:51:37,929]\u001b[0m Trial 76 finished with value: 0.7171863086391803 and parameters: {'learning_rate': 0.12111011653269499, 'reg_lambda': 37.8503871940866, 'reg_alpha': 10.99447724834517, 'subsample': 0.101397958579439, 'colsample_bytree': 0.5565574606487588, 'max_depth': 1}. Best is trial 70 with value: 0.7170474651532209.\u001b[0m\n"
     ]
    },
    {
     "name": "stdout",
     "output_type": "stream",
     "text": [
      "[17:51:38] WARNING: C:/Users/Administrator/workspace/xgboost-win64_release_1.4.0/src/learner.cc:231: Only 1 GPUs are visible, setting `gpu_id` to 0\n",
      "[0]\tvalidation_0-rmse:6.52335\n",
      "[418]\tvalidation_0-rmse:0.71715\n"
     ]
    },
    {
     "name": "stderr",
     "output_type": "stream",
     "text": [
      "\u001b[32m[I 2021-08-30 17:51:39,258]\u001b[0m Trial 77 finished with value: 0.7170982465025175 and parameters: {'learning_rate': 0.16317097721449067, 'reg_lambda': 0.2707097704923753, 'reg_alpha': 3.3414734321268567, 'subsample': 0.1367727719542555, 'colsample_bytree': 0.44462267896428986, 'max_depth': 1}. Best is trial 70 with value: 0.7170474651532209.\u001b[0m\n"
     ]
    },
    {
     "name": "stdout",
     "output_type": "stream",
     "text": [
      "[17:51:39] WARNING: C:/Users/Administrator/workspace/xgboost-win64_release_1.4.0/src/learner.cc:231: Only 1 GPUs are visible, setting `gpu_id` to 0\n",
      "[0]\tvalidation_0-rmse:6.55010\n",
      "[592]\tvalidation_0-rmse:0.71717\n"
     ]
    },
    {
     "name": "stderr",
     "output_type": "stream",
     "text": [
      "\u001b[32m[I 2021-08-30 17:51:41,051]\u001b[0m Trial 78 finished with value: 0.7171606505018407 and parameters: {'learning_rate': 0.1597236856138654, 'reg_lambda': 0.20347071410819983, 'reg_alpha': 39.993939661866726, 'subsample': 0.1382248526136835, 'colsample_bytree': 0.4570053341529469, 'max_depth': 1}. Best is trial 70 with value: 0.7170474651532209.\u001b[0m\n"
     ]
    },
    {
     "name": "stdout",
     "output_type": "stream",
     "text": [
      "[17:51:41] WARNING: C:/Users/Administrator/workspace/xgboost-win64_release_1.4.0/src/learner.cc:231: Only 1 GPUs are visible, setting `gpu_id` to 0\n",
      "[0]\tvalidation_0-rmse:6.39215\n",
      "[351]\tvalidation_0-rmse:0.71732\n"
     ]
    },
    {
     "name": "stderr",
     "output_type": "stream",
     "text": [
      "\u001b[32m[I 2021-08-30 17:51:42,334]\u001b[0m Trial 79 finished with value: 0.7171920614038919 and parameters: {'learning_rate': 0.1801657046302945, 'reg_lambda': 2.0021636379414116, 'reg_alpha': 3.3799909924504523, 'subsample': 0.1741429401725987, 'colsample_bytree': 0.39855382923625177, 'max_depth': 2}. Best is trial 70 with value: 0.7170474651532209.\u001b[0m\n"
     ]
    },
    {
     "name": "stdout",
     "output_type": "stream",
     "text": [
      "[17:51:42] WARNING: C:/Users/Administrator/workspace/xgboost-win64_release_1.4.0/src/learner.cc:231: Only 1 GPUs are visible, setting `gpu_id` to 0\n",
      "[0]\tvalidation_0-rmse:6.17056\n",
      "[928]\tvalidation_0-rmse:0.71724\n"
     ]
    },
    {
     "name": "stderr",
     "output_type": "stream",
     "text": [
      "\u001b[32m[I 2021-08-30 17:51:45,198]\u001b[0m Trial 80 finished with value: 0.717223150233103 and parameters: {'learning_rate': 0.2090985106168307, 'reg_lambda': 0.04900498944220058, 'reg_alpha': 26.34404630346624, 'subsample': 0.12369871056879267, 'colsample_bytree': 0.43869586056355936, 'max_depth': 1}. Best is trial 70 with value: 0.7170474651532209.\u001b[0m\n"
     ]
    },
    {
     "name": "stdout",
     "output_type": "stream",
     "text": [
      "[17:51:45] WARNING: C:/Users/Administrator/workspace/xgboost-win64_release_1.4.0/src/learner.cc:231: Only 1 GPUs are visible, setting `gpu_id` to 0\n",
      "[0]\tvalidation_0-rmse:6.73303\n",
      "[598]\tvalidation_0-rmse:0.71713\n"
     ]
    },
    {
     "name": "stderr",
     "output_type": "stream",
     "text": [
      "\u001b[32m[I 2021-08-30 17:51:47,023]\u001b[0m Trial 81 finished with value: 0.7171061889353684 and parameters: {'learning_rate': 0.1359373060283664, 'reg_lambda': 0.7905026662010508, 'reg_alpha': 9.287210750763869, 'subsample': 0.1505029803369104, 'colsample_bytree': 0.31260411048434167, 'max_depth': 1}. Best is trial 70 with value: 0.7170474651532209.\u001b[0m\n"
     ]
    },
    {
     "name": "stdout",
     "output_type": "stream",
     "text": [
      "[17:51:47] WARNING: C:/Users/Administrator/workspace/xgboost-win64_release_1.4.0/src/learner.cc:231: Only 1 GPUs are visible, setting `gpu_id` to 0\n",
      "[0]\tvalidation_0-rmse:6.49214\n",
      "[393]\tvalidation_0-rmse:0.71719\n"
     ]
    },
    {
     "name": "stderr",
     "output_type": "stream",
     "text": [
      "\u001b[32m[I 2021-08-30 17:51:48,313]\u001b[0m Trial 82 finished with value: 0.7171277293938246 and parameters: {'learning_rate': 0.1672474599259157, 'reg_lambda': 0.07452946890110998, 'reg_alpha': 1.7190678664108825, 'subsample': 0.11491996683890246, 'colsample_bytree': 0.36412205984130075, 'max_depth': 1}. Best is trial 70 with value: 0.7170474651532209.\u001b[0m\n"
     ]
    },
    {
     "name": "stdout",
     "output_type": "stream",
     "text": [
      "[17:51:48] WARNING: C:/Users/Administrator/workspace/xgboost-win64_release_1.4.0/src/learner.cc:231: Only 1 GPUs are visible, setting `gpu_id` to 0\n",
      "[0]\tvalidation_0-rmse:6.63752\n",
      "[546]\tvalidation_0-rmse:0.71719\n"
     ]
    },
    {
     "name": "stderr",
     "output_type": "stream",
     "text": [
      "\u001b[32m[I 2021-08-30 17:51:49,943]\u001b[0m Trial 83 finished with value: 0.7171481628097642 and parameters: {'learning_rate': 0.1483136276642695, 'reg_lambda': 0.0032401452091785844, 'reg_alpha': 0.5456780971154995, 'subsample': 0.1861348789399539, 'colsample_bytree': 0.532063578286439, 'max_depth': 1}. Best is trial 70 with value: 0.7170474651532209.\u001b[0m\n"
     ]
    },
    {
     "name": "stdout",
     "output_type": "stream",
     "text": [
      "[17:51:50] WARNING: C:/Users/Administrator/workspace/xgboost-win64_release_1.4.0/src/learner.cc:231: Only 1 GPUs are visible, setting `gpu_id` to 0\n",
      "[0]\tvalidation_0-rmse:6.83553\n",
      "[559]\tvalidation_0-rmse:0.71717\n"
     ]
    },
    {
     "name": "stderr",
     "output_type": "stream",
     "text": [
      "\u001b[32m[I 2021-08-30 17:51:51,622]\u001b[0m Trial 84 finished with value: 0.7171322697790999 and parameters: {'learning_rate': 0.12257981509908457, 'reg_lambda': 0.0003426155728736327, 'reg_alpha': 3.78472401923671, 'subsample': 0.20931185144526523, 'colsample_bytree': 0.40517474172119206, 'max_depth': 1}. Best is trial 70 with value: 0.7170474651532209.\u001b[0m\n"
     ]
    },
    {
     "name": "stdout",
     "output_type": "stream",
     "text": [
      "[17:51:51] WARNING: C:/Users/Administrator/workspace/xgboost-win64_release_1.4.0/src/learner.cc:231: Only 1 GPUs are visible, setting `gpu_id` to 0\n",
      "[0]\tvalidation_0-rmse:6.98670\n",
      "[376]\tvalidation_0-rmse:0.71724\n"
     ]
    },
    {
     "name": "stderr",
     "output_type": "stream",
     "text": [
      "\u001b[32m[I 2021-08-30 17:51:52,991]\u001b[0m Trial 85 finished with value: 0.7171067018933057 and parameters: {'learning_rate': 0.1029343342028214, 'reg_lambda': 0.346247303727707, 'reg_alpha': 0.7525651134953685, 'subsample': 0.1529800916573173, 'colsample_bytree': 0.37961985675796195, 'max_depth': 2}. Best is trial 70 with value: 0.7170474651532209.\u001b[0m\n"
     ]
    },
    {
     "name": "stdout",
     "output_type": "stream",
     "text": [
      "[17:51:53] WARNING: C:/Users/Administrator/workspace/xgboost-win64_release_1.4.0/src/learner.cc:231: Only 1 GPUs are visible, setting `gpu_id` to 0\n",
      "[0]\tvalidation_0-rmse:6.76952\n",
      "[538]\tvalidation_0-rmse:0.71713\n"
     ]
    },
    {
     "name": "stderr",
     "output_type": "stream",
     "text": [
      "\u001b[32m[I 2021-08-30 17:51:54,602]\u001b[0m Trial 86 finished with value: 0.7171161272686725 and parameters: {'learning_rate': 0.13115456390155858, 'reg_lambda': 0.01912782907735731, 'reg_alpha': 5.718894510778956, 'subsample': 0.2406420587118614, 'colsample_bytree': 0.3252370197267549, 'max_depth': 1}. Best is trial 70 with value: 0.7170474651532209.\u001b[0m\n"
     ]
    },
    {
     "name": "stdout",
     "output_type": "stream",
     "text": [
      "[17:51:54] WARNING: C:/Users/Administrator/workspace/xgboost-win64_release_1.4.0/src/learner.cc:231: Only 1 GPUs are visible, setting `gpu_id` to 0\n",
      "[0]\tvalidation_0-rmse:6.21063\n",
      "[763]\tvalidation_0-rmse:0.71726\n"
     ]
    },
    {
     "name": "stderr",
     "output_type": "stream",
     "text": [
      "\u001b[32m[I 2021-08-30 17:51:56,875]\u001b[0m Trial 87 finished with value: 0.7171760184468379 and parameters: {'learning_rate': 0.20395358782140358, 'reg_lambda': 9.019747226996551e-08, 'reg_alpha': 17.153539892964808, 'subsample': 0.10063497014862678, 'colsample_bytree': 0.3484968752890904, 'max_depth': 1}. Best is trial 70 with value: 0.7170474651532209.\u001b[0m\n"
     ]
    },
    {
     "name": "stdout",
     "output_type": "stream",
     "text": [
      "[17:51:57] WARNING: C:/Users/Administrator/workspace/xgboost-win64_release_1.4.0/src/learner.cc:231: Only 1 GPUs are visible, setting `gpu_id` to 0\n",
      "[0]\tvalidation_0-rmse:6.90813\n",
      "[363]\tvalidation_0-rmse:0.71780\n"
     ]
    },
    {
     "name": "stderr",
     "output_type": "stream",
     "text": [
      "\u001b[32m[I 2021-08-30 17:51:59,231]\u001b[0m Trial 88 finished with value: 0.7172209783886346 and parameters: {'learning_rate': 0.11310712152315251, 'reg_lambda': 3.4917932017469995e-08, 'reg_alpha': 2.090898794960838, 'subsample': 0.1754557298298309, 'colsample_bytree': 0.27778827552949925, 'max_depth': 6}. Best is trial 70 with value: 0.7170474651532209.\u001b[0m\n"
     ]
    },
    {
     "name": "stdout",
     "output_type": "stream",
     "text": [
      "[17:51:59] WARNING: C:/Users/Administrator/workspace/xgboost-win64_release_1.4.0/src/learner.cc:231: Only 1 GPUs are visible, setting `gpu_id` to 0\n",
      "[0]\tvalidation_0-rmse:7.05816\n",
      "[416]\tvalidation_0-rmse:0.71711\n"
     ]
    },
    {
     "name": "stderr",
     "output_type": "stream",
     "text": [
      "\u001b[32m[I 2021-08-30 17:52:00,450]\u001b[0m Trial 89 finished with value: 0.7170807722705997 and parameters: {'learning_rate': 0.09375661285948281, 'reg_lambda': 13.021132461655526, 'reg_alpha': 0.3206410892364829, 'subsample': 0.1307941300431946, 'colsample_bytree': 0.4321204132187111, 'max_depth': 1}. Best is trial 70 with value: 0.7170474651532209.\u001b[0m\n"
     ]
    },
    {
     "name": "stdout",
     "output_type": "stream",
     "text": [
      "[17:52:00] WARNING: C:/Users/Administrator/workspace/xgboost-win64_release_1.4.0/src/learner.cc:231: Only 1 GPUs are visible, setting `gpu_id` to 0\n",
      "[0]\tvalidation_0-rmse:7.03769\n",
      "[435]\tvalidation_0-rmse:0.71714\n"
     ]
    },
    {
     "name": "stderr",
     "output_type": "stream",
     "text": [
      "\u001b[32m[I 2021-08-30 17:52:01,830]\u001b[0m Trial 90 finished with value: 0.7171046207269877 and parameters: {'learning_rate': 0.09637723545658844, 'reg_lambda': 5.319480416787889, 'reg_alpha': 0.27352278179636236, 'subsample': 0.12295977319982332, 'colsample_bytree': 0.47379264949821964, 'max_depth': 1}. Best is trial 70 with value: 0.7170474651532209.\u001b[0m\n"
     ]
    },
    {
     "name": "stdout",
     "output_type": "stream",
     "text": [
      "[17:52:02] WARNING: C:/Users/Administrator/workspace/xgboost-win64_release_1.4.0/src/learner.cc:231: Only 1 GPUs are visible, setting `gpu_id` to 0\n",
      "[0]\tvalidation_0-rmse:7.07818\n",
      "[419]\tvalidation_0-rmse:0.71711\n"
     ]
    },
    {
     "name": "stderr",
     "output_type": "stream",
     "text": [
      "\u001b[32m[I 2021-08-30 17:52:03,160]\u001b[0m Trial 91 finished with value: 0.717080747884742 and parameters: {'learning_rate': 0.09108357723028288, 'reg_lambda': 2.4887322665429222e-08, 'reg_alpha': 1.1378605660408043, 'subsample': 0.14835935808205888, 'colsample_bytree': 0.4330306129792727, 'max_depth': 1}. Best is trial 70 with value: 0.7170474651532209.\u001b[0m\n"
     ]
    },
    {
     "name": "stdout",
     "output_type": "stream",
     "text": [
      "[17:52:03] WARNING: C:/Users/Administrator/workspace/xgboost-win64_release_1.4.0/src/learner.cc:231: Only 1 GPUs are visible, setting `gpu_id` to 0\n",
      "[0]\tvalidation_0-rmse:7.09292\n",
      "[451]\tvalidation_0-rmse:0.71715\n"
     ]
    },
    {
     "name": "stderr",
     "output_type": "stream",
     "text": [
      "\u001b[32m[I 2021-08-30 17:52:04,562]\u001b[0m Trial 92 finished with value: 0.7171193810388308 and parameters: {'learning_rate': 0.08923947353932192, 'reg_lambda': 20.06655347427661, 'reg_alpha': 0.9012604234731145, 'subsample': 0.14124070545341594, 'colsample_bytree': 0.5117133156504798, 'max_depth': 1}. Best is trial 70 with value: 0.7170474651532209.\u001b[0m\n"
     ]
    },
    {
     "name": "stdout",
     "output_type": "stream",
     "text": [
      "[17:52:04] WARNING: C:/Users/Administrator/workspace/xgboost-win64_release_1.4.0/src/learner.cc:231: Only 1 GPUs are visible, setting `gpu_id` to 0\n",
      "[0]\tvalidation_0-rmse:6.94362\n",
      "[442]\tvalidation_0-rmse:0.71712\n"
     ]
    },
    {
     "name": "stderr",
     "output_type": "stream",
     "text": [
      "\u001b[32m[I 2021-08-30 17:52:05,952]\u001b[0m Trial 93 finished with value: 0.7170712644561389 and parameters: {'learning_rate': 0.10859132389856824, 'reg_lambda': 9.253475709023103, 'reg_alpha': 0.45764887916841085, 'subsample': 0.19777583903712717, 'colsample_bytree': 0.4337162798195522, 'max_depth': 1}. Best is trial 70 with value: 0.7170474651532209.\u001b[0m\n"
     ]
    },
    {
     "name": "stdout",
     "output_type": "stream",
     "text": [
      "[17:52:06] WARNING: C:/Users/Administrator/workspace/xgboost-win64_release_1.4.0/src/learner.cc:231: Only 1 GPUs are visible, setting `gpu_id` to 0\n",
      "[0]\tvalidation_0-rmse:6.96008\n",
      "[560]\tvalidation_0-rmse:0.71722\n"
     ]
    },
    {
     "name": "stderr",
     "output_type": "stream",
     "text": [
      "\u001b[32m[I 2021-08-30 17:52:07,673]\u001b[0m Trial 94 finished with value: 0.7171839872460835 and parameters: {'learning_rate': 0.10661588964685378, 'reg_lambda': 73.61619497431383, 'reg_alpha': 0.5316029046089397, 'subsample': 0.19500658513203467, 'colsample_bytree': 0.4276385940839922, 'max_depth': 1}. Best is trial 70 with value: 0.7170474651532209.\u001b[0m\n"
     ]
    },
    {
     "name": "stdout",
     "output_type": "stream",
     "text": [
      "[17:52:07] WARNING: C:/Users/Administrator/workspace/xgboost-win64_release_1.4.0/src/learner.cc:231: Only 1 GPUs are visible, setting `gpu_id` to 0\n",
      "[0]\tvalidation_0-rmse:7.22847\n",
      "[724]\tvalidation_0-rmse:0.71718\n"
     ]
    },
    {
     "name": "stderr",
     "output_type": "stream",
     "text": [
      "\u001b[32m[I 2021-08-30 17:52:09,773]\u001b[0m Trial 95 finished with value: 0.7171557050919491 and parameters: {'learning_rate': 0.0716099772091232, 'reg_lambda': 20.020084276584292, 'reg_alpha': 1.0716748612180667, 'subsample': 0.16183082052990896, 'colsample_bytree': 0.5835512390164671, 'max_depth': 1}. Best is trial 70 with value: 0.7170474651532209.\u001b[0m\n"
     ]
    },
    {
     "name": "stdout",
     "output_type": "stream",
     "text": [
      "[17:52:09] WARNING: C:/Users/Administrator/workspace/xgboost-win64_release_1.4.0/src/learner.cc:231: Only 1 GPUs are visible, setting `gpu_id` to 0\n",
      "[0]\tvalidation_0-rmse:6.78572\n",
      "[412]\tvalidation_0-rmse:0.71735\n"
     ]
    },
    {
     "name": "stderr",
     "output_type": "stream",
     "text": [
      "\u001b[32m[I 2021-08-30 17:52:11,241]\u001b[0m Trial 96 finished with value: 0.717185340380931 and parameters: {'learning_rate': 0.1290356236323161, 'reg_lambda': 2.2866381887443286, 'reg_alpha': 0.34291868007926163, 'subsample': 0.21126195935861886, 'colsample_bytree': 0.40894153896506624, 'max_depth': 2}. Best is trial 70 with value: 0.7170474651532209.\u001b[0m\n"
     ]
    },
    {
     "name": "stdout",
     "output_type": "stream",
     "text": [
      "[17:52:11] WARNING: C:/Users/Administrator/workspace/xgboost-win64_release_1.4.0/src/learner.cc:231: Only 1 GPUs are visible, setting `gpu_id` to 0\n",
      "[0]\tvalidation_0-rmse:6.64736\n",
      "[418]\tvalidation_0-rmse:0.71718\n"
     ]
    },
    {
     "name": "stderr",
     "output_type": "stream",
     "text": [
      "\u001b[32m[I 2021-08-30 17:52:12,549]\u001b[0m Trial 97 finished with value: 0.717148429580561 and parameters: {'learning_rate': 0.1470993375681188, 'reg_lambda': 4.2064200442531625, 'reg_alpha': 0.00011451925527989367, 'subsample': 0.1185590507665613, 'colsample_bytree': 0.4642672247331273, 'max_depth': 1}. Best is trial 70 with value: 0.7170474651532209.\u001b[0m\n"
     ]
    },
    {
     "name": "stdout",
     "output_type": "stream",
     "text": [
      "[17:52:12] WARNING: C:/Users/Administrator/workspace/xgboost-win64_release_1.4.0/src/learner.cc:231: Only 1 GPUs are visible, setting `gpu_id` to 0\n",
      "[0]\tvalidation_0-rmse:6.89477\n",
      "[497]\tvalidation_0-rmse:0.71727\n"
     ]
    },
    {
     "name": "stderr",
     "output_type": "stream",
     "text": [
      "\u001b[32m[I 2021-08-30 17:52:14,277]\u001b[0m Trial 98 finished with value: 0.7171341678509715 and parameters: {'learning_rate': 0.11495951709063494, 'reg_lambda': 9.370293907494021, 'reg_alpha': 9.177751150007945, 'subsample': 0.19000071288033524, 'colsample_bytree': 0.30473571754678386, 'max_depth': 2}. Best is trial 70 with value: 0.7170474651532209.\u001b[0m\n"
     ]
    },
    {
     "name": "stdout",
     "output_type": "stream",
     "text": [
      "[17:52:14] WARNING: C:/Users/Administrator/workspace/xgboost-win64_release_1.4.0/src/learner.cc:231: Only 1 GPUs are visible, setting `gpu_id` to 0\n",
      "[0]\tvalidation_0-rmse:7.18424\n",
      "[595]\tvalidation_0-rmse:0.71714\n"
     ]
    },
    {
     "name": "stderr",
     "output_type": "stream",
     "text": [
      "\u001b[32m[I 2021-08-30 17:52:16,077]\u001b[0m Trial 99 finished with value: 0.7171230659386829 and parameters: {'learning_rate': 0.0772940707709594, 'reg_lambda': 0.9441098254788572, 'reg_alpha': 2.317778968620634, 'subsample': 0.23465429807746335, 'colsample_bytree': 0.387343456509143, 'max_depth': 1}. Best is trial 70 with value: 0.7170474651532209.\u001b[0m\n"
     ]
    },
    {
     "name": "stdout",
     "output_type": "stream",
     "text": [
      "[17:52:16] WARNING: C:/Users/Administrator/workspace/xgboost-win64_release_1.4.0/src/learner.cc:231: Only 1 GPUs are visible, setting `gpu_id` to 0\n",
      "[0]\tvalidation_0-rmse:7.11012\n",
      "[465]\tvalidation_0-rmse:0.71712\n"
     ]
    },
    {
     "name": "stderr",
     "output_type": "stream",
     "text": [
      "\u001b[32m[I 2021-08-30 17:52:17,494]\u001b[0m Trial 100 finished with value: 0.7171018137150955 and parameters: {'learning_rate': 0.0869069106950937, 'reg_lambda': 1.0848015517722052e-07, 'reg_alpha': 0.21913990281576942, 'subsample': 0.17575962365824194, 'colsample_bytree': 0.4946918177452596, 'max_depth': 1}. Best is trial 70 with value: 0.7170474651532209.\u001b[0m\n"
     ]
    },
    {
     "name": "stdout",
     "output_type": "stream",
     "text": [
      "[17:52:17] WARNING: C:/Users/Administrator/workspace/xgboost-win64_release_1.4.0/src/learner.cc:231: Only 1 GPUs are visible, setting `gpu_id` to 0\n",
      "[0]\tvalidation_0-rmse:6.48066\n",
      "[416]\tvalidation_0-rmse:0.71717\n"
     ]
    },
    {
     "name": "stderr",
     "output_type": "stream",
     "text": [
      "\u001b[32m[I 2021-08-30 17:52:18,841]\u001b[0m Trial 101 finished with value: 0.7171084061323786 and parameters: {'learning_rate': 0.16873403726595784, 'reg_lambda': 3.018255501457347e-08, 'reg_alpha': 4.09571327743423, 'subsample': 0.1336850931643899, 'colsample_bytree': 0.44339843520851097, 'max_depth': 1}. Best is trial 70 with value: 0.7170474651532209.\u001b[0m\n"
     ]
    },
    {
     "name": "stdout",
     "output_type": "stream",
     "text": [
      "[17:52:19] WARNING: C:/Users/Administrator/workspace/xgboost-win64_release_1.4.0/src/learner.cc:231: Only 1 GPUs are visible, setting `gpu_id` to 0\n",
      "[0]\tvalidation_0-rmse:6.83844\n",
      "[417]\tvalidation_0-rmse:0.71714\n"
     ]
    },
    {
     "name": "stderr",
     "output_type": "stream",
     "text": [
      "\u001b[32m[I 2021-08-30 17:52:20,188]\u001b[0m Trial 102 finished with value: 0.7171073349852433 and parameters: {'learning_rate': 0.12227097590699135, 'reg_lambda': 8.28163995450755, 'reg_alpha': 0.0006497334930486168, 'subsample': 0.13786800127404508, 'colsample_bytree': 0.45211462104622363, 'max_depth': 1}. Best is trial 70 with value: 0.7170474651532209.\u001b[0m\n"
     ]
    },
    {
     "name": "stdout",
     "output_type": "stream",
     "text": [
      "[17:52:20] WARNING: C:/Users/Administrator/workspace/xgboost-win64_release_1.4.0/src/learner.cc:231: Only 1 GPUs are visible, setting `gpu_id` to 0\n",
      "[0]\tvalidation_0-rmse:6.61445\n",
      "[543]\tvalidation_0-rmse:0.71719\n"
     ]
    },
    {
     "name": "stderr",
     "output_type": "stream",
     "text": [
      "\u001b[32m[I 2021-08-30 17:52:21,836]\u001b[0m Trial 103 finished with value: 0.7171531563722252 and parameters: {'learning_rate': 0.1515434306929171, 'reg_lambda': 44.40166810822348, 'reg_alpha': 1.2763795467195054, 'subsample': 0.15786186299548044, 'colsample_bytree': 0.4267610780925296, 'max_depth': 1}. Best is trial 70 with value: 0.7170474651532209.\u001b[0m\n"
     ]
    },
    {
     "name": "stdout",
     "output_type": "stream",
     "text": [
      "[17:52:21] WARNING: C:/Users/Administrator/workspace/xgboost-win64_release_1.4.0/src/learner.cc:231: Only 1 GPUs are visible, setting `gpu_id` to 0\n",
      "[0]\tvalidation_0-rmse:5.93531\n",
      "[644]\tvalidation_0-rmse:0.71723\n"
     ]
    },
    {
     "name": "stderr",
     "output_type": "stream",
     "text": [
      "\u001b[32m[I 2021-08-30 17:52:23,738]\u001b[0m Trial 104 finished with value: 0.717208703349016 and parameters: {'learning_rate': 0.23966077150766688, 'reg_lambda': 0.10622200444064317, 'reg_alpha': 2.954729593758165, 'subsample': 0.12709040871967295, 'colsample_bytree': 0.533193059048708, 'max_depth': 1}. Best is trial 70 with value: 0.7170474651532209.\u001b[0m\n"
     ]
    },
    {
     "name": "stdout",
     "output_type": "stream",
     "text": [
      "[17:52:23] WARNING: C:/Users/Administrator/workspace/xgboost-win64_release_1.4.0/src/learner.cc:231: Only 1 GPUs are visible, setting `gpu_id` to 0\n",
      "[0]\tvalidation_0-rmse:7.04604\n",
      "[483]\tvalidation_0-rmse:0.71737\n"
     ]
    },
    {
     "name": "stderr",
     "output_type": "stream",
     "text": [
      "\u001b[32m[I 2021-08-30 17:52:25,389]\u001b[0m Trial 105 finished with value: 0.7171527548095281 and parameters: {'learning_rate': 0.09527164051180555, 'reg_lambda': 5.0945764374635925e-08, 'reg_alpha': 6.216468615867137e-05, 'subsample': 0.10378276812715892, 'colsample_bytree': 0.339816448356129, 'max_depth': 2}. Best is trial 70 with value: 0.7170474651532209.\u001b[0m\n"
     ]
    },
    {
     "name": "stdout",
     "output_type": "stream",
     "text": [
      "[17:52:25] WARNING: C:/Users/Administrator/workspace/xgboost-win64_release_1.4.0/src/learner.cc:231: Only 1 GPUs are visible, setting `gpu_id` to 0\n",
      "[0]\tvalidation_0-rmse:6.97046\n",
      "[724]\tvalidation_0-rmse:0.71717\n"
     ]
    },
    {
     "name": "stderr",
     "output_type": "stream",
     "text": [
      "\u001b[32m[I 2021-08-30 17:52:27,513]\u001b[0m Trial 106 finished with value: 0.7171390540908652 and parameters: {'learning_rate': 0.10506817572928176, 'reg_lambda': 5.368178711718274e-07, 'reg_alpha': 0.41870622088799886, 'subsample': 0.1561222050909178, 'colsample_bytree': 0.23951441166869442, 'max_depth': 1}. Best is trial 70 with value: 0.7170474651532209.\u001b[0m\n"
     ]
    },
    {
     "name": "stdout",
     "output_type": "stream",
     "text": [
      "[17:52:27] WARNING: C:/Users/Administrator/workspace/xgboost-win64_release_1.4.0/src/learner.cc:231: Only 1 GPUs are visible, setting `gpu_id` to 0\n",
      "[0]\tvalidation_0-rmse:6.03625\n",
      "[559]\tvalidation_0-rmse:0.71730\n"
     ]
    },
    {
     "name": "stderr",
     "output_type": "stream",
     "text": [
      "\u001b[32m[I 2021-08-30 17:52:29,173]\u001b[0m Trial 107 finished with value: 0.7172480817589024 and parameters: {'learning_rate': 0.22646966837989954, 'reg_lambda': 2.4168844323437815e-07, 'reg_alpha': 0.00449979004315137, 'subsample': 0.2114072549807442, 'colsample_bytree': 0.3667734346616957, 'max_depth': 1}. Best is trial 70 with value: 0.7170474651532209.\u001b[0m\n"
     ]
    },
    {
     "name": "stdout",
     "output_type": "stream",
     "text": [
      "[17:52:29] WARNING: C:/Users/Administrator/workspace/xgboost-win64_release_1.4.0/src/learner.cc:231: Only 1 GPUs are visible, setting `gpu_id` to 0\n",
      "[0]\tvalidation_0-rmse:7.25887\n",
      "[545]\tvalidation_0-rmse:0.71714\n"
     ]
    },
    {
     "name": "stderr",
     "output_type": "stream",
     "text": [
      "\u001b[32m[I 2021-08-30 17:52:30,835]\u001b[0m Trial 108 finished with value: 0.717119728007231 and parameters: {'learning_rate': 0.06761854368881927, 'reg_lambda': 1.655608648656774e-08, 'reg_alpha': 5.641000362508466e-06, 'subsample': 0.19105359967475874, 'colsample_bytree': 0.415006401778829, 'max_depth': 1}. Best is trial 70 with value: 0.7170474651532209.\u001b[0m\n"
     ]
    },
    {
     "name": "stdout",
     "output_type": "stream",
     "text": [
      "[17:52:31] WARNING: C:/Users/Administrator/workspace/xgboost-win64_release_1.4.0/src/learner.cc:231: Only 1 GPUs are visible, setting `gpu_id` to 0\n",
      "[0]\tvalidation_0-rmse:6.30511\n",
      "[389]\tvalidation_0-rmse:0.71725\n"
     ]
    },
    {
     "name": "stderr",
     "output_type": "stream",
     "text": [
      "\u001b[32m[I 2021-08-30 17:52:32,077]\u001b[0m Trial 109 finished with value: 0.7171871053806285 and parameters: {'learning_rate': 0.19155283921554261, 'reg_lambda': 0.014751471240487719, 'reg_alpha': 1.4377980003150677, 'subsample': 0.11759904286838711, 'colsample_bytree': 0.49611950836040725, 'max_depth': 1}. Best is trial 70 with value: 0.7170474651532209.\u001b[0m\n"
     ]
    },
    {
     "name": "stdout",
     "output_type": "stream",
     "text": [
      "[17:52:32] WARNING: C:/Users/Administrator/workspace/xgboost-win64_release_1.4.0/src/learner.cc:231: Only 1 GPUs are visible, setting `gpu_id` to 0\n",
      "[0]\tvalidation_0-rmse:6.52857\n",
      "[352]\tvalidation_0-rmse:0.71775\n"
     ]
    },
    {
     "name": "stderr",
     "output_type": "stream",
     "text": [
      "\u001b[32m[I 2021-08-30 17:52:34,291]\u001b[0m Trial 110 finished with value: 0.7171951687937903 and parameters: {'learning_rate': 0.16244285422833482, 'reg_lambda': 0.9968436760205287, 'reg_alpha': 5.709058748159255, 'subsample': 0.17822754176864083, 'colsample_bytree': 0.3904732730055289, 'max_depth': 6}. Best is trial 70 with value: 0.7170474651532209.\u001b[0m\n"
     ]
    },
    {
     "name": "stdout",
     "output_type": "stream",
     "text": [
      "[17:52:34] WARNING: C:/Users/Administrator/workspace/xgboost-win64_release_1.4.0/src/learner.cc:231: Only 1 GPUs are visible, setting `gpu_id` to 0\n",
      "[0]\tvalidation_0-rmse:7.14212\n",
      "[466]\tvalidation_0-rmse:0.71713\n"
     ]
    },
    {
     "name": "stderr",
     "output_type": "stream",
     "text": [
      "\u001b[32m[I 2021-08-30 17:52:35,637]\u001b[0m Trial 111 finished with value: 0.7171102672070059 and parameters: {'learning_rate': 0.08275807285184905, 'reg_lambda': 1.0535960420848883e-07, 'reg_alpha': 0.20874650614490153, 'subsample': 0.17125867289143193, 'colsample_bytree': 0.5089266356364549, 'max_depth': 1}. Best is trial 70 with value: 0.7170474651532209.\u001b[0m\n"
     ]
    },
    {
     "name": "stdout",
     "output_type": "stream",
     "text": [
      "[17:52:35] WARNING: C:/Users/Administrator/workspace/xgboost-win64_release_1.4.0/src/learner.cc:231: Only 1 GPUs are visible, setting `gpu_id` to 0\n",
      "[0]\tvalidation_0-rmse:7.07939\n",
      "[817]\tvalidation_0-rmse:0.71715\n"
     ]
    },
    {
     "name": "stderr",
     "output_type": "stream",
     "text": [
      "\u001b[32m[I 2021-08-30 17:52:38,060]\u001b[0m Trial 112 finished with value: 0.7171401008651067 and parameters: {'learning_rate': 0.09090611978573082, 'reg_lambda': 2.285739554427405e-08, 'reg_alpha': 0.6819497172463778, 'subsample': 0.8985001411675984, 'colsample_bytree': 0.48698353485923207, 'max_depth': 1}. Best is trial 70 with value: 0.7170474651532209.\u001b[0m\n"
     ]
    },
    {
     "name": "stdout",
     "output_type": "stream",
     "text": [
      "[17:52:38] WARNING: C:/Users/Administrator/workspace/xgboost-win64_release_1.4.0/src/learner.cc:231: Only 1 GPUs are visible, setting `gpu_id` to 0\n",
      "[0]\tvalidation_0-rmse:7.10068\n",
      "[416]\tvalidation_0-rmse:0.71711\n"
     ]
    },
    {
     "name": "stderr",
     "output_type": "stream",
     "text": [
      "\u001b[32m[I 2021-08-30 17:52:39,350]\u001b[0m Trial 113 finished with value: 0.7170870659854688 and parameters: {'learning_rate': 0.08815801668076946, 'reg_lambda': 6.905413152942999e-08, 'reg_alpha': 0.2132736712055233, 'subsample': 0.14702624613220758, 'colsample_bytree': 0.4682282266449256, 'max_depth': 1}. Best is trial 70 with value: 0.7170474651532209.\u001b[0m\n"
     ]
    },
    {
     "name": "stdout",
     "output_type": "stream",
     "text": [
      "[17:52:39] WARNING: C:/Users/Administrator/workspace/xgboost-win64_release_1.4.0/src/learner.cc:231: Only 1 GPUs are visible, setting `gpu_id` to 0\n",
      "[0]\tvalidation_0-rmse:6.88110\n",
      "[418]\tvalidation_0-rmse:0.71712\n"
     ]
    },
    {
     "name": "stderr",
     "output_type": "stream",
     "text": [
      "\u001b[32m[I 2021-08-30 17:52:40,687]\u001b[0m Trial 114 finished with value: 0.717084287715822 and parameters: {'learning_rate': 0.1166746824299905, 'reg_lambda': 6.90659929609546e-08, 'reg_alpha': 0.09056730755718947, 'subsample': 0.14543112944229034, 'colsample_bytree': 0.470483519203936, 'max_depth': 1}. Best is trial 70 with value: 0.7170474651532209.\u001b[0m\n"
     ]
    },
    {
     "name": "stdout",
     "output_type": "stream",
     "text": [
      "[17:52:40] WARNING: C:/Users/Administrator/workspace/xgboost-win64_release_1.4.0/src/learner.cc:231: Only 1 GPUs are visible, setting `gpu_id` to 0\n",
      "[0]\tvalidation_0-rmse:6.93545\n",
      "[419]\tvalidation_0-rmse:0.71715\n"
     ]
    },
    {
     "name": "stderr",
     "output_type": "stream",
     "text": [
      "\u001b[32m[I 2021-08-30 17:52:42,006]\u001b[0m Trial 115 finished with value: 0.7171485333569997 and parameters: {'learning_rate': 0.10961478470954017, 'reg_lambda': 5.0290791108414916e-08, 'reg_alpha': 0.11585967783891592, 'subsample': 0.14390489187531322, 'colsample_bytree': 0.47070478806476734, 'max_depth': 1}. Best is trial 70 with value: 0.7170474651532209.\u001b[0m\n"
     ]
    },
    {
     "name": "stdout",
     "output_type": "stream",
     "text": [
      "[17:52:42] WARNING: C:/Users/Administrator/workspace/xgboost-win64_release_1.4.0/src/learner.cc:231: Only 1 GPUs are visible, setting `gpu_id` to 0\n",
      "[0]\tvalidation_0-rmse:7.02039\n",
      "[488]\tvalidation_0-rmse:0.71712\n"
     ]
    },
    {
     "name": "stderr",
     "output_type": "stream",
     "text": [
      "\u001b[32m[I 2021-08-30 17:52:43,494]\u001b[0m Trial 116 finished with value: 0.7171006205425339 and parameters: {'learning_rate': 0.09856909182968603, 'reg_lambda': 7.185167322825891e-08, 'reg_alpha': 0.038042242359194955, 'subsample': 0.2497800281074528, 'colsample_bytree': 0.17604346207116178, 'max_depth': 1}. Best is trial 70 with value: 0.7170474651532209.\u001b[0m\n"
     ]
    },
    {
     "name": "stdout",
     "output_type": "stream",
     "text": [
      "[17:52:43] WARNING: C:/Users/Administrator/workspace/xgboost-win64_release_1.4.0/src/learner.cc:231: Only 1 GPUs are visible, setting `gpu_id` to 0\n",
      "[0]\tvalidation_0-rmse:6.88804\n",
      "[513]\tvalidation_0-rmse:0.71735\n"
     ]
    },
    {
     "name": "stderr",
     "output_type": "stream",
     "text": [
      "\u001b[32m[I 2021-08-30 17:52:45,231]\u001b[0m Trial 117 finished with value: 0.7171064818774615 and parameters: {'learning_rate': 0.11576775156975908, 'reg_lambda': 1.8336593720036452e-07, 'reg_alpha': 0.07050396434656094, 'subsample': 0.1133673943900837, 'colsample_bytree': 0.4302180818516354, 'max_depth': 2}. Best is trial 70 with value: 0.7170474651532209.\u001b[0m\n"
     ]
    },
    {
     "name": "stdout",
     "output_type": "stream",
     "text": [
      "[17:52:45] WARNING: C:/Users/Administrator/workspace/xgboost-win64_release_1.4.0/src/learner.cc:231: Only 1 GPUs are visible, setting `gpu_id` to 0\n",
      "[0]\tvalidation_0-rmse:6.77274\n",
      "[527]\tvalidation_0-rmse:0.71716\n"
     ]
    },
    {
     "name": "stderr",
     "output_type": "stream",
     "text": [
      "\u001b[32m[I 2021-08-30 17:52:46,768]\u001b[0m Trial 118 finished with value: 0.7171309925392008 and parameters: {'learning_rate': 0.1307299625786068, 'reg_lambda': 1.179716422923337e-08, 'reg_alpha': 0.08490295354115761, 'subsample': 0.21994863971847628, 'colsample_bytree': 0.5719981710044844, 'max_depth': 1}. Best is trial 70 with value: 0.7170474651532209.\u001b[0m\n"
     ]
    },
    {
     "name": "stdout",
     "output_type": "stream",
     "text": [
      "[17:52:46] WARNING: C:/Users/Administrator/workspace/xgboost-win64_release_1.4.0/src/learner.cc:231: Only 1 GPUs are visible, setting `gpu_id` to 0\n",
      "[0]\tvalidation_0-rmse:7.36171\n",
      "[537]\tvalidation_0-rmse:0.71717\n"
     ]
    },
    {
     "name": "stderr",
     "output_type": "stream",
     "text": [
      "\u001b[32m[I 2021-08-30 17:52:48,786]\u001b[0m Trial 119 finished with value: 0.71708390465382 and parameters: {'learning_rate': 0.05424867684921463, 'reg_lambda': 2.420091064483976e-08, 'reg_alpha': 0.19653137204110066, 'subsample': 0.1521724887323206, 'colsample_bytree': 0.6863502486055906, 'max_depth': 2}. Best is trial 70 with value: 0.7170474651532209.\u001b[0m\n"
     ]
    },
    {
     "name": "stdout",
     "output_type": "stream",
     "text": [
      "[17:52:48] WARNING: C:/Users/Administrator/workspace/xgboost-win64_release_1.4.0/src/learner.cc:231: Only 1 GPUs are visible, setting `gpu_id` to 0\n",
      "[0]\tvalidation_0-rmse:7.31746\n",
      "[483]\tvalidation_0-rmse:0.71751\n"
     ]
    },
    {
     "name": "stderr",
     "output_type": "stream",
     "text": [
      "\u001b[32m[I 2021-08-30 17:52:50,850]\u001b[0m Trial 120 finished with value: 0.7171669567661632 and parameters: {'learning_rate': 0.0600125256030766, 'reg_lambda': 3.597417677475448e-08, 'reg_alpha': 0.21718535422481694, 'subsample': 0.10064221221944751, 'colsample_bytree': 0.7386435301543048, 'max_depth': 4}. Best is trial 70 with value: 0.7170474651532209.\u001b[0m\n"
     ]
    },
    {
     "name": "stdout",
     "output_type": "stream",
     "text": [
      "[17:52:51] WARNING: C:/Users/Administrator/workspace/xgboost-win64_release_1.4.0/src/learner.cc:231: Only 1 GPUs are visible, setting `gpu_id` to 0\n",
      "[0]\tvalidation_0-rmse:7.41402\n",
      "[723]\tvalidation_0-rmse:0.71717\n"
     ]
    },
    {
     "name": "stderr",
     "output_type": "stream",
     "text": [
      "\u001b[32m[I 2021-08-30 17:52:52,803]\u001b[0m Trial 121 finished with value: 0.7171532395163309 and parameters: {'learning_rate': 0.04747642862092575, 'reg_lambda': 2.3606475999289954e-08, 'reg_alpha': 0.45955581198086115, 'subsample': 0.15199748796193635, 'colsample_bytree': 0.40182845890835295, 'max_depth': 1}. Best is trial 70 with value: 0.7170474651532209.\u001b[0m\n"
     ]
    },
    {
     "name": "stdout",
     "output_type": "stream",
     "text": [
      "[17:52:52] WARNING: C:/Users/Administrator/workspace/xgboost-win64_release_1.4.0/src/learner.cc:231: Only 1 GPUs are visible, setting `gpu_id` to 0\n",
      "[0]\tvalidation_0-rmse:7.36780\n",
      "[558]\tvalidation_0-rmse:0.71717\n"
     ]
    },
    {
     "name": "stderr",
     "output_type": "stream",
     "text": [
      "\u001b[32m[I 2021-08-30 17:52:54,446]\u001b[0m Trial 122 finished with value: 0.717144406860489 and parameters: {'learning_rate': 0.05347397768449956, 'reg_lambda': 3.427304465471312e-07, 'reg_alpha': 0.04513631625032891, 'subsample': 0.126069604792128, 'colsample_bytree': 0.7038699903955126, 'max_depth': 1}. Best is trial 70 with value: 0.7170474651532209.\u001b[0m\n"
     ]
    },
    {
     "name": "stdout",
     "output_type": "stream",
     "text": [
      "[17:52:54] WARNING: C:/Users/Administrator/workspace/xgboost-win64_release_1.4.0/src/learner.cc:231: Only 1 GPUs are visible, setting `gpu_id` to 0\n",
      "[0]\tvalidation_0-rmse:7.46133\n",
      "[560]\tvalidation_0-rmse:0.71717\n"
     ]
    },
    {
     "name": "stderr",
     "output_type": "stream",
     "text": [
      "\u001b[32m[I 2021-08-30 17:52:56,254]\u001b[0m Trial 123 finished with value: 0.717156443134323 and parameters: {'learning_rate': 0.041329239647056065, 'reg_lambda': 6.498436731638487e-08, 'reg_alpha': 0.1601815799666969, 'subsample': 0.16175227200965, 'colsample_bytree': 0.36795383392611797, 'max_depth': 1}. Best is trial 70 with value: 0.7170474651532209.\u001b[0m\n"
     ]
    },
    {
     "name": "stdout",
     "output_type": "stream",
     "text": [
      "[17:52:56] WARNING: C:/Users/Administrator/workspace/xgboost-win64_release_1.4.0/src/learner.cc:231: Only 1 GPUs are visible, setting `gpu_id` to 0\n",
      "[0]\tvalidation_0-rmse:7.19322\n",
      "[418]\tvalidation_0-rmse:0.71731\n"
     ]
    },
    {
     "name": "stderr",
     "output_type": "stream",
     "text": [
      "\u001b[32m[I 2021-08-30 17:52:57,878]\u001b[0m Trial 124 finished with value: 0.7171574716851283 and parameters: {'learning_rate': 0.07610974856042392, 'reg_lambda': 1.329179282852429e-07, 'reg_alpha': 0.6245133184155788, 'subsample': 0.19880722231144676, 'colsample_bytree': 0.6586556587558272, 'max_depth': 3}. Best is trial 70 with value: 0.7170474651532209.\u001b[0m\n"
     ]
    },
    {
     "name": "stdout",
     "output_type": "stream",
     "text": [
      "[17:52:58] WARNING: C:/Users/Administrator/workspace/xgboost-win64_release_1.4.0/src/learner.cc:231: Only 1 GPUs are visible, setting `gpu_id` to 0\n",
      "[0]\tvalidation_0-rmse:7.42937\n",
      "[486]\tvalidation_0-rmse:0.71718\n"
     ]
    },
    {
     "name": "stderr",
     "output_type": "stream",
     "text": [
      "\u001b[32m[I 2021-08-30 17:52:59,511]\u001b[0m Trial 125 finished with value: 0.7171485377633313 and parameters: {'learning_rate': 0.045465002115408555, 'reg_lambda': 9.877295090339835e-07, 'reg_alpha': 0.9482667876445459, 'subsample': 0.2798757598724185, 'colsample_bytree': 0.7924996506145296, 'max_depth': 2}. Best is trial 70 with value: 0.7170474651532209.\u001b[0m\n"
     ]
    },
    {
     "name": "stdout",
     "output_type": "stream",
     "text": [
      "[17:52:59] WARNING: C:/Users/Administrator/workspace/xgboost-win64_release_1.4.0/src/learner.cc:231: Only 1 GPUs are visible, setting `gpu_id` to 0\n",
      "[0]\tvalidation_0-rmse:6.99508\n",
      "[631]\tvalidation_0-rmse:0.71712\n"
     ]
    },
    {
     "name": "stderr",
     "output_type": "stream",
     "text": [
      "\u001b[32m[I 2021-08-30 17:53:01,306]\u001b[0m Trial 126 finished with value: 0.7170997250536921 and parameters: {'learning_rate': 0.10185623581566382, 'reg_lambda': 1.0042946767090704e-08, 'reg_alpha': 1.7916596872311223, 'subsample': 0.18285562267141892, 'colsample_bytree': 0.3170819692010163, 'max_depth': 1}. Best is trial 70 with value: 0.7170474651532209.\u001b[0m\n"
     ]
    },
    {
     "name": "stdout",
     "output_type": "stream",
     "text": [
      "[17:53:01] WARNING: C:/Users/Administrator/workspace/xgboost-win64_release_1.4.0/src/learner.cc:231: Only 1 GPUs are visible, setting `gpu_id` to 0\n",
      "[0]\tvalidation_0-rmse:6.85140\n",
      "[419]\tvalidation_0-rmse:0.71709\n"
     ]
    },
    {
     "name": "stderr",
     "output_type": "stream",
     "text": [
      "\u001b[32m[I 2021-08-30 17:53:02,755]\u001b[0m Trial 127 finished with value: 0.7170714675723971 and parameters: {'learning_rate': 0.12053336631074917, 'reg_lambda': 2.0325138134852098e-08, 'reg_alpha': 0.007011817250897253, 'subsample': 0.14538554199764767, 'colsample_bytree': 0.46078318631326165, 'max_depth': 1}. Best is trial 70 with value: 0.7170474651532209.\u001b[0m\n"
     ]
    },
    {
     "name": "stdout",
     "output_type": "stream",
     "text": [
      "[17:53:02] WARNING: C:/Users/Administrator/workspace/xgboost-win64_release_1.4.0/src/learner.cc:231: Only 1 GPUs are visible, setting `gpu_id` to 0\n",
      "[0]\tvalidation_0-rmse:6.70659\n",
      "[397]\tvalidation_0-rmse:0.71714\n"
     ]
    },
    {
     "name": "stderr",
     "output_type": "stream",
     "text": [
      "\u001b[32m[I 2021-08-30 17:53:04,024]\u001b[0m Trial 128 finished with value: 0.7170752068163224 and parameters: {'learning_rate': 0.13934176697013634, 'reg_lambda': 4.007443997225151e-08, 'reg_alpha': 0.00891852971459204, 'subsample': 0.14235244248722434, 'colsample_bytree': 0.46160867970144176, 'max_depth': 1}. Best is trial 70 with value: 0.7170474651532209.\u001b[0m\n"
     ]
    },
    {
     "name": "stdout",
     "output_type": "stream",
     "text": [
      "[17:53:04] WARNING: C:/Users/Administrator/workspace/xgboost-win64_release_1.4.0/src/learner.cc:231: Only 1 GPUs are visible, setting `gpu_id` to 0\n",
      "[0]\tvalidation_0-rmse:6.68242\n",
      "[558]\tvalidation_0-rmse:0.71715\n"
     ]
    },
    {
     "name": "stderr",
     "output_type": "stream",
     "text": [
      "\u001b[32m[I 2021-08-30 17:53:05,732]\u001b[0m Trial 129 finished with value: 0.7170710533864343 and parameters: {'learning_rate': 0.14249346988042838, 'reg_lambda': 1.717522679525264e-08, 'reg_alpha': 0.008559429331538073, 'subsample': 0.1475477092020209, 'colsample_bytree': 0.45330663188343207, 'max_depth': 1}. Best is trial 70 with value: 0.7170474651532209.\u001b[0m\n"
     ]
    },
    {
     "name": "stdout",
     "output_type": "stream",
     "text": [
      "[17:53:05] WARNING: C:/Users/Administrator/workspace/xgboost-win64_release_1.4.0/src/learner.cc:231: Only 1 GPUs are visible, setting `gpu_id` to 0\n",
      "[0]\tvalidation_0-rmse:6.66259\n",
      "[419]\tvalidation_0-rmse:0.71711\n"
     ]
    },
    {
     "name": "stderr",
     "output_type": "stream",
     "text": [
      "\u001b[32m[I 2021-08-30 17:53:07,046]\u001b[0m Trial 130 finished with value: 0.7170802470247502 and parameters: {'learning_rate': 0.1450601545364804, 'reg_lambda': 1.7375791202801647e-08, 'reg_alpha': 0.005936767583240392, 'subsample': 0.14518652433189427, 'colsample_bytree': 0.5196772170026397, 'max_depth': 1}. Best is trial 70 with value: 0.7170474651532209.\u001b[0m\n"
     ]
    },
    {
     "name": "stdout",
     "output_type": "stream",
     "text": [
      "[17:53:07] WARNING: C:/Users/Administrator/workspace/xgboost-win64_release_1.4.0/src/learner.cc:231: Only 1 GPUs are visible, setting `gpu_id` to 0\n",
      "[0]\tvalidation_0-rmse:6.70773\n",
      "[419]\tvalidation_0-rmse:0.71713\n"
     ]
    },
    {
     "name": "stderr",
     "output_type": "stream",
     "text": [
      "\u001b[32m[I 2021-08-30 17:53:08,346]\u001b[0m Trial 131 finished with value: 0.7170824584747242 and parameters: {'learning_rate': 0.13920402478085142, 'reg_lambda': 1.8007640531419265e-08, 'reg_alpha': 0.0058100488707158345, 'subsample': 0.15322023280657535, 'colsample_bytree': 0.5168138527722643, 'max_depth': 1}. Best is trial 70 with value: 0.7170474651532209.\u001b[0m\n"
     ]
    },
    {
     "name": "stdout",
     "output_type": "stream",
     "text": [
      "[17:53:08] WARNING: C:/Users/Administrator/workspace/xgboost-win64_release_1.4.0/src/learner.cc:231: Only 1 GPUs are visible, setting `gpu_id` to 0\n",
      "[0]\tvalidation_0-rmse:6.68350\n",
      "[419]\tvalidation_0-rmse:0.71714\n"
     ]
    },
    {
     "name": "stderr",
     "output_type": "stream",
     "text": [
      "\u001b[32m[I 2021-08-30 17:53:09,659]\u001b[0m Trial 132 finished with value: 0.7170912315424101 and parameters: {'learning_rate': 0.14231418444377875, 'reg_lambda': 1.8491711808663233e-08, 'reg_alpha': 0.005312940759038806, 'subsample': 0.1686469595095798, 'colsample_bytree': 0.5419638910471342, 'max_depth': 1}. Best is trial 70 with value: 0.7170474651532209.\u001b[0m\n"
     ]
    },
    {
     "name": "stdout",
     "output_type": "stream",
     "text": [
      "[17:53:09] WARNING: C:/Users/Administrator/workspace/xgboost-win64_release_1.4.0/src/learner.cc:231: Only 1 GPUs are visible, setting `gpu_id` to 0\n",
      "[0]\tvalidation_0-rmse:6.78490\n",
      "[546]\tvalidation_0-rmse:0.71711\n"
     ]
    },
    {
     "name": "stderr",
     "output_type": "stream",
     "text": [
      "\u001b[32m[I 2021-08-30 17:53:11,363]\u001b[0m Trial 133 finished with value: 0.7170666688412635 and parameters: {'learning_rate': 0.12918699220226915, 'reg_lambda': 2.9085931094756253e-08, 'reg_alpha': 0.010992419616021641, 'subsample': 0.13399175446920375, 'colsample_bytree': 0.5190456498619105, 'max_depth': 1}. Best is trial 70 with value: 0.7170474651532209.\u001b[0m\n"
     ]
    },
    {
     "name": "stdout",
     "output_type": "stream",
     "text": [
      "[17:53:11] WARNING: C:/Users/Administrator/workspace/xgboost-win64_release_1.4.0/src/learner.cc:231: Only 1 GPUs are visible, setting `gpu_id` to 0\n",
      "[0]\tvalidation_0-rmse:6.78669\n",
      "[546]\tvalidation_0-rmse:0.71716\n"
     ]
    },
    {
     "name": "stderr",
     "output_type": "stream",
     "text": [
      "\u001b[32m[I 2021-08-30 17:53:13,013]\u001b[0m Trial 134 finished with value: 0.717120498146779 and parameters: {'learning_rate': 0.12891600930475716, 'reg_lambda': 2.741326065286528e-08, 'reg_alpha': 0.00951258585180768, 'subsample': 0.20524657578534694, 'colsample_bytree': 0.5578277124821832, 'max_depth': 1}. Best is trial 70 with value: 0.7170474651532209.\u001b[0m\n"
     ]
    },
    {
     "name": "stdout",
     "output_type": "stream",
     "text": [
      "[17:53:13] WARNING: C:/Users/Administrator/workspace/xgboost-win64_release_1.4.0/src/learner.cc:231: Only 1 GPUs are visible, setting `gpu_id` to 0\n",
      "[0]\tvalidation_0-rmse:6.72587\n",
      "[417]\tvalidation_0-rmse:0.71718\n"
     ]
    },
    {
     "name": "stderr",
     "output_type": "stream",
     "text": [
      "\u001b[32m[I 2021-08-30 17:53:14,312]\u001b[0m Trial 135 finished with value: 0.7171392311066963 and parameters: {'learning_rate': 0.13684169601992718, 'reg_lambda': 1.603542188079532e-08, 'reg_alpha': 0.0030242866634291083, 'subsample': 0.12735383069533082, 'colsample_bytree': 0.5006699200456983, 'max_depth': 1}. Best is trial 70 with value: 0.7170474651532209.\u001b[0m\n"
     ]
    },
    {
     "name": "stdout",
     "output_type": "stream",
     "text": [
      "[17:53:14] WARNING: C:/Users/Administrator/workspace/xgboost-win64_release_1.4.0/src/learner.cc:231: Only 1 GPUs are visible, setting `gpu_id` to 0\n",
      "[0]\tvalidation_0-rmse:6.42893\n",
      "[898]\tvalidation_0-rmse:0.71717\n"
     ]
    },
    {
     "name": "stderr",
     "output_type": "stream",
     "text": [
      "\u001b[32m[I 2021-08-30 17:53:16,871]\u001b[0m Trial 136 finished with value: 0.7171111711730457 and parameters: {'learning_rate': 0.17540963887143782, 'reg_lambda': 3.9184855463370876e-08, 'reg_alpha': 0.0013424729063581898, 'subsample': 0.18405417257552895, 'colsample_bytree': 0.5246191324276895, 'max_depth': 1}. Best is trial 70 with value: 0.7170474651532209.\u001b[0m\n"
     ]
    },
    {
     "name": "stdout",
     "output_type": "stream",
     "text": [
      "[17:53:17] WARNING: C:/Users/Administrator/workspace/xgboost-win64_release_1.4.0/src/learner.cc:231: Only 1 GPUs are visible, setting `gpu_id` to 0\n",
      "[0]\tvalidation_0-rmse:6.59401\n",
      "[419]\tvalidation_0-rmse:0.71716\n"
     ]
    },
    {
     "name": "stderr",
     "output_type": "stream",
     "text": [
      "\u001b[32m[I 2021-08-30 17:53:18,171]\u001b[0m Trial 137 finished with value: 0.7171231792597562 and parameters: {'learning_rate': 0.15396194030775615, 'reg_lambda': 1.0465627389923672e-08, 'reg_alpha': 0.0021763051122477783, 'subsample': 0.16111075986483922, 'colsample_bytree': 0.6058062547135947, 'max_depth': 1}. Best is trial 70 with value: 0.7170474651532209.\u001b[0m\n"
     ]
    },
    {
     "name": "stdout",
     "output_type": "stream",
     "text": [
      "[17:53:18] WARNING: C:/Users/Administrator/workspace/xgboost-win64_release_1.4.0/src/learner.cc:231: Only 1 GPUs are visible, setting `gpu_id` to 0\n",
      "[0]\tvalidation_0-rmse:6.81564\n",
      "[354]\tvalidation_0-rmse:0.71801\n"
     ]
    },
    {
     "name": "stderr",
     "output_type": "stream",
     "text": [
      "\u001b[32m[I 2021-08-30 17:53:19,781]\u001b[0m Trial 138 finished with value: 0.717253160836093 and parameters: {'learning_rate': 0.1251368923671023, 'reg_lambda': 2.737811137248512e-08, 'reg_alpha': 0.015836945321889468, 'subsample': 0.13016607142320863, 'colsample_bytree': 0.5215743861556882, 'max_depth': 4}. Best is trial 70 with value: 0.7170474651532209.\u001b[0m\n"
     ]
    },
    {
     "name": "stdout",
     "output_type": "stream",
     "text": [
      "[17:53:19] WARNING: C:/Users/Administrator/workspace/xgboost-win64_release_1.4.0/src/learner.cc:231: Only 1 GPUs are visible, setting `gpu_id` to 0\n",
      "[0]\tvalidation_0-rmse:6.66906\n",
      "[386]\tvalidation_0-rmse:0.71741\n"
     ]
    },
    {
     "name": "stderr",
     "output_type": "stream",
     "text": [
      "\u001b[32m[I 2021-08-30 17:53:21,097]\u001b[0m Trial 139 finished with value: 0.7172098013368087 and parameters: {'learning_rate': 0.14417815834397935, 'reg_lambda': 1.5131568178246262e-08, 'reg_alpha': 0.012205025192700284, 'subsample': 0.22877519370064917, 'colsample_bytree': 0.45216151433013796, 'max_depth': 2}. Best is trial 70 with value: 0.7170474651532209.\u001b[0m\n"
     ]
    },
    {
     "name": "stdout",
     "output_type": "stream",
     "text": [
      "[17:53:21] WARNING: C:/Users/Administrator/workspace/xgboost-win64_release_1.4.0/src/learner.cc:231: Only 1 GPUs are visible, setting `gpu_id` to 0\n",
      "[0]\tvalidation_0-rmse:6.74390\n",
      "[558]\tvalidation_0-rmse:0.71713\n"
     ]
    },
    {
     "name": "stderr",
     "output_type": "stream",
     "text": [
      "\u001b[32m[I 2021-08-30 17:53:22,859]\u001b[0m Trial 140 finished with value: 0.7170782329945422 and parameters: {'learning_rate': 0.13491988313975176, 'reg_lambda': 98.69678455359296, 'reg_alpha': 0.005643384557704931, 'subsample': 0.14866700194245616, 'colsample_bytree': 0.9191647499823333, 'max_depth': 1}. Best is trial 70 with value: 0.7170474651532209.\u001b[0m\n"
     ]
    },
    {
     "name": "stdout",
     "output_type": "stream",
     "text": [
      "[17:53:23] WARNING: C:/Users/Administrator/workspace/xgboost-win64_release_1.4.0/src/learner.cc:231: Only 1 GPUs are visible, setting `gpu_id` to 0\n",
      "[0]\tvalidation_0-rmse:6.72529\n",
      "[507]\tvalidation_0-rmse:0.71718\n"
     ]
    },
    {
     "name": "stderr",
     "output_type": "stream",
     "text": [
      "\u001b[32m[I 2021-08-30 17:53:24,389]\u001b[0m Trial 141 finished with value: 0.7171684831451703 and parameters: {'learning_rate': 0.13701723586591522, 'reg_lambda': 90.27449807037621, 'reg_alpha': 0.007243074910309933, 'subsample': 0.742565896055047, 'colsample_bytree': 0.9763438701248213, 'max_depth': 1}. Best is trial 70 with value: 0.7170474651532209.\u001b[0m\n"
     ]
    },
    {
     "name": "stdout",
     "output_type": "stream",
     "text": [
      "[17:53:24] WARNING: C:/Users/Administrator/workspace/xgboost-win64_release_1.4.0/src/learner.cc:231: Only 1 GPUs are visible, setting `gpu_id` to 0\n",
      "[0]\tvalidation_0-rmse:6.59583\n",
      "[418]\tvalidation_0-rmse:0.71712\n"
     ]
    },
    {
     "name": "stderr",
     "output_type": "stream",
     "text": [
      "\u001b[32m[I 2021-08-30 17:53:25,688]\u001b[0m Trial 142 finished with value: 0.7170943087747588 and parameters: {'learning_rate': 0.15374627940975702, 'reg_lambda': 1.9296356235394966e-08, 'reg_alpha': 0.004512609165586431, 'subsample': 0.14723133176720463, 'colsample_bytree': 0.49210548550746885, 'max_depth': 1}. Best is trial 70 with value: 0.7170474651532209.\u001b[0m\n"
     ]
    },
    {
     "name": "stdout",
     "output_type": "stream",
     "text": [
      "[17:53:25] WARNING: C:/Users/Administrator/workspace/xgboost-win64_release_1.4.0/src/learner.cc:231: Only 1 GPUs are visible, setting `gpu_id` to 0\n",
      "[0]\tvalidation_0-rmse:6.94267\n",
      "[723]\tvalidation_0-rmse:0.71720\n"
     ]
    },
    {
     "name": "stderr",
     "output_type": "stream",
     "text": [
      "\u001b[32m[I 2021-08-30 17:53:27,823]\u001b[0m Trial 143 finished with value: 0.7171653083050414 and parameters: {'learning_rate': 0.10881768737527964, 'reg_lambda': 25.927584589969026, 'reg_alpha': 0.002744369364518572, 'subsample': 0.11957486055851707, 'colsample_bytree': 0.9028153215700394, 'max_depth': 1}. Best is trial 70 with value: 0.7170474651532209.\u001b[0m\n"
     ]
    },
    {
     "name": "stdout",
     "output_type": "stream",
     "text": [
      "[17:53:27] WARNING: C:/Users/Administrator/workspace/xgboost-win64_release_1.4.0/src/learner.cc:231: Only 1 GPUs are visible, setting `gpu_id` to 0\n",
      "[0]\tvalidation_0-rmse:6.82275\n",
      "[416]\tvalidation_0-rmse:0.71714\n"
     ]
    },
    {
     "name": "stderr",
     "output_type": "stream",
     "text": [
      "\u001b[32m[I 2021-08-30 17:53:29,123]\u001b[0m Trial 144 finished with value: 0.7171131381917171 and parameters: {'learning_rate': 0.12429614719289085, 'reg_lambda': 11.335538617734457, 'reg_alpha': 0.025223712998101933, 'subsample': 0.17189743580838324, 'colsample_bytree': 0.9562596493042188, 'max_depth': 1}. Best is trial 70 with value: 0.7170474651532209.\u001b[0m\n"
     ]
    },
    {
     "name": "stdout",
     "output_type": "stream",
     "text": [
      "[17:53:29] WARNING: C:/Users/Administrator/workspace/xgboost-win64_release_1.4.0/src/learner.cc:231: Only 1 GPUs are visible, setting `gpu_id` to 0\n",
      "[0]\tvalidation_0-rmse:6.75589\n",
      "[435]\tvalidation_0-rmse:0.71712\n"
     ]
    },
    {
     "name": "stderr",
     "output_type": "stream",
     "text": [
      "\u001b[32m[I 2021-08-30 17:53:30,570]\u001b[0m Trial 145 finished with value: 0.7170870124997599 and parameters: {'learning_rate': 0.13293900588146887, 'reg_lambda': 3.792511810108583e-08, 'reg_alpha': 0.0003842240244008964, 'subsample': 0.19572653304373627, 'colsample_bytree': 0.8741832827678125, 'max_depth': 1}. Best is trial 70 with value: 0.7170474651532209.\u001b[0m\n"
     ]
    },
    {
     "name": "stdout",
     "output_type": "stream",
     "text": [
      "[17:53:30] WARNING: C:/Users/Administrator/workspace/xgboost-win64_release_1.4.0/src/learner.cc:231: Only 1 GPUs are visible, setting `gpu_id` to 0\n",
      "[0]\tvalidation_0-rmse:6.85162\n",
      "[419]\tvalidation_0-rmse:0.71712\n"
     ]
    },
    {
     "name": "stderr",
     "output_type": "stream",
     "text": [
      "\u001b[32m[I 2021-08-30 17:53:31,993]\u001b[0m Trial 146 finished with value: 0.7170843035370249 and parameters: {'learning_rate': 0.12074124825772851, 'reg_lambda': 57.49657977168809, 'reg_alpha': 0.007917694940092016, 'subsample': 0.1399305756531541, 'colsample_bytree': 0.45108060873763184, 'max_depth': 1}. Best is trial 70 with value: 0.7170474651532209.\u001b[0m\n"
     ]
    },
    {
     "name": "stdout",
     "output_type": "stream",
     "text": [
      "[17:53:32] WARNING: C:/Users/Administrator/workspace/xgboost-win64_release_1.4.0/src/learner.cc:231: Only 1 GPUs are visible, setting `gpu_id` to 0\n",
      "[0]\tvalidation_0-rmse:6.64713\n",
      "[426]\tvalidation_0-rmse:0.71711\n"
     ]
    },
    {
     "name": "stderr",
     "output_type": "stream",
     "text": [
      "\u001b[32m[I 2021-08-30 17:53:33,384]\u001b[0m Trial 147 finished with value: 0.7170910055056914 and parameters: {'learning_rate': 0.14706475354080936, 'reg_lambda': 0.0005873505718189615, 'reg_alpha': 0.0014738439358407442, 'subsample': 0.16074231513877058, 'colsample_bytree': 0.515495961890955, 'max_depth': 1}. Best is trial 70 with value: 0.7170474651532209.\u001b[0m\n"
     ]
    },
    {
     "name": "stdout",
     "output_type": "stream",
     "text": [
      "[17:53:33] WARNING: C:/Users/Administrator/workspace/xgboost-win64_release_1.4.0/src/learner.cc:231: Only 1 GPUs are visible, setting `gpu_id` to 0\n",
      "[0]\tvalidation_0-rmse:6.47999\n",
      "[347]\tvalidation_0-rmse:0.71780\n"
     ]
    },
    {
     "name": "stderr",
     "output_type": "stream",
     "text": [
      "\u001b[32m[I 2021-08-30 17:53:34,759]\u001b[0m Trial 148 finished with value: 0.717234252497217 and parameters: {'learning_rate': 0.16885170344628597, 'reg_lambda': 3.654732607376539, 'reg_alpha': 0.0007851222444500253, 'subsample': 0.11683258405527136, 'colsample_bytree': 0.794519185192573, 'max_depth': 3}. Best is trial 70 with value: 0.7170474651532209.\u001b[0m\n"
     ]
    },
    {
     "name": "stdout",
     "output_type": "stream",
     "text": [
      "[17:53:34] WARNING: C:/Users/Administrator/workspace/xgboost-win64_release_1.4.0/src/learner.cc:231: Only 1 GPUs are visible, setting `gpu_id` to 0\n",
      "[0]\tvalidation_0-rmse:6.69548\n",
      "[926]\tvalidation_0-rmse:0.71716\n"
     ]
    },
    {
     "name": "stderr",
     "output_type": "stream",
     "text": [
      "\u001b[32m[I 2021-08-30 17:53:37,188]\u001b[0m Trial 149 finished with value: 0.7171219620456786 and parameters: {'learning_rate': 0.14091986910481621, 'reg_lambda': 31.83249758074078, 'reg_alpha': 0.01830631487630998, 'subsample': 0.183019526207297, 'colsample_bytree': 0.5507634752551087, 'max_depth': 1}. Best is trial 70 with value: 0.7170474651532209.\u001b[0m\n"
     ]
    },
    {
     "name": "stdout",
     "output_type": "stream",
     "text": [
      "[17:53:37] WARNING: C:/Users/Administrator/workspace/xgboost-win64_release_1.4.0/src/learner.cc:231: Only 1 GPUs are visible, setting `gpu_id` to 0\n",
      "[0]\tvalidation_0-rmse:6.57586\n",
      "[418]\tvalidation_0-rmse:0.71717\n"
     ]
    },
    {
     "name": "stderr",
     "output_type": "stream",
     "text": [
      "\u001b[32m[I 2021-08-30 17:53:38,506]\u001b[0m Trial 150 finished with value: 0.7171142640583327 and parameters: {'learning_rate': 0.1563521771342245, 'reg_lambda': 4.3128297700320196e-08, 'reg_alpha': 0.005352840123289857, 'subsample': 0.13425403534825825, 'colsample_bytree': 0.4838222012763156, 'max_depth': 1}. Best is trial 70 with value: 0.7170474651532209.\u001b[0m\n"
     ]
    },
    {
     "name": "stdout",
     "output_type": "stream",
     "text": [
      "[17:53:38] WARNING: C:/Users/Administrator/workspace/xgboost-win64_release_1.4.0/src/learner.cc:231: Only 1 GPUs are visible, setting `gpu_id` to 0\n",
      "[0]\tvalidation_0-rmse:6.88116\n",
      "[416]\tvalidation_0-rmse:0.71712\n"
     ]
    },
    {
     "name": "stderr",
     "output_type": "stream",
     "text": [
      "\u001b[32m[I 2021-08-30 17:53:39,787]\u001b[0m Trial 151 finished with value: 0.7170742495995535 and parameters: {'learning_rate': 0.1166728096961111, 'reg_lambda': 2.6330373778544253e-08, 'reg_alpha': 0.011854335793833897, 'subsample': 0.1546305034955033, 'colsample_bytree': 0.47197068604664577, 'max_depth': 1}. Best is trial 70 with value: 0.7170474651532209.\u001b[0m\n"
     ]
    },
    {
     "name": "stdout",
     "output_type": "stream",
     "text": [
      "[17:53:39] WARNING: C:/Users/Administrator/workspace/xgboost-win64_release_1.4.0/src/learner.cc:231: Only 1 GPUs are visible, setting `gpu_id` to 0\n",
      "[0]\tvalidation_0-rmse:6.93869\n",
      "[712]\tvalidation_0-rmse:0.71714\n"
     ]
    },
    {
     "name": "stderr",
     "output_type": "stream",
     "text": [
      "\u001b[32m[I 2021-08-30 17:53:41,851]\u001b[0m Trial 152 finished with value: 0.7171008313922358 and parameters: {'learning_rate': 0.10924544201314224, 'reg_lambda': 2.285602933339574e-08, 'reg_alpha': 0.008123685157955304, 'subsample': 0.10113342891333128, 'colsample_bytree': 0.57101869511181, 'max_depth': 1}. Best is trial 70 with value: 0.7170474651532209.\u001b[0m\n"
     ]
    },
    {
     "name": "stdout",
     "output_type": "stream",
     "text": [
      "[17:53:42] WARNING: C:/Users/Administrator/workspace/xgboost-win64_release_1.4.0/src/learner.cc:231: Only 1 GPUs are visible, setting `gpu_id` to 0\n",
      "[0]\tvalidation_0-rmse:6.78420\n",
      "[419]\tvalidation_0-rmse:0.71714\n"
     ]
    },
    {
     "name": "stderr",
     "output_type": "stream",
     "text": [
      "\u001b[32m[I 2021-08-30 17:53:43,155]\u001b[0m Trial 153 finished with value: 0.7171009592187844 and parameters: {'learning_rate': 0.12926054146103633, 'reg_lambda': 1.4561147129135987e-08, 'reg_alpha': 0.011427848832709692, 'subsample': 0.1562919017795602, 'colsample_bytree': 0.4611291266416648, 'max_depth': 1}. Best is trial 70 with value: 0.7170474651532209.\u001b[0m\n"
     ]
    },
    {
     "name": "stdout",
     "output_type": "stream",
     "text": [
      "[17:53:43] WARNING: C:/Users/Administrator/workspace/xgboost-win64_release_1.4.0/src/learner.cc:231: Only 1 GPUs are visible, setting `gpu_id` to 0\n",
      "[0]\tvalidation_0-rmse:6.86217\n",
      "[552]\tvalidation_0-rmse:0.71716\n"
     ]
    },
    {
     "name": "stderr",
     "output_type": "stream",
     "text": [
      "\u001b[32m[I 2021-08-30 17:53:44,803]\u001b[0m Trial 154 finished with value: 0.717110096664936 and parameters: {'learning_rate': 0.11911170579805933, 'reg_lambda': 6.884300066385465e-05, 'reg_alpha': 0.03264235694856708, 'subsample': 0.2074248781272453, 'colsample_bytree': 0.43846831003439424, 'max_depth': 1}. Best is trial 70 with value: 0.7170474651532209.\u001b[0m\n"
     ]
    },
    {
     "name": "stdout",
     "output_type": "stream",
     "text": [
      "[17:53:44] WARNING: C:/Users/Administrator/workspace/xgboost-win64_release_1.4.0/src/learner.cc:231: Only 1 GPUs are visible, setting `gpu_id` to 0\n",
      "[0]\tvalidation_0-rmse:6.70472\n",
      "[419]\tvalidation_0-rmse:0.71712\n"
     ]
    },
    {
     "name": "stderr",
     "output_type": "stream",
     "text": [
      "\u001b[32m[I 2021-08-30 17:53:46,212]\u001b[0m Trial 155 finished with value: 0.7170918904545074 and parameters: {'learning_rate': 0.1395811050459942, 'reg_lambda': 2.6383137185779008e-08, 'reg_alpha': 0.0031301774779380386, 'subsample': 0.13872104280926034, 'colsample_bytree': 0.41271295851043127, 'max_depth': 1}. Best is trial 70 with value: 0.7170474651532209.\u001b[0m\n"
     ]
    },
    {
     "name": "stdout",
     "output_type": "stream",
     "text": [
      "[17:53:46] WARNING: C:/Users/Administrator/workspace/xgboost-win64_release_1.4.0/src/learner.cc:231: Only 1 GPUs are visible, setting `gpu_id` to 0\n",
      "[0]\tvalidation_0-rmse:7.03239\n",
      "[389]\tvalidation_0-rmse:0.71771\n"
     ]
    },
    {
     "name": "stderr",
     "output_type": "stream",
     "text": [
      "\u001b[32m[I 2021-08-30 17:53:48,309]\u001b[0m Trial 156 finished with value: 0.7173004454349462 and parameters: {'learning_rate': 0.09696250953961898, 'reg_lambda': 0.002998831910889541, 'reg_alpha': 0.019765002562527653, 'subsample': 0.17563156941865157, 'colsample_bytree': 0.4932611270685271, 'max_depth': 5}. Best is trial 70 with value: 0.7170474651532209.\u001b[0m\n"
     ]
    },
    {
     "name": "stdout",
     "output_type": "stream",
     "text": [
      "[17:53:48] WARNING: C:/Users/Administrator/workspace/xgboost-win64_release_1.4.0/src/learner.cc:231: Only 1 GPUs are visible, setting `gpu_id` to 0\n",
      "[0]\tvalidation_0-rmse:6.95407\n",
      "[419]\tvalidation_0-rmse:0.71717\n"
     ]
    },
    {
     "name": "stderr",
     "output_type": "stream",
     "text": [
      "\u001b[32m[I 2021-08-30 17:53:49,606]\u001b[0m Trial 157 finished with value: 0.7171312284265995 and parameters: {'learning_rate': 0.10720786546043705, 'reg_lambda': 1.0244415019409056e-08, 'reg_alpha': 0.006591650046275653, 'subsample': 0.12486045465576216, 'colsample_bytree': 0.47599848153263996, 'max_depth': 1}. Best is trial 70 with value: 0.7170474651532209.\u001b[0m\n"
     ]
    },
    {
     "name": "stdout",
     "output_type": "stream",
     "text": [
      "[17:53:49] WARNING: C:/Users/Administrator/workspace/xgboost-win64_release_1.4.0/src/learner.cc:231: Only 1 GPUs are visible, setting `gpu_id` to 0\n",
      "[0]\tvalidation_0-rmse:6.79560\n",
      "[396]\tvalidation_0-rmse:0.71715\n"
     ]
    },
    {
     "name": "stderr",
     "output_type": "stream",
     "text": [
      "\u001b[32m[I 2021-08-30 17:53:50,941]\u001b[0m Trial 158 finished with value: 0.7171088500562947 and parameters: {'learning_rate': 0.12778580917559637, 'reg_lambda': 4.6128684255338195e-08, 'reg_alpha': 0.012641089222556284, 'subsample': 0.15690553176641364, 'colsample_bytree': 0.5370513026574524, 'max_depth': 1}. Best is trial 70 with value: 0.7170474651532209.\u001b[0m\n"
     ]
    },
    {
     "name": "stdout",
     "output_type": "stream",
     "text": [
      "[17:53:51] WARNING: C:/Users/Administrator/workspace/xgboost-win64_release_1.4.0/src/learner.cc:231: Only 1 GPUs are visible, setting `gpu_id` to 0\n",
      "[0]\tvalidation_0-rmse:6.28805\n",
      "[443]\tvalidation_0-rmse:0.71725\n"
     ]
    },
    {
     "name": "stderr",
     "output_type": "stream",
     "text": [
      "\u001b[32m[I 2021-08-30 17:53:52,305]\u001b[0m Trial 159 finished with value: 0.717192276225747 and parameters: {'learning_rate': 0.1937511664824964, 'reg_lambda': 1.22005368971453e-07, 'reg_alpha': 0.003998314625438824, 'subsample': 0.19572395520545977, 'colsample_bytree': 0.4364053608984807, 'max_depth': 1}. Best is trial 70 with value: 0.7170474651532209.\u001b[0m\n"
     ]
    },
    {
     "name": "stdout",
     "output_type": "stream",
     "text": [
      "[17:53:52] WARNING: C:/Users/Administrator/workspace/xgboost-win64_release_1.4.0/src/learner.cc:231: Only 1 GPUs are visible, setting `gpu_id` to 0\n",
      "[0]\tvalidation_0-rmse:6.88825\n",
      "[518]\tvalidation_0-rmse:0.71715\n"
     ]
    },
    {
     "name": "stderr",
     "output_type": "stream",
     "text": [
      "\u001b[32m[I 2021-08-30 17:53:53,870]\u001b[0m Trial 160 finished with value: 0.7171113251504211 and parameters: {'learning_rate': 0.11577257490482644, 'reg_lambda': 3.1659421209228524e-08, 'reg_alpha': 0.0022477572805342347, 'subsample': 0.11378992835393306, 'colsample_bytree': 0.4579025240914551, 'max_depth': 1}. Best is trial 70 with value: 0.7170474651532209.\u001b[0m\n"
     ]
    },
    {
     "name": "stdout",
     "output_type": "stream",
     "text": [
      "[17:53:54] WARNING: C:/Users/Administrator/workspace/xgboost-win64_release_1.4.0/src/learner.cc:231: Only 1 GPUs are visible, setting `gpu_id` to 0\n",
      "[0]\tvalidation_0-rmse:6.87269\n",
      "[418]\tvalidation_0-rmse:0.71712\n"
     ]
    },
    {
     "name": "stderr",
     "output_type": "stream",
     "text": [
      "\u001b[32m[I 2021-08-30 17:53:55,316]\u001b[0m Trial 161 finished with value: 0.7170785638409932 and parameters: {'learning_rate': 0.11777072378494756, 'reg_lambda': 9.010619051825953e-08, 'reg_alpha': 0.41446868027542205, 'subsample': 0.14741759576936755, 'colsample_bytree': 0.5073222193619901, 'max_depth': 1}. Best is trial 70 with value: 0.7170474651532209.\u001b[0m\n"
     ]
    },
    {
     "name": "stdout",
     "output_type": "stream",
     "text": [
      "[17:53:55] WARNING: C:/Users/Administrator/workspace/xgboost-win64_release_1.4.0/src/learner.cc:231: Only 1 GPUs are visible, setting `gpu_id` to 0\n",
      "[0]\tvalidation_0-rmse:6.99441\n",
      "[820]\tvalidation_0-rmse:0.71720\n"
     ]
    },
    {
     "name": "stderr",
     "output_type": "stream",
     "text": [
      "\u001b[32m[I 2021-08-30 17:53:57,675]\u001b[0m Trial 162 finished with value: 0.71718621975436 and parameters: {'learning_rate': 0.10193532860653047, 'reg_lambda': 7.862420120709965e-08, 'reg_alpha': 0.3551619633634402, 'subsample': 0.708859992938382, 'colsample_bytree': 0.5079657076402424, 'max_depth': 1}. Best is trial 70 with value: 0.7170474651532209.\u001b[0m\n"
     ]
    },
    {
     "name": "stdout",
     "output_type": "stream",
     "text": [
      "[17:53:57] WARNING: C:/Users/Administrator/workspace/xgboost-win64_release_1.4.0/src/learner.cc:231: Only 1 GPUs are visible, setting `gpu_id` to 0\n",
      "[0]\tvalidation_0-rmse:6.83545\n",
      "[397]\tvalidation_0-rmse:0.71711\n"
     ]
    },
    {
     "name": "stderr",
     "output_type": "stream",
     "text": [
      "\u001b[32m[I 2021-08-30 17:53:58,932]\u001b[0m Trial 163 finished with value: 0.7170725404733258 and parameters: {'learning_rate': 0.12261575931388516, 'reg_lambda': 2.3329096036928563e-08, 'reg_alpha': 0.6927875956223809, 'subsample': 0.14995492175867978, 'colsample_bytree': 0.5212219081482456, 'max_depth': 1}. Best is trial 70 with value: 0.7170474651532209.\u001b[0m\n"
     ]
    },
    {
     "name": "stdout",
     "output_type": "stream",
     "text": [
      "[17:53:59] WARNING: C:/Users/Administrator/workspace/xgboost-win64_release_1.4.0/src/learner.cc:231: Only 1 GPUs are visible, setting `gpu_id` to 0\n",
      "[0]\tvalidation_0-rmse:6.83702\n",
      "[419]\tvalidation_0-rmse:0.71714\n"
     ]
    },
    {
     "name": "stderr",
     "output_type": "stream",
     "text": [
      "\u001b[32m[I 2021-08-30 17:54:00,317]\u001b[0m Trial 164 finished with value: 0.717113347570412 and parameters: {'learning_rate': 0.12238022160402404, 'reg_lambda': 4.529514380251162e-08, 'reg_alpha': 2.3221510341113634, 'subsample': 0.17128353277765923, 'colsample_bytree': 0.520867707744586, 'max_depth': 1}. Best is trial 70 with value: 0.7170474651532209.\u001b[0m\n"
     ]
    },
    {
     "name": "stdout",
     "output_type": "stream",
     "text": [
      "[17:54:00] WARNING: C:/Users/Administrator/workspace/xgboost-win64_release_1.4.0/src/learner.cc:231: Only 1 GPUs are visible, setting `gpu_id` to 0\n",
      "[0]\tvalidation_0-rmse:6.74920\n",
      "[415]\tvalidation_0-rmse:0.71710\n"
     ]
    },
    {
     "name": "stderr",
     "output_type": "stream",
     "text": [
      "\u001b[32m[I 2021-08-30 17:54:01,630]\u001b[0m Trial 165 finished with value: 0.717044280047798 and parameters: {'learning_rate': 0.13380676784008094, 'reg_lambda': 1.4073620781297115e-08, 'reg_alpha': 6.056778710114785e-07, 'subsample': 0.13749039153115522, 'colsample_bytree': 0.4795783817376906, 'max_depth': 1}. Best is trial 165 with value: 0.717044280047798.\u001b[0m\n"
     ]
    },
    {
     "name": "stdout",
     "output_type": "stream",
     "text": [
      "[17:54:01] WARNING: C:/Users/Administrator/workspace/xgboost-win64_release_1.4.0/src/learner.cc:231: Only 1 GPUs are visible, setting `gpu_id` to 0\n",
      "[0]\tvalidation_0-rmse:6.93204\n",
      "[416]\tvalidation_0-rmse:0.71712\n"
     ]
    },
    {
     "name": "stderr",
     "output_type": "stream",
     "text": [
      "\u001b[32m[I 2021-08-30 17:54:02,965]\u001b[0m Trial 166 finished with value: 0.7170894290417574 and parameters: {'learning_rate': 0.11015558685855957, 'reg_lambda': 12.81469021537658, 'reg_alpha': 7.469739540648943e-07, 'subsample': 0.1337872277274901, 'colsample_bytree': 0.4790430700419165, 'max_depth': 1}. Best is trial 165 with value: 0.717044280047798.\u001b[0m\n"
     ]
    },
    {
     "name": "stdout",
     "output_type": "stream",
     "text": [
      "[17:54:03] WARNING: C:/Users/Administrator/workspace/xgboost-win64_release_1.4.0/src/learner.cc:231: Only 1 GPUs are visible, setting `gpu_id` to 0\n",
      "[0]\tvalidation_0-rmse:6.76387\n",
      "[419]\tvalidation_0-rmse:0.71711\n"
     ]
    },
    {
     "name": "stderr",
     "output_type": "stream",
     "text": [
      "\u001b[32m[I 2021-08-30 17:54:04,387]\u001b[0m Trial 167 finished with value: 0.7170746935785598 and parameters: {'learning_rate': 0.13192192964576765, 'reg_lambda': 9.990218111976635e-08, 'reg_alpha': 5.30257508728163, 'subsample': 0.11872400321868061, 'colsample_bytree': 0.4229380905683716, 'max_depth': 1}. Best is trial 165 with value: 0.717044280047798.\u001b[0m\n"
     ]
    },
    {
     "name": "stdout",
     "output_type": "stream",
     "text": [
      "[17:54:04] WARNING: C:/Users/Administrator/workspace/xgboost-win64_release_1.4.0/src/learner.cc:231: Only 1 GPUs are visible, setting `gpu_id` to 0\n",
      "[0]\tvalidation_0-rmse:6.77852\n",
      "[576]\tvalidation_0-rmse:0.71711\n"
     ]
    },
    {
     "name": "stderr",
     "output_type": "stream",
     "text": [
      "\u001b[32m[I 2021-08-30 17:54:06,084]\u001b[0m Trial 168 finished with value: 0.7171008208401778 and parameters: {'learning_rate': 0.13008586510151657, 'reg_lambda': 9.176943743543097e-08, 'reg_alpha': 12.835848096203858, 'subsample': 0.10184506264085674, 'colsample_bytree': 0.422959583090354, 'max_depth': 1}. Best is trial 165 with value: 0.717044280047798.\u001b[0m\n"
     ]
    },
    {
     "name": "stdout",
     "output_type": "stream",
     "text": [
      "[17:54:06] WARNING: C:/Users/Administrator/workspace/xgboost-win64_release_1.4.0/src/learner.cc:231: Only 1 GPUs are visible, setting `gpu_id` to 0\n",
      "[0]\tvalidation_0-rmse:6.89891\n",
      "[417]\tvalidation_0-rmse:0.71714\n"
     ]
    },
    {
     "name": "stderr",
     "output_type": "stream",
     "text": [
      "\u001b[32m[I 2021-08-30 17:54:07,372]\u001b[0m Trial 169 finished with value: 0.7170907949417368 and parameters: {'learning_rate': 0.1143712523332004, 'reg_lambda': 1.73200070671192e-07, 'reg_alpha': 3.295621379238324e-08, 'subsample': 0.11971332052085121, 'colsample_bytree': 0.4382379167209132, 'max_depth': 1}. Best is trial 165 with value: 0.717044280047798.\u001b[0m\n"
     ]
    },
    {
     "name": "stdout",
     "output_type": "stream",
     "text": [
      "[17:54:07] WARNING: C:/Users/Administrator/workspace/xgboost-win64_release_1.4.0/src/learner.cc:231: Only 1 GPUs are visible, setting `gpu_id` to 0\n",
      "[0]\tvalidation_0-rmse:6.83323\n",
      "[438]\tvalidation_0-rmse:0.71711\n"
     ]
    },
    {
     "name": "stderr",
     "output_type": "stream",
     "text": [
      "\u001b[32m[I 2021-08-30 17:54:08,754]\u001b[0m Trial 170 finished with value: 0.7170653972317922 and parameters: {'learning_rate': 0.12288610203429784, 'reg_lambda': 4.490067936357032e-08, 'reg_alpha': 1.4233321683518205e-07, 'subsample': 0.1448618911391448, 'colsample_bytree': 0.4962515065575565, 'max_depth': 1}. Best is trial 165 with value: 0.717044280047798.\u001b[0m\n"
     ]
    },
    {
     "name": "stdout",
     "output_type": "stream",
     "text": [
      "[17:54:08] WARNING: C:/Users/Administrator/workspace/xgboost-win64_release_1.4.0/src/learner.cc:231: Only 1 GPUs are visible, setting `gpu_id` to 0\n",
      "[0]\tvalidation_0-rmse:6.81701\n",
      "[418]\tvalidation_0-rmse:0.71714\n"
     ]
    },
    {
     "name": "stderr",
     "output_type": "stream",
     "text": [
      "\u001b[32m[I 2021-08-30 17:54:10,126]\u001b[0m Trial 171 finished with value: 0.7171119950111763 and parameters: {'learning_rate': 0.12505230461993283, 'reg_lambda': 7.1376807169853835, 'reg_alpha': 9.156480880743353e-08, 'subsample': 0.14354676307553674, 'colsample_bytree': 0.49890462482090603, 'max_depth': 1}. Best is trial 165 with value: 0.717044280047798.\u001b[0m\n"
     ]
    },
    {
     "name": "stdout",
     "output_type": "stream",
     "text": [
      "[17:54:10] WARNING: C:/Users/Administrator/workspace/xgboost-win64_release_1.4.0/src/learner.cc:231: Only 1 GPUs are visible, setting `gpu_id` to 0\n",
      "[0]\tvalidation_0-rmse:6.86013\n",
      "[451]\tvalidation_0-rmse:0.71715\n"
     ]
    },
    {
     "name": "stderr",
     "output_type": "stream",
     "text": [
      "\u001b[32m[I 2021-08-30 17:54:11,514]\u001b[0m Trial 172 finished with value: 0.7171237980480341 and parameters: {'learning_rate': 0.11940448432543058, 'reg_lambda': 5.829039223100672e-08, 'reg_alpha': 1.7831765008844498e-07, 'subsample': 0.133456838888614, 'colsample_bytree': 0.464766718451496, 'max_depth': 1}. Best is trial 165 with value: 0.717044280047798.\u001b[0m\n"
     ]
    },
    {
     "name": "stdout",
     "output_type": "stream",
     "text": [
      "[17:54:11] WARNING: C:/Users/Administrator/workspace/xgboost-win64_release_1.4.0/src/learner.cc:231: Only 1 GPUs are visible, setting `gpu_id` to 0\n",
      "[0]\tvalidation_0-rmse:6.74404\n",
      "[419]\tvalidation_0-rmse:0.71718\n"
     ]
    },
    {
     "name": "stderr",
     "output_type": "stream",
     "text": [
      "\u001b[32m[I 2021-08-30 17:54:12,836]\u001b[0m Trial 173 finished with value: 0.7171420472372164 and parameters: {'learning_rate': 0.1344945592488772, 'reg_lambda': 2.97572785897706e-08, 'reg_alpha': 1.5282231982672584e-07, 'subsample': 0.11741208428985975, 'colsample_bytree': 0.489696938536661, 'max_depth': 1}. Best is trial 165 with value: 0.717044280047798.\u001b[0m\n"
     ]
    },
    {
     "name": "stdout",
     "output_type": "stream",
     "text": [
      "[17:54:13] WARNING: C:/Users/Administrator/workspace/xgboost-win64_release_1.4.0/src/learner.cc:231: Only 1 GPUs are visible, setting `gpu_id` to 0\n",
      "[0]\tvalidation_0-rmse:6.62783\n",
      "[419]\tvalidation_0-rmse:0.71714\n"
     ]
    },
    {
     "name": "stderr",
     "output_type": "stream",
     "text": [
      "\u001b[32m[I 2021-08-30 17:54:14,141]\u001b[0m Trial 174 finished with value: 0.7170893941065806 and parameters: {'learning_rate': 0.14956816248835283, 'reg_lambda': 0.030341740441412624, 'reg_alpha': 2.9053031092553904e-07, 'subsample': 0.16347506832295067, 'colsample_bytree': 0.5350503950826211, 'max_depth': 1}. Best is trial 165 with value: 0.717044280047798.\u001b[0m\n"
     ]
    },
    {
     "name": "stdout",
     "output_type": "stream",
     "text": [
      "[17:54:14] WARNING: C:/Users/Administrator/workspace/xgboost-win64_release_1.4.0/src/learner.cc:231: Only 1 GPUs are visible, setting `gpu_id` to 0\n",
      "[0]\tvalidation_0-rmse:6.92423\n",
      "[711]\tvalidation_0-rmse:0.71713\n"
     ]
    },
    {
     "name": "stderr",
     "output_type": "stream",
     "text": [
      "\u001b[32m[I 2021-08-30 17:54:16,232]\u001b[0m Trial 175 finished with value: 0.7170918924029887 and parameters: {'learning_rate': 0.11112147206606209, 'reg_lambda': 1.6967856217059946e-08, 'reg_alpha': 1.0423254603506531e-05, 'subsample': 0.10066152339005527, 'colsample_bytree': 0.408599183748269, 'max_depth': 1}. Best is trial 165 with value: 0.717044280047798.\u001b[0m\n"
     ]
    },
    {
     "name": "stdout",
     "output_type": "stream",
     "text": [
      "[17:54:16] WARNING: C:/Users/Administrator/workspace/xgboost-win64_release_1.4.0/src/learner.cc:231: Only 1 GPUs are visible, setting `gpu_id` to 0\n",
      "[0]\tvalidation_0-rmse:6.56568\n",
      "[609]\tvalidation_0-rmse:0.71714\n"
     ]
    },
    {
     "name": "stderr",
     "output_type": "stream",
     "text": [
      "\u001b[32m[I 2021-08-30 17:54:18,021]\u001b[0m Trial 176 finished with value: 0.717130411252098 and parameters: {'learning_rate': 0.15768957357035507, 'reg_lambda': 3.978564767228151e-08, 'reg_alpha': 26.107178586070155, 'subsample': 0.14606299300723127, 'colsample_bytree': 0.4482307944304327, 'max_depth': 1}. Best is trial 165 with value: 0.717044280047798.\u001b[0m\n"
     ]
    },
    {
     "name": "stdout",
     "output_type": "stream",
     "text": [
      "[17:54:18] WARNING: C:/Users/Administrator/workspace/xgboost-win64_release_1.4.0/src/learner.cc:231: Only 1 GPUs are visible, setting `gpu_id` to 0\n",
      "[0]\tvalidation_0-rmse:7.05490\n",
      "[545]\tvalidation_0-rmse:0.71713\n"
     ]
    },
    {
     "name": "stderr",
     "output_type": "stream",
     "text": [
      "\u001b[32m[I 2021-08-30 17:54:19,671]\u001b[0m Trial 177 finished with value: 0.7171026974167314 and parameters: {'learning_rate': 0.09408646098081176, 'reg_lambda': 9.7724124777233e-08, 'reg_alpha': 1.0824720874358421e-08, 'subsample': 0.1828759079941878, 'colsample_bytree': 0.4723758415558672, 'max_depth': 1}. Best is trial 165 with value: 0.717044280047798.\u001b[0m\n"
     ]
    },
    {
     "name": "stdout",
     "output_type": "stream",
     "text": [
      "[17:54:19] WARNING: C:/Users/Administrator/workspace/xgboost-win64_release_1.4.0/src/learner.cc:231: Only 1 GPUs are visible, setting `gpu_id` to 0\n",
      "[0]\tvalidation_0-rmse:6.97923\n",
      "[434]\tvalidation_0-rmse:0.71717\n"
     ]
    },
    {
     "name": "stderr",
     "output_type": "stream",
     "text": [
      "\u001b[32m[I 2021-08-30 17:54:21,021]\u001b[0m Trial 178 finished with value: 0.7171163389142745 and parameters: {'learning_rate': 0.10392596124414916, 'reg_lambda': 2.5719861330253566e-07, 'reg_alpha': 3.691333989344392e-08, 'subsample': 0.1287527781115103, 'colsample_bytree': 0.388770489946057, 'max_depth': 1}. Best is trial 165 with value: 0.717044280047798.\u001b[0m\n"
     ]
    },
    {
     "name": "stdout",
     "output_type": "stream",
     "text": [
      "[17:54:21] WARNING: C:/Users/Administrator/workspace/xgboost-win64_release_1.4.0/src/learner.cc:231: Only 1 GPUs are visible, setting `gpu_id` to 0\n",
      "[0]\tvalidation_0-rmse:6.74316\n",
      "[419]\tvalidation_0-rmse:0.71713\n"
     ]
    },
    {
     "name": "stderr",
     "output_type": "stream",
     "text": [
      "\u001b[32m[I 2021-08-30 17:54:22,336]\u001b[0m Trial 179 finished with value: 0.7170926552054042 and parameters: {'learning_rate': 0.1346124206534613, 'reg_lambda': 1.0074347431145464e-08, 'reg_alpha': 6.547809346348494, 'subsample': 0.14943765727555522, 'colsample_bytree': 0.5031299255258824, 'max_depth': 1}. Best is trial 165 with value: 0.717044280047798.\u001b[0m\n"
     ]
    },
    {
     "name": "stdout",
     "output_type": "stream",
     "text": [
      "[17:54:22] WARNING: C:/Users/Administrator/workspace/xgboost-win64_release_1.4.0/src/learner.cc:231: Only 1 GPUs are visible, setting `gpu_id` to 0\n",
      "[0]\tvalidation_0-rmse:6.81367\n",
      "[435]\tvalidation_0-rmse:0.71717\n"
     ]
    },
    {
     "name": "stderr",
     "output_type": "stream",
     "text": [
      "\u001b[32m[I 2021-08-30 17:54:23,687]\u001b[0m Trial 180 finished with value: 0.7171366315000496 and parameters: {'learning_rate': 0.12543216352684314, 'reg_lambda': 5.0667832350670846e-08, 'reg_alpha': 5.05493470368359e-07, 'subsample': 0.12935168561871369, 'colsample_bytree': 0.5599837103322083, 'max_depth': 1}. Best is trial 165 with value: 0.717044280047798.\u001b[0m\n"
     ]
    },
    {
     "name": "stdout",
     "output_type": "stream",
     "text": [
      "[17:54:23] WARNING: C:/Users/Administrator/workspace/xgboost-win64_release_1.4.0/src/learner.cc:231: Only 1 GPUs are visible, setting `gpu_id` to 0\n",
      "[0]\tvalidation_0-rmse:6.66922\n",
      "[416]\tvalidation_0-rmse:0.71711\n"
     ]
    },
    {
     "name": "stderr",
     "output_type": "stream",
     "text": [
      "\u001b[32m[I 2021-08-30 17:54:24,963]\u001b[0m Trial 181 finished with value: 0.7170726696485102 and parameters: {'learning_rate': 0.14416533964124906, 'reg_lambda': 2.7137630832304344e-08, 'reg_alpha': 2.2997413002449756e-06, 'subsample': 0.1698458823498843, 'colsample_bytree': 0.43199006779062504, 'max_depth': 1}. Best is trial 165 with value: 0.717044280047798.\u001b[0m\n"
     ]
    },
    {
     "name": "stdout",
     "output_type": "stream",
     "text": [
      "[17:54:25] WARNING: C:/Users/Administrator/workspace/xgboost-win64_release_1.4.0/src/learner.cc:231: Only 1 GPUs are visible, setting `gpu_id` to 0\n",
      "[0]\tvalidation_0-rmse:6.63766\n",
      "[435]\tvalidation_0-rmse:0.71716\n"
     ]
    },
    {
     "name": "stderr",
     "output_type": "stream",
     "text": [
      "\u001b[32m[I 2021-08-30 17:54:26,310]\u001b[0m Trial 182 finished with value: 0.7171138276847472 and parameters: {'learning_rate': 0.1482847053308614, 'reg_lambda': 1.7151521181366648e-08, 'reg_alpha': 9.323367324540468e-07, 'subsample': 0.16613379285495503, 'colsample_bytree': 0.4326889302967724, 'max_depth': 1}. Best is trial 165 with value: 0.717044280047798.\u001b[0m\n"
     ]
    },
    {
     "name": "stdout",
     "output_type": "stream",
     "text": [
      "[17:54:26] WARNING: C:/Users/Administrator/workspace/xgboost-win64_release_1.4.0/src/learner.cc:231: Only 1 GPUs are visible, setting `gpu_id` to 0\n",
      "[0]\tvalidation_0-rmse:6.86526\n",
      "[546]\tvalidation_0-rmse:0.71714\n"
     ]
    },
    {
     "name": "stderr",
     "output_type": "stream",
     "text": [
      "\u001b[32m[I 2021-08-30 17:54:27,945]\u001b[0m Trial 183 finished with value: 0.7171270792069792 and parameters: {'learning_rate': 0.11871040725791861, 'reg_lambda': 1.6791336492191016, 'reg_alpha': 3.142573996613678e-07, 'subsample': 0.5616467265436063, 'colsample_bytree': 0.4165930474771413, 'max_depth': 1}. Best is trial 165 with value: 0.717044280047798.\u001b[0m\n"
     ]
    },
    {
     "name": "stdout",
     "output_type": "stream",
     "text": [
      "[17:54:28] WARNING: C:/Users/Administrator/workspace/xgboost-win64_release_1.4.0/src/learner.cc:231: Only 1 GPUs are visible, setting `gpu_id` to 0\n",
      "[0]\tvalidation_0-rmse:6.73034\n",
      "[435]\tvalidation_0-rmse:0.71711\n"
     ]
    },
    {
     "name": "stderr",
     "output_type": "stream",
     "text": [
      "\u001b[32m[I 2021-08-30 17:54:29,301]\u001b[0m Trial 184 finished with value: 0.7170805125496076 and parameters: {'learning_rate': 0.13625019677757447, 'reg_lambda': 2.7817675257428477e-08, 'reg_alpha': 2.261717853106281e-06, 'subsample': 0.1859145923033801, 'colsample_bytree': 0.45168451159499073, 'max_depth': 1}. Best is trial 165 with value: 0.717044280047798.\u001b[0m\n"
     ]
    },
    {
     "name": "stdout",
     "output_type": "stream",
     "text": [
      "[17:54:29] WARNING: C:/Users/Administrator/workspace/xgboost-win64_release_1.4.0/src/learner.cc:231: Only 1 GPUs are visible, setting `gpu_id` to 0\n",
      "[0]\tvalidation_0-rmse:6.75106\n",
      "[609]\tvalidation_0-rmse:0.71720\n"
     ]
    },
    {
     "name": "stderr",
     "output_type": "stream",
     "text": [
      "\u001b[32m[I 2021-08-30 17:54:31,143]\u001b[0m Trial 185 finished with value: 0.7171911573392699 and parameters: {'learning_rate': 0.1335474099292998, 'reg_lambda': 3.271033442129163e-08, 'reg_alpha': 8.030619235599878e-08, 'subsample': 0.8245251569343636, 'colsample_bytree': 0.4833245971014429, 'max_depth': 1}. Best is trial 165 with value: 0.717044280047798.\u001b[0m\n"
     ]
    },
    {
     "name": "stdout",
     "output_type": "stream",
     "text": [
      "[17:54:31] WARNING: C:/Users/Administrator/workspace/xgboost-win64_release_1.4.0/src/learner.cc:231: Only 1 GPUs are visible, setting `gpu_id` to 0\n",
      "[0]\tvalidation_0-rmse:6.66981\n",
      "[522]\tvalidation_0-rmse:0.71716\n"
     ]
    },
    {
     "name": "stderr",
     "output_type": "stream",
     "text": [
      "\u001b[32m[I 2021-08-30 17:54:32,698]\u001b[0m Trial 186 finished with value: 0.7171270386519732 and parameters: {'learning_rate': 0.1441197725720178, 'reg_lambda': 6.255385465387176e-08, 'reg_alpha': 2.363917683729079e-06, 'subsample': 0.18640114025833093, 'colsample_bytree': 0.4539273087489461, 'max_depth': 1}. Best is trial 165 with value: 0.717044280047798.\u001b[0m\n"
     ]
    },
    {
     "name": "stdout",
     "output_type": "stream",
     "text": [
      "[17:54:32] WARNING: C:/Users/Administrator/workspace/xgboost-win64_release_1.4.0/src/learner.cc:231: Only 1 GPUs are visible, setting `gpu_id` to 0\n",
      "[0]\tvalidation_0-rmse:6.50233\n",
      "[558]\tvalidation_0-rmse:0.71730\n"
     ]
    },
    {
     "name": "stderr",
     "output_type": "stream",
     "text": [
      "\u001b[32m[I 2021-08-30 17:54:34,367]\u001b[0m Trial 187 finished with value: 0.7172278375410911 and parameters: {'learning_rate': 0.16586293232185498, 'reg_lambda': 2.1952113965348415e-08, 'reg_alpha': 2.25049978789254e-05, 'subsample': 0.21564312444686107, 'colsample_bytree': 0.461575562457275, 'max_depth': 1}. Best is trial 165 with value: 0.717044280047798.\u001b[0m\n"
     ]
    },
    {
     "name": "stdout",
     "output_type": "stream",
     "text": [
      "[17:54:34] WARNING: C:/Users/Administrator/workspace/xgboost-win64_release_1.4.0/src/learner.cc:231: Only 1 GPUs are visible, setting `gpu_id` to 0\n",
      "[0]\tvalidation_0-rmse:6.39560\n",
      "[924]\tvalidation_0-rmse:0.71714\n"
     ]
    },
    {
     "name": "stderr",
     "output_type": "stream",
     "text": [
      "\u001b[32m[I 2021-08-30 17:54:36,980]\u001b[0m Trial 188 finished with value: 0.717105924853189 and parameters: {'learning_rate': 0.17973951332213609, 'reg_lambda': 1.581948904060904e-08, 'reg_alpha': 4.120599925869608, 'subsample': 0.1767971978025626, 'colsample_bytree': 0.5084171459040341, 'max_depth': 1}. Best is trial 165 with value: 0.717044280047798.\u001b[0m\n"
     ]
    },
    {
     "name": "stdout",
     "output_type": "stream",
     "text": [
      "[17:54:37] WARNING: C:/Users/Administrator/workspace/xgboost-win64_release_1.4.0/src/learner.cc:231: Only 1 GPUs are visible, setting `gpu_id` to 0\n",
      "[0]\tvalidation_0-rmse:6.79676\n",
      "[444]\tvalidation_0-rmse:0.71720\n"
     ]
    },
    {
     "name": "stderr",
     "output_type": "stream",
     "text": [
      "\u001b[32m[I 2021-08-30 17:54:38,371]\u001b[0m Trial 189 finished with value: 0.7171463697721411 and parameters: {'learning_rate': 0.12762778191665486, 'reg_lambda': 3.132732562893774e-08, 'reg_alpha': 1.4297340543153323, 'subsample': 0.1969357825074205, 'colsample_bytree': 0.47684149888356187, 'max_depth': 1}. Best is trial 165 with value: 0.717044280047798.\u001b[0m\n"
     ]
    },
    {
     "name": "stdout",
     "output_type": "stream",
     "text": [
      "[17:54:38] WARNING: C:/Users/Administrator/workspace/xgboost-win64_release_1.4.0/src/learner.cc:231: Only 1 GPUs are visible, setting `gpu_id` to 0\n",
      "[0]\tvalidation_0-rmse:6.70226\n",
      "[419]\tvalidation_0-rmse:0.71713\n"
     ]
    },
    {
     "name": "stderr",
     "output_type": "stream",
     "text": [
      "\u001b[32m[I 2021-08-30 17:54:39,678]\u001b[0m Trial 190 finished with value: 0.7170823606134306 and parameters: {'learning_rate': 0.1399138793299247, 'reg_lambda': 9.218842428239522e-08, 'reg_alpha': 2.2603060910336187e-06, 'subsample': 0.154031246825911, 'colsample_bytree': 0.5381583504134484, 'max_depth': 1}. Best is trial 165 with value: 0.717044280047798.\u001b[0m\n"
     ]
    },
    {
     "name": "stdout",
     "output_type": "stream",
     "text": [
      "[17:54:39] WARNING: C:/Users/Administrator/workspace/xgboost-win64_release_1.4.0/src/learner.cc:231: Only 1 GPUs are visible, setting `gpu_id` to 0\n",
      "[0]\tvalidation_0-rmse:6.85684\n",
      "[416]\tvalidation_0-rmse:0.71709\n"
     ]
    },
    {
     "name": "stderr",
     "output_type": "stream",
     "text": [
      "\u001b[32m[I 2021-08-30 17:54:40,982]\u001b[0m Trial 191 finished with value: 0.7170435053122975 and parameters: {'learning_rate': 0.11982043119200379, 'reg_lambda': 4.868553879442497e-08, 'reg_alpha': 4.1687499603520315e-06, 'subsample': 0.14003296096733805, 'colsample_bytree': 0.4409144946639543, 'max_depth': 1}. Best is trial 191 with value: 0.7170435053122975.\u001b[0m\n"
     ]
    },
    {
     "name": "stdout",
     "output_type": "stream",
     "text": [
      "[17:54:41] WARNING: C:/Users/Administrator/workspace/xgboost-win64_release_1.4.0/src/learner.cc:231: Only 1 GPUs are visible, setting `gpu_id` to 0\n",
      "[0]\tvalidation_0-rmse:6.85426\n",
      "[418]\tvalidation_0-rmse:0.71710\n"
     ]
    },
    {
     "name": "stderr",
     "output_type": "stream",
     "text": [
      "\u001b[32m[I 2021-08-30 17:54:42,278]\u001b[0m Trial 192 finished with value: 0.7170775992572552 and parameters: {'learning_rate': 0.12016093412794165, 'reg_lambda': 5.203160320010631e-08, 'reg_alpha': 5.749953493087887e-06, 'subsample': 0.14303803916939656, 'colsample_bytree': 0.44719449077124773, 'max_depth': 1}. Best is trial 191 with value: 0.7170435053122975.\u001b[0m\n"
     ]
    },
    {
     "name": "stdout",
     "output_type": "stream",
     "text": [
      "[17:54:42] WARNING: C:/Users/Administrator/workspace/xgboost-win64_release_1.4.0/src/learner.cc:231: Only 1 GPUs are visible, setting `gpu_id` to 0\n",
      "[0]\tvalidation_0-rmse:6.85234\n",
      "[388]\tvalidation_0-rmse:0.71715\n"
     ]
    },
    {
     "name": "stderr",
     "output_type": "stream",
     "text": [
      "\u001b[32m[I 2021-08-30 17:54:43,520]\u001b[0m Trial 193 finished with value: 0.7171055051193111 and parameters: {'learning_rate': 0.12042315301954652, 'reg_lambda': 5.155228294098906e-08, 'reg_alpha': 3.6182229564004706e-06, 'subsample': 0.11578716725914465, 'colsample_bytree': 0.45770505996402505, 'max_depth': 1}. Best is trial 191 with value: 0.7170435053122975.\u001b[0m\n"
     ]
    },
    {
     "name": "stdout",
     "output_type": "stream",
     "text": [
      "[17:54:43] WARNING: C:/Users/Administrator/workspace/xgboost-win64_release_1.4.0/src/learner.cc:231: Only 1 GPUs are visible, setting `gpu_id` to 0\n",
      "[0]\tvalidation_0-rmse:6.76095\n",
      "[545]\tvalidation_0-rmse:0.71714\n"
     ]
    },
    {
     "name": "stderr",
     "output_type": "stream",
     "text": [
      "\u001b[32m[I 2021-08-30 17:54:45,166]\u001b[0m Trial 194 finished with value: 0.7171214355781309 and parameters: {'learning_rate': 0.1322722421413926, 'reg_lambda': 1.4032595464127949e-07, 'reg_alpha': 5.38912420679218e-06, 'subsample': 0.16322197691905285, 'colsample_bytree': 0.44271335403373047, 'max_depth': 1}. Best is trial 191 with value: 0.7170435053122975.\u001b[0m\n"
     ]
    },
    {
     "name": "stdout",
     "output_type": "stream",
     "text": [
      "[17:54:45] WARNING: C:/Users/Administrator/workspace/xgboost-win64_release_1.4.0/src/learner.cc:231: Only 1 GPUs are visible, setting `gpu_id` to 0\n",
      "[0]\tvalidation_0-rmse:6.57608\n",
      "[354]\tvalidation_0-rmse:0.71826\n"
     ]
    },
    {
     "name": "stderr",
     "output_type": "stream",
     "text": [
      "\u001b[32m[I 2021-08-30 17:54:48,199]\u001b[0m Trial 195 finished with value: 0.7176168564197696 and parameters: {'learning_rate': 0.15623760578605056, 'reg_lambda': 3.7772125835645866e-08, 'reg_alpha': 1.270845945318037e-06, 'subsample': 0.13851437628108895, 'colsample_bytree': 0.3999173930471816, 'max_depth': 7}. Best is trial 191 with value: 0.7170435053122975.\u001b[0m\n"
     ]
    },
    {
     "name": "stdout",
     "output_type": "stream",
     "text": [
      "[17:54:48] WARNING: C:/Users/Administrator/workspace/xgboost-win64_release_1.4.0/src/learner.cc:231: Only 1 GPUs are visible, setting `gpu_id` to 0\n",
      "[0]\tvalidation_0-rmse:6.90583\n",
      "[519]\tvalidation_0-rmse:0.71722\n"
     ]
    },
    {
     "name": "stderr",
     "output_type": "stream",
     "text": [
      "\u001b[32m[I 2021-08-30 17:54:49,659]\u001b[0m Trial 196 finished with value: 0.7171602792565884 and parameters: {'learning_rate': 0.11347122272304765, 'reg_lambda': 7.780561730166034e-08, 'reg_alpha': 5.802649894665029e-06, 'subsample': 0.1171764117974263, 'colsample_bytree': 0.4836156503409188, 'max_depth': 1}. Best is trial 191 with value: 0.7170435053122975.\u001b[0m\n"
     ]
    },
    {
     "name": "stdout",
     "output_type": "stream",
     "text": [
      "[17:54:49] WARNING: C:/Users/Administrator/workspace/xgboost-win64_release_1.4.0/src/learner.cc:231: Only 1 GPUs are visible, setting `gpu_id` to 0\n",
      "[0]\tvalidation_0-rmse:6.66203\n",
      "[397]\tvalidation_0-rmse:0.71713\n"
     ]
    },
    {
     "name": "stderr",
     "output_type": "stream",
     "text": [
      "\u001b[32m[I 2021-08-30 17:54:50,951]\u001b[0m Trial 197 finished with value: 0.7170951348959415 and parameters: {'learning_rate': 0.14512995605017232, 'reg_lambda': 1.4573102348954528e-08, 'reg_alpha': 2.194094643057931e-06, 'subsample': 0.14492278847544704, 'colsample_bytree': 0.9975216537395024, 'max_depth': 1}. Best is trial 191 with value: 0.7170435053122975.\u001b[0m\n"
     ]
    },
    {
     "name": "stdout",
     "output_type": "stream",
     "text": [
      "[17:54:51] WARNING: C:/Users/Administrator/workspace/xgboost-win64_release_1.4.0/src/learner.cc:231: Only 1 GPUs are visible, setting `gpu_id` to 0\n",
      "[0]\tvalidation_0-rmse:6.81871\n",
      "[354]\tvalidation_0-rmse:0.71777\n"
     ]
    },
    {
     "name": "stderr",
     "output_type": "stream",
     "text": [
      "\u001b[32m[I 2021-08-30 17:54:52,928]\u001b[0m Trial 198 finished with value: 0.7172384568099631 and parameters: {'learning_rate': 0.12469582483557175, 'reg_lambda': 2.624761583619951e-08, 'reg_alpha': 9.315433848177925e-06, 'subsample': 0.1742645714147101, 'colsample_bytree': 0.5202293534295525, 'max_depth': 5}. Best is trial 191 with value: 0.7170435053122975.\u001b[0m\n"
     ]
    },
    {
     "name": "stdout",
     "output_type": "stream",
     "text": [
      "[17:54:53] WARNING: C:/Users/Administrator/workspace/xgboost-win64_release_1.4.0/src/learner.cc:231: Only 1 GPUs are visible, setting `gpu_id` to 0\n",
      "[0]\tvalidation_0-rmse:6.74829\n",
      "[419]\tvalidation_0-rmse:0.71714\n"
     ]
    },
    {
     "name": "stderr",
     "output_type": "stream",
     "text": [
      "\u001b[32m[I 2021-08-30 17:54:54,216]\u001b[0m Trial 199 finished with value: 0.7170988136385834 and parameters: {'learning_rate': 0.13393779509744197, 'reg_lambda': 4.753875091710327e-08, 'reg_alpha': 3.7220820262034443e-06, 'subsample': 0.15913636009070523, 'colsample_bytree': 0.4693270671594832, 'max_depth': 1}. Best is trial 191 with value: 0.7170435053122975.\u001b[0m\n"
     ]
    },
    {
     "name": "stdout",
     "output_type": "stream",
     "text": [
      "[17:54:54] WARNING: C:/Users/Administrator/workspace/xgboost-win64_release_1.4.0/src/learner.cc:231: Only 1 GPUs are visible, setting `gpu_id` to 0\n",
      "[0]\tvalidation_0-rmse:6.88791\n",
      "[402]\tvalidation_0-rmse:0.71806\n"
     ]
    },
    {
     "name": "stderr",
     "output_type": "stream",
     "text": [
      "\u001b[32m[I 2021-08-30 17:54:56,935]\u001b[0m Trial 200 finished with value: 0.7175411423420941 and parameters: {'learning_rate': 0.11579650616301648, 'reg_lambda': 1.1825000743602656e-07, 'reg_alpha': 1.1419590849091305e-06, 'subsample': 0.1011430003508641, 'colsample_bytree': 0.4993534524955871, 'max_depth': 6}. Best is trial 191 with value: 0.7170435053122975.\u001b[0m\n"
     ]
    },
    {
     "name": "stdout",
     "output_type": "stream",
     "text": [
      "[17:54:57] WARNING: C:/Users/Administrator/workspace/xgboost-win64_release_1.4.0/src/learner.cc:231: Only 1 GPUs are visible, setting `gpu_id` to 0\n",
      "[0]\tvalidation_0-rmse:6.97058\n",
      "[438]\tvalidation_0-rmse:0.71713\n"
     ]
    },
    {
     "name": "stderr",
     "output_type": "stream",
     "text": [
      "\u001b[32m[I 2021-08-30 17:54:58,218]\u001b[0m Trial 201 finished with value: 0.7171043328963552 and parameters: {'learning_rate': 0.10505075584871129, 'reg_lambda': 2.0725462372097e-08, 'reg_alpha': 4.740819206324888e-07, 'subsample': 0.14051522299313782, 'colsample_bytree': 0.42241370622587826, 'max_depth': 1}. Best is trial 191 with value: 0.7170435053122975.\u001b[0m\n"
     ]
    },
    {
     "name": "stdout",
     "output_type": "stream",
     "text": [
      "[17:54:58] WARNING: C:/Users/Administrator/workspace/xgboost-win64_release_1.4.0/src/learner.cc:231: Only 1 GPUs are visible, setting `gpu_id` to 0\n",
      "[0]\tvalidation_0-rmse:6.81702\n",
      "[419]\tvalidation_0-rmse:0.71710\n"
     ]
    },
    {
     "name": "stderr",
     "output_type": "stream",
     "text": [
      "\u001b[32m[I 2021-08-30 17:54:59,528]\u001b[0m Trial 202 finished with value: 0.7170763144431042 and parameters: {'learning_rate': 0.12500471153025766, 'reg_lambda': 1.0025343740219698e-08, 'reg_alpha': 0.00020630354469566403, 'subsample': 0.13574510862327124, 'colsample_bytree': 0.43743471152705315, 'max_depth': 1}. Best is trial 191 with value: 0.7170435053122975.\u001b[0m\n"
     ]
    },
    {
     "name": "stdout",
     "output_type": "stream",
     "text": [
      "[17:54:59] WARNING: C:/Users/Administrator/workspace/xgboost-win64_release_1.4.0/src/learner.cc:231: Only 1 GPUs are visible, setting `gpu_id` to 0\n",
      "[0]\tvalidation_0-rmse:6.81380\n",
      "[418]\tvalidation_0-rmse:0.71710\n"
     ]
    },
    {
     "name": "stderr",
     "output_type": "stream",
     "text": [
      "\u001b[32m[I 2021-08-30 17:55:00,819]\u001b[0m Trial 203 finished with value: 0.7170697878994776 and parameters: {'learning_rate': 0.1254217400847582, 'reg_lambda': 1.2131521743629546e-08, 'reg_alpha': 7.886588008571693, 'subsample': 0.1370660510663289, 'colsample_bytree': 0.44816324391076506, 'max_depth': 1}. Best is trial 191 with value: 0.7170435053122975.\u001b[0m\n"
     ]
    },
    {
     "name": "stdout",
     "output_type": "stream",
     "text": [
      "[17:55:00] WARNING: C:/Users/Administrator/workspace/xgboost-win64_release_1.4.0/src/learner.cc:231: Only 1 GPUs are visible, setting `gpu_id` to 0\n",
      "[0]\tvalidation_0-rmse:6.81931\n",
      "[419]\tvalidation_0-rmse:0.71716\n"
     ]
    },
    {
     "name": "stderr",
     "output_type": "stream",
     "text": [
      "\u001b[32m[I 2021-08-30 17:55:02,180]\u001b[0m Trial 204 finished with value: 0.7170962628563214 and parameters: {'learning_rate': 0.12471629215287813, 'reg_lambda': 1.276685912799808e-08, 'reg_alpha': 0.00022484335344413473, 'subsample': 0.12494701923039109, 'colsample_bytree': 0.41464188314526523, 'max_depth': 1}. Best is trial 191 with value: 0.7170435053122975.\u001b[0m\n"
     ]
    },
    {
     "name": "stdout",
     "output_type": "stream",
     "text": [
      "[17:55:02] WARNING: C:/Users/Administrator/workspace/xgboost-win64_release_1.4.0/src/learner.cc:231: Only 1 GPUs are visible, setting `gpu_id` to 0\n",
      "[0]\tvalidation_0-rmse:6.87710\n",
      "[947]\tvalidation_0-rmse:0.71714\n"
     ]
    },
    {
     "name": "stderr",
     "output_type": "stream",
     "text": [
      "\u001b[32m[I 2021-08-30 17:55:04,872]\u001b[0m Trial 205 finished with value: 0.7171269029363156 and parameters: {'learning_rate': 0.11720227262655826, 'reg_lambda': 1.3015145353333527e-08, 'reg_alpha': 14.224669001211556, 'subsample': 0.12820594809097238, 'colsample_bytree': 0.4431319644958571, 'max_depth': 1}. Best is trial 191 with value: 0.7170435053122975.\u001b[0m\n"
     ]
    },
    {
     "name": "stdout",
     "output_type": "stream",
     "text": [
      "[17:55:05] WARNING: C:/Users/Administrator/workspace/xgboost-win64_release_1.4.0/src/learner.cc:231: Only 1 GPUs are visible, setting `gpu_id` to 0\n",
      "[0]\tvalidation_0-rmse:6.79435\n",
      "[419]\tvalidation_0-rmse:0.71711\n"
     ]
    },
    {
     "name": "stderr",
     "output_type": "stream",
     "text": [
      "\u001b[32m[I 2021-08-30 17:55:06,181]\u001b[0m Trial 206 finished with value: 0.7170807107109296 and parameters: {'learning_rate': 0.12795370479815674, 'reg_lambda': 1.0898449731059491e-08, 'reg_alpha': 5.551892014224367, 'subsample': 0.14773018644194266, 'colsample_bytree': 0.4634577105808724, 'max_depth': 1}. Best is trial 191 with value: 0.7170435053122975.\u001b[0m\n"
     ]
    },
    {
     "name": "stdout",
     "output_type": "stream",
     "text": [
      "[17:55:06] WARNING: C:/Users/Administrator/workspace/xgboost-win64_release_1.4.0/src/learner.cc:231: Only 1 GPUs are visible, setting `gpu_id` to 0\n",
      "[0]\tvalidation_0-rmse:6.93070\n",
      "[837]\tvalidation_0-rmse:0.71713\n"
     ]
    },
    {
     "name": "stderr",
     "output_type": "stream",
     "text": [
      "\u001b[32m[I 2021-08-30 17:55:08,614]\u001b[0m Trial 207 finished with value: 0.7170900897283805 and parameters: {'learning_rate': 0.11025333231575962, 'reg_lambda': 1.931362134627531e-08, 'reg_alpha': 3.361882866243411e-05, 'subsample': 0.11236797145792836, 'colsample_bytree': 0.38234813921310784, 'max_depth': 1}. Best is trial 191 with value: 0.7170435053122975.\u001b[0m\n"
     ]
    },
    {
     "name": "stdout",
     "output_type": "stream",
     "text": [
      "[17:55:08] WARNING: C:/Users/Administrator/workspace/xgboost-win64_release_1.4.0/src/learner.cc:231: Only 1 GPUs are visible, setting `gpu_id` to 0\n",
      "[0]\tvalidation_0-rmse:6.65921\n",
      "[418]\tvalidation_0-rmse:0.71716\n"
     ]
    },
    {
     "name": "stderr",
     "output_type": "stream",
     "text": [
      "\u001b[32m[I 2021-08-30 17:55:09,912]\u001b[0m Trial 208 finished with value: 0.7171241052928256 and parameters: {'learning_rate': 0.14548825432141943, 'reg_lambda': 4.028170710373569e-08, 'reg_alpha': 9.875773637432536e-06, 'subsample': 0.16392078462727558, 'colsample_bytree': 0.4841881523244481, 'max_depth': 1}. Best is trial 191 with value: 0.7170435053122975.\u001b[0m\n"
     ]
    },
    {
     "name": "stdout",
     "output_type": "stream",
     "text": [
      "[17:55:10] WARNING: C:/Users/Administrator/workspace/xgboost-win64_release_1.4.0/src/learner.cc:231: Only 1 GPUs are visible, setting `gpu_id` to 0\n",
      "[0]\tvalidation_0-rmse:6.84393\n",
      "[416]\tvalidation_0-rmse:0.71711\n"
     ]
    },
    {
     "name": "stderr",
     "output_type": "stream",
     "text": [
      "\u001b[32m[I 2021-08-30 17:55:11,362]\u001b[0m Trial 209 finished with value: 0.7170878532404195 and parameters: {'learning_rate': 0.12151075754556254, 'reg_lambda': 1.0434456490444597e-08, 'reg_alpha': 6.697900214952099, 'subsample': 0.13300851538118666, 'colsample_bytree': 0.43116880338423574, 'max_depth': 1}. Best is trial 191 with value: 0.7170435053122975.\u001b[0m\n"
     ]
    },
    {
     "name": "stdout",
     "output_type": "stream",
     "text": [
      "[17:55:11] WARNING: C:/Users/Administrator/workspace/xgboost-win64_release_1.4.0/src/learner.cc:231: Only 1 GPUs are visible, setting `gpu_id` to 0\n",
      "[0]\tvalidation_0-rmse:6.70372\n",
      "[419]\tvalidation_0-rmse:0.71713\n"
     ]
    },
    {
     "name": "stderr",
     "output_type": "stream",
     "text": [
      "\u001b[32m[I 2021-08-30 17:55:12,718]\u001b[0m Trial 210 finished with value: 0.7171034567479662 and parameters: {'learning_rate': 0.13972899709688905, 'reg_lambda': 7.044591062462844e-08, 'reg_alpha': 0.009867485203559453, 'subsample': 0.14896825442236813, 'colsample_bytree': 0.5036558241800325, 'max_depth': 1}. Best is trial 191 with value: 0.7170435053122975.\u001b[0m\n"
     ]
    },
    {
     "name": "stdout",
     "output_type": "stream",
     "text": [
      "[17:55:12] WARNING: C:/Users/Administrator/workspace/xgboost-win64_release_1.4.0/src/learner.cc:231: Only 1 GPUs are visible, setting `gpu_id` to 0\n",
      "[0]\tvalidation_0-rmse:6.73616\n",
      "[418]\tvalidation_0-rmse:0.71713\n"
     ]
    },
    {
     "name": "stderr",
     "output_type": "stream",
     "text": [
      "\u001b[32m[I 2021-08-30 17:55:14,029]\u001b[0m Trial 211 finished with value: 0.7170998639726858 and parameters: {'learning_rate': 0.1354893284789659, 'reg_lambda': 2.755861649572875e-08, 'reg_alpha': 1.5409787915966733e-06, 'subsample': 0.18155232923930767, 'colsample_bytree': 0.4503047453961202, 'max_depth': 1}. Best is trial 191 with value: 0.7170435053122975.\u001b[0m\n"
     ]
    },
    {
     "name": "stdout",
     "output_type": "stream",
     "text": [
      "[17:55:14] WARNING: C:/Users/Administrator/workspace/xgboost-win64_release_1.4.0/src/learner.cc:231: Only 1 GPUs are visible, setting `gpu_id` to 0\n",
      "[0]\tvalidation_0-rmse:6.78609\n",
      "[419]\tvalidation_0-rmse:0.71713\n"
     ]
    },
    {
     "name": "stderr",
     "output_type": "stream",
     "text": [
      "\u001b[32m[I 2021-08-30 17:55:15,368]\u001b[0m Trial 212 finished with value: 0.717087250157193 and parameters: {'learning_rate': 0.1289982420634838, 'reg_lambda': 2.4555173271644015e-08, 'reg_alpha': 7.192241426028496e-05, 'subsample': 0.16491159226762156, 'colsample_bytree': 0.45011616320517606, 'max_depth': 1}. Best is trial 191 with value: 0.7170435053122975.\u001b[0m\n"
     ]
    },
    {
     "name": "stdout",
     "output_type": "stream",
     "text": [
      "[17:55:15] WARNING: C:/Users/Administrator/workspace/xgboost-win64_release_1.4.0/src/learner.cc:231: Only 1 GPUs are visible, setting `gpu_id` to 0\n",
      "[0]\tvalidation_0-rmse:6.59282\n",
      "[570]\tvalidation_0-rmse:0.71717\n"
     ]
    },
    {
     "name": "stderr",
     "output_type": "stream",
     "text": [
      "\u001b[32m[I 2021-08-30 17:55:17,071]\u001b[0m Trial 213 finished with value: 0.7171190997246848 and parameters: {'learning_rate': 0.15415281763488117, 'reg_lambda': 3.605048947522406e-08, 'reg_alpha': 8.479388676452396, 'subsample': 0.11686038581261977, 'colsample_bytree': 0.40714048812922027, 'max_depth': 1}. Best is trial 191 with value: 0.7170435053122975.\u001b[0m\n"
     ]
    },
    {
     "name": "stdout",
     "output_type": "stream",
     "text": [
      "[17:55:17] WARNING: C:/Users/Administrator/workspace/xgboost-win64_release_1.4.0/src/learner.cc:231: Only 1 GPUs are visible, setting `gpu_id` to 0\n",
      "[0]\tvalidation_0-rmse:6.73751\n",
      "[476]\tvalidation_0-rmse:0.71714\n"
     ]
    },
    {
     "name": "stderr",
     "output_type": "stream",
     "text": [
      "\u001b[32m[I 2021-08-30 17:55:18,519]\u001b[0m Trial 214 finished with value: 0.717076427277952 and parameters: {'learning_rate': 0.13533273053995978, 'reg_lambda': 3.500938897147164e-06, 'reg_alpha': 3.1357055165232177, 'subsample': 0.1927478361519585, 'colsample_bytree': 0.4683254126399936, 'max_depth': 1}. Best is trial 191 with value: 0.7170435053122975.\u001b[0m\n"
     ]
    },
    {
     "name": "stdout",
     "output_type": "stream",
     "text": [
      "[17:55:18] WARNING: C:/Users/Administrator/workspace/xgboost-win64_release_1.4.0/src/learner.cc:231: Only 1 GPUs are visible, setting `gpu_id` to 0\n",
      "[0]\tvalidation_0-rmse:6.86401\n",
      "[419]\tvalidation_0-rmse:0.71708\n"
     ]
    },
    {
     "name": "stderr",
     "output_type": "stream",
     "text": [
      "\u001b[32m[I 2021-08-30 17:55:19,830]\u001b[0m Trial 215 finished with value: 0.7170653719984421 and parameters: {'learning_rate': 0.11889096615949635, 'reg_lambda': 1.7492464472626356e-08, 'reg_alpha': 2.2891258895050086, 'subsample': 0.1374085044204751, 'colsample_bytree': 0.47490595684570597, 'max_depth': 1}. Best is trial 191 with value: 0.7170435053122975.\u001b[0m\n"
     ]
    },
    {
     "name": "stdout",
     "output_type": "stream",
     "text": [
      "[17:55:19] WARNING: C:/Users/Administrator/workspace/xgboost-win64_release_1.4.0/src/learner.cc:231: Only 1 GPUs are visible, setting `gpu_id` to 0\n",
      "[0]\tvalidation_0-rmse:6.91535\n",
      "[1000]\tvalidation_0-rmse:0.71714\n",
      "[1296]\tvalidation_0-rmse:0.71717\n"
     ]
    },
    {
     "name": "stderr",
     "output_type": "stream",
     "text": [
      "\u001b[32m[I 2021-08-30 17:55:23,537]\u001b[0m Trial 216 finished with value: 0.7171367794190748 and parameters: {'learning_rate': 0.11224443213144782, 'reg_lambda': 2.574796834935829e-05, 'reg_alpha': 20.609520379045026, 'subsample': 0.13239923615834728, 'colsample_bytree': 0.4809979906277729, 'max_depth': 1}. Best is trial 191 with value: 0.7170435053122975.\u001b[0m\n"
     ]
    },
    {
     "name": "stdout",
     "output_type": "stream",
     "text": [
      "[17:55:23] WARNING: C:/Users/Administrator/workspace/xgboost-win64_release_1.4.0/src/learner.cc:231: Only 1 GPUs are visible, setting `gpu_id` to 0\n",
      "[0]\tvalidation_0-rmse:6.82703\n",
      "[435]\tvalidation_0-rmse:0.71713\n"
     ]
    },
    {
     "name": "stderr",
     "output_type": "stream",
     "text": [
      "\u001b[32m[I 2021-08-30 17:55:24,865]\u001b[0m Trial 217 finished with value: 0.7170941268796936 and parameters: {'learning_rate': 0.12368894917842656, 'reg_lambda': 4.526347320887843e-06, 'reg_alpha': 2.5754299648646644, 'subsample': 0.16225837493526207, 'colsample_bytree': 0.46783432664503, 'max_depth': 1}. Best is trial 191 with value: 0.7170435053122975.\u001b[0m\n"
     ]
    },
    {
     "name": "stdout",
     "output_type": "stream",
     "text": [
      "[17:55:25] WARNING: C:/Users/Administrator/workspace/xgboost-win64_release_1.4.0/src/learner.cc:231: Only 1 GPUs are visible, setting `gpu_id` to 0\n",
      "[0]\tvalidation_0-rmse:6.86922\n",
      "[417]\tvalidation_0-rmse:0.71710\n"
     ]
    },
    {
     "name": "stderr",
     "output_type": "stream",
     "text": [
      "\u001b[32m[I 2021-08-30 17:55:26,229]\u001b[0m Trial 218 finished with value: 0.7170767373255132 and parameters: {'learning_rate': 0.11823871225160072, 'reg_lambda': 2.0043750261526253e-07, 'reg_alpha': 3.64792293007897, 'subsample': 0.11520636249923656, 'colsample_bytree': 0.42933681608111185, 'max_depth': 1}. Best is trial 191 with value: 0.7170435053122975.\u001b[0m\n"
     ]
    },
    {
     "name": "stdout",
     "output_type": "stream",
     "text": [
      "[17:55:26] WARNING: C:/Users/Administrator/workspace/xgboost-win64_release_1.4.0/src/learner.cc:231: Only 1 GPUs are visible, setting `gpu_id` to 0\n",
      "[0]\tvalidation_0-rmse:6.93401\n",
      "[723]\tvalidation_0-rmse:0.71718\n"
     ]
    },
    {
     "name": "stderr",
     "output_type": "stream",
     "text": [
      "\u001b[32m[I 2021-08-30 17:55:28,433]\u001b[0m Trial 219 finished with value: 0.7171450689856189 and parameters: {'learning_rate': 0.10980981936365737, 'reg_lambda': 5.342739213353673e-07, 'reg_alpha': 4.261080252146405, 'subsample': 0.11671721310228891, 'colsample_bytree': 0.42828371282453065, 'max_depth': 1}. Best is trial 191 with value: 0.7170435053122975.\u001b[0m\n"
     ]
    },
    {
     "name": "stdout",
     "output_type": "stream",
     "text": [
      "[17:55:28] WARNING: C:/Users/Administrator/workspace/xgboost-win64_release_1.4.0/src/learner.cc:231: Only 1 GPUs are visible, setting `gpu_id` to 0\n",
      "[0]\tvalidation_0-rmse:6.78450\n",
      "[587]\tvalidation_0-rmse:0.71712\n"
     ]
    },
    {
     "name": "stderr",
     "output_type": "stream",
     "text": [
      "\u001b[32m[I 2021-08-30 17:55:30,161]\u001b[0m Trial 220 finished with value: 0.7170758559026342 and parameters: {'learning_rate': 0.12928245415234874, 'reg_lambda': 1.9245030914599848e-07, 'reg_alpha': 2.0533569398669207, 'subsample': 0.10324116583110475, 'colsample_bytree': 0.4381794395933249, 'max_depth': 1}. Best is trial 191 with value: 0.7170435053122975.\u001b[0m\n"
     ]
    },
    {
     "name": "stdout",
     "output_type": "stream",
     "text": [
      "[17:55:30] WARNING: C:/Users/Administrator/workspace/xgboost-win64_release_1.4.0/src/learner.cc:231: Only 1 GPUs are visible, setting `gpu_id` to 0\n",
      "[0]\tvalidation_0-rmse:6.79971\n",
      "[594]\tvalidation_0-rmse:0.71712\n"
     ]
    },
    {
     "name": "stderr",
     "output_type": "stream",
     "text": [
      "\u001b[32m[I 2021-08-30 17:55:32,030]\u001b[0m Trial 221 finished with value: 0.7170719902543713 and parameters: {'learning_rate': 0.1272968144454642, 'reg_lambda': 3.0692611534203556e-07, 'reg_alpha': 2.0708820362173075, 'subsample': 0.10764107276956802, 'colsample_bytree': 0.43207479230043383, 'max_depth': 1}. Best is trial 191 with value: 0.7170435053122975.\u001b[0m\n"
     ]
    },
    {
     "name": "stdout",
     "output_type": "stream",
     "text": [
      "[17:55:32] WARNING: C:/Users/Administrator/workspace/xgboost-win64_release_1.4.0/src/learner.cc:231: Only 1 GPUs are visible, setting `gpu_id` to 0\n",
      "[0]\tvalidation_0-rmse:6.84975\n",
      "[594]\tvalidation_0-rmse:0.71711\n"
     ]
    },
    {
     "name": "stderr",
     "output_type": "stream",
     "text": [
      "\u001b[32m[I 2021-08-30 17:55:33,865]\u001b[0m Trial 222 finished with value: 0.7170730464364676 and parameters: {'learning_rate': 0.12079303831059852, 'reg_lambda': 2.400471124944184e-07, 'reg_alpha': 3.016421382546812, 'subsample': 0.10813409250061423, 'colsample_bytree': 0.4309880139040773, 'max_depth': 1}. Best is trial 191 with value: 0.7170435053122975.\u001b[0m\n"
     ]
    },
    {
     "name": "stdout",
     "output_type": "stream",
     "text": [
      "[17:55:34] WARNING: C:/Users/Administrator/workspace/xgboost-win64_release_1.4.0/src/learner.cc:231: Only 1 GPUs are visible, setting `gpu_id` to 0\n",
      "[0]\tvalidation_0-rmse:6.79366\n",
      "[606]\tvalidation_0-rmse:0.71708\n"
     ]
    },
    {
     "name": "stderr",
     "output_type": "stream",
     "text": [
      "\u001b[32m[I 2021-08-30 17:55:35,675]\u001b[0m Trial 223 finished with value: 0.7170570284522995 and parameters: {'learning_rate': 0.12807591338836607, 'reg_lambda': 2.8207375637180565e-07, 'reg_alpha': 3.0234679190872007, 'subsample': 0.10925626903005448, 'colsample_bytree': 0.42011666991702873, 'max_depth': 1}. Best is trial 191 with value: 0.7170435053122975.\u001b[0m\n"
     ]
    },
    {
     "name": "stdout",
     "output_type": "stream",
     "text": [
      "[17:55:35] WARNING: C:/Users/Administrator/workspace/xgboost-win64_release_1.4.0/src/learner.cc:231: Only 1 GPUs are visible, setting `gpu_id` to 0\n",
      "[0]\tvalidation_0-rmse:6.78463\n",
      "[606]\tvalidation_0-rmse:0.71709\n"
     ]
    },
    {
     "name": "stderr",
     "output_type": "stream",
     "text": [
      "\u001b[32m[I 2021-08-30 17:55:37,451]\u001b[0m Trial 224 finished with value: 0.717070878973936 and parameters: {'learning_rate': 0.1292654423657722, 'reg_lambda': 3.009176012063345e-07, 'reg_alpha': 2.1746006083735474, 'subsample': 0.10322000363229267, 'colsample_bytree': 0.4027075815288061, 'max_depth': 1}. Best is trial 191 with value: 0.7170435053122975.\u001b[0m\n"
     ]
    },
    {
     "name": "stdout",
     "output_type": "stream",
     "text": [
      "[17:55:37] WARNING: C:/Users/Administrator/workspace/xgboost-win64_release_1.4.0/src/learner.cc:231: Only 1 GPUs are visible, setting `gpu_id` to 0\n",
      "[0]\tvalidation_0-rmse:6.83620\n",
      "[712]\tvalidation_0-rmse:0.71710\n"
     ]
    },
    {
     "name": "stderr",
     "output_type": "stream",
     "text": [
      "\u001b[32m[I 2021-08-30 17:55:39,506]\u001b[0m Trial 225 finished with value: 0.717055065442057 and parameters: {'learning_rate': 0.12256919317360832, 'reg_lambda': 2.288137730449456e-07, 'reg_alpha': 1.521271586687423, 'subsample': 0.10010642619936945, 'colsample_bytree': 0.3998040189145229, 'max_depth': 1}. Best is trial 191 with value: 0.7170435053122975.\u001b[0m\n"
     ]
    },
    {
     "name": "stdout",
     "output_type": "stream",
     "text": [
      "[17:55:39] WARNING: C:/Users/Administrator/workspace/xgboost-win64_release_1.4.0/src/learner.cc:231: Only 1 GPUs are visible, setting `gpu_id` to 0\n",
      "[0]\tvalidation_0-rmse:6.80647\n",
      "[560]\tvalidation_0-rmse:0.71713\n"
     ]
    },
    {
     "name": "stderr",
     "output_type": "stream",
     "text": [
      "\u001b[32m[I 2021-08-30 17:55:41,164]\u001b[0m Trial 226 finished with value: 0.7170656137855881 and parameters: {'learning_rate': 0.12643452139814715, 'reg_lambda': 3.4070037788139635e-07, 'reg_alpha': 2.041171414174259, 'subsample': 0.10131611492820723, 'colsample_bytree': 0.3835888740782948, 'max_depth': 1}. Best is trial 191 with value: 0.7170435053122975.\u001b[0m\n"
     ]
    },
    {
     "name": "stdout",
     "output_type": "stream",
     "text": [
      "[17:55:41] WARNING: C:/Users/Administrator/workspace/xgboost-win64_release_1.4.0/src/learner.cc:231: Only 1 GPUs are visible, setting `gpu_id` to 0\n",
      "[0]\tvalidation_0-rmse:6.95375\n",
      "[711]\tvalidation_0-rmse:0.71708\n"
     ]
    },
    {
     "name": "stderr",
     "output_type": "stream",
     "text": [
      "\u001b[32m[I 2021-08-30 17:55:43,241]\u001b[0m Trial 227 finished with value: 0.7170457651161399 and parameters: {'learning_rate': 0.10729279538494381, 'reg_lambda': 4.0122044883627475e-07, 'reg_alpha': 1.738938006047159, 'subsample': 0.10000419098054816, 'colsample_bytree': 0.3631484350673594, 'max_depth': 1}. Best is trial 191 with value: 0.7170435053122975.\u001b[0m\n"
     ]
    },
    {
     "name": "stdout",
     "output_type": "stream",
     "text": [
      "[17:55:43] WARNING: C:/Users/Administrator/workspace/xgboost-win64_release_1.4.0/src/learner.cc:231: Only 1 GPUs are visible, setting `gpu_id` to 0\n",
      "[0]\tvalidation_0-rmse:6.98782\n",
      "[559]\tvalidation_0-rmse:0.71716\n"
     ]
    },
    {
     "name": "stderr",
     "output_type": "stream",
     "text": [
      "\u001b[32m[I 2021-08-30 17:55:44,922]\u001b[0m Trial 228 finished with value: 0.7171250348386009 and parameters: {'learning_rate': 0.10286289731441292, 'reg_lambda': 3.626100836436664e-07, 'reg_alpha': 1.3749685554140916, 'subsample': 0.10034836208474758, 'colsample_bytree': 0.37213899791821836, 'max_depth': 1}. Best is trial 191 with value: 0.7170435053122975.\u001b[0m\n"
     ]
    },
    {
     "name": "stdout",
     "output_type": "stream",
     "text": [
      "[17:55:45] WARNING: C:/Users/Administrator/workspace/xgboost-win64_release_1.4.0/src/learner.cc:231: Only 1 GPUs are visible, setting `gpu_id` to 0\n",
      "[0]\tvalidation_0-rmse:6.90734\n",
      "[605]\tvalidation_0-rmse:0.71711\n"
     ]
    },
    {
     "name": "stderr",
     "output_type": "stream",
     "text": [
      "\u001b[32m[I 2021-08-30 17:55:46,704]\u001b[0m Trial 229 finished with value: 0.7170923865514987 and parameters: {'learning_rate': 0.11330500275060647, 'reg_lambda': 4.088055513514574e-07, 'reg_alpha': 2.0859203005463165, 'subsample': 0.10565958170270166, 'colsample_bytree': 0.3905089335419823, 'max_depth': 1}. Best is trial 191 with value: 0.7170435053122975.\u001b[0m\n"
     ]
    },
    {
     "name": "stdout",
     "output_type": "stream",
     "text": [
      "[17:55:46] WARNING: C:/Users/Administrator/workspace/xgboost-win64_release_1.4.0/src/learner.cc:231: Only 1 GPUs are visible, setting `gpu_id` to 0\n",
      "[0]\tvalidation_0-rmse:6.06694\n",
      "[703]\tvalidation_0-rmse:0.71729\n"
     ]
    },
    {
     "name": "stderr",
     "output_type": "stream",
     "text": [
      "\u001b[32m[I 2021-08-30 17:55:48,750]\u001b[0m Trial 230 finished with value: 0.7172552072324004 and parameters: {'learning_rate': 0.22253595498775977, 'reg_lambda': 9.274255990852853e-07, 'reg_alpha': 0.8372603273321911, 'subsample': 0.11619759975216712, 'colsample_bytree': 0.3583531343625416, 'max_depth': 1}. Best is trial 191 with value: 0.7170435053122975.\u001b[0m\n"
     ]
    },
    {
     "name": "stdout",
     "output_type": "stream",
     "text": [
      "[17:55:48] WARNING: C:/Users/Administrator/workspace/xgboost-win64_release_1.4.0/src/learner.cc:231: Only 1 GPUs are visible, setting `gpu_id` to 0\n",
      "[0]\tvalidation_0-rmse:6.78768\n",
      "[436]\tvalidation_0-rmse:0.71714\n"
     ]
    },
    {
     "name": "stderr",
     "output_type": "stream",
     "text": [
      "\u001b[32m[I 2021-08-30 17:55:50,137]\u001b[0m Trial 231 finished with value: 0.7170825447018296 and parameters: {'learning_rate': 0.12881793026952149, 'reg_lambda': 2.2853164242970868e-07, 'reg_alpha': 3.186511456874596, 'subsample': 0.1215666496298355, 'colsample_bytree': 0.40499470391860926, 'max_depth': 1}. Best is trial 191 with value: 0.7170435053122975.\u001b[0m\n"
     ]
    },
    {
     "name": "stdout",
     "output_type": "stream",
     "text": [
      "[17:55:50] WARNING: C:/Users/Administrator/workspace/xgboost-win64_release_1.4.0/src/learner.cc:231: Only 1 GPUs are visible, setting `gpu_id` to 0\n",
      "[0]\tvalidation_0-rmse:6.95035\n",
      "[560]\tvalidation_0-rmse:0.71708\n"
     ]
    },
    {
     "name": "stderr",
     "output_type": "stream",
     "text": [
      "\u001b[32m[I 2021-08-30 17:55:51,864]\u001b[0m Trial 232 finished with value: 0.7170368765465738 and parameters: {'learning_rate': 0.10773343013761878, 'reg_lambda': 3.426843771306775e-07, 'reg_alpha': 1.874830295007177, 'subsample': 0.10014663878086152, 'colsample_bytree': 0.33910866215359275, 'max_depth': 1}. Best is trial 232 with value: 0.7170368765465738.\u001b[0m\n"
     ]
    },
    {
     "name": "stdout",
     "output_type": "stream",
     "text": [
      "[17:55:52] WARNING: C:/Users/Administrator/workspace/xgboost-win64_release_1.4.0/src/learner.cc:231: Only 1 GPUs are visible, setting `gpu_id` to 0\n",
      "[0]\tvalidation_0-rmse:6.95832\n",
      "[711]\tvalidation_0-rmse:0.71715\n"
     ]
    },
    {
     "name": "stderr",
     "output_type": "stream",
     "text": [
      "\u001b[32m[I 2021-08-30 17:55:53,983]\u001b[0m Trial 233 finished with value: 0.7171344360278069 and parameters: {'learning_rate': 0.10670175453489752, 'reg_lambda': 2.0294165540926838e-07, 'reg_alpha': 1.8085448035234528, 'subsample': 0.1022594703415965, 'colsample_bytree': 0.33492057779940193, 'max_depth': 1}. Best is trial 232 with value: 0.7170368765465738.\u001b[0m\n"
     ]
    },
    {
     "name": "stdout",
     "output_type": "stream",
     "text": [
      "[17:55:54] WARNING: C:/Users/Administrator/workspace/xgboost-win64_release_1.4.0/src/learner.cc:231: Only 1 GPUs are visible, setting `gpu_id` to 0\n",
      "[0]\tvalidation_0-rmse:7.00089\n",
      "[417]\tvalidation_0-rmse:0.71713\n"
     ]
    },
    {
     "name": "stderr",
     "output_type": "stream",
     "text": [
      "\u001b[32m[I 2021-08-30 17:55:55,288]\u001b[0m Trial 234 finished with value: 0.7171082721930512 and parameters: {'learning_rate': 0.1011239328850788, 'reg_lambda': 3.8131552486509306e-07, 'reg_alpha': 0.9976455736885851, 'subsample': 0.11850525207714517, 'colsample_bytree': 0.32511486785872523, 'max_depth': 1}. Best is trial 232 with value: 0.7170368765465738.\u001b[0m\n"
     ]
    },
    {
     "name": "stdout",
     "output_type": "stream",
     "text": [
      "[17:55:55] WARNING: C:/Users/Administrator/workspace/xgboost-win64_release_1.4.0/src/learner.cc:231: Only 1 GPUs are visible, setting `gpu_id` to 0\n",
      "[0]\tvalidation_0-rmse:6.86681\n",
      "[587]\tvalidation_0-rmse:0.71715\n"
     ]
    },
    {
     "name": "stderr",
     "output_type": "stream",
     "text": [
      "\u001b[32m[I 2021-08-30 17:55:57,008]\u001b[0m Trial 235 finished with value: 0.7171201858920733 and parameters: {'learning_rate': 0.11858371509858463, 'reg_lambda': 6.620614510867458e-07, 'reg_alpha': 2.106969229078988, 'subsample': 0.10328110695606008, 'colsample_bytree': 0.3591697092321188, 'max_depth': 1}. Best is trial 232 with value: 0.7170368765465738.\u001b[0m\n"
     ]
    },
    {
     "name": "stdout",
     "output_type": "stream",
     "text": [
      "[17:55:57] WARNING: C:/Users/Administrator/workspace/xgboost-win64_release_1.4.0/src/learner.cc:231: Only 1 GPUs are visible, setting `gpu_id` to 0\n",
      "[0]\tvalidation_0-rmse:6.92283\n",
      "[696]\tvalidation_0-rmse:0.71713\n"
     ]
    },
    {
     "name": "stderr",
     "output_type": "stream",
     "text": [
      "\u001b[32m[I 2021-08-30 17:55:59,052]\u001b[0m Trial 236 finished with value: 0.7171159709228458 and parameters: {'learning_rate': 0.11131281117634431, 'reg_lambda': 5.745360345007226e-07, 'reg_alpha': 7.636440037681486, 'subsample': 0.10140999481365325, 'colsample_bytree': 0.28851568786464576, 'max_depth': 1}. Best is trial 232 with value: 0.7170368765465738.\u001b[0m\n"
     ]
    },
    {
     "name": "stdout",
     "output_type": "stream",
     "text": [
      "[17:55:59] WARNING: C:/Users/Administrator/workspace/xgboost-win64_release_1.4.0/src/learner.cc:231: Only 1 GPUs are visible, setting `gpu_id` to 0\n",
      "[0]\tvalidation_0-rmse:6.83968\n",
      "[441]\tvalidation_0-rmse:0.71718\n"
     ]
    },
    {
     "name": "stderr",
     "output_type": "stream",
     "text": [
      "\u001b[32m[I 2021-08-30 17:56:00,419]\u001b[0m Trial 237 finished with value: 0.7171279893409801 and parameters: {'learning_rate': 0.12206289649878901, 'reg_lambda': 2.73423182702082e-07, 'reg_alpha': 4.417469788539301, 'subsample': 0.12745985106560634, 'colsample_bytree': 0.39558618852382704, 'max_depth': 1}. Best is trial 232 with value: 0.7170368765465738.\u001b[0m\n"
     ]
    },
    {
     "name": "stdout",
     "output_type": "stream",
     "text": [
      "[17:56:00] WARNING: C:/Users/Administrator/workspace/xgboost-win64_release_1.4.0/src/learner.cc:231: Only 1 GPUs are visible, setting `gpu_id` to 0\n",
      "[0]\tvalidation_0-rmse:6.90350\n",
      "[419]\tvalidation_0-rmse:0.71712\n"
     ]
    },
    {
     "name": "stderr",
     "output_type": "stream",
     "text": [
      "\u001b[32m[I 2021-08-30 17:56:01,710]\u001b[0m Trial 238 finished with value: 0.7170765063332547 and parameters: {'learning_rate': 0.11377877928613908, 'reg_lambda': 1.1525808932731648e-06, 'reg_alpha': 1.5997541409955904, 'subsample': 0.12454693073042347, 'colsample_bytree': 0.3784041348477963, 'max_depth': 1}. Best is trial 232 with value: 0.7170368765465738.\u001b[0m\n"
     ]
    },
    {
     "name": "stdout",
     "output_type": "stream",
     "text": [
      "[17:56:01] WARNING: C:/Users/Administrator/workspace/xgboost-win64_release_1.4.0/src/learner.cc:231: Only 1 GPUs are visible, setting `gpu_id` to 0\n",
      "[0]\tvalidation_0-rmse:6.78776\n",
      "[578]\tvalidation_0-rmse:0.71711\n"
     ]
    },
    {
     "name": "stderr",
     "output_type": "stream",
     "text": [
      "\u001b[32m[I 2021-08-30 17:56:03,502]\u001b[0m Trial 239 finished with value: 0.7170491073240288 and parameters: {'learning_rate': 0.1288655372133086, 'reg_lambda': 4.70063645284116e-07, 'reg_alpha': 2.659033510156159, 'subsample': 0.10029131899944714, 'colsample_bytree': 0.34097013705261603, 'max_depth': 1}. Best is trial 232 with value: 0.7170368765465738.\u001b[0m\n"
     ]
    },
    {
     "name": "stdout",
     "output_type": "stream",
     "text": [
      "[17:56:03] WARNING: C:/Users/Administrator/workspace/xgboost-win64_release_1.4.0/src/learner.cc:231: Only 1 GPUs are visible, setting `gpu_id` to 0\n",
      "[0]\tvalidation_0-rmse:7.01979\n",
      "[711]\tvalidation_0-rmse:0.71713\n"
     ]
    },
    {
     "name": "stderr",
     "output_type": "stream",
     "text": [
      "\u001b[32m[I 2021-08-30 17:56:05,581]\u001b[0m Trial 240 finished with value: 0.7171102581291618 and parameters: {'learning_rate': 0.09871159117762027, 'reg_lambda': 4.4805991811199673e-07, 'reg_alpha': 3.033990036066081, 'subsample': 0.10044923248340468, 'colsample_bytree': 0.30292079818186424, 'max_depth': 1}. Best is trial 232 with value: 0.7170368765465738.\u001b[0m\n"
     ]
    },
    {
     "name": "stdout",
     "output_type": "stream",
     "text": [
      "[17:56:05] WARNING: C:/Users/Administrator/workspace/xgboost-win64_release_1.4.0/src/learner.cc:231: Only 1 GPUs are visible, setting `gpu_id` to 0\n",
      "[0]\tvalidation_0-rmse:6.81242\n",
      "[609]\tvalidation_0-rmse:0.71716\n"
     ]
    },
    {
     "name": "stderr",
     "output_type": "stream",
     "text": [
      "\u001b[32m[I 2021-08-30 17:56:07,353]\u001b[0m Trial 241 finished with value: 0.7171028601143613 and parameters: {'learning_rate': 0.12560058961766024, 'reg_lambda': 9.348549897740881e-07, 'reg_alpha': 1.1889874790020574, 'subsample': 0.12032726895829929, 'colsample_bytree': 0.333570289202111, 'max_depth': 1}. Best is trial 232 with value: 0.7170368765465738.\u001b[0m\n"
     ]
    },
    {
     "name": "stdout",
     "output_type": "stream",
     "text": [
      "[17:56:07] WARNING: C:/Users/Administrator/workspace/xgboost-win64_release_1.4.0/src/learner.cc:231: Only 1 GPUs are visible, setting `gpu_id` to 0\n",
      "[0]\tvalidation_0-rmse:6.77108\n",
      "[576]\tvalidation_0-rmse:0.71713\n"
     ]
    },
    {
     "name": "stderr",
     "output_type": "stream",
     "text": [
      "\u001b[32m[I 2021-08-30 17:56:09,109]\u001b[0m Trial 242 finished with value: 0.7170801214080555 and parameters: {'learning_rate': 0.13103517436126955, 'reg_lambda': 2.9278286472962636e-07, 'reg_alpha': 5.110150359087553, 'subsample': 0.10104270096698902, 'colsample_bytree': 0.344269550819866, 'max_depth': 1}. Best is trial 232 with value: 0.7170368765465738.\u001b[0m\n"
     ]
    },
    {
     "name": "stdout",
     "output_type": "stream",
     "text": [
      "[17:56:09] WARNING: C:/Users/Administrator/workspace/xgboost-win64_release_1.4.0/src/learner.cc:231: Only 1 GPUs are visible, setting `gpu_id` to 0\n",
      "[0]\tvalidation_0-rmse:6.86497\n",
      "[559]\tvalidation_0-rmse:0.71720\n"
     ]
    },
    {
     "name": "stderr",
     "output_type": "stream",
     "text": [
      "\u001b[32m[I 2021-08-30 17:56:10,778]\u001b[0m Trial 243 finished with value: 0.7171363780158396 and parameters: {'learning_rate': 0.1187779746719936, 'reg_lambda': 5.770447280355774e-07, 'reg_alpha': 0.7665270432243593, 'subsample': 0.12661612628878216, 'colsample_bytree': 0.3767752990051303, 'max_depth': 1}. Best is trial 232 with value: 0.7170368765465738.\u001b[0m\n"
     ]
    },
    {
     "name": "stdout",
     "output_type": "stream",
     "text": [
      "[17:56:10] WARNING: C:/Users/Administrator/workspace/xgboost-win64_release_1.4.0/src/learner.cc:231: Only 1 GPUs are visible, setting `gpu_id` to 0\n",
      "[0]\tvalidation_0-rmse:6.78477\n",
      "[419]\tvalidation_0-rmse:0.71717\n"
     ]
    },
    {
     "name": "stderr",
     "output_type": "stream",
     "text": [
      "\u001b[32m[I 2021-08-30 17:56:12,107]\u001b[0m Trial 244 finished with value: 0.7171078969561011 and parameters: {'learning_rate': 0.12920521284827974, 'reg_lambda': 2.7282667808849595e-07, 'reg_alpha': 2.604526629630057, 'subsample': 0.12506425853621042, 'colsample_bytree': 0.4141701028596484, 'max_depth': 1}. Best is trial 232 with value: 0.7170368765465738.\u001b[0m\n"
     ]
    },
    {
     "name": "stdout",
     "output_type": "stream",
     "text": [
      "[17:56:12] WARNING: C:/Users/Administrator/workspace/xgboost-win64_release_1.4.0/src/learner.cc:231: Only 1 GPUs are visible, setting `gpu_id` to 0\n",
      "[0]\tvalidation_0-rmse:6.95302\n",
      "[451]\tvalidation_0-rmse:0.71714\n"
     ]
    },
    {
     "name": "stderr",
     "output_type": "stream",
     "text": [
      "\u001b[32m[I 2021-08-30 17:56:13,547]\u001b[0m Trial 245 finished with value: 0.7171047717964687 and parameters: {'learning_rate': 0.10734491164766022, 'reg_lambda': 3.5127835516267365e-07, 'reg_alpha': 1.5992932875432144, 'subsample': 0.13476856195399925, 'colsample_bytree': 0.3176883212304445, 'max_depth': 1}. Best is trial 232 with value: 0.7170368765465738.\u001b[0m\n"
     ]
    },
    {
     "name": "stdout",
     "output_type": "stream",
     "text": [
      "[17:56:13] WARNING: C:/Users/Administrator/workspace/xgboost-win64_release_1.4.0/src/learner.cc:231: Only 1 GPUs are visible, setting `gpu_id` to 0\n",
      "[0]\tvalidation_0-rmse:6.68931\n",
      "[593]\tvalidation_0-rmse:0.71716\n"
     ]
    },
    {
     "name": "stderr",
     "output_type": "stream",
     "text": [
      "\u001b[32m[I 2021-08-30 17:56:15,400]\u001b[0m Trial 246 finished with value: 0.7171133927763159 and parameters: {'learning_rate': 0.14161471581164276, 'reg_lambda': 1.354460268643019e-07, 'reg_alpha': 10.32355261699317, 'subsample': 0.11689206809607436, 'colsample_bytree': 0.39883828340253447, 'max_depth': 1}. Best is trial 232 with value: 0.7170368765465738.\u001b[0m\n"
     ]
    },
    {
     "name": "stdout",
     "output_type": "stream",
     "text": [
      "[17:56:15] WARNING: C:/Users/Administrator/workspace/xgboost-win64_release_1.4.0/src/learner.cc:231: Only 1 GPUs are visible, setting `gpu_id` to 0\n",
      "[0]\tvalidation_0-rmse:6.84508\n",
      "[570]\tvalidation_0-rmse:0.71711\n"
     ]
    },
    {
     "name": "stderr",
     "output_type": "stream",
     "text": [
      "\u001b[32m[I 2021-08-30 17:56:17,096]\u001b[0m Trial 247 finished with value: 0.7170666405449861 and parameters: {'learning_rate': 0.12141635529943992, 'reg_lambda': 1.9284962396755764e-06, 'reg_alpha': 4.2824608539402895, 'subsample': 0.10114219276389963, 'colsample_bytree': 0.41123493307839915, 'max_depth': 1}. Best is trial 232 with value: 0.7170368765465738.\u001b[0m\n"
     ]
    },
    {
     "name": "stdout",
     "output_type": "stream",
     "text": [
      "[17:56:17] WARNING: C:/Users/Administrator/workspace/xgboost-win64_release_1.4.0/src/learner.cc:231: Only 1 GPUs are visible, setting `gpu_id` to 0\n",
      "[0]\tvalidation_0-rmse:6.87387\n",
      "[419]\tvalidation_0-rmse:0.71710\n"
     ]
    },
    {
     "name": "stderr",
     "output_type": "stream",
     "text": [
      "\u001b[32m[I 2021-08-30 17:56:18,489]\u001b[0m Trial 248 finished with value: 0.7170740376447368 and parameters: {'learning_rate': 0.1176278687706983, 'reg_lambda': 1.7912538147441132e-06, 'reg_alpha': 2.4190730886842573, 'subsample': 0.13423373774708683, 'colsample_bytree': 0.3677867686937046, 'max_depth': 1}. Best is trial 232 with value: 0.7170368765465738.\u001b[0m\n"
     ]
    },
    {
     "name": "stdout",
     "output_type": "stream",
     "text": [
      "[17:56:18] WARNING: C:/Users/Administrator/workspace/xgboost-win64_release_1.4.0/src/learner.cc:231: Only 1 GPUs are visible, setting `gpu_id` to 0\n",
      "[0]\tvalidation_0-rmse:6.83493\n",
      "[560]\tvalidation_0-rmse:0.71710\n"
     ]
    },
    {
     "name": "stderr",
     "output_type": "stream",
     "text": [
      "\u001b[32m[I 2021-08-30 17:56:20,158]\u001b[0m Trial 249 finished with value: 0.7170534773780749 and parameters: {'learning_rate': 0.12273477859460352, 'reg_lambda': 2.587708101122171e-06, 'reg_alpha': 2.7581751794213627, 'subsample': 0.10043475963063761, 'colsample_bytree': 0.3525835538787332, 'max_depth': 1}. Best is trial 232 with value: 0.7170368765465738.\u001b[0m\n"
     ]
    },
    {
     "name": "stdout",
     "output_type": "stream",
     "text": [
      "[17:56:20] WARNING: C:/Users/Administrator/workspace/xgboost-win64_release_1.4.0/src/learner.cc:231: Only 1 GPUs are visible, setting `gpu_id` to 0\n",
      "[0]\tvalidation_0-rmse:6.83658\n",
      "[542]\tvalidation_0-rmse:0.71708\n"
     ]
    },
    {
     "name": "stderr",
     "output_type": "stream",
     "text": [
      "\u001b[32m[I 2021-08-30 17:56:21,799]\u001b[0m Trial 250 finished with value: 0.7170706250153919 and parameters: {'learning_rate': 0.12252089373224875, 'reg_lambda': 1.7744148618672734e-06, 'reg_alpha': 3.0107846291871705, 'subsample': 0.10036282722316345, 'colsample_bytree': 0.3558058902110645, 'max_depth': 1}. Best is trial 232 with value: 0.7170368765465738.\u001b[0m\n"
     ]
    },
    {
     "name": "stdout",
     "output_type": "stream",
     "text": [
      "[17:56:21] WARNING: C:/Users/Administrator/workspace/xgboost-win64_release_1.4.0/src/learner.cc:231: Only 1 GPUs are visible, setting `gpu_id` to 0\n",
      "[0]\tvalidation_0-rmse:6.82447\n",
      "[559]\tvalidation_0-rmse:0.71711\n"
     ]
    },
    {
     "name": "stderr",
     "output_type": "stream",
     "text": [
      "\u001b[32m[I 2021-08-30 17:56:23,580]\u001b[0m Trial 251 finished with value: 0.7170726846184852 and parameters: {'learning_rate': 0.12409659220381132, 'reg_lambda': 4.368313571511633e-07, 'reg_alpha': 3.7274642924001746, 'subsample': 0.10262455702026362, 'colsample_bytree': 0.3524658705441536, 'max_depth': 1}. Best is trial 232 with value: 0.7170368765465738.\u001b[0m\n"
     ]
    },
    {
     "name": "stdout",
     "output_type": "stream",
     "text": [
      "[17:56:23] WARNING: C:/Users/Administrator/workspace/xgboost-win64_release_1.4.0/src/learner.cc:231: Only 1 GPUs are visible, setting `gpu_id` to 0\n",
      "[0]\tvalidation_0-rmse:6.71124\n",
      "[712]\tvalidation_0-rmse:0.71710\n"
     ]
    },
    {
     "name": "stderr",
     "output_type": "stream",
     "text": [
      "\u001b[32m[I 2021-08-30 17:56:25,699]\u001b[0m Trial 252 finished with value: 0.7170830674134857 and parameters: {'learning_rate': 0.1388110788516468, 'reg_lambda': 8.193591338045951e-06, 'reg_alpha': 4.583851431963542, 'subsample': 0.10057286466291113, 'colsample_bytree': 0.3599150309755308, 'max_depth': 1}. Best is trial 232 with value: 0.7170368765465738.\u001b[0m\n"
     ]
    },
    {
     "name": "stdout",
     "output_type": "stream",
     "text": [
      "[17:56:25] WARNING: C:/Users/Administrator/workspace/xgboost-win64_release_1.4.0/src/learner.cc:231: Only 1 GPUs are visible, setting `gpu_id` to 0\n",
      "[0]\tvalidation_0-rmse:6.80643\n",
      "[724]\tvalidation_0-rmse:0.71714\n"
     ]
    },
    {
     "name": "stderr",
     "output_type": "stream",
     "text": [
      "\u001b[32m[I 2021-08-30 17:56:27,901]\u001b[0m Trial 253 finished with value: 0.7170863855581673 and parameters: {'learning_rate': 0.126393092116217, 'reg_lambda': 1.0930093791328817e-06, 'reg_alpha': 7.527773698384425, 'subsample': 0.11617730090388953, 'colsample_bytree': 0.3464769444059498, 'max_depth': 1}. Best is trial 232 with value: 0.7170368765465738.\u001b[0m\n"
     ]
    },
    {
     "name": "stdout",
     "output_type": "stream",
     "text": [
      "[17:56:28] WARNING: C:/Users/Administrator/workspace/xgboost-win64_release_1.4.0/src/learner.cc:231: Only 1 GPUs are visible, setting `gpu_id` to 0\n",
      "[0]\tvalidation_0-rmse:6.75161\n",
      "[926]\tvalidation_0-rmse:0.71715\n"
     ]
    },
    {
     "name": "stderr",
     "output_type": "stream",
     "text": [
      "\u001b[32m[I 2021-08-30 17:56:30,549]\u001b[0m Trial 254 finished with value: 0.7170923637896637 and parameters: {'learning_rate': 0.13356197243123208, 'reg_lambda': 7.788035807750136e-07, 'reg_alpha': 1.789872895933804, 'subsample': 0.10292568031283653, 'colsample_bytree': 0.34749932710693177, 'max_depth': 1}. Best is trial 232 with value: 0.7170368765465738.\u001b[0m\n"
     ]
    },
    {
     "name": "stdout",
     "output_type": "stream",
     "text": [
      "[17:56:30] WARNING: C:/Users/Administrator/workspace/xgboost-win64_release_1.4.0/src/learner.cc:231: Only 1 GPUs are visible, setting `gpu_id` to 0\n",
      "[0]\tvalidation_0-rmse:6.64565\n",
      "[435]\tvalidation_0-rmse:0.71714\n"
     ]
    },
    {
     "name": "stderr",
     "output_type": "stream",
     "text": [
      "\u001b[32m[I 2021-08-30 17:56:31,943]\u001b[0m Trial 255 finished with value: 0.7170915411167087 and parameters: {'learning_rate': 0.14727711460143328, 'reg_lambda': 1.6800657086715744e-06, 'reg_alpha': 3.5384714313708865, 'subsample': 0.13001482516409926, 'colsample_bytree': 0.3791701914656208, 'max_depth': 1}. Best is trial 232 with value: 0.7170368765465738.\u001b[0m\n"
     ]
    },
    {
     "name": "stdout",
     "output_type": "stream",
     "text": [
      "[17:56:32] WARNING: C:/Users/Administrator/workspace/xgboost-win64_release_1.4.0/src/learner.cc:231: Only 1 GPUs are visible, setting `gpu_id` to 0\n",
      "[0]\tvalidation_0-rmse:6.93971\n",
      "[711]\tvalidation_0-rmse:0.71715\n"
     ]
    },
    {
     "name": "stderr",
     "output_type": "stream",
     "text": [
      "\u001b[32m[I 2021-08-30 17:56:34,010]\u001b[0m Trial 256 finished with value: 0.7171209665367138 and parameters: {'learning_rate': 0.10911498638926317, 'reg_lambda': 4.3485008386221537e-07, 'reg_alpha': 0.6252671056482422, 'subsample': 0.10133428375497613, 'colsample_bytree': 0.30966075778922947, 'max_depth': 1}. Best is trial 232 with value: 0.7170368765465738.\u001b[0m\n"
     ]
    },
    {
     "name": "stdout",
     "output_type": "stream",
     "text": [
      "[17:56:34] WARNING: C:/Users/Administrator/workspace/xgboost-win64_release_1.4.0/src/learner.cc:231: Only 1 GPUs are visible, setting `gpu_id` to 0\n",
      "[0]\tvalidation_0-rmse:6.81567\n",
      "[559]\tvalidation_0-rmse:0.71708\n"
     ]
    },
    {
     "name": "stderr",
     "output_type": "stream",
     "text": [
      "\u001b[32m[I 2021-08-30 17:56:35,684]\u001b[0m Trial 257 finished with value: 0.7170342000232983 and parameters: {'learning_rate': 0.12524132411893804, 'reg_lambda': 1.4029760335859619e-06, 'reg_alpha': 5.549790246412117, 'subsample': 0.10029792495068665, 'colsample_bytree': 0.3607063890004719, 'max_depth': 1}. Best is trial 257 with value: 0.7170342000232983.\u001b[0m\n"
     ]
    },
    {
     "name": "stdout",
     "output_type": "stream",
     "text": [
      "[17:56:35] WARNING: C:/Users/Administrator/workspace/xgboost-win64_release_1.4.0/src/learner.cc:231: Only 1 GPUs are visible, setting `gpu_id` to 0\n",
      "[0]\tvalidation_0-rmse:6.89654\n",
      "[704]\tvalidation_0-rmse:0.71717\n"
     ]
    },
    {
     "name": "stderr",
     "output_type": "stream",
     "text": [
      "\u001b[32m[I 2021-08-30 17:56:37,752]\u001b[0m Trial 258 finished with value: 0.7171247403530686 and parameters: {'learning_rate': 0.11468588114953346, 'reg_lambda': 2.9645556482549243e-06, 'reg_alpha': 13.20218550278769, 'subsample': 0.1220981969127061, 'colsample_bytree': 0.38998836288683464, 'max_depth': 1}. Best is trial 257 with value: 0.7170342000232983.\u001b[0m\n"
     ]
    },
    {
     "name": "stdout",
     "output_type": "stream",
     "text": [
      "[17:56:37] WARNING: C:/Users/Administrator/workspace/xgboost-win64_release_1.4.0/src/learner.cc:231: Only 1 GPUs are visible, setting `gpu_id` to 0\n",
      "[0]\tvalidation_0-rmse:6.73419\n",
      "[435]\tvalidation_0-rmse:0.71712\n"
     ]
    },
    {
     "name": "stderr",
     "output_type": "stream",
     "text": [
      "\u001b[32m[I 2021-08-30 17:56:39,162]\u001b[0m Trial 259 finished with value: 0.7170807262124104 and parameters: {'learning_rate': 0.1357765060690175, 'reg_lambda': 8.393511019572085e-07, 'reg_alpha': 6.555853967866451, 'subsample': 0.13347827963851697, 'colsample_bytree': 0.3328789482693655, 'max_depth': 1}. Best is trial 257 with value: 0.7170342000232983.\u001b[0m\n"
     ]
    },
    {
     "name": "stdout",
     "output_type": "stream",
     "text": [
      "[17:56:39] WARNING: C:/Users/Administrator/workspace/xgboost-win64_release_1.4.0/src/learner.cc:231: Only 1 GPUs are visible, setting `gpu_id` to 0\n",
      "[0]\tvalidation_0-rmse:6.81259\n",
      "[417]\tvalidation_0-rmse:0.71709\n"
     ]
    },
    {
     "name": "stderr",
     "output_type": "stream",
     "text": [
      "\u001b[32m[I 2021-08-30 17:56:40,486]\u001b[0m Trial 260 finished with value: 0.7170479021425015 and parameters: {'learning_rate': 0.12557723017939035, 'reg_lambda': 2.4078807537437045e-06, 'reg_alpha': 1.2060242753014423, 'subsample': 0.13688941383258302, 'colsample_bytree': 0.3736048619060813, 'max_depth': 1}. Best is trial 257 with value: 0.7170342000232983.\u001b[0m\n"
     ]
    },
    {
     "name": "stdout",
     "output_type": "stream",
     "text": [
      "[17:56:40] WARNING: C:/Users/Administrator/workspace/xgboost-win64_release_1.4.0/src/learner.cc:231: Only 1 GPUs are visible, setting `gpu_id` to 0\n",
      "[0]\tvalidation_0-rmse:6.82422\n",
      "[612]\tvalidation_0-rmse:0.71711\n"
     ]
    },
    {
     "name": "stderr",
     "output_type": "stream",
     "text": [
      "\u001b[32m[I 2021-08-30 17:56:42,358]\u001b[0m Trial 261 finished with value: 0.7170633102245596 and parameters: {'learning_rate': 0.12411999239778108, 'reg_lambda': 2.6589767467294326e-06, 'reg_alpha': 1.091335979441106, 'subsample': 0.100545969976237, 'colsample_bytree': 0.36656611005399775, 'max_depth': 1}. Best is trial 257 with value: 0.7170342000232983.\u001b[0m\n"
     ]
    },
    {
     "name": "stdout",
     "output_type": "stream",
     "text": [
      "[17:56:42] WARNING: C:/Users/Administrator/workspace/xgboost-win64_release_1.4.0/src/learner.cc:231: Only 1 GPUs are visible, setting `gpu_id` to 0\n",
      "[0]\tvalidation_0-rmse:6.81274\n",
      "[560]\tvalidation_0-rmse:0.71714\n"
     ]
    },
    {
     "name": "stderr",
     "output_type": "stream",
     "text": [
      "\u001b[32m[I 2021-08-30 17:56:44,023]\u001b[0m Trial 262 finished with value: 0.7170604033494301 and parameters: {'learning_rate': 0.12561629955203385, 'reg_lambda': 2.6315352571899044e-06, 'reg_alpha': 1.3411365764445229, 'subsample': 0.10024525943651655, 'colsample_bytree': 0.36663240728262547, 'max_depth': 1}. Best is trial 257 with value: 0.7170342000232983.\u001b[0m\n"
     ]
    },
    {
     "name": "stdout",
     "output_type": "stream",
     "text": [
      "[17:56:44] WARNING: C:/Users/Administrator/workspace/xgboost-win64_release_1.4.0/src/learner.cc:231: Only 1 GPUs are visible, setting `gpu_id` to 0\n",
      "[0]\tvalidation_0-rmse:6.96261\n",
      "[417]\tvalidation_0-rmse:0.71712\n"
     ]
    },
    {
     "name": "stderr",
     "output_type": "stream",
     "text": [
      "\u001b[32m[I 2021-08-30 17:56:45,315]\u001b[0m Trial 263 finished with value: 0.717074722376806 and parameters: {'learning_rate': 0.10609895483552188, 'reg_lambda': 3.446274710897121e-06, 'reg_alpha': 1.22099578302532, 'subsample': 0.11918352239938342, 'colsample_bytree': 0.3619131162848668, 'max_depth': 1}. Best is trial 257 with value: 0.7170342000232983.\u001b[0m\n"
     ]
    },
    {
     "name": "stdout",
     "output_type": "stream",
     "text": [
      "[17:56:45] WARNING: C:/Users/Administrator/workspace/xgboost-win64_release_1.4.0/src/learner.cc:231: Only 1 GPUs are visible, setting `gpu_id` to 0\n",
      "[0]\tvalidation_0-rmse:6.89717\n",
      "[711]\tvalidation_0-rmse:0.71713\n"
     ]
    },
    {
     "name": "stderr",
     "output_type": "stream",
     "text": [
      "\u001b[32m[I 2021-08-30 17:56:47,443]\u001b[0m Trial 264 finished with value: 0.7170971869035451 and parameters: {'learning_rate': 0.11464190036132162, 'reg_lambda': 2.297447281992468e-06, 'reg_alpha': 1.216146918493038, 'subsample': 0.10111876874574725, 'colsample_bytree': 0.36296118648141446, 'max_depth': 1}. Best is trial 257 with value: 0.7170342000232983.\u001b[0m\n"
     ]
    },
    {
     "name": "stdout",
     "output_type": "stream",
     "text": [
      "[17:56:47] WARNING: C:/Users/Administrator/workspace/xgboost-win64_release_1.4.0/src/learner.cc:231: Only 1 GPUs are visible, setting `gpu_id` to 0\n",
      "[0]\tvalidation_0-rmse:6.84246\n",
      "[435]\tvalidation_0-rmse:0.71719\n"
     ]
    },
    {
     "name": "stderr",
     "output_type": "stream",
     "text": [
      "\u001b[32m[I 2021-08-30 17:56:48,801]\u001b[0m Trial 265 finished with value: 0.7171463247146522 and parameters: {'learning_rate': 0.12169961709989789, 'reg_lambda': 6.745777209766927e-06, 'reg_alpha': 2.5695400194917077, 'subsample': 0.12157372371337985, 'colsample_bytree': 0.3780838305168959, 'max_depth': 1}. Best is trial 257 with value: 0.7170342000232983.\u001b[0m\n"
     ]
    },
    {
     "name": "stdout",
     "output_type": "stream",
     "text": [
      "[17:56:48] WARNING: C:/Users/Administrator/workspace/xgboost-win64_release_1.4.0/src/learner.cc:231: Only 1 GPUs are visible, setting `gpu_id` to 0\n",
      "[0]\tvalidation_0-rmse:6.76645\n",
      "[416]\tvalidation_0-rmse:0.71711\n"
     ]
    },
    {
     "name": "stderr",
     "output_type": "stream",
     "text": [
      "\u001b[32m[I 2021-08-30 17:56:50,152]\u001b[0m Trial 266 finished with value: 0.7170661160764468 and parameters: {'learning_rate': 0.13157319346171678, 'reg_lambda': 1.9108466692054396e-06, 'reg_alpha': 1.5904653441491667, 'subsample': 0.1361086548040778, 'colsample_bytree': 0.34105023613659813, 'max_depth': 1}. Best is trial 257 with value: 0.7170342000232983.\u001b[0m\n"
     ]
    },
    {
     "name": "stdout",
     "output_type": "stream",
     "text": [
      "[17:56:50] WARNING: C:/Users/Administrator/workspace/xgboost-win64_release_1.4.0/src/learner.cc:231: Only 1 GPUs are visible, setting `gpu_id` to 0\n",
      "[0]\tvalidation_0-rmse:6.76326\n",
      "[435]\tvalidation_0-rmse:0.71715\n"
     ]
    },
    {
     "name": "stderr",
     "output_type": "stream",
     "text": [
      "\u001b[32m[I 2021-08-30 17:56:51,494]\u001b[0m Trial 267 finished with value: 0.7170927668224868 and parameters: {'learning_rate': 0.13198781938594903, 'reg_lambda': 1.7160714671519688e-06, 'reg_alpha': 0.9921753812011403, 'subsample': 0.13165511006600847, 'colsample_bytree': 0.32787858146151916, 'max_depth': 1}. Best is trial 257 with value: 0.7170342000232983.\u001b[0m\n"
     ]
    },
    {
     "name": "stdout",
     "output_type": "stream",
     "text": [
      "[17:56:51] WARNING: C:/Users/Administrator/workspace/xgboost-win64_release_1.4.0/src/learner.cc:231: Only 1 GPUs are visible, setting `gpu_id` to 0\n",
      "[0]\tvalidation_0-rmse:6.71116\n",
      "[610]\tvalidation_0-rmse:0.71714\n"
     ]
    },
    {
     "name": "stderr",
     "output_type": "stream",
     "text": [
      "\u001b[32m[I 2021-08-30 17:56:53,284]\u001b[0m Trial 268 finished with value: 0.7170832690183233 and parameters: {'learning_rate': 0.13882118944386057, 'reg_lambda': 2.505519156056924e-06, 'reg_alpha': 1.6058801231203075, 'subsample': 0.10072753173982009, 'colsample_bytree': 0.348985858042876, 'max_depth': 1}. Best is trial 257 with value: 0.7170342000232983.\u001b[0m\n"
     ]
    },
    {
     "name": "stdout",
     "output_type": "stream",
     "text": [
      "[17:56:53] WARNING: C:/Users/Administrator/workspace/xgboost-win64_release_1.4.0/src/learner.cc:231: Only 1 GPUs are visible, setting `gpu_id` to 0\n",
      "[0]\tvalidation_0-rmse:6.77285\n",
      "[663]\tvalidation_0-rmse:0.71716\n"
     ]
    },
    {
     "name": "stderr",
     "output_type": "stream",
     "text": [
      "\u001b[32m[I 2021-08-30 17:56:55,302]\u001b[0m Trial 269 finished with value: 0.7171474803290203 and parameters: {'learning_rate': 0.13071025656550567, 'reg_lambda': 3.649660085951553e-06, 'reg_alpha': 4.605080284600135, 'subsample': 0.6196948838998029, 'colsample_bytree': 0.3820282514318291, 'max_depth': 1}. Best is trial 257 with value: 0.7170342000232983.\u001b[0m\n"
     ]
    },
    {
     "name": "stdout",
     "output_type": "stream",
     "text": [
      "[17:56:55] WARNING: C:/Users/Administrator/workspace/xgboost-win64_release_1.4.0/src/learner.cc:231: Only 1 GPUs are visible, setting `gpu_id` to 0\n",
      "[0]\tvalidation_0-rmse:6.90380\n",
      "[608]\tvalidation_0-rmse:0.71718\n"
     ]
    },
    {
     "name": "stderr",
     "output_type": "stream",
     "text": [
      "\u001b[32m[I 2021-08-30 17:56:57,216]\u001b[0m Trial 270 finished with value: 0.717140948453096 and parameters: {'learning_rate': 0.11373775939285981, 'reg_lambda': 1.465360227667959e-06, 'reg_alpha': 2.538839259246289, 'subsample': 0.1162344367182587, 'colsample_bytree': 0.33801265935447833, 'max_depth': 1}. Best is trial 257 with value: 0.7170342000232983.\u001b[0m\n"
     ]
    },
    {
     "name": "stdout",
     "output_type": "stream",
     "text": [
      "[17:56:57] WARNING: C:/Users/Administrator/workspace/xgboost-win64_release_1.4.0/src/learner.cc:231: Only 1 GPUs are visible, setting `gpu_id` to 0\n",
      "[0]\tvalidation_0-rmse:6.81070\n",
      "[419]\tvalidation_0-rmse:0.71711\n"
     ]
    },
    {
     "name": "stderr",
     "output_type": "stream",
     "text": [
      "\u001b[32m[I 2021-08-30 17:56:58,556]\u001b[0m Trial 271 finished with value: 0.7170855428249299 and parameters: {'learning_rate': 0.12582301646262076, 'reg_lambda': 1.123829801114251e-05, 'reg_alpha': 1.39325212758284, 'subsample': 0.13640156298453965, 'colsample_bytree': 0.3943878691246176, 'max_depth': 1}. Best is trial 257 with value: 0.7170342000232983.\u001b[0m\n"
     ]
    },
    {
     "name": "stdout",
     "output_type": "stream",
     "text": [
      "[17:56:58] WARNING: C:/Users/Administrator/workspace/xgboost-win64_release_1.4.0/src/learner.cc:231: Only 1 GPUs are visible, setting `gpu_id` to 0\n",
      "[0]\tvalidation_0-rmse:6.83838\n",
      "[416]\tvalidation_0-rmse:0.71712\n"
     ]
    },
    {
     "name": "stderr",
     "output_type": "stream",
     "text": [
      "\u001b[32m[I 2021-08-30 17:56:59,850]\u001b[0m Trial 272 finished with value: 0.7170797345680261 and parameters: {'learning_rate': 0.12222898275635166, 'reg_lambda': 2.3250990752942035e-06, 'reg_alpha': 0.6423439884242376, 'subsample': 0.12208908338067867, 'colsample_bytree': 0.3140832530557658, 'max_depth': 1}. Best is trial 257 with value: 0.7170342000232983.\u001b[0m\n"
     ]
    },
    {
     "name": "stdout",
     "output_type": "stream",
     "text": [
      "[17:57:00] WARNING: C:/Users/Administrator/workspace/xgboost-win64_release_1.4.0/src/learner.cc:231: Only 1 GPUs are visible, setting `gpu_id` to 0\n",
      "[0]\tvalidation_0-rmse:6.62807\n",
      "[539]\tvalidation_0-rmse:0.71714\n"
     ]
    },
    {
     "name": "stderr",
     "output_type": "stream",
     "text": [
      "\u001b[32m[I 2021-08-30 17:57:01,487]\u001b[0m Trial 273 finished with value: 0.7170884164618709 and parameters: {'learning_rate': 0.14963230301813102, 'reg_lambda': 1.1499671955695218e-06, 'reg_alpha': 5.796069242424981, 'subsample': 0.1000441042123373, 'colsample_bytree': 0.35774362538120513, 'max_depth': 1}. Best is trial 257 with value: 0.7170342000232983.\u001b[0m\n"
     ]
    },
    {
     "name": "stdout",
     "output_type": "stream",
     "text": [
      "[17:57:01] WARNING: C:/Users/Administrator/workspace/xgboost-win64_release_1.4.0/src/learner.cc:231: Only 1 GPUs are visible, setting `gpu_id` to 0\n",
      "[0]\tvalidation_0-rmse:7.65784\n",
      "[1000]\tvalidation_0-rmse:0.71723\n",
      "[2000]\tvalidation_0-rmse:0.71721\n",
      "[2516]\tvalidation_0-rmse:0.71721\n"
     ]
    },
    {
     "name": "stderr",
     "output_type": "stream",
     "text": [
      "\u001b[32m[I 2021-08-30 17:57:08,209]\u001b[0m Trial 274 finished with value: 0.717208379619347 and parameters: {'learning_rate': 0.01583696387967399, 'reg_lambda': 6.5251566057002614e-06, 'reg_alpha': 53.20299537441539, 'subsample': 0.1404504150695246, 'colsample_bytree': 0.37111056484546184, 'max_depth': 1}. Best is trial 257 with value: 0.7170342000232983.\u001b[0m\n"
     ]
    },
    {
     "name": "stdout",
     "output_type": "stream",
     "text": [
      "[17:57:08] WARNING: C:/Users/Administrator/workspace/xgboost-win64_release_1.4.0/src/learner.cc:231: Only 1 GPUs are visible, setting `gpu_id` to 0\n",
      "[0]\tvalidation_0-rmse:6.74545\n",
      "[418]\tvalidation_0-rmse:0.71711\n"
     ]
    },
    {
     "name": "stderr",
     "output_type": "stream",
     "text": [
      "\u001b[32m[I 2021-08-30 17:57:09,508]\u001b[0m Trial 275 finished with value: 0.7170855877954931 and parameters: {'learning_rate': 0.1343131013341818, 'reg_lambda': 1.9259663838903748e-06, 'reg_alpha': 3.227528404142675, 'subsample': 0.11627782236879604, 'colsample_bytree': 0.39895993492188436, 'max_depth': 1}. Best is trial 257 with value: 0.7170342000232983.\u001b[0m\n"
     ]
    },
    {
     "name": "stdout",
     "output_type": "stream",
     "text": [
      "[17:57:09] WARNING: C:/Users/Administrator/workspace/xgboost-win64_release_1.4.0/src/learner.cc:231: Only 1 GPUs are visible, setting `gpu_id` to 0\n",
      "[0]\tvalidation_0-rmse:6.97041\n",
      "[595]\tvalidation_0-rmse:0.71713\n"
     ]
    },
    {
     "name": "stderr",
     "output_type": "stream",
     "text": [
      "\u001b[32m[I 2021-08-30 17:57:11,275]\u001b[0m Trial 276 finished with value: 0.7171074367601931 and parameters: {'learning_rate': 0.10507387531286445, 'reg_lambda': 4.161624264649422e-06, 'reg_alpha': 11.323834930390737, 'subsample': 0.13853666452852537, 'colsample_bytree': 0.3414922173036952, 'max_depth': 1}. Best is trial 257 with value: 0.7170342000232983.\u001b[0m\n"
     ]
    },
    {
     "name": "stdout",
     "output_type": "stream",
     "text": [
      "[17:57:11] WARNING: C:/Users/Administrator/workspace/xgboost-win64_release_1.4.0/src/learner.cc:231: Only 1 GPUs are visible, setting `gpu_id` to 0\n",
      "[0]\tvalidation_0-rmse:6.69178\n",
      "[419]\tvalidation_0-rmse:0.71715\n"
     ]
    },
    {
     "name": "stderr",
     "output_type": "stream",
     "text": [
      "\u001b[32m[I 2021-08-30 17:57:12,585]\u001b[0m Trial 277 finished with value: 0.717109355993896 and parameters: {'learning_rate': 0.14128234240975293, 'reg_lambda': 1.5666783974330795e-06, 'reg_alpha': 1.6188395460897924, 'subsample': 0.11799326856021339, 'colsample_bytree': 0.37215130441693556, 'max_depth': 1}. Best is trial 257 with value: 0.7170342000232983.\u001b[0m\n"
     ]
    },
    {
     "name": "stdout",
     "output_type": "stream",
     "text": [
      "[17:57:12] WARNING: C:/Users/Administrator/workspace/xgboost-win64_release_1.4.0/src/learner.cc:231: Only 1 GPUs are visible, setting `gpu_id` to 0\n",
      "[0]\tvalidation_0-rmse:6.92363\n",
      "[609]\tvalidation_0-rmse:0.71718\n"
     ]
    },
    {
     "name": "stderr",
     "output_type": "stream",
     "text": [
      "\u001b[32m[I 2021-08-30 17:57:14,371]\u001b[0m Trial 278 finished with value: 0.7170968082204686 and parameters: {'learning_rate': 0.11119844891237517, 'reg_lambda': 2.852737815118823e-06, 'reg_alpha': 6.337591184879248e-08, 'subsample': 0.10055109941629864, 'colsample_bytree': 0.29382767771204654, 'max_depth': 1}. Best is trial 257 with value: 0.7170342000232983.\u001b[0m\n"
     ]
    },
    {
     "name": "stdout",
     "output_type": "stream",
     "text": [
      "[17:57:14] WARNING: C:/Users/Administrator/workspace/xgboost-win64_release_1.4.0/src/learner.cc:231: Only 1 GPUs are visible, setting `gpu_id` to 0\n",
      "[0]\tvalidation_0-rmse:6.87056\n",
      "[419]\tvalidation_0-rmse:0.71709\n"
     ]
    },
    {
     "name": "stderr",
     "output_type": "stream",
     "text": [
      "\u001b[32m[I 2021-08-30 17:57:15,681]\u001b[0m Trial 279 finished with value: 0.7170551847850716 and parameters: {'learning_rate': 0.11804760760779619, 'reg_lambda': 9.415194049175791e-07, 'reg_alpha': 0.7911359496815271, 'subsample': 0.13605229958695875, 'colsample_bytree': 0.3995079656715675, 'max_depth': 1}. Best is trial 257 with value: 0.7170342000232983.\u001b[0m\n"
     ]
    },
    {
     "name": "stdout",
     "output_type": "stream",
     "text": [
      "[17:57:15] WARNING: C:/Users/Administrator/workspace/xgboost-win64_release_1.4.0/src/learner.cc:231: Only 1 GPUs are visible, setting `gpu_id` to 0\n",
      "[0]\tvalidation_0-rmse:6.80233\n",
      "[419]\tvalidation_0-rmse:0.71712\n"
     ]
    },
    {
     "name": "stderr",
     "output_type": "stream",
     "text": [
      "\u001b[32m[I 2021-08-30 17:57:16,976]\u001b[0m Trial 280 finished with value: 0.7171108621998548 and parameters: {'learning_rate': 0.12692276117983697, 'reg_lambda': 7.643473307175221e-07, 'reg_alpha': 0.9286060196683995, 'subsample': 0.13393673820746022, 'colsample_bytree': 0.4044150611918047, 'max_depth': 1}. Best is trial 257 with value: 0.7170342000232983.\u001b[0m\n"
     ]
    },
    {
     "name": "stdout",
     "output_type": "stream",
     "text": [
      "[17:57:17] WARNING: C:/Users/Administrator/workspace/xgboost-win64_release_1.4.0/src/learner.cc:231: Only 1 GPUs are visible, setting `gpu_id` to 0\n",
      "[0]\tvalidation_0-rmse:6.88127\n",
      "[418]\tvalidation_0-rmse:0.71712\n"
     ]
    },
    {
     "name": "stderr",
     "output_type": "stream",
     "text": [
      "\u001b[32m[I 2021-08-30 17:57:18,347]\u001b[0m Trial 281 finished with value: 0.7170833199818433 and parameters: {'learning_rate': 0.11666088170254531, 'reg_lambda': 8.716696213906544e-07, 'reg_alpha': 2.1334311748741137, 'subsample': 0.14819260890411184, 'colsample_bytree': 0.3848628825026797, 'max_depth': 1}. Best is trial 257 with value: 0.7170342000232983.\u001b[0m\n"
     ]
    },
    {
     "name": "stdout",
     "output_type": "stream",
     "text": [
      "[17:57:18] WARNING: C:/Users/Administrator/workspace/xgboost-win64_release_1.4.0/src/learner.cc:231: Only 1 GPUs are visible, setting `gpu_id` to 0\n",
      "[0]\tvalidation_0-rmse:6.75798\n",
      "[435]\tvalidation_0-rmse:0.71713\n"
     ]
    },
    {
     "name": "stderr",
     "output_type": "stream",
     "text": [
      "\u001b[32m[I 2021-08-30 17:57:19,721]\u001b[0m Trial 282 finished with value: 0.7171004285762789 and parameters: {'learning_rate': 0.13268422409546765, 'reg_lambda': 1.4653670274130994e-06, 'reg_alpha': 4.03228047019324, 'subsample': 0.11614080591722642, 'colsample_bytree': 0.3678289494206727, 'max_depth': 1}. Best is trial 257 with value: 0.7170342000232983.\u001b[0m\n"
     ]
    },
    {
     "name": "stdout",
     "output_type": "stream",
     "text": [
      "[17:57:19] WARNING: C:/Users/Administrator/workspace/xgboost-win64_release_1.4.0/src/learner.cc:231: Only 1 GPUs are visible, setting `gpu_id` to 0\n",
      "[0]\tvalidation_0-rmse:6.83862\n",
      "[559]\tvalidation_0-rmse:0.71712\n"
     ]
    },
    {
     "name": "stderr",
     "output_type": "stream",
     "text": [
      "\u001b[32m[I 2021-08-30 17:57:21,396]\u001b[0m Trial 283 finished with value: 0.7170805504049746 and parameters: {'learning_rate': 0.12220999127099158, 'reg_lambda': 5.839940090663137e-07, 'reg_alpha': 8.293533142596194, 'subsample': 0.12348967931374503, 'colsample_bytree': 0.3277946270324644, 'max_depth': 1}. Best is trial 257 with value: 0.7170342000232983.\u001b[0m\n"
     ]
    },
    {
     "name": "stdout",
     "output_type": "stream",
     "text": [
      "[17:57:21] WARNING: C:/Users/Administrator/workspace/xgboost-win64_release_1.4.0/src/learner.cc:231: Only 1 GPUs are visible, setting `gpu_id` to 0\n",
      "[0]\tvalidation_0-rmse:6.63878\n",
      "[419]\tvalidation_0-rmse:0.71714\n"
     ]
    },
    {
     "name": "stderr",
     "output_type": "stream",
     "text": [
      "\u001b[32m[I 2021-08-30 17:57:22,916]\u001b[0m Trial 284 finished with value: 0.7170760325026672 and parameters: {'learning_rate': 0.14817505999032204, 'reg_lambda': 4.954416523528511e-06, 'reg_alpha': 2.380935468420538, 'subsample': 0.1501684008070771, 'colsample_bytree': 0.3553162346194696, 'max_depth': 1}. Best is trial 257 with value: 0.7170342000232983.\u001b[0m\n"
     ]
    },
    {
     "name": "stdout",
     "output_type": "stream",
     "text": [
      "[17:57:23] WARNING: C:/Users/Administrator/workspace/xgboost-win64_release_1.4.0/src/learner.cc:231: Only 1 GPUs are visible, setting `gpu_id` to 0\n",
      "[0]\tvalidation_0-rmse:6.70594\n",
      "[605]\tvalidation_0-rmse:0.71716\n"
     ]
    },
    {
     "name": "stderr",
     "output_type": "stream",
     "text": [
      "\u001b[32m[I 2021-08-30 17:57:24,678]\u001b[0m Trial 285 finished with value: 0.7171158428117457 and parameters: {'learning_rate': 0.13944799808842342, 'reg_lambda': 1.3878346119254753e-06, 'reg_alpha': 0.8267094845554837, 'subsample': 0.11744916732127264, 'colsample_bytree': 0.3903892831210451, 'max_depth': 1}. Best is trial 257 with value: 0.7170342000232983.\u001b[0m\n"
     ]
    },
    {
     "name": "stdout",
     "output_type": "stream",
     "text": [
      "[17:57:24] WARNING: C:/Users/Administrator/workspace/xgboost-win64_release_1.4.0/src/learner.cc:231: Only 1 GPUs are visible, setting `gpu_id` to 0\n",
      "[0]\tvalidation_0-rmse:6.79968\n",
      "[416]\tvalidation_0-rmse:0.71718\n"
     ]
    },
    {
     "name": "stderr",
     "output_type": "stream",
     "text": [
      "\u001b[32m[I 2021-08-30 17:57:25,977]\u001b[0m Trial 286 finished with value: 0.7171387546460769 and parameters: {'learning_rate': 0.12726502419500882, 'reg_lambda': 1.1287321118975898e-06, 'reg_alpha': 4.3494667267079805, 'subsample': 0.13519516756956942, 'colsample_bytree': 0.410586005398096, 'max_depth': 1}. Best is trial 257 with value: 0.7170342000232983.\u001b[0m\n"
     ]
    },
    {
     "name": "stdout",
     "output_type": "stream",
     "text": [
      "[17:57:26] WARNING: C:/Users/Administrator/workspace/xgboost-win64_release_1.4.0/src/learner.cc:231: Only 1 GPUs are visible, setting `gpu_id` to 0\n",
      "[0]\tvalidation_0-rmse:6.87394\n",
      "[722]\tvalidation_0-rmse:0.71715\n"
     ]
    },
    {
     "name": "stderr",
     "output_type": "stream",
     "text": [
      "\u001b[32m[I 2021-08-30 17:57:28,065]\u001b[0m Trial 287 finished with value: 0.7171183615993126 and parameters: {'learning_rate': 0.11761456132034794, 'reg_lambda': 2.0428120121501083e-06, 'reg_alpha': 1.3928788753780968e-07, 'subsample': 0.11608514221679218, 'colsample_bytree': 0.3460404113428626, 'max_depth': 1}. Best is trial 257 with value: 0.7170342000232983.\u001b[0m\n"
     ]
    },
    {
     "name": "stdout",
     "output_type": "stream",
     "text": [
      "[17:57:28] WARNING: C:/Users/Administrator/workspace/xgboost-win64_release_1.4.0/src/learner.cc:231: Only 1 GPUs are visible, setting `gpu_id` to 0\n",
      "[0]\tvalidation_0-rmse:6.76119\n",
      "[711]\tvalidation_0-rmse:0.71709\n"
     ]
    },
    {
     "name": "stderr",
     "output_type": "stream",
     "text": [
      "\u001b[32m[I 2021-08-30 17:57:30,136]\u001b[0m Trial 288 finished with value: 0.7170623329425367 and parameters: {'learning_rate': 0.13231960483501817, 'reg_lambda': 2.8501619593638866e-06, 'reg_alpha': 1.3064008029405392, 'subsample': 0.1000619345581635, 'colsample_bytree': 0.37447842197087666, 'max_depth': 1}. Best is trial 257 with value: 0.7170342000232983.\u001b[0m\n"
     ]
    },
    {
     "name": "stdout",
     "output_type": "stream",
     "text": [
      "[17:57:30] WARNING: C:/Users/Administrator/workspace/xgboost-win64_release_1.4.0/src/learner.cc:231: Only 1 GPUs are visible, setting `gpu_id` to 0\n",
      "[0]\tvalidation_0-rmse:6.83330\n",
      "[416]\tvalidation_0-rmse:0.71711\n"
     ]
    },
    {
     "name": "stderr",
     "output_type": "stream",
     "text": [
      "\u001b[32m[I 2021-08-30 17:57:31,556]\u001b[0m Trial 289 finished with value: 0.7170857214788073 and parameters: {'learning_rate': 0.1229008686879221, 'reg_lambda': 3.000840133280417e-06, 'reg_alpha': 1.494975406102612, 'subsample': 0.11455989034725839, 'colsample_bytree': 0.37239435278648814, 'max_depth': 1}. Best is trial 257 with value: 0.7170342000232983.\u001b[0m\n"
     ]
    },
    {
     "name": "stdout",
     "output_type": "stream",
     "text": [
      "[17:57:31] WARNING: C:/Users/Administrator/workspace/xgboost-win64_release_1.4.0/src/learner.cc:231: Only 1 GPUs are visible, setting `gpu_id` to 0\n",
      "[0]\tvalidation_0-rmse:6.90962\n",
      "[719]\tvalidation_0-rmse:0.71716\n"
     ]
    },
    {
     "name": "stderr",
     "output_type": "stream",
     "text": [
      "\u001b[32m[I 2021-08-30 17:57:33,627]\u001b[0m Trial 290 finished with value: 0.7171272072510717 and parameters: {'learning_rate': 0.11302159414891652, 'reg_lambda': 0.00015374199523293764, 'reg_alpha': 0.49695685037554715, 'subsample': 0.10272985443250224, 'colsample_bytree': 0.322398646697951, 'max_depth': 1}. Best is trial 257 with value: 0.7170342000232983.\u001b[0m\n"
     ]
    },
    {
     "name": "stdout",
     "output_type": "stream",
     "text": [
      "[17:57:33] WARNING: C:/Users/Administrator/workspace/xgboost-win64_release_1.4.0/src/learner.cc:231: Only 1 GPUs are visible, setting `gpu_id` to 0\n",
      "[0]\tvalidation_0-rmse:6.77809\n",
      "[542]\tvalidation_0-rmse:0.71710\n"
     ]
    },
    {
     "name": "stderr",
     "output_type": "stream",
     "text": [
      "\u001b[32m[I 2021-08-30 17:57:35,253]\u001b[0m Trial 291 finished with value: 0.717077050772998 and parameters: {'learning_rate': 0.13012406487530534, 'reg_lambda': 6.212759313905453e-07, 'reg_alpha': 2.840611803326706, 'subsample': 0.10016524419663131, 'colsample_bytree': 0.3891340640895947, 'max_depth': 1}. Best is trial 257 with value: 0.7170342000232983.\u001b[0m\n"
     ]
    },
    {
     "name": "stdout",
     "output_type": "stream",
     "text": [
      "[17:57:35] WARNING: C:/Users/Administrator/workspace/xgboost-win64_release_1.4.0/src/learner.cc:231: Only 1 GPUs are visible, setting `gpu_id` to 0\n",
      "[0]\tvalidation_0-rmse:7.69342\n",
      "[1000]\tvalidation_0-rmse:0.71712\n",
      "[1746]\tvalidation_0-rmse:0.71711\n"
     ]
    },
    {
     "name": "stderr",
     "output_type": "stream",
     "text": [
      "\u001b[32m[I 2021-08-30 17:57:40,144]\u001b[0m Trial 292 finished with value: 0.7171073193398396 and parameters: {'learning_rate': 0.01121898544234819, 'reg_lambda': 4.2828536609117125e-06, 'reg_alpha': 1.0586133936603281, 'subsample': 0.10041333561702329, 'colsample_bytree': 0.2726035377945899, 'max_depth': 1}. Best is trial 257 with value: 0.7170342000232983.\u001b[0m\n"
     ]
    },
    {
     "name": "stdout",
     "output_type": "stream",
     "text": [
      "[17:57:40] WARNING: C:/Users/Administrator/workspace/xgboost-win64_release_1.4.0/src/learner.cc:231: Only 1 GPUs are visible, setting `gpu_id` to 0\n",
      "[0]\tvalidation_0-rmse:6.74125\n",
      "[593]\tvalidation_0-rmse:0.71712\n"
     ]
    },
    {
     "name": "stderr",
     "output_type": "stream",
     "text": [
      "\u001b[32m[I 2021-08-30 17:57:41,922]\u001b[0m Trial 293 finished with value: 0.7171044866287831 and parameters: {'learning_rate': 0.13487176203771398, 'reg_lambda': 2.719119366984642e-06, 'reg_alpha': 20.091721618446353, 'subsample': 0.1320736354638617, 'colsample_bytree': 0.35669836067358063, 'max_depth': 1}. Best is trial 257 with value: 0.7170342000232983.\u001b[0m\n"
     ]
    },
    {
     "name": "stdout",
     "output_type": "stream",
     "text": [
      "[17:57:42] WARNING: C:/Users/Administrator/workspace/xgboost-win64_release_1.4.0/src/learner.cc:231: Only 1 GPUs are visible, setting `gpu_id` to 0\n",
      "[0]\tvalidation_0-rmse:7.01654\n",
      "[721]\tvalidation_0-rmse:0.71715\n"
     ]
    },
    {
     "name": "stderr",
     "output_type": "stream",
     "text": [
      "\u001b[32m[I 2021-08-30 17:57:44,141]\u001b[0m Trial 294 finished with value: 0.7171126457270165 and parameters: {'learning_rate': 0.09908350210488853, 'reg_lambda': 9.084634393741184e-06, 'reg_alpha': 1.8465175622580692, 'subsample': 0.13121415665863903, 'colsample_bytree': 0.4092240530226792, 'max_depth': 1}. Best is trial 257 with value: 0.7170342000232983.\u001b[0m\n"
     ]
    },
    {
     "name": "stdout",
     "output_type": "stream",
     "text": [
      "[17:57:44] WARNING: C:/Users/Administrator/workspace/xgboost-win64_release_1.4.0/src/learner.cc:231: Only 1 GPUs are visible, setting `gpu_id` to 0\n",
      "[0]\tvalidation_0-rmse:6.87060\n",
      "[576]\tvalidation_0-rmse:0.71715\n"
     ]
    },
    {
     "name": "stderr",
     "output_type": "stream",
     "text": [
      "\u001b[32m[I 2021-08-30 17:57:45,853]\u001b[0m Trial 295 finished with value: 0.7171101787024086 and parameters: {'learning_rate': 0.11810356414479581, 'reg_lambda': 1.3105538984188068e-06, 'reg_alpha': 7.308883426429674, 'subsample': 0.10075940365605895, 'colsample_bytree': 0.3444113583169116, 'max_depth': 1}. Best is trial 257 with value: 0.7170342000232983.\u001b[0m\n"
     ]
    },
    {
     "name": "stdout",
     "output_type": "stream",
     "text": [
      "[17:57:46] WARNING: C:/Users/Administrator/workspace/xgboost-win64_release_1.4.0/src/learner.cc:231: Only 1 GPUs are visible, setting `gpu_id` to 0\n",
      "[0]\tvalidation_0-rmse:6.94846\n",
      "[963]\tvalidation_0-rmse:0.71717\n"
     ]
    },
    {
     "name": "stderr",
     "output_type": "stream",
     "text": [
      "\u001b[32m[I 2021-08-30 17:57:48,649]\u001b[0m Trial 296 finished with value: 0.7171283106270979 and parameters: {'learning_rate': 0.10792765218315228, 'reg_lambda': 7.152693394744993e-07, 'reg_alpha': 2.9241997577829313, 'subsample': 0.12228603042573191, 'colsample_bytree': 0.3062964641175695, 'max_depth': 1}. Best is trial 257 with value: 0.7170342000232983.\u001b[0m\n"
     ]
    },
    {
     "name": "stdout",
     "output_type": "stream",
     "text": [
      "[17:57:48] WARNING: C:/Users/Administrator/workspace/xgboost-win64_release_1.4.0/src/learner.cc:231: Only 1 GPUs are visible, setting `gpu_id` to 0\n",
      "[0]\tvalidation_0-rmse:6.80013\n",
      "[593]\tvalidation_0-rmse:0.71716\n"
     ]
    },
    {
     "name": "stderr",
     "output_type": "stream",
     "text": [
      "\u001b[32m[I 2021-08-30 17:57:50,489]\u001b[0m Trial 297 finished with value: 0.7171399561231305 and parameters: {'learning_rate': 0.1271898812521711, 'reg_lambda': 1.6931063632652753e-06, 'reg_alpha': 1.2395467535237685, 'subsample': 0.49565223797324587, 'colsample_bytree': 0.37698128885881343, 'max_depth': 1}. Best is trial 257 with value: 0.7170342000232983.\u001b[0m\n"
     ]
    },
    {
     "name": "stdout",
     "output_type": "stream",
     "text": [
      "[17:57:50] WARNING: C:/Users/Administrator/workspace/xgboost-win64_release_1.4.0/src/learner.cc:231: Only 1 GPUs are visible, setting `gpu_id` to 0\n",
      "[0]\tvalidation_0-rmse:6.86180\n",
      "[375]\tvalidation_0-rmse:0.71732\n"
     ]
    },
    {
     "name": "stderr",
     "output_type": "stream",
     "text": [
      "\u001b[32m[I 2021-08-30 17:57:51,819]\u001b[0m Trial 298 finished with value: 0.7171586455549218 and parameters: {'learning_rate': 0.11914930516482247, 'reg_lambda': 1.7880598033672478e-05, 'reg_alpha': 0.6840832784889969, 'subsample': 0.14383359886770442, 'colsample_bytree': 0.3638196096463976, 'max_depth': 2}. Best is trial 257 with value: 0.7170342000232983.\u001b[0m\n"
     ]
    },
    {
     "name": "stdout",
     "output_type": "stream",
     "text": [
      "[17:57:51] WARNING: C:/Users/Administrator/workspace/xgboost-win64_release_1.4.0/src/learner.cc:231: Only 1 GPUs are visible, setting `gpu_id` to 0\n",
      "[0]\tvalidation_0-rmse:6.58182\n",
      "[419]\tvalidation_0-rmse:0.71710\n"
     ]
    },
    {
     "name": "stderr",
     "output_type": "stream",
     "text": [
      "\u001b[32m[I 2021-08-30 17:57:53,114]\u001b[0m Trial 299 finished with value: 0.7170893939184612 and parameters: {'learning_rate': 0.15557119087163, 'reg_lambda': 4.850534876898641e-07, 'reg_alpha': 5.46074645255279, 'subsample': 0.15685084254371065, 'colsample_bytree': 0.3983558444836059, 'max_depth': 1}. Best is trial 257 with value: 0.7170342000232983.\u001b[0m\n"
     ]
    },
    {
     "name": "stdout",
     "output_type": "stream",
     "text": [
      "[17:57:53] WARNING: C:/Users/Administrator/workspace/xgboost-win64_release_1.4.0/src/learner.cc:231: Only 1 GPUs are visible, setting `gpu_id` to 0\n",
      "[0]\tvalidation_0-rmse:6.72013\n",
      "[418]\tvalidation_0-rmse:0.71710\n"
     ]
    },
    {
     "name": "stderr",
     "output_type": "stream",
     "text": [
      "\u001b[32m[I 2021-08-30 17:57:54,446]\u001b[0m Trial 300 finished with value: 0.7170830774540727 and parameters: {'learning_rate': 0.13760117404869232, 'reg_lambda': 5.437561603903183e-06, 'reg_alpha': 1.965128735775808, 'subsample': 0.11870210047570835, 'colsample_bytree': 0.3317162458459994, 'max_depth': 1}. Best is trial 257 with value: 0.7170342000232983.\u001b[0m\n"
     ]
    },
    {
     "name": "stdout",
     "output_type": "stream",
     "text": [
      "[17:57:54] WARNING: C:/Users/Administrator/workspace/xgboost-win64_release_1.4.0/src/learner.cc:231: Only 1 GPUs are visible, setting `gpu_id` to 0\n",
      "[0]\tvalidation_0-rmse:6.80726\n",
      "[612]\tvalidation_0-rmse:0.71712\n"
     ]
    },
    {
     "name": "stderr",
     "output_type": "stream",
     "text": [
      "\u001b[32m[I 2021-08-30 17:57:56,368]\u001b[0m Trial 301 finished with value: 0.7170781573786824 and parameters: {'learning_rate': 0.12634358932111525, 'reg_lambda': 2.3612572772422684e-06, 'reg_alpha': 11.047496173567472, 'subsample': 0.10036377578747417, 'colsample_bytree': 0.3827790685946254, 'max_depth': 1}. Best is trial 257 with value: 0.7170342000232983.\u001b[0m\n"
     ]
    },
    {
     "name": "stdout",
     "output_type": "stream",
     "text": [
      "[17:57:56] WARNING: C:/Users/Administrator/workspace/xgboost-win64_release_1.4.0/src/learner.cc:231: Only 1 GPUs are visible, setting `gpu_id` to 0\n",
      "[0]\tvalidation_0-rmse:6.91720\n",
      "[419]\tvalidation_0-rmse:0.71710\n"
     ]
    },
    {
     "name": "stderr",
     "output_type": "stream",
     "text": [
      "\u001b[32m[I 2021-08-30 17:57:57,690]\u001b[0m Trial 302 finished with value: 0.7170923950245345 and parameters: {'learning_rate': 0.11198821227979265, 'reg_lambda': 9.761869767579838e-07, 'reg_alpha': 3.033146465120401, 'subsample': 0.13246759271166353, 'colsample_bytree': 0.35520165146505356, 'max_depth': 1}. Best is trial 257 with value: 0.7170342000232983.\u001b[0m\n"
     ]
    },
    {
     "name": "stdout",
     "output_type": "stream",
     "text": [
      "[17:57:57] WARNING: C:/Users/Administrator/workspace/xgboost-win64_release_1.4.0/src/learner.cc:231: Only 1 GPUs are visible, setting `gpu_id` to 0\n",
      "[0]\tvalidation_0-rmse:6.68548\n",
      "[1000]\tvalidation_0-rmse:0.71719\n",
      "[1285]\tvalidation_0-rmse:0.71719\n"
     ]
    },
    {
     "name": "stderr",
     "output_type": "stream",
     "text": [
      "\u001b[32m[I 2021-08-30 17:58:01,359]\u001b[0m Trial 303 finished with value: 0.7171884081750073 and parameters: {'learning_rate': 0.14207451131146454, 'reg_lambda': 5.028352046372744e-07, 'reg_alpha': 4.447461528411181, 'subsample': 0.8701015393022884, 'colsample_bytree': 0.4118654049378371, 'max_depth': 1}. Best is trial 257 with value: 0.7170342000232983.\u001b[0m\n"
     ]
    },
    {
     "name": "stdout",
     "output_type": "stream",
     "text": [
      "[17:58:01] WARNING: C:/Users/Administrator/workspace/xgboost-win64_release_1.4.0/src/learner.cc:231: Only 1 GPUs are visible, setting `gpu_id` to 0\n",
      "[0]\tvalidation_0-rmse:6.83707\n",
      "[485]\tvalidation_0-rmse:0.71717\n"
     ]
    },
    {
     "name": "stderr",
     "output_type": "stream",
     "text": [
      "\u001b[32m[I 2021-08-30 17:58:02,918]\u001b[0m Trial 304 finished with value: 0.7171652527500457 and parameters: {'learning_rate': 0.12237341269329709, 'reg_lambda': 1.8900616380962776e-07, 'reg_alpha': 1.1661952622672551, 'subsample': 0.7803435229258996, 'colsample_bytree': 0.3206747417719764, 'max_depth': 1}. Best is trial 257 with value: 0.7170342000232983.\u001b[0m\n"
     ]
    },
    {
     "name": "stdout",
     "output_type": "stream",
     "text": [
      "[17:58:03] WARNING: C:/Users/Administrator/workspace/xgboost-win64_release_1.4.0/src/learner.cc:231: Only 1 GPUs are visible, setting `gpu_id` to 0\n",
      "[0]\tvalidation_0-rmse:6.77250\n",
      "[419]\tvalidation_0-rmse:0.71714\n"
     ]
    },
    {
     "name": "stderr",
     "output_type": "stream",
     "text": [
      "\u001b[32m[I 2021-08-30 17:58:04,230]\u001b[0m Trial 305 finished with value: 0.717082781458919 and parameters: {'learning_rate': 0.13079906242084163, 'reg_lambda': 3.2758984147708764e-06, 'reg_alpha': 1.8148466272078685, 'subsample': 0.11891644585054478, 'colsample_bytree': 0.34109286570079195, 'max_depth': 1}. Best is trial 257 with value: 0.7170342000232983.\u001b[0m\n"
     ]
    },
    {
     "name": "stdout",
     "output_type": "stream",
     "text": [
      "[17:58:04] WARNING: C:/Users/Administrator/workspace/xgboost-win64_release_1.4.0/src/learner.cc:231: Only 1 GPUs are visible, setting `gpu_id` to 0\n",
      "[0]\tvalidation_0-rmse:6.89071\n",
      "[841]\tvalidation_0-rmse:0.71718\n"
     ]
    },
    {
     "name": "stderr",
     "output_type": "stream",
     "text": [
      "\u001b[32m[I 2021-08-30 17:58:06,688]\u001b[0m Trial 306 finished with value: 0.7171703169265025 and parameters: {'learning_rate': 0.1154084310723635, 'reg_lambda': 1.189964272516944e-06, 'reg_alpha': 0.8923232784370978, 'subsample': 0.6805370305547245, 'colsample_bytree': 0.3905182771743454, 'max_depth': 1}. Best is trial 257 with value: 0.7170342000232983.\u001b[0m\n"
     ]
    },
    {
     "name": "stdout",
     "output_type": "stream",
     "text": [
      "[17:58:06] WARNING: C:/Users/Administrator/workspace/xgboost-win64_release_1.4.0/src/learner.cc:231: Only 1 GPUs are visible, setting `gpu_id` to 0\n",
      "[0]\tvalidation_0-rmse:6.97251\n",
      "[793]\tvalidation_0-rmse:0.71720\n"
     ]
    },
    {
     "name": "stderr",
     "output_type": "stream",
     "text": [
      "\u001b[32m[I 2021-08-30 17:58:08,967]\u001b[0m Trial 307 finished with value: 0.7171992841794863 and parameters: {'learning_rate': 0.10477907801344939, 'reg_lambda': 3.1198887640098855e-07, 'reg_alpha': 2.42376076239773e-07, 'subsample': 0.9912779806320752, 'colsample_bytree': 0.3644884064322766, 'max_depth': 1}. Best is trial 257 with value: 0.7170342000232983.\u001b[0m\n"
     ]
    },
    {
     "name": "stdout",
     "output_type": "stream",
     "text": [
      "[17:58:09] WARNING: C:/Users/Administrator/workspace/xgboost-win64_release_1.4.0/src/learner.cc:231: Only 1 GPUs are visible, setting `gpu_id` to 0\n",
      "[0]\tvalidation_0-rmse:6.73480\n",
      "[438]\tvalidation_0-rmse:0.71713\n"
     ]
    },
    {
     "name": "stderr",
     "output_type": "stream",
     "text": [
      "\u001b[32m[I 2021-08-30 17:58:10,494]\u001b[0m Trial 308 finished with value: 0.7170811798189439 and parameters: {'learning_rate': 0.13568783683885574, 'reg_lambda': 1.6413765417068127e-07, 'reg_alpha': 7.035618672663303, 'subsample': 0.14375736994501095, 'colsample_bytree': 0.41273383963774457, 'max_depth': 1}. Best is trial 257 with value: 0.7170342000232983.\u001b[0m\n"
     ]
    },
    {
     "name": "stdout",
     "output_type": "stream",
     "text": [
      "[17:58:10] WARNING: C:/Users/Administrator/workspace/xgboost-win64_release_1.4.0/src/learner.cc:231: Only 1 GPUs are visible, setting `gpu_id` to 0\n",
      "[0]\tvalidation_0-rmse:6.83084\n",
      "[967]\tvalidation_0-rmse:0.71720\n"
     ]
    },
    {
     "name": "stderr",
     "output_type": "stream",
     "text": [
      "\u001b[32m[I 2021-08-30 17:58:13,253]\u001b[0m Trial 309 finished with value: 0.717201379153668 and parameters: {'learning_rate': 0.12318337773990407, 'reg_lambda': 7.145132496907136e-07, 'reg_alpha': 3.4219102878397227, 'subsample': 0.9533983012420675, 'colsample_bytree': 0.3815328938418457, 'max_depth': 1}. Best is trial 257 with value: 0.7170342000232983.\u001b[0m\n"
     ]
    },
    {
     "name": "stdout",
     "output_type": "stream",
     "text": [
      "[17:58:13] WARNING: C:/Users/Administrator/workspace/xgboost-win64_release_1.4.0/src/learner.cc:231: Only 1 GPUs are visible, setting `gpu_id` to 0\n",
      "[0]\tvalidation_0-rmse:6.90731\n",
      "[416]\tvalidation_0-rmse:0.71718\n"
     ]
    },
    {
     "name": "stderr",
     "output_type": "stream",
     "text": [
      "\u001b[32m[I 2021-08-30 17:58:14,574]\u001b[0m Trial 310 finished with value: 0.7171570727708586 and parameters: {'learning_rate': 0.1132832628038519, 'reg_lambda': 1.9697112620774277e-06, 'reg_alpha': 0.4825911352104528, 'subsample': 0.11743931800143033, 'colsample_bytree': 0.35048934627642814, 'max_depth': 1}. Best is trial 257 with value: 0.7170342000232983.\u001b[0m\n"
     ]
    },
    {
     "name": "stdout",
     "output_type": "stream",
     "text": [
      "[17:58:14] WARNING: C:/Users/Administrator/workspace/xgboost-win64_release_1.4.0/src/learner.cc:231: Only 1 GPUs are visible, setting `gpu_id` to 0\n",
      "[0]\tvalidation_0-rmse:6.66601\n",
      "[419]\tvalidation_0-rmse:0.71712\n"
     ]
    },
    {
     "name": "stderr",
     "output_type": "stream",
     "text": [
      "\u001b[32m[I 2021-08-30 17:58:16,015]\u001b[0m Trial 311 finished with value: 0.7170852265193058 and parameters: {'learning_rate': 0.14462109297692372, 'reg_lambda': 0.0005481033480449586, 'reg_alpha': 2.0381543530369335, 'subsample': 0.16025760223697716, 'colsample_bytree': 0.40236227122369655, 'max_depth': 1}. Best is trial 257 with value: 0.7170342000232983.\u001b[0m\n"
     ]
    },
    {
     "name": "stdout",
     "output_type": "stream",
     "text": [
      "[17:58:16] WARNING: C:/Users/Administrator/workspace/xgboost-win64_release_1.4.0/src/learner.cc:231: Only 1 GPUs are visible, setting `gpu_id` to 0\n",
      "[0]\tvalidation_0-rmse:6.77045\n",
      "[560]\tvalidation_0-rmse:0.71710\n"
     ]
    },
    {
     "name": "stderr",
     "output_type": "stream",
     "text": [
      "\u001b[32m[I 2021-08-30 17:58:17,771]\u001b[0m Trial 312 finished with value: 0.7170643975407807 and parameters: {'learning_rate': 0.13111853149472713, 'reg_lambda': 5.1193501136209635e-06, 'reg_alpha': 4.8460552187993065, 'subsample': 0.10075769926638777, 'colsample_bytree': 0.29143348730392177, 'max_depth': 1}. Best is trial 257 with value: 0.7170342000232983.\u001b[0m\n"
     ]
    },
    {
     "name": "stdout",
     "output_type": "stream",
     "text": [
      "[17:58:17] WARNING: C:/Users/Administrator/workspace/xgboost-win64_release_1.4.0/src/learner.cc:231: Only 1 GPUs are visible, setting `gpu_id` to 0\n",
      "[0]\tvalidation_0-rmse:6.76168\n",
      "[545]\tvalidation_0-rmse:0.71713\n"
     ]
    },
    {
     "name": "stderr",
     "output_type": "stream",
     "text": [
      "\u001b[32m[I 2021-08-30 17:58:19,434]\u001b[0m Trial 313 finished with value: 0.7171049873932127 and parameters: {'learning_rate': 0.13221946487429798, 'reg_lambda': 5.094514190648656e-06, 'reg_alpha': 17.338003355108608, 'subsample': 0.13422463110982585, 'colsample_bytree': 0.28697103226782494, 'max_depth': 1}. Best is trial 257 with value: 0.7170342000232983.\u001b[0m\n"
     ]
    },
    {
     "name": "stdout",
     "output_type": "stream",
     "text": [
      "[17:58:19] WARNING: C:/Users/Administrator/workspace/xgboost-win64_release_1.4.0/src/learner.cc:231: Only 1 GPUs are visible, setting `gpu_id` to 0\n",
      "[0]\tvalidation_0-rmse:6.61665\n",
      "[603]\tvalidation_0-rmse:0.71717\n"
     ]
    },
    {
     "name": "stderr",
     "output_type": "stream",
     "text": [
      "\u001b[32m[I 2021-08-30 17:58:21,222]\u001b[0m Trial 314 finished with value: 0.7171178610628939 and parameters: {'learning_rate': 0.1510515014666678, 'reg_lambda': 2.3162315864898954e-06, 'reg_alpha': 5.5055559543157075, 'subsample': 0.1180272011636622, 'colsample_bytree': 0.29884408346159985, 'max_depth': 1}. Best is trial 257 with value: 0.7170342000232983.\u001b[0m\n"
     ]
    },
    {
     "name": "stdout",
     "output_type": "stream",
     "text": [
      "[17:58:21] WARNING: C:/Users/Administrator/workspace/xgboost-win64_release_1.4.0/src/learner.cc:231: Only 1 GPUs are visible, setting `gpu_id` to 0\n",
      "[0]\tvalidation_0-rmse:6.84267\n",
      "[592]\tvalidation_0-rmse:0.71715\n"
     ]
    },
    {
     "name": "stderr",
     "output_type": "stream",
     "text": [
      "\u001b[32m[I 2021-08-30 17:58:23,001]\u001b[0m Trial 315 finished with value: 0.717113018193753 and parameters: {'learning_rate': 0.1216763258640311, 'reg_lambda': 3.4687035111600753e-06, 'reg_alpha': 10.915598063679424, 'subsample': 0.14590256740358412, 'colsample_bytree': 0.3148211427453768, 'max_depth': 1}. Best is trial 257 with value: 0.7170342000232983.\u001b[0m\n"
     ]
    },
    {
     "name": "stdout",
     "output_type": "stream",
     "text": [
      "[17:58:23] WARNING: C:/Users/Administrator/workspace/xgboost-win64_release_1.4.0/src/learner.cc:231: Only 1 GPUs are visible, setting `gpu_id` to 0\n",
      "[0]\tvalidation_0-rmse:6.98079\n",
      "[721]\tvalidation_0-rmse:0.71715\n"
     ]
    },
    {
     "name": "stderr",
     "output_type": "stream",
     "text": [
      "\u001b[32m[I 2021-08-30 17:58:25,119]\u001b[0m Trial 316 finished with value: 0.7171234597247254 and parameters: {'learning_rate': 0.10378024433027533, 'reg_lambda': 0.12176038864406313, 'reg_alpha': 3.7205715790615503, 'subsample': 0.10144685737997604, 'colsample_bytree': 0.25266480793799084, 'max_depth': 1}. Best is trial 257 with value: 0.7170342000232983.\u001b[0m\n"
     ]
    },
    {
     "name": "stdout",
     "output_type": "stream",
     "text": [
      "[17:58:25] WARNING: C:/Users/Administrator/workspace/xgboost-win64_release_1.4.0/src/learner.cc:231: Only 1 GPUs are visible, setting `gpu_id` to 0\n",
      "[0]\tvalidation_0-rmse:6.87927\n",
      "[539]\tvalidation_0-rmse:0.71711\n"
     ]
    },
    {
     "name": "stderr",
     "output_type": "stream",
     "text": [
      "\u001b[32m[I 2021-08-30 17:58:26,750]\u001b[0m Trial 317 finished with value: 0.7170884764873565 and parameters: {'learning_rate': 0.11692162110030749, 'reg_lambda': 1.3275174939152634e-06, 'reg_alpha': 8.926300101579095, 'subsample': 0.13243667529170336, 'colsample_bytree': 0.33818208269882205, 'max_depth': 1}. Best is trial 257 with value: 0.7170342000232983.\u001b[0m\n"
     ]
    },
    {
     "name": "stdout",
     "output_type": "stream",
     "text": [
      "[17:58:26] WARNING: C:/Users/Administrator/workspace/xgboost-win64_release_1.4.0/src/learner.cc:231: Only 1 GPUs are visible, setting `gpu_id` to 0\n",
      "[0]\tvalidation_0-rmse:6.70393\n",
      "[416]\tvalidation_0-rmse:0.71714\n"
     ]
    },
    {
     "name": "stderr",
     "output_type": "stream",
     "text": [
      "\u001b[32m[I 2021-08-30 17:58:28,114]\u001b[0m Trial 318 finished with value: 0.7171031055867538 and parameters: {'learning_rate': 0.13970792896138973, 'reg_lambda': 0.004080961429438676, 'reg_alpha': 1.4263166446061637, 'subsample': 0.11919877175403304, 'colsample_bytree': 0.30658197051863484, 'max_depth': 1}. Best is trial 257 with value: 0.7170342000232983.\u001b[0m\n"
     ]
    },
    {
     "name": "stdout",
     "output_type": "stream",
     "text": [
      "[17:58:28] WARNING: C:/Users/Administrator/workspace/xgboost-win64_release_1.4.0/src/learner.cc:231: Only 1 GPUs are visible, setting `gpu_id` to 0\n",
      "[0]\tvalidation_0-rmse:6.94038\n",
      "[434]\tvalidation_0-rmse:0.71712\n"
     ]
    },
    {
     "name": "stderr",
     "output_type": "stream",
     "text": [
      "\u001b[32m[I 2021-08-30 17:58:29,468]\u001b[0m Trial 319 finished with value: 0.7170858256395147 and parameters: {'learning_rate': 0.10896559702901923, 'reg_lambda': 0.0016198922417063819, 'reg_alpha': 5.418986691015609, 'subsample': 0.16394963331834195, 'colsample_bytree': 0.27289773054730243, 'max_depth': 1}. Best is trial 257 with value: 0.7170342000232983.\u001b[0m\n"
     ]
    },
    {
     "name": "stdout",
     "output_type": "stream",
     "text": [
      "[17:58:29] WARNING: C:/Users/Administrator/workspace/xgboost-win64_release_1.4.0/src/learner.cc:231: Only 1 GPUs are visible, setting `gpu_id` to 0\n",
      "[0]\tvalidation_0-rmse:6.79404\n",
      "[417]\tvalidation_0-rmse:0.71714\n"
     ]
    },
    {
     "name": "stderr",
     "output_type": "stream",
     "text": [
      "\u001b[32m[I 2021-08-30 17:58:30,885]\u001b[0m Trial 320 finished with value: 0.7171025437363274 and parameters: {'learning_rate': 0.1279948157398347, 'reg_lambda': 2.036545517010726e-06, 'reg_alpha': 2.901758472210781, 'subsample': 0.1166883647417036, 'colsample_bytree': 0.3666854758647688, 'max_depth': 1}. Best is trial 257 with value: 0.7170342000232983.\u001b[0m\n"
     ]
    },
    {
     "name": "stdout",
     "output_type": "stream",
     "text": [
      "[17:58:31] WARNING: C:/Users/Administrator/workspace/xgboost-win64_release_1.4.0/src/learner.cc:231: Only 1 GPUs are visible, setting `gpu_id` to 0\n",
      "[0]\tvalidation_0-rmse:6.86237\n",
      "[559]\tvalidation_0-rmse:0.71708\n"
     ]
    },
    {
     "name": "stderr",
     "output_type": "stream",
     "text": [
      "\u001b[32m[I 2021-08-30 17:58:32,539]\u001b[0m Trial 321 finished with value: 0.7170332013860602 and parameters: {'learning_rate': 0.1191677581918702, 'reg_lambda': 5.179124325284693e-06, 'reg_alpha': 0.7956448932484101, 'subsample': 0.10044414457612734, 'colsample_bytree': 0.32361874932272006, 'max_depth': 1}. Best is trial 321 with value: 0.7170332013860602.\u001b[0m\n"
     ]
    },
    {
     "name": "stdout",
     "output_type": "stream",
     "text": [
      "[17:58:32] WARNING: C:/Users/Administrator/workspace/xgboost-win64_release_1.4.0/src/learner.cc:231: Only 1 GPUs are visible, setting `gpu_id` to 0\n",
      "[0]\tvalidation_0-rmse:6.91198\n",
      "[415]\tvalidation_0-rmse:0.71715\n"
     ]
    },
    {
     "name": "stderr",
     "output_type": "stream",
     "text": [
      "\u001b[32m[I 2021-08-30 17:58:33,916]\u001b[0m Trial 322 finished with value: 0.7171093000892298 and parameters: {'learning_rate': 0.11266913709614484, 'reg_lambda': 9.111097179549274e-06, 'reg_alpha': 0.3129823748459832, 'subsample': 0.15347404722147814, 'colsample_bytree': 0.32424980454748886, 'max_depth': 1}. Best is trial 321 with value: 0.7170332013860602.\u001b[0m\n"
     ]
    },
    {
     "name": "stdout",
     "output_type": "stream",
     "text": [
      "[17:58:34] WARNING: C:/Users/Administrator/workspace/xgboost-win64_release_1.4.0/src/learner.cc:231: Only 1 GPUs are visible, setting `gpu_id` to 0\n",
      "[0]\tvalidation_0-rmse:6.74549\n",
      "[419]\tvalidation_0-rmse:0.71710\n"
     ]
    },
    {
     "name": "stderr",
     "output_type": "stream",
     "text": [
      "\u001b[32m[I 2021-08-30 17:58:35,220]\u001b[0m Trial 323 finished with value: 0.7170526404610752 and parameters: {'learning_rate': 0.1342995743317286, 'reg_lambda': 5.552992637797439e-06, 'reg_alpha': 0.7044461673245119, 'subsample': 0.13530211582062204, 'colsample_bytree': 0.30983258381517337, 'max_depth': 1}. Best is trial 321 with value: 0.7170332013860602.\u001b[0m\n"
     ]
    },
    {
     "name": "stdout",
     "output_type": "stream",
     "text": [
      "[17:58:35] WARNING: C:/Users/Administrator/workspace/xgboost-win64_release_1.4.0/src/learner.cc:231: Only 1 GPUs are visible, setting `gpu_id` to 0\n",
      "[0]\tvalidation_0-rmse:6.55139\n",
      "[435]\tvalidation_0-rmse:0.71717\n"
     ]
    },
    {
     "name": "stderr",
     "output_type": "stream",
     "text": [
      "\u001b[32m[I 2021-08-30 17:58:36,559]\u001b[0m Trial 324 finished with value: 0.7171297629160809 and parameters: {'learning_rate': 0.15952392651509367, 'reg_lambda': 4.457379102734168e-06, 'reg_alpha': 0.6034119741671097, 'subsample': 0.13163138824175502, 'colsample_bytree': 0.28206980878241644, 'max_depth': 1}. Best is trial 321 with value: 0.7170332013860602.\u001b[0m\n"
     ]
    },
    {
     "name": "stdout",
     "output_type": "stream",
     "text": [
      "[17:58:36] WARNING: C:/Users/Administrator/workspace/xgboost-win64_release_1.4.0/src/learner.cc:231: Only 1 GPUs are visible, setting `gpu_id` to 0\n",
      "[0]\tvalidation_0-rmse:6.73549\n",
      "[418]\tvalidation_0-rmse:0.71713\n"
     ]
    },
    {
     "name": "stderr",
     "output_type": "stream",
     "text": [
      "\u001b[32m[I 2021-08-30 17:58:37,902]\u001b[0m Trial 325 finished with value: 0.7171088970973964 and parameters: {'learning_rate': 0.13560095453360368, 'reg_lambda': 4.71528291871362e-06, 'reg_alpha': 0.7991162989195189, 'subsample': 0.11676836500404755, 'colsample_bytree': 0.3201546666832388, 'max_depth': 1}. Best is trial 321 with value: 0.7170332013860602.\u001b[0m\n"
     ]
    },
    {
     "name": "stdout",
     "output_type": "stream",
     "text": [
      "[17:58:38] WARNING: C:/Users/Administrator/workspace/xgboost-win64_release_1.4.0/src/learner.cc:231: Only 1 GPUs are visible, setting `gpu_id` to 0\n",
      "[0]\tvalidation_0-rmse:6.62923\n",
      "[711]\tvalidation_0-rmse:0.71717\n"
     ]
    },
    {
     "name": "stderr",
     "output_type": "stream",
     "text": [
      "\u001b[32m[I 2021-08-30 17:58:39,994]\u001b[0m Trial 326 finished with value: 0.717134840536045 and parameters: {'learning_rate': 0.14947614666719583, 'reg_lambda': 6.408839431735263e-06, 'reg_alpha': 5.52304045471378e-07, 'subsample': 0.10160733407769452, 'colsample_bytree': 0.30081048482120326, 'max_depth': 1}. Best is trial 321 with value: 0.7170332013860602.\u001b[0m\n"
     ]
    },
    {
     "name": "stdout",
     "output_type": "stream",
     "text": [
      "[17:58:40] WARNING: C:/Users/Administrator/workspace/xgboost-win64_release_1.4.0/src/learner.cc:231: Only 1 GPUs are visible, setting `gpu_id` to 0\n",
      "[0]\tvalidation_0-rmse:6.69228\n",
      "[418]\tvalidation_0-rmse:0.71717\n"
     ]
    },
    {
     "name": "stderr",
     "output_type": "stream",
     "text": [
      "\u001b[32m[I 2021-08-30 17:58:41,288]\u001b[0m Trial 327 finished with value: 0.7170990930417156 and parameters: {'learning_rate': 0.1412182420253628, 'reg_lambda': 1.1292156837724131e-05, 'reg_alpha': 0.47595480329243833, 'subsample': 0.15000766295763357, 'colsample_bytree': 0.2932726388278504, 'max_depth': 1}. Best is trial 321 with value: 0.7170332013860602.\u001b[0m\n"
     ]
    },
    {
     "name": "stdout",
     "output_type": "stream",
     "text": [
      "[17:58:41] WARNING: C:/Users/Administrator/workspace/xgboost-win64_release_1.4.0/src/learner.cc:231: Only 1 GPUs are visible, setting `gpu_id` to 0\n",
      "[0]\tvalidation_0-rmse:7.02143\n",
      "[374]\tvalidation_0-rmse:0.71770\n"
     ]
    },
    {
     "name": "stderr",
     "output_type": "stream",
     "text": [
      "\u001b[32m[I 2021-08-30 17:58:42,923]\u001b[0m Trial 328 finished with value: 0.7172100061318402 and parameters: {'learning_rate': 0.09841260347517335, 'reg_lambda': 2.7040060574100164e-05, 'reg_alpha': 1.1582652420191724, 'subsample': 0.12780297050974046, 'colsample_bytree': 0.3316473293714996, 'max_depth': 4}. Best is trial 321 with value: 0.7170332013860602.\u001b[0m\n"
     ]
    },
    {
     "name": "stdout",
     "output_type": "stream",
     "text": [
      "[17:58:43] WARNING: C:/Users/Administrator/workspace/xgboost-win64_release_1.4.0/src/learner.cc:231: Only 1 GPUs are visible, setting `gpu_id` to 0\n",
      "[0]\tvalidation_0-rmse:6.76249\n",
      "[609]\tvalidation_0-rmse:0.71712\n"
     ]
    },
    {
     "name": "stderr",
     "output_type": "stream",
     "text": [
      "\u001b[32m[I 2021-08-30 17:58:44,621]\u001b[0m Trial 329 finished with value: 0.7170633115953421 and parameters: {'learning_rate': 0.13214583500693267, 'reg_lambda': 8.124778768537994e-06, 'reg_alpha': 0.8168738448752967, 'subsample': 0.10067556194081625, 'colsample_bytree': 0.2655888227581494, 'max_depth': 1}. Best is trial 321 with value: 0.7170332013860602.\u001b[0m\n"
     ]
    },
    {
     "name": "stdout",
     "output_type": "stream",
     "text": [
      "[17:58:44] WARNING: C:/Users/Administrator/workspace/xgboost-win64_release_1.4.0/src/learner.cc:231: Only 1 GPUs are visible, setting `gpu_id` to 0\n",
      "[0]\tvalidation_0-rmse:6.85948\n",
      "[712]\tvalidation_0-rmse:0.71711\n"
     ]
    },
    {
     "name": "stderr",
     "output_type": "stream",
     "text": [
      "\u001b[32m[I 2021-08-30 17:58:46,887]\u001b[0m Trial 330 finished with value: 0.7170684928172071 and parameters: {'learning_rate': 0.119541935127876, 'reg_lambda': 1.8709824299014598e-05, 'reg_alpha': 0.841287533602358, 'subsample': 0.10003091004596665, 'colsample_bytree': 0.26230866788695856, 'max_depth': 1}. Best is trial 321 with value: 0.7170332013860602.\u001b[0m\n"
     ]
    },
    {
     "name": "stdout",
     "output_type": "stream",
     "text": [
      "[17:58:47] WARNING: C:/Users/Administrator/workspace/xgboost-win64_release_1.4.0/src/learner.cc:231: Only 1 GPUs are visible, setting `gpu_id` to 0\n",
      "[0]\tvalidation_0-rmse:6.74990\n",
      "[362]\tvalidation_0-rmse:0.71737\n"
     ]
    },
    {
     "name": "stderr",
     "output_type": "stream",
     "text": [
      "\u001b[32m[I 2021-08-30 17:58:48,254]\u001b[0m Trial 331 finished with value: 0.7171765165260978 and parameters: {'learning_rate': 0.13369725134608962, 'reg_lambda': 7.011558266000914e-06, 'reg_alpha': 0.6972620264998508, 'subsample': 0.11995032488756477, 'colsample_bytree': 0.2490587559375648, 'max_depth': 2}. Best is trial 321 with value: 0.7170332013860602.\u001b[0m\n"
     ]
    },
    {
     "name": "stdout",
     "output_type": "stream",
     "text": [
      "[17:58:48] WARNING: C:/Users/Administrator/workspace/xgboost-win64_release_1.4.0/src/learner.cc:231: Only 1 GPUs are visible, setting `gpu_id` to 0\n",
      "[0]\tvalidation_0-rmse:6.65196\n",
      "[711]\tvalidation_0-rmse:0.71712\n"
     ]
    },
    {
     "name": "stderr",
     "output_type": "stream",
     "text": [
      "\u001b[32m[I 2021-08-30 17:58:50,287]\u001b[0m Trial 332 finished with value: 0.717082003624474 and parameters: {'learning_rate': 0.14651816023937744, 'reg_lambda': 1.617208147679686e-05, 'reg_alpha': 0.3240275324631664, 'subsample': 0.10003463747435504, 'colsample_bytree': 0.27626976924107816, 'max_depth': 1}. Best is trial 321 with value: 0.7170332013860602.\u001b[0m\n"
     ]
    },
    {
     "name": "stdout",
     "output_type": "stream",
     "text": [
      "[17:58:50] WARNING: C:/Users/Administrator/workspace/xgboost-win64_release_1.4.0/src/learner.cc:231: Only 1 GPUs are visible, setting `gpu_id` to 0\n",
      "[0]\tvalidation_0-rmse:6.78776\n",
      "[416]\tvalidation_0-rmse:0.71713\n"
     ]
    },
    {
     "name": "stderr",
     "output_type": "stream",
     "text": [
      "\u001b[32m[I 2021-08-30 17:58:51,580]\u001b[0m Trial 333 finished with value: 0.7171111706890814 and parameters: {'learning_rate': 0.12881164338145365, 'reg_lambda': 3.3715849166254995e-06, 'reg_alpha': 1.2875891462364777, 'subsample': 0.11610694349716474, 'colsample_bytree': 0.2996223051626273, 'max_depth': 1}. Best is trial 321 with value: 0.7170332013860602.\u001b[0m\n"
     ]
    },
    {
     "name": "stdout",
     "output_type": "stream",
     "text": [
      "[17:58:51] WARNING: C:/Users/Administrator/workspace/xgboost-win64_release_1.4.0/src/learner.cc:231: Only 1 GPUs are visible, setting `gpu_id` to 0\n",
      "[0]\tvalidation_0-rmse:6.87282\n",
      "[417]\tvalidation_0-rmse:0.71710\n"
     ]
    },
    {
     "name": "stderr",
     "output_type": "stream",
     "text": [
      "\u001b[32m[I 2021-08-30 17:58:52,890]\u001b[0m Trial 334 finished with value: 0.7170662728684344 and parameters: {'learning_rate': 0.1177453903936473, 'reg_lambda': 5.034172134069468e-06, 'reg_alpha': 3.949771905307553e-08, 'subsample': 0.13743730425845774, 'colsample_bytree': 0.31784834177301974, 'max_depth': 1}. Best is trial 321 with value: 0.7170332013860602.\u001b[0m\n"
     ]
    },
    {
     "name": "stdout",
     "output_type": "stream",
     "text": [
      "[17:58:53] WARNING: C:/Users/Administrator/workspace/xgboost-win64_release_1.4.0/src/learner.cc:231: Only 1 GPUs are visible, setting `gpu_id` to 0\n",
      "[0]\tvalidation_0-rmse:6.93996\n",
      "[418]\tvalidation_0-rmse:0.71711\n"
     ]
    },
    {
     "name": "stderr",
     "output_type": "stream",
     "text": [
      "\u001b[32m[I 2021-08-30 17:58:54,222]\u001b[0m Trial 335 finished with value: 0.717076806389417 and parameters: {'learning_rate': 0.10902940412399281, 'reg_lambda': 9.354125500820513e-06, 'reg_alpha': 6.94524808514681e-08, 'subsample': 0.15672150424585088, 'colsample_bytree': 0.3159356796671409, 'max_depth': 1}. Best is trial 321 with value: 0.7170332013860602.\u001b[0m\n"
     ]
    },
    {
     "name": "stdout",
     "output_type": "stream",
     "text": [
      "[17:58:54] WARNING: C:/Users/Administrator/workspace/xgboost-win64_release_1.4.0/src/learner.cc:231: Only 1 GPUs are visible, setting `gpu_id` to 0\n",
      "[0]\tvalidation_0-rmse:6.72990\n",
      "[416]\tvalidation_0-rmse:0.71710\n"
     ]
    },
    {
     "name": "stderr",
     "output_type": "stream",
     "text": [
      "\u001b[32m[I 2021-08-30 17:58:55,518]\u001b[0m Trial 336 finished with value: 0.7170585910326626 and parameters: {'learning_rate': 0.13631450819359225, 'reg_lambda': 4.819707844128905e-05, 'reg_alpha': 1.780923147875468e-08, 'subsample': 0.13945249016142797, 'colsample_bytree': 0.2792578294108847, 'max_depth': 1}. Best is trial 321 with value: 0.7170332013860602.\u001b[0m\n"
     ]
    },
    {
     "name": "stdout",
     "output_type": "stream",
     "text": [
      "[17:58:55] WARNING: C:/Users/Administrator/workspace/xgboost-win64_release_1.4.0/src/learner.cc:231: Only 1 GPUs are visible, setting `gpu_id` to 0\n",
      "[0]\tvalidation_0-rmse:6.50703\n",
      "[395]\tvalidation_0-rmse:0.71717\n"
     ]
    },
    {
     "name": "stderr",
     "output_type": "stream",
     "text": [
      "\u001b[32m[I 2021-08-30 17:58:56,767]\u001b[0m Trial 337 finished with value: 0.7171061716831112 and parameters: {'learning_rate': 0.16524410903697156, 'reg_lambda': 3.1743318412571143e-06, 'reg_alpha': 1.2258892329138256e-07, 'subsample': 0.16862696470508934, 'colsample_bytree': 0.2348858727822444, 'max_depth': 1}. Best is trial 321 with value: 0.7170332013860602.\u001b[0m\n"
     ]
    },
    {
     "name": "stdout",
     "output_type": "stream",
     "text": [
      "[17:58:56] WARNING: C:/Users/Administrator/workspace/xgboost-win64_release_1.4.0/src/learner.cc:231: Only 1 GPUs are visible, setting `gpu_id` to 0\n",
      "[0]\tvalidation_0-rmse:6.61058\n",
      "[545]\tvalidation_0-rmse:0.71715\n"
     ]
    },
    {
     "name": "stderr",
     "output_type": "stream",
     "text": [
      "\u001b[32m[I 2021-08-30 17:58:58,427]\u001b[0m Trial 338 finished with value: 0.7170960756983357 and parameters: {'learning_rate': 0.15181225126465117, 'reg_lambda': 6.576869344342467e-06, 'reg_alpha': 2.797357433713027e-08, 'subsample': 0.13863249818739215, 'colsample_bytree': 0.27091642135963684, 'max_depth': 1}. Best is trial 321 with value: 0.7170332013860602.\u001b[0m\n"
     ]
    },
    {
     "name": "stdout",
     "output_type": "stream",
     "text": [
      "[17:58:58] WARNING: C:/Users/Administrator/workspace/xgboost-win64_release_1.4.0/src/learner.cc:231: Only 1 GPUs are visible, setting `gpu_id` to 0\n",
      "[0]\tvalidation_0-rmse:6.71124\n",
      "[417]\tvalidation_0-rmse:0.71713\n"
     ]
    },
    {
     "name": "stderr",
     "output_type": "stream",
     "text": [
      "\u001b[32m[I 2021-08-30 17:58:59,812]\u001b[0m Trial 339 finished with value: 0.7170944419376813 and parameters: {'learning_rate': 0.13874685599213554, 'reg_lambda': 1.3123126182052533e-05, 'reg_alpha': 1.3196259191473582e-08, 'subsample': 0.12015929998728479, 'colsample_bytree': 0.29562785926239243, 'max_depth': 1}. Best is trial 321 with value: 0.7170332013860602.\u001b[0m\n"
     ]
    },
    {
     "name": "stdout",
     "output_type": "stream",
     "text": [
      "[17:58:59] WARNING: C:/Users/Administrator/workspace/xgboost-win64_release_1.4.0/src/learner.cc:231: Only 1 GPUs are visible, setting `gpu_id` to 0\n",
      "[0]\tvalidation_0-rmse:6.73912\n",
      "[397]\tvalidation_0-rmse:0.71711\n"
     ]
    },
    {
     "name": "stderr",
     "output_type": "stream",
     "text": [
      "\u001b[32m[I 2021-08-30 17:59:01,114]\u001b[0m Trial 340 finished with value: 0.7170649081202612 and parameters: {'learning_rate': 0.13511169402988035, 'reg_lambda': 0.0002537725902464407, 'reg_alpha': 0.552519276465764, 'subsample': 0.14481595227785454, 'colsample_bytree': 0.28205790399252023, 'max_depth': 1}. Best is trial 321 with value: 0.7170332013860602.\u001b[0m\n"
     ]
    },
    {
     "name": "stdout",
     "output_type": "stream",
     "text": [
      "[17:59:01] WARNING: C:/Users/Administrator/workspace/xgboost-win64_release_1.4.0/src/learner.cc:231: Only 1 GPUs are visible, setting `gpu_id` to 0\n",
      "[0]\tvalidation_0-rmse:6.67860\n",
      "[419]\tvalidation_0-rmse:0.71714\n"
     ]
    },
    {
     "name": "stderr",
     "output_type": "stream",
     "text": [
      "\u001b[32m[I 2021-08-30 17:59:02,442]\u001b[0m Trial 341 finished with value: 0.71708381109015 and parameters: {'learning_rate': 0.142986871925668, 'reg_lambda': 5.1793740917046585e-05, 'reg_alpha': 0.5712603307406283, 'subsample': 0.15283447682260476, 'colsample_bytree': 0.26607526596238945, 'max_depth': 1}. Best is trial 321 with value: 0.7170332013860602.\u001b[0m\n"
     ]
    },
    {
     "name": "stdout",
     "output_type": "stream",
     "text": [
      "[17:59:02] WARNING: C:/Users/Administrator/workspace/xgboost-win64_release_1.4.0/src/learner.cc:231: Only 1 GPUs are visible, setting `gpu_id` to 0\n",
      "[0]\tvalidation_0-rmse:6.55906\n",
      "[1000]\tvalidation_0-rmse:0.71710\n",
      "[1238]\tvalidation_0-rmse:0.71715\n"
     ]
    },
    {
     "name": "stderr",
     "output_type": "stream",
     "text": [
      "\u001b[32m[I 2021-08-30 17:59:05,853]\u001b[0m Trial 342 finished with value: 0.7170745171289505 and parameters: {'learning_rate': 0.15848241085758538, 'reg_lambda': 0.0003688010613353561, 'reg_alpha': 0.30798943685010627, 'subsample': 0.17309020458107746, 'colsample_bytree': 0.2901070525079907, 'max_depth': 1}. Best is trial 321 with value: 0.7170332013860602.\u001b[0m\n"
     ]
    },
    {
     "name": "stdout",
     "output_type": "stream",
     "text": [
      "[17:59:06] WARNING: C:/Users/Administrator/workspace/xgboost-win64_release_1.4.0/src/learner.cc:231: Only 1 GPUs are visible, setting `gpu_id` to 0\n",
      "[0]\tvalidation_0-rmse:6.72612\n",
      "[414]\tvalidation_0-rmse:0.71713\n"
     ]
    },
    {
     "name": "stderr",
     "output_type": "stream",
     "text": [
      "\u001b[32m[I 2021-08-30 17:59:07,154]\u001b[0m Trial 343 finished with value: 0.7170880084797087 and parameters: {'learning_rate': 0.1368172025118444, 'reg_lambda': 8.73002723519373e-05, 'reg_alpha': 4.679780465829841e-08, 'subsample': 0.12185303272485114, 'colsample_bytree': 0.27816906256683843, 'max_depth': 1}. Best is trial 321 with value: 0.7170332013860602.\u001b[0m\n"
     ]
    },
    {
     "name": "stdout",
     "output_type": "stream",
     "text": [
      "[17:59:07] WARNING: C:/Users/Administrator/workspace/xgboost-win64_release_1.4.0/src/learner.cc:231: Only 1 GPUs are visible, setting `gpu_id` to 0\n",
      "[0]\tvalidation_0-rmse:6.80391\n",
      "[711]\tvalidation_0-rmse:0.71709\n"
     ]
    },
    {
     "name": "stderr",
     "output_type": "stream",
     "text": [
      "\u001b[32m[I 2021-08-30 17:59:09,219]\u001b[0m Trial 344 finished with value: 0.7170451888036903 and parameters: {'learning_rate': 0.126764070335805, 'reg_lambda': 0.0001432027818655085, 'reg_alpha': 2.0422121220634257e-08, 'subsample': 0.10018014493898468, 'colsample_bytree': 0.24079741904377805, 'max_depth': 1}. Best is trial 321 with value: 0.7170332013860602.\u001b[0m\n"
     ]
    },
    {
     "name": "stdout",
     "output_type": "stream",
     "text": [
      "[17:59:09] WARNING: C:/Users/Administrator/workspace/xgboost-win64_release_1.4.0/src/learner.cc:231: Only 1 GPUs are visible, setting `gpu_id` to 0\n",
      "[0]\tvalidation_0-rmse:6.76697\n",
      "[419]\tvalidation_0-rmse:0.71708\n"
     ]
    },
    {
     "name": "stderr",
     "output_type": "stream",
     "text": [
      "\u001b[32m[I 2021-08-30 17:59:10,521]\u001b[0m Trial 345 finished with value: 0.7170556931092126 and parameters: {'learning_rate': 0.13150167444905983, 'reg_lambda': 0.00014285798041420412, 'reg_alpha': 1.2925117754898268e-08, 'subsample': 0.14396429715696332, 'colsample_bytree': 0.21949888723186167, 'max_depth': 1}. Best is trial 321 with value: 0.7170332013860602.\u001b[0m\n"
     ]
    },
    {
     "name": "stdout",
     "output_type": "stream",
     "text": [
      "[17:59:10] WARNING: C:/Users/Administrator/workspace/xgboost-win64_release_1.4.0/src/learner.cc:231: Only 1 GPUs are visible, setting `gpu_id` to 0\n",
      "[0]\tvalidation_0-rmse:6.64133\n",
      "[347]\tvalidation_0-rmse:0.71781\n"
     ]
    },
    {
     "name": "stderr",
     "output_type": "stream",
     "text": [
      "\u001b[32m[I 2021-08-30 17:59:11,869]\u001b[0m Trial 346 finished with value: 0.7172733919782571 and parameters: {'learning_rate': 0.1477782092403123, 'reg_lambda': 0.0001714968000530496, 'reg_alpha': 1.7844242453773978e-08, 'subsample': 0.11805985946776036, 'colsample_bytree': 0.21772023084905542, 'max_depth': 3}. Best is trial 321 with value: 0.7170332013860602.\u001b[0m\n"
     ]
    },
    {
     "name": "stdout",
     "output_type": "stream",
     "text": [
      "[17:59:12] WARNING: C:/Users/Administrator/workspace/xgboost-win64_release_1.4.0/src/learner.cc:231: Only 1 GPUs are visible, setting `gpu_id` to 0\n",
      "[0]\tvalidation_0-rmse:6.76232\n",
      "[559]\tvalidation_0-rmse:0.71718\n"
     ]
    },
    {
     "name": "stderr",
     "output_type": "stream",
     "text": [
      "\u001b[32m[I 2021-08-30 17:59:13,457]\u001b[0m Trial 347 finished with value: 0.7171224497726932 and parameters: {'learning_rate': 0.13210623535367405, 'reg_lambda': 0.0002480235408546205, 'reg_alpha': 1.968421975806587e-08, 'subsample': 0.13313163995447022, 'colsample_bytree': 0.2056065730431828, 'max_depth': 1}. Best is trial 321 with value: 0.7170332013860602.\u001b[0m\n"
     ]
    },
    {
     "name": "stdout",
     "output_type": "stream",
     "text": [
      "[17:59:13] WARNING: C:/Users/Administrator/workspace/xgboost-win64_release_1.4.0/src/learner.cc:231: Only 1 GPUs are visible, setting `gpu_id` to 0\n",
      "[0]\tvalidation_0-rmse:6.70031\n",
      "[608]\tvalidation_0-rmse:0.71718\n"
     ]
    },
    {
     "name": "stderr",
     "output_type": "stream",
     "text": [
      "\u001b[32m[I 2021-08-30 17:59:15,355]\u001b[0m Trial 348 finished with value: 0.7171431344276886 and parameters: {'learning_rate': 0.14017126369196808, 'reg_lambda': 0.00011715852407940652, 'reg_alpha': 3.4722566513585696e-08, 'subsample': 0.11637380086723431, 'colsample_bytree': 0.2422529964853845, 'max_depth': 1}. Best is trial 321 with value: 0.7170332013860602.\u001b[0m\n"
     ]
    },
    {
     "name": "stdout",
     "output_type": "stream",
     "text": [
      "[17:59:15] WARNING: C:/Users/Administrator/workspace/xgboost-win64_release_1.4.0/src/learner.cc:231: Only 1 GPUs are visible, setting `gpu_id` to 0\n",
      "[0]\tvalidation_0-rmse:6.80586\n",
      "[396]\tvalidation_0-rmse:0.71715\n"
     ]
    },
    {
     "name": "stderr",
     "output_type": "stream",
     "text": [
      "\u001b[32m[I 2021-08-30 17:59:16,612]\u001b[0m Trial 349 finished with value: 0.7171299435884737 and parameters: {'learning_rate': 0.12644970191097288, 'reg_lambda': 2.9788784642136072e-05, 'reg_alpha': 1.9193595136714823e-08, 'subsample': 0.15658548902886496, 'colsample_bytree': 0.22977483663013537, 'max_depth': 1}. Best is trial 321 with value: 0.7170332013860602.\u001b[0m\n"
     ]
    },
    {
     "name": "stdout",
     "output_type": "stream",
     "text": [
      "[17:59:16] WARNING: C:/Users/Administrator/workspace/xgboost-win64_release_1.4.0/src/learner.cc:231: Only 1 GPUs are visible, setting `gpu_id` to 0\n",
      "[0]\tvalidation_0-rmse:6.88239\n",
      "[712]\tvalidation_0-rmse:0.71712\n"
     ]
    },
    {
     "name": "stderr",
     "output_type": "stream",
     "text": [
      "\u001b[32m[I 2021-08-30 17:59:18,685]\u001b[0m Trial 350 finished with value: 0.7170888191680316 and parameters: {'learning_rate': 0.11655867631451201, 'reg_lambda': 5.606659380140966e-05, 'reg_alpha': 1.1273752111102105e-08, 'subsample': 0.1007930846677264, 'colsample_bytree': 0.19653067487727832, 'max_depth': 1}. Best is trial 321 with value: 0.7170332013860602.\u001b[0m\n"
     ]
    },
    {
     "name": "stdout",
     "output_type": "stream",
     "text": [
      "[17:59:18] WARNING: C:/Users/Administrator/workspace/xgboost-win64_release_1.4.0/src/learner.cc:231: Only 1 GPUs are visible, setting `gpu_id` to 0\n",
      "[0]\tvalidation_0-rmse:6.74792\n",
      "[419]\tvalidation_0-rmse:0.71705\n"
     ]
    },
    {
     "name": "stderr",
     "output_type": "stream",
     "text": [
      "\u001b[32m[I 2021-08-30 17:59:20,069]\u001b[0m Trial 351 finished with value: 0.7170460774387843 and parameters: {'learning_rate': 0.13397303731032462, 'reg_lambda': 0.00032135610837998274, 'reg_alpha': 0.48919199411392045, 'subsample': 0.1395396121655179, 'colsample_bytree': 0.23881374790229243, 'max_depth': 1}. Best is trial 321 with value: 0.7170332013860602.\u001b[0m\n"
     ]
    },
    {
     "name": "stdout",
     "output_type": "stream",
     "text": [
      "[17:59:20] WARNING: C:/Users/Administrator/workspace/xgboost-win64_release_1.4.0/src/learner.cc:231: Only 1 GPUs are visible, setting `gpu_id` to 0\n",
      "[0]\tvalidation_0-rmse:6.67664\n",
      "[388]\tvalidation_0-rmse:0.71718\n"
     ]
    },
    {
     "name": "stderr",
     "output_type": "stream",
     "text": [
      "\u001b[32m[I 2021-08-30 17:59:21,311]\u001b[0m Trial 352 finished with value: 0.7171125712821014 and parameters: {'learning_rate': 0.1432509664439722, 'reg_lambda': 0.0004277303285818666, 'reg_alpha': 1.4067003381420876e-08, 'subsample': 0.11842812524174232, 'colsample_bytree': 0.21759708147781495, 'max_depth': 1}. Best is trial 321 with value: 0.7170332013860602.\u001b[0m\n"
     ]
    },
    {
     "name": "stdout",
     "output_type": "stream",
     "text": [
      "[17:59:21] WARNING: C:/Users/Administrator/workspace/xgboost-win64_release_1.4.0/src/learner.cc:231: Only 1 GPUs are visible, setting `gpu_id` to 0\n",
      "[0]\tvalidation_0-rmse:6.75073\n",
      "[712]\tvalidation_0-rmse:0.71711\n"
     ]
    },
    {
     "name": "stderr",
     "output_type": "stream",
     "text": [
      "\u001b[32m[I 2021-08-30 17:59:23,489]\u001b[0m Trial 353 finished with value: 0.7170746014247265 and parameters: {'learning_rate': 0.13367626967498242, 'reg_lambda': 0.00011706466815343406, 'reg_alpha': 2.1734061363626547e-08, 'subsample': 0.10013100192079796, 'colsample_bytree': 0.2571235216639233, 'max_depth': 1}. Best is trial 321 with value: 0.7170332013860602.\u001b[0m\n"
     ]
    },
    {
     "name": "stdout",
     "output_type": "stream",
     "text": [
      "[17:59:23] WARNING: C:/Users/Administrator/workspace/xgboost-win64_release_1.4.0/src/learner.cc:231: Only 1 GPUs are visible, setting `gpu_id` to 0\n",
      "[0]\tvalidation_0-rmse:6.60425\n",
      "[354]\tvalidation_0-rmse:0.71801\n"
     ]
    },
    {
     "name": "stderr",
     "output_type": "stream",
     "text": [
      "\u001b[32m[I 2021-08-30 17:59:25,772]\u001b[0m Trial 354 finished with value: 0.717320257463164 and parameters: {'learning_rate': 0.15259795141011936, 'reg_lambda': 0.00020693790379267585, 'reg_alpha': 0.40094996008108935, 'subsample': 0.14999541996647756, 'colsample_bytree': 0.2436453422595524, 'max_depth': 6}. Best is trial 321 with value: 0.7170332013860602.\u001b[0m\n"
     ]
    },
    {
     "name": "stdout",
     "output_type": "stream",
     "text": [
      "[17:59:25] WARNING: C:/Users/Administrator/workspace/xgboost-win64_release_1.4.0/src/learner.cc:231: Only 1 GPUs are visible, setting `gpu_id` to 0\n",
      "[0]\tvalidation_0-rmse:6.51219\n",
      "[822]\tvalidation_0-rmse:0.71719\n"
     ]
    },
    {
     "name": "stderr",
     "output_type": "stream",
     "text": [
      "\u001b[32m[I 2021-08-30 17:59:27,972]\u001b[0m Trial 355 finished with value: 0.7171545486388284 and parameters: {'learning_rate': 0.16456503850810184, 'reg_lambda': 0.0006461337527576305, 'reg_alpha': 0.4595818216376417, 'subsample': 0.5869497447924772, 'colsample_bytree': 0.22524142923371226, 'max_depth': 1}. Best is trial 321 with value: 0.7170332013860602.\u001b[0m\n"
     ]
    },
    {
     "name": "stdout",
     "output_type": "stream",
     "text": [
      "[17:59:28] WARNING: C:/Users/Administrator/workspace/xgboost-win64_release_1.4.0/src/learner.cc:231: Only 1 GPUs are visible, setting `gpu_id` to 0\n",
      "[0]\tvalidation_0-rmse:6.76131\n",
      "[434]\tvalidation_0-rmse:0.71718\n"
     ]
    },
    {
     "name": "stderr",
     "output_type": "stream",
     "text": [
      "\u001b[32m[I 2021-08-30 17:59:29,384]\u001b[0m Trial 356 finished with value: 0.7171122158896028 and parameters: {'learning_rate': 0.1322390788643345, 'reg_lambda': 0.00101615745890239, 'reg_alpha': 1.1467885066352085e-08, 'subsample': 0.1296631606789771, 'colsample_bytree': 0.24940455843374107, 'max_depth': 1}. Best is trial 321 with value: 0.7170332013860602.\u001b[0m\n"
     ]
    },
    {
     "name": "stdout",
     "output_type": "stream",
     "text": [
      "[17:59:29] WARNING: C:/Users/Administrator/workspace/xgboost-win64_release_1.4.0/src/learner.cc:231: Only 1 GPUs are visible, setting `gpu_id` to 0\n",
      "[0]\tvalidation_0-rmse:6.69055\n",
      "[675]\tvalidation_0-rmse:0.71710\n"
     ]
    },
    {
     "name": "stderr",
     "output_type": "stream",
     "text": [
      "\u001b[32m[I 2021-08-30 17:59:31,351]\u001b[0m Trial 357 finished with value: 0.7170844780925816 and parameters: {'learning_rate': 0.14143996299357314, 'reg_lambda': 0.00028189899520013263, 'reg_alpha': 0.6880644831154619, 'subsample': 0.4188665868071302, 'colsample_bytree': 0.1851315656634765, 'max_depth': 1}. Best is trial 321 with value: 0.7170332013860602.\u001b[0m\n"
     ]
    },
    {
     "name": "stdout",
     "output_type": "stream",
     "text": [
      "[17:59:31] WARNING: C:/Users/Administrator/workspace/xgboost-win64_release_1.4.0/src/learner.cc:231: Only 1 GPUs are visible, setting `gpu_id` to 0\n",
      "[0]\tvalidation_0-rmse:6.81156\n",
      "[416]\tvalidation_0-rmse:0.71712\n"
     ]
    },
    {
     "name": "stderr",
     "output_type": "stream",
     "text": [
      "\u001b[32m[I 2021-08-30 17:59:32,685]\u001b[0m Trial 358 finished with value: 0.7170864399485258 and parameters: {'learning_rate': 0.12567751915113692, 'reg_lambda': 0.0001858045076470835, 'reg_alpha': 0.9590494823246327, 'subsample': 0.17419367816005116, 'colsample_bytree': 0.23495972715132757, 'max_depth': 1}. Best is trial 321 with value: 0.7170332013860602.\u001b[0m\n"
     ]
    },
    {
     "name": "stdout",
     "output_type": "stream",
     "text": [
      "[17:59:32] WARNING: C:/Users/Administrator/workspace/xgboost-win64_release_1.4.0/src/learner.cc:231: Only 1 GPUs are visible, setting `gpu_id` to 0\n",
      "[0]\tvalidation_0-rmse:6.61486\n",
      "[414]\tvalidation_0-rmse:0.71713\n"
     ]
    },
    {
     "name": "stderr",
     "output_type": "stream",
     "text": [
      "\u001b[32m[I 2021-08-30 17:59:33,978]\u001b[0m Trial 359 finished with value: 0.7170944664333029 and parameters: {'learning_rate': 0.15125883659375963, 'reg_lambda': 3.636201955146946e-05, 'reg_alpha': 0.1473084761333711, 'subsample': 0.13881251717123577, 'colsample_bytree': 0.2542482411456915, 'max_depth': 1}. Best is trial 321 with value: 0.7170332013860602.\u001b[0m\n"
     ]
    },
    {
     "name": "stdout",
     "output_type": "stream",
     "text": [
      "[17:59:34] WARNING: C:/Users/Administrator/workspace/xgboost-win64_release_1.4.0/src/learner.cc:231: Only 1 GPUs are visible, setting `gpu_id` to 0\n",
      "[0]\tvalidation_0-rmse:6.72724\n",
      "[351]\tvalidation_0-rmse:0.71744\n"
     ]
    },
    {
     "name": "stderr",
     "output_type": "stream",
     "text": [
      "\u001b[32m[I 2021-08-30 17:59:35,250]\u001b[0m Trial 360 finished with value: 0.7172165839181197 and parameters: {'learning_rate': 0.13664144714563087, 'reg_lambda': 9.948967890730353e-05, 'reg_alpha': 0.9782076237264528, 'subsample': 0.1214048829343212, 'colsample_bytree': 0.26582494705045195, 'max_depth': 2}. Best is trial 321 with value: 0.7170332013860602.\u001b[0m\n"
     ]
    },
    {
     "name": "stdout",
     "output_type": "stream",
     "text": [
      "[17:59:35] WARNING: C:/Users/Administrator/workspace/xgboost-win64_release_1.4.0/src/learner.cc:231: Only 1 GPUs are visible, setting `gpu_id` to 0\n",
      "[0]\tvalidation_0-rmse:6.81252\n",
      "[559]\tvalidation_0-rmse:0.71714\n"
     ]
    },
    {
     "name": "stderr",
     "output_type": "stream",
     "text": [
      "\u001b[32m[I 2021-08-30 17:59:36,876]\u001b[0m Trial 361 finished with value: 0.7170548235311296 and parameters: {'learning_rate': 0.12564384968447592, 'reg_lambda': 0.00015577103752658928, 'reg_alpha': 2.6046369700950938e-08, 'subsample': 0.10013450961788276, 'colsample_bytree': 0.2808757970580452, 'max_depth': 1}. Best is trial 321 with value: 0.7170332013860602.\u001b[0m\n"
     ]
    },
    {
     "name": "stdout",
     "output_type": "stream",
     "text": [
      "[17:59:37] WARNING: C:/Users/Administrator/workspace/xgboost-win64_release_1.4.0/src/learner.cc:231: Only 1 GPUs are visible, setting `gpu_id` to 0\n",
      "[0]\tvalidation_0-rmse:6.92429\n",
      "[712]\tvalidation_0-rmse:0.71712\n"
     ]
    },
    {
     "name": "stderr",
     "output_type": "stream",
     "text": [
      "\u001b[32m[I 2021-08-30 17:59:39,061]\u001b[0m Trial 362 finished with value: 0.7170777251246493 and parameters: {'learning_rate': 0.11111662573035218, 'reg_lambda': 7.341752413031244e-05, 'reg_alpha': 2.5386143461847764e-08, 'subsample': 0.10070952680811687, 'colsample_bytree': 0.19819498385209905, 'max_depth': 1}. Best is trial 321 with value: 0.7170332013860602.\u001b[0m\n"
     ]
    },
    {
     "name": "stdout",
     "output_type": "stream",
     "text": [
      "[17:59:39] WARNING: C:/Users/Administrator/workspace/xgboost-win64_release_1.4.0/src/learner.cc:231: Only 1 GPUs are visible, setting `gpu_id` to 0\n",
      "[0]\tvalidation_0-rmse:6.83304\n",
      "[417]\tvalidation_0-rmse:0.71710\n"
     ]
    },
    {
     "name": "stderr",
     "output_type": "stream",
     "text": [
      "\u001b[32m[I 2021-08-30 17:59:40,457]\u001b[0m Trial 363 finished with value: 0.7170852652527491 and parameters: {'learning_rate': 0.12293956660208918, 'reg_lambda': 5.0571207381594916e-05, 'reg_alpha': 1.5539749399788088e-08, 'subsample': 0.11479780348493449, 'colsample_bytree': 0.2264350592529502, 'max_depth': 1}. Best is trial 321 with value: 0.7170332013860602.\u001b[0m\n"
     ]
    },
    {
     "name": "stdout",
     "output_type": "stream",
     "text": [
      "[17:59:40] WARNING: C:/Users/Administrator/workspace/xgboost-win64_release_1.4.0/src/learner.cc:231: Only 1 GPUs are visible, setting `gpu_id` to 0\n",
      "[0]\tvalidation_0-rmse:7.00543\n",
      "[413]\tvalidation_0-rmse:0.71745\n"
     ]
    },
    {
     "name": "stderr",
     "output_type": "stream",
     "text": [
      "\u001b[32m[I 2021-08-30 17:59:42,038]\u001b[0m Trial 364 finished with value: 0.7171562830365606 and parameters: {'learning_rate': 0.10052997758778046, 'reg_lambda': 3.4055858070967294e-06, 'reg_alpha': 1.681815095417609e-08, 'subsample': 0.10016544934414012, 'colsample_bytree': 0.2579783453294936, 'max_depth': 3}. Best is trial 321 with value: 0.7170332013860602.\u001b[0m\n"
     ]
    },
    {
     "name": "stdout",
     "output_type": "stream",
     "text": [
      "[17:59:42] WARNING: C:/Users/Administrator/workspace/xgboost-win64_release_1.4.0/src/learner.cc:231: Only 1 GPUs are visible, setting `gpu_id` to 0\n",
      "[0]\tvalidation_0-rmse:7.61532\n",
      "[963]\tvalidation_0-rmse:0.71714\n"
     ]
    },
    {
     "name": "stderr",
     "output_type": "stream",
     "text": [
      "\u001b[32m[I 2021-08-30 17:59:44,743]\u001b[0m Trial 365 finished with value: 0.7171390741591985 and parameters: {'learning_rate': 0.02135027359556748, 'reg_lambda': 0.00010764228121001184, 'reg_alpha': 6.234719689035502e-08, 'subsample': 0.11814937086389535, 'colsample_bytree': 0.29301791122866516, 'max_depth': 1}. Best is trial 321 with value: 0.7170332013860602.\u001b[0m\n"
     ]
    },
    {
     "name": "stdout",
     "output_type": "stream",
     "text": [
      "[17:59:44] WARNING: C:/Users/Administrator/workspace/xgboost-win64_release_1.4.0/src/learner.cc:231: Only 1 GPUs are visible, setting `gpu_id` to 0\n",
      "[0]\tvalidation_0-rmse:6.88127\n",
      "[552]\tvalidation_0-rmse:0.71715\n"
     ]
    },
    {
     "name": "stderr",
     "output_type": "stream",
     "text": [
      "\u001b[32m[I 2021-08-30 17:59:46,385]\u001b[0m Trial 366 finished with value: 0.7171370380095212 and parameters: {'learning_rate': 0.11664354422835704, 'reg_lambda': 0.0007318638475612619, 'reg_alpha': 2.9659181338872457e-08, 'subsample': 0.5278140357471345, 'colsample_bytree': 0.20989041697922478, 'max_depth': 1}. Best is trial 321 with value: 0.7170332013860602.\u001b[0m\n"
     ]
    },
    {
     "name": "stdout",
     "output_type": "stream",
     "text": [
      "[17:59:46] WARNING: C:/Users/Administrator/workspace/xgboost-win64_release_1.4.0/src/learner.cc:231: Only 1 GPUs are visible, setting `gpu_id` to 0\n",
      "[0]\tvalidation_0-rmse:6.80132\n",
      "[434]\tvalidation_0-rmse:0.71717\n"
     ]
    },
    {
     "name": "stderr",
     "output_type": "stream",
     "text": [
      "\u001b[32m[I 2021-08-30 17:59:47,727]\u001b[0m Trial 367 finished with value: 0.7171109321933347 and parameters: {'learning_rate': 0.12704368177115868, 'reg_lambda': 0.00013153346400052488, 'reg_alpha': 2.2474306717617263e-08, 'subsample': 0.1307672789699816, 'colsample_bytree': 0.27125237514862255, 'max_depth': 1}. Best is trial 321 with value: 0.7170332013860602.\u001b[0m\n"
     ]
    },
    {
     "name": "stdout",
     "output_type": "stream",
     "text": [
      "[17:59:47] WARNING: C:/Users/Administrator/workspace/xgboost-win64_release_1.4.0/src/learner.cc:231: Only 1 GPUs are visible, setting `gpu_id` to 0\n",
      "[0]\tvalidation_0-rmse:6.95051\n",
      "[518]\tvalidation_0-rmse:0.71719\n"
     ]
    },
    {
     "name": "stderr",
     "output_type": "stream",
     "text": [
      "\u001b[32m[I 2021-08-30 17:59:49,302]\u001b[0m Trial 368 finished with value: 0.7171521049178851 and parameters: {'learning_rate': 0.10767056141627142, 'reg_lambda': 0.00033942379852409726, 'reg_alpha': 1.395049016082632, 'subsample': 0.11749907144402508, 'colsample_bytree': 0.3130741822266564, 'max_depth': 1}. Best is trial 321 with value: 0.7170332013860602.\u001b[0m\n"
     ]
    },
    {
     "name": "stdout",
     "output_type": "stream",
     "text": [
      "[17:59:49] WARNING: C:/Users/Administrator/workspace/xgboost-win64_release_1.4.0/src/learner.cc:231: Only 1 GPUs are visible, setting `gpu_id` to 0\n",
      "[0]\tvalidation_0-rmse:6.83584\n",
      "[711]\tvalidation_0-rmse:0.71710\n"
     ]
    },
    {
     "name": "stderr",
     "output_type": "stream",
     "text": [
      "\u001b[32m[I 2021-08-30 17:59:51,386]\u001b[0m Trial 369 finished with value: 0.7170473729923402 and parameters: {'learning_rate': 0.12260986799407898, 'reg_lambda': 3.937146467243843e-05, 'reg_alpha': 5.4477758119620457e-08, 'subsample': 0.10123498386244344, 'colsample_bytree': 0.3405921062685804, 'max_depth': 1}. Best is trial 321 with value: 0.7170332013860602.\u001b[0m\n"
     ]
    },
    {
     "name": "stdout",
     "output_type": "stream",
     "text": [
      "[17:59:51] WARNING: C:/Users/Administrator/workspace/xgboost-win64_release_1.4.0/src/learner.cc:231: Only 1 GPUs are visible, setting `gpu_id` to 0\n",
      "[0]\tvalidation_0-rmse:6.86477\n",
      "[723]\tvalidation_0-rmse:0.71716\n"
     ]
    },
    {
     "name": "stderr",
     "output_type": "stream",
     "text": [
      "\u001b[32m[I 2021-08-30 17:59:53,475]\u001b[0m Trial 370 finished with value: 0.7171330868888515 and parameters: {'learning_rate': 0.11879026332515714, 'reg_lambda': 4.493681439138015e-05, 'reg_alpha': 4.2336460816951886e-08, 'subsample': 0.33241776284858365, 'colsample_bytree': 0.33369220030297136, 'max_depth': 1}. Best is trial 321 with value: 0.7170332013860602.\u001b[0m\n"
     ]
    },
    {
     "name": "stdout",
     "output_type": "stream",
     "text": [
      "[17:59:53] WARNING: C:/Users/Administrator/workspace/xgboost-win64_release_1.4.0/src/learner.cc:231: Only 1 GPUs are visible, setting `gpu_id` to 0\n",
      "[0]\tvalidation_0-rmse:6.82515\n",
      "[417]\tvalidation_0-rmse:0.71713\n"
     ]
    },
    {
     "name": "stderr",
     "output_type": "stream",
     "text": [
      "\u001b[32m[I 2021-08-30 17:59:54,796]\u001b[0m Trial 371 finished with value: 0.7170760282889935 and parameters: {'learning_rate': 0.12394996683335709, 'reg_lambda': 8.581586804057115e-05, 'reg_alpha': 1.0060659207025143e-08, 'subsample': 0.1319947865038547, 'colsample_bytree': 0.34700255306927097, 'max_depth': 1}. Best is trial 321 with value: 0.7170332013860602.\u001b[0m\n"
     ]
    },
    {
     "name": "stdout",
     "output_type": "stream",
     "text": [
      "[17:59:54] WARNING: C:/Users/Administrator/workspace/xgboost-win64_release_1.4.0/src/learner.cc:231: Only 1 GPUs are visible, setting `gpu_id` to 0\n",
      "[0]\tvalidation_0-rmse:6.90751\n",
      "[712]\tvalidation_0-rmse:0.71710\n"
     ]
    },
    {
     "name": "stderr",
     "output_type": "stream",
     "text": [
      "\u001b[32m[I 2021-08-30 17:59:56,869]\u001b[0m Trial 372 finished with value: 0.7170627043975921 and parameters: {'learning_rate': 0.11329834645456813, 'reg_lambda': 0.00018704416394590536, 'reg_alpha': 2.80678671755134e-08, 'subsample': 0.10006542110956387, 'colsample_bytree': 0.3623791077080495, 'max_depth': 1}. Best is trial 321 with value: 0.7170332013860602.\u001b[0m\n"
     ]
    },
    {
     "name": "stdout",
     "output_type": "stream",
     "text": [
      "[17:59:57] WARNING: C:/Users/Administrator/workspace/xgboost-win64_release_1.4.0/src/learner.cc:231: Only 1 GPUs are visible, setting `gpu_id` to 0\n",
      "[0]\tvalidation_0-rmse:6.95439\n",
      "[418]\tvalidation_0-rmse:0.71717\n"
     ]
    },
    {
     "name": "stderr",
     "output_type": "stream",
     "text": [
      "\u001b[32m[I 2021-08-30 17:59:58,279]\u001b[0m Trial 373 finished with value: 0.7171352469878768 and parameters: {'learning_rate': 0.10715395023737324, 'reg_lambda': 0.00018380771123830517, 'reg_alpha': 3.267889089025156e-08, 'subsample': 0.16028598059665805, 'colsample_bytree': 0.3635912664522402, 'max_depth': 1}. Best is trial 321 with value: 0.7170332013860602.\u001b[0m\n"
     ]
    },
    {
     "name": "stdout",
     "output_type": "stream",
     "text": [
      "[17:59:58] WARNING: C:/Users/Administrator/workspace/xgboost-win64_release_1.4.0/src/learner.cc:231: Only 1 GPUs are visible, setting `gpu_id` to 0\n",
      "[0]\tvalidation_0-rmse:6.90504\n",
      "[519]\tvalidation_0-rmse:0.71722\n"
     ]
    },
    {
     "name": "stderr",
     "output_type": "stream",
     "text": [
      "\u001b[32m[I 2021-08-30 17:59:59,841]\u001b[0m Trial 374 finished with value: 0.717166290947019 and parameters: {'learning_rate': 0.11357374981873225, 'reg_lambda': 6.7044159616642e-05, 'reg_alpha': 6.244447004987561e-08, 'subsample': 0.11752527832545309, 'colsample_bytree': 0.3761867800352886, 'max_depth': 1}. Best is trial 321 with value: 0.7170332013860602.\u001b[0m\n"
     ]
    },
    {
     "name": "stdout",
     "output_type": "stream",
     "text": [
      "[18:00:00] WARNING: C:/Users/Administrator/workspace/xgboost-win64_release_1.4.0/src/learner.cc:231: Only 1 GPUs are visible, setting `gpu_id` to 0\n",
      "[0]\tvalidation_0-rmse:7.05435\n",
      "[724]\tvalidation_0-rmse:0.71719\n"
     ]
    },
    {
     "name": "stderr",
     "output_type": "stream",
     "text": [
      "\u001b[32m[I 2021-08-30 18:00:02,004]\u001b[0m Trial 375 finished with value: 0.7171688039986639 and parameters: {'learning_rate': 0.09417068046385874, 'reg_lambda': 0.00016361205668176209, 'reg_alpha': 1.0173212273106942e-08, 'subsample': 0.1407363006873615, 'colsample_bytree': 0.35150173306707405, 'max_depth': 1}. Best is trial 321 with value: 0.7170332013860602.\u001b[0m\n"
     ]
    },
    {
     "name": "stdout",
     "output_type": "stream",
     "text": [
      "[18:00:02] WARNING: C:/Users/Administrator/workspace/xgboost-win64_release_1.4.0/src/learner.cc:231: Only 1 GPUs are visible, setting `gpu_id` to 0\n",
      "[0]\tvalidation_0-rmse:7.01219\n",
      "[608]\tvalidation_0-rmse:0.71716\n"
     ]
    },
    {
     "name": "stderr",
     "output_type": "stream",
     "text": [
      "\u001b[32m[I 2021-08-30 18:00:03,848]\u001b[0m Trial 376 finished with value: 0.717112369711433 and parameters: {'learning_rate': 0.09965908352962026, 'reg_lambda': 0.0002254709138747502, 'reg_alpha': 4.655487696092344e-08, 'subsample': 0.11536584072344302, 'colsample_bytree': 0.3682118939093497, 'max_depth': 1}. Best is trial 321 with value: 0.7170332013860602.\u001b[0m\n"
     ]
    },
    {
     "name": "stdout",
     "output_type": "stream",
     "text": [
      "[18:00:04] WARNING: C:/Users/Administrator/workspace/xgboost-win64_release_1.4.0/src/learner.cc:231: Only 1 GPUs are visible, setting `gpu_id` to 0\n",
      "[0]\tvalidation_0-rmse:6.91860\n",
      "[712]\tvalidation_0-rmse:0.71712\n"
     ]
    },
    {
     "name": "stderr",
     "output_type": "stream",
     "text": [
      "\u001b[32m[I 2021-08-30 18:00:05,896]\u001b[0m Trial 377 finished with value: 0.7170898041274361 and parameters: {'learning_rate': 0.11185249102709466, 'reg_lambda': 2.800284069965218e-05, 'reg_alpha': 2.4222154714197246e-08, 'subsample': 0.10079341826025708, 'colsample_bytree': 0.3313633299748614, 'max_depth': 1}. Best is trial 321 with value: 0.7170332013860602.\u001b[0m\n"
     ]
    },
    {
     "name": "stdout",
     "output_type": "stream",
     "text": [
      "[18:00:06] WARNING: C:/Users/Administrator/workspace/xgboost-win64_release_1.4.0/src/learner.cc:231: Only 1 GPUs are visible, setting `gpu_id` to 0\n",
      "[0]\tvalidation_0-rmse:6.84665\n",
      "[362]\tvalidation_0-rmse:0.71733\n"
     ]
    },
    {
     "name": "stderr",
     "output_type": "stream",
     "text": [
      "\u001b[32m[I 2021-08-30 18:00:07,257]\u001b[0m Trial 378 finished with value: 0.7171312214153854 and parameters: {'learning_rate': 0.12113011877768635, 'reg_lambda': 0.00031637085297619907, 'reg_alpha': 1.5375616354903835e-08, 'subsample': 0.13099133949394345, 'colsample_bytree': 0.15743464351812667, 'max_depth': 2}. Best is trial 321 with value: 0.7170332013860602.\u001b[0m\n"
     ]
    },
    {
     "name": "stdout",
     "output_type": "stream",
     "text": [
      "[18:00:07] WARNING: C:/Users/Administrator/workspace/xgboost-win64_release_1.4.0/src/learner.cc:231: Only 1 GPUs are visible, setting `gpu_id` to 0\n",
      "[0]\tvalidation_0-rmse:6.98350\n",
      "[712]\tvalidation_0-rmse:0.71709\n"
     ]
    },
    {
     "name": "stderr",
     "output_type": "stream",
     "text": [
      "\u001b[32m[I 2021-08-30 18:00:09,270]\u001b[0m Trial 379 finished with value: 0.7170462719391932 and parameters: {'learning_rate': 0.10342278681113279, 'reg_lambda': 0.00013660061415915947, 'reg_alpha': 2.5575122856456663e-08, 'subsample': 0.10022437858322113, 'colsample_bytree': 0.39201108162907167, 'max_depth': 1}. Best is trial 321 with value: 0.7170332013860602.\u001b[0m\n"
     ]
    },
    {
     "name": "stdout",
     "output_type": "stream",
     "text": [
      "[18:00:09] WARNING: C:/Users/Administrator/workspace/xgboost-win64_release_1.4.0/src/learner.cc:231: Only 1 GPUs are visible, setting `gpu_id` to 0\n",
      "[0]\tvalidation_0-rmse:6.97656\n",
      "[396]\tvalidation_0-rmse:0.71712\n"
     ]
    },
    {
     "name": "stderr",
     "output_type": "stream",
     "text": [
      "\u001b[32m[I 2021-08-30 18:00:10,561]\u001b[0m Trial 380 finished with value: 0.7170788658459611 and parameters: {'learning_rate': 0.10427882850507016, 'reg_lambda': 0.00013066665612854216, 'reg_alpha': 3.2917813406718765e-08, 'subsample': 0.14872804416156774, 'colsample_bytree': 0.38630084945523513, 'max_depth': 1}. Best is trial 321 with value: 0.7170332013860602.\u001b[0m\n"
     ]
    },
    {
     "name": "stdout",
     "output_type": "stream",
     "text": [
      "[18:00:10] WARNING: C:/Users/Administrator/workspace/xgboost-win64_release_1.4.0/src/learner.cc:231: Only 1 GPUs are visible, setting `gpu_id` to 0\n",
      "[0]\tvalidation_0-rmse:7.07263\n",
      "[964]\tvalidation_0-rmse:0.71714\n"
     ]
    },
    {
     "name": "stderr",
     "output_type": "stream",
     "text": [
      "\u001b[32m[I 2021-08-30 18:00:13,287]\u001b[0m Trial 381 finished with value: 0.7171183498467152 and parameters: {'learning_rate': 0.09180267245750112, 'reg_lambda': 0.00034550530456202005, 'reg_alpha': 8.609811605733095e-08, 'subsample': 0.12073947826089461, 'colsample_bytree': 0.3568087981736595, 'max_depth': 1}. Best is trial 321 with value: 0.7170332013860602.\u001b[0m\n"
     ]
    },
    {
     "name": "stdout",
     "output_type": "stream",
     "text": [
      "[18:00:13] WARNING: C:/Users/Administrator/workspace/xgboost-win64_release_1.4.0/src/learner.cc:231: Only 1 GPUs are visible, setting `gpu_id` to 0\n",
      "[0]\tvalidation_0-rmse:6.98667\n",
      "[363]\tvalidation_0-rmse:0.71770\n"
     ]
    },
    {
     "name": "stderr",
     "output_type": "stream",
     "text": [
      "\u001b[32m[I 2021-08-30 18:00:15,287]\u001b[0m Trial 382 finished with value: 0.7172915822658247 and parameters: {'learning_rate': 0.10290988750248796, 'reg_lambda': 7.685285541138249e-05, 'reg_alpha': 2.252160895763225e-08, 'subsample': 0.16406795352817427, 'colsample_bytree': 0.3890502870811923, 'max_depth': 5}. Best is trial 321 with value: 0.7170332013860602.\u001b[0m\n"
     ]
    },
    {
     "name": "stdout",
     "output_type": "stream",
     "text": [
      "[18:00:15] WARNING: C:/Users/Administrator/workspace/xgboost-win64_release_1.4.0/src/learner.cc:231: Only 1 GPUs are visible, setting `gpu_id` to 0\n",
      "[0]\tvalidation_0-rmse:6.93066\n",
      "[711]\tvalidation_0-rmse:0.71710\n"
     ]
    },
    {
     "name": "stderr",
     "output_type": "stream",
     "text": [
      "\u001b[32m[I 2021-08-30 18:00:17,246]\u001b[0m Trial 383 finished with value: 0.7170467766926516 and parameters: {'learning_rate': 0.11029048006742224, 'reg_lambda': 0.00012498787188924243, 'reg_alpha': 3.6116301692585824e-08, 'subsample': 0.10011943067383235, 'colsample_bytree': 0.37202724138724913, 'max_depth': 1}. Best is trial 321 with value: 0.7170332013860602.\u001b[0m\n"
     ]
    },
    {
     "name": "stdout",
     "output_type": "stream",
     "text": [
      "[18:00:17] WARNING: C:/Users/Administrator/workspace/xgboost-win64_release_1.4.0/src/learner.cc:231: Only 1 GPUs are visible, setting `gpu_id` to 0\n",
      "[0]\tvalidation_0-rmse:7.01991\n",
      "[508]\tvalidation_0-rmse:0.71712\n"
     ]
    },
    {
     "name": "stderr",
     "output_type": "stream",
     "text": [
      "\u001b[32m[I 2021-08-30 18:00:18,781]\u001b[0m Trial 384 finished with value: 0.7171018698855814 and parameters: {'learning_rate': 0.09862769317947959, 'reg_lambda': 0.00012961193241328164, 'reg_alpha': 3.924404046616495e-08, 'subsample': 0.4609739590965205, 'colsample_bytree': 0.3440182562803594, 'max_depth': 1}. Best is trial 321 with value: 0.7170332013860602.\u001b[0m\n"
     ]
    },
    {
     "name": "stdout",
     "output_type": "stream",
     "text": [
      "[18:00:18] WARNING: C:/Users/Administrator/workspace/xgboost-win64_release_1.4.0/src/learner.cc:231: Only 1 GPUs are visible, setting `gpu_id` to 0\n",
      "[0]\tvalidation_0-rmse:7.14145\n",
      "[435]\tvalidation_0-rmse:0.71713\n"
     ]
    },
    {
     "name": "stderr",
     "output_type": "stream",
     "text": [
      "\u001b[32m[I 2021-08-30 18:00:20,147]\u001b[0m Trial 385 finished with value: 0.7170893748814854 and parameters: {'learning_rate': 0.08286393182325599, 'reg_lambda': 0.00019996648750800523, 'reg_alpha': 1.9544036485993274e-08, 'subsample': 0.13163024976736087, 'colsample_bytree': 0.3940344887858775, 'max_depth': 1}. Best is trial 321 with value: 0.7170332013860602.\u001b[0m\n"
     ]
    },
    {
     "name": "stdout",
     "output_type": "stream",
     "text": [
      "[18:00:20] WARNING: C:/Users/Administrator/workspace/xgboost-win64_release_1.4.0/src/learner.cc:231: Only 1 GPUs are visible, setting `gpu_id` to 0\n",
      "[0]\tvalidation_0-rmse:7.10375\n",
      "[419]\tvalidation_0-rmse:0.71716\n"
     ]
    },
    {
     "name": "stderr",
     "output_type": "stream",
     "text": [
      "\u001b[32m[I 2021-08-30 18:00:21,546]\u001b[0m Trial 386 finished with value: 0.717147855687061 and parameters: {'learning_rate': 0.08776260164810996, 'reg_lambda': 8.053473629216255e-05, 'reg_alpha': 6.397828709711505e-08, 'subsample': 0.11768297557468901, 'colsample_bytree': 0.4170396835001564, 'max_depth': 1}. Best is trial 321 with value: 0.7170332013860602.\u001b[0m\n"
     ]
    },
    {
     "name": "stdout",
     "output_type": "stream",
     "text": [
      "[18:00:21] WARNING: C:/Users/Administrator/workspace/xgboost-win64_release_1.4.0/src/learner.cc:231: Only 1 GPUs are visible, setting `gpu_id` to 0\n",
      "[0]\tvalidation_0-rmse:6.95078\n",
      "[415]\tvalidation_0-rmse:0.71714\n"
     ]
    },
    {
     "name": "stderr",
     "output_type": "stream",
     "text": [
      "\u001b[32m[I 2021-08-30 18:00:22,858]\u001b[0m Trial 387 finished with value: 0.7170940454198463 and parameters: {'learning_rate': 0.10762327344146808, 'reg_lambda': 4.4847680733387885e-05, 'reg_alpha': 4.2012408057068465e-08, 'subsample': 0.14537450743394226, 'colsample_bytree': 0.3816206737564172, 'max_depth': 1}. Best is trial 321 with value: 0.7170332013860602.\u001b[0m\n"
     ]
    },
    {
     "name": "stdout",
     "output_type": "stream",
     "text": [
      "[18:00:23] WARNING: C:/Users/Administrator/workspace/xgboost-win64_release_1.4.0/src/learner.cc:231: Only 1 GPUs are visible, setting `gpu_id` to 0\n",
      "[0]\tvalidation_0-rmse:6.91170\n",
      "[712]\tvalidation_0-rmse:0.71709\n"
     ]
    },
    {
     "name": "stderr",
     "output_type": "stream",
     "text": [
      "\u001b[32m[I 2021-08-30 18:00:24,928]\u001b[0m Trial 388 finished with value: 0.717068244389975 and parameters: {'learning_rate': 0.11275392225299614, 'reg_lambda': 0.00015017729383548533, 'reg_alpha': 1.785080397980553e-08, 'subsample': 0.10007427023014497, 'colsample_bytree': 0.3680361215745203, 'max_depth': 1}. Best is trial 321 with value: 0.7170332013860602.\u001b[0m\n"
     ]
    },
    {
     "name": "stdout",
     "output_type": "stream",
     "text": [
      "[18:00:25] WARNING: C:/Users/Administrator/workspace/xgboost-win64_release_1.4.0/src/learner.cc:231: Only 1 GPUs are visible, setting `gpu_id` to 0\n",
      "[0]\tvalidation_0-rmse:6.96575\n",
      "[942]\tvalidation_0-rmse:0.71715\n"
     ]
    },
    {
     "name": "stderr",
     "output_type": "stream",
     "text": [
      "\u001b[32m[I 2021-08-30 18:00:27,556]\u001b[0m Trial 389 finished with value: 0.7171439347072727 and parameters: {'learning_rate': 0.10568477577361826, 'reg_lambda': 0.00010975826716668301, 'reg_alpha': 4.952069736952725e-08, 'subsample': 0.11665298758915621, 'colsample_bytree': 0.340151231996982, 'max_depth': 1}. Best is trial 321 with value: 0.7170332013860602.\u001b[0m\n"
     ]
    },
    {
     "name": "stdout",
     "output_type": "stream",
     "text": [
      "[18:00:27] WARNING: C:/Users/Administrator/workspace/xgboost-win64_release_1.4.0/src/learner.cc:231: Only 1 GPUs are visible, setting `gpu_id` to 0\n",
      "[0]\tvalidation_0-rmse:7.05589\n",
      "[660]\tvalidation_0-rmse:0.71718\n"
     ]
    },
    {
     "name": "stderr",
     "output_type": "stream",
     "text": [
      "\u001b[32m[I 2021-08-30 18:00:29,470]\u001b[0m Trial 390 finished with value: 0.7171633480509375 and parameters: {'learning_rate': 0.09397906379600865, 'reg_lambda': 0.00041657078849060745, 'reg_alpha': 2.2552329003735843e-08, 'subsample': 0.3677958323714324, 'colsample_bytree': 0.3701140696085097, 'max_depth': 1}. Best is trial 321 with value: 0.7170332013860602.\u001b[0m\n"
     ]
    },
    {
     "name": "stdout",
     "output_type": "stream",
     "text": [
      "[18:00:29] WARNING: C:/Users/Administrator/workspace/xgboost-win64_release_1.4.0/src/learner.cc:231: Only 1 GPUs are visible, setting `gpu_id` to 0\n",
      "[0]\tvalidation_0-rmse:7.32746\n",
      "[559]\tvalidation_0-rmse:0.71714\n"
     ]
    },
    {
     "name": "stderr",
     "output_type": "stream",
     "text": [
      "\u001b[32m[I 2021-08-30 18:00:31,119]\u001b[0m Trial 391 finished with value: 0.7171149894060189 and parameters: {'learning_rate': 0.0587108078309179, 'reg_lambda': 0.00021862677369679487, 'reg_alpha': 1.0458371561332395e-07, 'subsample': 0.1329942938766787, 'colsample_bytree': 0.400862299769678, 'max_depth': 1}. Best is trial 321 with value: 0.7170332013860602.\u001b[0m\n"
     ]
    },
    {
     "name": "stdout",
     "output_type": "stream",
     "text": [
      "[18:00:31] WARNING: C:/Users/Administrator/workspace/xgboost-win64_release_1.4.0/src/learner.cc:231: Only 1 GPUs are visible, setting `gpu_id` to 0\n",
      "[0]\tvalidation_0-rmse:6.88961\n",
      "[396]\tvalidation_0-rmse:0.71713\n"
     ]
    },
    {
     "name": "stderr",
     "output_type": "stream",
     "text": [
      "\u001b[32m[I 2021-08-30 18:00:32,400]\u001b[0m Trial 392 finished with value: 0.7170877363786489 and parameters: {'learning_rate': 0.11555097098910226, 'reg_lambda': 7.121113319812699e-05, 'reg_alpha': 2.8615148011128798e-08, 'subsample': 0.17899838783626618, 'colsample_bytree': 0.32756462637609174, 'max_depth': 1}. Best is trial 321 with value: 0.7170332013860602.\u001b[0m\n"
     ]
    },
    {
     "name": "stdout",
     "output_type": "stream",
     "text": [
      "[18:00:32] WARNING: C:/Users/Administrator/workspace/xgboost-win64_release_1.4.0/src/learner.cc:231: Only 1 GPUs are visible, setting `gpu_id` to 0\n",
      "[0]\tvalidation_0-rmse:7.28097\n",
      "[427]\tvalidation_0-rmse:0.71768\n"
     ]
    },
    {
     "name": "stderr",
     "output_type": "stream",
     "text": [
      "\u001b[32m[I 2021-08-30 18:00:36,209]\u001b[0m Trial 393 finished with value: 0.717454429325138 and parameters: {'learning_rate': 0.06472532981297256, 'reg_lambda': 4.291615614400321e-05, 'reg_alpha': 1.2566061819975584e-08, 'subsample': 0.15368257472846222, 'colsample_bytree': 0.34582094636544974, 'max_depth': 7}. Best is trial 321 with value: 0.7170332013860602.\u001b[0m\n"
     ]
    },
    {
     "name": "stdout",
     "output_type": "stream",
     "text": [
      "[18:00:36] WARNING: C:/Users/Administrator/workspace/xgboost-win64_release_1.4.0/src/learner.cc:231: Only 1 GPUs are visible, setting `gpu_id` to 0\n",
      "[0]\tvalidation_0-rmse:6.90905\n",
      "[607]\tvalidation_0-rmse:0.71721\n"
     ]
    },
    {
     "name": "stderr",
     "output_type": "stream",
     "text": [
      "\u001b[32m[I 2021-08-30 18:00:37,881]\u001b[0m Trial 394 finished with value: 0.7171873152126389 and parameters: {'learning_rate': 0.1130252546122986, 'reg_lambda': 0.0002764644721869705, 'reg_alpha': 3.139259974247799e-08, 'subsample': 0.4417518079900373, 'colsample_bytree': 0.17909221513673995, 'max_depth': 1}. Best is trial 321 with value: 0.7170332013860602.\u001b[0m\n"
     ]
    },
    {
     "name": "stdout",
     "output_type": "stream",
     "text": [
      "[18:00:38] WARNING: C:/Users/Administrator/workspace/xgboost-win64_release_1.4.0/src/learner.cc:231: Only 1 GPUs are visible, setting `gpu_id` to 0\n",
      "[0]\tvalidation_0-rmse:6.99543\n",
      "[608]\tvalidation_0-rmse:0.71717\n"
     ]
    },
    {
     "name": "stderr",
     "output_type": "stream",
     "text": [
      "\u001b[32m[I 2021-08-30 18:00:39,642]\u001b[0m Trial 395 finished with value: 0.7171345661630036 and parameters: {'learning_rate': 0.10182675819632937, 'reg_lambda': 6.044992882745735e-07, 'reg_alpha': 1.639910855946098e-08, 'subsample': 0.11654993840549571, 'colsample_bytree': 0.381086074194027, 'max_depth': 1}. Best is trial 321 with value: 0.7170332013860602.\u001b[0m\n"
     ]
    },
    {
     "name": "stdout",
     "output_type": "stream",
     "text": [
      "[18:00:39] WARNING: C:/Users/Administrator/workspace/xgboost-win64_release_1.4.0/src/learner.cc:231: Only 1 GPUs are visible, setting `gpu_id` to 0\n",
      "[0]\tvalidation_0-rmse:6.85888\n",
      "[415]\tvalidation_0-rmse:0.71710\n"
     ]
    },
    {
     "name": "stderr",
     "output_type": "stream",
     "text": [
      "\u001b[32m[I 2021-08-30 18:00:40,961]\u001b[0m Trial 396 finished with value: 0.7170842969261849 and parameters: {'learning_rate': 0.11956235679367525, 'reg_lambda': 9.171629686041392e-07, 'reg_alpha': 5.0671254178213514e-08, 'subsample': 0.13638482960130288, 'colsample_bytree': 0.4169217413245427, 'max_depth': 1}. Best is trial 321 with value: 0.7170332013860602.\u001b[0m\n"
     ]
    },
    {
     "name": "stdout",
     "output_type": "stream",
     "text": [
      "[18:00:41] WARNING: C:/Users/Administrator/workspace/xgboost-win64_release_1.4.0/src/learner.cc:231: Only 1 GPUs are visible, setting `gpu_id` to 0\n",
      "[0]\tvalidation_0-rmse:6.92387\n",
      "[711]\tvalidation_0-rmse:0.71713\n"
     ]
    },
    {
     "name": "stderr",
     "output_type": "stream",
     "text": [
      "\u001b[32m[I 2021-08-30 18:00:43,037]\u001b[0m Trial 397 finished with value: 0.7171022493497351 and parameters: {'learning_rate': 0.11116839767882604, 'reg_lambda': 0.0005142676524412123, 'reg_alpha': 1.0562090370949655e-08, 'subsample': 0.10051449621212298, 'colsample_bytree': 0.3564928708048627, 'max_depth': 1}. Best is trial 321 with value: 0.7170332013860602.\u001b[0m\n"
     ]
    },
    {
     "name": "stdout",
     "output_type": "stream",
     "text": [
      "[18:00:43] WARNING: C:/Users/Administrator/workspace/xgboost-win64_release_1.4.0/src/learner.cc:231: Only 1 GPUs are visible, setting `gpu_id` to 0\n",
      "[0]\tvalidation_0-rmse:6.80078\n",
      "[418]\tvalidation_0-rmse:0.71718\n"
     ]
    },
    {
     "name": "stderr",
     "output_type": "stream",
     "text": [
      "\u001b[32m[I 2021-08-30 18:00:44,368]\u001b[0m Trial 398 finished with value: 0.7171624975494936 and parameters: {'learning_rate': 0.1271164695008203, 'reg_lambda': 1.528663359190234e-07, 'reg_alpha': 2.120572027164165e-07, 'subsample': 0.11800748711433376, 'colsample_bytree': 0.31459778214575196, 'max_depth': 1}. Best is trial 321 with value: 0.7170332013860602.\u001b[0m\n"
     ]
    },
    {
     "name": "stdout",
     "output_type": "stream",
     "text": [
      "[18:00:44] WARNING: C:/Users/Administrator/workspace/xgboost-win64_release_1.4.0/src/learner.cc:231: Only 1 GPUs are visible, setting `gpu_id` to 0\n",
      "[0]\tvalidation_0-rmse:6.68514\n",
      "[418]\tvalidation_0-rmse:0.71714\n"
     ]
    },
    {
     "name": "stderr",
     "output_type": "stream",
     "text": [
      "\u001b[32m[I 2021-08-30 18:00:45,697]\u001b[0m Trial 399 finished with value: 0.7170802019789213 and parameters: {'learning_rate': 0.14212081426443743, 'reg_lambda': 0.00017428522505932165, 'reg_alpha': 2.4686045008472935e-08, 'subsample': 0.1642544251541154, 'colsample_bytree': 0.4045582895985183, 'max_depth': 1}. Best is trial 321 with value: 0.7170332013860602.\u001b[0m\n"
     ]
    },
    {
     "name": "stdout",
     "output_type": "stream",
     "text": [
      "[18:00:45] WARNING: C:/Users/Administrator/workspace/xgboost-win64_release_1.4.0/src/learner.cc:231: Only 1 GPUs are visible, setting `gpu_id` to 0\n",
      "[0]\tvalidation_0-rmse:6.85662\n",
      "[721]\tvalidation_0-rmse:0.71717\n"
     ]
    },
    {
     "name": "stderr",
     "output_type": "stream",
     "text": [
      "\u001b[32m[I 2021-08-30 18:00:47,810]\u001b[0m Trial 400 finished with value: 0.7171142344347821 and parameters: {'learning_rate': 0.11985476715244202, 'reg_lambda': 9.784184476465035e-05, 'reg_alpha': 8.815190944151777e-08, 'subsample': 0.1313049464204661, 'colsample_bytree': 0.3753118120928585, 'max_depth': 1}. Best is trial 321 with value: 0.7170332013860602.\u001b[0m\n"
     ]
    },
    {
     "name": "stdout",
     "output_type": "stream",
     "text": [
      "[18:00:47] WARNING: C:/Users/Administrator/workspace/xgboost-win64_release_1.4.0/src/learner.cc:231: Only 1 GPUs are visible, setting `gpu_id` to 0\n",
      "[0]\tvalidation_0-rmse:6.95649\n",
      "[545]\tvalidation_0-rmse:0.71711\n"
     ]
    },
    {
     "name": "stderr",
     "output_type": "stream",
     "text": [
      "\u001b[32m[I 2021-08-30 18:00:49,430]\u001b[0m Trial 401 finished with value: 0.7170758654069913 and parameters: {'learning_rate': 0.10688616755187318, 'reg_lambda': 4.339722629346351e-07, 'reg_alpha': 3.214741393875084e-08, 'subsample': 0.14749568171840927, 'colsample_bytree': 0.3570847902146012, 'max_depth': 1}. Best is trial 321 with value: 0.7170332013860602.\u001b[0m\n"
     ]
    },
    {
     "name": "stdout",
     "output_type": "stream",
     "text": [
      "[18:00:49] WARNING: C:/Users/Administrator/workspace/xgboost-win64_release_1.4.0/src/learner.cc:231: Only 1 GPUs are visible, setting `gpu_id` to 0\n",
      "[0]\tvalidation_0-rmse:6.77908\n",
      "[559]\tvalidation_0-rmse:0.71714\n"
     ]
    },
    {
     "name": "stderr",
     "output_type": "stream",
     "text": [
      "\u001b[32m[I 2021-08-30 18:00:51,093]\u001b[0m Trial 402 finished with value: 0.7170622145986923 and parameters: {'learning_rate': 0.1299910224407596, 'reg_lambda': 0.001544721483066446, 'reg_alpha': 5.4282871488739035e-08, 'subsample': 0.10038980719383554, 'colsample_bytree': 0.33070175884093916, 'max_depth': 1}. Best is trial 321 with value: 0.7170332013860602.\u001b[0m\n"
     ]
    },
    {
     "name": "stdout",
     "output_type": "stream",
     "text": [
      "[18:00:51] WARNING: C:/Users/Administrator/workspace/xgboost-win64_release_1.4.0/src/learner.cc:231: Only 1 GPUs are visible, setting `gpu_id` to 0\n",
      "[0]\tvalidation_0-rmse:6.76167\n",
      "[711]\tvalidation_0-rmse:0.71711\n"
     ]
    },
    {
     "name": "stderr",
     "output_type": "stream",
     "text": [
      "\u001b[32m[I 2021-08-30 18:00:53,147]\u001b[0m Trial 403 finished with value: 0.717096154548012 and parameters: {'learning_rate': 0.1322152883621038, 'reg_lambda': 1.7492007290270405e-05, 'reg_alpha': 1.426920016375046e-05, 'subsample': 0.39643265162257424, 'colsample_bytree': 0.3082666648659548, 'max_depth': 1}. Best is trial 321 with value: 0.7170332013860602.\u001b[0m\n"
     ]
    },
    {
     "name": "stdout",
     "output_type": "stream",
     "text": [
      "[18:00:53] WARNING: C:/Users/Administrator/workspace/xgboost-win64_release_1.4.0/src/learner.cc:231: Only 1 GPUs are visible, setting `gpu_id` to 0\n",
      "[0]\tvalidation_0-rmse:6.64227\n",
      "[362]\tvalidation_0-rmse:0.71716\n"
     ]
    },
    {
     "name": "stderr",
     "output_type": "stream",
     "text": [
      "\u001b[32m[I 2021-08-30 18:00:54,366]\u001b[0m Trial 404 finished with value: 0.7171101296864698 and parameters: {'learning_rate': 0.14771846210316453, 'reg_lambda': 0.0009674397048018389, 'reg_alpha': 1.2461505169590338e-07, 'subsample': 0.11772169768533011, 'colsample_bytree': 0.3289771720064686, 'max_depth': 1}. Best is trial 321 with value: 0.7170332013860602.\u001b[0m\n"
     ]
    },
    {
     "name": "stdout",
     "output_type": "stream",
     "text": [
      "[18:00:54] WARNING: C:/Users/Administrator/workspace/xgboost-win64_release_1.4.0/src/learner.cc:231: Only 1 GPUs are visible, setting `gpu_id` to 0\n",
      "[0]\tvalidation_0-rmse:6.78729\n",
      "[397]\tvalidation_0-rmse:0.71717\n"
     ]
    },
    {
     "name": "stderr",
     "output_type": "stream",
     "text": [
      "\u001b[32m[I 2021-08-30 18:00:55,641]\u001b[0m Trial 405 finished with value: 0.717114487350841 and parameters: {'learning_rate': 0.1288674227493918, 'reg_lambda': 0.0019619368178865723, 'reg_alpha': 3.841205024987002e-07, 'subsample': 0.13021584101442552, 'colsample_bytree': 0.33269730613833554, 'max_depth': 1}. Best is trial 321 with value: 0.7170332013860602.\u001b[0m\n"
     ]
    },
    {
     "name": "stdout",
     "output_type": "stream",
     "text": [
      "[18:00:55] WARNING: C:/Users/Administrator/workspace/xgboost-win64_release_1.4.0/src/learner.cc:231: Only 1 GPUs are visible, setting `gpu_id` to 0\n",
      "[0]\tvalidation_0-rmse:6.44721\n",
      "[347]\tvalidation_0-rmse:0.71749\n"
     ]
    },
    {
     "name": "stderr",
     "output_type": "stream",
     "text": [
      "\u001b[32m[I 2021-08-30 18:00:56,901]\u001b[0m Trial 406 finished with value: 0.7171815571465402 and parameters: {'learning_rate': 0.17303492798463913, 'reg_lambda': 2.9297628210139956e-07, 'reg_alpha': 4.467029803958123e-05, 'subsample': 0.119541720516885, 'colsample_bytree': 0.42078917739599325, 'max_depth': 2}. Best is trial 321 with value: 0.7170332013860602.\u001b[0m\n"
     ]
    },
    {
     "name": "stdout",
     "output_type": "stream",
     "text": [
      "[18:00:57] WARNING: C:/Users/Administrator/workspace/xgboost-win64_release_1.4.0/src/learner.cc:231: Only 1 GPUs are visible, setting `gpu_id` to 0\n",
      "[0]\tvalidation_0-rmse:6.70486\n",
      "[396]\tvalidation_0-rmse:0.71713\n"
     ]
    },
    {
     "name": "stderr",
     "output_type": "stream",
     "text": [
      "\u001b[32m[I 2021-08-30 18:00:58,228]\u001b[0m Trial 407 finished with value: 0.7170833374331019 and parameters: {'learning_rate': 0.13958338118561814, 'reg_lambda': 0.002486577827670271, 'reg_alpha': 6.220364306697918e-08, 'subsample': 0.14936969397836916, 'colsample_bytree': 0.3015030711459633, 'max_depth': 1}. Best is trial 321 with value: 0.7170332013860602.\u001b[0m\n"
     ]
    },
    {
     "name": "stdout",
     "output_type": "stream",
     "text": [
      "[18:00:58] WARNING: C:/Users/Administrator/workspace/xgboost-win64_release_1.4.0/src/learner.cc:231: Only 1 GPUs are visible, setting `gpu_id` to 0\n",
      "[0]\tvalidation_0-rmse:6.82083\n",
      "[436]\tvalidation_0-rmse:0.71714\n"
     ]
    },
    {
     "name": "stderr",
     "output_type": "stream",
     "text": [
      "\u001b[32m[I 2021-08-30 18:00:59,647]\u001b[0m Trial 408 finished with value: 0.7171072880948614 and parameters: {'learning_rate': 0.12451801635781962, 'reg_lambda': 1.0565612209211635e-06, 'reg_alpha': 7.86118306559039e-08, 'subsample': 0.11539012980160882, 'colsample_bytree': 0.21560305471622676, 'max_depth': 1}. Best is trial 321 with value: 0.7170332013860602.\u001b[0m\n"
     ]
    },
    {
     "name": "stdout",
     "output_type": "stream",
     "text": [
      "[18:00:59] WARNING: C:/Users/Administrator/workspace/xgboost-win64_release_1.4.0/src/learner.cc:231: Only 1 GPUs are visible, setting `gpu_id` to 0\n",
      "[0]\tvalidation_0-rmse:6.72863\n",
      "[416]\tvalidation_0-rmse:0.71712\n"
     ]
    },
    {
     "name": "stderr",
     "output_type": "stream",
     "text": [
      "\u001b[32m[I 2021-08-30 18:01:00,967]\u001b[0m Trial 409 finished with value: 0.7170888267024466 and parameters: {'learning_rate': 0.13645716215204, 'reg_lambda': 0.0007268804047750912, 'reg_alpha': 1.7785241242853258, 'subsample': 0.17163149318536672, 'colsample_bytree': 0.39528389726227836, 'max_depth': 1}. Best is trial 321 with value: 0.7170332013860602.\u001b[0m\n"
     ]
    },
    {
     "name": "stdout",
     "output_type": "stream",
     "text": [
      "[18:01:01] WARNING: C:/Users/Administrator/workspace/xgboost-win64_release_1.4.0/src/learner.cc:231: Only 1 GPUs are visible, setting `gpu_id` to 0\n",
      "[0]\tvalidation_0-rmse:6.61219\n",
      "[451]\tvalidation_0-rmse:0.71718\n"
     ]
    },
    {
     "name": "stderr",
     "output_type": "stream",
     "text": [
      "\u001b[32m[I 2021-08-30 18:01:02,355]\u001b[0m Trial 410 finished with value: 0.7171347354819094 and parameters: {'learning_rate': 0.15163411391808626, 'reg_lambda': 5.861529048005579e-07, 'reg_alpha': 4.456814235933521e-08, 'subsample': 0.13462570584356948, 'colsample_bytree': 0.34345823063031206, 'max_depth': 1}. Best is trial 321 with value: 0.7170332013860602.\u001b[0m\n"
     ]
    },
    {
     "name": "stdout",
     "output_type": "stream",
     "text": [
      "[18:01:02] WARNING: C:/Users/Administrator/workspace/xgboost-win64_release_1.4.0/src/learner.cc:231: Only 1 GPUs are visible, setting `gpu_id` to 0\n",
      "[0]\tvalidation_0-rmse:6.79808\n",
      "[353]\tvalidation_0-rmse:0.71782\n"
     ]
    },
    {
     "name": "stderr",
     "output_type": "stream",
     "text": [
      "\u001b[32m[I 2021-08-30 18:01:03,937]\u001b[0m Trial 411 finished with value: 0.7172283545485775 and parameters: {'learning_rate': 0.1274382791120936, 'reg_lambda': 0.001827768334783477, 'reg_alpha': 1.7208609694738117e-08, 'subsample': 0.11314811584190723, 'colsample_bytree': 0.3184631023535059, 'max_depth': 4}. Best is trial 321 with value: 0.7170332013860602.\u001b[0m\n"
     ]
    },
    {
     "name": "stdout",
     "output_type": "stream",
     "text": [
      "[18:01:04] WARNING: C:/Users/Administrator/workspace/xgboost-win64_release_1.4.0/src/learner.cc:231: Only 1 GPUs are visible, setting `gpu_id` to 0\n",
      "[0]\tvalidation_0-rmse:6.67445\n",
      "[609]\tvalidation_0-rmse:0.71712\n"
     ]
    },
    {
     "name": "stderr",
     "output_type": "stream",
     "text": [
      "\u001b[32m[I 2021-08-30 18:01:05,620]\u001b[0m Trial 412 finished with value: 0.7170684962422887 and parameters: {'learning_rate': 0.1435925393813833, 'reg_lambda': 0.0010720947497501075, 'reg_alpha': 1.460918602421907, 'subsample': 0.10068704650876831, 'colsample_bytree': 0.24309808165712463, 'max_depth': 1}. Best is trial 321 with value: 0.7170332013860602.\u001b[0m\n"
     ]
    },
    {
     "name": "stdout",
     "output_type": "stream",
     "text": [
      "[18:01:05] WARNING: C:/Users/Administrator/workspace/xgboost-win64_release_1.4.0/src/learner.cc:231: Only 1 GPUs are visible, setting `gpu_id` to 0\n",
      "[0]\tvalidation_0-rmse:6.85586\n",
      "[559]\tvalidation_0-rmse:0.71712\n"
     ]
    },
    {
     "name": "stderr",
     "output_type": "stream",
     "text": [
      "\u001b[32m[I 2021-08-30 18:01:07,435]\u001b[0m Trial 413 finished with value: 0.7170614217562087 and parameters: {'learning_rate': 0.11995788625261276, 'reg_lambda': 1.86836182006992e-07, 'reg_alpha': 0.9121488436137283, 'subsample': 0.14769010554473888, 'colsample_bytree': 0.391002410056922, 'max_depth': 1}. Best is trial 321 with value: 0.7170332013860602.\u001b[0m\n"
     ]
    },
    {
     "name": "stdout",
     "output_type": "stream",
     "text": [
      "[18:01:07] WARNING: C:/Users/Administrator/workspace/xgboost-win64_release_1.4.0/src/learner.cc:231: Only 1 GPUs are visible, setting `gpu_id` to 0\n",
      "[0]\tvalidation_0-rmse:6.85782\n",
      "[418]\tvalidation_0-rmse:0.71712\n"
     ]
    },
    {
     "name": "stderr",
     "output_type": "stream",
     "text": [
      "\u001b[32m[I 2021-08-30 18:01:08,769]\u001b[0m Trial 414 finished with value: 0.7170799101248919 and parameters: {'learning_rate': 0.11967989497002783, 'reg_lambda': 1.4815210951053938e-07, 'reg_alpha': 0.3189078675235433, 'subsample': 0.18372330538287093, 'colsample_bytree': 0.4271480337070734, 'max_depth': 1}. Best is trial 321 with value: 0.7170332013860602.\u001b[0m\n"
     ]
    },
    {
     "name": "stdout",
     "output_type": "stream",
     "text": [
      "[18:01:08] WARNING: C:/Users/Administrator/workspace/xgboost-win64_release_1.4.0/src/learner.cc:231: Only 1 GPUs are visible, setting `gpu_id` to 0\n",
      "[0]\tvalidation_0-rmse:6.86515\n",
      "[396]\tvalidation_0-rmse:0.71714\n"
     ]
    },
    {
     "name": "stderr",
     "output_type": "stream",
     "text": [
      "\u001b[32m[I 2021-08-30 18:01:10,038]\u001b[0m Trial 415 finished with value: 0.7170862787922769 and parameters: {'learning_rate': 0.11874968312501441, 'reg_lambda': 1.1807167925025231e-07, 'reg_alpha': 0.552121291001125, 'subsample': 0.15110123254023936, 'colsample_bytree': 0.3925784073524413, 'max_depth': 1}. Best is trial 321 with value: 0.7170332013860602.\u001b[0m\n"
     ]
    },
    {
     "name": "stdout",
     "output_type": "stream",
     "text": [
      "[18:01:10] WARNING: C:/Users/Administrator/workspace/xgboost-win64_release_1.4.0/src/learner.cc:231: Only 1 GPUs are visible, setting `gpu_id` to 0\n",
      "[0]\tvalidation_0-rmse:6.89949\n",
      "[418]\tvalidation_0-rmse:0.71713\n"
     ]
    },
    {
     "name": "stderr",
     "output_type": "stream",
     "text": [
      "\u001b[32m[I 2021-08-30 18:01:11,352]\u001b[0m Trial 416 finished with value: 0.7170843185597895 and parameters: {'learning_rate': 0.11427491083622097, 'reg_lambda': 4.839152874449181e-07, 'reg_alpha': 1.631028705787978e-07, 'subsample': 0.16325801323999495, 'colsample_bytree': 0.4042609723428762, 'max_depth': 1}. Best is trial 321 with value: 0.7170332013860602.\u001b[0m\n"
     ]
    },
    {
     "name": "stdout",
     "output_type": "stream",
     "text": [
      "[18:01:11] WARNING: C:/Users/Administrator/workspace/xgboost-win64_release_1.4.0/src/learner.cc:231: Only 1 GPUs are visible, setting `gpu_id` to 0\n",
      "[0]\tvalidation_0-rmse:6.81528\n",
      "[418]\tvalidation_0-rmse:0.71713\n"
     ]
    },
    {
     "name": "stderr",
     "output_type": "stream",
     "text": [
      "\u001b[32m[I 2021-08-30 18:01:12,733]\u001b[0m Trial 417 finished with value: 0.7170926992556323 and parameters: {'learning_rate': 0.125222718988517, 'reg_lambda': 1.4909600508411926e-07, 'reg_alpha': 0.7541559013010741, 'subsample': 0.14522768621233767, 'colsample_bytree': 0.3380051183844447, 'max_depth': 1}. Best is trial 321 with value: 0.7170332013860602.\u001b[0m\n"
     ]
    },
    {
     "name": "stdout",
     "output_type": "stream",
     "text": [
      "[18:01:12] WARNING: C:/Users/Administrator/workspace/xgboost-win64_release_1.4.0/src/learner.cc:231: Only 1 GPUs are visible, setting `gpu_id` to 0\n",
      "[0]\tvalidation_0-rmse:6.94258\n",
      "[416]\tvalidation_0-rmse:0.71718\n"
     ]
    },
    {
     "name": "stderr",
     "output_type": "stream",
     "text": [
      "\u001b[32m[I 2021-08-30 18:01:14,055]\u001b[0m Trial 418 finished with value: 0.7171647161122332 and parameters: {'learning_rate': 0.10869708819900657, 'reg_lambda': 0.004328636561818415, 'reg_alpha': 0.23714655326513565, 'subsample': 0.1350891011921908, 'colsample_bytree': 0.31089799869834317, 'max_depth': 1}. Best is trial 321 with value: 0.7170332013860602.\u001b[0m\n"
     ]
    },
    {
     "name": "stdout",
     "output_type": "stream",
     "text": [
      "[18:01:14] WARNING: C:/Users/Administrator/workspace/xgboost-win64_release_1.4.0/src/learner.cc:231: Only 1 GPUs are visible, setting `gpu_id` to 0\n",
      "[0]\tvalidation_0-rmse:7.00656\n",
      "[721]\tvalidation_0-rmse:0.71716\n"
     ]
    },
    {
     "name": "stderr",
     "output_type": "stream",
     "text": [
      "\u001b[32m[I 2021-08-30 18:01:16,165]\u001b[0m Trial 419 finished with value: 0.7171296745182986 and parameters: {'learning_rate': 0.10038308691400932, 'reg_lambda': 2.1339672624064042e-07, 'reg_alpha': 7.162885799997664e-07, 'subsample': 0.13214486521334254, 'colsample_bytree': 0.3562945862912543, 'max_depth': 1}. Best is trial 321 with value: 0.7170332013860602.\u001b[0m\n"
     ]
    },
    {
     "name": "stdout",
     "output_type": "stream",
     "text": [
      "[18:01:16] WARNING: C:/Users/Administrator/workspace/xgboost-win64_release_1.4.0/src/learner.cc:231: Only 1 GPUs are visible, setting `gpu_id` to 0\n",
      "[0]\tvalidation_0-rmse:6.85560\n",
      "[603]\tvalidation_0-rmse:0.71712\n"
     ]
    },
    {
     "name": "stderr",
     "output_type": "stream",
     "text": [
      "\u001b[32m[I 2021-08-30 18:01:18,003]\u001b[0m Trial 420 finished with value: 0.7171132680278937 and parameters: {'learning_rate': 0.11997730801335826, 'reg_lambda': 3.177106684358629e-07, 'reg_alpha': 2.204917756433177, 'subsample': 0.16168103406319334, 'colsample_bytree': 0.3848269227165596, 'max_depth': 1}. Best is trial 321 with value: 0.7170332013860602.\u001b[0m\n"
     ]
    },
    {
     "name": "stdout",
     "output_type": "stream",
     "text": [
      "[18:01:18] WARNING: C:/Users/Administrator/workspace/xgboost-win64_release_1.4.0/src/learner.cc:231: Only 1 GPUs are visible, setting `gpu_id` to 0\n",
      "[0]\tvalidation_0-rmse:6.55432\n",
      "[999]\tvalidation_0-rmse:0.71715\n"
     ]
    },
    {
     "name": "stderr",
     "output_type": "stream",
     "text": [
      "\u001b[32m[I 2021-08-30 18:01:20,982]\u001b[0m Trial 421 finished with value: 0.7170940949788177 and parameters: {'learning_rate': 0.1591114089903504, 'reg_lambda': 6.120677545933777e-05, 'reg_alpha': 1.4827946071551806e-08, 'subsample': 0.18357501270377297, 'colsample_bytree': 0.28355030095308353, 'max_depth': 1}. Best is trial 321 with value: 0.7170332013860602.\u001b[0m\n"
     ]
    },
    {
     "name": "stdout",
     "output_type": "stream",
     "text": [
      "[18:01:21] WARNING: C:/Users/Administrator/workspace/xgboost-win64_release_1.4.0/src/learner.cc:231: Only 1 GPUs are visible, setting `gpu_id` to 0\n",
      "[0]\tvalidation_0-rmse:6.74428\n",
      "[419]\tvalidation_0-rmse:0.71711\n"
     ]
    },
    {
     "name": "stderr",
     "output_type": "stream",
     "text": [
      "\u001b[32m[I 2021-08-30 18:01:22,324]\u001b[0m Trial 422 finished with value: 0.7170750872451472 and parameters: {'learning_rate': 0.13446099431608816, 'reg_lambda': 0.007377569841985219, 'reg_alpha': 5.3164666292573e-08, 'subsample': 0.11874071601912334, 'colsample_bytree': 0.4249716877925686, 'max_depth': 1}. Best is trial 321 with value: 0.7170332013860602.\u001b[0m\n"
     ]
    },
    {
     "name": "stdout",
     "output_type": "stream",
     "text": [
      "[18:01:22] WARNING: C:/Users/Administrator/workspace/xgboost-win64_release_1.4.0/src/learner.cc:231: Only 1 GPUs are visible, setting `gpu_id` to 0\n",
      "[0]\tvalidation_0-rmse:6.79189\n",
      "[417]\tvalidation_0-rmse:0.71709\n"
     ]
    },
    {
     "name": "stderr",
     "output_type": "stream",
     "text": [
      "\u001b[32m[I 2021-08-30 18:01:23,641]\u001b[0m Trial 423 finished with value: 0.7170592845327359 and parameters: {'learning_rate': 0.12825827389298222, 'reg_lambda': 2.592705076055182e-07, 'reg_alpha': 2.8509630086339805e-08, 'subsample': 0.14234355404954951, 'colsample_bytree': 0.37481004698647313, 'max_depth': 1}. Best is trial 321 with value: 0.7170332013860602.\u001b[0m\n"
     ]
    },
    {
     "name": "stdout",
     "output_type": "stream",
     "text": [
      "[18:01:23] WARNING: C:/Users/Administrator/workspace/xgboost-win64_release_1.4.0/src/learner.cc:231: Only 1 GPUs are visible, setting `gpu_id` to 0\n",
      "[0]\tvalidation_0-rmse:6.88810\n",
      "[388]\tvalidation_0-rmse:0.71726\n"
     ]
    },
    {
     "name": "stderr",
     "output_type": "stream",
     "text": [
      "\u001b[32m[I 2021-08-30 18:01:25,071]\u001b[0m Trial 424 finished with value: 0.7171332204897265 and parameters: {'learning_rate': 0.11573378041645725, 'reg_lambda': 2.2482777999440183e-07, 'reg_alpha': 2.3044578536738312e-08, 'subsample': 0.15702963996651825, 'colsample_bytree': 0.6360988396160834, 'max_depth': 2}. Best is trial 321 with value: 0.7170332013860602.\u001b[0m\n"
     ]
    },
    {
     "name": "stdout",
     "output_type": "stream",
     "text": [
      "[18:01:25] WARNING: C:/Users/Administrator/workspace/xgboost-win64_release_1.4.0/src/learner.cc:231: Only 1 GPUs are visible, setting `gpu_id` to 0\n",
      "[0]\tvalidation_0-rmse:6.81297\n",
      "[445]\tvalidation_0-rmse:0.71718\n"
     ]
    },
    {
     "name": "stderr",
     "output_type": "stream",
     "text": [
      "\u001b[32m[I 2021-08-30 18:01:26,416]\u001b[0m Trial 425 finished with value: 0.7171223257091253 and parameters: {'learning_rate': 0.12551810405204833, 'reg_lambda': 2.322058450644412e-07, 'reg_alpha': 1.0262578605380987e-08, 'subsample': 0.19633986055538555, 'colsample_bytree': 0.4023224733457791, 'max_depth': 1}. Best is trial 321 with value: 0.7170332013860602.\u001b[0m\n"
     ]
    },
    {
     "name": "stdout",
     "output_type": "stream",
     "text": [
      "[18:01:26] WARNING: C:/Users/Administrator/workspace/xgboost-win64_release_1.4.0/src/learner.cc:231: Only 1 GPUs are visible, setting `gpu_id` to 0\n",
      "[0]\tvalidation_0-rmse:6.97540\n",
      "[419]\tvalidation_0-rmse:0.71715\n"
     ]
    },
    {
     "name": "stderr",
     "output_type": "stream",
     "text": [
      "\u001b[32m[I 2021-08-30 18:01:27,809]\u001b[0m Trial 426 finished with value: 0.7171346500730311 and parameters: {'learning_rate': 0.10440052804837102, 'reg_lambda': 4.458079314760963e-07, 'reg_alpha': 1.028867176666738, 'subsample': 0.17323937190230168, 'colsample_bytree': 0.37956198418615716, 'max_depth': 1}. Best is trial 321 with value: 0.7170332013860602.\u001b[0m\n"
     ]
    },
    {
     "name": "stdout",
     "output_type": "stream",
     "text": [
      "[18:01:27] WARNING: C:/Users/Administrator/workspace/xgboost-win64_release_1.4.0/src/learner.cc:231: Only 1 GPUs are visible, setting `gpu_id` to 0\n",
      "[0]\tvalidation_0-rmse:6.70355\n",
      "[418]\tvalidation_0-rmse:0.71709\n"
     ]
    },
    {
     "name": "stderr",
     "output_type": "stream",
     "text": [
      "\u001b[32m[I 2021-08-30 18:01:29,133]\u001b[0m Trial 427 finished with value: 0.7170555372664604 and parameters: {'learning_rate': 0.13974402836097044, 'reg_lambda': 1.2065807679881433e-07, 'reg_alpha': 2.3448400363292187e-08, 'subsample': 0.14601338563824462, 'colsample_bytree': 0.22532062760713303, 'max_depth': 1}. Best is trial 321 with value: 0.7170332013860602.\u001b[0m\n"
     ]
    },
    {
     "name": "stdout",
     "output_type": "stream",
     "text": [
      "[18:01:29] WARNING: C:/Users/Administrator/workspace/xgboost-win64_release_1.4.0/src/learner.cc:231: Only 1 GPUs are visible, setting `gpu_id` to 0\n",
      "[0]\tvalidation_0-rmse:6.66421\n",
      "[415]\tvalidation_0-rmse:0.71713\n"
     ]
    },
    {
     "name": "stderr",
     "output_type": "stream",
     "text": [
      "\u001b[32m[I 2021-08-30 18:01:30,436]\u001b[0m Trial 428 finished with value: 0.7170843293390099 and parameters: {'learning_rate': 0.14484897150088438, 'reg_lambda': 1.1380121214991099e-07, 'reg_alpha': 1.7981586054972546e-08, 'subsample': 0.13975677041231485, 'colsample_bytree': 0.20123279540301883, 'max_depth': 1}. Best is trial 321 with value: 0.7170332013860602.\u001b[0m\n"
     ]
    },
    {
     "name": "stdout",
     "output_type": "stream",
     "text": [
      "[18:01:30] WARNING: C:/Users/Administrator/workspace/xgboost-win64_release_1.4.0/src/learner.cc:231: Only 1 GPUs are visible, setting `gpu_id` to 0\n",
      "[0]\tvalidation_0-rmse:6.59238\n",
      "[417]\tvalidation_0-rmse:0.71719\n"
     ]
    },
    {
     "name": "stderr",
     "output_type": "stream",
     "text": [
      "\u001b[32m[I 2021-08-30 18:01:31,885]\u001b[0m Trial 429 finished with value: 0.7171307784909301 and parameters: {'learning_rate': 0.1541929016747262, 'reg_lambda': 8.40475795983502e-08, 'reg_alpha': 2.37180233764513e-08, 'subsample': 0.12884924697433175, 'colsample_bytree': 0.2314231064058733, 'max_depth': 1}. Best is trial 321 with value: 0.7170332013860602.\u001b[0m\n"
     ]
    },
    {
     "name": "stdout",
     "output_type": "stream",
     "text": [
      "[18:01:32] WARNING: C:/Users/Administrator/workspace/xgboost-win64_release_1.4.0/src/learner.cc:231: Only 1 GPUs are visible, setting `gpu_id` to 0\n",
      "[0]\tvalidation_0-rmse:6.73826\n",
      "[559]\tvalidation_0-rmse:0.71718\n"
     ]
    },
    {
     "name": "stderr",
     "output_type": "stream",
     "text": [
      "\u001b[32m[I 2021-08-30 18:01:33,568]\u001b[0m Trial 430 finished with value: 0.7171366019465064 and parameters: {'learning_rate': 0.13522192266651456, 'reg_lambda': 8.938591095038891e-07, 'reg_alpha': 3.6821746803874986e-08, 'subsample': 0.16232399441688447, 'colsample_bytree': 0.21889348598948577, 'max_depth': 1}. Best is trial 321 with value: 0.7170332013860602.\u001b[0m\n"
     ]
    },
    {
     "name": "stdout",
     "output_type": "stream",
     "text": [
      "[18:01:33] WARNING: C:/Users/Administrator/workspace/xgboost-win64_release_1.4.0/src/learner.cc:231: Only 1 GPUs are visible, setting `gpu_id` to 0\n",
      "[0]\tvalidation_0-rmse:6.68162\n",
      "[434]\tvalidation_0-rmse:0.71719\n"
     ]
    },
    {
     "name": "stderr",
     "output_type": "stream",
     "text": [
      "\u001b[32m[I 2021-08-30 18:01:34,912]\u001b[0m Trial 431 finished with value: 0.7171374035333286 and parameters: {'learning_rate': 0.14258853996402063, 'reg_lambda': 3.610933658524093e-05, 'reg_alpha': 1.2560498951830497e-08, 'subsample': 0.129592455045615, 'colsample_bytree': 0.19525960034643877, 'max_depth': 1}. Best is trial 321 with value: 0.7170332013860602.\u001b[0m\n"
     ]
    },
    {
     "name": "stdout",
     "output_type": "stream",
     "text": [
      "[18:01:35] WARNING: C:/Users/Administrator/workspace/xgboost-win64_release_1.4.0/src/learner.cc:231: Only 1 GPUs are visible, setting `gpu_id` to 0\n",
      "[0]\tvalidation_0-rmse:6.72018\n",
      "[419]\tvalidation_0-rmse:0.71712\n"
     ]
    },
    {
     "name": "stderr",
     "output_type": "stream",
     "text": [
      "\u001b[32m[I 2021-08-30 18:01:36,257]\u001b[0m Trial 432 finished with value: 0.7170832704948399 and parameters: {'learning_rate': 0.13758348129109288, 'reg_lambda': 3.1325206097957554e-07, 'reg_alpha': 3.769485721128132e-08, 'subsample': 0.15285292801910802, 'colsample_bytree': 0.2315973352505362, 'max_depth': 1}. Best is trial 321 with value: 0.7170332013860602.\u001b[0m\n"
     ]
    },
    {
     "name": "stdout",
     "output_type": "stream",
     "text": [
      "[18:01:36] WARNING: C:/Users/Administrator/workspace/xgboost-win64_release_1.4.0/src/learner.cc:231: Only 1 GPUs are visible, setting `gpu_id` to 0\n",
      "[0]\tvalidation_0-rmse:6.81144\n",
      "[354]\tvalidation_0-rmse:0.71800\n"
     ]
    },
    {
     "name": "stderr",
     "output_type": "stream",
     "text": [
      "\u001b[32m[I 2021-08-30 18:01:38,176]\u001b[0m Trial 433 finished with value: 0.7173439269211622 and parameters: {'learning_rate': 0.12567980803566853, 'reg_lambda': 9.722519379297586e-08, 'reg_alpha': 2.434102169138865e-08, 'subsample': 0.11870512023231317, 'colsample_bytree': 0.25277661922749445, 'max_depth': 5}. Best is trial 321 with value: 0.7170332013860602.\u001b[0m\n"
     ]
    },
    {
     "name": "stdout",
     "output_type": "stream",
     "text": [
      "[18:01:38] WARNING: C:/Users/Administrator/workspace/xgboost-win64_release_1.4.0/src/learner.cc:231: Only 1 GPUs are visible, setting `gpu_id` to 0\n",
      "[0]\tvalidation_0-rmse:6.76629\n",
      "[416]\tvalidation_0-rmse:0.71711\n"
     ]
    },
    {
     "name": "stderr",
     "output_type": "stream",
     "text": [
      "\u001b[32m[I 2021-08-30 18:01:39,441]\u001b[0m Trial 434 finished with value: 0.7170723149874457 and parameters: {'learning_rate': 0.13158785580148666, 'reg_lambda': 0.00011937875522855804, 'reg_alpha': 1.6046904617828704e-08, 'subsample': 0.14145421598663072, 'colsample_bytree': 0.24214495554981094, 'max_depth': 1}. Best is trial 321 with value: 0.7170332013860602.\u001b[0m\n"
     ]
    },
    {
     "name": "stdout",
     "output_type": "stream",
     "text": [
      "[18:01:39] WARNING: C:/Users/Administrator/workspace/xgboost-win64_release_1.4.0/src/learner.cc:231: Only 1 GPUs are visible, setting `gpu_id` to 0\n",
      "[0]\tvalidation_0-rmse:6.56858\n",
      "[415]\tvalidation_0-rmse:0.71717\n"
     ]
    },
    {
     "name": "stderr",
     "output_type": "stream",
     "text": [
      "\u001b[32m[I 2021-08-30 18:01:40,726]\u001b[0m Trial 435 finished with value: 0.7171407500557118 and parameters: {'learning_rate': 0.15729438603880871, 'reg_lambda': 2.9932011776269087e-07, 'reg_alpha': 2.615868405041377e-08, 'subsample': 0.11790932518773749, 'colsample_bytree': 0.21748036442177204, 'max_depth': 1}. Best is trial 321 with value: 0.7170332013860602.\u001b[0m\n"
     ]
    },
    {
     "name": "stdout",
     "output_type": "stream",
     "text": [
      "[18:01:40] WARNING: C:/Users/Administrator/workspace/xgboost-win64_release_1.4.0/src/learner.cc:231: Only 1 GPUs are visible, setting `gpu_id` to 0\n",
      "[0]\tvalidation_0-rmse:7.48405\n",
      "[999]\tvalidation_0-rmse:0.71717\n"
     ]
    },
    {
     "name": "stderr",
     "output_type": "stream",
     "text": [
      "\u001b[32m[I 2021-08-30 18:01:43,526]\u001b[0m Trial 436 finished with value: 0.7171556099368219 and parameters: {'learning_rate': 0.03837479638781242, 'reg_lambda': 5.277715552318023e-07, 'reg_alpha': 0.0001405895061216878, 'subsample': 0.17427032687484728, 'colsample_bytree': 0.3575536821841949, 'max_depth': 1}. Best is trial 321 with value: 0.7170332013860602.\u001b[0m\n"
     ]
    },
    {
     "name": "stdout",
     "output_type": "stream",
     "text": [
      "[18:01:43] WARNING: C:/Users/Administrator/workspace/xgboost-win64_release_1.4.0/src/learner.cc:231: Only 1 GPUs are visible, setting `gpu_id` to 0\n",
      "[0]\tvalidation_0-rmse:6.92283\n",
      "[669]\tvalidation_0-rmse:0.71713\n"
     ]
    },
    {
     "name": "stderr",
     "output_type": "stream",
     "text": [
      "\u001b[32m[I 2021-08-30 18:01:45,614]\u001b[0m Trial 437 finished with value: 0.7171107781305837 and parameters: {'learning_rate': 0.11123765941877047, 'reg_lambda': 6.069513839321429e-05, 'reg_alpha': 1.0110052967170217e-08, 'subsample': 0.6433868313559677, 'colsample_bytree': 0.1738691268291353, 'max_depth': 1}. Best is trial 321 with value: 0.7170332013860602.\u001b[0m\n"
     ]
    },
    {
     "name": "stdout",
     "output_type": "stream",
     "text": [
      "[18:01:45] WARNING: C:/Users/Administrator/workspace/xgboost-win64_release_1.4.0/src/learner.cc:231: Only 1 GPUs are visible, setting `gpu_id` to 0\n",
      "[0]\tvalidation_0-rmse:6.66120\n",
      "[434]\tvalidation_0-rmse:0.71713\n"
     ]
    },
    {
     "name": "stderr",
     "output_type": "stream",
     "text": [
      "\u001b[32m[I 2021-08-30 18:01:46,995]\u001b[0m Trial 438 finished with value: 0.7170862249761313 and parameters: {'learning_rate': 0.14525124843330925, 'reg_lambda': 7.309397932198425e-07, 'reg_alpha': 3.268179182702946e-08, 'subsample': 0.1310075863113751, 'colsample_bytree': 0.419810956397592, 'max_depth': 1}. Best is trial 321 with value: 0.7170332013860602.\u001b[0m\n"
     ]
    },
    {
     "name": "stdout",
     "output_type": "stream",
     "text": [
      "[18:01:47] WARNING: C:/Users/Administrator/workspace/xgboost-win64_release_1.4.0/src/learner.cc:231: Only 1 GPUs are visible, setting `gpu_id` to 0\n",
      "[0]\tvalidation_0-rmse:7.57869\n",
      "[942]\tvalidation_0-rmse:0.71715\n"
     ]
    },
    {
     "name": "stderr",
     "output_type": "stream",
     "text": [
      "\u001b[32m[I 2021-08-30 18:01:49,851]\u001b[0m Trial 439 finished with value: 0.7171442684120085 and parameters: {'learning_rate': 0.02610415258632403, 'reg_lambda': 6.797419340453068e-08, 'reg_alpha': 9.522428998854874e-08, 'subsample': 0.11545170450104594, 'colsample_bytree': 0.36551492754403314, 'max_depth': 1}. Best is trial 321 with value: 0.7170332013860602.\u001b[0m\n"
     ]
    },
    {
     "name": "stdout",
     "output_type": "stream",
     "text": [
      "[18:01:50] WARNING: C:/Users/Administrator/workspace/xgboost-win64_release_1.4.0/src/learner.cc:231: Only 1 GPUs are visible, setting `gpu_id` to 0\n",
      "[0]\tvalidation_0-rmse:7.04470\n",
      "[439]\tvalidation_0-rmse:0.71712\n"
     ]
    },
    {
     "name": "stderr",
     "output_type": "stream",
     "text": [
      "\u001b[32m[I 2021-08-30 18:01:51,224]\u001b[0m Trial 440 finished with value: 0.7171072572307957 and parameters: {'learning_rate': 0.09542652822576535, 'reg_lambda': 2.2276437985156035e-05, 'reg_alpha': 2.461137907489556, 'subsample': 0.14402028210676365, 'colsample_bytree': 0.27979170581211554, 'max_depth': 1}. Best is trial 321 with value: 0.7170332013860602.\u001b[0m\n"
     ]
    },
    {
     "name": "stdout",
     "output_type": "stream",
     "text": [
      "[18:01:51] WARNING: C:/Users/Administrator/workspace/xgboost-win64_release_1.4.0/src/learner.cc:231: Only 1 GPUs are visible, setting `gpu_id` to 0\n",
      "[0]\tvalidation_0-rmse:6.82718\n",
      "[540]\tvalidation_0-rmse:0.71712\n"
     ]
    },
    {
     "name": "stderr",
     "output_type": "stream",
     "text": [
      "\u001b[32m[I 2021-08-30 18:01:52,938]\u001b[0m Trial 441 finished with value: 0.7171059927432468 and parameters: {'learning_rate': 0.12366059716800211, 'reg_lambda': 1.24085408592671e-06, 'reg_alpha': 1.7684685605432222e-08, 'subsample': 0.549313771926006, 'colsample_bytree': 0.3491226491486402, 'max_depth': 1}. Best is trial 321 with value: 0.7170332013860602.\u001b[0m\n"
     ]
    },
    {
     "name": "stdout",
     "output_type": "stream",
     "text": [
      "[18:01:53] WARNING: C:/Users/Administrator/workspace/xgboost-win64_release_1.4.0/src/learner.cc:231: Only 1 GPUs are visible, setting `gpu_id` to 0\n",
      "[0]\tvalidation_0-rmse:6.74362\n",
      "[609]\tvalidation_0-rmse:0.71713\n"
     ]
    },
    {
     "name": "stderr",
     "output_type": "stream",
     "text": [
      "\u001b[32m[I 2021-08-30 18:01:54,753]\u001b[0m Trial 442 finished with value: 0.7170717802947644 and parameters: {'learning_rate': 0.13455304769884174, 'reg_lambda': 1.73237443274195e-07, 'reg_alpha': 3.76145153249728e-08, 'subsample': 0.11432591025036737, 'colsample_bytree': 0.3753503984595908, 'max_depth': 1}. Best is trial 321 with value: 0.7170332013860602.\u001b[0m\n"
     ]
    },
    {
     "name": "stdout",
     "output_type": "stream",
     "text": [
      "[18:01:54] WARNING: C:/Users/Administrator/workspace/xgboost-win64_release_1.4.0/src/learner.cc:231: Only 1 GPUs are visible, setting `gpu_id` to 0\n",
      "[0]\tvalidation_0-rmse:6.88355\n",
      "[511]\tvalidation_0-rmse:0.71716\n"
     ]
    },
    {
     "name": "stderr",
     "output_type": "stream",
     "text": [
      "\u001b[32m[I 2021-08-30 18:01:56,349]\u001b[0m Trial 443 finished with value: 0.7171562772783202 and parameters: {'learning_rate': 0.11633592820585875, 'reg_lambda': 8.57630674170855e-05, 'reg_alpha': 1.5864396858595933, 'subsample': 0.7678638267241601, 'colsample_bytree': 0.25471482241370214, 'max_depth': 1}. Best is trial 321 with value: 0.7170332013860602.\u001b[0m\n"
     ]
    },
    {
     "name": "stdout",
     "output_type": "stream",
     "text": [
      "[18:01:56] WARNING: C:/Users/Administrator/workspace/xgboost-win64_release_1.4.0/src/learner.cc:231: Only 1 GPUs are visible, setting `gpu_id` to 0\n",
      "[0]\tvalidation_0-rmse:6.78915\n",
      "[592]\tvalidation_0-rmse:0.71712\n"
     ]
    },
    {
     "name": "stderr",
     "output_type": "stream",
     "text": [
      "\u001b[32m[I 2021-08-30 18:01:58,228]\u001b[0m Trial 444 finished with value: 0.7170757332864521 and parameters: {'learning_rate': 0.1286797710542923, 'reg_lambda': 0.0002416937465248514, 'reg_alpha': 2.921075147058295, 'subsample': 0.1006160605917219, 'colsample_bytree': 0.3047702353418245, 'max_depth': 1}. Best is trial 321 with value: 0.7170332013860602.\u001b[0m\n"
     ]
    },
    {
     "name": "stdout",
     "output_type": "stream",
     "text": [
      "[18:01:58] WARNING: C:/Users/Administrator/workspace/xgboost-win64_release_1.4.0/src/learner.cc:231: Only 1 GPUs are visible, setting `gpu_id` to 0\n",
      "[0]\tvalidation_0-rmse:6.69055\n",
      "[351]\tvalidation_0-rmse:0.71731\n"
     ]
    },
    {
     "name": "stderr",
     "output_type": "stream",
     "text": [
      "\u001b[32m[I 2021-08-30 18:01:59,614]\u001b[0m Trial 445 finished with value: 0.7171523840607127 and parameters: {'learning_rate': 0.14138924892305604, 'reg_lambda': 0.0001306329514268961, 'reg_alpha': 1.7249865515840063e-08, 'subsample': 0.15601515418439987, 'colsample_bytree': 0.4086818319528589, 'max_depth': 2}. Best is trial 321 with value: 0.7170332013860602.\u001b[0m\n"
     ]
    },
    {
     "name": "stdout",
     "output_type": "stream",
     "text": [
      "[18:01:59] WARNING: C:/Users/Administrator/workspace/xgboost-win64_release_1.4.0/src/learner.cc:231: Only 1 GPUs are visible, setting `gpu_id` to 0\n",
      "[0]\tvalidation_0-rmse:6.93633\n",
      "[435]\tvalidation_0-rmse:0.71714\n"
     ]
    },
    {
     "name": "stderr",
     "output_type": "stream",
     "text": [
      "\u001b[32m[I 2021-08-30 18:02:01,045]\u001b[0m Trial 446 finished with value: 0.7171004992824218 and parameters: {'learning_rate': 0.109500634268774, 'reg_lambda': 4.0023056928222707e-07, 'reg_alpha': 0.0005094206156656252, 'subsample': 0.1311448048907526, 'colsample_bytree': 0.3451260119530252, 'max_depth': 1}. Best is trial 321 with value: 0.7170332013860602.\u001b[0m\n"
     ]
    },
    {
     "name": "stdout",
     "output_type": "stream",
     "text": [
      "[18:02:01] WARNING: C:/Users/Administrator/workspace/xgboost-win64_release_1.4.0/src/learner.cc:231: Only 1 GPUs are visible, setting `gpu_id` to 0\n",
      "[0]\tvalidation_0-rmse:6.85168\n",
      "[560]\tvalidation_0-rmse:0.71714\n"
     ]
    },
    {
     "name": "stderr",
     "output_type": "stream",
     "text": [
      "\u001b[32m[I 2021-08-30 18:02:02,738]\u001b[0m Trial 447 finished with value: 0.7170639710897414 and parameters: {'learning_rate': 0.12055387447848803, 'reg_lambda': 1.1614525357648846e-07, 'reg_alpha': 5.3278331156224234e-08, 'subsample': 0.10025188229190611, 'colsample_bytree': 0.23171447255085736, 'max_depth': 1}. Best is trial 321 with value: 0.7170332013860602.\u001b[0m\n"
     ]
    },
    {
     "name": "stdout",
     "output_type": "stream",
     "text": [
      "[18:02:02] WARNING: C:/Users/Administrator/workspace/xgboost-win64_release_1.4.0/src/learner.cc:231: Only 1 GPUs are visible, setting `gpu_id` to 0\n",
      "[0]\tvalidation_0-rmse:6.62418\n",
      "[593]\tvalidation_0-rmse:0.71719\n"
     ]
    },
    {
     "name": "stderr",
     "output_type": "stream",
     "text": [
      "\u001b[32m[I 2021-08-30 18:02:04,519]\u001b[0m Trial 448 finished with value: 0.7171196559440902 and parameters: {'learning_rate': 0.15006911846977838, 'reg_lambda': 2.6126094828494225e-07, 'reg_alpha': 4.082387736508873, 'subsample': 0.13201131454512216, 'colsample_bytree': 0.32624867542968494, 'max_depth': 1}. Best is trial 321 with value: 0.7170332013860602.\u001b[0m\n"
     ]
    },
    {
     "name": "stdout",
     "output_type": "stream",
     "text": [
      "[18:02:04] WARNING: C:/Users/Administrator/workspace/xgboost-win64_release_1.4.0/src/learner.cc:231: Only 1 GPUs are visible, setting `gpu_id` to 0\n",
      "[0]\tvalidation_0-rmse:6.49710\n",
      "[723]\tvalidation_0-rmse:0.71715\n"
     ]
    },
    {
     "name": "stderr",
     "output_type": "stream",
     "text": [
      "\u001b[32m[I 2021-08-30 18:02:06,700]\u001b[0m Trial 449 finished with value: 0.717119179531097 and parameters: {'learning_rate': 0.16654833895617366, 'reg_lambda': 0.0004519223761898964, 'reg_alpha': 14.560004984308744, 'subsample': 0.17059258130280291, 'colsample_bytree': 0.43760204382247914, 'max_depth': 1}. Best is trial 321 with value: 0.7170332013860602.\u001b[0m\n"
     ]
    },
    {
     "name": "stdout",
     "output_type": "stream",
     "text": [
      "[18:02:06] WARNING: C:/Users/Administrator/workspace/xgboost-win64_release_1.4.0/src/learner.cc:231: Only 1 GPUs are visible, setting `gpu_id` to 0\n",
      "[0]\tvalidation_0-rmse:6.77738\n",
      "[419]\tvalidation_0-rmse:0.71713\n"
     ]
    },
    {
     "name": "stderr",
     "output_type": "stream",
     "text": [
      "\u001b[32m[I 2021-08-30 18:02:08,027]\u001b[0m Trial 450 finished with value: 0.7170929334627454 and parameters: {'learning_rate': 0.1301591878975896, 'reg_lambda': 7.972999887998705e-07, 'reg_alpha': 0.4519833983655987, 'subsample': 0.11709576768553023, 'colsample_bytree': 0.13370071335072437, 'max_depth': 1}. Best is trial 321 with value: 0.7170332013860602.\u001b[0m\n"
     ]
    },
    {
     "name": "stdout",
     "output_type": "stream",
     "text": [
      "[18:02:08] WARNING: C:/Users/Administrator/workspace/xgboost-win64_release_1.4.0/src/learner.cc:231: Only 1 GPUs are visible, setting `gpu_id` to 0\n",
      "[0]\tvalidation_0-rmse:6.70412\n",
      "[414]\tvalidation_0-rmse:0.71712\n"
     ]
    },
    {
     "name": "stderr",
     "output_type": "stream",
     "text": [
      "\u001b[32m[I 2021-08-30 18:02:09,341]\u001b[0m Trial 451 finished with value: 0.7170499786317348 and parameters: {'learning_rate': 0.13966636719081169, 'reg_lambda': 4.489036275592246e-05, 'reg_alpha': 2.4352476507467962e-08, 'subsample': 0.14136896842921276, 'colsample_bytree': 0.37196352342322, 'max_depth': 1}. Best is trial 321 with value: 0.7170332013860602.\u001b[0m\n"
     ]
    },
    {
     "name": "stdout",
     "output_type": "stream",
     "text": [
      "[18:02:09] WARNING: C:/Users/Administrator/workspace/xgboost-win64_release_1.4.0/src/learner.cc:231: Only 1 GPUs are visible, setting `gpu_id` to 0\n",
      "[0]\tvalidation_0-rmse:6.70658\n",
      "[445]\tvalidation_0-rmse:0.71714\n"
     ]
    },
    {
     "name": "stderr",
     "output_type": "stream",
     "text": [
      "\u001b[32m[I 2021-08-30 18:02:10,831]\u001b[0m Trial 452 finished with value: 0.7170918959249646 and parameters: {'learning_rate': 0.13935038691786286, 'reg_lambda': 4.921830422695001e-05, 'reg_alpha': 2.530784685165321e-08, 'subsample': 0.1928000420610475, 'colsample_bytree': 0.2029753726603168, 'max_depth': 1}. Best is trial 321 with value: 0.7170332013860602.\u001b[0m\n"
     ]
    },
    {
     "name": "stdout",
     "output_type": "stream",
     "text": [
      "[18:02:11] WARNING: C:/Users/Administrator/workspace/xgboost-win64_release_1.4.0/src/learner.cc:231: Only 1 GPUs are visible, setting `gpu_id` to 0\n",
      "[0]\tvalidation_0-rmse:6.61381\n"
     ]
    }
   ],
   "source": [
    "useful_features = [\"pred_1\", \"pred_2\"]\n",
    "df_test = df_test[useful_features]\n",
    "\n",
    "study = optuna.create_study(direction=\"minimize\")\n",
    "study.optimize(run, n_trials=700) #100"
   ]
  },
  {
   "cell_type": "code",
   "execution_count": 6,
   "metadata": {},
   "outputs": [
    {
     "data": {
      "text/plain": [
       "{'learning_rate': 0.019899422921897673,\n",
       " 'reg_lambda': 2.0215144838140033,\n",
       " 'reg_alpha': 1.851725803396807e-06,\n",
       " 'subsample': 0.12135463036938088,\n",
       " 'colsample_bytree': 0.39726269844915346,\n",
       " 'max_depth': 2}"
      ]
     },
     "execution_count": 6,
     "metadata": {},
     "output_type": "execute_result"
    }
   ],
   "source": [
    "study.best_params"
   ]
  },
  {
   "cell_type": "code",
   "execution_count": null,
   "metadata": {},
   "outputs": [],
   "source": []
  }
 ],
 "metadata": {
  "kernelspec": {
   "display_name": "Python 3",
   "language": "python",
   "name": "python3"
  },
  "language_info": {
   "codemirror_mode": {
    "name": "ipython",
    "version": 3
   },
   "file_extension": ".py",
   "mimetype": "text/x-python",
   "name": "python",
   "nbconvert_exporter": "python",
   "pygments_lexer": "ipython3",
   "version": "3.6.10"
  }
 },
 "nbformat": 4,
 "nbformat_minor": 4
}
