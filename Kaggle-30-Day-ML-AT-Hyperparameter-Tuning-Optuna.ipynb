{
 "cells": [
  {
   "cell_type": "markdown",
   "metadata": {},
   "source": [
    "# This notebook is for the 30 Days of Machine Learning contest on Kaggle.\n",
    "\n",
    "#### This notebook was created by following Abhishek Thakur's YouTube video tutorial: \n",
    "https://www.youtube.com/watch?v=m5YSKPMjkrk&list=PL98nY_tJQXZnP-k3qCDd1hljVSciDV9_N&index=22\n"
   ]
  },
  {
   "cell_type": "code",
   "execution_count": 3,
   "metadata": {},
   "outputs": [],
   "source": [
    "# Imports\n",
    "import pandas as pd\n",
    "import numpy as np\n",
    "from sklearn import preprocessing\n",
    "from sklearn.model_selection import train_test_split\n",
    "from sklearn.ensemble import RandomForestRegressor\n",
    "from sklearn.metrics import mean_squared_error\n",
    "from xgboost import XGBRegressor\n",
    "import optuna"
   ]
  },
  {
   "cell_type": "code",
   "execution_count": 4,
   "metadata": {},
   "outputs": [],
   "source": [
    "df = pd.read_csv(\"data/train_folds.csv\")\n",
    "df_test = pd.read_csv(\"data/test.csv\")\n",
    "sample_submission = pd.read_csv(\"data/sample_submission.csv\")\n",
    "\n",
    "useful_features = [c for c in df.columns if c not in (\"id\", \"target\", \"kfold\")]\n",
    "object_cols = [col for col in useful_features if 'cat' in col]\n",
    "df_test = df_test[useful_features]\n",
    "\n",
    "for col in object_cols:\n",
    "    temp_df = []\n",
    "    temp_test_feat = None\n",
    "    for fold in range(5):\n",
    "        xtrain = df[df.kfold != fold].reset_index(drop=True)\n",
    "        xvalid = df[df.kfold == fold].reset_index(drop=True)\n",
    "        feat = xtrain.groupby(col)[\"target\"].agg(\"mean\")\n",
    "        feat = feat.to_dict()\n",
    "        xvalid.loc[:, f\"tar_enc_{col}\"] = xvalid[col].map(feat)\n",
    "        temp_df.append(xvalid)\n",
    "        if temp_test_feat is None:\n",
    "            temp_test_feat = df_test[col].map(feat)\n",
    "        else:\n",
    "            temp_test_feat += df_test[col].map(feat)\n",
    "            \n",
    "    temp_test_feat /= 5\n",
    "    df_test.loc[:, f\"tar_enc_{col}\"] = temp_test_feat\n",
    "    df = pd.concat(temp_df)\n",
    "    \n",
    "useful_features = [c for c in df.columns if c not in (\"id\", \"target\", \"kfold\")]\n",
    "object_cols = [col for col in useful_features if col.startswith(\"cat\")]\n",
    "df_test = df_test[useful_features]\n"
   ]
  },
  {
   "cell_type": "code",
   "execution_count": 6,
   "metadata": {},
   "outputs": [],
   "source": [
    "def run(trial):\n",
    "    fold = 0\n",
    "    learning_rate = trial.suggest_float(\"learning_rate\", 1e-2, 0.25, log=True)\n",
    "    reg_lambda = trial.suggest_loguniform(\"reg_lambda\", 1e-8, 100.0)\n",
    "    reg_alpha = trial.suggest_loguniform(\"reg_alpha\", 1e-8, 100.0)\n",
    "    subsample = trial.suggest_float(\"subsample\", 0.1, 1.0)\n",
    "    colsample_bytree = trial.suggest_float(\"colsample_bytree\", 0.1, 1.0)\n",
    "    max_depth = trial.suggest_int(\"max_depth\", 1, 7)\n",
    "\n",
    "    xtrain = df[df.kfold != fold].reset_index(drop=True)\n",
    "    xvalid = df[df.kfold == fold].reset_index(drop=True)\n",
    "\n",
    "    ytrain = xtrain.target\n",
    "    yvalid = xvalid.target\n",
    "\n",
    "    xtrain = xtrain[useful_features]\n",
    "    xvalid = xvalid[useful_features]\n",
    "\n",
    "    ordinal_encoder = preprocessing.OrdinalEncoder()\n",
    "    xtrain[object_cols] = ordinal_encoder.fit_transform(xtrain[object_cols])\n",
    "    xvalid[object_cols] = ordinal_encoder.transform(xvalid[object_cols])\n",
    "\n",
    "    model = XGBRegressor(\n",
    "        random_state=42,\n",
    "        tree_method='gpu_hist',\n",
    "        gpu_id=1,\n",
    "        predictor=\"gpu_predictor\",\n",
    "        n_estimators=7000,\n",
    "        learning_rate=learning_rate,\n",
    "        reg_lambda=reg_lambda,\n",
    "        reg_alpha=reg_alpha,\n",
    "        subsample=subsample,\n",
    "        colsample_bytree=colsample_bytree,\n",
    "        max_depth=max_depth,\n",
    "    )\n",
    "    model.fit(xtrain, ytrain, early_stopping_rounds=300, eval_set=[(xvalid, yvalid)], verbose=1000)\n",
    "    preds_valid = model.predict(xvalid)\n",
    "    rmse = mean_squared_error(yvalid, preds_valid, squared=False)\n",
    "    return rmse"
   ]
  },
  {
   "cell_type": "code",
   "execution_count": 7,
   "metadata": {},
   "outputs": [
    {
     "name": "stderr",
     "output_type": "stream",
     "text": [
      "\u001b[32m[I 2021-08-28 14:05:24,980]\u001b[0m A new study created in memory with name: no-name-965b8e91-f246-4507-ae43-81be23fbe0ff\u001b[0m\n"
     ]
    },
    {
     "name": "stdout",
     "output_type": "stream",
     "text": [
      "[14:05:26] WARNING: C:/Users/Administrator/workspace/xgboost-win64_release_1.4.0/src/learner.cc:231: Only 1 GPUs are visible, setting `gpu_id` to 0\n",
      "[0]\tvalidation_0-rmse:7.31282\n",
      "[1000]\tvalidation_0-rmse:0.72623\n",
      "[2000]\tvalidation_0-rmse:0.72307\n",
      "[3000]\tvalidation_0-rmse:0.72176\n",
      "[4000]\tvalidation_0-rmse:0.72097\n",
      "[5000]\tvalidation_0-rmse:0.72049\n",
      "[6000]\tvalidation_0-rmse:0.72010\n",
      "[6999]\tvalidation_0-rmse:0.71977\n"
     ]
    },
    {
     "name": "stderr",
     "output_type": "stream",
     "text": [
      "\u001b[32m[I 2021-08-28 14:06:25,501]\u001b[0m Trial 0 finished with value: 0.71976837039695 and parameters: {'learning_rate': 0.06064204370094016, 'reg_lambda': 0.0008943762844024488, 'reg_alpha': 73.40222297361952, 'subsample': 0.31260504251715354, 'colsample_bytree': 0.11793184041891933, 'max_depth': 2}. Best is trial 0 with value: 0.71976837039695.\u001b[0m\n"
     ]
    },
    {
     "name": "stdout",
     "output_type": "stream",
     "text": [
      "[14:06:27] WARNING: C:/Users/Administrator/workspace/xgboost-win64_release_1.4.0/src/learner.cc:231: Only 1 GPUs are visible, setting `gpu_id` to 0\n",
      "[0]\tvalidation_0-rmse:7.70119\n",
      "[1000]\tvalidation_0-rmse:0.73402\n",
      "[2000]\tvalidation_0-rmse:0.73033\n",
      "[3000]\tvalidation_0-rmse:0.72806\n",
      "[4000]\tvalidation_0-rmse:0.72641\n",
      "[5000]\tvalidation_0-rmse:0.72504\n",
      "[6000]\tvalidation_0-rmse:0.72396\n",
      "[6999]\tvalidation_0-rmse:0.72310\n"
     ]
    },
    {
     "name": "stderr",
     "output_type": "stream",
     "text": [
      "\u001b[32m[I 2021-08-28 14:07:34,049]\u001b[0m Trial 1 finished with value: 0.7230953815507253 and parameters: {'learning_rate': 0.010208801417660018, 'reg_lambda': 17.700862581841477, 'reg_alpha': 9.521414469945798e-05, 'subsample': 0.5816500232152734, 'colsample_bytree': 0.4712752973765638, 'max_depth': 2}. Best is trial 0 with value: 0.71976837039695.\u001b[0m\n"
     ]
    },
    {
     "name": "stdout",
     "output_type": "stream",
     "text": [
      "[14:07:35] WARNING: C:/Users/Administrator/workspace/xgboost-win64_release_1.4.0/src/learner.cc:231: Only 1 GPUs are visible, setting `gpu_id` to 0\n",
      "[0]\tvalidation_0-rmse:7.41992\n",
      "[1000]\tvalidation_0-rmse:0.72031\n",
      "[2000]\tvalidation_0-rmse:0.71884\n",
      "[2688]\tvalidation_0-rmse:0.71887\n"
     ]
    },
    {
     "name": "stderr",
     "output_type": "stream",
     "text": [
      "\u001b[32m[I 2021-08-28 14:08:09,564]\u001b[0m Trial 2 finished with value: 0.7187456855336856 and parameters: {'learning_rate': 0.0468266829587717, 'reg_lambda': 0.6404835599499219, 'reg_alpha': 8.39014824241283e-05, 'subsample': 0.8799182498337184, 'colsample_bytree': 0.3603951177342468, 'max_depth': 4}. Best is trial 2 with value: 0.7187456855336856.\u001b[0m\n"
     ]
    },
    {
     "name": "stdout",
     "output_type": "stream",
     "text": [
      "[14:08:10] WARNING: C:/Users/Administrator/workspace/xgboost-win64_release_1.4.0/src/learner.cc:231: Only 1 GPUs are visible, setting `gpu_id` to 0\n",
      "[0]\tvalidation_0-rmse:7.48136\n",
      "[1000]\tvalidation_0-rmse:0.73174\n",
      "[2000]\tvalidation_0-rmse:0.72923\n",
      "[3000]\tvalidation_0-rmse:0.72769\n",
      "[4000]\tvalidation_0-rmse:0.72658\n",
      "[5000]\tvalidation_0-rmse:0.72576\n",
      "[6000]\tvalidation_0-rmse:0.72502\n",
      "[6999]\tvalidation_0-rmse:0.72445\n"
     ]
    },
    {
     "name": "stderr",
     "output_type": "stream",
     "text": [
      "\u001b[32m[I 2021-08-28 14:08:57,222]\u001b[0m Trial 3 finished with value: 0.7244518697713013 and parameters: {'learning_rate': 0.0387481252564759, 'reg_lambda': 2.491613799395933, 'reg_alpha': 0.008247439107796408, 'subsample': 0.3392530519002951, 'colsample_bytree': 0.42545327455893456, 'max_depth': 1}. Best is trial 2 with value: 0.7187456855336856.\u001b[0m\n"
     ]
    },
    {
     "name": "stdout",
     "output_type": "stream",
     "text": [
      "[14:08:58] WARNING: C:/Users/Administrator/workspace/xgboost-win64_release_1.4.0/src/learner.cc:231: Only 1 GPUs are visible, setting `gpu_id` to 0\n",
      "[0]\tvalidation_0-rmse:7.21481\n",
      "[1000]\tvalidation_0-rmse:0.71975\n",
      "[1562]\tvalidation_0-rmse:0.71976\n"
     ]
    },
    {
     "name": "stderr",
     "output_type": "stream",
     "text": [
      "\u001b[32m[I 2021-08-28 14:09:17,428]\u001b[0m Trial 4 finished with value: 0.7195197455715279 and parameters: {'learning_rate': 0.07352989392680517, 'reg_lambda': 0.8704018173031131, 'reg_alpha': 7.781585497086379e-08, 'subsample': 0.6514338296346952, 'colsample_bytree': 0.5758849457205628, 'max_depth': 4}. Best is trial 2 with value: 0.7187456855336856.\u001b[0m\n"
     ]
    }
   ],
   "source": [
    "study = optuna.create_study(direction=\"minimize\")\n",
    "study.optimize(run, n_trials=5) #100"
   ]
  },
  {
   "cell_type": "code",
   "execution_count": 8,
   "metadata": {},
   "outputs": [
    {
     "data": {
      "text/plain": [
       "{'learning_rate': 0.0468266829587717,\n",
       " 'reg_lambda': 0.6404835599499219,\n",
       " 'reg_alpha': 8.39014824241283e-05,\n",
       " 'subsample': 0.8799182498337184,\n",
       " 'colsample_bytree': 0.3603951177342468,\n",
       " 'max_depth': 4}"
      ]
     },
     "execution_count": 8,
     "metadata": {},
     "output_type": "execute_result"
    }
   ],
   "source": [
    "study.best_params"
   ]
  },
  {
   "cell_type": "code",
   "execution_count": null,
   "metadata": {},
   "outputs": [],
   "source": []
  }
 ],
 "metadata": {
  "kernelspec": {
   "display_name": "Python 3",
   "language": "python",
   "name": "python3"
  },
  "language_info": {
   "codemirror_mode": {
    "name": "ipython",
    "version": 3
   },
   "file_extension": ".py",
   "mimetype": "text/x-python",
   "name": "python",
   "nbconvert_exporter": "python",
   "pygments_lexer": "ipython3",
   "version": "3.6.10"
  }
 },
 "nbformat": 4,
 "nbformat_minor": 4
}
