{
 "cells": [
  {
   "cell_type": "markdown",
   "metadata": {},
   "source": [
    "# This notebook is for the 30 Days of Machine Learning contest on Kaggle.\n",
    "\n",
    "#### This notebook was created by following Abhishek Thakur's YouTube video tutorial: \n",
    "https://www.youtube.com/watch?v=m5YSKPMjkrk&list=PL98nY_tJQXZnP-k3qCDd1hljVSciDV9_N&index=22\n"
   ]
  },
  {
   "cell_type": "code",
   "execution_count": 3,
   "metadata": {},
   "outputs": [],
   "source": [
    "# Imports\n",
    "import pandas as pd\n",
    "import numpy as np\n",
    "from sklearn import preprocessing\n",
    "from sklearn.model_selection import train_test_split\n",
    "from sklearn.ensemble import RandomForestRegressor\n",
    "from sklearn.metrics import mean_squared_error\n",
    "from xgboost import XGBRegressor\n",
    "import optuna"
   ]
  },
  {
   "cell_type": "code",
   "execution_count": 4,
   "metadata": {},
   "outputs": [],
   "source": [
    "df = pd.read_csv(\"data/train_folds.csv\")\n",
    "df_test = pd.read_csv(\"data/test.csv\")\n",
    "sample_submission = pd.read_csv(\"data/sample_submission.csv\")\n",
    "\n",
    "useful_features = [c for c in df.columns if c not in (\"id\", \"target\", \"kfold\")]\n",
    "object_cols = [col for col in useful_features if 'cat' in col]\n",
    "df_test = df_test[useful_features]\n",
    "\n",
    "for col in object_cols:\n",
    "    temp_df = []\n",
    "    temp_test_feat = None\n",
    "    for fold in range(5):\n",
    "        xtrain = df[df.kfold != fold].reset_index(drop=True)\n",
    "        xvalid = df[df.kfold == fold].reset_index(drop=True)\n",
    "        feat = xtrain.groupby(col)[\"target\"].agg(\"mean\")\n",
    "        feat = feat.to_dict()\n",
    "        xvalid.loc[:, f\"tar_enc_{col}\"] = xvalid[col].map(feat)\n",
    "        temp_df.append(xvalid)\n",
    "        if temp_test_feat is None:\n",
    "            temp_test_feat = df_test[col].map(feat)\n",
    "        else:\n",
    "            temp_test_feat += df_test[col].map(feat)\n",
    "            \n",
    "    temp_test_feat /= 5\n",
    "    df_test.loc[:, f\"tar_enc_{col}\"] = temp_test_feat\n",
    "    df = pd.concat(temp_df)\n",
    "    \n",
    "useful_features = [c for c in df.columns if c not in (\"id\", \"target\", \"kfold\")]\n",
    "object_cols = [col for col in useful_features if col.startswith(\"cat\")]\n",
    "df_test = df_test[useful_features]\n"
   ]
  },
  {
   "cell_type": "code",
   "execution_count": 6,
   "metadata": {},
   "outputs": [],
   "source": [
    "def run(trial):\n",
    "    fold = 0\n",
    "    learning_rate = trial.suggest_float(\"learning_rate\", 1e-2, 0.25, log=True)\n",
    "    reg_lambda = trial.suggest_loguniform(\"reg_lambda\", 1e-8, 100.0)\n",
    "    reg_alpha = trial.suggest_loguniform(\"reg_alpha\", 1e-8, 100.0)\n",
    "    subsample = trial.suggest_float(\"subsample\", 0.1, 1.0)\n",
    "    colsample_bytree = trial.suggest_float(\"colsample_bytree\", 0.1, 1.0)\n",
    "    max_depth = trial.suggest_int(\"max_depth\", 1, 7)\n",
    "\n",
    "    xtrain = df[df.kfold != fold].reset_index(drop=True)\n",
    "    xvalid = df[df.kfold == fold].reset_index(drop=True)\n",
    "\n",
    "    ytrain = xtrain.target\n",
    "    yvalid = xvalid.target\n",
    "\n",
    "    xtrain = xtrain[useful_features]\n",
    "    xvalid = xvalid[useful_features]\n",
    "\n",
    "    ordinal_encoder = preprocessing.OrdinalEncoder()\n",
    "    xtrain[object_cols] = ordinal_encoder.fit_transform(xtrain[object_cols])\n",
    "    xvalid[object_cols] = ordinal_encoder.transform(xvalid[object_cols])\n",
    "\n",
    "    model = XGBRegressor(\n",
    "        random_state=42,\n",
    "        tree_method='gpu_hist',\n",
    "        gpu_id=1,\n",
    "        predictor=\"gpu_predictor\",\n",
    "        n_estimators=7000,\n",
    "        learning_rate=learning_rate,\n",
    "        reg_lambda=reg_lambda,\n",
    "        reg_alpha=reg_alpha,\n",
    "        subsample=subsample,\n",
    "        colsample_bytree=colsample_bytree,\n",
    "        max_depth=max_depth,\n",
    "    )\n",
    "    model.fit(xtrain, ytrain, early_stopping_rounds=300, eval_set=[(xvalid, yvalid)], verbose=1000)\n",
    "    preds_valid = model.predict(xvalid)\n",
    "    rmse = mean_squared_error(yvalid, preds_valid, squared=False)\n",
    "    return rmse"
   ]
  },
  {
   "cell_type": "code",
   "execution_count": 9,
   "metadata": {},
   "outputs": [
    {
     "name": "stderr",
     "output_type": "stream",
     "text": [
      "\u001b[32m[I 2021-08-28 14:18:21,585]\u001b[0m A new study created in memory with name: no-name-f860ef5d-4f5b-4365-a9b8-2d800a8adb46\u001b[0m\n"
     ]
    },
    {
     "name": "stdout",
     "output_type": "stream",
     "text": [
      "[14:18:22] WARNING: C:/Users/Administrator/workspace/xgboost-win64_release_1.4.0/src/learner.cc:231: Only 1 GPUs are visible, setting `gpu_id` to 0\n",
      "[0]\tvalidation_0-rmse:7.38048\n",
      "[593]\tvalidation_0-rmse:0.72727\n"
     ]
    },
    {
     "name": "stderr",
     "output_type": "stream",
     "text": [
      "\u001b[32m[I 2021-08-28 14:18:32,885]\u001b[0m Trial 0 finished with value: 0.7267521796706935 and parameters: {'learning_rate': 0.05201948991047788, 'reg_lambda': 0.787402674291422, 'reg_alpha': 0.015184911247291606, 'subsample': 0.12870670332651485, 'colsample_bytree': 0.9810661672413583, 'max_depth': 6}. Best is trial 0 with value: 0.7267521796706935.\u001b[0m\n"
     ]
    },
    {
     "name": "stdout",
     "output_type": "stream",
     "text": [
      "[14:18:34] WARNING: C:/Users/Administrator/workspace/xgboost-win64_release_1.4.0/src/learner.cc:231: Only 1 GPUs are visible, setting `gpu_id` to 0\n",
      "[0]\tvalidation_0-rmse:7.15341\n",
      "[1000]\tvalidation_0-rmse:0.72008\n",
      "[2000]\tvalidation_0-rmse:0.71927\n",
      "[2271]\tvalidation_0-rmse:0.71942\n"
     ]
    },
    {
     "name": "stderr",
     "output_type": "stream",
     "text": [
      "\u001b[32m[I 2021-08-28 14:18:54,215]\u001b[0m Trial 1 finished with value: 0.7192412616095979 and parameters: {'learning_rate': 0.08132642869924218, 'reg_lambda': 0.1192198503116406, 'reg_alpha': 0.018251407941978978, 'subsample': 0.3810489714698997, 'colsample_bytree': 0.24771338187237152, 'max_depth': 3}. Best is trial 1 with value: 0.7192412616095979.\u001b[0m\n"
     ]
    },
    {
     "name": "stdout",
     "output_type": "stream",
     "text": [
      "[14:18:55] WARNING: C:/Users/Administrator/workspace/xgboost-win64_release_1.4.0/src/learner.cc:231: Only 1 GPUs are visible, setting `gpu_id` to 0\n",
      "[0]\tvalidation_0-rmse:7.35067\n",
      "[1000]\tvalidation_0-rmse:0.72479\n",
      "[2000]\tvalidation_0-rmse:0.72109\n",
      "[3000]\tvalidation_0-rmse:0.71956\n",
      "[4000]\tvalidation_0-rmse:0.71882\n",
      "[5000]\tvalidation_0-rmse:0.71836\n",
      "[5980]\tvalidation_0-rmse:0.71812\n"
     ]
    },
    {
     "name": "stderr",
     "output_type": "stream",
     "text": [
      "\u001b[32m[I 2021-08-28 14:19:45,447]\u001b[0m Trial 2 finished with value: 0.7180950381482404 and parameters: {'learning_rate': 0.05571353036820054, 'reg_lambda': 13.411770407290756, 'reg_alpha': 1.767019807460096, 'subsample': 0.5429678376432506, 'colsample_bytree': 0.1783735609400004, 'max_depth': 2}. Best is trial 2 with value: 0.7180950381482404.\u001b[0m\n"
     ]
    },
    {
     "name": "stdout",
     "output_type": "stream",
     "text": [
      "[14:19:46] WARNING: C:/Users/Administrator/workspace/xgboost-win64_release_1.4.0/src/learner.cc:231: Only 1 GPUs are visible, setting `gpu_id` to 0\n",
      "[0]\tvalidation_0-rmse:7.62758\n",
      "[1000]\tvalidation_0-rmse:0.73462\n",
      "[2000]\tvalidation_0-rmse:0.73168\n",
      "[3000]\tvalidation_0-rmse:0.73013\n",
      "[4000]\tvalidation_0-rmse:0.72906\n",
      "[5000]\tvalidation_0-rmse:0.72823\n",
      "[6000]\tvalidation_0-rmse:0.72751\n",
      "[6999]\tvalidation_0-rmse:0.72688\n"
     ]
    },
    {
     "name": "stderr",
     "output_type": "stream",
     "text": [
      "\u001b[32m[I 2021-08-28 14:20:32,347]\u001b[0m Trial 3 finished with value: 0.7268818469421027 and parameters: {'learning_rate': 0.019764335528433482, 'reg_lambda': 7.89265402262934e-06, 'reg_alpha': 1.683535120489282, 'subsample': 0.3627432989889756, 'colsample_bytree': 0.7562971583041329, 'max_depth': 1}. Best is trial 2 with value: 0.7180950381482404.\u001b[0m\n"
     ]
    },
    {
     "name": "stdout",
     "output_type": "stream",
     "text": [
      "[14:20:33] WARNING: C:/Users/Administrator/workspace/xgboost-win64_release_1.4.0/src/learner.cc:231: Only 1 GPUs are visible, setting `gpu_id` to 0\n",
      "[0]\tvalidation_0-rmse:6.60742\n",
      "[797]\tvalidation_0-rmse:0.72045\n"
     ]
    },
    {
     "name": "stderr",
     "output_type": "stream",
     "text": [
      "\u001b[32m[I 2021-08-28 14:20:43,850]\u001b[0m Trial 4 finished with value: 0.7199343050968203 and parameters: {'learning_rate': 0.1526105465765036, 'reg_lambda': 0.05576494381254387, 'reg_alpha': 1.6831618283926138e-05, 'subsample': 0.8936476410636216, 'colsample_bytree': 0.4996336303365093, 'max_depth': 4}. Best is trial 2 with value: 0.7180950381482404.\u001b[0m\n"
     ]
    },
    {
     "name": "stdout",
     "output_type": "stream",
     "text": [
      "[14:20:45] WARNING: C:/Users/Administrator/workspace/xgboost-win64_release_1.4.0/src/learner.cc:231: Only 1 GPUs are visible, setting `gpu_id` to 0\n",
      "[0]\tvalidation_0-rmse:7.18798\n",
      "[804]\tvalidation_0-rmse:0.72064\n"
     ]
    },
    {
     "name": "stderr",
     "output_type": "stream",
     "text": [
      "\u001b[32m[I 2021-08-28 14:20:58,383]\u001b[0m Trial 5 finished with value: 0.7202628114134552 and parameters: {'learning_rate': 0.07684695011794476, 'reg_lambda': 12.328366517238187, 'reg_alpha': 1.262656100884597e-06, 'subsample': 0.4896895169251465, 'colsample_bytree': 0.23372953073859956, 'max_depth': 6}. Best is trial 2 with value: 0.7180950381482404.\u001b[0m\n"
     ]
    },
    {
     "name": "stdout",
     "output_type": "stream",
     "text": [
      "[14:20:59] WARNING: C:/Users/Administrator/workspace/xgboost-win64_release_1.4.0/src/learner.cc:231: Only 1 GPUs are visible, setting `gpu_id` to 0\n",
      "[0]\tvalidation_0-rmse:7.29849\n",
      "[1000]\tvalidation_0-rmse:0.72441\n",
      "[2000]\tvalidation_0-rmse:0.72074\n",
      "[3000]\tvalidation_0-rmse:0.71945\n",
      "[4000]\tvalidation_0-rmse:0.71888\n",
      "[5000]\tvalidation_0-rmse:0.71862\n",
      "[6000]\tvalidation_0-rmse:0.71838\n",
      "[6294]\tvalidation_0-rmse:0.71841\n"
     ]
    },
    {
     "name": "stderr",
     "output_type": "stream",
     "text": [
      "\u001b[32m[I 2021-08-28 14:21:55,547]\u001b[0m Trial 6 finished with value: 0.7183760635984664 and parameters: {'learning_rate': 0.06247524319503907, 'reg_lambda': 0.021841886817879755, 'reg_alpha': 24.69049079098235, 'subsample': 0.6474199907886018, 'colsample_bytree': 0.443749115268832, 'max_depth': 2}. Best is trial 2 with value: 0.7180950381482404.\u001b[0m\n"
     ]
    },
    {
     "name": "stdout",
     "output_type": "stream",
     "text": [
      "[14:21:56] WARNING: C:/Users/Administrator/workspace/xgboost-win64_release_1.4.0/src/learner.cc:231: Only 1 GPUs are visible, setting `gpu_id` to 0\n",
      "[0]\tvalidation_0-rmse:7.22293\n",
      "[1000]\tvalidation_0-rmse:0.72430\n",
      "[2000]\tvalidation_0-rmse:0.72103\n",
      "[3000]\tvalidation_0-rmse:0.71968\n",
      "[4000]\tvalidation_0-rmse:0.71915\n",
      "[5000]\tvalidation_0-rmse:0.71884\n",
      "[6000]\tvalidation_0-rmse:0.71866\n",
      "[6999]\tvalidation_0-rmse:0.71856\n"
     ]
    },
    {
     "name": "stderr",
     "output_type": "stream",
     "text": [
      "\u001b[32m[I 2021-08-28 14:23:05,705]\u001b[0m Trial 7 finished with value: 0.7185394466324405 and parameters: {'learning_rate': 0.07230356390362835, 'reg_lambda': 0.09230968736442226, 'reg_alpha': 75.86026302183694, 'subsample': 0.788088910218362, 'colsample_bytree': 0.2557643762335185, 'max_depth': 2}. Best is trial 2 with value: 0.7180950381482404.\u001b[0m\n"
     ]
    },
    {
     "name": "stdout",
     "output_type": "stream",
     "text": [
      "[14:23:06] WARNING: C:/Users/Administrator/workspace/xgboost-win64_release_1.4.0/src/learner.cc:231: Only 1 GPUs are visible, setting `gpu_id` to 0\n",
      "[0]\tvalidation_0-rmse:6.06148\n",
      "[1000]\tvalidation_0-rmse:0.71866\n",
      "[1331]\tvalidation_0-rmse:0.71894\n"
     ]
    },
    {
     "name": "stderr",
     "output_type": "stream",
     "text": [
      "\u001b[32m[I 2021-08-28 14:23:22,885]\u001b[0m Trial 8 finished with value: 0.7186223167264287 and parameters: {'learning_rate': 0.22326595842020086, 'reg_lambda': 0.0010118783601441087, 'reg_alpha': 19.664439650569786, 'subsample': 0.9776430683457699, 'colsample_bytree': 0.6000418724651341, 'max_depth': 3}. Best is trial 2 with value: 0.7180950381482404.\u001b[0m\n"
     ]
    },
    {
     "name": "stdout",
     "output_type": "stream",
     "text": [
      "[14:23:24] WARNING: C:/Users/Administrator/workspace/xgboost-win64_release_1.4.0/src/learner.cc:231: Only 1 GPUs are visible, setting `gpu_id` to 0\n",
      "[0]\tvalidation_0-rmse:7.70089\n",
      "[1000]\tvalidation_0-rmse:0.73246\n",
      "[2000]\tvalidation_0-rmse:0.72876\n",
      "[3000]\tvalidation_0-rmse:0.72640\n",
      "[4000]\tvalidation_0-rmse:0.72483\n",
      "[5000]\tvalidation_0-rmse:0.72377\n",
      "[6000]\tvalidation_0-rmse:0.72300\n",
      "[6999]\tvalidation_0-rmse:0.72239\n"
     ]
    },
    {
     "name": "stderr",
     "output_type": "stream",
     "text": [
      "\u001b[32m[I 2021-08-28 14:24:17,111]\u001b[0m Trial 9 finished with value: 0.72239142429299 and parameters: {'learning_rate': 0.010275043314618508, 'reg_lambda': 3.53134033971755e-08, 'reg_alpha': 1.0200879869869417, 'subsample': 0.19829944160003032, 'colsample_bytree': 0.9143881684475943, 'max_depth': 2}. Best is trial 2 with value: 0.7180950381482404.\u001b[0m\n"
     ]
    },
    {
     "name": "stdout",
     "output_type": "stream",
     "text": [
      "[14:24:18] WARNING: C:/Users/Administrator/workspace/xgboost-win64_release_1.4.0/src/learner.cc:231: Only 1 GPUs are visible, setting `gpu_id` to 0\n",
      "[0]\tvalidation_0-rmse:7.57216\n",
      "[1000]\tvalidation_0-rmse:0.72086\n",
      "[2000]\tvalidation_0-rmse:0.71852\n",
      "[3000]\tvalidation_0-rmse:0.71805\n",
      "[3437]\tvalidation_0-rmse:0.71808\n"
     ]
    },
    {
     "name": "stderr",
     "output_type": "stream",
     "text": [
      "\u001b[32m[I 2021-08-28 14:25:05,982]\u001b[0m Trial 10 finished with value: 0.7180420656045977 and parameters: {'learning_rate': 0.026957788777446756, 'reg_lambda': 26.280411764723215, 'reg_alpha': 2.0348533120292422e-08, 'subsample': 0.6484092086550728, 'colsample_bytree': 0.137142362135306, 'max_depth': 5}. Best is trial 10 with value: 0.7180420656045977.\u001b[0m\n"
     ]
    },
    {
     "name": "stdout",
     "output_type": "stream",
     "text": [
      "[14:25:07] WARNING: C:/Users/Administrator/workspace/xgboost-win64_release_1.4.0/src/learner.cc:231: Only 1 GPUs are visible, setting `gpu_id` to 0\n",
      "[0]\tvalidation_0-rmse:7.60473\n",
      "[1000]\tvalidation_0-rmse:0.72274\n",
      "[2000]\tvalidation_0-rmse:0.71901\n",
      "[3000]\tvalidation_0-rmse:0.71809\n",
      "[4000]\tvalidation_0-rmse:0.71788\n",
      "[4135]\tvalidation_0-rmse:0.71787\n"
     ]
    },
    {
     "name": "stderr",
     "output_type": "stream",
     "text": [
      "\u001b[32m[I 2021-08-28 14:26:04,834]\u001b[0m Trial 11 finished with value: 0.7178610648383343 and parameters: {'learning_rate': 0.02273637532440456, 'reg_lambda': 75.6742166947792, 'reg_alpha': 3.8508691762284186e-08, 'subsample': 0.6276311534880507, 'colsample_bytree': 0.10554770074232628, 'max_depth': 5}. Best is trial 11 with value: 0.7178610648383343.\u001b[0m\n"
     ]
    },
    {
     "name": "stdout",
     "output_type": "stream",
     "text": [
      "[14:26:06] WARNING: C:/Users/Administrator/workspace/xgboost-win64_release_1.4.0/src/learner.cc:231: Only 1 GPUs are visible, setting `gpu_id` to 0\n",
      "[0]\tvalidation_0-rmse:7.59247\n",
      "[1000]\tvalidation_0-rmse:0.71970\n",
      "[2000]\tvalidation_0-rmse:0.71818\n",
      "[2555]\tvalidation_0-rmse:0.71813\n"
     ]
    },
    {
     "name": "stderr",
     "output_type": "stream",
     "text": [
      "\u001b[32m[I 2021-08-28 14:27:03,963]\u001b[0m Trial 12 finished with value: 0.7180594328744017 and parameters: {'learning_rate': 0.024332284145920303, 'reg_lambda': 83.39057854613138, 'reg_alpha': 1.11954372405323e-08, 'subsample': 0.7025251976831924, 'colsample_bytree': 0.11967161407817428, 'max_depth': 7}. Best is trial 11 with value: 0.7178610648383343.\u001b[0m\n"
     ]
    },
    {
     "name": "stdout",
     "output_type": "stream",
     "text": [
      "[14:27:05] WARNING: C:/Users/Administrator/workspace/xgboost-win64_release_1.4.0/src/learner.cc:231: Only 1 GPUs are visible, setting `gpu_id` to 0\n",
      "[0]\tvalidation_0-rmse:7.54903\n",
      "[1000]\tvalidation_0-rmse:0.72074\n",
      "[2000]\tvalidation_0-rmse:0.71896\n",
      "[3000]\tvalidation_0-rmse:0.71877\n",
      "[3207]\tvalidation_0-rmse:0.71883\n"
     ]
    },
    {
     "name": "stderr",
     "output_type": "stream",
     "text": [
      "\u001b[32m[I 2021-08-28 14:27:51,368]\u001b[0m Trial 13 finished with value: 0.7187555687094465 and parameters: {'learning_rate': 0.02997484358943349, 'reg_lambda': 98.45351928212295, 'reg_alpha': 1.69529385316211e-08, 'subsample': 0.6718129719838888, 'colsample_bytree': 0.36787749995420793, 'max_depth': 5}. Best is trial 11 with value: 0.7178610648383343.\u001b[0m\n"
     ]
    },
    {
     "name": "stdout",
     "output_type": "stream",
     "text": [
      "[14:27:52] WARNING: C:/Users/Administrator/workspace/xgboost-win64_release_1.4.0/src/learner.cc:231: Only 1 GPUs are visible, setting `gpu_id` to 0\n",
      "[0]\tvalidation_0-rmse:7.67772\n",
      "[1000]\tvalidation_0-rmse:0.72584\n",
      "[2000]\tvalidation_0-rmse:0.72105\n",
      "[3000]\tvalidation_0-rmse:0.71936\n",
      "[4000]\tvalidation_0-rmse:0.71859\n",
      "[5000]\tvalidation_0-rmse:0.71825\n",
      "[6000]\tvalidation_0-rmse:0.71808\n",
      "[6999]\tvalidation_0-rmse:0.71798\n"
     ]
    },
    {
     "name": "stderr",
     "output_type": "stream",
     "text": [
      "\u001b[32m[I 2021-08-28 14:29:35,720]\u001b[0m Trial 14 finished with value: 0.7179745464511641 and parameters: {'learning_rate': 0.01325288752996763, 'reg_lambda': 0.0001418939972175227, 'reg_alpha': 6.276742485077842e-07, 'subsample': 0.7847111289690015, 'colsample_bytree': 0.11417608958503733, 'max_depth': 5}. Best is trial 11 with value: 0.7178610648383343.\u001b[0m\n"
     ]
    },
    {
     "name": "stdout",
     "output_type": "stream",
     "text": [
      "[14:29:36] WARNING: C:/Users/Administrator/workspace/xgboost-win64_release_1.4.0/src/learner.cc:231: Only 1 GPUs are visible, setting `gpu_id` to 0\n",
      "[0]\tvalidation_0-rmse:7.69484\n",
      "[1000]\tvalidation_0-rmse:0.72507\n",
      "[2000]\tvalidation_0-rmse:0.72158\n",
      "[3000]\tvalidation_0-rmse:0.71999\n",
      "[4000]\tvalidation_0-rmse:0.71926\n",
      "[5000]\tvalidation_0-rmse:0.71886\n",
      "[6000]\tvalidation_0-rmse:0.71872\n",
      "[6452]\tvalidation_0-rmse:0.71872\n"
     ]
    },
    {
     "name": "stderr",
     "output_type": "stream",
     "text": [
      "\u001b[32m[I 2021-08-28 14:31:15,014]\u001b[0m Trial 15 finished with value: 0.7186956880493078 and parameters: {'learning_rate': 0.011058080393615092, 'reg_lambda': 4.83202842814471e-05, 'reg_alpha': 1.685511048075312e-06, 'subsample': 0.8373517505216403, 'colsample_bytree': 0.3654763539301117, 'max_depth': 5}. Best is trial 11 with value: 0.7178610648383343.\u001b[0m\n"
     ]
    },
    {
     "name": "stdout",
     "output_type": "stream",
     "text": [
      "[14:31:16] WARNING: C:/Users/Administrator/workspace/xgboost-win64_release_1.4.0/src/learner.cc:231: Only 1 GPUs are visible, setting `gpu_id` to 0\n",
      "[0]\tvalidation_0-rmse:7.66101\n",
      "[1000]\tvalidation_0-rmse:0.72549\n",
      "[2000]\tvalidation_0-rmse:0.72171\n",
      "[3000]\tvalidation_0-rmse:0.72002\n",
      "[4000]\tvalidation_0-rmse:0.71917\n",
      "[5000]\tvalidation_0-rmse:0.71878\n",
      "[6000]\tvalidation_0-rmse:0.71857\n",
      "[6555]\tvalidation_0-rmse:0.71854\n"
     ]
    },
    {
     "name": "stderr",
     "output_type": "stream",
     "text": [
      "\u001b[32m[I 2021-08-28 14:32:38,335]\u001b[0m Trial 16 finished with value: 0.7185293337041339 and parameters: {'learning_rate': 0.015456651978688259, 'reg_lambda': 3.5994122000771626e-06, 'reg_alpha': 0.00016580789765077489, 'subsample': 0.7603793550856528, 'colsample_bytree': 0.6140416572140861, 'max_depth': 4}. Best is trial 11 with value: 0.7178610648383343.\u001b[0m\n"
     ]
    },
    {
     "name": "stdout",
     "output_type": "stream",
     "text": [
      "[14:32:39] WARNING: C:/Users/Administrator/workspace/xgboost-win64_release_1.4.0/src/learner.cc:231: Only 1 GPUs are visible, setting `gpu_id` to 0\n",
      "[0]\tvalidation_0-rmse:7.47382\n",
      "[1000]\tvalidation_0-rmse:0.72008\n",
      "[1142]\tvalidation_0-rmse:0.72019\n"
     ]
    },
    {
     "name": "stderr",
     "output_type": "stream",
     "text": [
      "\u001b[32m[I 2021-08-28 14:33:09,123]\u001b[0m Trial 17 finished with value: 0.7199451001495428 and parameters: {'learning_rate': 0.03971341259111113, 'reg_lambda': 0.0018551376798860897, 'reg_alpha': 5.67674089037877e-07, 'subsample': 0.9977392852108597, 'colsample_bytree': 0.31992460110672877, 'max_depth': 7}. Best is trial 11 with value: 0.7178610648383343.\u001b[0m\n"
     ]
    },
    {
     "name": "stdout",
     "output_type": "stream",
     "text": [
      "[14:33:10] WARNING: C:/Users/Administrator/workspace/xgboost-win64_release_1.4.0/src/learner.cc:231: Only 1 GPUs are visible, setting `gpu_id` to 0\n",
      "[0]\tvalidation_0-rmse:7.66083\n",
      "[1000]\tvalidation_0-rmse:0.72244\n",
      "[2000]\tvalidation_0-rmse:0.72059\n",
      "[2675]\tvalidation_0-rmse:0.72043\n"
     ]
    },
    {
     "name": "stderr",
     "output_type": "stream",
     "text": [
      "\u001b[32m[I 2021-08-28 14:34:00,647]\u001b[0m Trial 18 finished with value: 0.7203577325859933 and parameters: {'learning_rate': 0.015483247762696738, 'reg_lambda': 2.6316916266421898e-08, 'reg_alpha': 1.4805845734741515e-07, 'subsample': 0.4635513463383397, 'colsample_bytree': 0.7249194006658298, 'max_depth': 6}. Best is trial 11 with value: 0.7178610648383343.\u001b[0m\n"
     ]
    },
    {
     "name": "stdout",
     "output_type": "stream",
     "text": [
      "[14:34:01] WARNING: C:/Users/Administrator/workspace/xgboost-win64_release_1.4.0/src/learner.cc:231: Only 1 GPUs are visible, setting `gpu_id` to 0\n",
      "[0]\tvalidation_0-rmse:7.66239\n",
      "[1000]\tvalidation_0-rmse:0.72573\n",
      "[2000]\tvalidation_0-rmse:0.72200\n",
      "[3000]\tvalidation_0-rmse:0.72024\n",
      "[4000]\tvalidation_0-rmse:0.71936\n",
      "[5000]\tvalidation_0-rmse:0.71899\n",
      "[6000]\tvalidation_0-rmse:0.71876\n",
      "[6999]\tvalidation_0-rmse:0.71866\n"
     ]
    },
    {
     "name": "stderr",
     "output_type": "stream",
     "text": [
      "\u001b[32m[I 2021-08-28 14:35:31,444]\u001b[0m Trial 19 finished with value: 0.7186451442190939 and parameters: {'learning_rate': 0.015278127918854982, 'reg_lambda': 5.363829739371881e-05, 'reg_alpha': 2.120890427483648e-05, 'subsample': 0.8698571795269066, 'colsample_bytree': 0.46736817355649046, 'max_depth': 4}. Best is trial 11 with value: 0.7178610648383343.\u001b[0m\n"
     ]
    },
    {
     "name": "stdout",
     "output_type": "stream",
     "text": [
      "[14:35:32] WARNING: C:/Users/Administrator/workspace/xgboost-win64_release_1.4.0/src/learner.cc:231: Only 1 GPUs are visible, setting `gpu_id` to 0\n",
      "[0]\tvalidation_0-rmse:7.48974\n",
      "[1000]\tvalidation_0-rmse:0.72037\n",
      "[2000]\tvalidation_0-rmse:0.71910\n",
      "[2585]\tvalidation_0-rmse:0.71917\n"
     ]
    },
    {
     "name": "stderr",
     "output_type": "stream",
     "text": [
      "\u001b[32m[I 2021-08-28 14:36:03,886]\u001b[0m Trial 20 finished with value: 0.7190420925607361 and parameters: {'learning_rate': 0.03765840299624538, 'reg_lambda': 2.0395579400367228e-07, 'reg_alpha': 0.0015219773855829901, 'subsample': 0.2755827446305383, 'colsample_bytree': 0.1154272632517048, 'max_depth': 5}. Best is trial 11 with value: 0.7178610648383343.\u001b[0m\n"
     ]
    },
    {
     "name": "stdout",
     "output_type": "stream",
     "text": [
      "[14:36:05] WARNING: C:/Users/Administrator/workspace/xgboost-win64_release_1.4.0/src/learner.cc:231: Only 1 GPUs are visible, setting `gpu_id` to 0\n",
      "[0]\tvalidation_0-rmse:7.60232\n",
      "[1000]\tvalidation_0-rmse:0.72202\n",
      "[2000]\tvalidation_0-rmse:0.71889\n",
      "[3000]\tvalidation_0-rmse:0.71826\n",
      "[3889]\tvalidation_0-rmse:0.71818\n"
     ]
    },
    {
     "name": "stderr",
     "output_type": "stream",
     "text": [
      "\u001b[32m[I 2021-08-28 14:36:57,422]\u001b[0m Trial 21 finished with value: 0.7181219900550494 and parameters: {'learning_rate': 0.02303822188261489, 'reg_lambda': 2.072931451063151, 'reg_alpha': 8.043005941159638e-08, 'subsample': 0.5729363977897634, 'colsample_bytree': 0.10959003391785903, 'max_depth': 5}. Best is trial 11 with value: 0.7178610648383343.\u001b[0m\n"
     ]
    },
    {
     "name": "stdout",
     "output_type": "stream",
     "text": [
      "[14:36:58] WARNING: C:/Users/Administrator/workspace/xgboost-win64_release_1.4.0/src/learner.cc:231: Only 1 GPUs are visible, setting `gpu_id` to 0\n",
      "[0]\tvalidation_0-rmse:7.54262\n",
      "[1000]\tvalidation_0-rmse:0.71927\n",
      "[1776]\tvalidation_0-rmse:0.71886\n"
     ]
    },
    {
     "name": "stderr",
     "output_type": "stream",
     "text": [
      "\u001b[32m[I 2021-08-28 14:37:29,714]\u001b[0m Trial 22 finished with value: 0.7187843976239574 and parameters: {'learning_rate': 0.030779865962021948, 'reg_lambda': 0.003223725497715576, 'reg_alpha': 7.474607559186838e-08, 'subsample': 0.6022183363767295, 'colsample_bytree': 0.19376210179767792, 'max_depth': 6}. Best is trial 11 with value: 0.7178610648383343.\u001b[0m\n"
     ]
    },
    {
     "name": "stdout",
     "output_type": "stream",
     "text": [
      "[14:37:31] WARNING: C:/Users/Administrator/workspace/xgboost-win64_release_1.4.0/src/learner.cc:231: Only 1 GPUs are visible, setting `gpu_id` to 0\n",
      "[0]\tvalidation_0-rmse:7.62288\n",
      "[1000]\tvalidation_0-rmse:0.72173\n",
      "[2000]\tvalidation_0-rmse:0.71942\n",
      "[3000]\tvalidation_0-rmse:0.71879\n",
      "[3804]\tvalidation_0-rmse:0.71876\n"
     ]
    },
    {
     "name": "stderr",
     "output_type": "stream",
     "text": [
      "\u001b[32m[I 2021-08-28 14:38:26,631]\u001b[0m Trial 23 finished with value: 0.7187275165579098 and parameters: {'learning_rate': 0.020371648824187787, 'reg_lambda': 0.00014157094696934022, 'reg_alpha': 3.897774117182861e-06, 'subsample': 0.7232570175484901, 'colsample_bytree': 0.31900154281084236, 'max_depth': 5}. Best is trial 11 with value: 0.7178610648383343.\u001b[0m\n"
     ]
    },
    {
     "name": "stdout",
     "output_type": "stream",
     "text": [
      "[14:38:27] WARNING: C:/Users/Administrator/workspace/xgboost-win64_release_1.4.0/src/learner.cc:231: Only 1 GPUs are visible, setting `gpu_id` to 0\n",
      "[0]\tvalidation_0-rmse:7.67177\n",
      "[1000]\tvalidation_0-rmse:0.72594\n",
      "[2000]\tvalidation_0-rmse:0.72172\n",
      "[3000]\tvalidation_0-rmse:0.71988\n",
      "[4000]\tvalidation_0-rmse:0.71896\n",
      "[5000]\tvalidation_0-rmse:0.71842\n",
      "[6000]\tvalidation_0-rmse:0.71809\n",
      "[6999]\tvalidation_0-rmse:0.71791\n"
     ]
    },
    {
     "name": "stderr",
     "output_type": "stream",
     "text": [
      "\u001b[32m[I 2021-08-28 14:39:49,522]\u001b[0m Trial 24 finished with value: 0.7179099249074592 and parameters: {'learning_rate': 0.014023758508485185, 'reg_lambda': 1.6841318704733976, 'reg_alpha': 2.3370895746591518e-07, 'subsample': 0.6395212197986041, 'colsample_bytree': 0.16332460663753368, 'max_depth': 4}. Best is trial 11 with value: 0.7178610648383343.\u001b[0m\n"
     ]
    },
    {
     "name": "stdout",
     "output_type": "stream",
     "text": [
      "[14:39:50] WARNING: C:/Users/Administrator/workspace/xgboost-win64_release_1.4.0/src/learner.cc:231: Only 1 GPUs are visible, setting `gpu_id` to 0\n",
      "[0]\tvalidation_0-rmse:7.67511\n",
      "[1000]\tvalidation_0-rmse:0.72589\n",
      "[2000]\tvalidation_0-rmse:0.72187\n",
      "[3000]\tvalidation_0-rmse:0.72006\n",
      "[4000]\tvalidation_0-rmse:0.71906\n",
      "[5000]\tvalidation_0-rmse:0.71854\n",
      "[6000]\tvalidation_0-rmse:0.71817\n",
      "[6999]\tvalidation_0-rmse:0.71802\n"
     ]
    },
    {
     "name": "stderr",
     "output_type": "stream",
     "text": [
      "\u001b[32m[I 2021-08-28 14:41:16,490]\u001b[0m Trial 25 finished with value: 0.7180171992748324 and parameters: {'learning_rate': 0.013591408217235113, 'reg_lambda': 1.2732549750265887, 'reg_alpha': 1.927324458031267e-05, 'subsample': 0.7744338599275429, 'colsample_bytree': 0.1845886033897663, 'max_depth': 4}. Best is trial 11 with value: 0.7178610648383343.\u001b[0m\n"
     ]
    },
    {
     "name": "stdout",
     "output_type": "stream",
     "text": [
      "[14:41:17] WARNING: C:/Users/Administrator/workspace/xgboost-win64_release_1.4.0/src/learner.cc:231: Only 1 GPUs are visible, setting `gpu_id` to 0\n",
      "[0]\tvalidation_0-rmse:7.67718\n",
      "[1000]\tvalidation_0-rmse:0.72840\n",
      "[2000]\tvalidation_0-rmse:0.72446\n",
      "[3000]\tvalidation_0-rmse:0.72221\n",
      "[4000]\tvalidation_0-rmse:0.72085\n",
      "[5000]\tvalidation_0-rmse:0.71996\n",
      "[6000]\tvalidation_0-rmse:0.71941\n",
      "[6999]\tvalidation_0-rmse:0.71906\n"
     ]
    },
    {
     "name": "stderr",
     "output_type": "stream",
     "text": [
      "\u001b[32m[I 2021-08-28 14:42:25,118]\u001b[0m Trial 26 finished with value: 0.7190573164833277 and parameters: {'learning_rate': 0.01332104353887454, 'reg_lambda': 0.010306626903970335, 'reg_alpha': 0.0002090838552837661, 'subsample': 0.4959758511777358, 'colsample_bytree': 0.30035602091511554, 'max_depth': 3}. Best is trial 11 with value: 0.7178610648383343.\u001b[0m\n"
     ]
    },
    {
     "name": "stdout",
     "output_type": "stream",
     "text": [
      "[14:42:26] WARNING: C:/Users/Administrator/workspace/xgboost-win64_release_1.4.0/src/learner.cc:231: Only 1 GPUs are visible, setting `gpu_id` to 0\n",
      "[0]\tvalidation_0-rmse:7.63185\n",
      "[1000]\tvalidation_0-rmse:0.72657\n",
      "[2000]\tvalidation_0-rmse:0.72272\n",
      "[3000]\tvalidation_0-rmse:0.72070\n",
      "[4000]\tvalidation_0-rmse:0.71952\n",
      "[5000]\tvalidation_0-rmse:0.71890\n",
      "[6000]\tvalidation_0-rmse:0.71841\n",
      "[6999]\tvalidation_0-rmse:0.71814\n"
     ]
    },
    {
     "name": "stderr",
     "output_type": "stream",
     "text": [
      "\u001b[32m[I 2021-08-28 14:43:45,681]\u001b[0m Trial 27 finished with value: 0.7181413427228538 and parameters: {'learning_rate': 0.019205275105660592, 'reg_lambda': 4.101896251683885, 'reg_alpha': 3.55127453093064e-07, 'subsample': 0.9297633001275454, 'colsample_bytree': 0.2011087565704327, 'max_depth': 3}. Best is trial 11 with value: 0.7178610648383343.\u001b[0m\n"
     ]
    },
    {
     "name": "stdout",
     "output_type": "stream",
     "text": [
      "[14:43:46] WARNING: C:/Users/Administrator/workspace/xgboost-win64_release_1.4.0/src/learner.cc:231: Only 1 GPUs are visible, setting `gpu_id` to 0\n",
      "[0]\tvalidation_0-rmse:7.70281\n",
      "[1000]\tvalidation_0-rmse:0.72797\n",
      "[2000]\tvalidation_0-rmse:0.72405\n",
      "[3000]\tvalidation_0-rmse:0.72185\n",
      "[4000]\tvalidation_0-rmse:0.72059\n",
      "[5000]\tvalidation_0-rmse:0.71980\n",
      "[6000]\tvalidation_0-rmse:0.71929\n",
      "[6999]\tvalidation_0-rmse:0.71894\n"
     ]
    },
    {
     "name": "stderr",
     "output_type": "stream",
     "text": [
      "\u001b[32m[I 2021-08-28 14:45:16,353]\u001b[0m Trial 28 finished with value: 0.7189405068267767 and parameters: {'learning_rate': 0.010020988211580867, 'reg_lambda': 2.0155062968704276e-06, 'reg_alpha': 2.765679648403558e-06, 'subsample': 0.8282165808581495, 'colsample_bytree': 0.3929284217440493, 'max_depth': 4}. Best is trial 11 with value: 0.7178610648383343.\u001b[0m\n"
     ]
    },
    {
     "name": "stdout",
     "output_type": "stream",
     "text": [
      "[14:45:17] WARNING: C:/Users/Administrator/workspace/xgboost-win64_release_1.4.0/src/learner.cc:231: Only 1 GPUs are visible, setting `gpu_id` to 0\n",
      "[0]\tvalidation_0-rmse:7.47651\n",
      "[1000]\tvalidation_0-rmse:0.71957\n",
      "[1491]\tvalidation_0-rmse:0.71978\n"
     ]
    },
    {
     "name": "stderr",
     "output_type": "stream",
     "text": [
      "\u001b[32m[I 2021-08-28 14:45:43,703]\u001b[0m Trial 29 finished with value: 0.71942818321642 and parameters: {'learning_rate': 0.039362743053631334, 'reg_lambda': 0.0003375008122653324, 'reg_alpha': 0.012301872719458937, 'subsample': 0.5998663440354823, 'colsample_bytree': 0.2928658233054279, 'max_depth': 6}. Best is trial 11 with value: 0.7178610648383343.\u001b[0m\n"
     ]
    },
    {
     "name": "stdout",
     "output_type": "stream",
     "text": [
      "[14:45:44] WARNING: C:/Users/Administrator/workspace/xgboost-win64_release_1.4.0/src/learner.cc:231: Only 1 GPUs are visible, setting `gpu_id` to 0\n",
      "[0]\tvalidation_0-rmse:7.64384\n",
      "[1000]\tvalidation_0-rmse:0.72169\n",
      "[1875]\tvalidation_0-rmse:0.72114\n"
     ]
    },
    {
     "name": "stderr",
     "output_type": "stream",
     "text": [
      "\u001b[32m[I 2021-08-28 14:46:35,171]\u001b[0m Trial 30 finished with value: 0.721036477964882 and parameters: {'learning_rate': 0.017697469346923966, 'reg_lambda': 0.2858525955144778, 'reg_alpha': 1.6329712875366884e-07, 'subsample': 0.39794211596535917, 'colsample_bytree': 0.9867252910141275, 'max_depth': 7}. Best is trial 11 with value: 0.7178610648383343.\u001b[0m\n"
     ]
    },
    {
     "name": "stdout",
     "output_type": "stream",
     "text": [
      "[14:46:36] WARNING: C:/Users/Administrator/workspace/xgboost-win64_release_1.4.0/src/learner.cc:231: Only 1 GPUs are visible, setting `gpu_id` to 0\n",
      "[0]\tvalidation_0-rmse:7.68013\n",
      "[1000]\tvalidation_0-rmse:0.72637\n",
      "[2000]\tvalidation_0-rmse:0.72213\n",
      "[3000]\tvalidation_0-rmse:0.72021\n",
      "[4000]\tvalidation_0-rmse:0.71919\n",
      "[5000]\tvalidation_0-rmse:0.71860\n",
      "[6000]\tvalidation_0-rmse:0.71818\n",
      "[6999]\tvalidation_0-rmse:0.71795\n"
     ]
    },
    {
     "name": "stderr",
     "output_type": "stream",
     "text": [
      "\u001b[32m[I 2021-08-28 14:48:01,469]\u001b[0m Trial 31 finished with value: 0.7179447802426777 and parameters: {'learning_rate': 0.012939627580299628, 'reg_lambda': 0.7829849884621094, 'reg_alpha': 1.534924033056081e-05, 'subsample': 0.7542403213040296, 'colsample_bytree': 0.17188275956640842, 'max_depth': 4}. Best is trial 11 with value: 0.7178610648383343.\u001b[0m\n"
     ]
    },
    {
     "name": "stdout",
     "output_type": "stream",
     "text": [
      "[14:48:02] WARNING: C:/Users/Administrator/workspace/xgboost-win64_release_1.4.0/src/learner.cc:231: Only 1 GPUs are visible, setting `gpu_id` to 0\n",
      "[0]\tvalidation_0-rmse:7.67853\n",
      "[1000]\tvalidation_0-rmse:0.72811\n",
      "[2000]\tvalidation_0-rmse:0.72307\n",
      "[3000]\tvalidation_0-rmse:0.72078\n",
      "[4000]\tvalidation_0-rmse:0.71948\n",
      "[5000]\tvalidation_0-rmse:0.71881\n",
      "[6000]\tvalidation_0-rmse:0.71837\n",
      "[6999]\tvalidation_0-rmse:0.71811\n"
     ]
    },
    {
     "name": "stderr",
     "output_type": "stream",
     "text": [
      "\u001b[32m[I 2021-08-28 14:49:27,533]\u001b[0m Trial 32 finished with value: 0.7181140835661337 and parameters: {'learning_rate': 0.013147584733275161, 'reg_lambda': 0.4772651347187294, 'reg_alpha': 5.855839561766577e-06, 'subsample': 0.7086218260148882, 'colsample_bytree': 0.10065355609631943, 'max_depth': 4}. Best is trial 11 with value: 0.7178610648383343.\u001b[0m\n"
     ]
    },
    {
     "name": "stdout",
     "output_type": "stream",
     "text": [
      "[14:49:28] WARNING: C:/Users/Administrator/workspace/xgboost-win64_release_1.4.0/src/learner.cc:231: Only 1 GPUs are visible, setting `gpu_id` to 0\n",
      "[0]\tvalidation_0-rmse:6.98785\n",
      "[985]\tvalidation_0-rmse:0.71897\n"
     ]
    },
    {
     "name": "stderr",
     "output_type": "stream",
     "text": [
      "\u001b[32m[I 2021-08-28 14:49:43,365]\u001b[0m Trial 33 finished with value: 0.7186523753765863 and parameters: {'learning_rate': 0.10284695962829576, 'reg_lambda': 13.675653672648528, 'reg_alpha': 0.00012349407610857374, 'subsample': 0.743621317634668, 'colsample_bytree': 0.17544325269847327, 'max_depth': 5}. Best is trial 11 with value: 0.7178610648383343.\u001b[0m\n"
     ]
    },
    {
     "name": "stdout",
     "output_type": "stream",
     "text": [
      "[14:49:44] WARNING: C:/Users/Administrator/workspace/xgboost-win64_release_1.4.0/src/learner.cc:231: Only 1 GPUs are visible, setting `gpu_id` to 0\n",
      "[0]\tvalidation_0-rmse:7.68621\n",
      "[1000]\tvalidation_0-rmse:0.72936\n",
      "[2000]\tvalidation_0-rmse:0.72514\n",
      "[3000]\tvalidation_0-rmse:0.72275\n",
      "[4000]\tvalidation_0-rmse:0.72127\n",
      "[5000]\tvalidation_0-rmse:0.72028\n",
      "[6000]\tvalidation_0-rmse:0.71960\n",
      "[6999]\tvalidation_0-rmse:0.71914\n"
     ]
    },
    {
     "name": "stderr",
     "output_type": "stream",
     "text": [
      "\u001b[32m[I 2021-08-28 14:50:53,540]\u001b[0m Trial 34 finished with value: 0.7191429841023046 and parameters: {'learning_rate': 0.012150360707155266, 'reg_lambda': 2.333475657293319, 'reg_alpha': 5.165259313599611e-07, 'subsample': 0.551023715968384, 'colsample_bytree': 0.245782670000746, 'max_depth': 3}. Best is trial 11 with value: 0.7178610648383343.\u001b[0m\n"
     ]
    },
    {
     "name": "stdout",
     "output_type": "stream",
     "text": [
      "[14:50:54] WARNING: C:/Users/Administrator/workspace/xgboost-win64_release_1.4.0/src/learner.cc:231: Only 1 GPUs are visible, setting `gpu_id` to 0\n",
      "[0]\tvalidation_0-rmse:7.64255\n",
      "[1000]\tvalidation_0-rmse:0.72418\n",
      "[2000]\tvalidation_0-rmse:0.72054\n",
      "[3000]\tvalidation_0-rmse:0.71913\n",
      "[4000]\tvalidation_0-rmse:0.71845\n",
      "[5000]\tvalidation_0-rmse:0.71810\n",
      "[6000]\tvalidation_0-rmse:0.71795\n",
      "[6720]\tvalidation_0-rmse:0.71792\n"
     ]
    },
    {
     "name": "stderr",
     "output_type": "stream",
     "text": [
      "\u001b[32m[I 2021-08-28 14:52:12,811]\u001b[0m Trial 35 finished with value: 0.7178920501364463 and parameters: {'learning_rate': 0.017814799917621617, 'reg_lambda': 0.00990667450193555, 'reg_alpha': 5.1670172545801694e-08, 'subsample': 0.6292748893324309, 'colsample_bytree': 0.15361297465047147, 'max_depth': 4}. Best is trial 11 with value: 0.7178610648383343.\u001b[0m\n"
     ]
    },
    {
     "name": "stdout",
     "output_type": "stream",
     "text": [
      "[14:52:14] WARNING: C:/Users/Administrator/workspace/xgboost-win64_release_1.4.0/src/learner.cc:231: Only 1 GPUs are visible, setting `gpu_id` to 0\n",
      "[0]\tvalidation_0-rmse:7.64968\n",
      "[1000]\tvalidation_0-rmse:0.72733\n",
      "[2000]\tvalidation_0-rmse:0.72308\n",
      "[3000]\tvalidation_0-rmse:0.72104\n",
      "[4000]\tvalidation_0-rmse:0.71988\n",
      "[5000]\tvalidation_0-rmse:0.71917\n",
      "[6000]\tvalidation_0-rmse:0.71869\n",
      "[6999]\tvalidation_0-rmse:0.71834\n"
     ]
    },
    {
     "name": "stderr",
     "output_type": "stream",
     "text": [
      "\u001b[32m[I 2021-08-28 14:53:24,545]\u001b[0m Trial 36 finished with value: 0.7183426791969152 and parameters: {'learning_rate': 0.016889303156594742, 'reg_lambda': 0.2693613723839698, 'reg_alpha': 3.565537353768584e-08, 'subsample': 0.6314886012864332, 'colsample_bytree': 0.16210756666625992, 'max_depth': 3}. Best is trial 11 with value: 0.7178610648383343.\u001b[0m\n"
     ]
    },
    {
     "name": "stdout",
     "output_type": "stream",
     "text": [
      "[14:53:25] WARNING: C:/Users/Administrator/workspace/xgboost-win64_release_1.4.0/src/learner.cc:231: Only 1 GPUs are visible, setting `gpu_id` to 0\n",
      "[0]\tvalidation_0-rmse:7.61249\n",
      "[1000]\tvalidation_0-rmse:0.72298\n",
      "[2000]\tvalidation_0-rmse:0.71992\n",
      "[3000]\tvalidation_0-rmse:0.71884\n",
      "[4000]\tvalidation_0-rmse:0.71847\n",
      "[5000]\tvalidation_0-rmse:0.71838\n",
      "[5430]\tvalidation_0-rmse:0.71841\n"
     ]
    },
    {
     "name": "stderr",
     "output_type": "stream",
     "text": [
      "\u001b[32m[I 2021-08-28 14:54:25,865]\u001b[0m Trial 37 finished with value: 0.7183468075698027 and parameters: {'learning_rate': 0.021716678738597953, 'reg_lambda': 0.024539562887106053, 'reg_alpha': 6.357960773902495e-05, 'subsample': 0.5173740334139886, 'colsample_bytree': 0.24231917217569718, 'max_depth': 4}. Best is trial 11 with value: 0.7178610648383343.\u001b[0m\n"
     ]
    },
    {
     "name": "stdout",
     "output_type": "stream",
     "text": [
      "[14:54:27] WARNING: C:/Users/Administrator/workspace/xgboost-win64_release_1.4.0/src/learner.cc:231: Only 1 GPUs are visible, setting `gpu_id` to 0\n",
      "[0]\tvalidation_0-rmse:7.39546\n",
      "[1000]\tvalidation_0-rmse:0.73118\n",
      "[2000]\tvalidation_0-rmse:0.72877\n",
      "[3000]\tvalidation_0-rmse:0.72727\n",
      "[4000]\tvalidation_0-rmse:0.72618\n",
      "[5000]\tvalidation_0-rmse:0.72539\n",
      "[6000]\tvalidation_0-rmse:0.72472\n",
      "[6999]\tvalidation_0-rmse:0.72420\n"
     ]
    },
    {
     "name": "stderr",
     "output_type": "stream",
     "text": [
      "\u001b[32m[I 2021-08-28 14:55:14,804]\u001b[0m Trial 38 finished with value: 0.7241883796146854 and parameters: {'learning_rate': 0.049900370794710054, 'reg_lambda': 6.9638702313771255, 'reg_alpha': 0.0010069861735053582, 'subsample': 0.43726390924031683, 'colsample_bytree': 0.21481148605546913, 'max_depth': 1}. Best is trial 11 with value: 0.7178610648383343.\u001b[0m\n"
     ]
    },
    {
     "name": "stdout",
     "output_type": "stream",
     "text": [
      "[14:55:16] WARNING: C:/Users/Administrator/workspace/xgboost-win64_release_1.4.0/src/learner.cc:231: Only 1 GPUs are visible, setting `gpu_id` to 0\n",
      "[0]\tvalidation_0-rmse:7.53832\n",
      "[1000]\tvalidation_0-rmse:0.72168\n",
      "[2000]\tvalidation_0-rmse:0.71923\n",
      "[3000]\tvalidation_0-rmse:0.71888\n",
      "[3271]\tvalidation_0-rmse:0.71890\n"
     ]
    },
    {
     "name": "stderr",
     "output_type": "stream",
     "text": [
      "\u001b[32m[I 2021-08-28 14:55:50,419]\u001b[0m Trial 39 finished with value: 0.7188312973564469 and parameters: {'learning_rate': 0.03136910722646749, 'reg_lambda': 29.13857481775392, 'reg_alpha': 6.620986261041988e-08, 'subsample': 0.32515275881830397, 'colsample_bytree': 0.28388874082336857, 'max_depth': 4}. Best is trial 11 with value: 0.7178610648383343.\u001b[0m\n"
     ]
    },
    {
     "name": "stdout",
     "output_type": "stream",
     "text": [
      "[14:55:51] WARNING: C:/Users/Administrator/workspace/xgboost-win64_release_1.4.0/src/learner.cc:231: Only 1 GPUs are visible, setting `gpu_id` to 0\n",
      "[0]\tvalidation_0-rmse:7.63608\n",
      "[1000]\tvalidation_0-rmse:0.72696\n",
      "[2000]\tvalidation_0-rmse:0.72293\n",
      "[3000]\tvalidation_0-rmse:0.72098\n",
      "[4000]\tvalidation_0-rmse:0.71995\n",
      "[5000]\tvalidation_0-rmse:0.71936\n",
      "[6000]\tvalidation_0-rmse:0.71897\n",
      "[6999]\tvalidation_0-rmse:0.71879\n"
     ]
    },
    {
     "name": "stderr",
     "output_type": "stream",
     "text": [
      "\u001b[32m[I 2021-08-28 14:57:04,811]\u001b[0m Trial 40 finished with value: 0.71879457963545 and parameters: {'learning_rate': 0.018705807665117067, 'reg_lambda': 0.055163566075843384, 'reg_alpha': 7.504578175901665e-06, 'subsample': 0.675492573446828, 'colsample_bytree': 0.9136865248478213, 'max_depth': 3}. Best is trial 11 with value: 0.7178610648383343.\u001b[0m\n"
     ]
    },
    {
     "name": "stdout",
     "output_type": "stream",
     "text": [
      "[14:57:06] WARNING: C:/Users/Administrator/workspace/xgboost-win64_release_1.4.0/src/learner.cc:231: Only 1 GPUs are visible, setting `gpu_id` to 0\n",
      "[0]\tvalidation_0-rmse:7.68886\n",
      "[1000]\tvalidation_0-rmse:0.72465\n",
      "[2000]\tvalidation_0-rmse:0.72063\n",
      "[3000]\tvalidation_0-rmse:0.71920\n",
      "[4000]\tvalidation_0-rmse:0.71852\n",
      "[5000]\tvalidation_0-rmse:0.71818\n",
      "[6000]\tvalidation_0-rmse:0.71800\n",
      "[6798]\tvalidation_0-rmse:0.71797\n"
     ]
    },
    {
     "name": "stderr",
     "output_type": "stream",
     "text": [
      "\u001b[32m[I 2021-08-28 14:58:46,593]\u001b[0m Trial 41 finished with value: 0.717963340683786 and parameters: {'learning_rate': 0.01180683927238847, 'reg_lambda': 0.005233806558858101, 'reg_alpha': 6.925008307960135e-07, 'subsample': 0.8253302262724991, 'colsample_bytree': 0.1545480824728666, 'max_depth': 5}. Best is trial 11 with value: 0.7178610648383343.\u001b[0m\n"
     ]
    },
    {
     "name": "stdout",
     "output_type": "stream",
     "text": [
      "[14:58:47] WARNING: C:/Users/Administrator/workspace/xgboost-win64_release_1.4.0/src/learner.cc:231: Only 1 GPUs are visible, setting `gpu_id` to 0\n",
      "[0]\tvalidation_0-rmse:7.68953\n",
      "[1000]\tvalidation_0-rmse:0.72695\n",
      "[2000]\tvalidation_0-rmse:0.72255\n",
      "[3000]\tvalidation_0-rmse:0.72053\n",
      "[4000]\tvalidation_0-rmse:0.71945\n",
      "[5000]\tvalidation_0-rmse:0.71880\n",
      "[6000]\tvalidation_0-rmse:0.71838\n",
      "[6999]\tvalidation_0-rmse:0.71809\n"
     ]
    },
    {
     "name": "stderr",
     "output_type": "stream",
     "text": [
      "\u001b[32m[I 2021-08-28 15:00:15,983]\u001b[0m Trial 42 finished with value: 0.7180899609983161 and parameters: {'learning_rate': 0.011718852797649901, 'reg_lambda': 0.008498701957314848, 'reg_alpha': 2.4589652409613405e-07, 'subsample': 0.8261927454726591, 'colsample_bytree': 0.17402586976287043, 'max_depth': 4}. Best is trial 11 with value: 0.7178610648383343.\u001b[0m\n"
     ]
    },
    {
     "name": "stdout",
     "output_type": "stream",
     "text": [
      "[15:00:17] WARNING: C:/Users/Administrator/workspace/xgboost-win64_release_1.4.0/src/learner.cc:231: Only 1 GPUs are visible, setting `gpu_id` to 0\n",
      "[0]\tvalidation_0-rmse:7.65982\n",
      "[1000]\tvalidation_0-rmse:0.72503\n",
      "[2000]\tvalidation_0-rmse:0.72118\n",
      "[3000]\tvalidation_0-rmse:0.71953\n",
      "[4000]\tvalidation_0-rmse:0.71866\n",
      "[5000]\tvalidation_0-rmse:0.71828\n",
      "[6000]\tvalidation_0-rmse:0.71800\n",
      "[6999]\tvalidation_0-rmse:0.71783\n"
     ]
    },
    {
     "name": "stderr",
     "output_type": "stream",
     "text": [
      "\u001b[32m[I 2021-08-28 15:01:46,095]\u001b[0m Trial 43 finished with value: 0.7178234372028391 and parameters: {'learning_rate': 0.01557412308015863, 'reg_lambda': 0.10466158910774757, 'reg_alpha': 1.5692434074787775e-06, 'subsample': 0.8960268247651217, 'colsample_bytree': 0.1489702504519405, 'max_depth': 4}. Best is trial 43 with value: 0.7178234372028391.\u001b[0m\n"
     ]
    },
    {
     "name": "stdout",
     "output_type": "stream",
     "text": [
      "[15:01:47] WARNING: C:/Users/Administrator/workspace/xgboost-win64_release_1.4.0/src/learner.cc:231: Only 1 GPUs are visible, setting `gpu_id` to 0\n",
      "[0]\tvalidation_0-rmse:7.58237\n",
      "[1000]\tvalidation_0-rmse:0.72229\n",
      "[2000]\tvalidation_0-rmse:0.71955\n",
      "[3000]\tvalidation_0-rmse:0.71852\n",
      "[4000]\tvalidation_0-rmse:0.71816\n",
      "[5000]\tvalidation_0-rmse:0.71810\n",
      "[5145]\tvalidation_0-rmse:0.71810\n"
     ]
    },
    {
     "name": "stderr",
     "output_type": "stream",
     "text": [
      "\u001b[32m[I 2021-08-28 15:02:53,070]\u001b[0m Trial 44 finished with value: 0.718080704653804 and parameters: {'learning_rate': 0.025625540793011308, 'reg_lambda': 0.08627592048089941, 'reg_alpha': 3.0041981000416815e-08, 'subsample': 0.9437789463988818, 'colsample_bytree': 0.22683714594077586, 'max_depth': 4}. Best is trial 43 with value: 0.7178234372028391.\u001b[0m\n"
     ]
    },
    {
     "name": "stdout",
     "output_type": "stream",
     "text": [
      "[15:02:54] WARNING: C:/Users/Administrator/workspace/xgboost-win64_release_1.4.0/src/learner.cc:231: Only 1 GPUs are visible, setting `gpu_id` to 0\n",
      "[0]\tvalidation_0-rmse:7.65680\n",
      "[1000]\tvalidation_0-rmse:0.72771\n",
      "[2000]\tvalidation_0-rmse:0.72358\n",
      "[3000]\tvalidation_0-rmse:0.72145\n",
      "[4000]\tvalidation_0-rmse:0.72027\n",
      "[5000]\tvalidation_0-rmse:0.71955\n",
      "[6000]\tvalidation_0-rmse:0.71906\n",
      "[6999]\tvalidation_0-rmse:0.71872\n"
     ]
    },
    {
     "name": "stderr",
     "output_type": "stream",
     "text": [
      "\u001b[32m[I 2021-08-28 15:04:04,858]\u001b[0m Trial 45 finished with value: 0.7187239599945041 and parameters: {'learning_rate': 0.016004490288401157, 'reg_lambda': 0.7806418620818437, 'reg_alpha': 1.2134060985737693e-06, 'subsample': 0.607308852213647, 'colsample_bytree': 0.5372858915467822, 'max_depth': 3}. Best is trial 43 with value: 0.7178234372028391.\u001b[0m\n"
     ]
    },
    {
     "name": "stdout",
     "output_type": "stream",
     "text": [
      "[15:04:06] WARNING: C:/Users/Administrator/workspace/xgboost-win64_release_1.4.0/src/learner.cc:231: Only 1 GPUs are visible, setting `gpu_id` to 0\n",
      "[0]\tvalidation_0-rmse:7.61845\n",
      "[1000]\tvalidation_0-rmse:0.72322\n",
      "[2000]\tvalidation_0-rmse:0.71999\n",
      "[3000]\tvalidation_0-rmse:0.71875\n",
      "[4000]\tvalidation_0-rmse:0.71812\n",
      "[5000]\tvalidation_0-rmse:0.71791\n",
      "[6000]\tvalidation_0-rmse:0.71781\n",
      "[6999]\tvalidation_0-rmse:0.71774\n"
     ]
    },
    {
     "name": "stderr",
     "output_type": "stream",
     "text": [
      "\u001b[32m[I 2021-08-28 15:05:34,194]\u001b[0m Trial 46 finished with value: 0.7177360733621649 and parameters: {'learning_rate': 0.02094208049684527, 'reg_lambda': 0.04093931031347514, 'reg_alpha': 1.070343221851471e-08, 'subsample': 0.8957140241507294, 'colsample_bytree': 0.14883928861911502, 'max_depth': 4}. Best is trial 46 with value: 0.7177360733621649.\u001b[0m\n"
     ]
    },
    {
     "name": "stdout",
     "output_type": "stream",
     "text": [
      "[15:05:35] WARNING: C:/Users/Administrator/workspace/xgboost-win64_release_1.4.0/src/learner.cc:231: Only 1 GPUs are visible, setting `gpu_id` to 0\n",
      "[0]\tvalidation_0-rmse:7.57357\n",
      "[1000]\tvalidation_0-rmse:0.72875\n",
      "[2000]\tvalidation_0-rmse:0.72526\n",
      "[3000]\tvalidation_0-rmse:0.72308\n",
      "[4000]\tvalidation_0-rmse:0.72165\n",
      "[5000]\tvalidation_0-rmse:0.72062\n",
      "[6000]\tvalidation_0-rmse:0.71986\n",
      "[6999]\tvalidation_0-rmse:0.71930\n"
     ]
    },
    {
     "name": "stderr",
     "output_type": "stream",
     "text": [
      "\u001b[32m[I 2021-08-28 15:06:43,712]\u001b[0m Trial 47 finished with value: 0.7193008163184538 and parameters: {'learning_rate': 0.026768189977955992, 'reg_lambda': 0.03016163045000186, 'reg_alpha': 1.1254606429644184e-08, 'subsample': 0.891186761272265, 'colsample_bytree': 0.26848957134875373, 'max_depth': 2}. Best is trial 46 with value: 0.7177360733621649.\u001b[0m\n"
     ]
    },
    {
     "name": "stdout",
     "output_type": "stream",
     "text": [
      "[15:06:45] WARNING: C:/Users/Administrator/workspace/xgboost-win64_release_1.4.0/src/learner.cc:231: Only 1 GPUs are visible, setting `gpu_id` to 0\n",
      "[0]\tvalidation_0-rmse:7.61389\n",
      "[1000]\tvalidation_0-rmse:0.72149\n",
      "[2000]\tvalidation_0-rmse:0.71890\n",
      "[3000]\tvalidation_0-rmse:0.71829\n",
      "[4000]\tvalidation_0-rmse:0.71815\n",
      "[4516]\tvalidation_0-rmse:0.71812\n"
     ]
    },
    {
     "name": "stderr",
     "output_type": "stream",
     "text": [
      "\u001b[32m[I 2021-08-28 15:07:53,684]\u001b[0m Trial 48 finished with value: 0.7181115122494436 and parameters: {'learning_rate': 0.02153410311406473, 'reg_lambda': 0.22607788569573795, 'reg_alpha': 3.829703439587013e-08, 'subsample': 0.9328289533282432, 'colsample_bytree': 0.14418403052808854, 'max_depth': 5}. Best is trial 46 with value: 0.7177360733621649.\u001b[0m\n"
     ]
    },
    {
     "name": "stdout",
     "output_type": "stream",
     "text": [
      "[15:07:54] WARNING: C:/Users/Administrator/workspace/xgboost-win64_release_1.4.0/src/learner.cc:231: Only 1 GPUs are visible, setting `gpu_id` to 0\n",
      "[0]\tvalidation_0-rmse:7.42541\n",
      "[1000]\tvalidation_0-rmse:0.72011\n",
      "[2000]\tvalidation_0-rmse:0.71854\n",
      "[2366]\tvalidation_0-rmse:0.71859\n"
     ]
    },
    {
     "name": "stderr",
     "output_type": "stream",
     "text": [
      "\u001b[32m[I 2021-08-28 15:08:23,535]\u001b[0m Trial 49 finished with value: 0.7185247142307515 and parameters: {'learning_rate': 0.046013364921665946, 'reg_lambda': 26.684395106269086, 'reg_alpha': 1.4484334970055847e-07, 'subsample': 0.6861196157044922, 'colsample_bytree': 0.4053508572929046, 'max_depth': 4}. Best is trial 46 with value: 0.7177360733621649.\u001b[0m\n"
     ]
    },
    {
     "name": "stdout",
     "output_type": "stream",
     "text": [
      "[15:08:24] WARNING: C:/Users/Administrator/workspace/xgboost-win64_release_1.4.0/src/learner.cc:231: Only 1 GPUs are visible, setting `gpu_id` to 0\n",
      "[0]\tvalidation_0-rmse:7.51552\n",
      "[1000]\tvalidation_0-rmse:0.72335\n",
      "[2000]\tvalidation_0-rmse:0.72106\n",
      "[3000]\tvalidation_0-rmse:0.72021\n",
      "[4000]\tvalidation_0-rmse:0.72010\n",
      "[4994]\tvalidation_0-rmse:0.72009\n"
     ]
    },
    {
     "name": "stderr",
     "output_type": "stream",
     "text": [
      "\u001b[32m[I 2021-08-28 15:09:07,394]\u001b[0m Trial 50 finished with value: 0.7199893696573204 and parameters: {'learning_rate': 0.03442458153309062, 'reg_lambda': 0.1310520141301241, 'reg_alpha': 0.25395276391523225, 'subsample': 0.16831919377870852, 'colsample_bytree': 0.3497554771886192, 'max_depth': 3}. Best is trial 46 with value: 0.7177360733621649.\u001b[0m\n"
     ]
    },
    {
     "name": "stdout",
     "output_type": "stream",
     "text": [
      "[15:09:08] WARNING: C:/Users/Administrator/workspace/xgboost-win64_release_1.4.0/src/learner.cc:231: Only 1 GPUs are visible, setting `gpu_id` to 0\n",
      "[0]\tvalidation_0-rmse:7.66638\n",
      "[1000]\tvalidation_0-rmse:0.72601\n",
      "[2000]\tvalidation_0-rmse:0.72174\n",
      "[3000]\tvalidation_0-rmse:0.71986\n",
      "[4000]\tvalidation_0-rmse:0.71889\n",
      "[5000]\tvalidation_0-rmse:0.71836\n",
      "[6000]\tvalidation_0-rmse:0.71807\n",
      "[6999]\tvalidation_0-rmse:0.71787\n"
     ]
    },
    {
     "name": "stderr",
     "output_type": "stream",
     "text": [
      "\u001b[32m[I 2021-08-28 15:10:37,715]\u001b[0m Trial 51 finished with value: 0.7178635936963755 and parameters: {'learning_rate': 0.014723790024995208, 'reg_lambda': 0.01877089276942108, 'reg_alpha': 1.2928646386856706e-06, 'subsample': 0.8761904141973345, 'colsample_bytree': 0.13972834548370355, 'max_depth': 4}. Best is trial 46 with value: 0.7177360733621649.\u001b[0m\n"
     ]
    },
    {
     "name": "stdout",
     "output_type": "stream",
     "text": [
      "[15:10:38] WARNING: C:/Users/Administrator/workspace/xgboost-win64_release_1.4.0/src/learner.cc:231: Only 1 GPUs are visible, setting `gpu_id` to 0\n",
      "[0]\tvalidation_0-rmse:7.66842\n",
      "[1000]\tvalidation_0-rmse:0.72535\n",
      "[2000]\tvalidation_0-rmse:0.72166\n",
      "[3000]\tvalidation_0-rmse:0.71996\n",
      "[4000]\tvalidation_0-rmse:0.71906\n",
      "[5000]\tvalidation_0-rmse:0.71856\n",
      "[6000]\tvalidation_0-rmse:0.71822\n",
      "[6999]\tvalidation_0-rmse:0.71804\n"
     ]
    },
    {
     "name": "stderr",
     "output_type": "stream",
     "text": [
      "\u001b[32m[I 2021-08-28 15:12:07,626]\u001b[0m Trial 52 finished with value: 0.7180396913103909 and parameters: {'learning_rate': 0.01445855923148315, 'reg_lambda': 0.0010079158996399748, 'reg_alpha': 1.3580106581205393e-08, 'subsample': 0.8666971473955477, 'colsample_bytree': 0.21785812127463952, 'max_depth': 4}. Best is trial 46 with value: 0.7177360733621649.\u001b[0m\n"
     ]
    },
    {
     "name": "stdout",
     "output_type": "stream",
     "text": [
      "[15:12:08] WARNING: C:/Users/Administrator/workspace/xgboost-win64_release_1.4.0/src/learner.cc:231: Only 1 GPUs are visible, setting `gpu_id` to 0\n",
      "[0]\tvalidation_0-rmse:7.64016\n",
      "[1000]\tvalidation_0-rmse:0.72466\n",
      "[2000]\tvalidation_0-rmse:0.72077\n",
      "[3000]\tvalidation_0-rmse:0.71927\n",
      "[4000]\tvalidation_0-rmse:0.71856\n",
      "[5000]\tvalidation_0-rmse:0.71820\n",
      "[6000]\tvalidation_0-rmse:0.71800\n",
      "[6999]\tvalidation_0-rmse:0.71787\n"
     ]
    },
    {
     "name": "stderr",
     "output_type": "stream",
     "text": [
      "\u001b[32m[I 2021-08-28 15:13:39,397]\u001b[0m Trial 53 finished with value: 0.717874514153969 and parameters: {'learning_rate': 0.018125619855955403, 'reg_lambda': 0.02337005827849141, 'reg_alpha': 6.184652584423035e-08, 'subsample': 0.9664602751607774, 'colsample_bytree': 0.1324277647786153, 'max_depth': 4}. Best is trial 46 with value: 0.7177360733621649.\u001b[0m\n"
     ]
    },
    {
     "name": "stdout",
     "output_type": "stream",
     "text": [
      "[15:13:40] WARNING: C:/Users/Administrator/workspace/xgboost-win64_release_1.4.0/src/learner.cc:231: Only 1 GPUs are visible, setting `gpu_id` to 0\n",
      "[0]\tvalidation_0-rmse:7.64282\n",
      "[1000]\tvalidation_0-rmse:0.72261\n",
      "[2000]\tvalidation_0-rmse:0.71938\n",
      "[3000]\tvalidation_0-rmse:0.71846\n",
      "[4000]\tvalidation_0-rmse:0.71818\n",
      "[4631]\tvalidation_0-rmse:0.71813\n"
     ]
    },
    {
     "name": "stderr",
     "output_type": "stream",
     "text": [
      "\u001b[32m[I 2021-08-28 15:14:52,116]\u001b[0m Trial 54 finished with value: 0.7181201596339928 and parameters: {'learning_rate': 0.01777945455950275, 'reg_lambda': 0.010554746987695896, 'reg_alpha': 6.283198008704133e-08, 'subsample': 0.9544633020588926, 'colsample_bytree': 0.13565490351416576, 'max_depth': 5}. Best is trial 46 with value: 0.7177360733621649.\u001b[0m\n"
     ]
    },
    {
     "name": "stdout",
     "output_type": "stream",
     "text": [
      "[15:14:53] WARNING: C:/Users/Administrator/workspace/xgboost-win64_release_1.4.0/src/learner.cc:231: Only 1 GPUs are visible, setting `gpu_id` to 0\n",
      "[0]\tvalidation_0-rmse:7.59675\n",
      "[1000]\tvalidation_0-rmse:0.72306\n",
      "[2000]\tvalidation_0-rmse:0.71971\n",
      "[3000]\tvalidation_0-rmse:0.71856\n",
      "[4000]\tvalidation_0-rmse:0.71803\n",
      "[5000]\tvalidation_0-rmse:0.71784\n",
      "[6000]\tvalidation_0-rmse:0.71775\n",
      "[6113]\tvalidation_0-rmse:0.71776\n"
     ]
    },
    {
     "name": "stderr",
     "output_type": "stream",
     "text": [
      "\u001b[32m[I 2021-08-28 15:16:12,299]\u001b[0m Trial 55 finished with value: 0.7177281334191465 and parameters: {'learning_rate': 0.023759389098386954, 'reg_lambda': 0.002464380582843671, 'reg_alpha': 1.2966961707005338e-06, 'subsample': 0.9765712886749613, 'colsample_bytree': 0.13508186880219553, 'max_depth': 4}. Best is trial 55 with value: 0.7177281334191465.\u001b[0m\n"
     ]
    },
    {
     "name": "stdout",
     "output_type": "stream",
     "text": [
      "[15:16:13] WARNING: C:/Users/Administrator/workspace/xgboost-win64_release_1.4.0/src/learner.cc:231: Only 1 GPUs are visible, setting `gpu_id` to 0\n",
      "[0]\tvalidation_0-rmse:7.59100\n",
      "[1000]\tvalidation_0-rmse:0.72047\n",
      "[2000]\tvalidation_0-rmse:0.71873\n",
      "[2629]\tvalidation_0-rmse:0.71873\n"
     ]
    },
    {
     "name": "stderr",
     "output_type": "stream",
     "text": [
      "\u001b[32m[I 2021-08-28 15:17:04,937]\u001b[0m Trial 56 finished with value: 0.7186801580484747 and parameters: {'learning_rate': 0.024507805885082525, 'reg_lambda': 0.002306712439408817, 'reg_alpha': 7.589389027501569e-07, 'subsample': 0.9948490036665735, 'colsample_bytree': 0.10110967781685047, 'max_depth': 6}. Best is trial 55 with value: 0.7177281334191465.\u001b[0m\n"
     ]
    },
    {
     "name": "stdout",
     "output_type": "stream",
     "text": [
      "[15:17:06] WARNING: C:/Users/Administrator/workspace/xgboost-win64_release_1.4.0/src/learner.cc:231: Only 1 GPUs are visible, setting `gpu_id` to 0\n",
      "[0]\tvalidation_0-rmse:7.55310\n",
      "[1000]\tvalidation_0-rmse:0.72097\n",
      "[2000]\tvalidation_0-rmse:0.71952\n",
      "[2812]\tvalidation_0-rmse:0.71958\n"
     ]
    },
    {
     "name": "stderr",
     "output_type": "stream",
     "text": [
      "\u001b[32m[I 2021-08-28 15:17:51,083]\u001b[0m Trial 57 finished with value: 0.7194322921581394 and parameters: {'learning_rate': 0.029488910426115802, 'reg_lambda': 0.0003606950981591118, 'reg_alpha': 1.4827117409391523e-06, 'subsample': 0.9060468404453476, 'colsample_bytree': 0.6855618805687651, 'max_depth': 5}. Best is trial 55 with value: 0.7177281334191465.\u001b[0m\n"
     ]
    },
    {
     "name": "stdout",
     "output_type": "stream",
     "text": [
      "[15:17:52] WARNING: C:/Users/Administrator/workspace/xgboost-win64_release_1.4.0/src/learner.cc:231: Only 1 GPUs are visible, setting `gpu_id` to 0\n",
      "[0]\tvalidation_0-rmse:7.00251\n",
      "[1000]\tvalidation_0-rmse:0.71906\n",
      "[2000]\tvalidation_0-rmse:0.71831\n",
      "[2325]\tvalidation_0-rmse:0.71843\n"
     ]
    },
    {
     "name": "stderr",
     "output_type": "stream",
     "text": [
      "\u001b[32m[I 2021-08-28 15:18:17,492]\u001b[0m Trial 58 finished with value: 0.7182970610592601 and parameters: {'learning_rate': 0.100917066471106, 'reg_lambda': 0.041569956881270784, 'reg_alpha': 4.729432541983278e-05, 'subsample': 0.8631323866984674, 'colsample_bytree': 0.25625067658255973, 'max_depth': 3}. Best is trial 55 with value: 0.7177281334191465.\u001b[0m\n"
     ]
    },
    {
     "name": "stdout",
     "output_type": "stream",
     "text": [
      "[15:18:18] WARNING: C:/Users/Administrator/workspace/xgboost-win64_release_1.4.0/src/learner.cc:231: Only 1 GPUs are visible, setting `gpu_id` to 0\n",
      "[0]\tvalidation_0-rmse:7.29588\n",
      "[1000]\tvalidation_0-rmse:0.71921\n",
      "[1905]\tvalidation_0-rmse:0.71857\n"
     ]
    },
    {
     "name": "stderr",
     "output_type": "stream",
     "text": [
      "\u001b[32m[I 2021-08-28 15:18:43,569]\u001b[0m Trial 59 finished with value: 0.7185578875747322 and parameters: {'learning_rate': 0.0628122395903181, 'reg_lambda': 2.2778762583213347e-05, 'reg_alpha': 1.3030986852218923e-07, 'subsample': 0.9691736870893077, 'colsample_bytree': 0.20830831282248502, 'max_depth': 4}. Best is trial 55 with value: 0.7177281334191465.\u001b[0m\n"
     ]
    },
    {
     "name": "stdout",
     "output_type": "stream",
     "text": [
      "[15:18:44] WARNING: C:/Users/Administrator/workspace/xgboost-win64_release_1.4.0/src/learner.cc:231: Only 1 GPUs are visible, setting `gpu_id` to 0\n",
      "[0]\tvalidation_0-rmse:7.62030\n",
      "[1000]\tvalidation_0-rmse:0.72147\n",
      "[2000]\tvalidation_0-rmse:0.71873\n",
      "[3000]\tvalidation_0-rmse:0.71806\n",
      "[3844]\tvalidation_0-rmse:0.71800\n"
     ]
    },
    {
     "name": "stderr",
     "output_type": "stream",
     "text": [
      "\u001b[32m[I 2021-08-28 15:19:41,573]\u001b[0m Trial 60 finished with value: 0.7179617495799471 and parameters: {'learning_rate': 0.02070441395526878, 'reg_lambda': 0.0003608729257470843, 'reg_alpha': 1.921095533599444e-06, 'subsample': 0.7950307342047153, 'colsample_bytree': 0.13319200560004496, 'max_depth': 5}. Best is trial 55 with value: 0.7177281334191465.\u001b[0m\n"
     ]
    },
    {
     "name": "stdout",
     "output_type": "stream",
     "text": [
      "[15:19:42] WARNING: C:/Users/Administrator/workspace/xgboost-win64_release_1.4.0/src/learner.cc:231: Only 1 GPUs are visible, setting `gpu_id` to 0\n",
      "[0]\tvalidation_0-rmse:7.63551\n",
      "[1000]\tvalidation_0-rmse:0.72412\n",
      "[2000]\tvalidation_0-rmse:0.72039\n",
      "[3000]\tvalidation_0-rmse:0.71886\n",
      "[4000]\tvalidation_0-rmse:0.71812\n",
      "[5000]\tvalidation_0-rmse:0.71778\n",
      "[6000]\tvalidation_0-rmse:0.71762\n",
      "[6999]\tvalidation_0-rmse:0.71752\n"
     ]
    },
    {
     "name": "stderr",
     "output_type": "stream",
     "text": [
      "\u001b[32m[I 2021-08-28 15:21:11,293]\u001b[0m Trial 61 finished with value: 0.7175232333970853 and parameters: {'learning_rate': 0.018728063145787083, 'reg_lambda': 0.01636958273385703, 'reg_alpha': 2.0005220900285042e-08, 'subsample': 0.8948010011350874, 'colsample_bytree': 0.12936159520820203, 'max_depth': 4}. Best is trial 61 with value: 0.7175232333970853.\u001b[0m\n"
     ]
    },
    {
     "name": "stdout",
     "output_type": "stream",
     "text": [
      "[15:21:12] WARNING: C:/Users/Administrator/workspace/xgboost-win64_release_1.4.0/src/learner.cc:231: Only 1 GPUs are visible, setting `gpu_id` to 0\n",
      "[0]\tvalidation_0-rmse:7.60562\n",
      "[1000]\tvalidation_0-rmse:0.72302\n",
      "[2000]\tvalidation_0-rmse:0.71968\n",
      "[3000]\tvalidation_0-rmse:0.71844\n",
      "[4000]\tvalidation_0-rmse:0.71799\n",
      "[5000]\tvalidation_0-rmse:0.71772\n",
      "[6000]\tvalidation_0-rmse:0.71762\n",
      "[6556]\tvalidation_0-rmse:0.71763\n"
     ]
    },
    {
     "name": "stderr",
     "output_type": "stream",
     "text": [
      "\u001b[32m[I 2021-08-28 15:22:34,185]\u001b[0m Trial 62 finished with value: 0.7175980053908437 and parameters: {'learning_rate': 0.02260807332632609, 'reg_lambda': 0.004195678332544805, 'reg_alpha': 1.5448160176965354e-08, 'subsample': 0.8811849768959388, 'colsample_bytree': 0.12759694473531866, 'max_depth': 4}. Best is trial 61 with value: 0.7175232333970853.\u001b[0m\n"
     ]
    },
    {
     "name": "stdout",
     "output_type": "stream",
     "text": [
      "[15:22:35] WARNING: C:/Users/Administrator/workspace/xgboost-win64_release_1.4.0/src/learner.cc:231: Only 1 GPUs are visible, setting `gpu_id` to 0\n",
      "[0]\tvalidation_0-rmse:7.60442\n",
      "[1000]\tvalidation_0-rmse:0.72272\n",
      "[2000]\tvalidation_0-rmse:0.71981\n",
      "[3000]\tvalidation_0-rmse:0.71864\n",
      "[4000]\tvalidation_0-rmse:0.71813\n",
      "[5000]\tvalidation_0-rmse:0.71797\n",
      "[5826]\tvalidation_0-rmse:0.71794\n"
     ]
    },
    {
     "name": "stderr",
     "output_type": "stream",
     "text": [
      "\u001b[32m[I 2021-08-28 15:23:49,064]\u001b[0m Trial 63 finished with value: 0.7179210866379184 and parameters: {'learning_rate': 0.022762516388205083, 'reg_lambda': 0.004602163759834403, 'reg_alpha': 1.0240160453895129e-08, 'subsample': 0.8987344789062376, 'colsample_bytree': 0.19929165316275085, 'max_depth': 4}. Best is trial 61 with value: 0.7175232333970853.\u001b[0m\n"
     ]
    },
    {
     "name": "stdout",
     "output_type": "stream",
     "text": [
      "[15:23:50] WARNING: C:/Users/Administrator/workspace/xgboost-win64_release_1.4.0/src/learner.cc:231: Only 1 GPUs are visible, setting `gpu_id` to 0\n",
      "[0]\tvalidation_0-rmse:6.30285\n",
      "[953]\tvalidation_0-rmse:0.71933\n"
     ]
    },
    {
     "name": "stderr",
     "output_type": "stream",
     "text": [
      "\u001b[32m[I 2021-08-28 15:24:02,070]\u001b[0m Trial 64 finished with value: 0.7185981410784159 and parameters: {'learning_rate': 0.19187130827191118, 'reg_lambda': 0.0013227703451497092, 'reg_alpha': 2.9027402988275766e-08, 'subsample': 0.805072432362193, 'colsample_bytree': 0.1035014575355743, 'max_depth': 4}. Best is trial 61 with value: 0.7175232333970853.\u001b[0m\n"
     ]
    },
    {
     "name": "stdout",
     "output_type": "stream",
     "text": [
      "[15:24:03] WARNING: C:/Users/Administrator/workspace/xgboost-win64_release_1.4.0/src/learner.cc:231: Only 1 GPUs are visible, setting `gpu_id` to 0\n",
      "[0]\tvalidation_0-rmse:7.66208\n",
      "[1000]\tvalidation_0-rmse:0.72852\n",
      "[2000]\tvalidation_0-rmse:0.72447\n",
      "[3000]\tvalidation_0-rmse:0.72217\n",
      "[4000]\tvalidation_0-rmse:0.72083\n",
      "[5000]\tvalidation_0-rmse:0.71998\n",
      "[6000]\tvalidation_0-rmse:0.71945\n",
      "[6999]\tvalidation_0-rmse:0.71908\n"
     ]
    },
    {
     "name": "stderr",
     "output_type": "stream",
     "text": [
      "\u001b[32m[I 2021-08-28 15:25:22,144]\u001b[0m Trial 65 finished with value: 0.7190780535939266 and parameters: {'learning_rate': 0.015316438578241462, 'reg_lambda': 0.0005773946389566985, 'reg_alpha': 1.98619805936052e-08, 'subsample': 0.8655994847467507, 'colsample_bytree': 0.8012119866415486, 'max_depth': 3}. Best is trial 61 with value: 0.7175232333970853.\u001b[0m\n"
     ]
    },
    {
     "name": "stdout",
     "output_type": "stream",
     "text": [
      "[15:25:23] WARNING: C:/Users/Administrator/workspace/xgboost-win64_release_1.4.0/src/learner.cc:231: Only 1 GPUs are visible, setting `gpu_id` to 0\n",
      "[0]\tvalidation_0-rmse:7.55940\n",
      "[1000]\tvalidation_0-rmse:0.72161\n",
      "[2000]\tvalidation_0-rmse:0.71916\n",
      "[3000]\tvalidation_0-rmse:0.71832\n",
      "[4000]\tvalidation_0-rmse:0.71803\n",
      "[4639]\tvalidation_0-rmse:0.71802\n"
     ]
    },
    {
     "name": "stderr",
     "output_type": "stream",
     "text": [
      "\u001b[32m[I 2021-08-28 15:26:22,471]\u001b[0m Trial 66 finished with value: 0.7179933007151647 and parameters: {'learning_rate': 0.028605869701824237, 'reg_lambda': 0.1405629211361658, 'reg_alpha': 0.00039197269742059364, 'subsample': 0.9296314578071779, 'colsample_bytree': 0.18484957489921264, 'max_depth': 4}. Best is trial 61 with value: 0.7175232333970853.\u001b[0m\n"
     ]
    },
    {
     "name": "stdout",
     "output_type": "stream",
     "text": [
      "[15:26:23] WARNING: C:/Users/Administrator/workspace/xgboost-win64_release_1.4.0/src/learner.cc:231: Only 1 GPUs are visible, setting `gpu_id` to 0\n",
      "[0]\tvalidation_0-rmse:7.62470\n",
      "[1000]\tvalidation_0-rmse:0.72174\n",
      "[2000]\tvalidation_0-rmse:0.71891\n",
      "[3000]\tvalidation_0-rmse:0.71813\n",
      "[4000]\tvalidation_0-rmse:0.71791\n",
      "[4785]\tvalidation_0-rmse:0.71793\n"
     ]
    },
    {
     "name": "stderr",
     "output_type": "stream",
     "text": [
      "\u001b[32m[I 2021-08-28 15:27:35,654]\u001b[0m Trial 67 finished with value: 0.7178859481668535 and parameters: {'learning_rate': 0.020131877350123284, 'reg_lambda': 0.00012258652929709755, 'reg_alpha': 0.004924096909064349, 'subsample': 0.9042361732261088, 'colsample_bytree': 0.1421050240904002, 'max_depth': 5}. Best is trial 61 with value: 0.7175232333970853.\u001b[0m\n"
     ]
    },
    {
     "name": "stdout",
     "output_type": "stream",
     "text": [
      "[15:27:36] WARNING: C:/Users/Administrator/workspace/xgboost-win64_release_1.4.0/src/learner.cc:231: Only 1 GPUs are visible, setting `gpu_id` to 0\n",
      "[0]\tvalidation_0-rmse:7.59650\n",
      "[1000]\tvalidation_0-rmse:0.72064\n",
      "[2000]\tvalidation_0-rmse:0.71833\n",
      "[3000]\tvalidation_0-rmse:0.71781\n",
      "[3392]\tvalidation_0-rmse:0.71784\n"
     ]
    },
    {
     "name": "stderr",
     "output_type": "stream",
     "text": [
      "\u001b[32m[I 2021-08-28 15:28:27,315]\u001b[0m Trial 68 finished with value: 0.7177868245411381 and parameters: {'learning_rate': 0.0237938493261229, 'reg_lambda': 0.002691233038821153, 'reg_alpha': 3.702859587951166e-07, 'subsample': 0.8438649004218275, 'colsample_bytree': 0.12499991017545645, 'max_depth': 5}. Best is trial 61 with value: 0.7175232333970853.\u001b[0m\n"
     ]
    },
    {
     "name": "stdout",
     "output_type": "stream",
     "text": [
      "[15:28:28] WARNING: C:/Users/Administrator/workspace/xgboost-win64_release_1.4.0/src/learner.cc:231: Only 1 GPUs are visible, setting `gpu_id` to 0\n",
      "[0]\tvalidation_0-rmse:7.52219\n",
      "[1000]\tvalidation_0-rmse:0.71996\n",
      "[2000]\tvalidation_0-rmse:0.71873\n",
      "[2525]\tvalidation_0-rmse:0.71874\n"
     ]
    },
    {
     "name": "stderr",
     "output_type": "stream",
     "text": [
      "\u001b[32m[I 2021-08-28 15:29:06,794]\u001b[0m Trial 69 finished with value: 0.7186893544360012 and parameters: {'learning_rate': 0.03343622917905864, 'reg_lambda': 0.002268147569789736, 'reg_alpha': 1.0995793037360762e-07, 'subsample': 0.9180121202443857, 'colsample_bytree': 0.23554531574739668, 'max_depth': 5}. Best is trial 61 with value: 0.7175232333970853.\u001b[0m\n"
     ]
    },
    {
     "name": "stdout",
     "output_type": "stream",
     "text": [
      "[15:29:08] WARNING: C:/Users/Administrator/workspace/xgboost-win64_release_1.4.0/src/learner.cc:231: Only 1 GPUs are visible, setting `gpu_id` to 0\n",
      "[0]\tvalidation_0-rmse:7.59720\n",
      "[1000]\tvalidation_0-rmse:0.72052\n",
      "[2000]\tvalidation_0-rmse:0.71852\n",
      "[2881]\tvalidation_0-rmse:0.71842\n"
     ]
    },
    {
     "name": "stderr",
     "output_type": "stream",
     "text": [
      "\u001b[32m[I 2021-08-28 15:30:01,660]\u001b[0m Trial 70 finished with value: 0.7183485309606886 and parameters: {'learning_rate': 0.023705179880760825, 'reg_lambda': 0.0006939977834984547, 'reg_alpha': 3.309220080779269e-07, 'subsample': 0.847915336328159, 'colsample_bytree': 0.11740554068304632, 'max_depth': 6}. Best is trial 61 with value: 0.7175232333970853.\u001b[0m\n"
     ]
    },
    {
     "name": "stdout",
     "output_type": "stream",
     "text": [
      "[15:30:02] WARNING: C:/Users/Administrator/workspace/xgboost-win64_release_1.4.0/src/learner.cc:231: Only 1 GPUs are visible, setting `gpu_id` to 0\n",
      "[0]\tvalidation_0-rmse:7.57289\n",
      "[1000]\tvalidation_0-rmse:0.72188\n",
      "[2000]\tvalidation_0-rmse:0.71926\n",
      "[3000]\tvalidation_0-rmse:0.71827\n",
      "[4000]\tvalidation_0-rmse:0.71801\n",
      "[5000]\tvalidation_0-rmse:0.71797\n",
      "[5077]\tvalidation_0-rmse:0.71798\n"
     ]
    },
    {
     "name": "stderr",
     "output_type": "stream",
     "text": [
      "\u001b[32m[I 2021-08-28 15:31:06,666]\u001b[0m Trial 71 finished with value: 0.7179055011908679 and parameters: {'learning_rate': 0.0268552599273575, 'reg_lambda': 0.016593646508583342, 'reg_alpha': 3.9493348438369125e-06, 'subsample': 0.8825585991948146, 'colsample_bytree': 0.18692905798122406, 'max_depth': 4}. Best is trial 61 with value: 0.7175232333970853.\u001b[0m\n"
     ]
    },
    {
     "name": "stdout",
     "output_type": "stream",
     "text": [
      "[15:31:08] WARNING: C:/Users/Administrator/workspace/xgboost-win64_release_1.4.0/src/learner.cc:231: Only 1 GPUs are visible, setting `gpu_id` to 0\n",
      "[0]\tvalidation_0-rmse:7.65037\n",
      "[1000]\tvalidation_0-rmse:0.72518\n",
      "[2000]\tvalidation_0-rmse:0.72123\n",
      "[3000]\tvalidation_0-rmse:0.71959\n",
      "[4000]\tvalidation_0-rmse:0.71880\n",
      "[5000]\tvalidation_0-rmse:0.71833\n",
      "[6000]\tvalidation_0-rmse:0.71808\n",
      "[6999]\tvalidation_0-rmse:0.71794\n"
     ]
    },
    {
     "name": "stderr",
     "output_type": "stream",
     "text": [
      "\u001b[32m[I 2021-08-28 15:32:40,229]\u001b[0m Trial 72 finished with value: 0.7179404118353335 and parameters: {'learning_rate': 0.016800845701111795, 'reg_lambda': 0.005374195346043582, 'reg_alpha': 2.644759076975268e-07, 'subsample': 0.9988539556583333, 'colsample_bytree': 0.12854065180098914, 'max_depth': 4}. Best is trial 61 with value: 0.7175232333970853.\u001b[0m\n"
     ]
    },
    {
     "name": "stdout",
     "output_type": "stream",
     "text": [
      "[15:32:41] WARNING: C:/Users/Administrator/workspace/xgboost-win64_release_1.4.0/src/learner.cc:231: Only 1 GPUs are visible, setting `gpu_id` to 0\n",
      "[0]\tvalidation_0-rmse:7.62552\n",
      "[1000]\tvalidation_0-rmse:0.72133\n",
      "[2000]\tvalidation_0-rmse:0.71893\n",
      "[3000]\tvalidation_0-rmse:0.71826\n",
      "[3544]\tvalidation_0-rmse:0.71823\n"
     ]
    },
    {
     "name": "stderr",
     "output_type": "stream",
     "text": [
      "\u001b[32m[I 2021-08-28 15:33:34,710]\u001b[0m Trial 73 finished with value: 0.7182117623930238 and parameters: {'learning_rate': 0.020027377262015988, 'reg_lambda': 0.04833706003304644, 'reg_alpha': 1.0243840948646221e-05, 'subsample': 0.8507576192278177, 'colsample_bytree': 0.16558962228448915, 'max_depth': 5}. Best is trial 61 with value: 0.7175232333970853.\u001b[0m\n"
     ]
    },
    {
     "name": "stdout",
     "output_type": "stream",
     "text": [
      "[15:33:36] WARNING: C:/Users/Administrator/workspace/xgboost-win64_release_1.4.0/src/learner.cc:231: Only 1 GPUs are visible, setting `gpu_id` to 0\n",
      "[0]\tvalidation_0-rmse:7.60420\n",
      "[1000]\tvalidation_0-rmse:0.72274\n",
      "[2000]\tvalidation_0-rmse:0.71973\n",
      "[3000]\tvalidation_0-rmse:0.71861\n",
      "[4000]\tvalidation_0-rmse:0.71812\n",
      "[5000]\tvalidation_0-rmse:0.71796\n",
      "[5897]\tvalidation_0-rmse:0.71793\n"
     ]
    },
    {
     "name": "stderr",
     "output_type": "stream",
     "text": [
      "\u001b[32m[I 2021-08-28 15:34:51,541]\u001b[0m Trial 74 finished with value: 0.7179064246402007 and parameters: {'learning_rate': 0.022790874530167725, 'reg_lambda': 0.0025888483895363623, 'reg_alpha': 2.4860659298249688e-08, 'subsample': 0.9526721268687558, 'colsample_bytree': 0.15150338777367275, 'max_depth': 4}. Best is trial 61 with value: 0.7175232333970853.\u001b[0m\n"
     ]
    },
    {
     "name": "stdout",
     "output_type": "stream",
     "text": [
      "[15:34:52] WARNING: C:/Users/Administrator/workspace/xgboost-win64_release_1.4.0/src/learner.cc:231: Only 1 GPUs are visible, setting `gpu_id` to 0\n",
      "[0]\tvalidation_0-rmse:7.66783\n",
      "[1000]\tvalidation_0-rmse:0.72505\n",
      "[2000]\tvalidation_0-rmse:0.72058\n",
      "[3000]\tvalidation_0-rmse:0.71904\n",
      "[4000]\tvalidation_0-rmse:0.71840\n",
      "[5000]\tvalidation_0-rmse:0.71824\n",
      "[5031]\tvalidation_0-rmse:0.71825\n"
     ]
    },
    {
     "name": "stderr",
     "output_type": "stream",
     "text": [
      "\u001b[32m[I 2021-08-28 15:36:08,620]\u001b[0m Trial 75 finished with value: 0.7181854834490364 and parameters: {'learning_rate': 0.01453656582312696, 'reg_lambda': 0.015416610303230573, 'reg_alpha': 8.041076770284604e-07, 'subsample': 0.8010628949202785, 'colsample_bytree': 0.10156270209075184, 'max_depth': 5}. Best is trial 61 with value: 0.7175232333970853.\u001b[0m\n"
     ]
    },
    {
     "name": "stdout",
     "output_type": "stream",
     "text": [
      "[15:36:09] WARNING: C:/Users/Administrator/workspace/xgboost-win64_release_1.4.0/src/learner.cc:231: Only 1 GPUs are visible, setting `gpu_id` to 0\n",
      "[0]\tvalidation_0-rmse:7.51076\n",
      "[1000]\tvalidation_0-rmse:0.72071\n",
      "[2000]\tvalidation_0-rmse:0.71867\n",
      "[3000]\tvalidation_0-rmse:0.71824\n",
      "[3339]\tvalidation_0-rmse:0.71825\n"
     ]
    },
    {
     "name": "stderr",
     "output_type": "stream",
     "text": [
      "\u001b[32m[I 2021-08-28 15:36:49,834]\u001b[0m Trial 76 finished with value: 0.7182158138479267 and parameters: {'learning_rate': 0.03492069102363139, 'reg_lambda': 0.09110499097186733, 'reg_alpha': 4.3630396169117563e-07, 'subsample': 0.7343787509354511, 'colsample_bytree': 0.20318566845767586, 'max_depth': 4}. Best is trial 61 with value: 0.7175232333970853.\u001b[0m\n"
     ]
    },
    {
     "name": "stdout",
     "output_type": "stream",
     "text": [
      "[15:36:51] WARNING: C:/Users/Administrator/workspace/xgboost-win64_release_1.4.0/src/learner.cc:231: Only 1 GPUs are visible, setting `gpu_id` to 0\n",
      "[0]\tvalidation_0-rmse:7.62939\n",
      "[1000]\tvalidation_0-rmse:0.72386\n",
      "[2000]\tvalidation_0-rmse:0.72046\n",
      "[3000]\tvalidation_0-rmse:0.71918\n",
      "[4000]\tvalidation_0-rmse:0.71859\n",
      "[5000]\tvalidation_0-rmse:0.71834\n",
      "[5942]\tvalidation_0-rmse:0.71827\n"
     ]
    },
    {
     "name": "stderr",
     "output_type": "stream",
     "text": [
      "\u001b[32m[I 2021-08-28 15:38:03,623]\u001b[0m Trial 77 finished with value: 0.7182274851225018 and parameters: {'learning_rate': 0.019527618381675837, 'reg_lambda': 0.004340613297408239, 'reg_alpha': 1.1644287444094511e-07, 'subsample': 0.7688257169768498, 'colsample_bytree': 0.31433193520449865, 'max_depth': 4}. Best is trial 61 with value: 0.7175232333970853.\u001b[0m\n"
     ]
    },
    {
     "name": "stdout",
     "output_type": "stream",
     "text": [
      "[15:38:04] WARNING: C:/Users/Administrator/workspace/xgboost-win64_release_1.4.0/src/learner.cc:231: Only 1 GPUs are visible, setting `gpu_id` to 0\n",
      "[0]\tvalidation_0-rmse:7.44711\n",
      "[1000]\tvalidation_0-rmse:0.71934\n",
      "[1970]\tvalidation_0-rmse:0.71883\n"
     ]
    },
    {
     "name": "stderr",
     "output_type": "stream",
     "text": [
      "\u001b[32m[I 2021-08-28 15:38:34,130]\u001b[0m Trial 78 finished with value: 0.7187657890807099 and parameters: {'learning_rate': 0.04318523793037227, 'reg_lambda': 3.32593499869173e-07, 'reg_alpha': 1.9786196896437433e-08, 'subsample': 0.8188457638980445, 'colsample_bytree': 0.2665512700059651, 'max_depth': 5}. Best is trial 61 with value: 0.7175232333970853.\u001b[0m\n"
     ]
    },
    {
     "name": "stdout",
     "output_type": "stream",
     "text": [
      "[15:38:35] WARNING: C:/Users/Administrator/workspace/xgboost-win64_release_1.4.0/src/learner.cc:231: Only 1 GPUs are visible, setting `gpu_id` to 0\n",
      "[0]\tvalidation_0-rmse:7.69361\n",
      "[1000]\tvalidation_0-rmse:0.73079\n",
      "[2000]\tvalidation_0-rmse:0.72609\n",
      "[3000]\tvalidation_0-rmse:0.72349\n",
      "[4000]\tvalidation_0-rmse:0.72189\n",
      "[5000]\tvalidation_0-rmse:0.72082\n",
      "[6000]\tvalidation_0-rmse:0.72002\n",
      "[6999]\tvalidation_0-rmse:0.71943\n"
     ]
    },
    {
     "name": "stderr",
     "output_type": "stream",
     "text": [
      "\u001b[32m[I 2021-08-28 15:39:53,960]\u001b[0m Trial 79 finished with value: 0.7194274456203377 and parameters: {'learning_rate': 0.01118925057512073, 'reg_lambda': 0.007814821523108783, 'reg_alpha': 4.615127532406698e-08, 'subsample': 0.8851853231710479, 'colsample_bytree': 0.1281142500719307, 'max_depth': 3}. Best is trial 61 with value: 0.7175232333970853.\u001b[0m\n"
     ]
    },
    {
     "name": "stdout",
     "output_type": "stream",
     "text": [
      "[15:39:55] WARNING: C:/Users/Administrator/workspace/xgboost-win64_release_1.4.0/src/learner.cc:231: Only 1 GPUs are visible, setting `gpu_id` to 0\n",
      "[0]\tvalidation_0-rmse:7.65207\n",
      "[1000]\tvalidation_0-rmse:0.72462\n",
      "[2000]\tvalidation_0-rmse:0.72089\n",
      "[3000]\tvalidation_0-rmse:0.71930\n",
      "[4000]\tvalidation_0-rmse:0.71854\n",
      "[5000]\tvalidation_0-rmse:0.71814\n",
      "[6000]\tvalidation_0-rmse:0.71787\n",
      "[6999]\tvalidation_0-rmse:0.71778\n"
     ]
    },
    {
     "name": "stderr",
     "output_type": "stream",
     "text": [
      "\u001b[32m[I 2021-08-28 15:41:24,592]\u001b[0m Trial 80 finished with value: 0.7177795826547936 and parameters: {'learning_rate': 0.016580740345970516, 'reg_lambda': 0.4034268842379334, 'reg_alpha': 3.83446544420091e-06, 'subsample': 0.92635312383873, 'colsample_bytree': 0.16225515810635274, 'max_depth': 4}. Best is trial 61 with value: 0.7175232333970853.\u001b[0m\n"
     ]
    },
    {
     "name": "stdout",
     "output_type": "stream",
     "text": [
      "[15:41:25] WARNING: C:/Users/Administrator/workspace/xgboost-win64_release_1.4.0/src/learner.cc:231: Only 1 GPUs are visible, setting `gpu_id` to 0\n",
      "[0]\tvalidation_0-rmse:7.64980\n",
      "[1000]\tvalidation_0-rmse:0.72455\n",
      "[2000]\tvalidation_0-rmse:0.72086\n",
      "[3000]\tvalidation_0-rmse:0.71928\n",
      "[4000]\tvalidation_0-rmse:0.71851\n",
      "[5000]\tvalidation_0-rmse:0.71816\n",
      "[6000]\tvalidation_0-rmse:0.71794\n",
      "[6999]\tvalidation_0-rmse:0.71781\n"
     ]
    },
    {
     "name": "stderr",
     "output_type": "stream",
     "text": [
      "\u001b[32m[I 2021-08-28 15:42:54,982]\u001b[0m Trial 81 finished with value: 0.7178064394514296 and parameters: {'learning_rate': 0.0168739242592163, 'reg_lambda': 0.03601035759754031, 'reg_alpha': 3.208433015833075e-06, 'subsample': 0.9179091994029125, 'colsample_bytree': 0.17156431806498607, 'max_depth': 4}. Best is trial 61 with value: 0.7175232333970853.\u001b[0m\n"
     ]
    },
    {
     "name": "stdout",
     "output_type": "stream",
     "text": [
      "[15:42:56] WARNING: C:/Users/Administrator/workspace/xgboost-win64_release_1.4.0/src/learner.cc:231: Only 1 GPUs are visible, setting `gpu_id` to 0\n",
      "[0]\tvalidation_0-rmse:7.58440\n",
      "[1000]\tvalidation_0-rmse:0.72228\n",
      "[2000]\tvalidation_0-rmse:0.71948\n",
      "[3000]\tvalidation_0-rmse:0.71849\n",
      "[4000]\tvalidation_0-rmse:0.71804\n",
      "[5000]\tvalidation_0-rmse:0.71793\n",
      "[5027]\tvalidation_0-rmse:0.71793\n"
     ]
    },
    {
     "name": "stderr",
     "output_type": "stream",
     "text": [
      "\u001b[32m[I 2021-08-28 15:43:59,627]\u001b[0m Trial 82 finished with value: 0.7179091263957684 and parameters: {'learning_rate': 0.02536202724598366, 'reg_lambda': 0.37075867050849964, 'reg_alpha': 4.902330658858925e-05, 'subsample': 0.913062064498573, 'colsample_bytree': 0.16671387457065348, 'max_depth': 4}. Best is trial 61 with value: 0.7175232333970853.\u001b[0m\n"
     ]
    },
    {
     "name": "stdout",
     "output_type": "stream",
     "text": [
      "[15:44:00] WARNING: C:/Users/Administrator/workspace/xgboost-win64_release_1.4.0/src/learner.cc:231: Only 1 GPUs are visible, setting `gpu_id` to 0\n",
      "[0]\tvalidation_0-rmse:7.64851\n",
      "[1000]\tvalidation_0-rmse:0.72439\n",
      "[2000]\tvalidation_0-rmse:0.72102\n",
      "[3000]\tvalidation_0-rmse:0.71952\n",
      "[4000]\tvalidation_0-rmse:0.71878\n",
      "[5000]\tvalidation_0-rmse:0.71836\n",
      "[6000]\tvalidation_0-rmse:0.71808\n",
      "[6999]\tvalidation_0-rmse:0.71798\n"
     ]
    },
    {
     "name": "stderr",
     "output_type": "stream",
     "text": [
      "\u001b[32m[I 2021-08-28 15:45:30,075]\u001b[0m Trial 83 finished with value: 0.7179755978448562 and parameters: {'learning_rate': 0.017041481023331424, 'reg_lambda': 0.1743915606969749, 'reg_alpha': 4.390236734947573e-06, 'subsample': 0.9349371419888369, 'colsample_bytree': 0.22945365417935626, 'max_depth': 4}. Best is trial 61 with value: 0.7175232333970853.\u001b[0m\n"
     ]
    },
    {
     "name": "stdout",
     "output_type": "stream",
     "text": [
      "[15:45:31] WARNING: C:/Users/Administrator/workspace/xgboost-win64_release_1.4.0/src/learner.cc:231: Only 1 GPUs are visible, setting `gpu_id` to 0\n",
      "[0]\tvalidation_0-rmse:7.65578\n",
      "[1000]\tvalidation_0-rmse:0.72774\n",
      "[2000]\tvalidation_0-rmse:0.72354\n",
      "[3000]\tvalidation_0-rmse:0.72144\n",
      "[4000]\tvalidation_0-rmse:0.72023\n",
      "[5000]\tvalidation_0-rmse:0.71939\n",
      "[6000]\tvalidation_0-rmse:0.71882\n",
      "[6999]\tvalidation_0-rmse:0.71844\n"
     ]
    },
    {
     "name": "stderr",
     "output_type": "stream",
     "text": [
      "\u001b[32m[I 2021-08-28 15:46:52,152]\u001b[0m Trial 84 finished with value: 0.7184397520848226 and parameters: {'learning_rate': 0.016098252629053053, 'reg_lambda': 0.07481517179162381, 'reg_alpha': 1.4411215784151923e-05, 'subsample': 0.9828237391301436, 'colsample_bytree': 0.17369278782951833, 'max_depth': 3}. Best is trial 61 with value: 0.7175232333970853.\u001b[0m\n"
     ]
    },
    {
     "name": "stdout",
     "output_type": "stream",
     "text": [
      "[15:46:53] WARNING: C:/Users/Administrator/workspace/xgboost-win64_release_1.4.0/src/learner.cc:231: Only 1 GPUs are visible, setting `gpu_id` to 0\n",
      "[0]\tvalidation_0-rmse:7.61467\n",
      "[1000]\tvalidation_0-rmse:0.72306\n",
      "[2000]\tvalidation_0-rmse:0.72001\n",
      "[3000]\tvalidation_0-rmse:0.71891\n",
      "[4000]\tvalidation_0-rmse:0.71836\n",
      "[5000]\tvalidation_0-rmse:0.71812\n",
      "[5498]\tvalidation_0-rmse:0.71811\n"
     ]
    },
    {
     "name": "stderr",
     "output_type": "stream",
     "text": [
      "\u001b[32m[I 2021-08-28 15:48:04,052]\u001b[0m Trial 85 finished with value: 0.7180916599065105 and parameters: {'learning_rate': 0.021433506694920557, 'reg_lambda': 0.031730412337369014, 'reg_alpha': 2.0215619275696838e-06, 'subsample': 0.9686245581334234, 'colsample_bytree': 0.20188539274673076, 'max_depth': 4}. Best is trial 61 with value: 0.7175232333970853.\u001b[0m\n"
     ]
    },
    {
     "name": "stdout",
     "output_type": "stream",
     "text": [
      "[15:48:05] WARNING: C:/Users/Administrator/workspace/xgboost-win64_release_1.4.0/src/learner.cc:231: Only 1 GPUs are visible, setting `gpu_id` to 0\n",
      "[0]\tvalidation_0-rmse:7.63568\n",
      "[1000]\tvalidation_0-rmse:0.72226\n",
      "[2000]\tvalidation_0-rmse:0.71910\n",
      "[3000]\tvalidation_0-rmse:0.71825\n",
      "[4000]\tvalidation_0-rmse:0.71801\n",
      "[4784]\tvalidation_0-rmse:0.71802\n"
     ]
    },
    {
     "name": "stderr",
     "output_type": "stream",
     "text": [
      "\u001b[32m[I 2021-08-28 15:49:16,085]\u001b[0m Trial 86 finished with value: 0.7179900846879717 and parameters: {'learning_rate': 0.01870954017310251, 'reg_lambda': 0.6954479588027442, 'reg_alpha': 2.7769809483073143e-06, 'subsample': 0.8481945297196849, 'colsample_bytree': 0.12260394755495164, 'max_depth': 5}. Best is trial 61 with value: 0.7175232333970853.\u001b[0m\n"
     ]
    },
    {
     "name": "stdout",
     "output_type": "stream",
     "text": [
      "[15:49:17] WARNING: C:/Users/Administrator/workspace/xgboost-win64_release_1.4.0/src/learner.cc:231: Only 1 GPUs are visible, setting `gpu_id` to 0\n",
      "[0]\tvalidation_0-rmse:7.68210\n",
      "[1000]\tvalidation_0-rmse:0.72676\n",
      "[2000]\tvalidation_0-rmse:0.72238\n",
      "[3000]\tvalidation_0-rmse:0.72041\n",
      "[4000]\tvalidation_0-rmse:0.71935\n",
      "[5000]\tvalidation_0-rmse:0.71874\n",
      "[6000]\tvalidation_0-rmse:0.71832\n",
      "[6999]\tvalidation_0-rmse:0.71805\n"
     ]
    },
    {
     "name": "stderr",
     "output_type": "stream",
     "text": [
      "\u001b[32m[I 2021-08-28 15:50:48,070]\u001b[0m Trial 87 finished with value: 0.7180497276340944 and parameters: {'learning_rate': 0.012683184306821981, 'reg_lambda': 3.0283062686477895, 'reg_alpha': 1.565053897641111e-07, 'subsample': 0.9501920754407724, 'colsample_bytree': 0.1534185157867504, 'max_depth': 4}. Best is trial 61 with value: 0.7175232333970853.\u001b[0m\n"
     ]
    },
    {
     "name": "stdout",
     "output_type": "stream",
     "text": [
      "[15:50:49] WARNING: C:/Users/Administrator/workspace/xgboost-win64_release_1.4.0/src/learner.cc:231: Only 1 GPUs are visible, setting `gpu_id` to 0\n",
      "[0]\tvalidation_0-rmse:7.55955\n",
      "[1000]\tvalidation_0-rmse:0.72409\n",
      "[2000]\tvalidation_0-rmse:0.72068\n",
      "[3000]\tvalidation_0-rmse:0.71909\n",
      "[4000]\tvalidation_0-rmse:0.71838\n",
      "[5000]\tvalidation_0-rmse:0.71802\n",
      "[6000]\tvalidation_0-rmse:0.71780\n",
      "[6999]\tvalidation_0-rmse:0.71769\n"
     ]
    },
    {
     "name": "stderr",
     "output_type": "stream",
     "text": [
      "\u001b[32m[I 2021-08-28 15:52:06,130]\u001b[0m Trial 88 finished with value: 0.7176898839987967 and parameters: {'learning_rate': 0.02858583242389308, 'reg_lambda': 0.0014719762754455928, 'reg_alpha': 0.12349713729915819, 'subsample': 0.907633860633472, 'colsample_bytree': 0.1862297010332002, 'max_depth': 3}. Best is trial 61 with value: 0.7175232333970853.\u001b[0m\n"
     ]
    },
    {
     "name": "stdout",
     "output_type": "stream",
     "text": [
      "[15:52:07] WARNING: C:/Users/Administrator/workspace/xgboost-win64_release_1.4.0/src/learner.cc:231: Only 1 GPUs are visible, setting `gpu_id` to 0\n",
      "[0]\tvalidation_0-rmse:7.56520\n",
      "[1000]\tvalidation_0-rmse:0.72885\n",
      "[2000]\tvalidation_0-rmse:0.72535\n",
      "[3000]\tvalidation_0-rmse:0.72325\n",
      "[4000]\tvalidation_0-rmse:0.72184\n",
      "[5000]\tvalidation_0-rmse:0.72078\n",
      "[6000]\tvalidation_0-rmse:0.71996\n",
      "[6999]\tvalidation_0-rmse:0.71938\n"
     ]
    },
    {
     "name": "stderr",
     "output_type": "stream",
     "text": [
      "\u001b[32m[I 2021-08-28 15:53:17,403]\u001b[0m Trial 89 finished with value: 0.7193807958050428 and parameters: {'learning_rate': 0.027855818697189158, 'reg_lambda': 0.0016144233448200638, 'reg_alpha': 19.19405167778122, 'subsample': 0.9249389928593219, 'colsample_bytree': 0.19279681917414118, 'max_depth': 2}. Best is trial 61 with value: 0.7175232333970853.\u001b[0m\n"
     ]
    },
    {
     "name": "stdout",
     "output_type": "stream",
     "text": [
      "[15:53:18] WARNING: C:/Users/Administrator/workspace/xgboost-win64_release_1.4.0/src/learner.cc:231: Only 1 GPUs are visible, setting `gpu_id` to 0\n",
      "[0]\tvalidation_0-rmse:7.59058\n",
      "[1000]\tvalidation_0-rmse:0.72504\n",
      "[2000]\tvalidation_0-rmse:0.72147\n",
      "[3000]\tvalidation_0-rmse:0.71969\n",
      "[4000]\tvalidation_0-rmse:0.71884\n",
      "[5000]\tvalidation_0-rmse:0.71838\n",
      "[6000]\tvalidation_0-rmse:0.71810\n",
      "[6999]\tvalidation_0-rmse:0.71793\n"
     ]
    },
    {
     "name": "stderr",
     "output_type": "stream",
     "text": [
      "\u001b[32m[I 2021-08-28 15:54:35,968]\u001b[0m Trial 90 finished with value: 0.7179310143737871 and parameters: {'learning_rate': 0.02455949680974911, 'reg_lambda': 0.00024072032756407297, 'reg_alpha': 0.12848163386568542, 'subsample': 0.8936502360271655, 'colsample_bytree': 0.2233815825260086, 'max_depth': 3}. Best is trial 61 with value: 0.7175232333970853.\u001b[0m\n"
     ]
    },
    {
     "name": "stdout",
     "output_type": "stream",
     "text": [
      "[15:54:37] WARNING: C:/Users/Administrator/workspace/xgboost-win64_release_1.4.0/src/learner.cc:231: Only 1 GPUs are visible, setting `gpu_id` to 0\n",
      "[0]\tvalidation_0-rmse:7.53630\n",
      "[1000]\tvalidation_0-rmse:0.72110\n",
      "[2000]\tvalidation_0-rmse:0.71879\n",
      "[3000]\tvalidation_0-rmse:0.71815\n",
      "[4000]\tvalidation_0-rmse:0.71794\n",
      "[4527]\tvalidation_0-rmse:0.71794\n"
     ]
    },
    {
     "name": "stderr",
     "output_type": "stream",
     "text": [
      "\u001b[32m[I 2021-08-28 15:55:34,434]\u001b[0m Trial 91 finished with value: 0.7179245901237437 and parameters: {'learning_rate': 0.031603712997349674, 'reg_lambda': 0.012156292951613003, 'reg_alpha': 0.03593451876582098, 'subsample': 0.9153206313843142, 'colsample_bytree': 0.15588033643341778, 'max_depth': 4}. Best is trial 61 with value: 0.7175232333970853.\u001b[0m\n"
     ]
    },
    {
     "name": "stdout",
     "output_type": "stream",
     "text": [
      "[15:55:35] WARNING: C:/Users/Administrator/workspace/xgboost-win64_release_1.4.0/src/learner.cc:231: Only 1 GPUs are visible, setting `gpu_id` to 0\n",
      "[0]\tvalidation_0-rmse:7.60374\n",
      "[1000]\tvalidation_0-rmse:0.72644\n",
      "[2000]\tvalidation_0-rmse:0.72220\n",
      "[3000]\tvalidation_0-rmse:0.72026\n",
      "[4000]\tvalidation_0-rmse:0.71922\n",
      "[5000]\tvalidation_0-rmse:0.71858\n",
      "[6000]\tvalidation_0-rmse:0.71815\n",
      "[6999]\tvalidation_0-rmse:0.71787\n"
     ]
    },
    {
     "name": "stderr",
     "output_type": "stream",
     "text": [
      "\u001b[32m[I 2021-08-28 15:56:56,408]\u001b[0m Trial 92 finished with value: 0.717866458002818 and parameters: {'learning_rate': 0.02285362953283664, 'reg_lambda': 0.0006638144432440462, 'reg_alpha': 12.675736112473093, 'subsample': 0.9797932177520497, 'colsample_bytree': 0.11826275840725721, 'max_depth': 3}. Best is trial 61 with value: 0.7175232333970853.\u001b[0m\n"
     ]
    },
    {
     "name": "stdout",
     "output_type": "stream",
     "text": [
      "[15:56:57] WARNING: C:/Users/Administrator/workspace/xgboost-win64_release_1.4.0/src/learner.cc:231: Only 1 GPUs are visible, setting `gpu_id` to 0\n",
      "[0]\tvalidation_0-rmse:7.63113\n",
      "[1000]\tvalidation_0-rmse:0.73444\n",
      "[2000]\tvalidation_0-rmse:0.73149\n",
      "[3000]\tvalidation_0-rmse:0.72991\n",
      "[4000]\tvalidation_0-rmse:0.72885\n",
      "[5000]\tvalidation_0-rmse:0.72803\n",
      "[6000]\tvalidation_0-rmse:0.72733\n",
      "[6999]\tvalidation_0-rmse:0.72675\n"
     ]
    },
    {
     "name": "stderr",
     "output_type": "stream",
     "text": [
      "\u001b[32m[I 2021-08-28 15:57:42,523]\u001b[0m Trial 93 finished with value: 0.7267488411851016 and parameters: {'learning_rate': 0.01930081608438589, 'reg_lambda': 0.003237568039920883, 'reg_alpha': 1.658836252828281e-08, 'subsample': 0.2649754506124559, 'colsample_bytree': 0.4586901062763739, 'max_depth': 1}. Best is trial 61 with value: 0.7175232333970853.\u001b[0m\n"
     ]
    },
    {
     "name": "stdout",
     "output_type": "stream",
     "text": [
      "[15:57:43] WARNING: C:/Users/Administrator/workspace/xgboost-win64_release_1.4.0/src/learner.cc:231: Only 1 GPUs are visible, setting `gpu_id` to 0\n",
      "[0]\tvalidation_0-rmse:7.61352\n",
      "[1000]\tvalidation_0-rmse:0.72007\n",
      "[2000]\tvalidation_0-rmse:0.71843\n",
      "[3000]\tvalidation_0-rmse:0.71808\n",
      "[3604]\tvalidation_0-rmse:0.71814\n"
     ]
    },
    {
     "name": "stderr",
     "output_type": "stream",
     "text": [
      "\u001b[32m[I 2021-08-28 15:58:51,730]\u001b[0m Trial 94 finished with value: 0.7180524053111647 and parameters: {'learning_rate': 0.02158272201713108, 'reg_lambda': 0.007035815302134985, 'reg_alpha': 4.4867592986263025, 'subsample': 0.9481047643099475, 'colsample_bytree': 0.1853251594127231, 'max_depth': 6}. Best is trial 61 with value: 0.7175232333970853.\u001b[0m\n"
     ]
    },
    {
     "name": "stdout",
     "output_type": "stream",
     "text": [
      "[15:58:53] WARNING: C:/Users/Administrator/workspace/xgboost-win64_release_1.4.0/src/learner.cc:231: Only 1 GPUs are visible, setting `gpu_id` to 0\n",
      "[0]\tvalidation_0-rmse:7.65121\n",
      "[1000]\tvalidation_0-rmse:0.72619\n",
      "[2000]\tvalidation_0-rmse:0.72149\n",
      "[3000]\tvalidation_0-rmse:0.71964\n",
      "[4000]\tvalidation_0-rmse:0.71870\n",
      "[5000]\tvalidation_0-rmse:0.71822\n",
      "[6000]\tvalidation_0-rmse:0.71789\n",
      "[6999]\tvalidation_0-rmse:0.71773\n"
     ]
    },
    {
     "name": "stderr",
     "output_type": "stream",
     "text": [
      "\u001b[32m[I 2021-08-28 16:00:20,498]\u001b[0m Trial 95 finished with value: 0.7177295398677069 and parameters: {'learning_rate': 0.016701886207943106, 'reg_lambda': 76.09136721787623, 'reg_alpha': 0.525395908604403, 'subsample': 0.8437149587023844, 'colsample_bytree': 0.1429582886859868, 'max_depth': 4}. Best is trial 61 with value: 0.7175232333970853.\u001b[0m\n"
     ]
    },
    {
     "name": "stdout",
     "output_type": "stream",
     "text": [
      "[16:00:22] WARNING: C:/Users/Administrator/workspace/xgboost-win64_release_1.4.0/src/learner.cc:231: Only 1 GPUs are visible, setting `gpu_id` to 0\n",
      "[0]\tvalidation_0-rmse:7.65426\n",
      "[1000]\tvalidation_0-rmse:0.72571\n",
      "[2000]\tvalidation_0-rmse:0.72172\n",
      "[3000]\tvalidation_0-rmse:0.71996\n",
      "[4000]\tvalidation_0-rmse:0.71921\n",
      "[5000]\tvalidation_0-rmse:0.71881\n",
      "[6000]\tvalidation_0-rmse:0.71868\n",
      "[6999]\tvalidation_0-rmse:0.71863\n"
     ]
    },
    {
     "name": "stderr",
     "output_type": "stream",
     "text": [
      "\u001b[32m[I 2021-08-28 16:01:51,670]\u001b[0m Trial 96 finished with value: 0.7186087492972403 and parameters: {'learning_rate': 0.016298455583788892, 'reg_lambda': 5.447016685072977, 'reg_alpha': 0.38137818122422845, 'subsample': 0.8440802279263808, 'colsample_bytree': 0.610897498378585, 'max_depth': 4}. Best is trial 61 with value: 0.7175232333970853.\u001b[0m\n"
     ]
    },
    {
     "name": "stdout",
     "output_type": "stream",
     "text": [
      "[16:01:52] WARNING: C:/Users/Administrator/workspace/xgboost-win64_release_1.4.0/src/learner.cc:231: Only 1 GPUs are visible, setting `gpu_id` to 0\n",
      "[0]\tvalidation_0-rmse:7.67573\n",
      "[1000]\tvalidation_0-rmse:0.72602\n",
      "[2000]\tvalidation_0-rmse:0.72220\n",
      "[3000]\tvalidation_0-rmse:0.72026\n",
      "[4000]\tvalidation_0-rmse:0.71933\n",
      "[5000]\tvalidation_0-rmse:0.71876\n",
      "[6000]\tvalidation_0-rmse:0.71843\n",
      "[6999]\tvalidation_0-rmse:0.71824\n"
     ]
    },
    {
     "name": "stderr",
     "output_type": "stream",
     "text": [
      "\u001b[32m[I 2021-08-28 16:03:19,904]\u001b[0m Trial 97 finished with value: 0.7182383268668046 and parameters: {'learning_rate': 0.013510702781057494, 'reg_lambda': 1.2127582966585337, 'reg_alpha': 0.08878333184942185, 'subsample': 0.8149394456268888, 'colsample_bytree': 0.2474961891447045, 'max_depth': 4}. Best is trial 61 with value: 0.7175232333970853.\u001b[0m\n"
     ]
    },
    {
     "name": "stdout",
     "output_type": "stream",
     "text": [
      "[16:03:21] WARNING: C:/Users/Administrator/workspace/xgboost-win64_release_1.4.0/src/learner.cc:231: Only 1 GPUs are visible, setting `gpu_id` to 0\n",
      "[0]\tvalidation_0-rmse:7.63629\n",
      "[1000]\tvalidation_0-rmse:0.72666\n",
      "[2000]\tvalidation_0-rmse:0.72279\n",
      "[3000]\tvalidation_0-rmse:0.72077\n",
      "[4000]\tvalidation_0-rmse:0.71965\n",
      "[5000]\tvalidation_0-rmse:0.71894\n",
      "[6000]\tvalidation_0-rmse:0.71853\n",
      "[6999]\tvalidation_0-rmse:0.71829\n"
     ]
    },
    {
     "name": "stderr",
     "output_type": "stream",
     "text": [
      "\u001b[32m[I 2021-08-28 16:04:35,527]\u001b[0m Trial 98 finished with value: 0.7182887666707375 and parameters: {'learning_rate': 0.01862877047002312, 'reg_lambda': 0.05148866777173494, 'reg_alpha': 2.655407647612209e-05, 'subsample': 0.7836242332685336, 'colsample_bytree': 0.27365310146938804, 'max_depth': 3}. Best is trial 61 with value: 0.7175232333970853.\u001b[0m\n"
     ]
    },
    {
     "name": "stdout",
     "output_type": "stream",
     "text": [
      "[16:04:36] WARNING: C:/Users/Administrator/workspace/xgboost-win64_release_1.4.0/src/learner.cc:231: Only 1 GPUs are visible, setting `gpu_id` to 0\n",
      "[0]\tvalidation_0-rmse:7.64557\n",
      "[1000]\tvalidation_0-rmse:0.72487\n",
      "[2000]\tvalidation_0-rmse:0.72091\n",
      "[3000]\tvalidation_0-rmse:0.71932\n",
      "[4000]\tvalidation_0-rmse:0.71855\n",
      "[5000]\tvalidation_0-rmse:0.71813\n",
      "[6000]\tvalidation_0-rmse:0.71791\n",
      "[6999]\tvalidation_0-rmse:0.71780\n"
     ]
    },
    {
     "name": "stderr",
     "output_type": "stream",
     "text": [
      "\u001b[32m[I 2021-08-28 16:06:05,360]\u001b[0m Trial 99 finished with value: 0.7177968841729827 and parameters: {'learning_rate': 0.017423971356174236, 'reg_lambda': 0.02901577751677582, 'reg_alpha': 1.0987563320907057, 'subsample': 0.8760175622799714, 'colsample_bytree': 0.144028236396453, 'max_depth': 4}. Best is trial 61 with value: 0.7175232333970853.\u001b[0m\n"
     ]
    }
   ],
   "source": [
    "study = optuna.create_study(direction=\"minimize\")\n",
    "study.optimize(run, n_trials=100) #100"
   ]
  },
  {
   "cell_type": "code",
   "execution_count": 10,
   "metadata": {},
   "outputs": [
    {
     "data": {
      "text/plain": [
       "{'learning_rate': 0.018728063145787083,\n",
       " 'reg_lambda': 0.01636958273385703,\n",
       " 'reg_alpha': 2.0005220900285042e-08,\n",
       " 'subsample': 0.8948010011350874,\n",
       " 'colsample_bytree': 0.12936159520820203,\n",
       " 'max_depth': 4}"
      ]
     },
     "execution_count": 10,
     "metadata": {},
     "output_type": "execute_result"
    }
   ],
   "source": [
    "study.best_params"
   ]
  },
  {
   "cell_type": "code",
   "execution_count": 14,
   "metadata": {},
   "outputs": [
    {
     "name": "stdout",
     "output_type": "stream",
     "text": [
      "0 0.7177449643775529\n",
      "1 0.7173084385848599\n",
      "2 0.719185160034629\n",
      "3 0.7230672312764698\n",
      "4 0.7417915842242924\n",
      "0.7238194756995607 0.009212304058043765\n"
     ]
    }
   ],
   "source": [
    "final_predictions = []\n",
    "scores = []\n",
    "for fold in range(5):\n",
    "    \n",
    "    xtrain = df[df.kfold != fold].reset_index(drop=True)\n",
    "    xvalid = df[df.kfold == fold].reset_index(drop=True)\n",
    "    xtest = df_test.copy()\n",
    "    \n",
    "    ytrain = xtrain.target\n",
    "    yvalid = xvalid.target\n",
    "    \n",
    "    xtrain = xtrain[useful_features]\n",
    "    xvalid = xvalid[useful_features]\n",
    "    \n",
    "    ordinal_encoder = preprocessing.OrdinalEncoder()\n",
    "    xtrain[object_cols] = ordinal_encoder.fit_transform(xtrain[object_cols])\n",
    "    xvalid[object_cols] = ordinal_encoder.transform(xvalid[object_cols])\n",
    "    xtest[object_cols] = ordinal_encoder.transform(xtest[object_cols])\n",
    "\n",
    "    model = XGBRegressor(\n",
    "        random_state=fold,\n",
    "        tree_method='gpu_hist',\n",
    "        gpu_id=0,\n",
    "        predictor=\"gpu_predictor\",\n",
    "        n_estimators=7000,\n",
    "        learning_rate=0.018728063145787083,\n",
    "        reg_lambda=0.01636958273385703,\n",
    "        reg_alpha=2.0005220900285042e-08,\n",
    "        subsample=0.8948010011350874,\n",
    "        colsample_bytree=0.12936159520820203,\n",
    "        max_depth=4,\n",
    "    )\n",
    "    model.fit(xtrain, ytrain)\n",
    "    preds_valid = model.predict(xvalid)\n",
    "    test_preds = model.predict(xtest)\n",
    "    final_predictions.append(test_preds)\n",
    "    rmse = mean_squared_error(yvalid, preds_valid, squared=False)\n",
    "    print(fold, rmse)\n",
    "    scores.append(rmse)\n",
    "    \n",
    "print(np.mean(scores), np.std(scores))"
   ]
  },
  {
   "cell_type": "code",
   "execution_count": 15,
   "metadata": {},
   "outputs": [],
   "source": [
    "preds = np.mean(np.column_stack(final_predictions), axis=1)"
   ]
  },
  {
   "cell_type": "code",
   "execution_count": 16,
   "metadata": {},
   "outputs": [],
   "source": [
    "sample_submission.target = preds\n",
    "sample_submission.to_csv(\"submission3.csv\", index=False)"
   ]
  },
  {
   "cell_type": "code",
   "execution_count": null,
   "metadata": {},
   "outputs": [],
   "source": []
  }
 ],
 "metadata": {
  "kernelspec": {
   "display_name": "Python 3",
   "language": "python",
   "name": "python3"
  },
  "language_info": {
   "codemirror_mode": {
    "name": "ipython",
    "version": 3
   },
   "file_extension": ".py",
   "mimetype": "text/x-python",
   "name": "python",
   "nbconvert_exporter": "python",
   "pygments_lexer": "ipython3",
   "version": "3.6.10"
  }
 },
 "nbformat": 4,
 "nbformat_minor": 4
}
