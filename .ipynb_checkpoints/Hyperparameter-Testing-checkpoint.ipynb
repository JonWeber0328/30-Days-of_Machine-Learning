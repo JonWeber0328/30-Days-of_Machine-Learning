{
 "cells": [
  {
   "cell_type": "code",
   "execution_count": 1,
   "metadata": {},
   "outputs": [],
   "source": [
    "# Imports\n",
    "import pandas as pd\n",
    "import numpy as np\n",
    "from sklearn import preprocessing\n",
    "from sklearn.model_selection import train_test_split\n",
    "from sklearn.ensemble import RandomForestRegressor\n",
    "from sklearn.metrics import mean_squared_error\n",
    "from xgboost import XGBRegressor\n",
    "import optuna"
   ]
  },
  {
   "cell_type": "code",
   "execution_count": 2,
   "metadata": {},
   "outputs": [],
   "source": [
    "# Model 1\n",
    "df = pd.read_csv(\"data/train_folds.csv\")\n",
    "df_test = pd.read_csv(\"data/test.csv\")\n",
    "sample_submission = pd.read_csv(\"data/sample_submission.csv\")\n",
    "\n",
    "useful_features = [c for c in df.columns if c not in (\"id\", \"target\", \"kfold\")]\n",
    "object_cols = [col for col in useful_features if 'cat' in col]\n",
    "numerical_cols = [col for col in useful_features if col.startswith(\"cont\")]\n",
    "df_test = df_test[useful_features]\n",
    "\n",
    "for col in numerical_cols:\n",
    "    df[col] = np.log1p(df[col])\n",
    "    df_test[col] = np.log1p(df_test[col])\n",
    "\n",
    "useful_features = [c for c in df.columns if c not in (\"id\", \"target\", \"kfold\")]\n",
    "object_cols = [col for col in useful_features if 'cat' in col]\n",
    "df_test = df_test[useful_features]\n"
   ]
  },
  {
   "cell_type": "code",
   "execution_count": 3,
   "metadata": {},
   "outputs": [],
   "source": [
    "def run(trial):\n",
    "    fold = 0\n",
    "    learning_rate = trial.suggest_float(\"learning_rate\", 1e-2, 0.25, log=True)\n",
    "    reg_lambda = trial.suggest_loguniform(\"reg_lambda\", 1e-8, 100.0)\n",
    "    reg_alpha = trial.suggest_loguniform(\"reg_alpha\", 1e-8, 100.0)\n",
    "    subsample = trial.suggest_float(\"subsample\", 0.1, 1.0)\n",
    "    colsample_bytree = trial.suggest_float(\"colsample_bytree\", 0.1, 1.0)\n",
    "    max_depth = trial.suggest_int(\"max_depth\", 1, 7)\n",
    "\n",
    "    xtrain = df[df.kfold != fold].reset_index(drop=True)\n",
    "    xvalid = df[df.kfold == fold].reset_index(drop=True)\n",
    "\n",
    "    ytrain = xtrain.target\n",
    "    yvalid = xvalid.target\n",
    "\n",
    "    xtrain = xtrain[useful_features]\n",
    "    xvalid = xvalid[useful_features]\n",
    "\n",
    "    ordinal_encoder = preprocessing.OrdinalEncoder()\n",
    "    xtrain[object_cols] = ordinal_encoder.fit_transform(xtrain[object_cols])\n",
    "    xvalid[object_cols] = ordinal_encoder.transform(xvalid[object_cols])\n",
    "\n",
    "    model = XGBRegressor(\n",
    "        random_state=42,\n",
    "        tree_method='gpu_hist',\n",
    "        gpu_id=1,\n",
    "        predictor=\"gpu_predictor\",\n",
    "        n_estimators=7000,\n",
    "        learning_rate=learning_rate,\n",
    "        reg_lambda=reg_lambda,\n",
    "        reg_alpha=reg_alpha,\n",
    "        subsample=subsample,\n",
    "        colsample_bytree=colsample_bytree,\n",
    "        max_depth=max_depth,\n",
    "    )\n",
    "    model.fit(xtrain, ytrain, early_stopping_rounds=300, eval_set=[(xvalid, yvalid)], verbose=1000)\n",
    "    preds_valid = model.predict(xvalid)\n",
    "    rmse = mean_squared_error(yvalid, preds_valid, squared=False)\n",
    "    return rmse"
   ]
  },
  {
   "cell_type": "code",
   "execution_count": 4,
   "metadata": {},
   "outputs": [
    {
     "name": "stderr",
     "output_type": "stream",
     "text": [
      "\u001b[32m[I 2021-08-29 17:16:26,798]\u001b[0m A new study created in memory with name: no-name-7dd346c2-e927-4a92-9cdf-0b59ce19e471\u001b[0m\n"
     ]
    },
    {
     "name": "stdout",
     "output_type": "stream",
     "text": [
      "[17:16:29] WARNING: C:/Users/Administrator/workspace/xgboost-win64_release_1.4.0/src/learner.cc:231: Only 1 GPUs are visible, setting `gpu_id` to 0\n",
      "[0]\tvalidation_0-rmse:7.64445\n",
      "[1000]\tvalidation_0-rmse:0.72663\n",
      "[2000]\tvalidation_0-rmse:0.72255\n",
      "[3000]\tvalidation_0-rmse:0.72050\n",
      "[4000]\tvalidation_0-rmse:0.71928\n",
      "[5000]\tvalidation_0-rmse:0.71856\n",
      "[6000]\tvalidation_0-rmse:0.71809\n",
      "[6999]\tvalidation_0-rmse:0.71783\n"
     ]
    },
    {
     "name": "stderr",
     "output_type": "stream",
     "text": [
      "\u001b[32m[I 2021-08-29 17:17:28,191]\u001b[0m Trial 0 finished with value: 0.7178241183314773 and parameters: {'learning_rate': 0.01756937523162302, 'reg_lambda': 1.0853151506759414e-07, 'reg_alpha': 2.5160929834612467, 'subsample': 0.6362270243609827, 'colsample_bytree': 0.3333421958988413, 'max_depth': 3}. Best is trial 0 with value: 0.7178241183314773.\u001b[0m\n"
     ]
    },
    {
     "name": "stdout",
     "output_type": "stream",
     "text": [
      "[17:17:29] WARNING: C:/Users/Administrator/workspace/xgboost-win64_release_1.4.0/src/learner.cc:231: Only 1 GPUs are visible, setting `gpu_id` to 0\n",
      "[0]\tvalidation_0-rmse:7.68761\n",
      "[1000]\tvalidation_0-rmse:0.72182\n",
      "[2000]\tvalidation_0-rmse:0.71971\n",
      "[3000]\tvalidation_0-rmse:0.71926\n",
      "[3539]\tvalidation_0-rmse:0.71927\n"
     ]
    },
    {
     "name": "stderr",
     "output_type": "stream",
     "text": [
      "\u001b[32m[I 2021-08-29 17:18:54,935]\u001b[0m Trial 1 finished with value: 0.719203740606503 and parameters: {'learning_rate': 0.011969126061443562, 'reg_lambda': 0.00908222386310185, 'reg_alpha': 0.25781199761018764, 'subsample': 0.9290904339770187, 'colsample_bytree': 0.4779906301858352, 'max_depth': 7}. Best is trial 0 with value: 0.7178241183314773.\u001b[0m\n"
     ]
    },
    {
     "name": "stdout",
     "output_type": "stream",
     "text": [
      "[17:18:56] WARNING: C:/Users/Administrator/workspace/xgboost-win64_release_1.4.0/src/learner.cc:231: Only 1 GPUs are visible, setting `gpu_id` to 0\n",
      "[0]\tvalidation_0-rmse:5.90964\n",
      "[449]\tvalidation_0-rmse:0.73166\n"
     ]
    },
    {
     "name": "stderr",
     "output_type": "stream",
     "text": [
      "\u001b[32m[I 2021-08-29 17:19:00,996]\u001b[0m Trial 2 finished with value: 0.7252514550503697 and parameters: {'learning_rate': 0.2430860222951181, 'reg_lambda': 0.005149003982227697, 'reg_alpha': 0.03633750623473025, 'subsample': 0.41089797377123616, 'colsample_bytree': 0.4443219258803436, 'max_depth': 5}. Best is trial 0 with value: 0.7178241183314773.\u001b[0m\n"
     ]
    },
    {
     "name": "stdout",
     "output_type": "stream",
     "text": [
      "[17:19:02] WARNING: C:/Users/Administrator/workspace/xgboost-win64_release_1.4.0/src/learner.cc:231: Only 1 GPUs are visible, setting `gpu_id` to 0\n",
      "[0]\tvalidation_0-rmse:7.04908\n",
      "[1000]\tvalidation_0-rmse:0.72853\n",
      "[2000]\tvalidation_0-rmse:0.72601\n",
      "[3000]\tvalidation_0-rmse:0.72451\n",
      "[4000]\tvalidation_0-rmse:0.72354\n",
      "[5000]\tvalidation_0-rmse:0.72274\n",
      "[6000]\tvalidation_0-rmse:0.72211\n",
      "[6999]\tvalidation_0-rmse:0.72168\n"
     ]
    },
    {
     "name": "stderr",
     "output_type": "stream",
     "text": [
      "\u001b[32m[I 2021-08-29 17:19:36,143]\u001b[0m Trial 3 finished with value: 0.7216479750126913 and parameters: {'learning_rate': 0.0948788722677446, 'reg_lambda': 0.07954322133193975, 'reg_alpha': 2.442472646499161e-08, 'subsample': 0.2274790139344514, 'colsample_bytree': 0.12661249264737548, 'max_depth': 1}. Best is trial 0 with value: 0.7178241183314773.\u001b[0m\n"
     ]
    },
    {
     "name": "stdout",
     "output_type": "stream",
     "text": [
      "[17:19:37] WARNING: C:/Users/Administrator/workspace/xgboost-win64_release_1.4.0/src/learner.cc:231: Only 1 GPUs are visible, setting `gpu_id` to 0\n",
      "[0]\tvalidation_0-rmse:7.60843\n",
      "[1000]\tvalidation_0-rmse:0.72064\n",
      "[2000]\tvalidation_0-rmse:0.71954\n",
      "[2429]\tvalidation_0-rmse:0.71959\n"
     ]
    },
    {
     "name": "stderr",
     "output_type": "stream",
     "text": [
      "\u001b[32m[I 2021-08-29 17:20:19,845]\u001b[0m Trial 4 finished with value: 0.7195199435144252 and parameters: {'learning_rate': 0.022243664582963098, 'reg_lambda': 0.005452109223287616, 'reg_alpha': 0.027641775017236813, 'subsample': 0.7941502760975434, 'colsample_bytree': 0.7471544002827858, 'max_depth': 6}. Best is trial 0 with value: 0.7178241183314773.\u001b[0m\n"
     ]
    },
    {
     "name": "stdout",
     "output_type": "stream",
     "text": [
      "[17:20:21] WARNING: C:/Users/Administrator/workspace/xgboost-win64_release_1.4.0/src/learner.cc:231: Only 1 GPUs are visible, setting `gpu_id` to 0\n",
      "[0]\tvalidation_0-rmse:7.64328\n",
      "[1000]\tvalidation_0-rmse:0.73034\n",
      "[2000]\tvalidation_0-rmse:0.72663\n",
      "[3000]\tvalidation_0-rmse:0.72443\n",
      "[4000]\tvalidation_0-rmse:0.72286\n",
      "[5000]\tvalidation_0-rmse:0.72164\n",
      "[6000]\tvalidation_0-rmse:0.72071\n",
      "[6999]\tvalidation_0-rmse:0.72005\n"
     ]
    },
    {
     "name": "stderr",
     "output_type": "stream",
     "text": [
      "\u001b[32m[I 2021-08-29 17:21:11,030]\u001b[0m Trial 5 finished with value: 0.7200451599149538 and parameters: {'learning_rate': 0.017720442963719107, 'reg_lambda': 5.613087761250532e-08, 'reg_alpha': 0.00016759913738667028, 'subsample': 0.5610466919191528, 'colsample_bytree': 0.18332085474960907, 'max_depth': 2}. Best is trial 0 with value: 0.7178241183314773.\u001b[0m\n"
     ]
    },
    {
     "name": "stdout",
     "output_type": "stream",
     "text": [
      "[17:21:12] WARNING: C:/Users/Administrator/workspace/xgboost-win64_release_1.4.0/src/learner.cc:231: Only 1 GPUs are visible, setting `gpu_id` to 0\n",
      "[0]\tvalidation_0-rmse:7.68869\n",
      "[1000]\tvalidation_0-rmse:0.72706\n",
      "[2000]\tvalidation_0-rmse:0.72226\n",
      "[3000]\tvalidation_0-rmse:0.72013\n",
      "[4000]\tvalidation_0-rmse:0.71902\n",
      "[5000]\tvalidation_0-rmse:0.71832\n",
      "[6000]\tvalidation_0-rmse:0.71796\n",
      "[6999]\tvalidation_0-rmse:0.71773\n"
     ]
    },
    {
     "name": "stderr",
     "output_type": "stream",
     "text": [
      "\u001b[32m[I 2021-08-29 17:22:12,116]\u001b[0m Trial 6 finished with value: 0.7177233746564055 and parameters: {'learning_rate': 0.011833150634361574, 'reg_lambda': 0.22399374634160613, 'reg_alpha': 1.2449138805650547e-06, 'subsample': 0.3794688370810433, 'colsample_bytree': 0.1340799740906524, 'max_depth': 4}. Best is trial 6 with value: 0.7177233746564055.\u001b[0m\n"
     ]
    },
    {
     "name": "stdout",
     "output_type": "stream",
     "text": [
      "[17:22:13] WARNING: C:/Users/Administrator/workspace/xgboost-win64_release_1.4.0/src/learner.cc:231: Only 1 GPUs are visible, setting `gpu_id` to 0\n",
      "[0]\tvalidation_0-rmse:7.58335\n",
      "[1000]\tvalidation_0-rmse:0.72272\n",
      "[2000]\tvalidation_0-rmse:0.71943\n",
      "[3000]\tvalidation_0-rmse:0.71837\n",
      "[4000]\tvalidation_0-rmse:0.71802\n",
      "[4908]\tvalidation_0-rmse:0.71800\n"
     ]
    },
    {
     "name": "stderr",
     "output_type": "stream",
     "text": [
      "\u001b[32m[I 2021-08-29 17:23:06,418]\u001b[0m Trial 7 finished with value: 0.7179661089408936 and parameters: {'learning_rate': 0.025501007115389603, 'reg_lambda': 0.00010710090710889698, 'reg_alpha': 21.9162940248522, 'subsample': 0.7103373555312138, 'colsample_bytree': 0.6109712469459182, 'max_depth': 4}. Best is trial 6 with value: 0.7177233746564055.\u001b[0m\n"
     ]
    },
    {
     "name": "stdout",
     "output_type": "stream",
     "text": [
      "[17:23:07] WARNING: C:/Users/Administrator/workspace/xgboost-win64_release_1.4.0/src/learner.cc:231: Only 1 GPUs are visible, setting `gpu_id` to 0\n",
      "[0]\tvalidation_0-rmse:7.01511\n",
      "[752]\tvalidation_0-rmse:0.72143\n"
     ]
    },
    {
     "name": "stderr",
     "output_type": "stream",
     "text": [
      "\u001b[32m[I 2021-08-29 17:23:20,144]\u001b[0m Trial 8 finished with value: 0.7202750109385286 and parameters: {'learning_rate': 0.0992810422158607, 'reg_lambda': 0.6706933937383727, 'reg_alpha': 1.3386829642678956e-06, 'subsample': 0.8066747736851384, 'colsample_bytree': 0.37514616506481113, 'max_depth': 6}. Best is trial 6 with value: 0.7177233746564055.\u001b[0m\n"
     ]
    },
    {
     "name": "stdout",
     "output_type": "stream",
     "text": [
      "[17:23:21] WARNING: C:/Users/Administrator/workspace/xgboost-win64_release_1.4.0/src/learner.cc:231: Only 1 GPUs are visible, setting `gpu_id` to 0\n",
      "[0]\tvalidation_0-rmse:6.04897\n",
      "[819]\tvalidation_0-rmse:0.71906\n"
     ]
    },
    {
     "name": "stderr",
     "output_type": "stream",
     "text": [
      "\u001b[32m[I 2021-08-29 17:23:28,477]\u001b[0m Trial 9 finished with value: 0.7188013657656568 and parameters: {'learning_rate': 0.22489192921071172, 'reg_lambda': 0.05872702455406204, 'reg_alpha': 2.502004343609739e-07, 'subsample': 0.6529449826109807, 'colsample_bytree': 0.2242813040138942, 'max_depth': 3}. Best is trial 6 with value: 0.7177233746564055.\u001b[0m\n"
     ]
    },
    {
     "name": "stdout",
     "output_type": "stream",
     "text": [
      "[17:23:29] WARNING: C:/Users/Administrator/workspace/xgboost-win64_release_1.4.0/src/learner.cc:231: Only 1 GPUs are visible, setting `gpu_id` to 0\n",
      "[0]\tvalidation_0-rmse:7.44114\n",
      "[1000]\tvalidation_0-rmse:0.72215\n",
      "[2000]\tvalidation_0-rmse:0.72150\n",
      "[2152]\tvalidation_0-rmse:0.72156\n"
     ]
    },
    {
     "name": "stderr",
     "output_type": "stream",
     "text": [
      "\u001b[32m[I 2021-08-29 17:23:46,658]\u001b[0m Trial 10 finished with value: 0.7213763124814945 and parameters: {'learning_rate': 0.04408546979120303, 'reg_lambda': 60.543841496989465, 'reg_alpha': 3.518460233777744e-05, 'subsample': 0.10818829547475894, 'colsample_bytree': 0.9178413996884163, 'max_depth': 4}. Best is trial 6 with value: 0.7177233746564055.\u001b[0m\n"
     ]
    },
    {
     "name": "stdout",
     "output_type": "stream",
     "text": [
      "[17:23:47] WARNING: C:/Users/Administrator/workspace/xgboost-win64_release_1.4.0/src/learner.cc:231: Only 1 GPUs are visible, setting `gpu_id` to 0\n",
      "[0]\tvalidation_0-rmse:7.69564\n",
      "[1000]\tvalidation_0-rmse:0.72918\n",
      "[2000]\tvalidation_0-rmse:0.72508\n",
      "[3000]\tvalidation_0-rmse:0.72263\n",
      "[4000]\tvalidation_0-rmse:0.72111\n",
      "[5000]\tvalidation_0-rmse:0.72009\n",
      "[6000]\tvalidation_0-rmse:0.71942\n",
      "[6999]\tvalidation_0-rmse:0.71888\n"
     ]
    },
    {
     "name": "stderr",
     "output_type": "stream",
     "text": [
      "\u001b[32m[I 2021-08-29 17:24:39,692]\u001b[0m Trial 11 finished with value: 0.7188849214821897 and parameters: {'learning_rate': 0.010930484963319309, 'reg_lambda': 1.3668568568649663e-08, 'reg_alpha': 2.096063926177794, 'subsample': 0.39253964437053857, 'colsample_bytree': 0.30347841237059087, 'max_depth': 3}. Best is trial 6 with value: 0.7177233746564055.\u001b[0m\n"
     ]
    },
    {
     "name": "stdout",
     "output_type": "stream",
     "text": [
      "[17:24:40] WARNING: C:/Users/Administrator/workspace/xgboost-win64_release_1.4.0/src/learner.cc:231: Only 1 GPUs are visible, setting `gpu_id` to 0\n",
      "[0]\tvalidation_0-rmse:7.49756\n",
      "[1000]\tvalidation_0-rmse:0.72319\n",
      "[2000]\tvalidation_0-rmse:0.71958\n",
      "[3000]\tvalidation_0-rmse:0.71822\n",
      "[4000]\tvalidation_0-rmse:0.71766\n",
      "[5000]\tvalidation_0-rmse:0.71750\n",
      "[6000]\tvalidation_0-rmse:0.71737\n",
      "[6169]\tvalidation_0-rmse:0.71739\n"
     ]
    },
    {
     "name": "stderr",
     "output_type": "stream",
     "text": [
      "\u001b[32m[I 2021-08-29 17:25:27,219]\u001b[0m Trial 12 finished with value: 0.717342746308976 and parameters: {'learning_rate': 0.036644358647231284, 'reg_lambda': 8.063350040512181e-06, 'reg_alpha': 0.0012668618514611496, 'subsample': 0.42780744630801093, 'colsample_bytree': 0.11567326601789263, 'max_depth': 3}. Best is trial 12 with value: 0.717342746308976.\u001b[0m\n"
     ]
    },
    {
     "name": "stdout",
     "output_type": "stream",
     "text": [
      "[17:25:28] WARNING: C:/Users/Administrator/workspace/xgboost-win64_release_1.4.0/src/learner.cc:231: Only 1 GPUs are visible, setting `gpu_id` to 0\n",
      "[0]\tvalidation_0-rmse:7.47949\n",
      "[1000]\tvalidation_0-rmse:0.72651\n",
      "[2000]\tvalidation_0-rmse:0.72274\n",
      "[3000]\tvalidation_0-rmse:0.72056\n",
      "[4000]\tvalidation_0-rmse:0.71943\n",
      "[5000]\tvalidation_0-rmse:0.71878\n",
      "[6000]\tvalidation_0-rmse:0.71836\n",
      "[6999]\tvalidation_0-rmse:0.71809\n"
     ]
    },
    {
     "name": "stderr",
     "output_type": "stream",
     "text": [
      "\u001b[32m[I 2021-08-29 17:26:15,508]\u001b[0m Trial 13 finished with value: 0.7180765067661756 and parameters: {'learning_rate': 0.038986791448844205, 'reg_lambda': 1.747039643405568e-05, 'reg_alpha': 0.0020736573578118357, 'subsample': 0.42582585007777674, 'colsample_bytree': 0.1352597331274153, 'max_depth': 2}. Best is trial 12 with value: 0.717342746308976.\u001b[0m\n"
     ]
    },
    {
     "name": "stdout",
     "output_type": "stream",
     "text": [
      "[17:26:16] WARNING: C:/Users/Administrator/workspace/xgboost-win64_release_1.4.0/src/learner.cc:231: Only 1 GPUs are visible, setting `gpu_id` to 0\n",
      "[0]\tvalidation_0-rmse:7.25589\n",
      "[883]\tvalidation_0-rmse:0.72225\n"
     ]
    },
    {
     "name": "stderr",
     "output_type": "stream",
     "text": [
      "\u001b[32m[I 2021-08-29 17:26:26,283]\u001b[0m Trial 14 finished with value: 0.7217381434484182 and parameters: {'learning_rate': 0.06800193042552526, 'reg_lambda': 5.939428784554394e-06, 'reg_alpha': 6.484702578599184e-06, 'subsample': 0.28167375966713737, 'colsample_bytree': 0.6145286145424999, 'max_depth': 5}. Best is trial 12 with value: 0.717342746308976.\u001b[0m\n"
     ]
    },
    {
     "name": "stdout",
     "output_type": "stream",
     "text": [
      "[17:26:27] WARNING: C:/Users/Administrator/workspace/xgboost-win64_release_1.4.0/src/learner.cc:231: Only 1 GPUs are visible, setting `gpu_id` to 0\n",
      "[0]\tvalidation_0-rmse:7.51733\n",
      "[1000]\tvalidation_0-rmse:0.73235\n",
      "[2000]\tvalidation_0-rmse:0.72961\n",
      "[3000]\tvalidation_0-rmse:0.72819\n",
      "[4000]\tvalidation_0-rmse:0.72715\n",
      "[5000]\tvalidation_0-rmse:0.72631\n",
      "[6000]\tvalidation_0-rmse:0.72562\n",
      "[6999]\tvalidation_0-rmse:0.72508\n"
     ]
    },
    {
     "name": "stderr",
     "output_type": "stream",
     "text": [
      "\u001b[32m[I 2021-08-29 17:27:08,339]\u001b[0m Trial 15 finished with value: 0.7250790797272241 and parameters: {'learning_rate': 0.034082263282131625, 'reg_lambda': 18.77469892997157, 'reg_alpha': 0.0017485138111718317, 'subsample': 0.4890713501893656, 'colsample_bytree': 0.2614699549897297, 'max_depth': 1}. Best is trial 12 with value: 0.717342746308976.\u001b[0m\n"
     ]
    },
    {
     "name": "stdout",
     "output_type": "stream",
     "text": [
      "[17:27:09] WARNING: C:/Users/Administrator/workspace/xgboost-win64_release_1.4.0/src/learner.cc:231: Only 1 GPUs are visible, setting `gpu_id` to 0\n",
      "[0]\tvalidation_0-rmse:7.30675\n",
      "[1000]\tvalidation_0-rmse:0.71862\n",
      "[1537]\tvalidation_0-rmse:0.71844\n"
     ]
    },
    {
     "name": "stderr",
     "output_type": "stream",
     "text": [
      "\u001b[32m[I 2021-08-29 17:27:25,244]\u001b[0m Trial 16 finished with value: 0.7183441604051882 and parameters: {'learning_rate': 0.06141239668652146, 'reg_lambda': 1.391974735464809e-06, 'reg_alpha': 1.507301877746746e-08, 'subsample': 0.2983216856967943, 'colsample_bytree': 0.11089667304801286, 'max_depth': 5}. Best is trial 12 with value: 0.717342746308976.\u001b[0m\n"
     ]
    },
    {
     "name": "stdout",
     "output_type": "stream",
     "text": [
      "[17:27:26] WARNING: C:/Users/Administrator/workspace/xgboost-win64_release_1.4.0/src/learner.cc:231: Only 1 GPUs are visible, setting `gpu_id` to 0\n",
      "[0]\tvalidation_0-rmse:6.65592\n",
      "[1000]\tvalidation_0-rmse:0.72208\n",
      "[1856]\tvalidation_0-rmse:0.72197\n"
     ]
    },
    {
     "name": "stderr",
     "output_type": "stream",
     "text": [
      "\u001b[32m[I 2021-08-29 17:27:37,479]\u001b[0m Trial 17 finished with value: 0.7218325824001236 and parameters: {'learning_rate': 0.14596239115808174, 'reg_lambda': 0.00028618613153522874, 'reg_alpha': 0.0001503127718756276, 'subsample': 0.14788414625788338, 'colsample_bytree': 0.8124542241879772, 'max_depth': 2}. Best is trial 12 with value: 0.717342746308976.\u001b[0m\n"
     ]
    },
    {
     "name": "stdout",
     "output_type": "stream",
     "text": [
      "[17:27:38] WARNING: C:/Users/Administrator/workspace/xgboost-win64_release_1.4.0/src/learner.cc:231: Only 1 GPUs are visible, setting `gpu_id` to 0\n",
      "[0]\tvalidation_0-rmse:7.66820\n",
      "[1000]\tvalidation_0-rmse:0.72526\n",
      "[2000]\tvalidation_0-rmse:0.72137\n",
      "[3000]\tvalidation_0-rmse:0.71961\n",
      "[4000]\tvalidation_0-rmse:0.71869\n",
      "[5000]\tvalidation_0-rmse:0.71830\n",
      "[6000]\tvalidation_0-rmse:0.71812\n",
      "[6999]\tvalidation_0-rmse:0.71800\n"
     ]
    },
    {
     "name": "stderr",
     "output_type": "stream",
     "text": [
      "\u001b[32m[I 2021-08-29 17:28:45,809]\u001b[0m Trial 18 finished with value: 0.7179888486148608 and parameters: {'learning_rate': 0.014491685669699715, 'reg_lambda': 2.2198095249990137, 'reg_alpha': 8.466583590992398e-07, 'subsample': 0.505679428455873, 'colsample_bytree': 0.4050433118792647, 'max_depth': 4}. Best is trial 12 with value: 0.717342746308976.\u001b[0m\n"
     ]
    },
    {
     "name": "stdout",
     "output_type": "stream",
     "text": [
      "[17:28:47] WARNING: C:/Users/Administrator/workspace/xgboost-win64_release_1.4.0/src/learner.cc:231: Only 1 GPUs are visible, setting `gpu_id` to 0\n",
      "[0]\tvalidation_0-rmse:7.58465\n",
      "[1000]\tvalidation_0-rmse:0.72399\n",
      "[2000]\tvalidation_0-rmse:0.72047\n",
      "[3000]\tvalidation_0-rmse:0.71904\n",
      "[4000]\tvalidation_0-rmse:0.71837\n",
      "[5000]\tvalidation_0-rmse:0.71805\n",
      "[6000]\tvalidation_0-rmse:0.71786\n",
      "[6626]\tvalidation_0-rmse:0.71785\n"
     ]
    },
    {
     "name": "stderr",
     "output_type": "stream",
     "text": [
      "\u001b[32m[I 2021-08-29 17:29:35,866]\u001b[0m Trial 19 finished with value: 0.717836719739494 and parameters: {'learning_rate': 0.025334828954698196, 'reg_lambda': 1.05447674325293e-06, 'reg_alpha': 1.5534458672306307e-05, 'subsample': 0.3527140110399369, 'colsample_bytree': 0.23252579293957115, 'max_depth': 3}. Best is trial 12 with value: 0.717342746308976.\u001b[0m\n"
     ]
    },
    {
     "name": "stdout",
     "output_type": "stream",
     "text": [
      "[17:29:37] WARNING: C:/Users/Administrator/workspace/xgboost-win64_release_1.4.0/src/learner.cc:231: Only 1 GPUs are visible, setting `gpu_id` to 0\n",
      "[0]\tvalidation_0-rmse:7.53729\n",
      "[1000]\tvalidation_0-rmse:0.72063\n",
      "[1512]\tvalidation_0-rmse:0.72067\n"
     ]
    },
    {
     "name": "stderr",
     "output_type": "stream",
     "text": [
      "\u001b[32m[I 2021-08-29 17:30:03,536]\u001b[0m Trial 20 finished with value: 0.7205021417738618 and parameters: {'learning_rate': 0.031469439185365274, 'reg_lambda': 7.818235529848127e-05, 'reg_alpha': 0.00752391197638051, 'subsample': 0.5674643453482292, 'colsample_bytree': 0.9956806585670828, 'max_depth': 6}. Best is trial 12 with value: 0.717342746308976.\u001b[0m\n"
     ]
    },
    {
     "name": "stdout",
     "output_type": "stream",
     "text": [
      "[17:30:04] WARNING: C:/Users/Administrator/workspace/xgboost-win64_release_1.4.0/src/learner.cc:231: Only 1 GPUs are visible, setting `gpu_id` to 0\n",
      "[0]\tvalidation_0-rmse:7.64351\n",
      "[1000]\tvalidation_0-rmse:0.72772\n",
      "[2000]\tvalidation_0-rmse:0.72337\n",
      "[3000]\tvalidation_0-rmse:0.72115\n",
      "[4000]\tvalidation_0-rmse:0.71985\n",
      "[5000]\tvalidation_0-rmse:0.71906\n",
      "[6000]\tvalidation_0-rmse:0.71851\n",
      "[6999]\tvalidation_0-rmse:0.71817\n"
     ]
    },
    {
     "name": "stderr",
     "output_type": "stream",
     "text": [
      "\u001b[32m[I 2021-08-29 17:31:08,149]\u001b[0m Trial 21 finished with value: 0.7181672297553267 and parameters: {'learning_rate': 0.017694561958431453, 'reg_lambda': 1.858782765622169e-07, 'reg_alpha': 39.295145596488915, 'subsample': 0.6540294287133149, 'colsample_bytree': 0.32310395130017433, 'max_depth': 3}. Best is trial 12 with value: 0.717342746308976.\u001b[0m\n"
     ]
    },
    {
     "name": "stdout",
     "output_type": "stream",
     "text": [
      "[17:31:09] WARNING: C:/Users/Administrator/workspace/xgboost-win64_release_1.4.0/src/learner.cc:231: Only 1 GPUs are visible, setting `gpu_id` to 0\n",
      "[0]\tvalidation_0-rmse:7.66973\n",
      "[1000]\tvalidation_0-rmse:0.72508\n",
      "[2000]\tvalidation_0-rmse:0.72130\n",
      "[3000]\tvalidation_0-rmse:0.71953\n",
      "[4000]\tvalidation_0-rmse:0.71863\n",
      "[5000]\tvalidation_0-rmse:0.71813\n",
      "[6000]\tvalidation_0-rmse:0.71787\n",
      "[6999]\tvalidation_0-rmse:0.71776\n"
     ]
    },
    {
     "name": "stderr",
     "output_type": "stream",
     "text": [
      "\u001b[32m[I 2021-08-29 17:32:19,650]\u001b[0m Trial 22 finished with value: 0.7177463778433788 and parameters: {'learning_rate': 0.014287630455236474, 'reg_lambda': 1.1504054923844724e-07, 'reg_alpha': 1.0365659281737423, 'subsample': 0.6110898463815898, 'colsample_bytree': 0.3306124043712671, 'max_depth': 4}. Best is trial 12 with value: 0.717342746308976.\u001b[0m\n"
     ]
    },
    {
     "name": "stdout",
     "output_type": "stream",
     "text": [
      "[17:32:20] WARNING: C:/Users/Administrator/workspace/xgboost-win64_release_1.4.0/src/learner.cc:231: Only 1 GPUs are visible, setting `gpu_id` to 0\n",
      "[0]\tvalidation_0-rmse:7.69708\n",
      "[1000]\tvalidation_0-rmse:0.72693\n",
      "[2000]\tvalidation_0-rmse:0.72252\n",
      "[3000]\tvalidation_0-rmse:0.72050\n",
      "[4000]\tvalidation_0-rmse:0.71934\n",
      "[5000]\tvalidation_0-rmse:0.71863\n",
      "[6000]\tvalidation_0-rmse:0.71821\n",
      "[6999]\tvalidation_0-rmse:0.71795\n"
     ]
    },
    {
     "name": "stderr",
     "output_type": "stream",
     "text": [
      "\u001b[32m[I 2021-08-29 17:33:26,025]\u001b[0m Trial 23 finished with value: 0.7179460251979717 and parameters: {'learning_rate': 0.010739842103212409, 'reg_lambda': 1.3908319413829119e-06, 'reg_alpha': 0.13904478848651378, 'subsample': 0.46585823295002293, 'colsample_bytree': 0.19988502089669288, 'max_depth': 4}. Best is trial 12 with value: 0.717342746308976.\u001b[0m\n"
     ]
    },
    {
     "name": "stdout",
     "output_type": "stream",
     "text": [
      "[17:33:27] WARNING: C:/Users/Administrator/workspace/xgboost-win64_release_1.4.0/src/learner.cc:231: Only 1 GPUs are visible, setting `gpu_id` to 0\n",
      "[0]\tvalidation_0-rmse:7.66959\n",
      "[1000]\tvalidation_0-rmse:0.72345\n",
      "[2000]\tvalidation_0-rmse:0.72039\n",
      "[3000]\tvalidation_0-rmse:0.71949\n",
      "[4000]\tvalidation_0-rmse:0.71922\n",
      "[4330]\tvalidation_0-rmse:0.71921\n"
     ]
    },
    {
     "name": "stderr",
     "output_type": "stream",
     "text": [
      "\u001b[32m[I 2021-08-29 17:34:14,621]\u001b[0m Trial 24 finished with value: 0.7192047824930106 and parameters: {'learning_rate': 0.014306822150160636, 'reg_lambda': 0.0005146904348704625, 'reg_alpha': 0.00015555862042451274, 'subsample': 0.331465284697688, 'colsample_bytree': 0.5146928193266265, 'max_depth': 5}. Best is trial 12 with value: 0.717342746308976.\u001b[0m\n"
     ]
    },
    {
     "name": "stdout",
     "output_type": "stream",
     "text": [
      "[17:34:15] WARNING: C:/Users/Administrator/workspace/xgboost-win64_release_1.4.0/src/learner.cc:231: Only 1 GPUs are visible, setting `gpu_id` to 0\n",
      "[0]\tvalidation_0-rmse:7.60215\n",
      "[1000]\tvalidation_0-rmse:0.72387\n",
      "[2000]\tvalidation_0-rmse:0.71962\n",
      "[3000]\tvalidation_0-rmse:0.71812\n",
      "[4000]\tvalidation_0-rmse:0.71754\n",
      "[5000]\tvalidation_0-rmse:0.71733\n",
      "[6000]\tvalidation_0-rmse:0.71718\n",
      "[6320]\tvalidation_0-rmse:0.71718\n"
     ]
    },
    {
     "name": "stderr",
     "output_type": "stream",
     "text": [
      "\u001b[32m[I 2021-08-29 17:35:16,910]\u001b[0m Trial 25 finished with value: 0.7171706843190623 and parameters: {'learning_rate': 0.023062355795599884, 'reg_lambda': 3.076951810180953e-05, 'reg_alpha': 2.689951740914825, 'subsample': 0.5620850815288073, 'colsample_bytree': 0.10203012886114737, 'max_depth': 4}. Best is trial 25 with value: 0.7171706843190623.\u001b[0m\n"
     ]
    },
    {
     "name": "stdout",
     "output_type": "stream",
     "text": [
      "[17:35:18] WARNING: C:/Users/Administrator/workspace/xgboost-win64_release_1.4.0/src/learner.cc:231: Only 1 GPUs are visible, setting `gpu_id` to 0\n",
      "[0]\tvalidation_0-rmse:7.35477\n",
      "[1000]\tvalidation_0-rmse:0.72375\n",
      "[2000]\tvalidation_0-rmse:0.72058\n",
      "[3000]\tvalidation_0-rmse:0.71935\n",
      "[4000]\tvalidation_0-rmse:0.71880\n",
      "[5000]\tvalidation_0-rmse:0.71858\n",
      "[5704]\tvalidation_0-rmse:0.71851\n"
     ]
    },
    {
     "name": "stderr",
     "output_type": "stream",
     "text": [
      "\u001b[32m[I 2021-08-29 17:35:51,508]\u001b[0m Trial 26 finished with value: 0.7184876032013129 and parameters: {'learning_rate': 0.055161359142497715, 'reg_lambda': 2.1238684211063463e-05, 'reg_alpha': 2.585643082095199e-07, 'subsample': 0.2193691799500196, 'colsample_bytree': 0.16731072683712508, 'max_depth': 2}. Best is trial 25 with value: 0.7171706843190623.\u001b[0m\n"
     ]
    },
    {
     "name": "stdout",
     "output_type": "stream",
     "text": [
      "[17:35:52] WARNING: C:/Users/Administrator/workspace/xgboost-win64_release_1.4.0/src/learner.cc:231: Only 1 GPUs are visible, setting `gpu_id` to 0\n",
      "[0]\tvalidation_0-rmse:7.60687\n",
      "[1000]\tvalidation_0-rmse:0.72467\n",
      "[2000]\tvalidation_0-rmse:0.71997\n",
      "[3000]\tvalidation_0-rmse:0.71831\n",
      "[4000]\tvalidation_0-rmse:0.71755\n",
      "[5000]\tvalidation_0-rmse:0.71722\n",
      "[6000]\tvalidation_0-rmse:0.71700\n",
      "[6999]\tvalidation_0-rmse:0.71696\n"
     ]
    },
    {
     "name": "stderr",
     "output_type": "stream",
     "text": [
      "\u001b[32m[I 2021-08-29 17:37:00,534]\u001b[0m Trial 27 finished with value: 0.7169465235510132 and parameters: {'learning_rate': 0.022451969467245494, 'reg_lambda': 0.10796516055509386, 'reg_alpha': 10.748373060350762, 'subsample': 0.5427297895434502, 'colsample_bytree': 0.10916520022417267, 'max_depth': 4}. Best is trial 27 with value: 0.7169465235510132.\u001b[0m\n"
     ]
    },
    {
     "name": "stdout",
     "output_type": "stream",
     "text": [
      "[17:37:01] WARNING: C:/Users/Administrator/workspace/xgboost-win64_release_1.4.0/src/learner.cc:231: Only 1 GPUs are visible, setting `gpu_id` to 0\n",
      "[0]\tvalidation_0-rmse:7.55264\n",
      "[1000]\tvalidation_0-rmse:0.72548\n",
      "[2000]\tvalidation_0-rmse:0.72197\n",
      "[3000]\tvalidation_0-rmse:0.72051\n",
      "[4000]\tvalidation_0-rmse:0.71971\n",
      "[5000]\tvalidation_0-rmse:0.71922\n",
      "[6000]\tvalidation_0-rmse:0.71889\n",
      "[6999]\tvalidation_0-rmse:0.71867\n"
     ]
    },
    {
     "name": "stderr",
     "output_type": "stream",
     "text": [
      "\u001b[32m[I 2021-08-29 17:38:03,599]\u001b[0m Trial 28 finished with value: 0.7186735766041162 and parameters: {'learning_rate': 0.029495154883457244, 'reg_lambda': 0.0016652232959815541, 'reg_alpha': 84.3088688822145, 'subsample': 0.5395162535774537, 'colsample_bytree': 0.2578390556436648, 'max_depth': 3}. Best is trial 27 with value: 0.7169465235510132.\u001b[0m\n"
     ]
    },
    {
     "name": "stdout",
     "output_type": "stream",
     "text": [
      "[17:38:04] WARNING: C:/Users/Administrator/workspace/xgboost-win64_release_1.4.0/src/learner.cc:231: Only 1 GPUs are visible, setting `gpu_id` to 0\n",
      "[0]\tvalidation_0-rmse:7.61152\n",
      "[1000]\tvalidation_0-rmse:0.72235\n",
      "[2000]\tvalidation_0-rmse:0.71846\n",
      "[3000]\tvalidation_0-rmse:0.71749\n",
      "[4000]\tvalidation_0-rmse:0.71718\n",
      "[4947]\tvalidation_0-rmse:0.71713\n"
     ]
    },
    {
     "name": "stderr",
     "output_type": "stream",
     "text": [
      "\u001b[32m[I 2021-08-29 17:39:06,557]\u001b[0m Trial 29 finished with value: 0.7170909561685476 and parameters: {'learning_rate': 0.021846675749164716, 'reg_lambda': 8.130514218071908e-06, 'reg_alpha': 5.526670119023218, 'subsample': 0.7360678863219193, 'colsample_bytree': 0.10278449484416753, 'max_depth': 5}. Best is trial 27 with value: 0.7169465235510132.\u001b[0m\n"
     ]
    },
    {
     "name": "stdout",
     "output_type": "stream",
     "text": [
      "[17:39:07] WARNING: C:/Users/Administrator/workspace/xgboost-win64_release_1.4.0/src/learner.cc:231: Only 1 GPUs are visible, setting `gpu_id` to 0\n",
      "[0]\tvalidation_0-rmse:7.62801\n",
      "[1000]\tvalidation_0-rmse:0.71971\n",
      "[2000]\tvalidation_0-rmse:0.71814\n",
      "[2669]\tvalidation_0-rmse:0.71802\n"
     ]
    },
    {
     "name": "stderr",
     "output_type": "stream",
     "text": [
      "\u001b[32m[I 2021-08-29 17:40:04,639]\u001b[0m Trial 30 finished with value: 0.7179935158285866 and parameters: {'learning_rate': 0.019702908691947664, 'reg_lambda': 0.032250352974290644, 'reg_alpha': 7.1820117750843115, 'subsample': 0.7571085620780829, 'colsample_bytree': 0.27324730736051894, 'max_depth': 7}. Best is trial 27 with value: 0.7169465235510132.\u001b[0m\n"
     ]
    },
    {
     "name": "stdout",
     "output_type": "stream",
     "text": [
      "[17:40:05] WARNING: C:/Users/Administrator/workspace/xgboost-win64_release_1.4.0/src/learner.cc:231: Only 1 GPUs are visible, setting `gpu_id` to 0\n",
      "[0]\tvalidation_0-rmse:7.57659\n",
      "[1000]\tvalidation_0-rmse:0.72087\n",
      "[2000]\tvalidation_0-rmse:0.71800\n",
      "[3000]\tvalidation_0-rmse:0.71745\n",
      "[4000]\tvalidation_0-rmse:0.71740\n",
      "[4059]\tvalidation_0-rmse:0.71741\n"
     ]
    },
    {
     "name": "stderr",
     "output_type": "stream",
     "text": [
      "\u001b[32m[I 2021-08-29 17:41:00,941]\u001b[0m Trial 31 finished with value: 0.7173762897690729 and parameters: {'learning_rate': 0.026380187772574032, 'reg_lambda': 7.680370307558144e-06, 'reg_alpha': 0.7127157672989243, 'subsample': 0.9017423935150755, 'colsample_bytree': 0.1116985326251396, 'max_depth': 5}. Best is trial 27 with value: 0.7169465235510132.\u001b[0m\n"
     ]
    },
    {
     "name": "stdout",
     "output_type": "stream",
     "text": [
      "[17:41:02] WARNING: C:/Users/Administrator/workspace/xgboost-win64_release_1.4.0/src/learner.cc:231: Only 1 GPUs are visible, setting `gpu_id` to 0\n",
      "[0]\tvalidation_0-rmse:7.47349\n",
      "[1000]\tvalidation_0-rmse:0.71985\n",
      "[2000]\tvalidation_0-rmse:0.71780\n",
      "[3000]\tvalidation_0-rmse:0.71737\n",
      "[3631]\tvalidation_0-rmse:0.71737\n"
     ]
    },
    {
     "name": "stderr",
     "output_type": "stream",
     "text": [
      "\u001b[32m[I 2021-08-29 17:41:40,394]\u001b[0m Trial 32 finished with value: 0.7173378709312426 and parameters: {'learning_rate': 0.03975794852080302, 'reg_lambda': 5.57665818182354e-05, 'reg_alpha': 4.811571298038526, 'subsample': 0.704222486468815, 'colsample_bytree': 0.1702557696977156, 'max_depth': 4}. Best is trial 27 with value: 0.7169465235510132.\u001b[0m\n"
     ]
    },
    {
     "name": "stdout",
     "output_type": "stream",
     "text": [
      "[17:41:41] WARNING: C:/Users/Administrator/workspace/xgboost-win64_release_1.4.0/src/learner.cc:231: Only 1 GPUs are visible, setting `gpu_id` to 0\n",
      "[0]\tvalidation_0-rmse:7.61935\n",
      "[1000]\tvalidation_0-rmse:0.72131\n",
      "[2000]\tvalidation_0-rmse:0.71854\n",
      "[3000]\tvalidation_0-rmse:0.71764\n",
      "[4000]\tvalidation_0-rmse:0.71738\n",
      "[4783]\tvalidation_0-rmse:0.71737\n"
     ]
    },
    {
     "name": "stderr",
     "output_type": "stream",
     "text": [
      "\u001b[32m[I 2021-08-29 17:42:47,437]\u001b[0m Trial 33 finished with value: 0.7173334472483539 and parameters: {'learning_rate': 0.020827391790181417, 'reg_lambda': 7.470170204063254e-05, 'reg_alpha': 7.824601616677549, 'subsample': 0.8810178873139695, 'colsample_bytree': 0.1985307545053118, 'max_depth': 5}. Best is trial 27 with value: 0.7169465235510132.\u001b[0m\n"
     ]
    },
    {
     "name": "stdout",
     "output_type": "stream",
     "text": [
      "[17:42:48] WARNING: C:/Users/Administrator/workspace/xgboost-win64_release_1.4.0/src/learner.cc:231: Only 1 GPUs are visible, setting `gpu_id` to 0\n",
      "[0]\tvalidation_0-rmse:7.61651\n",
      "[1000]\tvalidation_0-rmse:0.71982\n",
      "[2000]\tvalidation_0-rmse:0.71834\n",
      "[3000]\tvalidation_0-rmse:0.71821\n",
      "[3072]\tvalidation_0-rmse:0.71819\n"
     ]
    },
    {
     "name": "stderr",
     "output_type": "stream",
     "text": [
      "\u001b[32m[I 2021-08-29 17:43:42,874]\u001b[0m Trial 34 finished with value: 0.7181494700567026 and parameters: {'learning_rate': 0.021196032158061946, 'reg_lambda': 0.0011711449797167507, 'reg_alpha': 0.18510300548017813, 'subsample': 0.9874738774768889, 'colsample_bytree': 0.20028588123001845, 'max_depth': 6}. Best is trial 27 with value: 0.7169465235510132.\u001b[0m\n"
     ]
    },
    {
     "name": "stdout",
     "output_type": "stream",
     "text": [
      "[17:43:44] WARNING: C:/Users/Administrator/workspace/xgboost-win64_release_1.4.0/src/learner.cc:231: Only 1 GPUs are visible, setting `gpu_id` to 0\n",
      "[0]\tvalidation_0-rmse:7.66217\n",
      "[1000]\tvalidation_0-rmse:0.72379\n",
      "[2000]\tvalidation_0-rmse:0.72015\n",
      "[3000]\tvalidation_0-rmse:0.71874\n",
      "[4000]\tvalidation_0-rmse:0.71815\n",
      "[5000]\tvalidation_0-rmse:0.71788\n",
      "[5299]\tvalidation_0-rmse:0.71788\n"
     ]
    },
    {
     "name": "stderr",
     "output_type": "stream",
     "text": [
      "\u001b[32m[I 2021-08-29 17:44:58,331]\u001b[0m Trial 35 finished with value: 0.717877048232456 and parameters: {'learning_rate': 0.015271603702997986, 'reg_lambda': 0.012910581102599255, 'reg_alpha': 13.556879763611924, 'subsample': 0.8554682308216156, 'colsample_bytree': 0.39515190142374634, 'max_depth': 5}. Best is trial 27 with value: 0.7169465235510132.\u001b[0m\n"
     ]
    },
    {
     "name": "stdout",
     "output_type": "stream",
     "text": [
      "[17:44:59] WARNING: C:/Users/Administrator/workspace/xgboost-win64_release_1.4.0/src/learner.cc:231: Only 1 GPUs are visible, setting `gpu_id` to 0\n",
      "[0]\tvalidation_0-rmse:7.60865\n",
      "[1000]\tvalidation_0-rmse:0.72076\n",
      "[2000]\tvalidation_0-rmse:0.71810\n",
      "[3000]\tvalidation_0-rmse:0.71751\n",
      "[4000]\tvalidation_0-rmse:0.71737\n",
      "[4063]\tvalidation_0-rmse:0.71736\n"
     ]
    },
    {
     "name": "stderr",
     "output_type": "stream",
     "text": [
      "\u001b[32m[I 2021-08-29 17:45:56,328]\u001b[0m Trial 36 finished with value: 0.7173120301629958 and parameters: {'learning_rate': 0.022217244224520764, 'reg_lambda': 0.0028973523661799897, 'reg_alpha': 0.4262696229975947, 'subsample': 0.9373876666029518, 'colsample_bytree': 0.16181162515626887, 'max_depth': 5}. Best is trial 27 with value: 0.7169465235510132.\u001b[0m\n"
     ]
    },
    {
     "name": "stdout",
     "output_type": "stream",
     "text": [
      "[17:45:57] WARNING: C:/Users/Administrator/workspace/xgboost-win64_release_1.4.0/src/learner.cc:231: Only 1 GPUs are visible, setting `gpu_id` to 0\n",
      "[0]\tvalidation_0-rmse:7.59383\n",
      "[1000]\tvalidation_0-rmse:0.71938\n",
      "[2000]\tvalidation_0-rmse:0.71798\n",
      "[2402]\tvalidation_0-rmse:0.71797\n"
     ]
    },
    {
     "name": "stderr",
     "output_type": "stream",
     "text": [
      "\u001b[32m[I 2021-08-29 17:46:40,738]\u001b[0m Trial 37 finished with value: 0.7179303926537515 and parameters: {'learning_rate': 0.02414069756683145, 'reg_lambda': 0.0024454526019663725, 'reg_alpha': 0.035871254093625744, 'subsample': 0.9883090961111698, 'colsample_bytree': 0.16552561129938811, 'max_depth': 6}. Best is trial 27 with value: 0.7169465235510132.\u001b[0m\n"
     ]
    },
    {
     "name": "stdout",
     "output_type": "stream",
     "text": [
      "[17:46:41] WARNING: C:/Users/Administrator/workspace/xgboost-win64_release_1.4.0/src/learner.cc:231: Only 1 GPUs are visible, setting `gpu_id` to 0\n",
      "[0]\tvalidation_0-rmse:7.42583\n",
      "[1000]\tvalidation_0-rmse:0.71858\n",
      "[2000]\tvalidation_0-rmse:0.71764\n",
      "[2316]\tvalidation_0-rmse:0.71776\n"
     ]
    },
    {
     "name": "stderr",
     "output_type": "stream",
     "text": [
      "\u001b[32m[I 2021-08-29 17:47:09,204]\u001b[0m Trial 38 finished with value: 0.7176299802816297 and parameters: {'learning_rate': 0.045948829103588884, 'reg_lambda': 0.2333416762638003, 'reg_alpha': 0.7001777203138072, 'subsample': 0.6097317567716831, 'colsample_bytree': 0.10163882604402871, 'max_depth': 5}. Best is trial 27 with value: 0.7169465235510132.\u001b[0m\n"
     ]
    },
    {
     "name": "stdout",
     "output_type": "stream",
     "text": [
      "[17:47:10] WARNING: C:/Users/Administrator/workspace/xgboost-win64_release_1.4.0/src/learner.cc:231: Only 1 GPUs are visible, setting `gpu_id` to 0\n",
      "[0]\tvalidation_0-rmse:7.65079\n",
      "[1000]\tvalidation_0-rmse:0.72130\n",
      "[2000]\tvalidation_0-rmse:0.71917\n",
      "[2956]\tvalidation_0-rmse:0.71886\n"
     ]
    },
    {
     "name": "stderr",
     "output_type": "stream",
     "text": [
      "\u001b[32m[I 2021-08-29 17:48:02,287]\u001b[0m Trial 39 finished with value: 0.718851224304993 and parameters: {'learning_rate': 0.016746836417271805, 'reg_lambda': 0.010596510317752538, 'reg_alpha': 0.09805146377575324, 'subsample': 0.8244897548928409, 'colsample_bytree': 0.4563598566137026, 'max_depth': 6}. Best is trial 27 with value: 0.7169465235510132.\u001b[0m\n"
     ]
    },
    {
     "name": "stdout",
     "output_type": "stream",
     "text": [
      "[17:48:03] WARNING: C:/Users/Administrator/workspace/xgboost-win64_release_1.4.0/src/learner.cc:231: Only 1 GPUs are visible, setting `gpu_id` to 0\n",
      "[0]\tvalidation_0-rmse:7.56598\n",
      "[1000]\tvalidation_0-rmse:0.72040\n",
      "[2000]\tvalidation_0-rmse:0.71907\n",
      "[2256]\tvalidation_0-rmse:0.71908\n"
     ]
    },
    {
     "name": "stderr",
     "output_type": "stream",
     "text": [
      "\u001b[32m[I 2021-08-29 17:48:55,333]\u001b[0m Trial 40 finished with value: 0.7190623997214489 and parameters: {'learning_rate': 0.027758595873052596, 'reg_lambda': 0.0002607448001233158, 'reg_alpha': 70.08880050120536, 'subsample': 0.9380224338581418, 'colsample_bytree': 0.7068699928226645, 'max_depth': 7}. Best is trial 27 with value: 0.7169465235510132.\u001b[0m\n"
     ]
    },
    {
     "name": "stdout",
     "output_type": "stream",
     "text": [
      "[17:48:56] WARNING: C:/Users/Administrator/workspace/xgboost-win64_release_1.4.0/src/learner.cc:231: Only 1 GPUs are visible, setting `gpu_id` to 0\n",
      "[0]\tvalidation_0-rmse:7.61813\n",
      "[1000]\tvalidation_0-rmse:0.72126\n",
      "[2000]\tvalidation_0-rmse:0.71827\n",
      "[3000]\tvalidation_0-rmse:0.71752\n",
      "[4000]\tvalidation_0-rmse:0.71730\n",
      "[4083]\tvalidation_0-rmse:0.71729\n"
     ]
    },
    {
     "name": "stderr",
     "output_type": "stream",
     "text": [
      "\u001b[32m[I 2021-08-29 17:49:53,009]\u001b[0m Trial 41 finished with value: 0.7172852308185155 and parameters: {'learning_rate': 0.020986856374331904, 'reg_lambda': 0.00013528631545534363, 'reg_alpha': 2.6711407788630206, 'subsample': 0.8992454772425582, 'colsample_bytree': 0.16168152133632746, 'max_depth': 5}. Best is trial 27 with value: 0.7169465235510132.\u001b[0m\n"
     ]
    },
    {
     "name": "stdout",
     "output_type": "stream",
     "text": [
      "[17:49:54] WARNING: C:/Users/Administrator/workspace/xgboost-win64_release_1.4.0/src/learner.cc:231: Only 1 GPUs are visible, setting `gpu_id` to 0\n",
      "[0]\tvalidation_0-rmse:7.62915\n",
      "[1000]\tvalidation_0-rmse:0.72369\n",
      "[2000]\tvalidation_0-rmse:0.71981\n",
      "[3000]\tvalidation_0-rmse:0.71837\n",
      "[4000]\tvalidation_0-rmse:0.71767\n",
      "[5000]\tvalidation_0-rmse:0.71737\n",
      "[6000]\tvalidation_0-rmse:0.71722\n",
      "[6999]\tvalidation_0-rmse:0.71715\n"
     ]
    },
    {
     "name": "stderr",
     "output_type": "stream",
     "text": [
      "\u001b[32m[I 2021-08-29 17:51:09,660]\u001b[0m Trial 42 finished with value: 0.7171504714230479 and parameters: {'learning_rate': 0.019556396412930662, 'reg_lambda': 2.6074659944947934e-05, 'reg_alpha': 1.9974808603864163, 'subsample': 0.7541846748571625, 'colsample_bytree': 0.15515364939935056, 'max_depth': 4}. Best is trial 27 with value: 0.7169465235510132.\u001b[0m\n"
     ]
    },
    {
     "name": "stdout",
     "output_type": "stream",
     "text": [
      "[17:51:10] WARNING: C:/Users/Administrator/workspace/xgboost-win64_release_1.4.0/src/learner.cc:231: Only 1 GPUs are visible, setting `gpu_id` to 0\n",
      "[0]\tvalidation_0-rmse:7.68285\n",
      "[1000]\tvalidation_0-rmse:0.72599\n",
      "[2000]\tvalidation_0-rmse:0.72203\n",
      "[3000]\tvalidation_0-rmse:0.72007\n",
      "[4000]\tvalidation_0-rmse:0.71898\n",
      "[5000]\tvalidation_0-rmse:0.71833\n",
      "[6000]\tvalidation_0-rmse:0.71791\n",
      "[6999]\tvalidation_0-rmse:0.71762\n"
     ]
    },
    {
     "name": "stderr",
     "output_type": "stream",
     "text": [
      "\u001b[32m[I 2021-08-29 17:52:26,811]\u001b[0m Trial 43 finished with value: 0.7176184250090515 and parameters: {'learning_rate': 0.012585895076682107, 'reg_lambda': 2.9621298541545353e-06, 'reg_alpha': 2.5208642833888195, 'subsample': 0.750261771971135, 'colsample_bytree': 0.23155270480798812, 'max_depth': 4}. Best is trial 27 with value: 0.7169465235510132.\u001b[0m\n"
     ]
    },
    {
     "name": "stdout",
     "output_type": "stream",
     "text": [
      "[17:52:28] WARNING: C:/Users/Administrator/workspace/xgboost-win64_release_1.4.0/src/learner.cc:231: Only 1 GPUs are visible, setting `gpu_id` to 0\n",
      "[0]\tvalidation_0-rmse:7.63293\n",
      "[1000]\tvalidation_0-rmse:0.72452\n",
      "[2000]\tvalidation_0-rmse:0.72055\n",
      "[3000]\tvalidation_0-rmse:0.71880\n",
      "[4000]\tvalidation_0-rmse:0.71801\n",
      "[5000]\tvalidation_0-rmse:0.71759\n",
      "[6000]\tvalidation_0-rmse:0.71736\n",
      "[6999]\tvalidation_0-rmse:0.71729\n"
     ]
    },
    {
     "name": "stderr",
     "output_type": "stream",
     "text": [
      "\u001b[32m[I 2021-08-29 17:53:43,638]\u001b[0m Trial 44 finished with value: 0.7172883503466053 and parameters: {'learning_rate': 0.019066722180712696, 'reg_lambda': 3.0088268509017616e-05, 'reg_alpha': 24.45127753976268, 'subsample': 0.6880981920997017, 'colsample_bytree': 0.2810477842628215, 'max_depth': 4}. Best is trial 27 with value: 0.7169465235510132.\u001b[0m\n"
     ]
    },
    {
     "name": "stdout",
     "output_type": "stream",
     "text": [
      "[17:53:44] WARNING: C:/Users/Administrator/workspace/xgboost-win64_release_1.4.0/src/learner.cc:231: Only 1 GPUs are visible, setting `gpu_id` to 0\n",
      "[0]\tvalidation_0-rmse:7.53402\n",
      "[1000]\tvalidation_0-rmse:0.72103\n",
      "[2000]\tvalidation_0-rmse:0.71851\n",
      "[3000]\tvalidation_0-rmse:0.71797\n",
      "[3786]\tvalidation_0-rmse:0.71796\n"
     ]
    },
    {
     "name": "stderr",
     "output_type": "stream",
     "text": [
      "\u001b[32m[I 2021-08-29 17:54:25,958]\u001b[0m Trial 45 finished with value: 0.7179098364827263 and parameters: {'learning_rate': 0.03190104013773059, 'reg_lambda': 4.974076156836809e-07, 'reg_alpha': 2.4208767513358476, 'subsample': 0.7699397577350585, 'colsample_bytree': 0.3547065197470361, 'max_depth': 4}. Best is trial 27 with value: 0.7169465235510132.\u001b[0m\n"
     ]
    },
    {
     "name": "stdout",
     "output_type": "stream",
     "text": [
      "[17:54:27] WARNING: C:/Users/Administrator/workspace/xgboost-win64_release_1.4.0/src/learner.cc:231: Only 1 GPUs are visible, setting `gpu_id` to 0\n",
      "[0]\tvalidation_0-rmse:7.64954\n",
      "[1000]\tvalidation_0-rmse:0.72450\n",
      "[2000]\tvalidation_0-rmse:0.72040\n",
      "[3000]\tvalidation_0-rmse:0.71878\n",
      "[4000]\tvalidation_0-rmse:0.71798\n",
      "[5000]\tvalidation_0-rmse:0.71757\n",
      "[6000]\tvalidation_0-rmse:0.71740\n",
      "[6999]\tvalidation_0-rmse:0.71730\n"
     ]
    },
    {
     "name": "stderr",
     "output_type": "stream",
     "text": [
      "\u001b[32m[I 2021-08-29 17:55:45,069]\u001b[0m Trial 46 finished with value: 0.7172873856534767 and parameters: {'learning_rate': 0.016910486285252404, 'reg_lambda': 0.00019097700972685465, 'reg_alpha': 0.0644491768786958, 'subsample': 0.822981906716743, 'colsample_bytree': 0.144492397510978, 'max_depth': 4}. Best is trial 27 with value: 0.7169465235510132.\u001b[0m\n"
     ]
    },
    {
     "name": "stdout",
     "output_type": "stream",
     "text": [
      "[17:55:46] WARNING: C:/Users/Administrator/workspace/xgboost-win64_release_1.4.0/src/learner.cc:231: Only 1 GPUs are visible, setting `gpu_id` to 0\n",
      "[0]\tvalidation_0-rmse:7.68322\n",
      "[1000]\tvalidation_0-rmse:0.72386\n",
      "[2000]\tvalidation_0-rmse:0.72011\n",
      "[3000]\tvalidation_0-rmse:0.71874\n",
      "[4000]\tvalidation_0-rmse:0.71816\n",
      "[5000]\tvalidation_0-rmse:0.71785\n",
      "[6000]\tvalidation_0-rmse:0.71776\n",
      "[6117]\tvalidation_0-rmse:0.71777\n"
     ]
    },
    {
     "name": "stderr",
     "output_type": "stream",
     "text": [
      "\u001b[32m[I 2021-08-29 17:56:59,333]\u001b[0m Trial 47 finished with value: 0.7177507346452664 and parameters: {'learning_rate': 0.012536589606590666, 'reg_lambda': 0.0006150260113767585, 'reg_alpha': 0.013814807190334797, 'subsample': 0.5914466376469564, 'colsample_bytree': 0.2015542094439625, 'max_depth': 5}. Best is trial 27 with value: 0.7169465235510132.\u001b[0m\n"
     ]
    },
    {
     "name": "stdout",
     "output_type": "stream",
     "text": [
      "[17:57:00] WARNING: C:/Users/Administrator/workspace/xgboost-win64_release_1.4.0/src/learner.cc:231: Only 1 GPUs are visible, setting `gpu_id` to 0\n",
      "[0]\tvalidation_0-rmse:7.59827\n",
      "[1000]\tvalidation_0-rmse:0.72177\n",
      "[2000]\tvalidation_0-rmse:0.71825\n",
      "[3000]\tvalidation_0-rmse:0.71749\n",
      "[4000]\tvalidation_0-rmse:0.71733\n",
      "[4089]\tvalidation_0-rmse:0.71731\n"
     ]
    },
    {
     "name": "stderr",
     "output_type": "stream",
     "text": [
      "\u001b[32m[I 2021-08-29 17:57:50,016]\u001b[0m Trial 48 finished with value: 0.7172852066215707 and parameters: {'learning_rate': 0.02356800142665845, 'reg_lambda': 3.532111857993277, 'reg_alpha': 1.3630768086484288, 'subsample': 0.677954503462587, 'colsample_bytree': 0.1031455154964184, 'max_depth': 5}. Best is trial 27 with value: 0.7169465235510132.\u001b[0m\n"
     ]
    },
    {
     "name": "stdout",
     "output_type": "stream",
     "text": [
      "[17:57:51] WARNING: C:/Users/Administrator/workspace/xgboost-win64_release_1.4.0/src/learner.cc:231: Only 1 GPUs are visible, setting `gpu_id` to 0\n",
      "[0]\tvalidation_0-rmse:7.58772\n",
      "[1000]\tvalidation_0-rmse:0.72533\n",
      "[2000]\tvalidation_0-rmse:0.72109\n",
      "[3000]\tvalidation_0-rmse:0.71921\n",
      "[4000]\tvalidation_0-rmse:0.71822\n",
      "[5000]\tvalidation_0-rmse:0.71763\n",
      "[6000]\tvalidation_0-rmse:0.71726\n",
      "[6999]\tvalidation_0-rmse:0.71706\n"
     ]
    },
    {
     "name": "stderr",
     "output_type": "stream",
     "text": [
      "\u001b[32m[I 2021-08-29 17:58:54,637]\u001b[0m Trial 49 finished with value: 0.7170583601032742 and parameters: {'learning_rate': 0.024937549450851755, 'reg_lambda': 3.6180636520054845, 'reg_alpha': 14.831697100306078, 'subsample': 0.6770009778242899, 'colsample_bytree': 0.13163755946077163, 'max_depth': 3}. Best is trial 27 with value: 0.7169465235510132.\u001b[0m\n"
     ]
    },
    {
     "name": "stdout",
     "output_type": "stream",
     "text": [
      "[17:58:55] WARNING: C:/Users/Administrator/workspace/xgboost-win64_release_1.4.0/src/learner.cc:231: Only 1 GPUs are visible, setting `gpu_id` to 0\n",
      "[0]\tvalidation_0-rmse:7.50739\n",
      "[1000]\tvalidation_0-rmse:0.72296\n",
      "[2000]\tvalidation_0-rmse:0.71944\n",
      "[3000]\tvalidation_0-rmse:0.71807\n",
      "[4000]\tvalidation_0-rmse:0.71748\n",
      "[5000]\tvalidation_0-rmse:0.71725\n",
      "[5717]\tvalidation_0-rmse:0.71720\n"
     ]
    },
    {
     "name": "stderr",
     "output_type": "stream",
     "text": [
      "\u001b[32m[I 2021-08-29 17:59:48,956]\u001b[0m Trial 50 finished with value: 0.7171883583856288 and parameters: {'learning_rate': 0.035366696382901665, 'reg_lambda': 11.999982475108006, 'reg_alpha': 11.856541659558571, 'subsample': 0.7364272212356074, 'colsample_bytree': 0.23635394882205876, 'max_depth': 3}. Best is trial 27 with value: 0.7169465235510132.\u001b[0m\n"
     ]
    },
    {
     "name": "stdout",
     "output_type": "stream",
     "text": [
      "[17:59:50] WARNING: C:/Users/Administrator/workspace/xgboost-win64_release_1.4.0/src/learner.cc:231: Only 1 GPUs are visible, setting `gpu_id` to 0\n",
      "[0]\tvalidation_0-rmse:7.51635\n",
      "[1000]\tvalidation_0-rmse:0.72337\n",
      "[2000]\tvalidation_0-rmse:0.71963\n",
      "[3000]\tvalidation_0-rmse:0.71814\n",
      "[4000]\tvalidation_0-rmse:0.71753\n",
      "[5000]\tvalidation_0-rmse:0.71718\n",
      "[6000]\tvalidation_0-rmse:0.71697\n",
      "[6999]\tvalidation_0-rmse:0.71692\n"
     ]
    },
    {
     "name": "stderr",
     "output_type": "stream",
     "text": [
      "\u001b[32m[I 2021-08-29 18:00:55,318]\u001b[0m Trial 51 finished with value: 0.7169064837392827 and parameters: {'learning_rate': 0.0342032910688893, 'reg_lambda': 16.984336234349644, 'reg_alpha': 13.2209270507238, 'subsample': 0.7396101488182523, 'colsample_bytree': 0.13653907086890005, 'max_depth': 3}. Best is trial 51 with value: 0.7169064837392827.\u001b[0m\n"
     ]
    },
    {
     "name": "stdout",
     "output_type": "stream",
     "text": [
      "[18:00:56] WARNING: C:/Users/Administrator/workspace/xgboost-win64_release_1.4.0/src/learner.cc:231: Only 1 GPUs are visible, setting `gpu_id` to 0\n",
      "[0]\tvalidation_0-rmse:7.57883\n",
      "[1000]\tvalidation_0-rmse:0.72955\n",
      "[2000]\tvalidation_0-rmse:0.72548\n",
      "[3000]\tvalidation_0-rmse:0.72322\n",
      "[4000]\tvalidation_0-rmse:0.72161\n",
      "[5000]\tvalidation_0-rmse:0.72052\n",
      "[6000]\tvalidation_0-rmse:0.71967\n",
      "[6999]\tvalidation_0-rmse:0.71906\n"
     ]
    },
    {
     "name": "stderr",
     "output_type": "stream",
     "text": [
      "\u001b[32m[I 2021-08-29 18:01:50,863]\u001b[0m Trial 52 finished with value: 0.7190606703262876 and parameters: {'learning_rate': 0.026106813670218967, 'reg_lambda': 87.00896649174065, 'reg_alpha': 22.947557942630144, 'subsample': 0.6501360433776262, 'colsample_bytree': 0.14209748516424048, 'max_depth': 2}. Best is trial 51 with value: 0.7169064837392827.\u001b[0m\n"
     ]
    },
    {
     "name": "stdout",
     "output_type": "stream",
     "text": [
      "[18:01:52] WARNING: C:/Users/Administrator/workspace/xgboost-win64_release_1.4.0/src/learner.cc:231: Only 1 GPUs are visible, setting `gpu_id` to 0\n",
      "[0]\tvalidation_0-rmse:7.54702\n",
      "[1000]\tvalidation_0-rmse:0.72504\n",
      "[2000]\tvalidation_0-rmse:0.72108\n",
      "[3000]\tvalidation_0-rmse:0.71949\n",
      "[4000]\tvalidation_0-rmse:0.71867\n",
      "[5000]\tvalidation_0-rmse:0.71814\n",
      "[6000]\tvalidation_0-rmse:0.71784\n",
      "[6999]\tvalidation_0-rmse:0.71765\n"
     ]
    },
    {
     "name": "stderr",
     "output_type": "stream",
     "text": [
      "\u001b[32m[I 2021-08-29 18:02:52,133]\u001b[0m Trial 53 finished with value: 0.7176532421582588 and parameters: {'learning_rate': 0.030224884111753943, 'reg_lambda': 0.9886011933922175, 'reg_alpha': 47.47076371456652, 'subsample': 0.5352797316166602, 'colsample_bytree': 0.13333843641154192, 'max_depth': 3}. Best is trial 51 with value: 0.7169064837392827.\u001b[0m\n"
     ]
    },
    {
     "name": "stdout",
     "output_type": "stream",
     "text": [
      "[18:02:53] WARNING: C:/Users/Administrator/workspace/xgboost-win64_release_1.4.0/src/learner.cc:231: Only 1 GPUs are visible, setting `gpu_id` to 0\n",
      "[0]\tvalidation_0-rmse:7.45236\n",
      "[1000]\tvalidation_0-rmse:0.71989\n",
      "[2000]\tvalidation_0-rmse:0.71803\n",
      "[2860]\tvalidation_0-rmse:0.71792\n"
     ]
    },
    {
     "name": "stderr",
     "output_type": "stream",
     "text": [
      "\u001b[32m[I 2021-08-29 18:03:24,315]\u001b[0m Trial 54 finished with value: 0.7178923651476208 and parameters: {'learning_rate': 0.04251123332183451, 'reg_lambda': 11.931379238501485, 'reg_alpha': 0.31690008320202057, 'subsample': 0.7866008681207287, 'colsample_bytree': 0.296041510880818, 'max_depth': 4}. Best is trial 51 with value: 0.7169064837392827.\u001b[0m\n"
     ]
    },
    {
     "name": "stdout",
     "output_type": "stream",
     "text": [
      "[18:03:25] WARNING: C:/Users/Administrator/workspace/xgboost-win64_release_1.4.0/src/learner.cc:231: Only 1 GPUs are visible, setting `gpu_id` to 0\n",
      "[0]\tvalidation_0-rmse:7.63568\n",
      "[1000]\tvalidation_0-rmse:0.72701\n",
      "[2000]\tvalidation_0-rmse:0.72262\n",
      "[3000]\tvalidation_0-rmse:0.72046\n",
      "[4000]\tvalidation_0-rmse:0.71926\n",
      "[5000]\tvalidation_0-rmse:0.71858\n",
      "[6000]\tvalidation_0-rmse:0.71815\n",
      "[6999]\tvalidation_0-rmse:0.71784\n"
     ]
    },
    {
     "name": "stderr",
     "output_type": "stream",
     "text": [
      "\u001b[32m[I 2021-08-29 18:04:31,213]\u001b[0m Trial 55 finished with value: 0.7178448731884977 and parameters: {'learning_rate': 0.01871365837887914, 'reg_lambda': 27.850302566169415, 'reg_alpha': 4.471278057232687, 'subsample': 0.7363085305323837, 'colsample_bytree': 0.6044068629572572, 'max_depth': 3}. Best is trial 51 with value: 0.7169064837392827.\u001b[0m\n"
     ]
    },
    {
     "name": "stdout",
     "output_type": "stream",
     "text": [
      "[18:04:32] WARNING: C:/Users/Administrator/workspace/xgboost-win64_release_1.4.0/src/learner.cc:231: Only 1 GPUs are visible, setting `gpu_id` to 0\n",
      "[0]\tvalidation_0-rmse:7.19498\n",
      "[1000]\tvalidation_0-rmse:0.71927\n",
      "[2000]\tvalidation_0-rmse:0.71773\n",
      "[3000]\tvalidation_0-rmse:0.71755\n",
      "[3007]\tvalidation_0-rmse:0.71755\n"
     ]
    },
    {
     "name": "stderr",
     "output_type": "stream",
     "text": [
      "\u001b[32m[I 2021-08-29 18:04:56,629]\u001b[0m Trial 56 finished with value: 0.7175310692309262 and parameters: {'learning_rate': 0.07592768294892686, 'reg_lambda': 0.234279103502281, 'reg_alpha': 16.509456495672875, 'subsample': 0.45668742025612197, 'colsample_bytree': 0.2127437166986318, 'max_depth': 3}. Best is trial 51 with value: 0.7169064837392827.\u001b[0m\n"
     ]
    },
    {
     "name": "stdout",
     "output_type": "stream",
     "text": [
      "[18:04:57] WARNING: C:/Users/Administrator/workspace/xgboost-win64_release_1.4.0/src/learner.cc:231: Only 1 GPUs are visible, setting `gpu_id` to 0\n",
      "[0]\tvalidation_0-rmse:7.38007\n",
      "[1000]\tvalidation_0-rmse:0.72632\n",
      "[2000]\tvalidation_0-rmse:0.72283\n",
      "[3000]\tvalidation_0-rmse:0.72111\n",
      "[4000]\tvalidation_0-rmse:0.72015\n",
      "[5000]\tvalidation_0-rmse:0.71958\n",
      "[6000]\tvalidation_0-rmse:0.71916\n",
      "[6999]\tvalidation_0-rmse:0.71890\n"
     ]
    },
    {
     "name": "stderr",
     "output_type": "stream",
     "text": [
      "\u001b[32m[I 2021-08-29 18:05:53,021]\u001b[0m Trial 57 finished with value: 0.7189001302725929 and parameters: {'learning_rate': 0.051898714536703874, 'reg_lambda': 4.205520829978453, 'reg_alpha': 89.50006604239134, 'subsample': 0.6313512551873931, 'colsample_bytree': 0.13482633057266527, 'max_depth': 2}. Best is trial 51 with value: 0.7169064837392827.\u001b[0m\n"
     ]
    },
    {
     "name": "stdout",
     "output_type": "stream",
     "text": [
      "[18:05:54] WARNING: C:/Users/Administrator/workspace/xgboost-win64_release_1.4.0/src/learner.cc:231: Only 1 GPUs are visible, setting `gpu_id` to 0\n",
      "[0]\tvalidation_0-rmse:7.50028\n",
      "[1000]\tvalidation_0-rmse:0.73233\n",
      "[2000]\tvalidation_0-rmse:0.72972\n",
      "[3000]\tvalidation_0-rmse:0.72831\n",
      "[4000]\tvalidation_0-rmse:0.72733\n",
      "[5000]\tvalidation_0-rmse:0.72653\n",
      "[6000]\tvalidation_0-rmse:0.72587\n",
      "[6999]\tvalidation_0-rmse:0.72531\n"
     ]
    },
    {
     "name": "stderr",
     "output_type": "stream",
     "text": [
      "\u001b[32m[I 2021-08-29 18:06:36,727]\u001b[0m Trial 58 finished with value: 0.7253059488485423 and parameters: {'learning_rate': 0.03628078427968684, 'reg_lambda': 0.9083059745802948, 'reg_alpha': 5.047457152684856, 'subsample': 0.5698036575888632, 'colsample_bytree': 0.179262742038668, 'max_depth': 1}. Best is trial 51 with value: 0.7169064837392827.\u001b[0m\n"
     ]
    },
    {
     "name": "stdout",
     "output_type": "stream",
     "text": [
      "[18:06:37] WARNING: C:/Users/Administrator/workspace/xgboost-win64_release_1.4.0/src/learner.cc:231: Only 1 GPUs are visible, setting `gpu_id` to 0\n",
      "[0]\tvalidation_0-rmse:7.59438\n",
      "[1000]\tvalidation_0-rmse:0.72203\n",
      "[2000]\tvalidation_0-rmse:0.71905\n",
      "[3000]\tvalidation_0-rmse:0.71820\n",
      "[4000]\tvalidation_0-rmse:0.71781\n",
      "[4241]\tvalidation_0-rmse:0.71784\n"
     ]
    },
    {
     "name": "stderr",
     "output_type": "stream",
     "text": [
      "\u001b[32m[I 2021-08-29 18:07:18,371]\u001b[0m Trial 59 finished with value: 0.7177929174232719 and parameters: {'learning_rate': 0.02406955379595528, 'reg_lambda': 3.05668959852105e-06, 'reg_alpha': 1.093125136977042, 'subsample': 0.5204073820188172, 'colsample_bytree': 0.24562773080642814, 'max_depth': 4}. Best is trial 51 with value: 0.7169064837392827.\u001b[0m\n"
     ]
    },
    {
     "name": "stdout",
     "output_type": "stream",
     "text": [
      "[18:07:19] WARNING: C:/Users/Administrator/workspace/xgboost-win64_release_1.4.0/src/learner.cc:231: Only 1 GPUs are visible, setting `gpu_id` to 0\n",
      "[0]\tvalidation_0-rmse:7.65662\n",
      "[1000]\tvalidation_0-rmse:0.72928\n",
      "[2000]\tvalidation_0-rmse:0.72425\n",
      "[3000]\tvalidation_0-rmse:0.72181\n",
      "[4000]\tvalidation_0-rmse:0.72036\n",
      "[5000]\tvalidation_0-rmse:0.71942\n",
      "[6000]\tvalidation_0-rmse:0.71877\n",
      "[6999]\tvalidation_0-rmse:0.71830\n"
     ]
    },
    {
     "name": "stderr",
     "output_type": "stream",
     "text": [
      "\u001b[32m[I 2021-08-29 18:08:24,715]\u001b[0m Trial 60 finished with value: 0.7183000875549204 and parameters: {'learning_rate': 0.015996128931935027, 'reg_lambda': 39.394494798548536, 'reg_alpha': 33.24030261162947, 'subsample': 0.7149463572140011, 'colsample_bytree': 0.12968175814413035, 'max_depth': 3}. Best is trial 51 with value: 0.7169064837392827.\u001b[0m\n"
     ]
    },
    {
     "name": "stdout",
     "output_type": "stream",
     "text": [
      "[18:08:26] WARNING: C:/Users/Administrator/workspace/xgboost-win64_release_1.4.0/src/learner.cc:231: Only 1 GPUs are visible, setting `gpu_id` to 0\n",
      "[0]\tvalidation_0-rmse:7.51773\n",
      "[1000]\tvalidation_0-rmse:0.72432\n",
      "[2000]\tvalidation_0-rmse:0.72020\n",
      "[3000]\tvalidation_0-rmse:0.71857\n",
      "[4000]\tvalidation_0-rmse:0.71778\n",
      "[5000]\tvalidation_0-rmse:0.71737\n",
      "[6000]\tvalidation_0-rmse:0.71715\n",
      "[6999]\tvalidation_0-rmse:0.71706\n"
     ]
    },
    {
     "name": "stderr",
     "output_type": "stream",
     "text": [
      "\u001b[32m[I 2021-08-29 18:09:30,427]\u001b[0m Trial 61 finished with value: 0.717047634283161 and parameters: {'learning_rate': 0.03402272118938197, 'reg_lambda': 10.867082284069367, 'reg_alpha': 9.709157453689935, 'subsample': 0.7222637700307358, 'colsample_bytree': 0.10126287501841698, 'max_depth': 3}. Best is trial 51 with value: 0.7169064837392827.\u001b[0m\n"
     ]
    },
    {
     "name": "stdout",
     "output_type": "stream",
     "text": [
      "[18:09:31] WARNING: C:/Users/Administrator/workspace/xgboost-win64_release_1.4.0/src/learner.cc:231: Only 1 GPUs are visible, setting `gpu_id` to 0\n",
      "[0]\tvalidation_0-rmse:7.56842\n",
      "[1000]\tvalidation_0-rmse:0.72585\n",
      "[2000]\tvalidation_0-rmse:0.72129\n",
      "[3000]\tvalidation_0-rmse:0.71929\n",
      "[4000]\tvalidation_0-rmse:0.71829\n",
      "[5000]\tvalidation_0-rmse:0.71770\n",
      "[6000]\tvalidation_0-rmse:0.71735\n",
      "[6999]\tvalidation_0-rmse:0.71714\n"
     ]
    },
    {
     "name": "stderr",
     "output_type": "stream",
     "text": [
      "\u001b[32m[I 2021-08-29 18:10:34,138]\u001b[0m Trial 62 finished with value: 0.7171348329363908 and parameters: {'learning_rate': 0.027441927330352996, 'reg_lambda': 4.287919694415656, 'reg_alpha': 11.96287547931982, 'subsample': 0.6681603612971316, 'colsample_bytree': 0.11826533430841153, 'max_depth': 3}. Best is trial 51 with value: 0.7169064837392827.\u001b[0m\n"
     ]
    },
    {
     "name": "stdout",
     "output_type": "stream",
     "text": [
      "[18:10:35] WARNING: C:/Users/Administrator/workspace/xgboost-win64_release_1.4.0/src/learner.cc:231: Only 1 GPUs are visible, setting `gpu_id` to 0\n",
      "[0]\tvalidation_0-rmse:7.56113\n",
      "[1000]\tvalidation_0-rmse:0.72403\n",
      "[2000]\tvalidation_0-rmse:0.72017\n",
      "[3000]\tvalidation_0-rmse:0.71860\n",
      "[4000]\tvalidation_0-rmse:0.71781\n",
      "[5000]\tvalidation_0-rmse:0.71736\n",
      "[6000]\tvalidation_0-rmse:0.71710\n",
      "[6999]\tvalidation_0-rmse:0.71703\n"
     ]
    },
    {
     "name": "stderr",
     "output_type": "stream",
     "text": [
      "\u001b[32m[I 2021-08-29 18:11:37,880]\u001b[0m Trial 63 finished with value: 0.7170123623672999 and parameters: {'learning_rate': 0.028388989604161113, 'reg_lambda': 6.844627278429386, 'reg_alpha': 10.415174985830276, 'subsample': 0.6717844324233733, 'colsample_bytree': 0.18650258342928225, 'max_depth': 3}. Best is trial 51 with value: 0.7169064837392827.\u001b[0m\n"
     ]
    },
    {
     "name": "stdout",
     "output_type": "stream",
     "text": [
      "[18:11:39] WARNING: C:/Users/Administrator/workspace/xgboost-win64_release_1.4.0/src/learner.cc:231: Only 1 GPUs are visible, setting `gpu_id` to 0\n",
      "[0]\tvalidation_0-rmse:7.55877\n",
      "[1000]\tvalidation_0-rmse:0.72993\n",
      "[2000]\tvalidation_0-rmse:0.72577\n",
      "[3000]\tvalidation_0-rmse:0.72342\n",
      "[4000]\tvalidation_0-rmse:0.72190\n",
      "[5000]\tvalidation_0-rmse:0.72073\n",
      "[6000]\tvalidation_0-rmse:0.71988\n",
      "[6999]\tvalidation_0-rmse:0.71928\n"
     ]
    },
    {
     "name": "stderr",
     "output_type": "stream",
     "text": [
      "\u001b[32m[I 2021-08-29 18:12:34,043]\u001b[0m Trial 64 finished with value: 0.7192836419014843 and parameters: {'learning_rate': 0.028695496542595032, 'reg_lambda': 4.358813022838906, 'reg_alpha': 12.290678479888197, 'subsample': 0.6763791377463851, 'colsample_bytree': 0.10269704242656798, 'max_depth': 2}. Best is trial 51 with value: 0.7169064837392827.\u001b[0m\n"
     ]
    },
    {
     "name": "stdout",
     "output_type": "stream",
     "text": [
      "[18:12:35] WARNING: C:/Users/Administrator/workspace/xgboost-win64_release_1.4.0/src/learner.cc:231: Only 1 GPUs are visible, setting `gpu_id` to 0\n",
      "[0]\tvalidation_0-rmse:7.52650\n",
      "[1000]\tvalidation_0-rmse:0.72391\n",
      "[2000]\tvalidation_0-rmse:0.72024\n",
      "[3000]\tvalidation_0-rmse:0.71878\n",
      "[4000]\tvalidation_0-rmse:0.71804\n",
      "[5000]\tvalidation_0-rmse:0.71760\n",
      "[6000]\tvalidation_0-rmse:0.71738\n",
      "[6999]\tvalidation_0-rmse:0.71726\n"
     ]
    },
    {
     "name": "stderr",
     "output_type": "stream",
     "text": [
      "\u001b[32m[I 2021-08-29 18:13:41,409]\u001b[0m Trial 65 finished with value: 0.7172542757818807 and parameters: {'learning_rate': 0.0328844298638275, 'reg_lambda': 7.77760321772356, 'reg_alpha': 40.941094940574594, 'subsample': 0.7161961566032021, 'colsample_bytree': 0.1778214420856007, 'max_depth': 3}. Best is trial 51 with value: 0.7169064837392827.\u001b[0m\n"
     ]
    },
    {
     "name": "stdout",
     "output_type": "stream",
     "text": [
      "[18:13:42] WARNING: C:/Users/Administrator/workspace/xgboost-win64_release_1.4.0/src/learner.cc:231: Only 1 GPUs are visible, setting `gpu_id` to 0\n",
      "[0]\tvalidation_0-rmse:7.47580\n",
      "[1000]\tvalidation_0-rmse:0.72611\n",
      "[2000]\tvalidation_0-rmse:0.72231\n",
      "[3000]\tvalidation_0-rmse:0.72026\n",
      "[4000]\tvalidation_0-rmse:0.71917\n",
      "[5000]\tvalidation_0-rmse:0.71848\n",
      "[6000]\tvalidation_0-rmse:0.71807\n",
      "[6999]\tvalidation_0-rmse:0.71783\n"
     ]
    },
    {
     "name": "stderr",
     "output_type": "stream",
     "text": [
      "\u001b[32m[I 2021-08-29 18:14:34,981]\u001b[0m Trial 66 finished with value: 0.7178208741474293 and parameters: {'learning_rate': 0.03945846655474684, 'reg_lambda': 1.4386972471070407, 'reg_alpha': 0.0006309589962044912, 'subsample': 0.6187435478768212, 'colsample_bytree': 0.20892236882135065, 'max_depth': 2}. Best is trial 51 with value: 0.7169064837392827.\u001b[0m\n"
     ]
    },
    {
     "name": "stdout",
     "output_type": "stream",
     "text": [
      "[18:14:36] WARNING: C:/Users/Administrator/workspace/xgboost-win64_release_1.4.0/src/learner.cc:231: Only 1 GPUs are visible, setting `gpu_id` to 0\n",
      "[0]\tvalidation_0-rmse:7.56780\n",
      "[1000]\tvalidation_0-rmse:0.72443\n",
      "[2000]\tvalidation_0-rmse:0.72049\n",
      "[3000]\tvalidation_0-rmse:0.71881\n",
      "[4000]\tvalidation_0-rmse:0.71797\n",
      "[5000]\tvalidation_0-rmse:0.71747\n",
      "[6000]\tvalidation_0-rmse:0.71715\n",
      "[6999]\tvalidation_0-rmse:0.71703\n"
     ]
    },
    {
     "name": "stderr",
     "output_type": "stream",
     "text": [
      "\u001b[32m[I 2021-08-29 18:15:38,693]\u001b[0m Trial 67 finished with value: 0.7170219226583509 and parameters: {'learning_rate': 0.02751950815515217, 'reg_lambda': 0.3922053435428138, 'reg_alpha': 9.096812516922105, 'subsample': 0.663478018839652, 'colsample_bytree': 0.13298600434593233, 'max_depth': 3}. Best is trial 51 with value: 0.7169064837392827.\u001b[0m\n"
     ]
    },
    {
     "name": "stdout",
     "output_type": "stream",
     "text": [
      "[18:15:40] WARNING: C:/Users/Administrator/workspace/xgboost-win64_release_1.4.0/src/learner.cc:231: Only 1 GPUs are visible, setting `gpu_id` to 0\n",
      "[0]\tvalidation_0-rmse:7.51881\n",
      "[1000]\tvalidation_0-rmse:0.72290\n",
      "[2000]\tvalidation_0-rmse:0.71951\n",
      "[3000]\tvalidation_0-rmse:0.71811\n",
      "[4000]\tvalidation_0-rmse:0.71750\n",
      "[5000]\tvalidation_0-rmse:0.71723\n",
      "[5978]\tvalidation_0-rmse:0.71713\n"
     ]
    },
    {
     "name": "stderr",
     "output_type": "stream",
     "text": [
      "\u001b[32m[I 2021-08-29 18:16:36,903]\u001b[0m Trial 68 finished with value: 0.7171191931155854 and parameters: {'learning_rate': 0.03387836046543186, 'reg_lambda': 0.1465571285734156, 'reg_alpha': 6.654111326830244, 'subsample': 0.7997405321653939, 'colsample_bytree': 0.1886508291926055, 'max_depth': 3}. Best is trial 51 with value: 0.7169064837392827.\u001b[0m\n"
     ]
    },
    {
     "name": "stdout",
     "output_type": "stream",
     "text": [
      "[18:16:38] WARNING: C:/Users/Administrator/workspace/xgboost-win64_release_1.4.0/src/learner.cc:231: Only 1 GPUs are visible, setting `gpu_id` to 0\n",
      "[0]\tvalidation_0-rmse:7.42890\n",
      "[1000]\tvalidation_0-rmse:0.72137\n",
      "[2000]\tvalidation_0-rmse:0.71902\n",
      "[3000]\tvalidation_0-rmse:0.71844\n",
      "[3300]\tvalidation_0-rmse:0.71846\n"
     ]
    },
    {
     "name": "stderr",
     "output_type": "stream",
     "text": [
      "\u001b[32m[I 2021-08-29 18:17:06,758]\u001b[0m Trial 69 finished with value: 0.7184346648310296 and parameters: {'learning_rate': 0.04554182036385577, 'reg_lambda': 0.3805211691456664, 'reg_alpha': 0.507006343501545, 'subsample': 0.588630285127672, 'colsample_bytree': 0.856122318923411, 'max_depth': 3}. Best is trial 51 with value: 0.7169064837392827.\u001b[0m\n"
     ]
    },
    {
     "name": "stdout",
     "output_type": "stream",
     "text": [
      "[18:17:07] WARNING: C:/Users/Administrator/workspace/xgboost-win64_release_1.4.0/src/learner.cc:231: Only 1 GPUs are visible, setting `gpu_id` to 0\n",
      "[0]\tvalidation_0-rmse:6.58074\n",
      "[1000]\tvalidation_0-rmse:0.72024\n",
      "[2000]\tvalidation_0-rmse:0.71802\n",
      "[3000]\tvalidation_0-rmse:0.71743\n",
      "[4000]\tvalidation_0-rmse:0.71724\n",
      "[4523]\tvalidation_0-rmse:0.71721\n"
     ]
    },
    {
     "name": "stderr",
     "output_type": "stream",
     "text": [
      "\u001b[32m[I 2021-08-29 18:17:44,898]\u001b[0m Trial 70 finished with value: 0.7171959157457842 and parameters: {'learning_rate': 0.1557452332939431, 'reg_lambda': 0.06992697136547929, 'reg_alpha': 39.77916501159155, 'subsample': 0.7023736582149511, 'colsample_bytree': 0.1421444450297187, 'max_depth': 2}. Best is trial 51 with value: 0.7169064837392827.\u001b[0m\n"
     ]
    },
    {
     "name": "stdout",
     "output_type": "stream",
     "text": [
      "[18:17:46] WARNING: C:/Users/Administrator/workspace/xgboost-win64_release_1.4.0/src/learner.cc:231: Only 1 GPUs are visible, setting `gpu_id` to 0\n",
      "[0]\tvalidation_0-rmse:7.52183\n",
      "[1000]\tvalidation_0-rmse:0.72293\n",
      "[2000]\tvalidation_0-rmse:0.71955\n",
      "[3000]\tvalidation_0-rmse:0.71813\n",
      "[4000]\tvalidation_0-rmse:0.71752\n",
      "[5000]\tvalidation_0-rmse:0.71723\n",
      "[6000]\tvalidation_0-rmse:0.71712\n",
      "[6710]\tvalidation_0-rmse:0.71713\n"
     ]
    },
    {
     "name": "stderr",
     "output_type": "stream",
     "text": [
      "\u001b[32m[I 2021-08-29 18:18:50,030]\u001b[0m Trial 71 finished with value: 0.7170869828204085 and parameters: {'learning_rate': 0.03348691328826232, 'reg_lambda': 0.02531660006433406, 'reg_alpha': 6.239447493619506, 'subsample': 0.7970446351015607, 'colsample_bytree': 0.18680675050003, 'max_depth': 3}. Best is trial 51 with value: 0.7169064837392827.\u001b[0m\n"
     ]
    },
    {
     "name": "stdout",
     "output_type": "stream",
     "text": [
      "[18:18:51] WARNING: C:/Users/Administrator/workspace/xgboost-win64_release_1.4.0/src/learner.cc:231: Only 1 GPUs are visible, setting `gpu_id` to 0\n",
      "[0]\tvalidation_0-rmse:7.54565\n",
      "[1000]\tvalidation_0-rmse:0.72364\n",
      "[2000]\tvalidation_0-rmse:0.71998\n",
      "[3000]\tvalidation_0-rmse:0.71847\n",
      "[4000]\tvalidation_0-rmse:0.71779\n",
      "[5000]\tvalidation_0-rmse:0.71742\n",
      "[6000]\tvalidation_0-rmse:0.71730\n",
      "[6619]\tvalidation_0-rmse:0.71729\n"
     ]
    },
    {
     "name": "stderr",
     "output_type": "stream",
     "text": [
      "\u001b[32m[I 2021-08-29 18:19:55,140]\u001b[0m Trial 72 finished with value: 0.7172742283453603 and parameters: {'learning_rate': 0.03039371265903722, 'reg_lambda': 0.6090914570215756, 'reg_alpha': 5.759951556455678, 'subsample': 0.8305735305612857, 'colsample_bytree': 0.25280473687425614, 'max_depth': 3}. Best is trial 51 with value: 0.7169064837392827.\u001b[0m\n"
     ]
    },
    {
     "name": "stdout",
     "output_type": "stream",
     "text": [
      "[18:19:56] WARNING: C:/Users/Administrator/workspace/xgboost-win64_release_1.4.0/src/learner.cc:231: Only 1 GPUs are visible, setting `gpu_id` to 0\n",
      "[0]\tvalidation_0-rmse:7.57946\n",
      "[1000]\tvalidation_0-rmse:0.72515\n",
      "[2000]\tvalidation_0-rmse:0.72108\n",
      "[3000]\tvalidation_0-rmse:0.71922\n",
      "[4000]\tvalidation_0-rmse:0.71827\n",
      "[5000]\tvalidation_0-rmse:0.71769\n",
      "[6000]\tvalidation_0-rmse:0.71734\n",
      "[6999]\tvalidation_0-rmse:0.71714\n"
     ]
    },
    {
     "name": "stderr",
     "output_type": "stream",
     "text": [
      "\u001b[32m[I 2021-08-29 18:21:03,431]\u001b[0m Trial 73 finished with value: 0.7171367789444849 and parameters: {'learning_rate': 0.0260081847765345, 'reg_lambda': 0.0335256978839786, 'reg_alpha': 20.494659283497658, 'subsample': 0.7743344387566505, 'colsample_bytree': 0.1535308126930793, 'max_depth': 3}. Best is trial 51 with value: 0.7169064837392827.\u001b[0m\n"
     ]
    },
    {
     "name": "stdout",
     "output_type": "stream",
     "text": [
      "[18:21:04] WARNING: C:/Users/Administrator/workspace/xgboost-win64_release_1.4.0/src/learner.cc:231: Only 1 GPUs are visible, setting `gpu_id` to 0\n",
      "[0]\tvalidation_0-rmse:7.48547\n",
      "[1000]\tvalidation_0-rmse:0.72211\n",
      "[2000]\tvalidation_0-rmse:0.71894\n",
      "[3000]\tvalidation_0-rmse:0.71796\n",
      "[4000]\tvalidation_0-rmse:0.71747\n",
      "[5000]\tvalidation_0-rmse:0.71731\n",
      "[5522]\tvalidation_0-rmse:0.71732\n"
     ]
    },
    {
     "name": "stderr",
     "output_type": "stream",
     "text": [
      "\u001b[32m[I 2021-08-29 18:21:52,931]\u001b[0m Trial 74 finished with value: 0.7172851811878517 and parameters: {'learning_rate': 0.038207425717222465, 'reg_lambda': 1.5385714167425841, 'reg_alpha': 1.3034687161329432, 'subsample': 0.6485372686916718, 'colsample_bytree': 0.18276279915960647, 'max_depth': 3}. Best is trial 51 with value: 0.7169064837392827.\u001b[0m\n"
     ]
    },
    {
     "name": "stdout",
     "output_type": "stream",
     "text": [
      "[18:21:54] WARNING: C:/Users/Administrator/workspace/xgboost-win64_release_1.4.0/src/learner.cc:231: Only 1 GPUs are visible, setting `gpu_id` to 0\n",
      "[0]\tvalidation_0-rmse:7.45483\n",
      "[1000]\tvalidation_0-rmse:0.72197\n",
      "[2000]\tvalidation_0-rmse:0.71887\n",
      "[3000]\tvalidation_0-rmse:0.71776\n",
      "[4000]\tvalidation_0-rmse:0.71738\n",
      "[5000]\tvalidation_0-rmse:0.71721\n",
      "[5452]\tvalidation_0-rmse:0.71725\n"
     ]
    },
    {
     "name": "stderr",
     "output_type": "stream",
     "text": [
      "\u001b[32m[I 2021-08-29 18:22:47,867]\u001b[0m Trial 75 finished with value: 0.7172059084751712 and parameters: {'learning_rate': 0.0421918668938786, 'reg_lambda': 20.779681166219504, 'reg_alpha': 8.55278548080054, 'subsample': 0.86464846391614, 'colsample_bytree': 0.22407998127641499, 'max_depth': 3}. Best is trial 51 with value: 0.7169064837392827.\u001b[0m\n"
     ]
    },
    {
     "name": "stdout",
     "output_type": "stream",
     "text": [
      "[18:22:49] WARNING: C:/Users/Administrator/workspace/xgboost-win64_release_1.4.0/src/learner.cc:231: Only 1 GPUs are visible, setting `gpu_id` to 0\n",
      "[0]\tvalidation_0-rmse:7.60428\n",
      "[1000]\tvalidation_0-rmse:0.73232\n",
      "[2000]\tvalidation_0-rmse:0.72824\n",
      "[3000]\tvalidation_0-rmse:0.72593\n",
      "[4000]\tvalidation_0-rmse:0.72445\n",
      "[5000]\tvalidation_0-rmse:0.72335\n",
      "[6000]\tvalidation_0-rmse:0.72250\n",
      "[6999]\tvalidation_0-rmse:0.72188\n"
     ]
    },
    {
     "name": "stderr",
     "output_type": "stream",
     "text": [
      "\u001b[32m[I 2021-08-29 18:23:46,120]\u001b[0m Trial 76 finished with value: 0.7218834405552914 and parameters: {'learning_rate': 0.022786810078878506, 'reg_lambda': 1.120271260158078e-08, 'reg_alpha': 96.70012274588605, 'subsample': 0.7235075927423273, 'colsample_bytree': 0.11997548953843407, 'max_depth': 2}. Best is trial 51 with value: 0.7169064837392827.\u001b[0m\n"
     ]
    },
    {
     "name": "stdout",
     "output_type": "stream",
     "text": [
      "[18:23:47] WARNING: C:/Users/Administrator/workspace/xgboost-win64_release_1.4.0/src/learner.cc:231: Only 1 GPUs are visible, setting `gpu_id` to 0\n",
      "[0]\tvalidation_0-rmse:7.55401\n",
      "[1000]\tvalidation_0-rmse:0.72390\n",
      "[2000]\tvalidation_0-rmse:0.72009\n",
      "[3000]\tvalidation_0-rmse:0.71849\n",
      "[4000]\tvalidation_0-rmse:0.71771\n",
      "[5000]\tvalidation_0-rmse:0.71725\n",
      "[6000]\tvalidation_0-rmse:0.71707\n",
      "[6999]\tvalidation_0-rmse:0.71699\n"
     ]
    },
    {
     "name": "stderr",
     "output_type": "stream",
     "text": [
      "\u001b[32m[I 2021-08-29 18:24:50,120]\u001b[0m Trial 77 finished with value: 0.7169695881101994 and parameters: {'learning_rate': 0.029309992813513944, 'reg_lambda': 0.4467558556634387, 'reg_alpha': 4.087426043777211, 'subsample': 0.6927171039752108, 'colsample_bytree': 0.1293188380066099, 'max_depth': 3}. Best is trial 51 with value: 0.7169064837392827.\u001b[0m\n"
     ]
    },
    {
     "name": "stdout",
     "output_type": "stream",
     "text": [
      "[18:24:51] WARNING: C:/Users/Administrator/workspace/xgboost-win64_release_1.4.0/src/learner.cc:231: Only 1 GPUs are visible, setting `gpu_id` to 0\n",
      "[0]\tvalidation_0-rmse:7.52582\n",
      "[1000]\tvalidation_0-rmse:0.72286\n",
      "[2000]\tvalidation_0-rmse:0.71942\n",
      "[3000]\tvalidation_0-rmse:0.71814\n",
      "[4000]\tvalidation_0-rmse:0.71761\n",
      "[5000]\tvalidation_0-rmse:0.71735\n",
      "[5790]\tvalidation_0-rmse:0.71730\n"
     ]
    },
    {
     "name": "stderr",
     "output_type": "stream",
     "text": [
      "\u001b[32m[I 2021-08-29 18:25:41,480]\u001b[0m Trial 78 finished with value: 0.7172845926080503 and parameters: {'learning_rate': 0.03296538518747987, 'reg_lambda': 0.03610675558382049, 'reg_alpha': 3.8934569781217894, 'subsample': 0.6291920465727536, 'colsample_bytree': 0.21893370493637263, 'max_depth': 3}. Best is trial 51 with value: 0.7169064837392827.\u001b[0m\n"
     ]
    },
    {
     "name": "stdout",
     "output_type": "stream",
     "text": [
      "[18:25:42] WARNING: C:/Users/Administrator/workspace/xgboost-win64_release_1.4.0/src/learner.cc:231: Only 1 GPUs are visible, setting `gpu_id` to 0\n",
      "[0]\tvalidation_0-rmse:7.32360\n",
      "[1000]\tvalidation_0-rmse:0.72015\n",
      "[2000]\tvalidation_0-rmse:0.71791\n",
      "[3000]\tvalidation_0-rmse:0.71742\n",
      "[3465]\tvalidation_0-rmse:0.71740\n"
     ]
    },
    {
     "name": "stderr",
     "output_type": "stream",
     "text": [
      "\u001b[32m[I 2021-08-29 18:26:12,842]\u001b[0m Trial 79 finished with value: 0.7173820202632307 and parameters: {'learning_rate': 0.0592162460811561, 'reg_lambda': 0.12179584873554616, 'reg_alpha': 18.298577172153763, 'subsample': 0.5886708970914054, 'colsample_bytree': 0.31558936850570596, 'max_depth': 3}. Best is trial 51 with value: 0.7169064837392827.\u001b[0m\n"
     ]
    },
    {
     "name": "stdout",
     "output_type": "stream",
     "text": [
      "[18:26:14] WARNING: C:/Users/Administrator/workspace/xgboost-win64_release_1.4.0/src/learner.cc:231: Only 1 GPUs are visible, setting `gpu_id` to 0\n",
      "[0]\tvalidation_0-rmse:7.41216\n",
      "[1000]\tvalidation_0-rmse:0.72579\n",
      "[2000]\tvalidation_0-rmse:0.72214\n",
      "[3000]\tvalidation_0-rmse:0.72015\n",
      "[4000]\tvalidation_0-rmse:0.71924\n",
      "[5000]\tvalidation_0-rmse:0.71864\n",
      "[6000]\tvalidation_0-rmse:0.71832\n",
      "[6999]\tvalidation_0-rmse:0.71805\n"
     ]
    },
    {
     "name": "stderr",
     "output_type": "stream",
     "text": [
      "\u001b[32m[I 2021-08-29 18:27:10,722]\u001b[0m Trial 80 finished with value: 0.7180493775413609 and parameters: {'learning_rate': 0.0477275860280552, 'reg_lambda': 0.4088475176898852, 'reg_alpha': 55.24428045754622, 'subsample': 0.7000578380845552, 'colsample_bytree': 0.27932942894466317, 'max_depth': 2}. Best is trial 51 with value: 0.7169064837392827.\u001b[0m\n"
     ]
    },
    {
     "name": "stdout",
     "output_type": "stream",
     "text": [
      "[18:27:12] WARNING: C:/Users/Administrator/workspace/xgboost-win64_release_1.4.0/src/learner.cc:231: Only 1 GPUs are visible, setting `gpu_id` to 0\n",
      "[0]\tvalidation_0-rmse:7.56081\n",
      "[1000]\tvalidation_0-rmse:0.72450\n",
      "[2000]\tvalidation_0-rmse:0.72047\n",
      "[3000]\tvalidation_0-rmse:0.71878\n",
      "[4000]\tvalidation_0-rmse:0.71796\n",
      "[5000]\tvalidation_0-rmse:0.71751\n",
      "[6000]\tvalidation_0-rmse:0.71726\n",
      "[6999]\tvalidation_0-rmse:0.71713\n"
     ]
    },
    {
     "name": "stderr",
     "output_type": "stream",
     "text": [
      "\u001b[32m[I 2021-08-29 18:28:18,414]\u001b[0m Trial 81 finished with value: 0.717128473515862 and parameters: {'learning_rate': 0.0284376289353293, 'reg_lambda': 50.52754313458211, 'reg_alpha': 3.7748001642241076, 'subsample': 0.7991536886467249, 'colsample_bytree': 0.15530856237332474, 'max_depth': 3}. Best is trial 51 with value: 0.7169064837392827.\u001b[0m\n"
     ]
    },
    {
     "name": "stdout",
     "output_type": "stream",
     "text": [
      "[18:28:19] WARNING: C:/Users/Administrator/workspace/xgboost-win64_release_1.4.0/src/learner.cc:231: Only 1 GPUs are visible, setting `gpu_id` to 0\n",
      "[0]\tvalidation_0-rmse:7.58292\n",
      "[1000]\tvalidation_0-rmse:0.72321\n",
      "[2000]\tvalidation_0-rmse:0.71929\n",
      "[3000]\tvalidation_0-rmse:0.71799\n",
      "[4000]\tvalidation_0-rmse:0.71745\n",
      "[5000]\tvalidation_0-rmse:0.71727\n",
      "[5824]\tvalidation_0-rmse:0.71723\n"
     ]
    },
    {
     "name": "stderr",
     "output_type": "stream",
     "text": [
      "\u001b[32m[I 2021-08-29 18:29:18,571]\u001b[0m Trial 82 finished with value: 0.7171891361895116 and parameters: {'learning_rate': 0.025559868599238526, 'reg_lambda': 2.2449894436665554, 'reg_alpha': 1.6376511882435811, 'subsample': 0.6600931484889282, 'colsample_bytree': 0.12465624756675343, 'max_depth': 4}. Best is trial 51 with value: 0.7169064837392827.\u001b[0m\n"
     ]
    },
    {
     "name": "stdout",
     "output_type": "stream",
     "text": [
      "[18:29:19] WARNING: C:/Users/Administrator/workspace/xgboost-win64_release_1.4.0/src/learner.cc:231: Only 1 GPUs are visible, setting `gpu_id` to 0\n",
      "[0]\tvalidation_0-rmse:7.61184\n",
      "[1000]\tvalidation_0-rmse:0.72730\n",
      "[2000]\tvalidation_0-rmse:0.72249\n",
      "[3000]\tvalidation_0-rmse:0.72016\n",
      "[4000]\tvalidation_0-rmse:0.71898\n",
      "[5000]\tvalidation_0-rmse:0.71825\n",
      "[6000]\tvalidation_0-rmse:0.71781\n",
      "[6999]\tvalidation_0-rmse:0.71753\n"
     ]
    },
    {
     "name": "stderr",
     "output_type": "stream",
     "text": [
      "\u001b[32m[I 2021-08-29 18:30:24,415]\u001b[0m Trial 83 finished with value: 0.7175274311929684 and parameters: {'learning_rate': 0.02180453165886057, 'reg_lambda': 8.849179109002622, 'reg_alpha': 0.8403585138479445, 'subsample': 0.7427657171312202, 'colsample_bytree': 0.10020254508838544, 'max_depth': 3}. Best is trial 51 with value: 0.7169064837392827.\u001b[0m\n"
     ]
    },
    {
     "name": "stdout",
     "output_type": "stream",
     "text": [
      "[18:30:25] WARNING: C:/Users/Administrator/workspace/xgboost-win64_release_1.4.0/src/learner.cc:231: Only 1 GPUs are visible, setting `gpu_id` to 0\n",
      "[0]\tvalidation_0-rmse:7.54472\n",
      "[1000]\tvalidation_0-rmse:0.72112\n",
      "[2000]\tvalidation_0-rmse:0.71829\n",
      "[3000]\tvalidation_0-rmse:0.71737\n",
      "[4000]\tvalidation_0-rmse:0.71708\n",
      "[4153]\tvalidation_0-rmse:0.71707\n"
     ]
    },
    {
     "name": "stderr",
     "output_type": "stream",
     "text": [
      "\u001b[32m[I 2021-08-29 18:31:11,518]\u001b[0m Trial 84 finished with value: 0.7170536019643605 and parameters: {'learning_rate': 0.030514876634884405, 'reg_lambda': 0.0166095743195411, 'reg_alpha': 9.770645348015458, 'subsample': 0.774512252902028, 'colsample_bytree': 0.17979641650935269, 'max_depth': 4}. Best is trial 51 with value: 0.7169064837392827.\u001b[0m\n"
     ]
    },
    {
     "name": "stdout",
     "output_type": "stream",
     "text": [
      "[18:31:12] WARNING: C:/Users/Administrator/workspace/xgboost-win64_release_1.4.0/src/learner.cc:231: Only 1 GPUs are visible, setting `gpu_id` to 0\n",
      "[0]\tvalidation_0-rmse:7.55266\n",
      "[1000]\tvalidation_0-rmse:0.72200\n",
      "[2000]\tvalidation_0-rmse:0.71885\n",
      "[3000]\tvalidation_0-rmse:0.71770\n",
      "[4000]\tvalidation_0-rmse:0.71724\n",
      "[5000]\tvalidation_0-rmse:0.71713\n",
      "[5846]\tvalidation_0-rmse:0.71710\n"
     ]
    },
    {
     "name": "stderr",
     "output_type": "stream",
     "text": [
      "\u001b[32m[I 2021-08-29 18:32:20,674]\u001b[0m Trial 85 finished with value: 0.7170672544142594 and parameters: {'learning_rate': 0.02948572130084391, 'reg_lambda': 0.016195819004587608, 'reg_alpha': 30.588257856249083, 'subsample': 0.8276637728203956, 'colsample_bytree': 0.18147432752393527, 'max_depth': 4}. Best is trial 51 with value: 0.7169064837392827.\u001b[0m\n"
     ]
    },
    {
     "name": "stdout",
     "output_type": "stream",
     "text": [
      "[18:32:21] WARNING: C:/Users/Administrator/workspace/xgboost-win64_release_1.4.0/src/learner.cc:231: Only 1 GPUs are visible, setting `gpu_id` to 0\n",
      "[0]\tvalidation_0-rmse:7.54378\n",
      "[1000]\tvalidation_0-rmse:0.72163\n",
      "[2000]\tvalidation_0-rmse:0.71867\n",
      "[3000]\tvalidation_0-rmse:0.71762\n",
      "[4000]\tvalidation_0-rmse:0.71721\n",
      "[5000]\tvalidation_0-rmse:0.71705\n",
      "[5267]\tvalidation_0-rmse:0.71708\n"
     ]
    },
    {
     "name": "stderr",
     "output_type": "stream",
     "text": [
      "\u001b[32m[I 2021-08-29 18:33:22,959]\u001b[0m Trial 86 finished with value: 0.7170490177561818 and parameters: {'learning_rate': 0.030637751924427862, 'reg_lambda': 0.5328612139383049, 'reg_alpha': 25.370425279647936, 'subsample': 0.848683738861381, 'colsample_bytree': 0.17024603435571095, 'max_depth': 4}. Best is trial 51 with value: 0.7169064837392827.\u001b[0m\n"
     ]
    },
    {
     "name": "stdout",
     "output_type": "stream",
     "text": [
      "[18:33:24] WARNING: C:/Users/Administrator/workspace/xgboost-win64_release_1.4.0/src/learner.cc:231: Only 1 GPUs are visible, setting `gpu_id` to 0\n",
      "[0]\tvalidation_0-rmse:7.49713\n",
      "[1000]\tvalidation_0-rmse:0.72042\n",
      "[2000]\tvalidation_0-rmse:0.71793\n",
      "[3000]\tvalidation_0-rmse:0.71726\n",
      "[4000]\tvalidation_0-rmse:0.71710\n",
      "[4039]\tvalidation_0-rmse:0.71710\n"
     ]
    },
    {
     "name": "stderr",
     "output_type": "stream",
     "text": [
      "\u001b[32m[I 2021-08-29 18:34:08,225]\u001b[0m Trial 87 finished with value: 0.7170871631971943 and parameters: {'learning_rate': 0.03669317923080983, 'reg_lambda': 0.0069844202918954235, 'reg_alpha': 9.936319890457337, 'subsample': 0.7639602688213052, 'colsample_bytree': 0.15465565037296353, 'max_depth': 4}. Best is trial 51 with value: 0.7169064837392827.\u001b[0m\n"
     ]
    },
    {
     "name": "stdout",
     "output_type": "stream",
     "text": [
      "[18:34:09] WARNING: C:/Users/Administrator/workspace/xgboost-win64_release_1.4.0/src/learner.cc:231: Only 1 GPUs are visible, setting `gpu_id` to 0\n",
      "[0]\tvalidation_0-rmse:7.58798\n",
      "[1000]\tvalidation_0-rmse:0.72296\n",
      "[2000]\tvalidation_0-rmse:0.71931\n",
      "[3000]\tvalidation_0-rmse:0.71799\n",
      "[4000]\tvalidation_0-rmse:0.71738\n",
      "[5000]\tvalidation_0-rmse:0.71709\n",
      "[5950]\tvalidation_0-rmse:0.71701\n"
     ]
    },
    {
     "name": "stderr",
     "output_type": "stream",
     "text": [
      "\u001b[32m[I 2021-08-29 18:35:12,870]\u001b[0m Trial 88 finished with value: 0.7170054292438243 and parameters: {'learning_rate': 0.02490240177444537, 'reg_lambda': 0.5479054077832283, 'reg_alpha': 21.43995603644497, 'subsample': 0.6857173255071045, 'colsample_bytree': 0.13149095660804144, 'max_depth': 4}. Best is trial 51 with value: 0.7169064837392827.\u001b[0m\n"
     ]
    },
    {
     "name": "stdout",
     "output_type": "stream",
     "text": [
      "[18:35:14] WARNING: C:/Users/Administrator/workspace/xgboost-win64_release_1.4.0/src/learner.cc:231: Only 1 GPUs are visible, setting `gpu_id` to 0\n",
      "[0]\tvalidation_0-rmse:7.53920\n",
      "[1000]\tvalidation_0-rmse:0.72230\n",
      "[2000]\tvalidation_0-rmse:0.71934\n",
      "[3000]\tvalidation_0-rmse:0.71843\n",
      "[4000]\tvalidation_0-rmse:0.71812\n",
      "[4820]\tvalidation_0-rmse:0.71810\n"
     ]
    },
    {
     "name": "stderr",
     "output_type": "stream",
     "text": [
      "\u001b[32m[I 2021-08-29 18:36:13,498]\u001b[0m Trial 89 finished with value: 0.7180763325075096 and parameters: {'learning_rate': 0.031235378786467635, 'reg_lambda': 0.14041312247317161, 'reg_alpha': 52.65178988937858, 'subsample': 0.8537718424503303, 'colsample_bytree': 0.5659641255811216, 'max_depth': 4}. Best is trial 51 with value: 0.7169064837392827.\u001b[0m\n"
     ]
    },
    {
     "name": "stdout",
     "output_type": "stream",
     "text": [
      "[18:36:14] WARNING: C:/Users/Administrator/workspace/xgboost-win64_release_1.4.0/src/learner.cc:231: Only 1 GPUs are visible, setting `gpu_id` to 0\n",
      "[0]\tvalidation_0-rmse:7.64152\n",
      "[1000]\tvalidation_0-rmse:0.72498\n",
      "[2000]\tvalidation_0-rmse:0.72087\n",
      "[3000]\tvalidation_0-rmse:0.71923\n",
      "[4000]\tvalidation_0-rmse:0.71840\n",
      "[5000]\tvalidation_0-rmse:0.71805\n",
      "[6000]\tvalidation_0-rmse:0.71785\n",
      "[6999]\tvalidation_0-rmse:0.71774\n"
     ]
    },
    {
     "name": "stderr",
     "output_type": "stream",
     "text": [
      "\u001b[32m[I 2021-08-29 18:37:24,283]\u001b[0m Trial 90 finished with value: 0.7177353023211966 and parameters: {'learning_rate': 0.017954517573252782, 'reg_lambda': 0.43352529828646974, 'reg_alpha': 26.83055648340816, 'subsample': 0.48654886423123833, 'colsample_bytree': 0.355874062299819, 'max_depth': 4}. Best is trial 51 with value: 0.7169064837392827.\u001b[0m\n"
     ]
    },
    {
     "name": "stdout",
     "output_type": "stream",
     "text": [
      "[18:37:25] WARNING: C:/Users/Administrator/workspace/xgboost-win64_release_1.4.0/src/learner.cc:231: Only 1 GPUs are visible, setting `gpu_id` to 0\n",
      "[0]\tvalidation_0-rmse:7.58734\n",
      "[1000]\tvalidation_0-rmse:0.72280\n",
      "[2000]\tvalidation_0-rmse:0.71918\n",
      "[3000]\tvalidation_0-rmse:0.71788\n",
      "[4000]\tvalidation_0-rmse:0.71730\n",
      "[5000]\tvalidation_0-rmse:0.71704\n",
      "[6000]\tvalidation_0-rmse:0.71694\n",
      "[6420]\tvalidation_0-rmse:0.71693\n"
     ]
    },
    {
     "name": "stderr",
     "output_type": "stream",
     "text": [
      "\u001b[32m[I 2021-08-29 18:38:33,753]\u001b[0m Trial 91 finished with value: 0.7169244584539325 and parameters: {'learning_rate': 0.02498601844156824, 'reg_lambda': 2.735316390863742, 'reg_alpha': 16.428856668976618, 'subsample': 0.6825304822356163, 'colsample_bytree': 0.12927406016668583, 'max_depth': 4}. Best is trial 51 with value: 0.7169064837392827.\u001b[0m\n"
     ]
    },
    {
     "name": "stdout",
     "output_type": "stream",
     "text": [
      "[18:38:34] WARNING: C:/Users/Administrator/workspace/xgboost-win64_release_1.4.0/src/learner.cc:231: Only 1 GPUs are visible, setting `gpu_id` to 0\n",
      "[0]\tvalidation_0-rmse:7.57138\n",
      "[1000]\tvalidation_0-rmse:0.72194\n",
      "[2000]\tvalidation_0-rmse:0.71925\n",
      "[3000]\tvalidation_0-rmse:0.71843\n",
      "[4000]\tvalidation_0-rmse:0.71820\n",
      "[4418]\tvalidation_0-rmse:0.71822\n"
     ]
    },
    {
     "name": "stderr",
     "output_type": "stream",
     "text": [
      "\u001b[32m[I 2021-08-29 18:39:22,429]\u001b[0m Trial 92 finished with value: 0.7181821870754245 and parameters: {'learning_rate': 0.02705453194402329, 'reg_lambda': 2.155551834999695, 'reg_alpha': 3.664287589782645, 'subsample': 0.6863910406685567, 'colsample_bytree': 0.6986194164663402, 'max_depth': 4}. Best is trial 51 with value: 0.7169064837392827.\u001b[0m\n"
     ]
    },
    {
     "name": "stdout",
     "output_type": "stream",
     "text": [
      "[18:39:23] WARNING: C:/Users/Administrator/workspace/xgboost-win64_release_1.4.0/src/learner.cc:231: Only 1 GPUs are visible, setting `gpu_id` to 0\n",
      "[0]\tvalidation_0-rmse:7.62337\n",
      "[1000]\tvalidation_0-rmse:0.72331\n",
      "[2000]\tvalidation_0-rmse:0.71969\n",
      "[3000]\tvalidation_0-rmse:0.71832\n",
      "[4000]\tvalidation_0-rmse:0.71773\n",
      "[5000]\tvalidation_0-rmse:0.71751\n",
      "[6000]\tvalidation_0-rmse:0.71739\n",
      "[6532]\tvalidation_0-rmse:0.71739\n"
     ]
    },
    {
     "name": "stderr",
     "output_type": "stream",
     "text": [
      "\u001b[32m[I 2021-08-29 18:40:27,691]\u001b[0m Trial 93 finished with value: 0.7173723461976417 and parameters: {'learning_rate': 0.020305447326090822, 'reg_lambda': 0.6969488137469835, 'reg_alpha': 6.154496825398945e-08, 'subsample': 0.6045409396260492, 'colsample_bytree': 0.1640302393749018, 'max_depth': 4}. Best is trial 51 with value: 0.7169064837392827.\u001b[0m\n"
     ]
    },
    {
     "name": "stdout",
     "output_type": "stream",
     "text": [
      "[18:40:28] WARNING: C:/Users/Administrator/workspace/xgboost-win64_release_1.4.0/src/learner.cc:231: Only 1 GPUs are visible, setting `gpu_id` to 0\n",
      "[0]\tvalidation_0-rmse:7.59940\n",
      "[1000]\tvalidation_0-rmse:0.72412\n",
      "[2000]\tvalidation_0-rmse:0.71981\n",
      "[3000]\tvalidation_0-rmse:0.71816\n",
      "[4000]\tvalidation_0-rmse:0.71750\n",
      "[5000]\tvalidation_0-rmse:0.71715\n",
      "[6000]\tvalidation_0-rmse:0.71699\n",
      "[6999]\tvalidation_0-rmse:0.71692\n"
     ]
    },
    {
     "name": "stderr",
     "output_type": "stream",
     "text": [
      "\u001b[32m[I 2021-08-29 18:41:45,209]\u001b[0m Trial 94 finished with value: 0.7169143033687672 and parameters: {'learning_rate': 0.023419055635854072, 'reg_lambda': 0.2678323240266702, 'reg_alpha': 10.31247536498587, 'subsample': 0.7748219853543002, 'colsample_bytree': 0.12359225913592659, 'max_depth': 4}. Best is trial 51 with value: 0.7169064837392827.\u001b[0m\n"
     ]
    },
    {
     "name": "stdout",
     "output_type": "stream",
     "text": [
      "[18:41:46] WARNING: C:/Users/Administrator/workspace/xgboost-win64_release_1.4.0/src/learner.cc:231: Only 1 GPUs are visible, setting `gpu_id` to 0\n",
      "[0]\tvalidation_0-rmse:7.59316\n",
      "[1000]\tvalidation_0-rmse:0.72428\n",
      "[2000]\tvalidation_0-rmse:0.71989\n",
      "[3000]\tvalidation_0-rmse:0.71826\n",
      "[4000]\tvalidation_0-rmse:0.71756\n",
      "[5000]\tvalidation_0-rmse:0.71723\n",
      "[6000]\tvalidation_0-rmse:0.71704\n",
      "[6999]\tvalidation_0-rmse:0.71698\n"
     ]
    },
    {
     "name": "stderr",
     "output_type": "stream",
     "text": [
      "\u001b[32m[I 2021-08-29 18:42:58,031]\u001b[0m Trial 95 finished with value: 0.716960155702372 and parameters: {'learning_rate': 0.0242324230291812, 'reg_lambda': 7.413672461066216, 'reg_alpha': 17.419593601428815, 'subsample': 0.6455777425924987, 'colsample_bytree': 0.1223126801151038, 'max_depth': 4}. Best is trial 51 with value: 0.7169064837392827.\u001b[0m\n"
     ]
    },
    {
     "name": "stdout",
     "output_type": "stream",
     "text": [
      "[18:42:59] WARNING: C:/Users/Administrator/workspace/xgboost-win64_release_1.4.0/src/learner.cc:231: Only 1 GPUs are visible, setting `gpu_id` to 0\n",
      "[0]\tvalidation_0-rmse:7.60468\n",
      "[1000]\tvalidation_0-rmse:0.72418\n",
      "[2000]\tvalidation_0-rmse:0.71986\n",
      "[3000]\tvalidation_0-rmse:0.71832\n",
      "[4000]\tvalidation_0-rmse:0.71767\n",
      "[5000]\tvalidation_0-rmse:0.71743\n",
      "[5950]\tvalidation_0-rmse:0.71735\n"
     ]
    },
    {
     "name": "stderr",
     "output_type": "stream",
     "text": [
      "\u001b[32m[I 2021-08-29 18:43:59,097]\u001b[0m Trial 96 finished with value: 0.717351254240623 and parameters: {'learning_rate': 0.022737242249668204, 'reg_lambda': 10.35584317828484, 'reg_alpha': 3.724106073076588e-06, 'subsample': 0.6440903497194586, 'colsample_bytree': 0.12326188539491346, 'max_depth': 4}. Best is trial 51 with value: 0.7169064837392827.\u001b[0m\n"
     ]
    },
    {
     "name": "stdout",
     "output_type": "stream",
     "text": [
      "[18:44:00] WARNING: C:/Users/Administrator/workspace/xgboost-win64_release_1.4.0/src/learner.cc:231: Only 1 GPUs are visible, setting `gpu_id` to 0\n",
      "[0]\tvalidation_0-rmse:7.59156\n",
      "[1000]\tvalidation_0-rmse:0.72266\n",
      "[2000]\tvalidation_0-rmse:0.71908\n",
      "[3000]\tvalidation_0-rmse:0.71784\n",
      "[4000]\tvalidation_0-rmse:0.71737\n",
      "[5000]\tvalidation_0-rmse:0.71715\n",
      "[6000]\tvalidation_0-rmse:0.71714\n",
      "[6004]\tvalidation_0-rmse:0.71713\n"
     ]
    },
    {
     "name": "stderr",
     "output_type": "stream",
     "text": [
      "\u001b[32m[I 2021-08-29 18:45:02,975]\u001b[0m Trial 97 finished with value: 0.71708954303124 and parameters: {'learning_rate': 0.024439210487440542, 'reg_lambda': 18.77100771245707, 'reg_alpha': 2.670030252295931, 'subsample': 0.6977154819880925, 'colsample_bytree': 0.1380321161124814, 'max_depth': 4}. Best is trial 51 with value: 0.7169064837392827.\u001b[0m\n"
     ]
    },
    {
     "name": "stdout",
     "output_type": "stream",
     "text": [
      "[18:45:04] WARNING: C:/Users/Administrator/workspace/xgboost-win64_release_1.4.0/src/learner.cc:231: Only 1 GPUs are visible, setting `gpu_id` to 0\n",
      "[0]\tvalidation_0-rmse:7.62123\n",
      "[1000]\tvalidation_0-rmse:0.72310\n",
      "[2000]\tvalidation_0-rmse:0.71955\n",
      "[3000]\tvalidation_0-rmse:0.71824\n",
      "[4000]\tvalidation_0-rmse:0.71763\n",
      "[5000]\tvalidation_0-rmse:0.71738\n",
      "[5261]\tvalidation_0-rmse:0.71740\n"
     ]
    },
    {
     "name": "stderr",
     "output_type": "stream",
     "text": [
      "\u001b[32m[I 2021-08-29 18:45:54,847]\u001b[0m Trial 98 finished with value: 0.7173808135080316 and parameters: {'learning_rate': 0.020587555581724565, 'reg_lambda': 6.623262643487766, 'reg_alpha': 4.2072925946675664e-05, 'subsample': 0.5481507083493457, 'colsample_bytree': 0.2029470107251543, 'max_depth': 4}. Best is trial 51 with value: 0.7169064837392827.\u001b[0m\n"
     ]
    },
    {
     "name": "stdout",
     "output_type": "stream",
     "text": [
      "[18:45:56] WARNING: C:/Users/Administrator/workspace/xgboost-win64_release_1.4.0/src/learner.cc:231: Only 1 GPUs are visible, setting `gpu_id` to 0\n",
      "[0]\tvalidation_0-rmse:7.56913\n",
      "[1000]\tvalidation_0-rmse:0.72333\n",
      "[2000]\tvalidation_0-rmse:0.72008\n",
      "[3000]\tvalidation_0-rmse:0.71898\n",
      "[4000]\tvalidation_0-rmse:0.71856\n",
      "[5000]\tvalidation_0-rmse:0.71839\n",
      "[5822]\tvalidation_0-rmse:0.71836\n"
     ]
    },
    {
     "name": "stderr",
     "output_type": "stream",
     "text": [
      "\u001b[32m[I 2021-08-29 18:47:04,368]\u001b[0m Trial 99 finished with value: 0.7183400930175847 and parameters: {'learning_rate': 0.027361891720247507, 'reg_lambda': 80.24704110944548, 'reg_alpha': 63.679263739724455, 'subsample': 0.7188690417044336, 'colsample_bytree': 0.5024822510206274, 'max_depth': 4}. Best is trial 51 with value: 0.7169064837392827.\u001b[0m\n"
     ]
    }
   ],
   "source": [
    "study = optuna.create_study(direction=\"minimize\")\n",
    "study.optimize(run, n_trials=100) #100"
   ]
  },
  {
   "cell_type": "code",
   "execution_count": 5,
   "metadata": {},
   "outputs": [
    {
     "data": {
      "text/plain": [
       "{'learning_rate': 0.0342032910688893,\n",
       " 'reg_lambda': 16.984336234349644,\n",
       " 'reg_alpha': 13.2209270507238,\n",
       " 'subsample': 0.7396101488182523,\n",
       " 'colsample_bytree': 0.13653907086890005,\n",
       " 'max_depth': 3}"
      ]
     },
     "execution_count": 5,
     "metadata": {},
     "output_type": "execute_result"
    }
   ],
   "source": [
    "study.best_params"
   ]
  },
  {
   "cell_type": "code",
   "execution_count": 7,
   "metadata": {},
   "outputs": [
    {
     "name": "stderr",
     "output_type": "stream",
     "text": [
      "\u001b[32m[I 2021-08-29 18:47:44,719]\u001b[0m A new study created in memory with name: no-name-7acf527b-9e92-426f-8318-4ce3028973d7\u001b[0m\n"
     ]
    },
    {
     "name": "stdout",
     "output_type": "stream",
     "text": [
      "[18:47:45] WARNING: C:/Users/Administrator/workspace/xgboost-win64_release_1.4.0/src/learner.cc:231: Only 1 GPUs are visible, setting `gpu_id` to 0\n",
      "[0]\tvalidation_0-rmse:7.63239\n",
      "[1000]\tvalidation_0-rmse:0.72154\n",
      "[2000]\tvalidation_0-rmse:0.72028\n",
      "[2305]\tvalidation_0-rmse:0.72037\n"
     ]
    },
    {
     "name": "stderr",
     "output_type": "stream",
     "text": [
      "\u001b[32m[I 2021-08-29 18:48:21,683]\u001b[0m Trial 0 finished with value: 0.7202673872752845 and parameters: {'learning_rate': 0.0191379813907593, 'reg_lambda': 1.4363127879918497e-08, 'reg_alpha': 0.00041415689595605197, 'subsample': 0.4170488901687981, 'colsample_bytree': 0.8690280656001025, 'max_depth': 6}. Best is trial 0 with value: 0.7202673872752845.\u001b[0m\n"
     ]
    },
    {
     "name": "stdout",
     "output_type": "stream",
     "text": [
      "[18:48:22] WARNING: C:/Users/Administrator/workspace/xgboost-win64_release_1.4.0/src/learner.cc:231: Only 1 GPUs are visible, setting `gpu_id` to 0\n",
      "[0]\tvalidation_0-rmse:7.36516\n",
      "[1000]\tvalidation_0-rmse:0.71982\n",
      "[1951]\tvalidation_0-rmse:0.71943\n"
     ]
    },
    {
     "name": "stderr",
     "output_type": "stream",
     "text": [
      "\u001b[32m[I 2021-08-29 18:48:48,109]\u001b[0m Trial 1 finished with value: 0.7193494439165233 and parameters: {'learning_rate': 0.05384256063858188, 'reg_lambda': 8.776323950846218e-07, 'reg_alpha': 48.421734302412716, 'subsample': 0.5053790749130518, 'colsample_bytree': 0.8462785533989301, 'max_depth': 5}. Best is trial 1 with value: 0.7193494439165233.\u001b[0m\n"
     ]
    },
    {
     "name": "stdout",
     "output_type": "stream",
     "text": [
      "[18:48:49] WARNING: C:/Users/Administrator/workspace/xgboost-win64_release_1.4.0/src/learner.cc:231: Only 1 GPUs are visible, setting `gpu_id` to 0\n",
      "[0]\tvalidation_0-rmse:7.58488\n",
      "[1000]\tvalidation_0-rmse:0.72421\n",
      "[2000]\tvalidation_0-rmse:0.72064\n",
      "[3000]\tvalidation_0-rmse:0.71933\n",
      "[4000]\tvalidation_0-rmse:0.71859\n",
      "[5000]\tvalidation_0-rmse:0.71836\n",
      "[6000]\tvalidation_0-rmse:0.71822\n",
      "[6364]\tvalidation_0-rmse:0.71823\n"
     ]
    },
    {
     "name": "stderr",
     "output_type": "stream",
     "text": [
      "\u001b[32m[I 2021-08-29 18:49:38,814]\u001b[0m Trial 2 finished with value: 0.7182068506786939 and parameters: {'learning_rate': 0.025303477519825625, 'reg_lambda': 0.0006553891426863627, 'reg_alpha': 1.3717427286854278, 'subsample': 0.42299323314882564, 'colsample_bytree': 0.9249035364274456, 'max_depth': 3}. Best is trial 2 with value: 0.7182068506786939.\u001b[0m\n"
     ]
    },
    {
     "name": "stdout",
     "output_type": "stream",
     "text": [
      "[18:49:40] WARNING: C:/Users/Administrator/workspace/xgboost-win64_release_1.4.0/src/learner.cc:231: Only 1 GPUs are visible, setting `gpu_id` to 0\n",
      "[0]\tvalidation_0-rmse:7.14551\n",
      "[674]\tvalidation_0-rmse:0.72335\n"
     ]
    },
    {
     "name": "stderr",
     "output_type": "stream",
     "text": [
      "\u001b[32m[I 2021-08-29 18:49:47,608]\u001b[0m Trial 3 finished with value: 0.7228195110040371 and parameters: {'learning_rate': 0.08233041118780839, 'reg_lambda': 0.00010695165216449065, 'reg_alpha': 0.01145630292933676, 'subsample': 0.31328626184703695, 'colsample_bytree': 0.7929144047066841, 'max_depth': 5}. Best is trial 2 with value: 0.7182068506786939.\u001b[0m\n"
     ]
    },
    {
     "name": "stdout",
     "output_type": "stream",
     "text": [
      "[18:49:48] WARNING: C:/Users/Administrator/workspace/xgboost-win64_release_1.4.0/src/learner.cc:231: Only 1 GPUs are visible, setting `gpu_id` to 0\n",
      "[0]\tvalidation_0-rmse:7.31391\n",
      "[1000]\tvalidation_0-rmse:0.72057\n",
      "[1353]\tvalidation_0-rmse:0.72070\n"
     ]
    },
    {
     "name": "stderr",
     "output_type": "stream",
     "text": [
      "\u001b[32m[I 2021-08-29 18:49:59,465]\u001b[0m Trial 4 finished with value: 0.7204893983959773 and parameters: {'learning_rate': 0.06048230024586439, 'reg_lambda': 3.409779546570915, 'reg_alpha': 0.00013896335079757437, 'subsample': 0.20448628431864707, 'colsample_bytree': 0.5197267761715082, 'max_depth': 4}. Best is trial 2 with value: 0.7182068506786939.\u001b[0m\n"
     ]
    },
    {
     "name": "stdout",
     "output_type": "stream",
     "text": [
      "[18:50:00] WARNING: C:/Users/Administrator/workspace/xgboost-win64_release_1.4.0/src/learner.cc:231: Only 1 GPUs are visible, setting `gpu_id` to 0\n",
      "[0]\tvalidation_0-rmse:7.22750\n",
      "[1000]\tvalidation_0-rmse:0.72936\n",
      "[2000]\tvalidation_0-rmse:0.72700\n",
      "[3000]\tvalidation_0-rmse:0.72552\n",
      "[4000]\tvalidation_0-rmse:0.72447\n",
      "[5000]\tvalidation_0-rmse:0.72365\n",
      "[6000]\tvalidation_0-rmse:0.72301\n",
      "[6999]\tvalidation_0-rmse:0.72249\n"
     ]
    },
    {
     "name": "stderr",
     "output_type": "stream",
     "text": [
      "\u001b[32m[I 2021-08-29 18:50:44,314]\u001b[0m Trial 5 finished with value: 0.7224796401484933 and parameters: {'learning_rate': 0.0717001484682573, 'reg_lambda': 0.002389287785288628, 'reg_alpha': 0.19067653994606448, 'subsample': 0.639064401329934, 'colsample_bytree': 0.43684471921028456, 'max_depth': 1}. Best is trial 2 with value: 0.7182068506786939.\u001b[0m\n"
     ]
    },
    {
     "name": "stdout",
     "output_type": "stream",
     "text": [
      "[18:50:45] WARNING: C:/Users/Administrator/workspace/xgboost-win64_release_1.4.0/src/learner.cc:231: Only 1 GPUs are visible, setting `gpu_id` to 0\n",
      "[0]\tvalidation_0-rmse:7.57376\n",
      "[1000]\tvalidation_0-rmse:0.72494\n",
      "[2000]\tvalidation_0-rmse:0.72097\n",
      "[3000]\tvalidation_0-rmse:0.71930\n",
      "[4000]\tvalidation_0-rmse:0.71841\n",
      "[5000]\tvalidation_0-rmse:0.71789\n",
      "[6000]\tvalidation_0-rmse:0.71769\n",
      "[6636]\tvalidation_0-rmse:0.71767\n"
     ]
    },
    {
     "name": "stderr",
     "output_type": "stream",
     "text": [
      "\u001b[32m[I 2021-08-29 18:51:51,792]\u001b[0m Trial 6 finished with value: 0.717662998874105 and parameters: {'learning_rate': 0.02675274649381665, 'reg_lambda': 36.929053022208755, 'reg_alpha': 0.11518285144684161, 'subsample': 0.9066114153780978, 'colsample_bytree': 0.5870260463291976, 'max_depth': 3}. Best is trial 6 with value: 0.717662998874105.\u001b[0m\n"
     ]
    },
    {
     "name": "stdout",
     "output_type": "stream",
     "text": [
      "[18:51:52] WARNING: C:/Users/Administrator/workspace/xgboost-win64_release_1.4.0/src/learner.cc:231: Only 1 GPUs are visible, setting `gpu_id` to 0\n",
      "[0]\tvalidation_0-rmse:7.23425\n",
      "[1000]\tvalidation_0-rmse:0.72257\n",
      "[2000]\tvalidation_0-rmse:0.72052\n",
      "[3000]\tvalidation_0-rmse:0.71979\n",
      "[3634]\tvalidation_0-rmse:0.71979\n"
     ]
    },
    {
     "name": "stderr",
     "output_type": "stream",
     "text": [
      "\u001b[32m[I 2021-08-29 18:52:14,407]\u001b[0m Trial 7 finished with value: 0.7196431052329116 and parameters: {'learning_rate': 0.0708021853081388, 'reg_lambda': 0.00011097105715664467, 'reg_alpha': 0.3098434058934523, 'subsample': 0.1690801308045342, 'colsample_bytree': 0.9946063174240869, 'max_depth': 2}. Best is trial 6 with value: 0.717662998874105.\u001b[0m\n"
     ]
    },
    {
     "name": "stdout",
     "output_type": "stream",
     "text": [
      "[18:52:15] WARNING: C:/Users/Administrator/workspace/xgboost-win64_release_1.4.0/src/learner.cc:231: Only 1 GPUs are visible, setting `gpu_id` to 0\n",
      "[0]\tvalidation_0-rmse:7.43464\n",
      "[1000]\tvalidation_0-rmse:0.73179\n",
      "[2000]\tvalidation_0-rmse:0.72935\n",
      "[3000]\tvalidation_0-rmse:0.72809\n",
      "[4000]\tvalidation_0-rmse:0.72718\n",
      "[5000]\tvalidation_0-rmse:0.72647\n",
      "[6000]\tvalidation_0-rmse:0.72591\n",
      "[6999]\tvalidation_0-rmse:0.72544\n"
     ]
    },
    {
     "name": "stderr",
     "output_type": "stream",
     "text": [
      "\u001b[32m[I 2021-08-29 18:53:09,504]\u001b[0m Trial 8 finished with value: 0.7254342627802134 and parameters: {'learning_rate': 0.04481940079265528, 'reg_lambda': 61.07630554104866, 'reg_alpha': 0.008669661997227582, 'subsample': 0.9776842446213705, 'colsample_bytree': 0.2527450844879784, 'max_depth': 1}. Best is trial 6 with value: 0.717662998874105.\u001b[0m\n"
     ]
    },
    {
     "name": "stdout",
     "output_type": "stream",
     "text": [
      "[18:53:10] WARNING: C:/Users/Administrator/workspace/xgboost-win64_release_1.4.0/src/learner.cc:231: Only 1 GPUs are visible, setting `gpu_id` to 0\n",
      "[0]\tvalidation_0-rmse:6.99183\n",
      "[1000]\tvalidation_0-rmse:0.71971\n",
      "[2000]\tvalidation_0-rmse:0.71903\n",
      "[2183]\tvalidation_0-rmse:0.71903\n"
     ]
    },
    {
     "name": "stderr",
     "output_type": "stream",
     "text": [
      "\u001b[32m[I 2021-08-29 18:53:25,158]\u001b[0m Trial 9 finished with value: 0.7189713757628581 and parameters: {'learning_rate': 0.10230908219016285, 'reg_lambda': 4.346942608777738, 'reg_alpha': 2.2743959255030646e-07, 'subsample': 0.17268417587224302, 'colsample_bytree': 0.12436562059234377, 'max_depth': 3}. Best is trial 6 with value: 0.717662998874105.\u001b[0m\n"
     ]
    },
    {
     "name": "stdout",
     "output_type": "stream",
     "text": [
      "[18:53:26] WARNING: C:/Users/Administrator/workspace/xgboost-win64_release_1.4.0/src/learner.cc:231: Only 1 GPUs are visible, setting `gpu_id` to 0\n",
      "[0]\tvalidation_0-rmse:6.15386\n",
      "[379]\tvalidation_0-rmse:0.73260\n"
     ]
    },
    {
     "name": "stderr",
     "output_type": "stream",
     "text": [
      "\u001b[32m[I 2021-08-29 18:53:36,086]\u001b[0m Trial 10 finished with value: 0.7242897681578979 and parameters: {'learning_rate': 0.21121110081826847, 'reg_lambda': 0.06167768256860482, 'reg_alpha': 2.446610069265017e-06, 'subsample': 0.9855321219909359, 'colsample_bytree': 0.6305086049786105, 'max_depth': 7}. Best is trial 6 with value: 0.717662998874105.\u001b[0m\n"
     ]
    },
    {
     "name": "stdout",
     "output_type": "stream",
     "text": [
      "[18:53:37] WARNING: C:/Users/Administrator/workspace/xgboost-win64_release_1.4.0/src/learner.cc:231: Only 1 GPUs are visible, setting `gpu_id` to 0\n",
      "[0]\tvalidation_0-rmse:7.65115\n",
      "[1000]\tvalidation_0-rmse:0.72837\n",
      "[2000]\tvalidation_0-rmse:0.72411\n",
      "[3000]\tvalidation_0-rmse:0.72189\n",
      "[4000]\tvalidation_0-rmse:0.72062\n",
      "[5000]\tvalidation_0-rmse:0.71982\n",
      "[6000]\tvalidation_0-rmse:0.71929\n",
      "[6999]\tvalidation_0-rmse:0.71893\n"
     ]
    },
    {
     "name": "stderr",
     "output_type": "stream",
     "text": [
      "\u001b[32m[I 2021-08-29 18:54:45,459]\u001b[0m Trial 11 finished with value: 0.7189314862817654 and parameters: {'learning_rate': 0.016702509859740533, 'reg_lambda': 0.01819490768672054, 'reg_alpha': 59.65355879158894, 'subsample': 0.7303251250851535, 'colsample_bytree': 0.6783074255931744, 'max_depth': 3}. Best is trial 6 with value: 0.717662998874105.\u001b[0m\n"
     ]
    },
    {
     "name": "stdout",
     "output_type": "stream",
     "text": [
      "[18:54:46] WARNING: C:/Users/Administrator/workspace/xgboost-win64_release_1.4.0/src/learner.cc:231: Only 1 GPUs are visible, setting `gpu_id` to 0\n",
      "[0]\tvalidation_0-rmse:7.56562\n",
      "[1000]\tvalidation_0-rmse:0.72407\n",
      "[2000]\tvalidation_0-rmse:0.72031\n",
      "[3000]\tvalidation_0-rmse:0.71873\n",
      "[4000]\tvalidation_0-rmse:0.71800\n",
      "[5000]\tvalidation_0-rmse:0.71765\n",
      "[6000]\tvalidation_0-rmse:0.71753\n",
      "[6471]\tvalidation_0-rmse:0.71755\n"
     ]
    },
    {
     "name": "stderr",
     "output_type": "stream",
     "text": [
      "\u001b[32m[I 2021-08-29 18:55:47,903]\u001b[0m Trial 12 finished with value: 0.7175100758237273 and parameters: {'learning_rate': 0.02780132916708819, 'reg_lambda': 7.239972834190473e-06, 'reg_alpha': 1.6519744842885642, 'subsample': 0.7944081790554888, 'colsample_bytree': 0.3622285611341407, 'max_depth': 3}. Best is trial 12 with value: 0.7175100758237273.\u001b[0m\n"
     ]
    },
    {
     "name": "stdout",
     "output_type": "stream",
     "text": [
      "[18:55:49] WARNING: C:/Users/Administrator/workspace/xgboost-win64_release_1.4.0/src/learner.cc:231: Only 1 GPUs are visible, setting `gpu_id` to 0\n",
      "[0]\tvalidation_0-rmse:7.54196\n",
      "[1000]\tvalidation_0-rmse:0.72132\n",
      "[2000]\tvalidation_0-rmse:0.71865\n",
      "[3000]\tvalidation_0-rmse:0.71791\n",
      "[3746]\tvalidation_0-rmse:0.71790\n"
     ]
    },
    {
     "name": "stderr",
     "output_type": "stream",
     "text": [
      "\u001b[32m[I 2021-08-29 18:56:31,134]\u001b[0m Trial 13 finished with value: 0.7178506244155586 and parameters: {'learning_rate': 0.03087133969124566, 'reg_lambda': 2.7174368497938136e-06, 'reg_alpha': 3.61919397449646, 'subsample': 0.8093847748882261, 'colsample_bytree': 0.37992927044574165, 'max_depth': 4}. Best is trial 12 with value: 0.7175100758237273.\u001b[0m\n"
     ]
    },
    {
     "name": "stdout",
     "output_type": "stream",
     "text": [
      "[18:56:32] WARNING: C:/Users/Administrator/workspace/xgboost-win64_release_1.4.0/src/learner.cc:231: Only 1 GPUs are visible, setting `gpu_id` to 0\n",
      "[0]\tvalidation_0-rmse:7.53336\n",
      "[1000]\tvalidation_0-rmse:0.72718\n",
      "[2000]\tvalidation_0-rmse:0.72376\n",
      "[3000]\tvalidation_0-rmse:0.72157\n",
      "[4000]\tvalidation_0-rmse:0.72020\n",
      "[5000]\tvalidation_0-rmse:0.71929\n",
      "[6000]\tvalidation_0-rmse:0.71867\n",
      "[6999]\tvalidation_0-rmse:0.71821\n"
     ]
    },
    {
     "name": "stderr",
     "output_type": "stream",
     "text": [
      "\u001b[32m[I 2021-08-29 18:57:32,533]\u001b[0m Trial 14 finished with value: 0.7182099696543848 and parameters: {'learning_rate': 0.03198804019901557, 'reg_lambda': 1.9906516065009576e-06, 'reg_alpha': 0.014255020625277563, 'subsample': 0.8521905812046859, 'colsample_bytree': 0.3388126484038798, 'max_depth': 2}. Best is trial 12 with value: 0.7175100758237273.\u001b[0m\n"
     ]
    },
    {
     "name": "stdout",
     "output_type": "stream",
     "text": [
      "[18:57:33] WARNING: C:/Users/Administrator/workspace/xgboost-win64_release_1.4.0/src/learner.cc:231: Only 1 GPUs are visible, setting `gpu_id` to 0\n",
      "[0]\tvalidation_0-rmse:7.69031\n",
      "[1000]\tvalidation_0-rmse:0.73240\n",
      "[2000]\tvalidation_0-rmse:0.72883\n",
      "[3000]\tvalidation_0-rmse:0.72658\n",
      "[4000]\tvalidation_0-rmse:0.72501\n",
      "[5000]\tvalidation_0-rmse:0.72371\n",
      "[6000]\tvalidation_0-rmse:0.72267\n",
      "[6999]\tvalidation_0-rmse:0.72185\n"
     ]
    },
    {
     "name": "stderr",
     "output_type": "stream",
     "text": [
      "\u001b[32m[I 2021-08-29 18:58:28,325]\u001b[0m Trial 15 finished with value: 0.7218486308291697 and parameters: {'learning_rate': 0.011618048604356586, 'reg_lambda': 6.025516116240066e-08, 'reg_alpha': 2.5757733578483322e-05, 'subsample': 0.6622558989243839, 'colsample_bytree': 0.5219460003662756, 'max_depth': 2}. Best is trial 12 with value: 0.7175100758237273.\u001b[0m\n"
     ]
    },
    {
     "name": "stdout",
     "output_type": "stream",
     "text": [
      "[18:58:29] WARNING: C:/Users/Administrator/workspace/xgboost-win64_release_1.4.0/src/learner.cc:231: Only 1 GPUs are visible, setting `gpu_id` to 0\n",
      "[0]\tvalidation_0-rmse:7.68437\n",
      "[1000]\tvalidation_0-rmse:0.72492\n",
      "[2000]\tvalidation_0-rmse:0.72109\n",
      "[3000]\tvalidation_0-rmse:0.71953\n",
      "[4000]\tvalidation_0-rmse:0.71886\n",
      "[5000]\tvalidation_0-rmse:0.71857\n",
      "[6000]\tvalidation_0-rmse:0.71848\n",
      "[6623]\tvalidation_0-rmse:0.71847\n"
     ]
    },
    {
     "name": "stderr",
     "output_type": "stream",
     "text": [
      "\u001b[32m[I 2021-08-29 19:00:04,387]\u001b[0m Trial 16 finished with value: 0.718447829296161 and parameters: {'learning_rate': 0.012389874423638023, 'reg_lambda': 0.6381922429351252, 'reg_alpha': 4.648353855272329, 'subsample': 0.8637339584479057, 'colsample_bytree': 0.6794087732062813, 'max_depth': 5}. Best is trial 12 with value: 0.7175100758237273.\u001b[0m\n"
     ]
    },
    {
     "name": "stdout",
     "output_type": "stream",
     "text": [
      "[19:00:05] WARNING: C:/Users/Administrator/workspace/xgboost-win64_release_1.4.0/src/learner.cc:231: Only 1 GPUs are visible, setting `gpu_id` to 0\n",
      "[0]\tvalidation_0-rmse:7.48520\n",
      "[1000]\tvalidation_0-rmse:0.72205\n",
      "[2000]\tvalidation_0-rmse:0.71901\n",
      "[3000]\tvalidation_0-rmse:0.71789\n",
      "[4000]\tvalidation_0-rmse:0.71755\n",
      "[4971]\tvalidation_0-rmse:0.71747\n"
     ]
    },
    {
     "name": "stderr",
     "output_type": "stream",
     "text": [
      "\u001b[32m[I 2021-08-29 19:00:51,556]\u001b[0m Trial 17 finished with value: 0.7174446571043576 and parameters: {'learning_rate': 0.03823702027344831, 'reg_lambda': 1.4734038378896562e-05, 'reg_alpha': 1.500341648819519e-08, 'subsample': 0.7612457444010754, 'colsample_bytree': 0.24394666296649484, 'max_depth': 3}. Best is trial 17 with value: 0.7174446571043576.\u001b[0m\n"
     ]
    },
    {
     "name": "stdout",
     "output_type": "stream",
     "text": [
      "[19:00:52] WARNING: C:/Users/Administrator/workspace/xgboost-win64_release_1.4.0/src/learner.cc:231: Only 1 GPUs are visible, setting `gpu_id` to 0\n",
      "[0]\tvalidation_0-rmse:6.83382\n",
      "[1000]\tvalidation_0-rmse:0.71903\n",
      "[1028]\tvalidation_0-rmse:0.71906\n"
     ]
    },
    {
     "name": "stderr",
     "output_type": "stream",
     "text": [
      "\u001b[32m[I 2021-08-29 19:01:03,754]\u001b[0m Trial 18 finished with value: 0.7186678417305639 and parameters: {'learning_rate': 0.12282427891402244, 'reg_lambda': 2.798260602253677e-05, 'reg_alpha': 1.8621299884038852e-08, 'subsample': 0.740367396257789, 'colsample_bytree': 0.17725406509205655, 'max_depth': 4}. Best is trial 17 with value: 0.7174446571043576.\u001b[0m\n"
     ]
    },
    {
     "name": "stdout",
     "output_type": "stream",
     "text": [
      "[19:01:04] WARNING: C:/Users/Administrator/workspace/xgboost-win64_release_1.4.0/src/learner.cc:231: Only 1 GPUs are visible, setting `gpu_id` to 0\n",
      "[0]\tvalidation_0-rmse:7.48433\n",
      "[1000]\tvalidation_0-rmse:0.72619\n",
      "[2000]\tvalidation_0-rmse:0.72224\n",
      "[3000]\tvalidation_0-rmse:0.72027\n",
      "[4000]\tvalidation_0-rmse:0.71914\n",
      "[5000]\tvalidation_0-rmse:0.71848\n",
      "[6000]\tvalidation_0-rmse:0.71806\n",
      "[6999]\tvalidation_0-rmse:0.71787\n"
     ]
    },
    {
     "name": "stderr",
     "output_type": "stream",
     "text": [
      "\u001b[32m[I 2021-08-29 19:01:57,158]\u001b[0m Trial 19 finished with value: 0.7178591270267979 and parameters: {'learning_rate': 0.038346881413460515, 'reg_lambda': 2.122287462740749e-07, 'reg_alpha': 1.2130381931987405e-08, 'subsample': 0.6038618721710948, 'colsample_bytree': 0.28284320812985136, 'max_depth': 2}. Best is trial 17 with value: 0.7174446571043576.\u001b[0m\n"
     ]
    },
    {
     "name": "stdout",
     "output_type": "stream",
     "text": [
      "[19:01:58] WARNING: C:/Users/Administrator/workspace/xgboost-win64_release_1.4.0/src/learner.cc:231: Only 1 GPUs are visible, setting `gpu_id` to 0\n",
      "[0]\tvalidation_0-rmse:7.62716\n",
      "[1000]\tvalidation_0-rmse:0.72341\n",
      "[2000]\tvalidation_0-rmse:0.72005\n",
      "[3000]\tvalidation_0-rmse:0.71868\n",
      "[4000]\tvalidation_0-rmse:0.71815\n",
      "[5000]\tvalidation_0-rmse:0.71801\n",
      "[5887]\tvalidation_0-rmse:0.71800\n"
     ]
    },
    {
     "name": "stderr",
     "output_type": "stream",
     "text": [
      "\u001b[32m[I 2021-08-29 19:03:01,909]\u001b[0m Trial 20 finished with value: 0.7179703725235327 and parameters: {'learning_rate': 0.0198130420420654, 'reg_lambda': 2.2820532839616734e-05, 'reg_alpha': 1.835236169972679e-05, 'subsample': 0.7402908666848019, 'colsample_bytree': 0.42124462600126367, 'max_depth': 4}. Best is trial 17 with value: 0.7174446571043576.\u001b[0m\n"
     ]
    },
    {
     "name": "stdout",
     "output_type": "stream",
     "text": [
      "[19:03:03] WARNING: C:/Users/Administrator/workspace/xgboost-win64_release_1.4.0/src/learner.cc:231: Only 1 GPUs are visible, setting `gpu_id` to 0\n",
      "[0]\tvalidation_0-rmse:7.59344\n",
      "[1000]\tvalidation_0-rmse:0.72458\n",
      "[2000]\tvalidation_0-rmse:0.72099\n",
      "[3000]\tvalidation_0-rmse:0.71927\n",
      "[4000]\tvalidation_0-rmse:0.71838\n",
      "[5000]\tvalidation_0-rmse:0.71787\n",
      "[6000]\tvalidation_0-rmse:0.71762\n",
      "[6999]\tvalidation_0-rmse:0.71745\n"
     ]
    },
    {
     "name": "stderr",
     "output_type": "stream",
     "text": [
      "\u001b[32m[I 2021-08-29 19:04:13,624]\u001b[0m Trial 21 finished with value: 0.7174538776386649 and parameters: {'learning_rate': 0.024189620779444865, 'reg_lambda': 0.002628100106792616, 'reg_alpha': 0.07043070521956678, 'subsample': 0.9130452271312263, 'colsample_bytree': 0.22458775871735942, 'max_depth': 3}. Best is trial 17 with value: 0.7174446571043576.\u001b[0m\n"
     ]
    },
    {
     "name": "stdout",
     "output_type": "stream",
     "text": [
      "[19:04:14] WARNING: C:/Users/Administrator/workspace/xgboost-win64_release_1.4.0/src/learner.cc:231: Only 1 GPUs are visible, setting `gpu_id` to 0\n",
      "[0]\tvalidation_0-rmse:7.46352\n",
      "[1000]\tvalidation_0-rmse:0.72178\n",
      "[2000]\tvalidation_0-rmse:0.71890\n",
      "[3000]\tvalidation_0-rmse:0.71789\n",
      "[4000]\tvalidation_0-rmse:0.71752\n",
      "[4979]\tvalidation_0-rmse:0.71741\n"
     ]
    },
    {
     "name": "stderr",
     "output_type": "stream",
     "text": [
      "\u001b[32m[I 2021-08-29 19:05:04,546]\u001b[0m Trial 22 finished with value: 0.7173900701871593 and parameters: {'learning_rate': 0.04105298770096135, 'reg_lambda': 0.0016007754672894472, 'reg_alpha': 0.002020864496935464, 'subsample': 0.9182400247223899, 'colsample_bytree': 0.219752681794984, 'max_depth': 3}. Best is trial 22 with value: 0.7173900701871593.\u001b[0m\n"
     ]
    },
    {
     "name": "stdout",
     "output_type": "stream",
     "text": [
      "[19:05:05] WARNING: C:/Users/Administrator/workspace/xgboost-win64_release_1.4.0/src/learner.cc:231: Only 1 GPUs are visible, setting `gpu_id` to 0\n",
      "[0]\tvalidation_0-rmse:7.45914\n",
      "[1000]\tvalidation_0-rmse:0.72598\n",
      "[2000]\tvalidation_0-rmse:0.72257\n",
      "[3000]\tvalidation_0-rmse:0.72063\n",
      "[4000]\tvalidation_0-rmse:0.71944\n",
      "[5000]\tvalidation_0-rmse:0.71857\n",
      "[6000]\tvalidation_0-rmse:0.71807\n",
      "[6999]\tvalidation_0-rmse:0.71776\n"
     ]
    },
    {
     "name": "stderr",
     "output_type": "stream",
     "text": [
      "\u001b[32m[I 2021-08-29 19:06:09,052]\u001b[0m Trial 23 finished with value: 0.7177530930049469 and parameters: {'learning_rate': 0.04162284266406894, 'reg_lambda': 0.004859172159248152, 'reg_alpha': 0.0021174532675911524, 'subsample': 0.9420404791693947, 'colsample_bytree': 0.2144950077272038, 'max_depth': 2}. Best is trial 22 with value: 0.7173900701871593.\u001b[0m\n"
     ]
    },
    {
     "name": "stdout",
     "output_type": "stream",
     "text": [
      "[19:06:10] WARNING: C:/Users/Administrator/workspace/xgboost-win64_release_1.4.0/src/learner.cc:231: Only 1 GPUs are visible, setting `gpu_id` to 0\n",
      "[0]\tvalidation_0-rmse:7.65950\n",
      "[1000]\tvalidation_0-rmse:0.72674\n",
      "[2000]\tvalidation_0-rmse:0.72166\n",
      "[3000]\tvalidation_0-rmse:0.71947\n",
      "[4000]\tvalidation_0-rmse:0.71846\n",
      "[5000]\tvalidation_0-rmse:0.71788\n",
      "[6000]\tvalidation_0-rmse:0.71754\n",
      "[6999]\tvalidation_0-rmse:0.71735\n"
     ]
    },
    {
     "name": "stderr",
     "output_type": "stream",
     "text": [
      "\u001b[32m[I 2021-08-29 19:07:31,589]\u001b[0m Trial 24 finished with value: 0.717350105155766 and parameters: {'learning_rate': 0.015618090878815612, 'reg_lambda': 0.00041160179324441155, 'reg_alpha': 8.633015818126868e-07, 'subsample': 0.893686795243357, 'colsample_bytree': 0.11888178994136284, 'max_depth': 4}. Best is trial 24 with value: 0.717350105155766.\u001b[0m\n"
     ]
    },
    {
     "name": "stdout",
     "output_type": "stream",
     "text": [
      "[19:07:32] WARNING: C:/Users/Administrator/workspace/xgboost-win64_release_1.4.0/src/learner.cc:231: Only 1 GPUs are visible, setting `gpu_id` to 0\n",
      "[0]\tvalidation_0-rmse:7.66954\n",
      "[1000]\tvalidation_0-rmse:0.72742\n",
      "[2000]\tvalidation_0-rmse:0.72220\n",
      "[3000]\tvalidation_0-rmse:0.71984\n",
      "[4000]\tvalidation_0-rmse:0.71869\n",
      "[5000]\tvalidation_0-rmse:0.71805\n",
      "[6000]\tvalidation_0-rmse:0.71765\n",
      "[6999]\tvalidation_0-rmse:0.71742\n"
     ]
    },
    {
     "name": "stderr",
     "output_type": "stream",
     "text": [
      "\u001b[32m[I 2021-08-29 19:08:52,636]\u001b[0m Trial 25 finished with value: 0.7174223221407746 and parameters: {'learning_rate': 0.01431575292742106, 'reg_lambda': 0.0002974713227349008, 'reg_alpha': 2.1686883505053173e-07, 'subsample': 0.847284141303682, 'colsample_bytree': 0.12281163304471757, 'max_depth': 4}. Best is trial 24 with value: 0.717350105155766.\u001b[0m\n"
     ]
    },
    {
     "name": "stdout",
     "output_type": "stream",
     "text": [
      "[19:08:53] WARNING: C:/Users/Administrator/workspace/xgboost-win64_release_1.4.0/src/learner.cc:231: Only 1 GPUs are visible, setting `gpu_id` to 0\n",
      "[0]\tvalidation_0-rmse:7.69917\n",
      "[1000]\tvalidation_0-rmse:0.72425\n",
      "[2000]\tvalidation_0-rmse:0.71969\n",
      "[3000]\tvalidation_0-rmse:0.71833\n",
      "[4000]\tvalidation_0-rmse:0.71780\n",
      "[4938]\tvalidation_0-rmse:0.71761\n"
     ]
    },
    {
     "name": "stderr",
     "output_type": "stream",
     "text": [
      "\u001b[32m[I 2021-08-29 19:10:19,652]\u001b[0m Trial 26 finished with value: 0.7175939914710224 and parameters: {'learning_rate': 0.01047001738698348, 'reg_lambda': 0.0005408580107206222, 'reg_alpha': 7.240368303583476e-07, 'subsample': 0.868556676564715, 'colsample_bytree': 0.15050782368856425, 'max_depth': 6}. Best is trial 24 with value: 0.717350105155766.\u001b[0m\n"
     ]
    },
    {
     "name": "stdout",
     "output_type": "stream",
     "text": [
      "[19:10:20] WARNING: C:/Users/Administrator/workspace/xgboost-win64_release_1.4.0/src/learner.cc:231: Only 1 GPUs are visible, setting `gpu_id` to 0\n",
      "[0]\tvalidation_0-rmse:7.66886\n",
      "[1000]\tvalidation_0-rmse:0.72732\n",
      "[2000]\tvalidation_0-rmse:0.72205\n",
      "[3000]\tvalidation_0-rmse:0.71977\n",
      "[4000]\tvalidation_0-rmse:0.71861\n",
      "[5000]\tvalidation_0-rmse:0.71796\n",
      "[6000]\tvalidation_0-rmse:0.71755\n",
      "[6999]\tvalidation_0-rmse:0.71735\n"
     ]
    },
    {
     "name": "stderr",
     "output_type": "stream",
     "text": [
      "\u001b[32m[I 2021-08-29 19:11:28,102]\u001b[0m Trial 27 finished with value: 0.7173442971721872 and parameters: {'learning_rate': 0.014404286663850019, 'reg_lambda': 0.00022701135180705964, 'reg_alpha': 1.3724561895968087e-07, 'subsample': 0.5472927137729267, 'colsample_bytree': 0.11029940208399172, 'max_depth': 4}. Best is trial 27 with value: 0.7173442971721872.\u001b[0m\n"
     ]
    },
    {
     "name": "stdout",
     "output_type": "stream",
     "text": [
      "[19:11:29] WARNING: C:/Users/Administrator/workspace/xgboost-win64_release_1.4.0/src/learner.cc:231: Only 1 GPUs are visible, setting `gpu_id` to 0\n",
      "[0]\tvalidation_0-rmse:7.66188\n",
      "[1000]\tvalidation_0-rmse:0.72469\n",
      "[2000]\tvalidation_0-rmse:0.71986\n",
      "[3000]\tvalidation_0-rmse:0.71826\n",
      "[4000]\tvalidation_0-rmse:0.71769\n",
      "[5000]\tvalidation_0-rmse:0.71747\n",
      "[6000]\tvalidation_0-rmse:0.71740\n",
      "[6709]\tvalidation_0-rmse:0.71742\n"
     ]
    },
    {
     "name": "stderr",
     "output_type": "stream",
     "text": [
      "\u001b[32m[I 2021-08-29 19:12:45,918]\u001b[0m Trial 28 finished with value: 0.7173884489013802 and parameters: {'learning_rate': 0.015310796214426527, 'reg_lambda': 0.049220833407014254, 'reg_alpha': 7.316802692549455e-06, 'subsample': 0.5499346668127129, 'colsample_bytree': 0.1011211540346814, 'max_depth': 5}. Best is trial 27 with value: 0.7173442971721872.\u001b[0m\n"
     ]
    },
    {
     "name": "stdout",
     "output_type": "stream",
     "text": [
      "[19:12:47] WARNING: C:/Users/Administrator/workspace/xgboost-win64_release_1.4.0/src/learner.cc:231: Only 1 GPUs are visible, setting `gpu_id` to 0\n",
      "[0]\tvalidation_0-rmse:7.62800\n",
      "[1000]\tvalidation_0-rmse:0.72271\n",
      "[2000]\tvalidation_0-rmse:0.71876\n",
      "[3000]\tvalidation_0-rmse:0.71776\n",
      "[4000]\tvalidation_0-rmse:0.71750\n",
      "[4535]\tvalidation_0-rmse:0.71752\n"
     ]
    },
    {
     "name": "stderr",
     "output_type": "stream",
     "text": [
      "\u001b[32m[I 2021-08-29 19:13:37,818]\u001b[0m Trial 29 finished with value: 0.7174845960324966 and parameters: {'learning_rate': 0.019711576457839747, 'reg_lambda': 0.03629078108923616, 'reg_alpha': 6.994985968418691e-06, 'subsample': 0.5029998380838018, 'colsample_bytree': 0.10006813441278686, 'max_depth': 5}. Best is trial 27 with value: 0.7173442971721872.\u001b[0m\n"
     ]
    },
    {
     "name": "stdout",
     "output_type": "stream",
     "text": [
      "[19:13:39] WARNING: C:/Users/Administrator/workspace/xgboost-win64_release_1.4.0/src/learner.cc:231: Only 1 GPUs are visible, setting `gpu_id` to 0\n",
      "[0]\tvalidation_0-rmse:7.65574\n",
      "[1000]\tvalidation_0-rmse:0.72130\n",
      "[2000]\tvalidation_0-rmse:0.71919\n",
      "[3000]\tvalidation_0-rmse:0.71898\n",
      "[3120]\tvalidation_0-rmse:0.71896\n"
     ]
    },
    {
     "name": "stderr",
     "output_type": "stream",
     "text": [
      "\u001b[32m[I 2021-08-29 19:14:21,908]\u001b[0m Trial 30 finished with value: 0.71893436547545 and parameters: {'learning_rate': 0.016107008512012477, 'reg_lambda': 0.24085901692204612, 'reg_alpha': 0.00021354716543059516, 'subsample': 0.3621995769898501, 'colsample_bytree': 0.30052642113442685, 'max_depth': 6}. Best is trial 27 with value: 0.7173442971721872.\u001b[0m\n"
     ]
    },
    {
     "name": "stdout",
     "output_type": "stream",
     "text": [
      "[19:14:23] WARNING: C:/Users/Administrator/workspace/xgboost-win64_release_1.4.0/src/learner.cc:231: Only 1 GPUs are visible, setting `gpu_id` to 0\n",
      "[0]\tvalidation_0-rmse:7.67305\n",
      "[1000]\tvalidation_0-rmse:0.72312\n",
      "[2000]\tvalidation_0-rmse:0.71968\n",
      "[3000]\tvalidation_0-rmse:0.71847\n",
      "[4000]\tvalidation_0-rmse:0.71793\n",
      "[5000]\tvalidation_0-rmse:0.71771\n",
      "[5945]\tvalidation_0-rmse:0.71771\n"
     ]
    },
    {
     "name": "stderr",
     "output_type": "stream",
     "text": [
      "\u001b[32m[I 2021-08-29 19:15:32,221]\u001b[0m Trial 31 finished with value: 0.7176731930210588 and parameters: {'learning_rate': 0.013858449469766627, 'reg_lambda': 0.005648712200658894, 'reg_alpha': 1.1207548043389466e-07, 'subsample': 0.5476559544853024, 'colsample_bytree': 0.19579130118672233, 'max_depth': 5}. Best is trial 27 with value: 0.7173442971721872.\u001b[0m\n"
     ]
    },
    {
     "name": "stdout",
     "output_type": "stream",
     "text": [
      "[19:15:33] WARNING: C:/Users/Administrator/workspace/xgboost-win64_release_1.4.0/src/learner.cc:231: Only 1 GPUs are visible, setting `gpu_id` to 0\n",
      "[0]\tvalidation_0-rmse:7.61505\n",
      "[1000]\tvalidation_0-rmse:0.72292\n",
      "[2000]\tvalidation_0-rmse:0.71938\n",
      "[3000]\tvalidation_0-rmse:0.71809\n",
      "[4000]\tvalidation_0-rmse:0.71761\n",
      "[5000]\tvalidation_0-rmse:0.71744\n",
      "[5057]\tvalidation_0-rmse:0.71744\n"
     ]
    },
    {
     "name": "stderr",
     "output_type": "stream",
     "text": [
      "\u001b[32m[I 2021-08-29 19:16:19,802]\u001b[0m Trial 32 finished with value: 0.717418230388427 and parameters: {'learning_rate': 0.021386293159582234, 'reg_lambda': 0.0001304948362655923, 'reg_alpha': 2.1318095638712714e-06, 'subsample': 0.45220014727485225, 'colsample_bytree': 0.1583899593170076, 'max_depth': 4}. Best is trial 27 with value: 0.7173442971721872.\u001b[0m\n"
     ]
    },
    {
     "name": "stdout",
     "output_type": "stream",
     "text": [
      "[19:16:21] WARNING: C:/Users/Administrator/workspace/xgboost-win64_release_1.4.0/src/learner.cc:231: Only 1 GPUs are visible, setting `gpu_id` to 0\n",
      "[0]\tvalidation_0-rmse:7.70163\n",
      "[1000]\tvalidation_0-rmse:0.72825\n",
      "[2000]\tvalidation_0-rmse:0.72220\n",
      "[3000]\tvalidation_0-rmse:0.71969\n",
      "[4000]\tvalidation_0-rmse:0.71850\n",
      "[5000]\tvalidation_0-rmse:0.71785\n",
      "[6000]\tvalidation_0-rmse:0.71752\n",
      "[6999]\tvalidation_0-rmse:0.71735\n"
     ]
    },
    {
     "name": "stderr",
     "output_type": "stream",
     "text": [
      "\u001b[32m[I 2021-08-29 19:17:42,834]\u001b[0m Trial 33 finished with value: 0.7173415067165633 and parameters: {'learning_rate': 0.010149768314880193, 'reg_lambda': 0.013036768351252937, 'reg_alpha': 4.807078036178356e-05, 'subsample': 0.5729185115342078, 'colsample_bytree': 0.10958090292092819, 'max_depth': 5}. Best is trial 33 with value: 0.7173415067165633.\u001b[0m\n"
     ]
    },
    {
     "name": "stdout",
     "output_type": "stream",
     "text": [
      "[19:17:44] WARNING: C:/Users/Administrator/workspace/xgboost-win64_release_1.4.0/src/learner.cc:231: Only 1 GPUs are visible, setting `gpu_id` to 0\n",
      "[0]\tvalidation_0-rmse:7.70202\n",
      "[1000]\tvalidation_0-rmse:0.72340\n",
      "[2000]\tvalidation_0-rmse:0.72012\n",
      "[3000]\tvalidation_0-rmse:0.71884\n",
      "[4000]\tvalidation_0-rmse:0.71835\n",
      "[5000]\tvalidation_0-rmse:0.71814\n",
      "[5794]\tvalidation_0-rmse:0.71813\n"
     ]
    },
    {
     "name": "stderr",
     "output_type": "stream",
     "text": [
      "\u001b[32m[I 2021-08-29 19:19:12,093]\u001b[0m Trial 34 finished with value: 0.7180761407746237 and parameters: {'learning_rate': 0.010097098142361757, 'reg_lambda': 0.2249447476540296, 'reg_alpha': 3.8683907776081954e-05, 'subsample': 0.5955617690538848, 'colsample_bytree': 0.29682049905441016, 'max_depth': 6}. Best is trial 33 with value: 0.7173415067165633.\u001b[0m\n"
     ]
    },
    {
     "name": "stdout",
     "output_type": "stream",
     "text": [
      "[19:19:13] WARNING: C:/Users/Administrator/workspace/xgboost-win64_release_1.4.0/src/learner.cc:231: Only 1 GPUs are visible, setting `gpu_id` to 0\n",
      "[0]\tvalidation_0-rmse:7.65958\n",
      "[1000]\tvalidation_0-rmse:0.72237\n",
      "[2000]\tvalidation_0-rmse:0.71891\n",
      "[2912]\tvalidation_0-rmse:0.71846\n"
     ]
    },
    {
     "name": "stderr",
     "output_type": "stream",
     "text": [
      "\u001b[32m[I 2021-08-29 19:19:57,916]\u001b[0m Trial 35 finished with value: 0.7184458877474988 and parameters: {'learning_rate': 0.015607630630362895, 'reg_lambda': 0.010984827004361113, 'reg_alpha': 1.2722577759394505e-06, 'subsample': 0.28187811890469594, 'colsample_bytree': 0.10539430094252226, 'max_depth': 7}. Best is trial 33 with value: 0.7173415067165633.\u001b[0m\n"
     ]
    },
    {
     "name": "stdout",
     "output_type": "stream",
     "text": [
      "[19:19:59] WARNING: C:/Users/Administrator/workspace/xgboost-win64_release_1.4.0/src/learner.cc:231: Only 1 GPUs are visible, setting `gpu_id` to 0\n",
      "[0]\tvalidation_0-rmse:7.67709\n",
      "[1000]\tvalidation_0-rmse:0.72338\n",
      "[2000]\tvalidation_0-rmse:0.71980\n",
      "[3000]\tvalidation_0-rmse:0.71853\n",
      "[4000]\tvalidation_0-rmse:0.71797\n",
      "[5000]\tvalidation_0-rmse:0.71778\n",
      "[5954]\tvalidation_0-rmse:0.71774\n"
     ]
    },
    {
     "name": "stderr",
     "output_type": "stream",
     "text": [
      "\u001b[32m[I 2021-08-29 19:21:05,596]\u001b[0m Trial 36 finished with value: 0.7176921262413763 and parameters: {'learning_rate': 0.013334929133211493, 'reg_lambda': 0.06370922888093332, 'reg_alpha': 9.33693303332244e-05, 'subsample': 0.47538340146905694, 'colsample_bytree': 0.1736550155866801, 'max_depth': 5}. Best is trial 33 with value: 0.7173415067165633.\u001b[0m\n"
     ]
    },
    {
     "name": "stdout",
     "output_type": "stream",
     "text": [
      "[19:21:06] WARNING: C:/Users/Administrator/workspace/xgboost-win64_release_1.4.0/src/learner.cc:231: Only 1 GPUs are visible, setting `gpu_id` to 0\n",
      "[0]\tvalidation_0-rmse:7.64335\n",
      "[1000]\tvalidation_0-rmse:0.72225\n",
      "[2000]\tvalidation_0-rmse:0.71970\n",
      "[3000]\tvalidation_0-rmse:0.71898\n",
      "[3765]\tvalidation_0-rmse:0.71888\n"
     ]
    },
    {
     "name": "stderr",
     "output_type": "stream",
     "text": [
      "\u001b[32m[I 2021-08-29 19:21:48,975]\u001b[0m Trial 37 finished with value: 0.7188003100707612 and parameters: {'learning_rate': 0.017716742322988976, 'reg_lambda': 0.0006245328098270673, 'reg_alpha': 1.2141185510927866e-07, 'subsample': 0.38491253145044724, 'colsample_bytree': 0.46345551301086113, 'max_depth': 5}. Best is trial 33 with value: 0.7173415067165633.\u001b[0m\n"
     ]
    },
    {
     "name": "stdout",
     "output_type": "stream",
     "text": [
      "[19:21:50] WARNING: C:/Users/Administrator/workspace/xgboost-win64_release_1.4.0/src/learner.cc:231: Only 1 GPUs are visible, setting `gpu_id` to 0\n",
      "[0]\tvalidation_0-rmse:7.68852\n",
      "[1000]\tvalidation_0-rmse:0.72685\n",
      "[2000]\tvalidation_0-rmse:0.72124\n",
      "[3000]\tvalidation_0-rmse:0.71906\n",
      "[4000]\tvalidation_0-rmse:0.71813\n",
      "[5000]\tvalidation_0-rmse:0.71768\n",
      "[6000]\tvalidation_0-rmse:0.71747\n",
      "[6999]\tvalidation_0-rmse:0.71735\n"
     ]
    },
    {
     "name": "stderr",
     "output_type": "stream",
     "text": [
      "\u001b[32m[I 2021-08-29 19:23:15,810]\u001b[0m Trial 38 finished with value: 0.7173371371788525 and parameters: {'learning_rate': 0.011852042928122095, 'reg_lambda': 7.217981720168013e-05, 'reg_alpha': 5.330029363892333e-06, 'subsample': 0.6587664488683416, 'colsample_bytree': 0.10135305623891813, 'max_depth': 5}. Best is trial 38 with value: 0.7173371371788525.\u001b[0m\n"
     ]
    },
    {
     "name": "stdout",
     "output_type": "stream",
     "text": [
      "[19:23:17] WARNING: C:/Users/Administrator/workspace/xgboost-win64_release_1.4.0/src/learner.cc:231: Only 1 GPUs are visible, setting `gpu_id` to 0\n",
      "[0]\tvalidation_0-rmse:7.69152\n",
      "[1000]\tvalidation_0-rmse:0.72736\n",
      "[2000]\tvalidation_0-rmse:0.72244\n",
      "[3000]\tvalidation_0-rmse:0.72028\n",
      "[4000]\tvalidation_0-rmse:0.71910\n",
      "[5000]\tvalidation_0-rmse:0.71837\n",
      "[6000]\tvalidation_0-rmse:0.71796\n",
      "[6999]\tvalidation_0-rmse:0.71767\n"
     ]
    },
    {
     "name": "stderr",
     "output_type": "stream",
     "text": [
      "\u001b[32m[I 2021-08-29 19:24:30,157]\u001b[0m Trial 39 finished with value: 0.7176712341278473 and parameters: {'learning_rate': 0.011462775075882052, 'reg_lambda': 5.079241264253268e-05, 'reg_alpha': 0.0006772755504688034, 'subsample': 0.6706072801057946, 'colsample_bytree': 0.16217708437216846, 'max_depth': 4}. Best is trial 38 with value: 0.7173371371788525.\u001b[0m\n"
     ]
    },
    {
     "name": "stdout",
     "output_type": "stream",
     "text": [
      "[19:24:31] WARNING: C:/Users/Administrator/workspace/xgboost-win64_release_1.4.0/src/learner.cc:231: Only 1 GPUs are visible, setting `gpu_id` to 0\n",
      "[0]\tvalidation_0-rmse:7.68575\n",
      "[1000]\tvalidation_0-rmse:0.72219\n",
      "[2000]\tvalidation_0-rmse:0.71937\n",
      "[3000]\tvalidation_0-rmse:0.71835\n",
      "[4000]\tvalidation_0-rmse:0.71812\n",
      "[4937]\tvalidation_0-rmse:0.71805\n"
     ]
    },
    {
     "name": "stderr",
     "output_type": "stream",
     "text": [
      "\u001b[32m[I 2021-08-29 19:25:49,901]\u001b[0m Trial 40 finished with value: 0.7180062152550637 and parameters: {'learning_rate': 0.012209305548901487, 'reg_lambda': 0.00023447071901929983, 'reg_alpha': 5.19730162880077e-07, 'subsample': 0.6936479306628923, 'colsample_bytree': 0.2681334641260565, 'max_depth': 6}. Best is trial 38 with value: 0.7173371371788525.\u001b[0m\n"
     ]
    },
    {
     "name": "stdout",
     "output_type": "stream",
     "text": [
      "[19:25:51] WARNING: C:/Users/Administrator/workspace/xgboost-win64_release_1.4.0/src/learner.cc:231: Only 1 GPUs are visible, setting `gpu_id` to 0\n",
      "[0]\tvalidation_0-rmse:7.66622\n",
      "[1000]\tvalidation_0-rmse:0.72493\n",
      "[2000]\tvalidation_0-rmse:0.72000\n",
      "[3000]\tvalidation_0-rmse:0.71834\n",
      "[4000]\tvalidation_0-rmse:0.71768\n",
      "[5000]\tvalidation_0-rmse:0.71747\n",
      "[6000]\tvalidation_0-rmse:0.71737\n",
      "[6605]\tvalidation_0-rmse:0.71738\n"
     ]
    },
    {
     "name": "stderr",
     "output_type": "stream",
     "text": [
      "\u001b[32m[I 2021-08-29 19:27:06,870]\u001b[0m Trial 41 finished with value: 0.717361282543458 and parameters: {'learning_rate': 0.014745880355119161, 'reg_lambda': 0.001071388967794776, 'reg_alpha': 6.929258927675988e-06, 'subsample': 0.5625737936345856, 'colsample_bytree': 0.10742817967131921, 'max_depth': 5}. Best is trial 38 with value: 0.7173371371788525.\u001b[0m\n"
     ]
    },
    {
     "name": "stdout",
     "output_type": "stream",
     "text": [
      "[19:27:08] WARNING: C:/Users/Administrator/workspace/xgboost-win64_release_1.4.0/src/learner.cc:231: Only 1 GPUs are visible, setting `gpu_id` to 0\n",
      "[0]\tvalidation_0-rmse:7.60859\n",
      "[1000]\tvalidation_0-rmse:0.72079\n",
      "[2000]\tvalidation_0-rmse:0.71824\n",
      "[3000]\tvalidation_0-rmse:0.71758\n",
      "[3747]\tvalidation_0-rmse:0.71757\n"
     ]
    },
    {
     "name": "stderr",
     "output_type": "stream",
     "text": [
      "\u001b[32m[I 2021-08-29 19:27:53,109]\u001b[0m Trial 42 finished with value: 0.7175303656595539 and parameters: {'learning_rate': 0.0222229016928959, 'reg_lambda': 0.0026239210114272593, 'reg_alpha': 7.45415676598417e-06, 'subsample': 0.6057083325408754, 'colsample_bytree': 0.15407180757896982, 'max_depth': 5}. Best is trial 38 with value: 0.7173371371788525.\u001b[0m\n"
     ]
    },
    {
     "name": "stdout",
     "output_type": "stream",
     "text": [
      "[19:27:54] WARNING: C:/Users/Administrator/workspace/xgboost-win64_release_1.4.0/src/learner.cc:231: Only 1 GPUs are visible, setting `gpu_id` to 0\n",
      "[0]\tvalidation_0-rmse:7.70252\n",
      "[1000]\tvalidation_0-rmse:0.72738\n",
      "[2000]\tvalidation_0-rmse:0.72287\n",
      "[3000]\tvalidation_0-rmse:0.72079\n",
      "[4000]\tvalidation_0-rmse:0.71955\n",
      "[5000]\tvalidation_0-rmse:0.71880\n",
      "[6000]\tvalidation_0-rmse:0.71830\n",
      "[6999]\tvalidation_0-rmse:0.71799\n"
     ]
    },
    {
     "name": "stderr",
     "output_type": "stream",
     "text": [
      "\u001b[32m[I 2021-08-29 19:29:01,369]\u001b[0m Trial 43 finished with value: 0.7179933170171515 and parameters: {'learning_rate': 0.010035090959551168, 'reg_lambda': 0.0009116325891449032, 'reg_alpha': 5.747823692680234e-08, 'subsample': 0.5193098827181652, 'colsample_bytree': 0.20060671011245457, 'max_depth': 4}. Best is trial 38 with value: 0.7173371371788525.\u001b[0m\n"
     ]
    },
    {
     "name": "stdout",
     "output_type": "stream",
     "text": [
      "[19:29:02] WARNING: C:/Users/Administrator/workspace/xgboost-win64_release_1.4.0/src/learner.cc:231: Only 1 GPUs are visible, setting `gpu_id` to 0\n",
      "[0]\tvalidation_0-rmse:7.64421\n",
      "[1000]\tvalidation_0-rmse:0.72235\n",
      "[2000]\tvalidation_0-rmse:0.71983\n",
      "[3000]\tvalidation_0-rmse:0.71941\n",
      "[3594]\tvalidation_0-rmse:0.71938\n"
     ]
    },
    {
     "name": "stderr",
     "output_type": "stream",
     "text": [
      "\u001b[32m[I 2021-08-29 19:29:45,025]\u001b[0m Trial 44 finished with value: 0.719342405118345 and parameters: {'learning_rate': 0.017601172692462027, 'reg_lambda': 5.640409026171707e-05, 'reg_alpha': 7.643658274507359e-05, 'subsample': 0.42685791783906013, 'colsample_bytree': 0.7909269864868234, 'max_depth': 5}. Best is trial 38 with value: 0.7173371371788525.\u001b[0m\n"
     ]
    },
    {
     "name": "stdout",
     "output_type": "stream",
     "text": [
      "[19:29:46] WARNING: C:/Users/Administrator/workspace/xgboost-win64_release_1.4.0/src/learner.cc:231: Only 1 GPUs are visible, setting `gpu_id` to 0\n",
      "[0]\tvalidation_0-rmse:7.68603\n",
      "[1000]\tvalidation_0-rmse:0.72298\n",
      "[2000]\tvalidation_0-rmse:0.71899\n",
      "[3000]\tvalidation_0-rmse:0.71789\n",
      "[4000]\tvalidation_0-rmse:0.71756\n",
      "[4935]\tvalidation_0-rmse:0.71750\n"
     ]
    },
    {
     "name": "stderr",
     "output_type": "stream",
     "text": [
      "\u001b[32m[I 2021-08-29 19:30:59,984]\u001b[0m Trial 45 finished with value: 0.7174757163770978 and parameters: {'learning_rate': 0.012172894773811704, 'reg_lambda': 4.64773824776686e-06, 'reg_alpha': 4.5865994482378316e-06, 'subsample': 0.5813875956323334, 'colsample_bytree': 0.12827500873068215, 'max_depth': 6}. Best is trial 38 with value: 0.7173371371788525.\u001b[0m\n"
     ]
    },
    {
     "name": "stdout",
     "output_type": "stream",
     "text": [
      "[19:31:01] WARNING: C:/Users/Administrator/workspace/xgboost-win64_release_1.4.0/src/learner.cc:231: Only 1 GPUs are visible, setting `gpu_id` to 0\n",
      "[0]\tvalidation_0-rmse:7.67194\n",
      "[1000]\tvalidation_0-rmse:0.72296\n",
      "[2000]\tvalidation_0-rmse:0.71978\n",
      "[3000]\tvalidation_0-rmse:0.71860\n",
      "[4000]\tvalidation_0-rmse:0.71805\n",
      "[5000]\tvalidation_0-rmse:0.71787\n",
      "[5492]\tvalidation_0-rmse:0.71785\n"
     ]
    },
    {
     "name": "stderr",
     "output_type": "stream",
     "text": [
      "\u001b[32m[I 2021-08-29 19:32:07,814]\u001b[0m Trial 46 finished with value: 0.7178359345326383 and parameters: {'learning_rate': 0.014000914349320907, 'reg_lambda': 0.00019637370772780088, 'reg_alpha': 3.648265047971036e-07, 'subsample': 0.6308967485029272, 'colsample_bytree': 0.24643311567526913, 'max_depth': 5}. Best is trial 38 with value: 0.7173371371788525.\u001b[0m\n"
     ]
    },
    {
     "name": "stdout",
     "output_type": "stream",
     "text": [
      "[19:32:09] WARNING: C:/Users/Administrator/workspace/xgboost-win64_release_1.4.0/src/learner.cc:231: Only 1 GPUs are visible, setting `gpu_id` to 0\n",
      "[0]\tvalidation_0-rmse:7.39108\n",
      "[1000]\tvalidation_0-rmse:0.71942\n",
      "[2000]\tvalidation_0-rmse:0.71829\n",
      "[2281]\tvalidation_0-rmse:0.71832\n"
     ]
    },
    {
     "name": "stderr",
     "output_type": "stream",
     "text": [
      "\u001b[32m[I 2021-08-29 19:32:32,990]\u001b[0m Trial 47 finished with value: 0.7182501026105742 and parameters: {'learning_rate': 0.050454408285542, 'reg_lambda': 9.283285861052441e-07, 'reg_alpha': 1.222623141620013e-06, 'subsample': 0.693146298916751, 'colsample_bytree': 0.3338941552886395, 'max_depth': 4}. Best is trial 38 with value: 0.7173371371788525.\u001b[0m\n"
     ]
    },
    {
     "name": "stdout",
     "output_type": "stream",
     "text": [
      "[19:32:34] WARNING: C:/Users/Administrator/workspace/xgboost-win64_release_1.4.0/src/learner.cc:231: Only 1 GPUs are visible, setting `gpu_id` to 0\n",
      "[0]\tvalidation_0-rmse:7.59074\n",
      "[1000]\tvalidation_0-rmse:0.71948\n",
      "[2000]\tvalidation_0-rmse:0.71802\n",
      "[2408]\tvalidation_0-rmse:0.71800\n"
     ]
    },
    {
     "name": "stderr",
     "output_type": "stream",
     "text": [
      "\u001b[32m[I 2021-08-29 19:33:08,714]\u001b[0m Trial 48 finished with value: 0.7179516838067416 and parameters: {'learning_rate': 0.024543732429008643, 'reg_lambda': 0.012023854520618021, 'reg_alpha': 4.2732528078026694e-08, 'subsample': 0.48806007497333986, 'colsample_bytree': 0.14264653040127975, 'max_depth': 6}. Best is trial 38 with value: 0.7173371371788525.\u001b[0m\n"
     ]
    },
    {
     "name": "stdout",
     "output_type": "stream",
     "text": [
      "[19:33:09] WARNING: C:/Users/Administrator/workspace/xgboost-win64_release_1.4.0/src/learner.cc:231: Only 1 GPUs are visible, setting `gpu_id` to 0\n",
      "[0]\tvalidation_0-rmse:7.64531\n",
      "[1000]\tvalidation_0-rmse:0.72408\n",
      "[2000]\tvalidation_0-rmse:0.72120\n",
      "[3000]\tvalidation_0-rmse:0.72009\n",
      "[4000]\tvalidation_0-rmse:0.71949\n",
      "[5000]\tvalidation_0-rmse:0.71926\n",
      "[5650]\tvalidation_0-rmse:0.71926\n"
     ]
    },
    {
     "name": "stderr",
     "output_type": "stream",
     "text": [
      "\u001b[32m[I 2021-08-29 19:33:52,066]\u001b[0m Trial 49 finished with value: 0.7191842158017521 and parameters: {'learning_rate': 0.017465954395108296, 'reg_lambda': 1.0285918313039464e-05, 'reg_alpha': 2.747896672223668e-06, 'subsample': 0.10359875960887421, 'colsample_bytree': 0.1941895450453782, 'max_depth': 4}. Best is trial 38 with value: 0.7173371371788525.\u001b[0m\n"
     ]
    },
    {
     "name": "stdout",
     "output_type": "stream",
     "text": [
      "[19:33:53] WARNING: C:/Users/Administrator/workspace/xgboost-win64_release_1.4.0/src/learner.cc:231: Only 1 GPUs are visible, setting `gpu_id` to 0\n",
      "[0]\tvalidation_0-rmse:7.54216\n",
      "[1000]\tvalidation_0-rmse:0.72134\n",
      "[2000]\tvalidation_0-rmse:0.71921\n",
      "[2948]\tvalidation_0-rmse:0.71894\n"
     ]
    },
    {
     "name": "stderr",
     "output_type": "stream",
     "text": [
      "\u001b[32m[I 2021-08-29 19:34:23,415]\u001b[0m Trial 50 finished with value: 0.71890222745143 and parameters: {'learning_rate': 0.030843799461479082, 'reg_lambda': 6.979039862767298e-05, 'reg_alpha': 2.785442870542776e-05, 'subsample': 0.5415856369770855, 'colsample_bytree': 0.8499617231944966, 'max_depth': 4}. Best is trial 38 with value: 0.7173371371788525.\u001b[0m\n"
     ]
    },
    {
     "name": "stdout",
     "output_type": "stream",
     "text": [
      "[19:34:24] WARNING: C:/Users/Administrator/workspace/xgboost-win64_release_1.4.0/src/learner.cc:231: Only 1 GPUs are visible, setting `gpu_id` to 0\n",
      "[0]\tvalidation_0-rmse:7.67212\n",
      "[1000]\tvalidation_0-rmse:0.72539\n",
      "[2000]\tvalidation_0-rmse:0.72023\n",
      "[3000]\tvalidation_0-rmse:0.71849\n",
      "[4000]\tvalidation_0-rmse:0.71778\n",
      "[5000]\tvalidation_0-rmse:0.71748\n",
      "[6000]\tvalidation_0-rmse:0.71731\n",
      "[6967]\tvalidation_0-rmse:0.71726\n"
     ]
    },
    {
     "name": "stderr",
     "output_type": "stream",
     "text": [
      "\u001b[32m[I 2021-08-29 19:35:45,150]\u001b[0m Trial 51 finished with value: 0.7172534560472633 and parameters: {'learning_rate': 0.013978423443446696, 'reg_lambda': 0.03132584908916518, 'reg_alpha': 1.1927222676722425e-05, 'subsample': 0.5773695293544596, 'colsample_bytree': 0.1023747711666645, 'max_depth': 5}. Best is trial 51 with value: 0.7172534560472633.\u001b[0m\n"
     ]
    },
    {
     "name": "stdout",
     "output_type": "stream",
     "text": [
      "[19:35:46] WARNING: C:/Users/Administrator/workspace/xgboost-win64_release_1.4.0/src/learner.cc:231: Only 1 GPUs are visible, setting `gpu_id` to 0\n",
      "[0]\tvalidation_0-rmse:7.67738\n",
      "[1000]\tvalidation_0-rmse:0.72429\n",
      "[2000]\tvalidation_0-rmse:0.71987\n",
      "[3000]\tvalidation_0-rmse:0.71838\n",
      "[4000]\tvalidation_0-rmse:0.71776\n",
      "[5000]\tvalidation_0-rmse:0.71746\n",
      "[5941]\tvalidation_0-rmse:0.71737\n"
     ]
    },
    {
     "name": "stderr",
     "output_type": "stream",
     "text": [
      "\u001b[32m[I 2021-08-29 19:36:58,492]\u001b[0m Trial 52 finished with value: 0.717351590610144 and parameters: {'learning_rate': 0.013298424681949143, 'reg_lambda': 1.3087783332248017, 'reg_alpha': 0.00022093143352057098, 'subsample': 0.6422136446526189, 'colsample_bytree': 0.1332506267892935, 'max_depth': 5}. Best is trial 51 with value: 0.7172534560472633.\u001b[0m\n"
     ]
    },
    {
     "name": "stdout",
     "output_type": "stream",
     "text": [
      "[19:36:59] WARNING: C:/Users/Administrator/workspace/xgboost-win64_release_1.4.0/src/learner.cc:231: Only 1 GPUs are visible, setting `gpu_id` to 0\n",
      "[0]\tvalidation_0-rmse:7.69473\n",
      "[1000]\tvalidation_0-rmse:0.72497\n",
      "[2000]\tvalidation_0-rmse:0.72069\n",
      "[3000]\tvalidation_0-rmse:0.71910\n",
      "[4000]\tvalidation_0-rmse:0.71828\n",
      "[5000]\tvalidation_0-rmse:0.71780\n",
      "[6000]\tvalidation_0-rmse:0.71762\n",
      "[6999]\tvalidation_0-rmse:0.71754\n"
     ]
    },
    {
     "name": "stderr",
     "output_type": "stream",
     "text": [
      "\u001b[32m[I 2021-08-29 19:38:24,924]\u001b[0m Trial 53 finished with value: 0.7175250333395379 and parameters: {'learning_rate': 0.011045374536349377, 'reg_lambda': 1.412008208088198, 'reg_alpha': 0.00018898881426497791, 'subsample': 0.6425789105459546, 'colsample_bytree': 0.18045135673303175, 'max_depth': 5}. Best is trial 51 with value: 0.7172534560472633.\u001b[0m\n"
     ]
    },
    {
     "name": "stdout",
     "output_type": "stream",
     "text": [
      "[19:38:26] WARNING: C:/Users/Administrator/workspace/xgboost-win64_release_1.4.0/src/learner.cc:231: Only 1 GPUs are visible, setting `gpu_id` to 0\n",
      "[0]\tvalidation_0-rmse:6.44642\n",
      "[693]\tvalidation_0-rmse:0.71913\n"
     ]
    },
    {
     "name": "stderr",
     "output_type": "stream",
     "text": [
      "\u001b[32m[I 2021-08-29 19:38:35,217]\u001b[0m Trial 54 finished with value: 0.7185197464230987 and parameters: {'learning_rate': 0.1732242761597202, 'reg_lambda': 8.766711491729097, 'reg_alpha': 0.00037678354240472953, 'subsample': 0.7922824084228136, 'colsample_bytree': 0.13787154299949694, 'max_depth': 5}. Best is trial 51 with value: 0.7172534560472633.\u001b[0m\n"
     ]
    },
    {
     "name": "stdout",
     "output_type": "stream",
     "text": [
      "[19:38:36] WARNING: C:/Users/Administrator/workspace/xgboost-win64_release_1.4.0/src/learner.cc:231: Only 1 GPUs are visible, setting `gpu_id` to 0\n",
      "[0]\tvalidation_0-rmse:7.67895\n",
      "[1000]\tvalidation_0-rmse:0.72596\n",
      "[2000]\tvalidation_0-rmse:0.72204\n",
      "[3000]\tvalidation_0-rmse:0.72028\n",
      "[4000]\tvalidation_0-rmse:0.71942\n",
      "[5000]\tvalidation_0-rmse:0.71893\n",
      "[6000]\tvalidation_0-rmse:0.71867\n",
      "[6999]\tvalidation_0-rmse:0.71855\n"
     ]
    },
    {
     "name": "stderr",
     "output_type": "stream",
     "text": [
      "\u001b[32m[I 2021-08-29 19:39:50,902]\u001b[0m Trial 55 finished with value: 0.7185341742607421 and parameters: {'learning_rate': 0.013089807805798916, 'reg_lambda': 0.13608579106876156, 'reg_alpha': 1.613190793312069e-05, 'subsample': 0.6301973239772884, 'colsample_bytree': 0.9274784954849813, 'max_depth': 4}. Best is trial 51 with value: 0.7172534560472633.\u001b[0m\n"
     ]
    },
    {
     "name": "stdout",
     "output_type": "stream",
     "text": [
      "[19:39:52] WARNING: C:/Users/Administrator/workspace/xgboost-win64_release_1.4.0/src/learner.cc:231: Only 1 GPUs are visible, setting `gpu_id` to 0\n",
      "[0]\tvalidation_0-rmse:7.69071\n",
      "[1000]\tvalidation_0-rmse:0.72268\n",
      "[2000]\tvalidation_0-rmse:0.71952\n",
      "[3000]\tvalidation_0-rmse:0.71846\n",
      "[4000]\tvalidation_0-rmse:0.71810\n",
      "[4941]\tvalidation_0-rmse:0.71804\n"
     ]
    },
    {
     "name": "stderr",
     "output_type": "stream",
     "text": [
      "\u001b[32m[I 2021-08-29 19:41:10,331]\u001b[0m Trial 56 finished with value: 0.7180225906632883 and parameters: {'learning_rate': 0.011566089428904918, 'reg_lambda': 0.5677334306166184, 'reg_alpha': 6.494689272534281e-05, 'subsample': 0.694372659152049, 'colsample_bytree': 0.2316933815800925, 'max_depth': 6}. Best is trial 51 with value: 0.7172534560472633.\u001b[0m\n"
     ]
    },
    {
     "name": "stdout",
     "output_type": "stream",
     "text": [
      "[19:41:11] WARNING: C:/Users/Administrator/workspace/xgboost-win64_release_1.4.0/src/learner.cc:231: Only 1 GPUs are visible, setting `gpu_id` to 0\n",
      "[0]\tvalidation_0-rmse:7.25965\n",
      "[1000]\tvalidation_0-rmse:0.71826\n",
      "[1652]\tvalidation_0-rmse:0.71836\n"
     ]
    },
    {
     "name": "stderr",
     "output_type": "stream",
     "text": [
      "\u001b[32m[I 2021-08-29 19:41:29,523]\u001b[0m Trial 57 finished with value: 0.7180963204000106 and parameters: {'learning_rate': 0.06754612612067121, 'reg_lambda': 21.478424875706697, 'reg_alpha': 1.5239803644273222e-05, 'subsample': 0.45751809938781796, 'colsample_bytree': 0.14617539974456004, 'max_depth': 5}. Best is trial 51 with value: 0.7172534560472633.\u001b[0m\n"
     ]
    },
    {
     "name": "stdout",
     "output_type": "stream",
     "text": [
      "[19:41:30] WARNING: C:/Users/Administrator/workspace/xgboost-win64_release_1.4.0/src/learner.cc:231: Only 1 GPUs are visible, setting `gpu_id` to 0\n",
      "[0]\tvalidation_0-rmse:7.63772\n",
      "[1000]\tvalidation_0-rmse:0.72627\n",
      "[2000]\tvalidation_0-rmse:0.72219\n",
      "[3000]\tvalidation_0-rmse:0.72032\n",
      "[4000]\tvalidation_0-rmse:0.71926\n",
      "[5000]\tvalidation_0-rmse:0.71867\n",
      "[6000]\tvalidation_0-rmse:0.71825\n",
      "[6999]\tvalidation_0-rmse:0.71807\n"
     ]
    },
    {
     "name": "stderr",
     "output_type": "stream",
     "text": [
      "\u001b[32m[I 2021-08-29 19:42:30,193]\u001b[0m Trial 58 finished with value: 0.7180683595519358 and parameters: {'learning_rate': 0.018439823772830006, 'reg_lambda': 0.02220450552437067, 'reg_alpha': 0.0016084105874942917, 'subsample': 0.574922538301467, 'colsample_bytree': 0.5698636357729685, 'max_depth': 3}. Best is trial 51 with value: 0.7172534560472633.\u001b[0m\n"
     ]
    },
    {
     "name": "stdout",
     "output_type": "stream",
     "text": [
      "[19:42:31] WARNING: C:/Users/Administrator/workspace/xgboost-win64_release_1.4.0/src/learner.cc:231: Only 1 GPUs are visible, setting `gpu_id` to 0\n",
      "[0]\tvalidation_0-rmse:7.61828\n",
      "[1000]\tvalidation_0-rmse:0.72370\n",
      "[2000]\tvalidation_0-rmse:0.71983\n",
      "[3000]\tvalidation_0-rmse:0.71845\n",
      "[4000]\tvalidation_0-rmse:0.71784\n",
      "[5000]\tvalidation_0-rmse:0.71763\n",
      "[5904]\tvalidation_0-rmse:0.71756\n"
     ]
    },
    {
     "name": "stderr",
     "output_type": "stream",
     "text": [
      "\u001b[32m[I 2021-08-29 19:43:27,834]\u001b[0m Trial 59 finished with value: 0.7175429260173846 and parameters: {'learning_rate': 0.020987646293070362, 'reg_lambda': 96.27168289017077, 'reg_alpha': 0.0051857158749708246, 'subsample': 0.5215869565241595, 'colsample_bytree': 0.26004132995403584, 'max_depth': 4}. Best is trial 51 with value: 0.7172534560472633.\u001b[0m\n"
     ]
    },
    {
     "name": "stdout",
     "output_type": "stream",
     "text": [
      "[19:43:29] WARNING: C:/Users/Administrator/workspace/xgboost-win64_release_1.4.0/src/learner.cc:231: Only 1 GPUs are visible, setting `gpu_id` to 0\n",
      "[0]\tvalidation_0-rmse:7.68111\n",
      "[1000]\tvalidation_0-rmse:0.72119\n",
      "[2000]\tvalidation_0-rmse:0.71905\n",
      "[3000]\tvalidation_0-rmse:0.71858\n",
      "[3202]\tvalidation_0-rmse:0.71862\n"
     ]
    },
    {
     "name": "stderr",
     "output_type": "stream",
     "text": [
      "\u001b[32m[I 2021-08-29 19:44:40,521]\u001b[0m Trial 60 finished with value: 0.7185643055200137 and parameters: {'learning_rate': 0.012811546677680929, 'reg_lambda': 0.006241815607459047, 'reg_alpha': 0.0003171005118902488, 'subsample': 0.7800159268243415, 'colsample_bytree': 0.32236171856431295, 'max_depth': 7}. Best is trial 51 with value: 0.7172534560472633.\u001b[0m\n"
     ]
    },
    {
     "name": "stdout",
     "output_type": "stream",
     "text": [
      "[19:44:41] WARNING: C:/Users/Administrator/workspace/xgboost-win64_release_1.4.0/src/learner.cc:231: Only 1 GPUs are visible, setting `gpu_id` to 0\n",
      "[0]\tvalidation_0-rmse:7.66840\n",
      "[1000]\tvalidation_0-rmse:0.72510\n",
      "[2000]\tvalidation_0-rmse:0.72009\n",
      "[3000]\tvalidation_0-rmse:0.71837\n",
      "[4000]\tvalidation_0-rmse:0.71768\n",
      "[5000]\tvalidation_0-rmse:0.71740\n",
      "[6000]\tvalidation_0-rmse:0.71731\n",
      "[6839]\tvalidation_0-rmse:0.71732\n"
     ]
    },
    {
     "name": "stderr",
     "output_type": "stream",
     "text": [
      "\u001b[32m[I 2021-08-29 19:46:00,622]\u001b[0m Trial 61 finished with value: 0.7173019298972577 and parameters: {'learning_rate': 0.01446135784334547, 'reg_lambda': 0.0014519264938422708, 'reg_alpha': 9.71525175267873e-07, 'subsample': 0.569243018233414, 'colsample_bytree': 0.10002997268508408, 'max_depth': 5}. Best is trial 51 with value: 0.7172534560472633.\u001b[0m\n"
     ]
    },
    {
     "name": "stdout",
     "output_type": "stream",
     "text": [
      "[19:46:01] WARNING: C:/Users/Administrator/workspace/xgboost-win64_release_1.4.0/src/learner.cc:231: Only 1 GPUs are visible, setting `gpu_id` to 0\n",
      "[0]\tvalidation_0-rmse:7.66593\n",
      "[1000]\tvalidation_0-rmse:0.72323\n",
      "[2000]\tvalidation_0-rmse:0.71940\n",
      "[3000]\tvalidation_0-rmse:0.71817\n",
      "[4000]\tvalidation_0-rmse:0.71770\n",
      "[5000]\tvalidation_0-rmse:0.71754\n",
      "[5218]\tvalidation_0-rmse:0.71753\n"
     ]
    },
    {
     "name": "stderr",
     "output_type": "stream",
     "text": [
      "\u001b[32m[I 2021-08-29 19:47:04,803]\u001b[0m Trial 62 finished with value: 0.71752449111222 and parameters: {'learning_rate': 0.0147819188578991, 'reg_lambda': 0.000389569969392287, 'reg_alpha': 1.0933779820020136e-06, 'subsample': 0.6084652044739777, 'colsample_bytree': 0.13320618062314424, 'max_depth': 5}. Best is trial 51 with value: 0.7172534560472633.\u001b[0m\n"
     ]
    },
    {
     "name": "stdout",
     "output_type": "stream",
     "text": [
      "[19:47:06] WARNING: C:/Users/Administrator/workspace/xgboost-win64_release_1.4.0/src/learner.cc:231: Only 1 GPUs are visible, setting `gpu_id` to 0\n",
      "[0]\tvalidation_0-rmse:7.65516\n",
      "[1000]\tvalidation_0-rmse:0.72217\n",
      "[2000]\tvalidation_0-rmse:0.71917\n",
      "[3000]\tvalidation_0-rmse:0.71812\n",
      "[4000]\tvalidation_0-rmse:0.71773\n",
      "[4969]\tvalidation_0-rmse:0.71767\n"
     ]
    },
    {
     "name": "stderr",
     "output_type": "stream",
     "text": [
      "\u001b[32m[I 2021-08-29 19:48:09,298]\u001b[0m Trial 63 finished with value: 0.7176333698058276 and parameters: {'learning_rate': 0.016179195533957285, 'reg_lambda': 0.0018961365070606828, 'reg_alpha': 2.417186545308997e-07, 'subsample': 0.7223854393327982, 'colsample_bytree': 0.179706615743832, 'max_depth': 5}. Best is trial 51 with value: 0.7172534560472633.\u001b[0m\n"
     ]
    },
    {
     "name": "stdout",
     "output_type": "stream",
     "text": [
      "[19:48:10] WARNING: C:/Users/Administrator/workspace/xgboost-win64_release_1.4.0/src/learner.cc:231: Only 1 GPUs are visible, setting `gpu_id` to 0\n",
      "[0]\tvalidation_0-rmse:7.07367\n",
      "[1000]\tvalidation_0-rmse:0.71818\n",
      "[1661]\tvalidation_0-rmse:0.71796\n"
     ]
    },
    {
     "name": "stderr",
     "output_type": "stream",
     "text": [
      "\u001b[32m[I 2021-08-29 19:48:26,171]\u001b[0m Trial 64 finished with value: 0.7179188553623874 and parameters: {'learning_rate': 0.09170003416280113, 'reg_lambda': 2.251976579897918, 'reg_alpha': 3.44962057209383e-08, 'subsample': 0.5270881716729464, 'colsample_bytree': 0.10112442150855179, 'max_depth': 4}. Best is trial 51 with value: 0.7172534560472633.\u001b[0m\n"
     ]
    },
    {
     "name": "stdout",
     "output_type": "stream",
     "text": [
      "[19:48:27] WARNING: C:/Users/Administrator/workspace/xgboost-win64_release_1.4.0/src/learner.cc:231: Only 1 GPUs are visible, setting `gpu_id` to 0\n",
      "[0]\tvalidation_0-rmse:7.69406\n",
      "[1000]\tvalidation_0-rmse:0.72434\n",
      "[2000]\tvalidation_0-rmse:0.72067\n",
      "[3000]\tvalidation_0-rmse:0.71914\n",
      "[4000]\tvalidation_0-rmse:0.71840\n",
      "[5000]\tvalidation_0-rmse:0.71801\n",
      "[6000]\tvalidation_0-rmse:0.71782\n",
      "[6912]\tvalidation_0-rmse:0.71781\n"
     ]
    },
    {
     "name": "stderr",
     "output_type": "stream",
     "text": [
      "\u001b[32m[I 2021-08-29 19:49:52,831]\u001b[0m Trial 65 finished with value: 0.7177823397339077 and parameters: {'learning_rate': 0.011130790263035826, 'reg_lambda': 0.00013133179984957751, 'reg_alpha': 3.0343660375049198e-06, 'subsample': 0.6600112147367583, 'colsample_bytree': 0.2094714652691649, 'max_depth': 5}. Best is trial 51 with value: 0.7172534560472633.\u001b[0m\n"
     ]
    },
    {
     "name": "stdout",
     "output_type": "stream",
     "text": [
      "[19:49:54] WARNING: C:/Users/Administrator/workspace/xgboost-win64_release_1.4.0/src/learner.cc:231: Only 1 GPUs are visible, setting `gpu_id` to 0\n",
      "[0]\tvalidation_0-rmse:7.67877\n",
      "[1000]\tvalidation_0-rmse:0.72829\n",
      "[2000]\tvalidation_0-rmse:0.72281\n",
      "[3000]\tvalidation_0-rmse:0.72038\n",
      "[4000]\tvalidation_0-rmse:0.71921\n",
      "[5000]\tvalidation_0-rmse:0.71849\n",
      "[6000]\tvalidation_0-rmse:0.71805\n",
      "[6999]\tvalidation_0-rmse:0.71775\n"
     ]
    },
    {
     "name": "stderr",
     "output_type": "stream",
     "text": [
      "\u001b[32m[I 2021-08-29 19:51:20,023]\u001b[0m Trial 66 finished with value: 0.7177482244254729 and parameters: {'learning_rate': 0.013117863139563587, 'reg_lambda': 3.3512920140698614e-05, 'reg_alpha': 4.347698577521725e-05, 'subsample': 0.9965885859515652, 'colsample_bytree': 0.12463698680461312, 'max_depth': 4}. Best is trial 51 with value: 0.7172534560472633.\u001b[0m\n"
     ]
    },
    {
     "name": "stdout",
     "output_type": "stream",
     "text": [
      "[19:51:21] WARNING: C:/Users/Administrator/workspace/xgboost-win64_release_1.4.0/src/learner.cc:231: Only 1 GPUs are visible, setting `gpu_id` to 0\n",
      "[0]\tvalidation_0-rmse:7.62965\n",
      "[1000]\tvalidation_0-rmse:0.72136\n",
      "[2000]\tvalidation_0-rmse:0.71871\n",
      "[3000]\tvalidation_0-rmse:0.71796\n",
      "[3996]\tvalidation_0-rmse:0.71787\n"
     ]
    },
    {
     "name": "stderr",
     "output_type": "stream",
     "text": [
      "\u001b[32m[I 2021-08-29 19:52:08,709]\u001b[0m Trial 67 finished with value: 0.7177993428192082 and parameters: {'learning_rate': 0.01948864715684202, 'reg_lambda': 0.02878927125094201, 'reg_alpha': 1.1118090072340648e-07, 'subsample': 0.57195826952076, 'colsample_bytree': 0.1686464289278744, 'max_depth': 5}. Best is trial 51 with value: 0.7172534560472633.\u001b[0m\n"
     ]
    },
    {
     "name": "stdout",
     "output_type": "stream",
     "text": [
      "[19:52:09] WARNING: C:/Users/Administrator/workspace/xgboost-win64_release_1.4.0/src/learner.cc:231: Only 1 GPUs are visible, setting `gpu_id` to 0\n",
      "[0]\tvalidation_0-rmse:7.56719\n",
      "[1000]\tvalidation_0-rmse:0.72019\n",
      "[1541]\tvalidation_0-rmse:0.72001\n"
     ]
    },
    {
     "name": "stderr",
     "output_type": "stream",
     "text": [
      "\u001b[32m[I 2021-08-29 19:52:36,226]\u001b[0m Trial 68 finished with value: 0.7199660816970298 and parameters: {'learning_rate': 0.027594034729279425, 'reg_lambda': 0.004237854140514842, 'reg_alpha': 7.18791317094352e-07, 'subsample': 0.6191119704377218, 'colsample_bytree': 0.7375754295660657, 'max_depth': 6}. Best is trial 51 with value: 0.7172534560472633.\u001b[0m\n"
     ]
    },
    {
     "name": "stdout",
     "output_type": "stream",
     "text": [
      "[19:52:37] WARNING: C:/Users/Administrator/workspace/xgboost-win64_release_1.4.0/src/learner.cc:231: Only 1 GPUs are visible, setting `gpu_id` to 0\n",
      "[0]\tvalidation_0-rmse:7.65268\n",
      "[1000]\tvalidation_0-rmse:0.72414\n",
      "[2000]\tvalidation_0-rmse:0.72061\n",
      "[3000]\tvalidation_0-rmse:0.71899\n",
      "[4000]\tvalidation_0-rmse:0.71818\n",
      "[5000]\tvalidation_0-rmse:0.71779\n",
      "[6000]\tvalidation_0-rmse:0.71761\n",
      "[6999]\tvalidation_0-rmse:0.71747\n"
     ]
    },
    {
     "name": "stderr",
     "output_type": "stream",
     "text": [
      "\u001b[32m[I 2021-08-29 19:53:55,349]\u001b[0m Trial 69 finished with value: 0.7174617234748257 and parameters: {'learning_rate': 0.016501745546932782, 'reg_lambda': 0.09985131170150044, 'reg_alpha': 1.4479097803868213e-05, 'subsample': 0.8178034860591851, 'colsample_bytree': 0.22188422827246954, 'max_depth': 4}. Best is trial 51 with value: 0.7172534560472633.\u001b[0m\n"
     ]
    },
    {
     "name": "stdout",
     "output_type": "stream",
     "text": [
      "[19:53:56] WARNING: C:/Users/Administrator/workspace/xgboost-win64_release_1.4.0/src/learner.cc:231: Only 1 GPUs are visible, setting `gpu_id` to 0\n",
      "[0]\tvalidation_0-rmse:7.69590\n",
      "[1000]\tvalidation_0-rmse:0.72608\n",
      "[2000]\tvalidation_0-rmse:0.72040\n",
      "[3000]\tvalidation_0-rmse:0.71854\n",
      "[4000]\tvalidation_0-rmse:0.71787\n",
      "[5000]\tvalidation_0-rmse:0.71761\n",
      "[5937]\tvalidation_0-rmse:0.71758\n"
     ]
    },
    {
     "name": "stderr",
     "output_type": "stream",
     "text": [
      "\u001b[32m[I 2021-08-29 19:55:14,153]\u001b[0m Trial 70 finished with value: 0.7175523044689319 and parameters: {'learning_rate': 0.010898990846852464, 'reg_lambda': 0.0010221210215553412, 'reg_alpha': 0.00010659703254970735, 'subsample': 0.4062252493668521, 'colsample_bytree': 0.12400087745583316, 'max_depth': 6}. Best is trial 51 with value: 0.7172534560472633.\u001b[0m\n"
     ]
    },
    {
     "name": "stdout",
     "output_type": "stream",
     "text": [
      "[19:55:15] WARNING: C:/Users/Administrator/workspace/xgboost-win64_release_1.4.0/src/learner.cc:231: Only 1 GPUs are visible, setting `gpu_id` to 0\n",
      "[0]\tvalidation_0-rmse:7.66730\n",
      "[1000]\tvalidation_0-rmse:0.72506\n",
      "[2000]\tvalidation_0-rmse:0.72006\n",
      "[3000]\tvalidation_0-rmse:0.71840\n",
      "[4000]\tvalidation_0-rmse:0.71776\n",
      "[5000]\tvalidation_0-rmse:0.71754\n",
      "[6000]\tvalidation_0-rmse:0.71742\n",
      "[6355]\tvalidation_0-rmse:0.71742\n"
     ]
    },
    {
     "name": "stderr",
     "output_type": "stream",
     "text": [
      "\u001b[32m[I 2021-08-29 19:56:28,183]\u001b[0m Trial 71 finished with value: 0.7174203844579067 and parameters: {'learning_rate': 0.014606626183308264, 'reg_lambda': 0.00043141464432209814, 'reg_alpha': 7.729238871936013e-06, 'subsample': 0.5592956801961397, 'colsample_bytree': 0.10080273579439517, 'max_depth': 5}. Best is trial 51 with value: 0.7172534560472633.\u001b[0m\n"
     ]
    },
    {
     "name": "stdout",
     "output_type": "stream",
     "text": [
      "[19:56:29] WARNING: C:/Users/Administrator/workspace/xgboost-win64_release_1.4.0/src/learner.cc:231: Only 1 GPUs are visible, setting `gpu_id` to 0\n",
      "[0]\tvalidation_0-rmse:7.67228\n",
      "[1000]\tvalidation_0-rmse:0.72363\n",
      "[2000]\tvalidation_0-rmse:0.71956\n",
      "[3000]\tvalidation_0-rmse:0.71817\n",
      "[4000]\tvalidation_0-rmse:0.71767\n",
      "[5000]\tvalidation_0-rmse:0.71748\n",
      "[6000]\tvalidation_0-rmse:0.71742\n",
      "[6112]\tvalidation_0-rmse:0.71743\n"
     ]
    },
    {
     "name": "stderr",
     "output_type": "stream",
     "text": [
      "\u001b[32m[I 2021-08-29 19:57:38,659]\u001b[0m Trial 72 finished with value: 0.7174004044589165 and parameters: {'learning_rate': 0.013960871020524705, 'reg_lambda': 0.0019450550816837127, 'reg_alpha': 1.923391039440864e-06, 'subsample': 0.502290060721936, 'colsample_bytree': 0.16015802716300023, 'max_depth': 5}. Best is trial 51 with value: 0.7172534560472633.\u001b[0m\n"
     ]
    },
    {
     "name": "stdout",
     "output_type": "stream",
     "text": [
      "[19:57:39] WARNING: C:/Users/Administrator/workspace/xgboost-win64_release_1.4.0/src/learner.cc:231: Only 1 GPUs are visible, setting `gpu_id` to 0\n",
      "[0]\tvalidation_0-rmse:7.65961\n",
      "[1000]\tvalidation_0-rmse:0.72605\n",
      "[2000]\tvalidation_0-rmse:0.72045\n",
      "[3000]\tvalidation_0-rmse:0.71850\n",
      "[4000]\tvalidation_0-rmse:0.71766\n",
      "[5000]\tvalidation_0-rmse:0.71724\n",
      "[6000]\tvalidation_0-rmse:0.71699\n",
      "[6999]\tvalidation_0-rmse:0.71692\n"
     ]
    },
    {
     "name": "stderr",
     "output_type": "stream",
     "text": [
      "\u001b[32m[I 2021-08-29 19:59:01,153]\u001b[0m Trial 73 finished with value: 0.7169119261340184 and parameters: {'learning_rate': 0.015603699193600313, 'reg_lambda': 0.001158068570366239, 'reg_alpha': 16.448429406371936, 'subsample': 0.5948693703077814, 'colsample_bytree': 0.12425047105688761, 'max_depth': 5}. Best is trial 73 with value: 0.7169119261340184.\u001b[0m\n"
     ]
    },
    {
     "name": "stdout",
     "output_type": "stream",
     "text": [
      "[19:59:02] WARNING: C:/Users/Administrator/workspace/xgboost-win64_release_1.4.0/src/learner.cc:231: Only 1 GPUs are visible, setting `gpu_id` to 0\n",
      "[0]\tvalidation_0-rmse:7.68856\n",
      "[1000]\tvalidation_0-rmse:0.72420\n",
      "[2000]\tvalidation_0-rmse:0.72029\n",
      "[3000]\tvalidation_0-rmse:0.71886\n",
      "[4000]\tvalidation_0-rmse:0.71818\n",
      "[5000]\tvalidation_0-rmse:0.71789\n",
      "[6000]\tvalidation_0-rmse:0.71777\n",
      "[6183]\tvalidation_0-rmse:0.71777\n"
     ]
    },
    {
     "name": "stderr",
     "output_type": "stream",
     "text": [
      "\u001b[32m[I 2021-08-29 20:00:16,195]\u001b[0m Trial 74 finished with value: 0.7177588818135547 and parameters: {'learning_rate': 0.011843475848344831, 'reg_lambda': 0.012768757209247474, 'reg_alpha': 0.017946491044811462, 'subsample': 0.5856134258453009, 'colsample_bytree': 0.18943374014671804, 'max_depth': 5}. Best is trial 73 with value: 0.7169119261340184.\u001b[0m\n"
     ]
    },
    {
     "name": "stdout",
     "output_type": "stream",
     "text": [
      "[20:00:17] WARNING: C:/Users/Administrator/workspace/xgboost-win64_release_1.4.0/src/learner.cc:231: Only 1 GPUs are visible, setting `gpu_id` to 0\n",
      "[0]\tvalidation_0-rmse:7.65552\n",
      "[1000]\tvalidation_0-rmse:0.72968\n",
      "[2000]\tvalidation_0-rmse:0.72489\n",
      "[3000]\tvalidation_0-rmse:0.72260\n",
      "[4000]\tvalidation_0-rmse:0.72125\n",
      "[5000]\tvalidation_0-rmse:0.72038\n",
      "[6000]\tvalidation_0-rmse:0.71977\n",
      "[6999]\tvalidation_0-rmse:0.71932\n"
     ]
    },
    {
     "name": "stderr",
     "output_type": "stream",
     "text": [
      "\u001b[32m[I 2021-08-29 20:01:32,467]\u001b[0m Trial 75 finished with value: 0.7193199838800919 and parameters: {'learning_rate': 0.016135735131695, 'reg_lambda': 1.8614546524942457e-05, 'reg_alpha': 82.72308277316914, 'subsample': 0.9622383242120103, 'colsample_bytree': 0.1301141725013394, 'max_depth': 3}. Best is trial 73 with value: 0.7169119261340184.\u001b[0m\n"
     ]
    },
    {
     "name": "stdout",
     "output_type": "stream",
     "text": [
      "[20:01:33] WARNING: C:/Users/Administrator/workspace/xgboost-win64_release_1.4.0/src/learner.cc:231: Only 1 GPUs are visible, setting `gpu_id` to 0\n",
      "[0]\tvalidation_0-rmse:7.68125\n",
      "[1000]\tvalidation_0-rmse:0.72819\n",
      "[2000]\tvalidation_0-rmse:0.72284\n",
      "[3000]\tvalidation_0-rmse:0.72047\n",
      "[4000]\tvalidation_0-rmse:0.71920\n",
      "[5000]\tvalidation_0-rmse:0.71838\n",
      "[6000]\tvalidation_0-rmse:0.71786\n",
      "[6999]\tvalidation_0-rmse:0.71749\n"
     ]
    },
    {
     "name": "stderr",
     "output_type": "stream",
     "text": [
      "\u001b[32m[I 2021-08-29 20:02:49,201]\u001b[0m Trial 76 finished with value: 0.7174925247424722 and parameters: {'learning_rate': 0.012795169822003372, 'reg_lambda': 0.006885884187542302, 'reg_alpha': 24.42026514039201, 'subsample': 0.7139745867162396, 'colsample_bytree': 0.15319399785444993, 'max_depth': 4}. Best is trial 73 with value: 0.7169119261340184.\u001b[0m\n"
     ]
    },
    {
     "name": "stdout",
     "output_type": "stream",
     "text": [
      "[20:02:50] WARNING: C:/Users/Administrator/workspace/xgboost-win64_release_1.4.0/src/learner.cc:231: Only 1 GPUs are visible, setting `gpu_id` to 0\n",
      "[0]\tvalidation_0-rmse:7.60421\n",
      "[1000]\tvalidation_0-rmse:0.72098\n",
      "[2000]\tvalidation_0-rmse:0.71886\n",
      "[3000]\tvalidation_0-rmse:0.71845\n",
      "[3327]\tvalidation_0-rmse:0.71848\n"
     ]
    },
    {
     "name": "stderr",
     "output_type": "stream",
     "text": [
      "\u001b[32m[I 2021-08-29 20:03:32,188]\u001b[0m Trial 77 finished with value: 0.7184449562833319 and parameters: {'learning_rate': 0.022790978190440233, 'reg_lambda': 0.00021419146524115061, 'reg_alpha': 0.031687820032179716, 'subsample': 0.6575809910239704, 'colsample_bytree': 0.3835764799014686, 'max_depth': 5}. Best is trial 73 with value: 0.7169119261340184.\u001b[0m\n"
     ]
    },
    {
     "name": "stdout",
     "output_type": "stream",
     "text": [
      "[20:03:33] WARNING: C:/Users/Administrator/workspace/xgboost-win64_release_1.4.0/src/learner.cc:231: Only 1 GPUs are visible, setting `gpu_id` to 0\n",
      "[0]\tvalidation_0-rmse:7.70027\n",
      "[1000]\tvalidation_0-rmse:0.72838\n",
      "[2000]\tvalidation_0-rmse:0.72227\n",
      "[3000]\tvalidation_0-rmse:0.71966\n",
      "[4000]\tvalidation_0-rmse:0.71847\n",
      "[5000]\tvalidation_0-rmse:0.71783\n",
      "[6000]\tvalidation_0-rmse:0.71752\n",
      "[6999]\tvalidation_0-rmse:0.71733\n"
     ]
    },
    {
     "name": "stderr",
     "output_type": "stream",
     "text": [
      "\u001b[32m[I 2021-08-29 20:05:03,334]\u001b[0m Trial 78 finished with value: 0.71732693010107 and parameters: {'learning_rate': 0.010326234958406675, 'reg_lambda': 0.6897309413157149, 'reg_alpha': 0.4184482089854433, 'subsample': 0.751298862280853, 'colsample_bytree': 0.12187111292169985, 'max_depth': 5}. Best is trial 73 with value: 0.7169119261340184.\u001b[0m\n"
     ]
    },
    {
     "name": "stdout",
     "output_type": "stream",
     "text": [
      "[20:05:04] WARNING: C:/Users/Administrator/workspace/xgboost-win64_release_1.4.0/src/learner.cc:231: Only 1 GPUs are visible, setting `gpu_id` to 0\n",
      "[0]\tvalidation_0-rmse:7.70245\n",
      "[1000]\tvalidation_0-rmse:0.72774\n",
      "[2000]\tvalidation_0-rmse:0.72315\n",
      "[3000]\tvalidation_0-rmse:0.72091\n",
      "[4000]\tvalidation_0-rmse:0.71966\n",
      "[5000]\tvalidation_0-rmse:0.71884\n",
      "[6000]\tvalidation_0-rmse:0.71829\n",
      "[6999]\tvalidation_0-rmse:0.71790\n"
     ]
    },
    {
     "name": "stderr",
     "output_type": "stream",
     "text": [
      "\u001b[32m[I 2021-08-29 20:06:21,373]\u001b[0m Trial 79 finished with value: 0.7179017869721849 and parameters: {'learning_rate': 0.010043404798000217, 'reg_lambda': 0.5225735727758174, 'reg_alpha': 1.961075520040691, 'subsample': 0.7642512479809356, 'colsample_bytree': 0.19161500621571137, 'max_depth': 4}. Best is trial 73 with value: 0.7169119261340184.\u001b[0m\n"
     ]
    },
    {
     "name": "stdout",
     "output_type": "stream",
     "text": [
      "[20:06:22] WARNING: C:/Users/Administrator/workspace/xgboost-win64_release_1.4.0/src/learner.cc:231: Only 1 GPUs are visible, setting `gpu_id` to 0\n",
      "[0]\tvalidation_0-rmse:7.69590\n",
      "[1000]\tvalidation_0-rmse:0.73734\n",
      "[2000]\tvalidation_0-rmse:0.73456\n",
      "[3000]\tvalidation_0-rmse:0.73286\n",
      "[4000]\tvalidation_0-rmse:0.73166\n",
      "[5000]\tvalidation_0-rmse:0.73081\n",
      "[6000]\tvalidation_0-rmse:0.73016\n",
      "[6999]\tvalidation_0-rmse:0.72965\n"
     ]
    },
    {
     "name": "stderr",
     "output_type": "stream",
     "text": [
      "\u001b[32m[I 2021-08-29 20:07:14,524]\u001b[0m Trial 80 finished with value: 0.7296473549150656 and parameters: {'learning_rate': 0.010892706091466987, 'reg_lambda': 9.002878058670671e-05, 'reg_alpha': 13.483624981431879, 'subsample': 0.8934387557362117, 'colsample_bytree': 0.6142793120347932, 'max_depth': 1}. Best is trial 73 with value: 0.7169119261340184.\u001b[0m\n"
     ]
    },
    {
     "name": "stdout",
     "output_type": "stream",
     "text": [
      "[20:07:15] WARNING: C:/Users/Administrator/workspace/xgboost-win64_release_1.4.0/src/learner.cc:231: Only 1 GPUs are visible, setting `gpu_id` to 0\n",
      "[0]\tvalidation_0-rmse:7.68496\n",
      "[1000]\tvalidation_0-rmse:0.72729\n",
      "[2000]\tvalidation_0-rmse:0.72138\n",
      "[3000]\tvalidation_0-rmse:0.71911\n",
      "[4000]\tvalidation_0-rmse:0.71812\n",
      "[5000]\tvalidation_0-rmse:0.71765\n",
      "[6000]\tvalidation_0-rmse:0.71744\n",
      "[6999]\tvalidation_0-rmse:0.71729\n"
     ]
    },
    {
     "name": "stderr",
     "output_type": "stream",
     "text": [
      "\u001b[32m[I 2021-08-29 20:08:40,610]\u001b[0m Trial 81 finished with value: 0.7172838339464458 and parameters: {'learning_rate': 0.01231495027572191, 'reg_lambda': 4.701909323609139, 'reg_alpha': 0.5307636448954972, 'subsample': 0.6690207574028807, 'colsample_bytree': 0.12059486805314573, 'max_depth': 5}. Best is trial 73 with value: 0.7169119261340184.\u001b[0m\n"
     ]
    },
    {
     "name": "stdout",
     "output_type": "stream",
     "text": [
      "[20:08:41] WARNING: C:/Users/Administrator/workspace/xgboost-win64_release_1.4.0/src/learner.cc:231: Only 1 GPUs are visible, setting `gpu_id` to 0\n",
      "[0]\tvalidation_0-rmse:7.68724\n",
      "[1000]\tvalidation_0-rmse:0.72764\n",
      "[2000]\tvalidation_0-rmse:0.72154\n",
      "[3000]\tvalidation_0-rmse:0.71917\n",
      "[4000]\tvalidation_0-rmse:0.71812\n",
      "[5000]\tvalidation_0-rmse:0.71763\n",
      "[6000]\tvalidation_0-rmse:0.71740\n",
      "[6999]\tvalidation_0-rmse:0.71727\n"
     ]
    },
    {
     "name": "stderr",
     "output_type": "stream",
     "text": [
      "\u001b[32m[I 2021-08-29 20:10:07,432]\u001b[0m Trial 82 finished with value: 0.7172657109378665 and parameters: {'learning_rate': 0.012019590993925208, 'reg_lambda': 6.028064572950907, 'reg_alpha': 1.017749863019283, 'subsample': 0.6792454191147709, 'colsample_bytree': 0.11040106642902853, 'max_depth': 5}. Best is trial 73 with value: 0.7169119261340184.\u001b[0m\n"
     ]
    },
    {
     "name": "stdout",
     "output_type": "stream",
     "text": [
      "[20:10:08] WARNING: C:/Users/Administrator/workspace/xgboost-win64_release_1.4.0/src/learner.cc:231: Only 1 GPUs are visible, setting `gpu_id` to 0\n",
      "[0]\tvalidation_0-rmse:7.68782\n",
      "[1000]\tvalidation_0-rmse:0.72815\n",
      "[2000]\tvalidation_0-rmse:0.72180\n",
      "[3000]\tvalidation_0-rmse:0.71926\n",
      "[4000]\tvalidation_0-rmse:0.71814\n",
      "[5000]\tvalidation_0-rmse:0.71759\n",
      "[6000]\tvalidation_0-rmse:0.71729\n",
      "[6999]\tvalidation_0-rmse:0.71713\n"
     ]
    },
    {
     "name": "stderr",
     "output_type": "stream",
     "text": [
      "\u001b[32m[I 2021-08-29 20:11:34,478]\u001b[0m Trial 83 finished with value: 0.7171297825806958 and parameters: {'learning_rate': 0.011944273162398024, 'reg_lambda': 9.025425125105881, 'reg_alpha': 4.72164337798884, 'subsample': 0.6870918560508749, 'colsample_bytree': 0.10177242259328176, 'max_depth': 5}. Best is trial 73 with value: 0.7169119261340184.\u001b[0m\n"
     ]
    },
    {
     "name": "stdout",
     "output_type": "stream",
     "text": [
      "[20:11:35] WARNING: C:/Users/Administrator/workspace/xgboost-win64_release_1.4.0/src/learner.cc:231: Only 1 GPUs are visible, setting `gpu_id` to 0\n",
      "[0]\tvalidation_0-rmse:7.68689\n",
      "[1000]\tvalidation_0-rmse:0.72572\n",
      "[2000]\tvalidation_0-rmse:0.72058\n",
      "[3000]\tvalidation_0-rmse:0.71877\n",
      "[4000]\tvalidation_0-rmse:0.71796\n",
      "[5000]\tvalidation_0-rmse:0.71753\n",
      "[6000]\tvalidation_0-rmse:0.71733\n",
      "[6999]\tvalidation_0-rmse:0.71726\n"
     ]
    },
    {
     "name": "stderr",
     "output_type": "stream",
     "text": [
      "\u001b[32m[I 2021-08-29 20:13:01,721]\u001b[0m Trial 84 finished with value: 0.7172474333045327 and parameters: {'learning_rate': 0.012065056819637363, 'reg_lambda': 10.677707405576154, 'reg_alpha': 0.4362234970063634, 'subsample': 0.6756479736087438, 'colsample_bytree': 0.16464657272017627, 'max_depth': 5}. Best is trial 73 with value: 0.7169119261340184.\u001b[0m\n"
     ]
    },
    {
     "name": "stdout",
     "output_type": "stream",
     "text": [
      "[20:13:02] WARNING: C:/Users/Administrator/workspace/xgboost-win64_release_1.4.0/src/learner.cc:231: Only 1 GPUs are visible, setting `gpu_id` to 0\n",
      "[0]\tvalidation_0-rmse:7.68441\n",
      "[1000]\tvalidation_0-rmse:0.72465\n",
      "[2000]\tvalidation_0-rmse:0.72031\n",
      "[3000]\tvalidation_0-rmse:0.71873\n",
      "[4000]\tvalidation_0-rmse:0.71797\n",
      "[5000]\tvalidation_0-rmse:0.71760\n",
      "[6000]\tvalidation_0-rmse:0.71744\n",
      "[6999]\tvalidation_0-rmse:0.71737\n"
     ]
    },
    {
     "name": "stderr",
     "output_type": "stream",
     "text": [
      "\u001b[32m[I 2021-08-29 20:14:29,282]\u001b[0m Trial 85 finished with value: 0.7173572706832093 and parameters: {'learning_rate': 0.012385108116403304, 'reg_lambda': 9.08733672114924, 'reg_alpha': 0.3460579602262549, 'subsample': 0.6897193719089343, 'colsample_bytree': 0.17379124108533778, 'max_depth': 5}. Best is trial 73 with value: 0.7169119261340184.\u001b[0m\n"
     ]
    },
    {
     "name": "stdout",
     "output_type": "stream",
     "text": [
      "[20:14:30] WARNING: C:/Users/Administrator/workspace/xgboost-win64_release_1.4.0/src/learner.cc:231: Only 1 GPUs are visible, setting `gpu_id` to 0\n",
      "[0]\tvalidation_0-rmse:7.68724\n",
      "[1000]\tvalidation_0-rmse:0.72374\n",
      "[2000]\tvalidation_0-rmse:0.72011\n",
      "[3000]\tvalidation_0-rmse:0.71888\n",
      "[4000]\tvalidation_0-rmse:0.71840\n",
      "[4581]\tvalidation_0-rmse:0.71840\n"
     ]
    },
    {
     "name": "stderr",
     "output_type": "stream",
     "text": [
      "\u001b[32m[I 2021-08-29 20:15:48,185]\u001b[0m Trial 86 finished with value: 0.718367483747476 and parameters: {'learning_rate': 0.012018577979824587, 'reg_lambda': 18.60866214374476, 'reg_alpha': 0.5651102516351315, 'subsample': 0.7451388851262475, 'colsample_bytree': 0.47681245003905026, 'max_depth': 6}. Best is trial 73 with value: 0.7169119261340184.\u001b[0m\n"
     ]
    },
    {
     "name": "stdout",
     "output_type": "stream",
     "text": [
      "[20:15:49] WARNING: C:/Users/Administrator/workspace/xgboost-win64_release_1.4.0/src/learner.cc:231: Only 1 GPUs are visible, setting `gpu_id` to 0\n",
      "[0]\tvalidation_0-rmse:7.69434\n",
      "[1000]\tvalidation_0-rmse:0.72530\n",
      "[2000]\tvalidation_0-rmse:0.71991\n",
      "[3000]\tvalidation_0-rmse:0.71824\n",
      "[4000]\tvalidation_0-rmse:0.71752\n",
      "[5000]\tvalidation_0-rmse:0.71721\n",
      "[6000]\tvalidation_0-rmse:0.71713\n",
      "[6112]\tvalidation_0-rmse:0.71712\n"
     ]
    },
    {
     "name": "stderr",
     "output_type": "stream",
     "text": [
      "\u001b[32m[I 2021-08-29 20:17:23,199]\u001b[0m Trial 87 finished with value: 0.7171213715266329 and parameters: {'learning_rate': 0.011097847237500461, 'reg_lambda': 3.6209912031848246, 'reg_alpha': 8.090105684834962, 'subsample': 0.67154712106621, 'colsample_bytree': 0.15530766584006014, 'max_depth': 6}. Best is trial 73 with value: 0.7169119261340184.\u001b[0m\n"
     ]
    },
    {
     "name": "stdout",
     "output_type": "stream",
     "text": [
      "[20:17:24] WARNING: C:/Users/Administrator/workspace/xgboost-win64_release_1.4.0/src/learner.cc:231: Only 1 GPUs are visible, setting `gpu_id` to 0\n",
      "[0]\tvalidation_0-rmse:7.69768\n",
      "[1000]\tvalidation_0-rmse:0.72312\n",
      "[2000]\tvalidation_0-rmse:0.71933\n",
      "[3000]\tvalidation_0-rmse:0.71818\n",
      "[4000]\tvalidation_0-rmse:0.71779\n",
      "[4404]\tvalidation_0-rmse:0.71777\n"
     ]
    },
    {
     "name": "stderr",
     "output_type": "stream",
     "text": [
      "\u001b[32m[I 2021-08-29 20:18:55,730]\u001b[0m Trial 88 finished with value: 0.7177640731948702 and parameters: {'learning_rate': 0.010663493837042579, 'reg_lambda': 6.117992406025591, 'reg_alpha': 6.542613145026202, 'subsample': 0.7094287583303602, 'colsample_bytree': 0.24071189623498546, 'max_depth': 7}. Best is trial 73 with value: 0.7169119261340184.\u001b[0m\n"
     ]
    },
    {
     "name": "stdout",
     "output_type": "stream",
     "text": [
      "[20:18:56] WARNING: C:/Users/Administrator/workspace/xgboost-win64_release_1.4.0/src/learner.cc:231: Only 1 GPUs are visible, setting `gpu_id` to 0\n",
      "[0]\tvalidation_0-rmse:7.66241\n",
      "[1000]\tvalidation_0-rmse:0.72150\n",
      "[2000]\tvalidation_0-rmse:0.71861\n",
      "[3000]\tvalidation_0-rmse:0.71787\n",
      "[4000]\tvalidation_0-rmse:0.71782\n",
      "[4073]\tvalidation_0-rmse:0.71781\n"
     ]
    },
    {
     "name": "stderr",
     "output_type": "stream",
     "text": [
      "\u001b[32m[I 2021-08-29 20:20:00,863]\u001b[0m Trial 89 finished with value: 0.7177674608213843 and parameters: {'learning_rate': 0.015240558045472452, 'reg_lambda': 3.2218493022015884, 'reg_alpha': 0.7030570653751274, 'subsample': 0.6816808936651573, 'colsample_bytree': 0.20775310704605576, 'max_depth': 6}. Best is trial 73 with value: 0.7169119261340184.\u001b[0m\n"
     ]
    },
    {
     "name": "stdout",
     "output_type": "stream",
     "text": [
      "[20:20:02] WARNING: C:/Users/Administrator/workspace/xgboost-win64_release_1.4.0/src/learner.cc:231: Only 1 GPUs are visible, setting `gpu_id` to 0\n",
      "[0]\tvalidation_0-rmse:7.67490\n",
      "[1000]\tvalidation_0-rmse:0.72348\n",
      "[2000]\tvalidation_0-rmse:0.71891\n",
      "[3000]\tvalidation_0-rmse:0.71769\n",
      "[4000]\tvalidation_0-rmse:0.71730\n",
      "[5000]\tvalidation_0-rmse:0.71722\n",
      "[5070]\tvalidation_0-rmse:0.71721\n"
     ]
    },
    {
     "name": "stderr",
     "output_type": "stream",
     "text": [
      "\u001b[32m[I 2021-08-29 20:21:22,952]\u001b[0m Trial 90 finished with value: 0.7172009521743992 and parameters: {'learning_rate': 0.013622307708593302, 'reg_lambda': 30.544865822597117, 'reg_alpha': 2.933479031179102, 'subsample': 0.7540790447907044, 'colsample_bytree': 0.14963134855210028, 'max_depth': 6}. Best is trial 73 with value: 0.7169119261340184.\u001b[0m\n"
     ]
    },
    {
     "name": "stdout",
     "output_type": "stream",
     "text": [
      "[20:21:24] WARNING: C:/Users/Administrator/workspace/xgboost-win64_release_1.4.0/src/learner.cc:231: Only 1 GPUs are visible, setting `gpu_id` to 0\n",
      "[0]\tvalidation_0-rmse:7.67391\n",
      "[1000]\tvalidation_0-rmse:0.72335\n",
      "[2000]\tvalidation_0-rmse:0.71889\n",
      "[3000]\tvalidation_0-rmse:0.71768\n",
      "[4000]\tvalidation_0-rmse:0.71731\n",
      "[4804]\tvalidation_0-rmse:0.71724\n"
     ]
    },
    {
     "name": "stderr",
     "output_type": "stream",
     "text": [
      "\u001b[32m[I 2021-08-29 20:22:43,128]\u001b[0m Trial 91 finished with value: 0.7172203757892235 and parameters: {'learning_rate': 0.013750916356538155, 'reg_lambda': 26.726401586008343, 'reg_alpha': 2.2199272905493883, 'subsample': 0.8287711039534882, 'colsample_bytree': 0.15107391243252727, 'max_depth': 6}. Best is trial 73 with value: 0.7169119261340184.\u001b[0m\n"
     ]
    },
    {
     "name": "stdout",
     "output_type": "stream",
     "text": [
      "[20:22:44] WARNING: C:/Users/Administrator/workspace/xgboost-win64_release_1.4.0/src/learner.cc:231: Only 1 GPUs are visible, setting `gpu_id` to 0\n",
      "[0]\tvalidation_0-rmse:7.67351\n",
      "[1000]\tvalidation_0-rmse:0.72336\n",
      "[2000]\tvalidation_0-rmse:0.71890\n",
      "[3000]\tvalidation_0-rmse:0.71772\n",
      "[4000]\tvalidation_0-rmse:0.71740\n",
      "[4915]\tvalidation_0-rmse:0.71733\n"
     ]
    },
    {
     "name": "stderr",
     "output_type": "stream",
     "text": [
      "\u001b[32m[I 2021-08-29 20:24:04,674]\u001b[0m Trial 92 finished with value: 0.717321278217554 and parameters: {'learning_rate': 0.013803005714168527, 'reg_lambda': 33.66165565562012, 'reg_alpha': 0.19547809348067785, 'subsample': 0.8266732637143269, 'colsample_bytree': 0.15609574175103735, 'max_depth': 6}. Best is trial 73 with value: 0.7169119261340184.\u001b[0m\n"
     ]
    },
    {
     "name": "stdout",
     "output_type": "stream",
     "text": [
      "[20:24:05] WARNING: C:/Users/Administrator/workspace/xgboost-win64_release_1.4.0/src/learner.cc:231: Only 1 GPUs are visible, setting `gpu_id` to 0\n",
      "[0]\tvalidation_0-rmse:7.64473\n",
      "[1000]\tvalidation_0-rmse:0.72024\n",
      "[2000]\tvalidation_0-rmse:0.71764\n",
      "[3000]\tvalidation_0-rmse:0.71744\n",
      "[3074]\tvalidation_0-rmse:0.71746\n"
     ]
    },
    {
     "name": "stderr",
     "output_type": "stream",
     "text": [
      "\u001b[32m[I 2021-08-29 20:25:07,674]\u001b[0m Trial 93 finished with value: 0.7174161751834476 and parameters: {'learning_rate': 0.017537572174286236, 'reg_lambda': 14.307369260943307, 'reg_alpha': 1.9505371595514653, 'subsample': 0.7293454332560936, 'colsample_bytree': 0.1468372501476414, 'max_depth': 7}. Best is trial 73 with value: 0.7169119261340184.\u001b[0m\n"
     ]
    },
    {
     "name": "stdout",
     "output_type": "stream",
     "text": [
      "[20:25:08] WARNING: C:/Users/Administrator/workspace/xgboost-win64_release_1.4.0/src/learner.cc:231: Only 1 GPUs are visible, setting `gpu_id` to 0\n",
      "[0]\tvalidation_0-rmse:7.66364\n",
      "[1000]\tvalidation_0-rmse:0.72230\n",
      "[2000]\tvalidation_0-rmse:0.71903\n",
      "[3000]\tvalidation_0-rmse:0.71791\n",
      "[4000]\tvalidation_0-rmse:0.71762\n",
      "[4490]\tvalidation_0-rmse:0.71761\n"
     ]
    },
    {
     "name": "stderr",
     "output_type": "stream",
     "text": [
      "\u001b[32m[I 2021-08-29 20:26:22,729]\u001b[0m Trial 94 finished with value: 0.7175993353733289 and parameters: {'learning_rate': 0.015084349679212981, 'reg_lambda': 46.694093010873374, 'reg_alpha': 6.694554230731417, 'subsample': 0.7761258458037585, 'colsample_bytree': 0.27684526457275943, 'max_depth': 6}. Best is trial 73 with value: 0.7169119261340184.\u001b[0m\n"
     ]
    },
    {
     "name": "stdout",
     "output_type": "stream",
     "text": [
      "[20:26:24] WARNING: C:/Users/Administrator/workspace/xgboost-win64_release_1.4.0/src/learner.cc:231: Only 1 GPUs are visible, setting `gpu_id` to 0\n",
      "[0]\tvalidation_0-rmse:7.67799\n",
      "[1000]\tvalidation_0-rmse:0.72299\n",
      "[2000]\tvalidation_0-rmse:0.71914\n",
      "[3000]\tvalidation_0-rmse:0.71800\n",
      "[4000]\tvalidation_0-rmse:0.71760\n",
      "[4968]\tvalidation_0-rmse:0.71749\n"
     ]
    },
    {
     "name": "stderr",
     "output_type": "stream",
     "text": [
      "\u001b[32m[I 2021-08-29 20:27:39,240]\u001b[0m Trial 95 finished with value: 0.7174765769967973 and parameters: {'learning_rate': 0.013220376725518986, 'reg_lambda': 24.88048343039494, 'reg_alpha': 1.188074614778993, 'subsample': 0.6240297373144361, 'colsample_bytree': 0.17508512895100664, 'max_depth': 6}. Best is trial 73 with value: 0.7169119261340184.\u001b[0m\n"
     ]
    },
    {
     "name": "stdout",
     "output_type": "stream",
     "text": [
      "[20:27:40] WARNING: C:/Users/Administrator/workspace/xgboost-win64_release_1.4.0/src/learner.cc:231: Only 1 GPUs are visible, setting `gpu_id` to 0\n",
      "[0]\tvalidation_0-rmse:7.68930\n",
      "[1000]\tvalidation_0-rmse:0.72541\n",
      "[2000]\tvalidation_0-rmse:0.72072\n",
      "[3000]\tvalidation_0-rmse:0.71901\n",
      "[4000]\tvalidation_0-rmse:0.71820\n",
      "[5000]\tvalidation_0-rmse:0.71778\n",
      "[6000]\tvalidation_0-rmse:0.71761\n",
      "[6999]\tvalidation_0-rmse:0.71756\n"
     ]
    },
    {
     "name": "stderr",
     "output_type": "stream",
     "text": [
      "\u001b[32m[I 2021-08-29 20:29:37,921]\u001b[0m Trial 96 finished with value: 0.7175550911835378 and parameters: {'learning_rate': 0.011756224996412792, 'reg_lambda': 85.32752450480415, 'reg_alpha': 35.40105428115664, 'subsample': 0.8354913668665455, 'colsample_bytree': 0.22238696802867736, 'max_depth': 6}. Best is trial 73 with value: 0.7169119261340184.\u001b[0m\n"
     ]
    },
    {
     "name": "stdout",
     "output_type": "stream",
     "text": [
      "[20:29:39] WARNING: C:/Users/Administrator/workspace/xgboost-win64_release_1.4.0/src/learner.cc:231: Only 1 GPUs are visible, setting `gpu_id` to 0\n",
      "[0]\tvalidation_0-rmse:7.63598\n",
      "[1000]\tvalidation_0-rmse:0.72086\n",
      "[2000]\tvalidation_0-rmse:0.71802\n",
      "[3000]\tvalidation_0-rmse:0.71744\n",
      "[4000]\tvalidation_0-rmse:0.71742\n",
      "[4040]\tvalidation_0-rmse:0.71742\n"
     ]
    },
    {
     "name": "stderr",
     "output_type": "stream",
     "text": [
      "\u001b[32m[I 2021-08-29 20:30:40,155]\u001b[0m Trial 97 finished with value: 0.7173690207110963 and parameters: {'learning_rate': 0.018673727237094442, 'reg_lambda': 5.33214670254417, 'reg_alpha': 3.692281276550072, 'subsample': 0.646854725143019, 'colsample_bytree': 0.14328177227517755, 'max_depth': 6}. Best is trial 73 with value: 0.7169119261340184.\u001b[0m\n"
     ]
    },
    {
     "name": "stdout",
     "output_type": "stream",
     "text": [
      "[20:30:41] WARNING: C:/Users/Administrator/workspace/xgboost-win64_release_1.4.0/src/learner.cc:231: Only 1 GPUs are visible, setting `gpu_id` to 0\n",
      "[0]\tvalidation_0-rmse:7.69334\n",
      "[1000]\tvalidation_0-rmse:0.72787\n",
      "[2000]\tvalidation_0-rmse:0.72107\n",
      "[3000]\tvalidation_0-rmse:0.71868\n",
      "[4000]\tvalidation_0-rmse:0.71778\n",
      "[5000]\tvalidation_0-rmse:0.71737\n",
      "[6000]\tvalidation_0-rmse:0.71719\n",
      "[6999]\tvalidation_0-rmse:0.71712\n"
     ]
    },
    {
     "name": "stderr",
     "output_type": "stream",
     "text": [
      "\u001b[32m[I 2021-08-29 20:32:28,964]\u001b[0m Trial 98 finished with value: 0.7171147064675906 and parameters: {'learning_rate': 0.011228487579705387, 'reg_lambda': 12.360183215832858, 'reg_alpha': 10.554912050577249, 'subsample': 0.7964916478773698, 'colsample_bytree': 0.11772466556467015, 'max_depth': 6}. Best is trial 73 with value: 0.7169119261340184.\u001b[0m\n"
     ]
    },
    {
     "name": "stdout",
     "output_type": "stream",
     "text": [
      "[20:32:30] WARNING: C:/Users/Administrator/workspace/xgboost-win64_release_1.4.0/src/learner.cc:231: Only 1 GPUs are visible, setting `gpu_id` to 0\n",
      "[0]\tvalidation_0-rmse:7.69265\n",
      "[1000]\tvalidation_0-rmse:0.72453\n",
      "[2000]\tvalidation_0-rmse:0.71982\n",
      "[3000]\tvalidation_0-rmse:0.71831\n",
      "[4000]\tvalidation_0-rmse:0.71762\n",
      "[5000]\tvalidation_0-rmse:0.71730\n",
      "[6000]\tvalidation_0-rmse:0.71721\n",
      "[6141]\tvalidation_0-rmse:0.71723\n"
     ]
    },
    {
     "name": "stderr",
     "output_type": "stream",
     "text": [
      "\u001b[32m[I 2021-08-29 20:34:11,483]\u001b[0m Trial 99 finished with value: 0.7172095737207993 and parameters: {'learning_rate': 0.011317078535432935, 'reg_lambda': 10.046690254077859, 'reg_alpha': 11.950519329184143, 'subsample': 0.8080841261613334, 'colsample_bytree': 0.19953454892298766, 'max_depth': 6}. Best is trial 73 with value: 0.7169119261340184.\u001b[0m\n"
     ]
    }
   ],
   "source": [
    "# Model 2\n",
    "df = pd.read_csv(\"data/train_folds.csv\")\n",
    "df_test = pd.read_csv(\"data/test.csv\")\n",
    "sample_submission = pd.read_csv(\"data/sample_submission.csv\")\n",
    "\n",
    "useful_features = [c for c in df.columns if c not in (\"id\", \"target\", \"kfold\")]\n",
    "object_cols = [col for col in useful_features if 'cat' in col]\n",
    "df_test = df_test[useful_features]\n",
    "\n",
    "study = optuna.create_study(direction=\"minimize\")\n",
    "study.optimize(run, n_trials=100) #100"
   ]
  },
  {
   "cell_type": "code",
   "execution_count": 8,
   "metadata": {},
   "outputs": [
    {
     "data": {
      "text/plain": [
       "{'learning_rate': 0.015603699193600313,\n",
       " 'reg_lambda': 0.001158068570366239,\n",
       " 'reg_alpha': 16.448429406371936,\n",
       " 'subsample': 0.5948693703077814,\n",
       " 'colsample_bytree': 0.12425047105688761,\n",
       " 'max_depth': 5}"
      ]
     },
     "execution_count": 8,
     "metadata": {},
     "output_type": "execute_result"
    }
   ],
   "source": [
    "study.best_params"
   ]
  },
  {
   "cell_type": "code",
   "execution_count": null,
   "metadata": {},
   "outputs": [],
   "source": []
  }
 ],
 "metadata": {
  "kernelspec": {
   "display_name": "Python 3",
   "language": "python",
   "name": "python3"
  },
  "language_info": {
   "codemirror_mode": {
    "name": "ipython",
    "version": 3
   },
   "file_extension": ".py",
   "mimetype": "text/x-python",
   "name": "python",
   "nbconvert_exporter": "python",
   "pygments_lexer": "ipython3",
   "version": "3.6.10"
  }
 },
 "nbformat": 4,
 "nbformat_minor": 4
}
